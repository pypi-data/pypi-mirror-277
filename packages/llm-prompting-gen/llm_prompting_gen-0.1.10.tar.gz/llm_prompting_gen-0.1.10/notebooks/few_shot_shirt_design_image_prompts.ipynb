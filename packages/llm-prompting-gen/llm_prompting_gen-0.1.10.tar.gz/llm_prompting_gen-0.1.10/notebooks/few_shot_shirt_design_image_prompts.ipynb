{
 "cells": [
  {
   "cell_type": "markdown",
   "id": "cbd470da-fde7-4b54-b9dc-0c6dec20d37b",
   "metadata": {},
   "source": [
    "# Midjourney Few Shot Example\n",
    "This notebook shows how you can use llm prompting gen to create midjourney prompts. We will create a `ParsablePromptEngineeringGenerator` instance with the midjourney_prompt_gen template in order to create Text-to-Image prompts. The prompts should create images in the style of t-shirt designs, similar to the few-shot examples. "
   ]
  },
  {
   "cell_type": "markdown",
   "id": "4ade1a3f-1a94-41b1-b4c1-52e3d6316484",
   "metadata": {},
   "source": [
    "## Setup\n",
    "import required modules and create MidjourneyPromptGenerator instance"
   ]
  },
  {
   "cell_type": "code",
   "execution_count": 1,
   "id": "1dea6131-02aa-43f0-bd10-dde7bf849715",
   "metadata": {},
   "outputs": [],
   "source": [
    "import os\n",
    "import sys\n",
    "from IPython.display import JSON\n",
    "from typing import List\n",
    "from pydantic import BaseModel, Field\n",
    "from langchain.chat_models import ChatOpenAI\n",
    "from llm_prompting_gen.generators import ParsablePromptEngineeringGenerator"
   ]
  },
  {
   "cell_type": "code",
   "execution_count": 2,
   "id": "8735d1b4-5222-4224-80f4-e1872bd17409",
   "metadata": {},
   "outputs": [
    {
     "name": "stdout",
     "output_type": "stream",
     "text": [
      "Change working directory to project root\n"
     ]
    }
   ],
   "source": [
    "if \"notebooks\" in os.getcwd():\n",
    "    print(\"Change working directory to project root\")\n",
    "    os.chdir(\"..\")"
   ]
  },
  {
   "cell_type": "markdown",
   "id": "35cd77ee-bc80-4964-b7fd-52b19ae4f5ea",
   "metadata": {},
   "source": [
    "Add your open ai key from https://platform.openai.com/account/api-keys"
   ]
  },
  {
   "cell_type": "code",
   "execution_count": 3,
   "id": "ccea7c22-60aa-4917-ba77-8bc691fcab64",
   "metadata": {},
   "outputs": [],
   "source": [
    "os.environ[\"OPENAI_API_KEY\"] = \"\""
   ]
  },
  {
   "cell_type": "code",
   "execution_count": 4,
   "id": "6a385c28-f026-4519-b999-63602013dfa9",
   "metadata": {},
   "outputs": [],
   "source": [
    "# Create pydantic in order to define output format \n",
    "class ImagePromptOutputModel(BaseModel):\n",
    "    \"\"\"LLM output format of image prompt generator\"\"\"\n",
    "    few_shot_styles: List[str] = Field(description=\"Styles existing in the example prompts\")\n",
    "    few_shot_artists: List[str] = Field(description=\"Artists existing in the example prompts\")\n",
    "    image_prompts: List[str] = Field(description=\"List of text-to-image prompts\")\n"
   ]
  },
  {
   "cell_type": "code",
   "execution_count": 5,
   "id": "8b4bb45a-769a-4944-b80f-2e9ab05bed35",
   "metadata": {},
   "outputs": [],
   "source": [
    "llm = ChatOpenAI(temperature=0.7)\n",
    "prompt_generator = ParsablePromptEngineeringGenerator.from_json(\"templates/midjourney_prompt_gen_shirt_design_cartoon_style.json\", llm=llm, pydantic_cls=ImagePromptOutputModel)\n",
    "# Change input text in order to match the pydantic target format\n",
    "prompt_generator.prompt_elements.input = \"\"\"\n",
    "Complete the following tasks in the right order:\n",
    "1. Try to extract the overarching styles or artists from the example prompts given to you by the instructor. Please only extract them if they appear in at least one example prompt.\n",
    "2. Write five concise english prompts with the content \"{text}\". Your suggestions should include your found styles or artists of step 1 and use the same patterns as the example prompts.\n",
    "    \"\"\""
   ]
  },
  {
   "cell_type": "markdown",
   "id": "094ab143-7a20-44c0-8dde-69ebb846df04",
   "metadata": {},
   "source": [
    "## Prompt Engineering Elements"
   ]
  },
  {
   "cell_type": "code",
   "execution_count": 6,
   "id": "39ecb17a-000f-4b35-8ab7-9f727f5d53ce",
   "metadata": {},
   "outputs": [
    {
     "name": "stderr",
     "output_type": "stream",
     "text": [
      "/var/folders/5y/y83crpz5411g7gh8cnzf5_tc0000gn/T/ipykernel_24401/1543686729.py:1: PydanticDeprecatedSince20: The `dict` method is deprecated; use `model_dump` instead. Deprecated in Pydantic V2.0 to be removed in V3.0. See Pydantic V2 Migration Guide at https://errors.pydantic.dev/2.4/migration/\n",
      "  JSON(prompt_generator.prompt_elements.dict())\n"
     ]
    },
    {
     "data": {
      "application/json": {
       "context": "Midjourney is an artificial intelligence-powered artwork generator. It explores new thought mediums and expands the human species' imaginative powers. It is a small self-funded team focused on design, human infrastructure, and artificial intelligence. \nMidjourney routinely releases new model versions to improve efficiency, coherency, and quality. The latest model is the default, but other models can be used using the --version or --v parameter or by using the /settings command and selecting a model version. Different models excel at different types of images.\nThe Midjourney V5 model is the newest and most advanced model, released on March 15th, 2023. To use this model, add the --v 5 parameter to the end of a prompt, or use the /settings command and select 5️⃣ MJ Version 5. This model has very high Coherency, excels at interpreting natural language prompts, is higher resolution, and supports advanced features like repeating patterns with --tile\nA Prompt is a short text phrase that the Midjourney Bot interprets to produce an image. The Midjourney Bot breaks down the words and phrases in a prompt into smaller pieces, called tokens, that can be compared to its training data and then used to generate an image. A well-crafted prompt can help make unique and exciting images.\nPrompts can be very simple. Single words (or even an emoji!) will produce an image. Very short prompts will rely heavily on Midjourney’s default style, so a more descriptive prompt is better for a unique look. However, super-long prompts aren’t always better. Concentrate on the main concepts you want to create.\nThe Midjourney Bot does not understand grammar, sentence structure, or words like humans. Word choice also matters. More specific synonyms work better in many circumstances. Instead of big, try gigantic, enormous, or immense. Remove words when possible. Fewer words mean each word has a more powerful influence. Use commas, brackets, and hyphens to help organize your thoughts, but know the Midjourney Bot will not reliably interpret them. The Midjourney Bot does not consider capitalization. Midjourney Model Version 4 is slightly better than other models at interpreting traditional sentence structure.\nIt is better to describe what you want instead of what you don’t want. If you ask for a party with “no cake,” your image will probably include a cake. If you want to ensure an object is not in the final image, try advance prompting using the --no parameter.\nAnything left unsaid may suprise you. Be as specific or vague as you want, but anything you leave out will be randomized. Being vague is a great way to get variety, but you may not get the specific details you want.\n\nTry to be clear about any context or details that are important to you. Think about:\n\nSubject: person, animal, character, location, object, etc.\nMedium: photo, painting, illustration, sculpture, doodle, tapestry, etc.\nEnvironment: indoors, outdoors, on the moon, in Narnia, underwater, the Emerald City, etc.\nLighting: soft, ambient, overcast, neon, studio lights, etc\nColor: vibrant, muted, bright, monochromatic, colorful, black and white, pastel, etc.\nMood: Sedate, calm, raucous, energetic, etc.\nComposition: Portrait, headshot, closeup, birds-eye view, etc.\nHow to Switch Models\nUse the Version or Test Parameter\nAdd --v 4 --v 5 --v 5.1 --v 5.1 --style raw --v 5.2 --v 5.2 --style raw --niji 5 --niji 5 --style cute --niji 5 --style expressive --niji 5 --style original or --niji 5 --style scenic to the end of your prompt.",
       "examples": [
        "A cartoonish frog, bright colors. T-shirt design graphic, vector, contour, white background, without any text",
        "realistic patriotic native American skull , cartoon character, vector art, process art, t shirt design, 8K, best quality, trending, perfect line work, perfect stroke, vector illustration, flat design, digital drawing, t shirt design --niji 5 --v 5",
        "A cartoonish motocyclist, bright colors. T - shirt design graphic, vector, contour, white background",
        "realistic space unicorn cartoon character, vector art, process art, t shirt design, 8K, best quality, trending, perfect line work, perfect stroke, vector illustration, flat design, digital drawing, t shirt design --niji 5 --v 5"
       ],
       "examples_intro": "Here are some example prompts. Try to understand the underlying format of prompts in order to create new creative prompts yourself later.",
       "input": "\nComplete the following tasks in the right order:\n1. Try to extract the overarching styles or artists from the example prompts given to you by the instructor. Please only extract them if they appear in at least one example prompt.\n2. Write five concise english prompts with the content \"{text}\". Your suggestions should include your found styles or artists of step 1 and use the same patterns as the example prompts.\n    ",
       "instruction": "Your task is to help create text-to-image prompts.",
       "output_format": "The output should be formatted as a JSON instance that conforms to the JSON schema below.\n\nAs an example, for the schema {\"properties\": {\"foo\": {\"title\": \"Foo\", \"description\": \"a list of strings\", \"type\": \"array\", \"items\": {\"type\": \"string\"}}}, \"required\": [\"foo\"]}\nthe object {\"foo\": [\"bar\", \"baz\"]} is a well-formatted instance of the schema. The object {\"properties\": {\"foo\": [\"bar\", \"baz\"]}} is not well-formatted.\n\nHere is the output schema:\n```\n{\"description\": \"LLM output format of image prompt generator\", \"properties\": {\"few_shot_styles\": {\"description\": \"Styles existing in the example prompts\", \"items\": {\"type\": \"string\"}, \"title\": \"Few Shot Styles\", \"type\": \"array\"}, \"few_shot_artists\": {\"description\": \"Artists existing in the example prompts\", \"items\": {\"type\": \"string\"}, \"title\": \"Few Shot Artists\", \"type\": \"array\"}, \"image_prompts\": {\"description\": \"List of text-to-image prompts\", \"items\": {\"type\": \"string\"}, \"title\": \"Image Prompts\", \"type\": \"array\"}}, \"required\": [\"few_shot_styles\", \"few_shot_artists\", \"image_prompts\"]}\n```",
       "role": "You are a helpful assistant."
      },
      "text/plain": [
       "<IPython.core.display.JSON object>"
      ]
     },
     "execution_count": 6,
     "metadata": {
      "application/json": {
       "expanded": false,
       "root": "root"
      }
     },
     "output_type": "execute_result"
    }
   ],
   "source": [
    "JSON(prompt_generator.prompt_elements.dict())"
   ]
  },
  {
   "cell_type": "markdown",
   "id": "f045ca3f-4ee2-48e9-9afe-b56217e87eb2",
   "metadata": {},
   "source": [
    "## Few shot prompt examples"
   ]
  },
  {
   "cell_type": "code",
   "execution_count": 8,
   "id": "97aad3cf-a3e6-43e4-91df-2284e4440049",
   "metadata": {},
   "outputs": [
    {
     "name": "stdout",
     "output_type": "stream",
     "text": [
      "Example 0\n",
      "A cartoonish frog, bright colors. T-shirt design graphic, vector, contour, white background, without any text\n",
      "Example 1\n",
      "realistic patriotic native American skull , cartoon character, vector art, process art, t shirt design, 8K, best quality, trending, perfect line work, perfect stroke, vector illustration, flat design, digital drawing, t shirt design --niji 5 --v 5\n",
      "Example 2\n",
      "A cartoonish motocyclist, bright colors. T - shirt design graphic, vector, contour, white background\n"
     ]
    }
   ],
   "source": [
    "prompt_examples = prompt_generator.prompt_elements.examples\n",
    "for i, example in enumerate(prompt_examples[0:3]):\n",
    "    print(f\"Example {i}\")\n",
    "    print(example)"
   ]
  },
  {
   "cell_type": "markdown",
   "id": "0408eab4-f69f-4b2e-8ace-f45bec8ec353",
   "metadata": {},
   "source": [
    "## Prompt generation playground\n",
    "Choose a simple text which gets transformed into high quality midjournes prompt."
   ]
  },
  {
   "cell_type": "code",
   "execution_count": 9,
   "id": "75e9c0dd-882a-476d-92d8-7f7b61b6053e",
   "metadata": {},
   "outputs": [],
   "source": [
    "text = \"\"\"Sloth on tree\"\"\"\n",
    "parsed_output: ImagePromptOutputModel = prompt_generator.generate(text)"
   ]
  },
  {
   "cell_type": "code",
   "execution_count": 10,
   "id": "2e0493a2-ee71-4a32-a397-e0f226cdb9f8",
   "metadata": {},
   "outputs": [
    {
     "name": "stderr",
     "output_type": "stream",
     "text": [
      "/var/folders/5y/y83crpz5411g7gh8cnzf5_tc0000gn/T/ipykernel_24401/3978343034.py:1: PydanticDeprecatedSince20: The `dict` method is deprecated; use `model_dump` instead. Deprecated in Pydantic V2.0 to be removed in V3.0. See Pydantic V2 Migration Guide at https://errors.pydantic.dev/2.4/migration/\n",
      "  JSON(parsed_output.dict())\n"
     ]
    },
    {
     "data": {
      "application/json": {
       "few_shot_artists": [
        "vector art",
        "process art"
       ],
       "few_shot_styles": [
        "cartoonish",
        "realistic"
       ],
       "image_prompts": [
        "A cartoonish sloth on a tree, vibrant colors. T-shirt design graphic, vector art, contour, white background",
        "A realistic sloth on a tree, muted colors. Painting, process art, detailed brushwork",
        "A cartoonish sloth hanging from a tree branch, bright colors. Illustration, vector art, flat design",
        "A realistic sloth resting on a tree, pastel colors. Digital drawing, soft shading",
        "A cartoonish sloth climbing a tree trunk, monochromatic colors. Doodle, simple line work"
       ]
      },
      "text/plain": [
       "<IPython.core.display.JSON object>"
      ]
     },
     "execution_count": 10,
     "metadata": {
      "application/json": {
       "expanded": false,
       "root": "root"
      }
     },
     "output_type": "execute_result"
    }
   ],
   "source": [
    "JSON(parsed_output.dict())"
   ]
  },
  {
   "cell_type": "markdown",
   "id": "97788d7e-0efa-47b4-a70b-e9c95cbc6f3f",
   "metadata": {},
   "source": [
    "As we can see, we are now able to transform a simple text input into a comprehensive text to image prompt suitable for midjourney."
   ]
  }
 ],
 "metadata": {
  "kernelspec": {
   "display_name": "Python 3 (ipykernel)",
   "language": "python",
   "name": "python3"
  },
  "language_info": {
   "codemirror_mode": {
    "name": "ipython",
    "version": 3
   },
   "file_extension": ".py",
   "mimetype": "text/x-python",
   "name": "python",
   "nbconvert_exporter": "python",
   "pygments_lexer": "ipython3",
   "version": "3.10.10"
  }
 },
 "nbformat": 4,
 "nbformat_minor": 5
}
