{
 "cells": [
  {
   "cell_type": "markdown",
   "id": "cbd470da-fde7-4b54-b9dc-0c6dec20d37b",
   "metadata": {},
   "source": [
    "# Keyword Extractor Example\n",
    "This notebook is a showcase for a keyword extraction use case. We will create a `PromptEngineeringGenerator` instance with the `keyword_extractor` template."
   ]
  },
  {
   "cell_type": "markdown",
   "id": "4ade1a3f-1a94-41b1-b4c1-52e3d6316484",
   "metadata": {},
   "source": [
    "## Setup\n",
    "import required modules and create MidjourneyPromptGenerator instance"
   ]
  },
  {
   "cell_type": "code",
   "execution_count": 1,
   "id": "1dea6131-02aa-43f0-bd10-dde7bf849715",
   "metadata": {},
   "outputs": [],
   "source": [
    "import os\n",
    "import sys\n",
    "from IPython.display import JSON\n",
    "from langchain.chat_models import ChatOpenAI\n",
    "from llm_prompting_gen.generators import PromptEngineeringGenerator"
   ]
  },
  {
   "cell_type": "code",
   "execution_count": 2,
   "id": "8735d1b4-5222-4224-80f4-e1872bd17409",
   "metadata": {},
   "outputs": [
    {
     "name": "stdout",
     "output_type": "stream",
     "text": [
      "Change working directory to project root\n"
     ]
    }
   ],
   "source": [
    "if \"notebooks\" in os.getcwd():\n",
    "    print(\"Change working directory to project root\")\n",
    "    os.chdir(\"..\")"
   ]
  },
  {
   "cell_type": "markdown",
   "id": "35cd77ee-bc80-4964-b7fd-52b19ae4f5ea",
   "metadata": {},
   "source": [
    "Add your open ai key from https://platform.openai.com/account/api-keys"
   ]
  },
  {
   "cell_type": "code",
   "execution_count": 3,
   "id": "ccea7c22-60aa-4917-ba77-8bc691fcab64",
   "metadata": {},
   "outputs": [],
   "source": [
    "os.environ[\"OPENAI_API_KEY\"] = \"\""
   ]
  },
  {
   "cell_type": "code",
   "execution_count": 4,
   "id": "8b4bb45a-769a-4944-b80f-2e9ab05bed35",
   "metadata": {},
   "outputs": [],
   "source": [
    "llm = ChatOpenAI(temperature=0.7)\n",
    "keyword_extractor = PromptEngineeringGenerator.from_json(\"templates/keyword_extractor.json\", llm)"
   ]
  },
  {
   "cell_type": "markdown",
   "id": "253749cb-52c9-420f-bbca-a8c2b0adf451",
   "metadata": {},
   "source": [
    "## Prompt Engineering Elements"
   ]
  },
  {
   "cell_type": "code",
   "execution_count": 5,
   "id": "c86312b4-ea58-47af-ae27-27083bed0bd7",
   "metadata": {},
   "outputs": [
    {
     "name": "stderr",
     "output_type": "stream",
     "text": [
      "/var/folders/5y/y83crpz5411g7gh8cnzf5_tc0000gn/T/ipykernel_24406/319924284.py:1: PydanticDeprecatedSince20: The `dict` method is deprecated; use `model_dump` instead. Deprecated in Pydantic V2.0 to be removed in V3.0. See Pydantic V2 Migration Guide at https://errors.pydantic.dev/2.4/migration/\n",
      "  JSON(keyword_extractor.prompt_elements.dict())\n"
     ]
    },
    {
     "data": {
      "application/json": {
       "context": null,
       "examples": null,
       "input": "'''{text}'''",
       "instruction": "Transform the input text delimited by ''' into a list of keywords.",
       "output_format": "The output should be in the format of an comma separated list. For example 'keyword1,keyword2,keyowrd3'",
       "role": "You are a keyword extractor."
      },
      "text/plain": [
       "<IPython.core.display.JSON object>"
      ]
     },
     "execution_count": 5,
     "metadata": {
      "application/json": {
       "expanded": false,
       "root": "root"
      }
     },
     "output_type": "execute_result"
    }
   ],
   "source": [
    "JSON(keyword_extractor.prompt_elements.dict())"
   ]
  },
  {
   "cell_type": "markdown",
   "id": "0408eab4-f69f-4b2e-8ace-f45bec8ec353",
   "metadata": {},
   "source": [
    "## Keyword Extraction Playground\n",
    "Choose a simple text which gets transformed into high quality midjournes prompt."
   ]
  },
  {
   "cell_type": "code",
   "execution_count": 7,
   "id": "75e9c0dd-882a-476d-92d8-7f7b61b6053e",
   "metadata": {},
   "outputs": [
    {
     "name": "stderr",
     "output_type": "stream",
     "text": [
      "WARNING:root:'message_order' does not include fields {'examples', 'context'}. They will be ignored for chat prompt template creation\n"
     ]
    },
    {
     "data": {
      "text/plain": [
       "['generative artificial intelligence',\n",
       " ' generative AI',\n",
       " ' GenAI',\n",
       " ' artificial intelligence',\n",
       " ' generating text',\n",
       " ' images',\n",
       " ' media',\n",
       " ' generative models',\n",
       " ' patterns',\n",
       " ' structure',\n",
       " ' input training data',\n",
       " ' new data',\n",
       " ' characteristics',\n",
       " ' transformer-based deep neural networks',\n",
       " ' generative AI systems',\n",
       " ' natural language prompts',\n",
       " ' large language model chatbots',\n",
       " ' ChatGPT',\n",
       " ' Bing Chat',\n",
       " ' Bard',\n",
       " ' LLaMA',\n",
       " ' text-to-image artificial intelligence art systems',\n",
       " ' Stable Diffusion',\n",
       " ' Midjourney',\n",
       " ' DALL-E']"
      ]
     },
     "execution_count": 7,
     "metadata": {},
     "output_type": "execute_result"
    }
   ],
   "source": [
    "# Generative AI wiki article (https://en.wikipedia.org/wiki/Generative_artificial_intelligence)\n",
    "text = \"\"\"\n",
    "Generative artificial intelligence (also generative AI or GenAI[1]) is artificial intelligence capable of generating text, images, or other media, using generative models.[2][3][4] Generative AI models learn the patterns and structure of their input training data and then generate new data that has similar characteristics.[5][6]\n",
    "\n",
    "In the early 2020s, advances in transformer-based deep neural networks enabled a number of generative AI systems notable for accepting natural language prompts as input. These include large language model chatbots such as ChatGPT, Bing Chat, Bard, and LLaMA, and text-to-image artificial intelligence art systems such as Stable Diffusion, Midjourney, and DALL-E.[7][8][9]\n",
    "\"\"\"\n",
    "keywords = keyword_extractor.generate(text)\n",
    "keywords.split(\",\")"
   ]
  },
  {
   "cell_type": "markdown",
   "id": "97788d7e-0efa-47b4-a70b-e9c95cbc6f3f",
   "metadata": {},
   "source": [
    "As we can see, we are now able to transform a text block into a comma seperated list of keywords"
   ]
  }
 ],
 "metadata": {
  "kernelspec": {
   "display_name": "Python 3 (ipykernel)",
   "language": "python",
   "name": "python3"
  },
  "language_info": {
   "codemirror_mode": {
    "name": "ipython",
    "version": 3
   },
   "file_extension": ".py",
   "mimetype": "text/x-python",
   "name": "python",
   "nbconvert_exporter": "python",
   "pygments_lexer": "ipython3",
   "version": "3.10.10"
  }
 },
 "nbformat": 4,
 "nbformat_minor": 5
}
