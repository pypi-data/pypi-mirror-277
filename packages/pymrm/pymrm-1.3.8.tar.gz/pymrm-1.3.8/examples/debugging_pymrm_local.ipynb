{
 "cells": [
  {
   "cell_type": "code",
   "execution_count": null,
   "metadata": {},
   "outputs": [],
   "source": [
    "import sys\n",
    "path_to_local_pymrm = \"d:\\\\Users\\\\eajfpeters\\\\Codes\\\\pymrm\\\\pymrm\"\n",
    "if path_to_local_pymrm not in sys.path:\n",
    "    sys.path.insert(0, path_to_local_pymrm)\n",
    "import pymrm\n",
    "import importlib\n",
    "importlib.reload(pymrm)"
   ]
  }
 ],
 "metadata": {
  "language_info": {
   "name": "python"
  }
 },
 "nbformat": 4,
 "nbformat_minor": 2
}
