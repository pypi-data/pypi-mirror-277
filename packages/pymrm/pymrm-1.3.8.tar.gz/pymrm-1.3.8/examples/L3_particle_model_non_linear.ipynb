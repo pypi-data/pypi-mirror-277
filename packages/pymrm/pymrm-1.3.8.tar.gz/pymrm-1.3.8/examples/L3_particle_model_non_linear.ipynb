{
 "cells": [
  {
   "cell_type": "code",
   "execution_count": 64,
   "metadata": {},
   "outputs": [],
   "source": [
    "import math\n",
    "import numpy as np\n",
    "import matplotlib.pyplot as plt\n",
    "from scipy.sparse import diags_array, csc_array, eye_array\n",
    "import scipy.sparse.linalg as sla\n",
    "import pymrm as mrm\n",
    "from pymrm import construct_grad, construct_div, newton, non_uniform_grid, numjac_local, clip_approach"
   ]
  },
  {
   "cell_type": "code",
   "execution_count": 65,
   "metadata": {},
   "outputs": [],
   "source": [
    "class ParticleModel:\n",
    "    def __init__(self):\n",
    "        self.reaction_order= 1.0\n",
    "        self.D = 1.0\n",
    "        self.R = 1.0\n",
    "        self.N = 30\n",
    "        self.bc = {'a':[1,0],'b':[0,1], 'd':[0,1]}\n",
    "        self.k = 0.0\n",
    "        self.dt = np.inf\n",
    "        #self.r_f = np.linspace(0,self.R,self.N+1)\n",
    "        dr_large = 0.1*self.R\n",
    "        self.r_f = non_uniform_grid(0, self.R, self.N+1, dr_large, 0.75)\n",
    "        self.r_c = 0.5*(self.r_f[0:-1]+self.r_f[1:])\n",
    "        self.init_field(1)\n",
    "        self.init_Jac()\n",
    "        self.freq_out = 10\n",
    "        self.c_small = 1e-6\n",
    "    \n",
    "    def init_field(self, c0=0.0):\n",
    "        self.c = np.full((self.N,1),c0, dtype='float')\n",
    "    \n",
    "    def init_Jac(self):\n",
    "        Grad, grad_bc = construct_grad(self.c.shape, self.r_f, self.r_c, self.bc)\n",
    "        self.Div = construct_div(self.c.shape, self.r_f, nu=2)        \n",
    "        self.Flux = -self.D * Grad\n",
    "        self.flux_bc = -self.D * grad_bc\n",
    "        Jac_accum = (1.0/self.dt)*eye_array(self.N,format='csc')\n",
    "        self.g_const = self.Div @ self.flux_bc\n",
    "        self.Jac_const = Jac_accum + self.Div@self.Flux\n",
    "    \n",
    "    def set_k(self, k):\n",
    "        self.k = k\n",
    "        \n",
    "    def reaction(self, c):\n",
    "        r = -self.k * c * np.power(np.abs(c) + self.c_small, self.reaction_order-1.0)\n",
    "#        r = -self.k * c\n",
    "        return r\n",
    "    \n",
    "    def construct_Jac(self, c, c_old):\n",
    "        g_react, Jac_react = numjac_local(self.reaction, c, axis=1)\n",
    "        g = self.g_const + self.Jac_const @ c.reshape((-1,1)) - c_old.reshape((-1,1))/self.dt - g_react\n",
    "        Jac = self.Jac_const - Jac_react\n",
    "        return g,Jac\n",
    "\n",
    "    def get_apparent_reaction_rate(self):\n",
    "        return -3.0/self.R*(self.Flux[[-1],:] @ self.c + self.flux_bc[[-1]])[[0]]\n",
    "             \n",
    "    def solve(self, num_timesteps):\n",
    "        Jac = self.Jac_const\n",
    "        for i in range(num_timesteps):\n",
    "            c_old = self.c.copy()\n",
    "            result = newton(lambda c: self.construct_Jac(c, c_old), c_old, maxfev=5, callback = clip_approach)\n",
    "            self.c = result.x\n",
    "            #if (i % self.freq_out == 0):\n",
    "            #    plt.plot(self.r_c,self.c,'-o')\n",
    "        #plt.show()"
   ]
  },
  {
   "cell_type": "code",
   "execution_count": 66,
   "metadata": {},
   "outputs": [
    {
     "data": {
      "image/png": "[encoded data removed]",
      "text/plain": [
       "<Figure size 640x480 with 1 Axes>"
      ]
     },
     "metadata": {},
     "output_type": "display_data"
    }
   ],
   "source": [
    "mrm_problem = ParticleModel()\n",
    "phis = np.logspace(-2,3,30)\n",
    "\n",
    "mrm_problem.reaction_order = 1.0\n",
    "for phi in phis:\n",
    "    k = phi**2*mrm_problem.D/mrm_problem.R\n",
    "    mrm_problem.set_k(k)\n",
    "    mrm_problem.solve(1)\n",
    "    eta = mrm_problem.get_apparent_reaction_rate()/k\n",
    "    plt.loglog(phi, eta, marker = 'o', linestyle = '', color = 'red')\n",
    "\n",
    "mrm_problem.reaction_order = 0.1\n",
    "mrm_problem.init_field(1.0)\n",
    "for phi in phis:\n",
    "    k = phi**2*mrm_problem.D/mrm_problem.R\n",
    "    mrm_problem.set_k(k)\n",
    "    mrm_problem.solve(1)\n",
    "    eta = mrm_problem.get_apparent_reaction_rate()/k\n",
    "    plt.loglog(phi, eta, marker = 'o', linestyle = '', color = 'blue')\n",
    "\n",
    "\n",
    "\n",
    "#plt.loglog(phis, 3*(phis/np.tanh(phis)-1)/(phis*phis), color = 'blue', label = r'$\\eta = 3(\\phi \\coth(\\phi)-1)/\\phi^2$')\n",
    "#plt.xlabel(r'Thiele modulus, $\\phi$')\n",
    "#plt.ylabel(r'effectiveness factor, $\\eta$')\n",
    "#plt.show()"
   ]
  }
 ],
 "metadata": {
  "kernelspec": {
   "display_name": "mrm",
   "language": "python",
   "name": "python3"
  },
  "language_info": {
   "codemirror_mode": {
    "name": "ipython",
    "version": 3
   },
   "file_extension": ".py",
   "mimetype": "text/x-python",
   "name": "python",
   "nbconvert_exporter": "python",
   "pygments_lexer": "ipython3",
   "version": "3.12.3"
  }
 },
 "nbformat": 4,
 "nbformat_minor": 2
}
