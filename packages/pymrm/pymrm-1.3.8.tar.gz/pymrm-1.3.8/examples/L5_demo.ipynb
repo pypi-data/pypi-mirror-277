{
 "cells": [
  {
   "cell_type": "code",
   "execution_count": 2,
   "metadata": {},
   "outputs": [],
   "source": [
    "import math\n",
    "import numpy as np\n",
    "import matplotlib.pyplot as plt\n",
    "from scipy.integrate import solve_ivp\n",
    "from pymrm import construct_grad, construct_div\n",
    "from IPython.display import clear_output, display"
   ]
  },
  {
   "cell_type": "code",
   "execution_count": 27,
   "metadata": {},
   "outputs": [],
   "source": [
    "v = 1.0\n",
    "D = 1e-2\n",
    "R = 0.1\n",
    "L = 1.0\n",
    "v = 1.0\n",
    "N = 30\n",
    "\n",
    "r_f = np.linspace(0,R,N+1)\n",
    "r_c = 0.5*(r_f[0:-1]+r_f[1:])\n",
    "c_in = np.ones(N)\n",
    "bc = {'a':[1,0],'b':[0,1],'d':[0,0]}\n",
    "Grad, grad_bc = construct_grad(c_in.shape, r_f, r_c, bc, axis=0)\n",
    "Div = construct_div(c_in.shape, r_f, nu=1, axis=0)\n",
    "Jac = (1.0/v) * Div @ Grad\n",
    "f_const = (1.0/v) * Div @ grad_bc\n",
    "\n",
    "def f(t, c):\n",
    "    f = (Jac @ c.reshape((-1,1)) + f_const).reshape(c.shape)\n",
    "    return f\n",
    "\n",
    "def compute_flux(c):\n",
    "    flux = -D*(Grad[[-1],:] @ c.reshape((-1,1))) + grad_bc[[-1],:]\n",
    "    return flux\n",
    "    "
   ]
  },
  {
   "cell_type": "code",
   "execution_count": 29,
   "metadata": {},
   "outputs": [],
   "source": [
    "sol = solve_ivp(f, [0,L], c_in)"
   ]
  },
  {
   "cell_type": "code",
   "execution_count": 28,
   "metadata": {},
   "outputs": [
    {
     "name": "stderr",
     "output_type": "stream",
     "text": [
      "C:\\Users\\eajfpeters\\AppData\\Local\\Temp\\ipykernel_25760\\3162359737.py:4: DeprecationWarning: Conversion of an array with ndim > 0 to a scalar is deprecated, and will error in future. Ensure you extract a single element from your array before performing this operation. (Deprecated NumPy 1.25.)\n",
      "  flux[i] = compute_flux(c)\n"
     ]
    },
    {
     "data": {
      "text/plain": [
       "[<matplotlib.lines.Line2D at 0x2c86c6a2cf0>]"
      ]
     },
     "execution_count": 28,
     "metadata": {},
     "output_type": "execute_result"
    },
    {
     "data": {
      "image/png": "[encoded data removed]",
      "text/plain": [
       "<Figure size 640x480 with 1 Axes>"
      ]
     },
     "metadata": {},
     "output_type": "display_data"
    }
   ],
   "source": [
    "flux = np.zeros_like(sol.t)\n",
    "for i in range(sol.t.shape[0]):\n",
    "    c = sol.y[:,i].reshape((-1,1))\n",
    "    flux[i] = compute_flux(c)\n",
    "    \n",
    "plt.plot(sol.t,flux)"
   ]
  }
 ],
 "metadata": {
  "kernelspec": {
   "display_name": "mrm",
   "language": "python",
   "name": "python3"
  },
  "language_info": {
   "codemirror_mode": {
    "name": "ipython",
    "version": 3
   },
   "file_extension": ".py",
   "mimetype": "text/x-python",
   "name": "python",
   "nbconvert_exporter": "python",
   "pygments_lexer": "ipython3",
   "version": "3.12.3"
  }
 },
 "nbformat": 4,
 "nbformat_minor": 2
}
