{
 "cells": [
  {
   "cell_type": "code",
   "execution_count": 3,
   "id": "3ac5e6fd-8626-4831-ab68-9ab5ecab7a62",
   "metadata": {},
   "outputs": [
    {
     "data": {
      "text/plain": [
       "environ{'ALLUSERSPROFILE': 'C:\\\\ProgramData',\n",
       "        'APPDATA': 'C:\\\\Users\\\\butchena\\\\AppData\\\\Roaming',\n",
       "        'CHROME_CRASHPAD_PIPE_NAME': '\\\\\\\\.\\\\pipe\\\\crashpad_18764_FZGUWSHOIMJNHHZZ',\n",
       "        'COLORTERM': 'truecolor',\n",
       "        'COMMONPROGRAMFILES': 'C:\\\\Program Files\\\\Common Files',\n",
       "        'COMMONPROGRAMFILES(X86)': 'C:\\\\Program Files (x86)\\\\Common Files',\n",
       "        'COMMONPROGRAMW6432': 'C:\\\\Program Files\\\\Common Files',\n",
       "        'COMPUTERNAME': 'UOB231487',\n",
       "        'COMSPEC': 'C:\\\\WINDOWS\\\\system32\\\\cmd.exe',\n",
       "        'CONDA_BAT': 'C:\\\\ProgramData\\\\miniconda3\\\\condabin\\\\conda.bat',\n",
       "        'CONDA_DEFAULT_ENV': 'jupyterlab-ext',\n",
       "        'CONDA_EXE': 'C:\\\\ProgramData\\\\miniconda3\\\\Scripts\\\\conda.exe',\n",
       "        'CONDA_PREFIX': 'C:\\\\Users\\\\butchena\\\\.conda\\\\envs\\\\jupyterlab-ext',\n",
       "        'CONDA_PROMPT_MODIFIER': '(jupyterlab-ext) ',\n",
       "        'CONDA_PYTHON_EXE': 'C:\\\\ProgramData\\\\miniconda3\\\\python.exe',\n",
       "        'CONDA_SHLVL': '1',\n",
       "        'DEFLOGDIR': 'C:\\\\ProgramData\\\\McAfee\\\\Endpoint Security\\\\Logs',\n",
       "        'DRIVERDATA': 'C:\\\\Windows\\\\System32\\\\Drivers\\\\DriverData',\n",
       "        'GIT_ASKPASS': 'c:\\\\Users\\\\butchena\\\\AppData\\\\Local\\\\Programs\\\\Microsoft VS Code\\\\resources\\\\app\\\\extensions\\\\git\\\\dist\\\\askpass.sh',\n",
       "        'HOMEDRIVE': 'U:',\n",
       "        'HOMEPATH': '\\\\',\n",
       "        'HOMESHARE': '\\\\\\\\adf\\\\corp\\\\ITS\\\\users\\\\butchena',\n",
       "        'IPY_INTERRUPT_EVENT': '4132',\n",
       "        'JPY_INTERRUPT_EVENT': '4132',\n",
       "        'JPY_PARENT_PID': '3844',\n",
       "        'JPY_SESSION_NAME': 'C:\\\\Users\\\\butchena\\\\Documents\\\\projects\\\\CLIMB-TRE(FCOD-LOMAN-NJ-1)\\\\gitlab\\\\onyx-extension\\\\Untitled1.ipynb',\n",
       "        'LANG': 'en_US.UTF-8',\n",
       "        'LOCALAPPDATA': 'C:\\\\Users\\\\butchena\\\\AppData\\\\Local',\n",
       "        'LOGONSERVER': '\\\\\\\\DC2',\n",
       "        'NUMBER_OF_PROCESSORS': '12',\n",
       "        'ONEDRIVE': 'C:\\\\Users\\\\butchena\\\\OneDrive - University of Birmingham',\n",
       "        'ONEDRIVECOMMERCIAL': 'C:\\\\Users\\\\butchena\\\\OneDrive - University of Birmingham',\n",
       "        'ONYX_DOMAIN': 'https://onyx-test.climb.ac.uk/',\n",
       "        'ONYX_TOKEN': '7887c9fbf1ea7346472561dc07bf0217a89656f2da1742418030cab34a33b930',\n",
       "        'ORIGINAL_XDG_CURRENT_DESKTOP': 'undefined',\n",
       "        'OS': 'Windows_NT',\n",
       "        'PATH': 'C:\\\\Users\\\\butchena\\\\.conda\\\\envs\\\\jupyterlab-ext;C:\\\\Users\\\\butchena\\\\.conda\\\\envs\\\\jupyterlab-ext\\\\Library\\\\mingw-w64\\\\bin;C:\\\\Users\\\\butchena\\\\.conda\\\\envs\\\\jupyterlab-ext\\\\Library\\\\usr\\\\bin;C:\\\\Users\\\\butchena\\\\.conda\\\\envs\\\\jupyterlab-ext\\\\Library\\\\bin;C:\\\\Users\\\\butchena\\\\.conda\\\\envs\\\\jupyterlab-ext\\\\Scripts;C:\\\\Users\\\\butchena\\\\.conda\\\\envs\\\\jupyterlab-ext\\\\bin;C:\\\\ProgramData\\\\miniconda3\\\\condabin;C:\\\\WINDOWS\\\\system32;C:\\\\WINDOWS;C:\\\\WINDOWS\\\\System32\\\\Wbem;C:\\\\WINDOWS\\\\System32\\\\WindowsPowerShell\\\\v1.0;C:\\\\Program Files\\\\Git\\\\cmd;C:\\\\Program Files\\\\Docker\\\\Docker\\\\resources\\\\bin;C:\\\\Program Files (x86)\\\\Windows Kits\\\\10\\\\Windows Performance Toolkit;C:\\\\Users\\\\butchena\\\\AppData\\\\Local\\\\Programs\\\\Python\\\\Python312\\\\Scripts;C:\\\\Program Files\\\\CMake\\\\bin;C:\\\\ProgramData\\\\miniconda3\\\\Scripts;C:\\\\Program Files\\\\dotnet;C:\\\\Users\\\\butchena\\\\AppData\\\\Local\\\\Programs\\\\Python\\\\Launcher;C:\\\\Users\\\\butchena\\\\AppData\\\\Local\\\\Microsoft\\\\WindowsApps;C:\\\\Users\\\\butchena\\\\AppData\\\\Local\\\\Programs\\\\Microsoft VS Code\\\\bin',\n",
       "        'PATHEXT': '.COM;.EXE;.BAT;.CMD;.VBS;.VBE;.JS;.JSE;.WSF;.WSH;.MSC',\n",
       "        'PROCESSOR_ARCHITECTURE': 'AMD64',\n",
       "        'PROCESSOR_IDENTIFIER': 'AMD64 Family 25 Model 80 Stepping 0, AuthenticAMD',\n",
       "        'PROCESSOR_LEVEL': '25',\n",
       "        'PROCESSOR_REVISION': '5000',\n",
       "        'PROGRAMDATA': 'C:\\\\ProgramData',\n",
       "        'PROGRAMFILES': 'C:\\\\Program Files',\n",
       "        'PROGRAMFILES(X86)': 'C:\\\\Program Files (x86)',\n",
       "        'PROGRAMW6432': 'C:\\\\Program Files',\n",
       "        'PROMPT': '(jupyterlab-ext) $P$G',\n",
       "        'PSMODULEPATH': '%ProgramFiles%\\\\WindowsPowerShell\\\\Modules;C:\\\\WINDOWS\\\\system32\\\\WindowsPowerShell\\\\v1.0\\\\Modules',\n",
       "        'PUBLIC': 'C:\\\\Users\\\\Public',\n",
       "        'SYSTEMDRIVE': 'C:',\n",
       "        'SYSTEMROOT': 'C:\\\\WINDOWS',\n",
       "        'TEMP': 'C:\\\\Users\\\\butchena\\\\AppData\\\\Local\\\\Temp',\n",
       "        'TERM_PROGRAM': 'vscode',\n",
       "        'TERM_PROGRAM_VERSION': '1.89.1',\n",
       "        'TMP': 'C:\\\\Users\\\\butchena\\\\AppData\\\\Local\\\\Temp',\n",
       "        'UATDATA': 'C:\\\\WINDOWS\\\\CCM\\\\UATData\\\\D9F8C395-CAB8-491d-B8AC-179A1FE1BE77',\n",
       "        'USERDNSDOMAIN': 'ADF.BHAM.AC.UK',\n",
       "        'USERDOMAIN': 'ADF',\n",
       "        'USERDOMAIN_ROAMINGPROFILE': 'ADF',\n",
       "        'USERNAME': 'butchena',\n",
       "        'USERPROFILE': 'C:\\\\Users\\\\butchena',\n",
       "        'VSCODE_GIT_ASKPASS_EXTRA_ARGS': '',\n",
       "        'VSCODE_GIT_ASKPASS_MAIN': 'c:\\\\Users\\\\butchena\\\\AppData\\\\Local\\\\Programs\\\\Microsoft VS Code\\\\resources\\\\app\\\\extensions\\\\git\\\\dist\\\\askpass-main.js',\n",
       "        'VSCODE_GIT_ASKPASS_NODE': 'C:\\\\Users\\\\butchena\\\\AppData\\\\Local\\\\Programs\\\\Microsoft VS Code\\\\Code.exe',\n",
       "        'VSCODE_GIT_IPC_HANDLE': '\\\\\\\\.\\\\pipe\\\\vscode-git-679d96c81d-sock',\n",
       "        'WINDIR': 'C:\\\\WINDOWS',\n",
       "        '__PSLOCKDOWNPOLICY': '0',\n",
       "        'PYDEVD_USE_FRAME_EVAL': 'NO',\n",
       "        'TERM': 'xterm-color',\n",
       "        'CLICOLOR': '1',\n",
       "        'FORCE_COLOR': '1',\n",
       "        'CLICOLOR_FORCE': '1',\n",
       "        'PAGER': 'cat',\n",
       "        'GIT_PAGER': 'cat',\n",
       "        'MPLBACKEND': 'module://matplotlib_inline.backend_inline',\n",
       "        'AWS_ACCESS_KEY_ID': '6JNIWTFDQ62PJIMH1PW3',\n",
       "        'JUPYTERLAB_S3_ENDPOINT': 'https://s3.climb.ac.uk',\n",
       "        'AWS_SECRET_ACCESS_KEY': 'blXLnJeSwj17vMk8uMm1P987lkRwrdZPa2xOwzXQ'}"
      ]
     },
     "execution_count": 3,
     "metadata": {},
     "output_type": "execute_result"
    }
   ],
   "source": [
    "import os\n",
    "os.environ"
   ]
  },
  {
   "cell_type": "code",
   "execution_count": 2,
   "id": "f40f6540-51d5-4458-be33-c09af3ba9f74",
   "metadata": {},
   "outputs": [],
   "source": [
    "os.environ['AWS_ACCESS_KEY_ID']='6JNIWTFDQ62PJIMH1PW3'\n",
    "os.environ['JUPYTERLAB_S3_ENDPOINT']='https://s3.climb.ac.uk'\n",
    "os.environ['AWS_SECRET_ACCESS_KEY']='blXLnJeSwj17vMk8uMm1P987lkRwrdZPa2xOwzXQ'"
   ]
  },
  {
   "cell_type": "code",
   "execution_count": null,
   "id": "3c33f0f5-69d4-4b5e-ab96-143ece80f995",
   "metadata": {},
   "outputs": [],
   "source": []
  }
 ],
 "metadata": {
  "kernelspec": {
   "display_name": "Python 3 (ipykernel)",
   "language": "python",
   "name": "python3"
  },
  "language_info": {
   "codemirror_mode": {
    "name": "ipython",
    "version": 3
   },
   "file_extension": ".py",
   "mimetype": "text/x-python",
   "name": "python",
   "nbconvert_exporter": "python",
   "pygments_lexer": "ipython3",
   "version": "3.12.3"
  }
 },
 "nbformat": 4,
 "nbformat_minor": 5
}
