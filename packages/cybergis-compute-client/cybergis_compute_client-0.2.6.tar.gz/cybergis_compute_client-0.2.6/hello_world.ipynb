{
 "cells": [
  {
   "cell_type": "markdown",
   "metadata": {},
   "source": [
    "# Hello World Notebook\n",
    "\n",
    "**Notebook Authors:** Alexander Michels, Zimo Xiao\n",
    "\n",
    "This is a short example notebook designed to demo the CyberGIS-Compute Python SDK UI with the Hello World notebook. Note that if you are viewing this on the [website](https://cybergis.github.io/cybergis-compute-python-sdk), you won't be able to fully interact with the UI. You can use the notebook on CyberGISX or CJW. [This notebook can be found here](https://github.com/cybergis/cybergis-compute-python-sdk/blob/v2/hello_world.ipynb)"
   ]
  },
  {
   "cell_type": "code",
   "execution_count": 1,
   "metadata": {},
   "outputs": [],
   "source": [
    "from cybergis_compute_client import CyberGISCompute\n",
    "\n",
    "cybergis = CyberGISCompute(url=\"cgjobsup.cigi.illinois.edu\", suffix=\"v2\")"
   ]
  },
  {
   "cell_type": "code",
   "execution_count": 2,
   "metadata": {},
   "outputs": [
    {
     "name": "stdout",
     "output_type": "stream",
     "text": [
      "📃 Found \"cybergis_compute_user.json! NOTE: if you want to login as another user, please remove this file\n",
      "🎯 Logged in as alexandermichels@cybergisx.cigi.illinois.edu\n"
     ]
    },
    {
     "data": {
      "application/vnd.jupyter.widget-view+json": {
       "model_id": "ed21b79d313949809f11e72f18eab369",
       "version_major": 2,
       "version_minor": 0
      },
      "text/plain": [
       "Tab(children=(Output(), Output(), Output(), Output(), Output()), _titles={'0': 'Job Configuration', '1': 'Your…"
      ]
     },
     "metadata": {},
     "output_type": "display_data"
    }
   ],
   "source": [
    "cybergis.show_ui()"
   ]
  },
  {
   "cell_type": "code",
   "execution_count": null,
   "metadata": {},
   "outputs": [],
   "source": []
  },
  {
   "cell_type": "code",
   "execution_count": null,
   "metadata": {},
   "outputs": [],
   "source": []
  }
 ],
 "metadata": {
  "interpreter": {
   "hash": "5926609cd90a2d94a42e09238288e2cffb196a8e75506a864a3e89f4f0cb4116"
  },
  "kernelspec": {
   "display_name": "Python 3",
   "language": "python",
   "name": "python3"
  },
  "language_info": {
   "codemirror_mode": {
    "name": "ipython",
    "version": 3
   },
   "file_extension": ".py",
   "mimetype": "text/x-python",
   "name": "python",
   "nbconvert_exporter": "python",
   "pygments_lexer": "ipython3",
   "version": "3.8.12"
  },
  "widgets": {
   "application/vnd.jupyter.widget-state+json": {
    "state": {
     "0006818e513e45fe88bf4e8c52257f7c": {
      "model_module": "@jupyter-widgets/base",
      "model_module_version": "1.2.0",
      "model_name": "LayoutModel",
      "state": {}
     },
     "00a6411043d04f248c3d6fde68d949ba": {
      "model_module": "@jupyter-widgets/controls",
      "model_module_version": "1.5.0",
      "model_name": "HBoxModel",
      "state": {
       "children": [
        "IPY_MODEL_6a06935365d0453a8fd9c48fc49bb563",
        "IPY_MODEL_6ff04dbc549b4ddcb8a6b258626bbbc5"
       ],
       "layout": "IPY_MODEL_3d4a93bbf20b4ca9b2f2348c18f0945b"
      }
     },
     "00c38c1ff16749208f5f8377c6c592e1": {
      "model_module": "@jupyter-widgets/base",
      "model_module_version": "1.2.0",
      "model_name": "LayoutModel",
      "state": {}
     },
     "0131fb0dc69241918b02382c5a359ebd": {
      "model_module": "@jupyter-widgets/base",
      "model_module_version": "1.2.0",
      "model_name": "LayoutModel",
      "state": {}
     },
     "030018cdb7734febadd04b0d1ebf1935": {
      "model_module": "@jupyter-widgets/base",
      "model_module_version": "1.2.0",
      "model_name": "LayoutModel",
      "state": {}
     },
     "041f0574aa8d46b5955471ba018997e1": {
      "model_module": "@jupyter-widgets/output",
      "model_module_version": "1.0.0",
      "model_name": "OutputModel",
      "state": {
       "layout": "IPY_MODEL_07578620f6914f0092d12df1fdaec76c",
       "outputs": [
        {
         "data": {
          "application/vnd.jupyter.widget-view+json": {
           "model_id": "6e813efe5b534fb0a7ab89bc782a522c",
           "version_major": 2,
           "version_minor": 0
          },
          "text/plain": "Accordion(children=(VBox(children=(IntSlider(value=50, continuous_update=False, description='input_a', layout=…"
         },
         "metadata": {},
         "output_type": "display_data"
        }
       ]
      }
     },
     "04d9a0bb66cd4a6a8e4b604505839b01": {
      "model_module": "@jupyter-widgets/controls",
      "model_module_version": "1.5.0",
      "model_name": "HBoxModel",
      "state": {
       "children": [
        "IPY_MODEL_f14bb29822f34af7b773201a50b6e096",
        "IPY_MODEL_59e3fe6742134291b891eac82b9c9842"
       ],
       "layout": "IPY_MODEL_c02608dccb3748f4bdc0499c0ac5d22d"
      }
     },
     "060f55dab3324c1fb5f17214dec3ba54": {
      "model_module": "@jupyter-widgets/output",
      "model_module_version": "1.0.0",
      "model_name": "OutputModel",
      "state": {
       "layout": "IPY_MODEL_78cb89a0aab74e2fbe810628ef560d9f",
       "outputs": [
        {
         "data": {
          "text/markdown": "We will do our best to keep this data for 90 days, but cannot guarantee it won’t be deleted sooner.",
          "text/plain": "<IPython.core.display.Markdown object>"
         },
         "metadata": {},
         "output_type": "display_data"
        },
        {
         "data": {
          "text/markdown": "Please note that the renaming feature only allows for names made up of letters, numbers, and the characters ' . ' and ' _ '. Other characters will be removed from your input.",
          "text/plain": "<IPython.core.display.Markdown object>"
         },
         "metadata": {},
         "output_type": "display_data"
        },
        {
         "data": {
          "text/markdown": "<br> **Showing folders 1 to 10 of 233 for alexandermichels**",
          "text/plain": "<IPython.core.display.Markdown object>"
         },
         "metadata": {},
         "output_type": "display_data"
        },
        {
         "data": {
          "application/vnd.jupyter.widget-view+json": {
           "model_id": "d055b5c2230845f29a626f5e8c54e76e",
           "version_major": 2,
           "version_minor": 0
          },
          "text/plain": "HBox(children=(Button(description='Previous Page', style=ButtonStyle()), Button(description='Next Page', style…"
         },
         "metadata": {},
         "output_type": "display_data"
        },
        {
         "data": {
          "text/markdown": "| id | name | hpc | userId | isWritable | createdAt | updatedAt | deletedAt | \n| --- | --- | --- | --- | --- | --- | --- | --- | \n| 1717082076238rS | None | keeling_community | alexandermichels@cybergisx.cigi.illinois.edu | False | 2024-05-30T15:14:36.506Z | None | None | ",
          "text/plain": "<IPython.core.display.Markdown object>"
         },
         "metadata": {},
         "output_type": "display_data"
        },
        {
         "data": {
          "application/vnd.jupyter.widget-view+json": {
           "model_id": "fae0123ab63043d68e6f698870c2526f",
           "version_major": 2,
           "version_minor": 0
          },
          "text/plain": "Button(description='Download Results', style=ButtonStyle())"
         },
         "metadata": {},
         "output_type": "display_data"
        },
        {
         "data": {
          "application/vnd.jupyter.widget-view+json": {
           "model_id": "e66d2837f93f4784853565ae11d1ac02",
           "version_major": 2,
           "version_minor": 0
          },
          "text/plain": "HBox(children=(Button(description='Rename Job', style=ButtonStyle()), Combobox(value='', description='Enter Na…"
         },
         "metadata": {},
         "output_type": "display_data"
        },
        {
         "data": {
          "text/markdown": "| id | name | hpc | userId | isWritable | createdAt | updatedAt | deletedAt | \n| --- | --- | --- | --- | --- | --- | --- | --- | \n| 1717082039PVEs9 | None | keeling_community | alexandermichels@cybergisx.cigi.illinois.edu | False | 2024-05-30T15:14:35.936Z | None | None | ",
          "text/plain": "<IPython.core.display.Markdown object>"
         },
         "metadata": {},
         "output_type": "display_data"
        },
        {
         "data": {
          "application/vnd.jupyter.widget-view+json": {
           "model_id": "7693972b5aec435a8a5bbff876fcb7aa",
           "version_major": 2,
           "version_minor": 0
          },
          "text/plain": "Button(description='Download Results', style=ButtonStyle())"
         },
         "metadata": {},
         "output_type": "display_data"
        },
        {
         "data": {
          "application/vnd.jupyter.widget-view+json": {
           "model_id": "990e94e3ab9843e5a35b25d52fe3b13e",
           "version_major": 2,
           "version_minor": 0
          },
          "text/plain": "HBox(children=(Button(description='Rename Job', style=ButtonStyle()), Combobox(value='', description='Enter Na…"
         },
         "metadata": {},
         "output_type": "display_data"
        },
        {
         "data": {
          "text/markdown": "| id | name | hpc | userId | isWritable | createdAt | updatedAt | deletedAt | \n| --- | --- | --- | --- | --- | --- | --- | --- | \n| 171708203507ez5 | None | keeling_community | alexandermichels@cybergisx.cigi.illinois.edu | False | 2024-05-30T15:13:59.468Z | None | None | ",
          "text/plain": "<IPython.core.display.Markdown object>"
         },
         "metadata": {},
         "output_type": "display_data"
        },
        {
         "data": {
          "application/vnd.jupyter.widget-view+json": {
           "model_id": "1d970453ab2e4cd5b422142de0b948a0",
           "version_major": 2,
           "version_minor": 0
          },
          "text/plain": "Button(description='Download Results', style=ButtonStyle())"
         },
         "metadata": {},
         "output_type": "display_data"
        },
        {
         "data": {
          "application/vnd.jupyter.widget-view+json": {
           "model_id": "87aa8b883baf4c6a97e7c21ba6172d20",
           "version_major": 2,
           "version_minor": 0
          },
          "text/plain": "HBox(children=(Button(description='Rename Job', style=ButtonStyle()), Combobox(value='', description='Enter Na…"
         },
         "metadata": {},
         "output_type": "display_data"
        },
        {
         "data": {
          "text/markdown": "| id | name | hpc | userId | isWritable | createdAt | updatedAt | deletedAt | \n| --- | --- | --- | --- | --- | --- | --- | --- | \n| 1717081989Cm0Ia | None | keeling_community | alexandermichels@cybergisx.cigi.illinois.edu | False | 2024-05-30T15:13:10.015Z | None | None | ",
          "text/plain": "<IPython.core.display.Markdown object>"
         },
         "metadata": {},
         "output_type": "display_data"
        },
        {
         "data": {
          "application/vnd.jupyter.widget-view+json": {
           "model_id": "98be955c89f54188a6ded5e4d6905c9f",
           "version_major": 2,
           "version_minor": 0
          },
          "text/plain": "Button(description='Download Results', style=ButtonStyle())"
         },
         "metadata": {},
         "output_type": "display_data"
        },
        {
         "data": {
          "application/vnd.jupyter.widget-view+json": {
           "model_id": "fd762e208a214e428b17f007b9a55423",
           "version_major": 2,
           "version_minor": 0
          },
          "text/plain": "HBox(children=(Button(description='Rename Job', style=ButtonStyle()), Combobox(value='', description='Enter Na…"
         },
         "metadata": {},
         "output_type": "display_data"
        },
        {
         "data": {
          "text/markdown": "| id | name | hpc | userId | isWritable | createdAt | updatedAt | deletedAt | \n| --- | --- | --- | --- | --- | --- | --- | --- | \n| 1717081496rHyZr | None | keeling_community | alexandermichels@cybergisx.cigi.illinois.edu | False | 2024-05-30T15:13:09.422Z | None | None | ",
          "text/plain": "<IPython.core.display.Markdown object>"
         },
         "metadata": {},
         "output_type": "display_data"
        },
        {
         "data": {
          "application/vnd.jupyter.widget-view+json": {
           "model_id": "68319347d7e44c53bb004f19e7ea19f7",
           "version_major": 2,
           "version_minor": 0
          },
          "text/plain": "Button(description='Download Results', style=ButtonStyle())"
         },
         "metadata": {},
         "output_type": "display_data"
        },
        {
         "data": {
          "application/vnd.jupyter.widget-view+json": {
           "model_id": "3d6f5a6547d54cf582fe4034da04dfda",
           "version_major": 2,
           "version_minor": 0
          },
          "text/plain": "HBox(children=(Button(description='Rename Job', style=ButtonStyle()), Combobox(value='', description='Enter Na…"
         },
         "metadata": {},
         "output_type": "display_data"
        },
        {
         "data": {
          "text/markdown": "| id | name | hpc | userId | isWritable | createdAt | updatedAt | deletedAt | \n| --- | --- | --- | --- | --- | --- | --- | --- | \n| 1717081492tdxhH | None | keeling_community | alexandermichels@cybergisx.cigi.illinois.edu | False | 2024-05-30T15:04:56.437Z | None | None | ",
          "text/plain": "<IPython.core.display.Markdown object>"
         },
         "metadata": {},
         "output_type": "display_data"
        },
        {
         "data": {
          "application/vnd.jupyter.widget-view+json": {
           "model_id": "3e4a33e4a4224fddb6b5b034bffacc3a",
           "version_major": 2,
           "version_minor": 0
          },
          "text/plain": "Button(description='Download Results', style=ButtonStyle())"
         },
         "metadata": {},
         "output_type": "display_data"
        },
        {
         "data": {
          "application/vnd.jupyter.widget-view+json": {
           "model_id": "c14a2f560ee3469eb1bac0955ed0c6f8",
           "version_major": 2,
           "version_minor": 0
          },
          "text/plain": "HBox(children=(Button(description='Rename Job', style=ButtonStyle()), Combobox(value='', description='Enter Na…"
         },
         "metadata": {},
         "output_type": "display_data"
        },
        {
         "data": {
          "text/markdown": "| id | name | hpc | userId | isWritable | createdAt | updatedAt | deletedAt | \n| --- | --- | --- | --- | --- | --- | --- | --- | \n| 1717080920aeBBe | None | keeling_community | alexandermichels@cybergisx.cigi.illinois.edu | False | 2024-05-30T14:55:20.164Z | None | None | ",
          "text/plain": "<IPython.core.display.Markdown object>"
         },
         "metadata": {},
         "output_type": "display_data"
        },
        {
         "data": {
          "application/vnd.jupyter.widget-view+json": {
           "model_id": "3281dbd64a514b498c0deb16ebc83421",
           "version_major": 2,
           "version_minor": 0
          },
          "text/plain": "Button(description='Download Results', style=ButtonStyle())"
         },
         "metadata": {},
         "output_type": "display_data"
        },
        {
         "data": {
          "application/vnd.jupyter.widget-view+json": {
           "model_id": "26d7880fc0da4ca296472ef75c2039a7",
           "version_major": 2,
           "version_minor": 0
          },
          "text/plain": "HBox(children=(Button(description='Rename Job', style=ButtonStyle()), Combobox(value='', description='Enter Na…"
         },
         "metadata": {},
         "output_type": "display_data"
        },
        {
         "data": {
          "text/markdown": "| id | name | hpc | userId | isWritable | createdAt | updatedAt | deletedAt | \n| --- | --- | --- | --- | --- | --- | --- | --- | \n| 1717080918hDGNP | None | keeling_community | alexandermichels@cybergisx.cigi.illinois.edu | False | 2024-05-30T14:55:19.704Z | None | None | ",
          "text/plain": "<IPython.core.display.Markdown object>"
         },
         "metadata": {},
         "output_type": "display_data"
        },
        {
         "data": {
          "application/vnd.jupyter.widget-view+json": {
           "model_id": "c786d6eb46ad47a49cb74e98acc8399f",
           "version_major": 2,
           "version_minor": 0
          },
          "text/plain": "Button(description='Download Results', style=ButtonStyle())"
         },
         "metadata": {},
         "output_type": "display_data"
        },
        {
         "data": {
          "application/vnd.jupyter.widget-view+json": {
           "model_id": "93dbbe7da209440d9c0d37bc3b5a5ae9",
           "version_major": 2,
           "version_minor": 0
          },
          "text/plain": "HBox(children=(Button(description='Rename Job', style=ButtonStyle()), Combobox(value='', description='Enter Na…"
         },
         "metadata": {},
         "output_type": "display_data"
        },
        {
         "data": {
          "text/markdown": "| id | name | hpc | userId | isWritable | createdAt | updatedAt | deletedAt | \n| --- | --- | --- | --- | --- | --- | --- | --- | \n| 1715447522fyWS4 | None | keeling_community | alexandermichels@cybergisx.cigi.illinois.edu | False | 2024-05-11T17:12:05.676Z | None | None | ",
          "text/plain": "<IPython.core.display.Markdown object>"
         },
         "metadata": {},
         "output_type": "display_data"
        },
        {
         "data": {
          "application/vnd.jupyter.widget-view+json": {
           "model_id": "aa91e2f111c544a782c96956cb7e5495",
           "version_major": 2,
           "version_minor": 0
          },
          "text/plain": "Button(description='Download Results', style=ButtonStyle())"
         },
         "metadata": {},
         "output_type": "display_data"
        },
        {
         "data": {
          "application/vnd.jupyter.widget-view+json": {
           "model_id": "04d9a0bb66cd4a6a8e4b604505839b01",
           "version_major": 2,
           "version_minor": 0
          },
          "text/plain": "HBox(children=(Button(description='Rename Job', style=ButtonStyle()), Combobox(value='', description='Enter Na…"
         },
         "metadata": {},
         "output_type": "display_data"
        },
        {
         "data": {
          "text/markdown": "| id | name | hpc | userId | isWritable | createdAt | updatedAt | deletedAt | \n| --- | --- | --- | --- | --- | --- | --- | --- | \n| 1715357723edTGq | None | keeling_community | alexandermichels@cybergisx.cigi.illinois.edu | False | 2024-05-10T16:15:28.787Z | None | None | ",
          "text/plain": "<IPython.core.display.Markdown object>"
         },
         "metadata": {},
         "output_type": "display_data"
        },
        {
         "data": {
          "application/vnd.jupyter.widget-view+json": {
           "model_id": "c676e5aba9e04fada7cd1dabb2846ad1",
           "version_major": 2,
           "version_minor": 0
          },
          "text/plain": "Button(description='Download Results', style=ButtonStyle())"
         },
         "metadata": {},
         "output_type": "display_data"
        },
        {
         "data": {
          "application/vnd.jupyter.widget-view+json": {
           "model_id": "00a6411043d04f248c3d6fde68d949ba",
           "version_major": 2,
           "version_minor": 0
          },
          "text/plain": "HBox(children=(Button(description='Rename Job', style=ButtonStyle()), Combobox(value='', description='Enter Na…"
         },
         "metadata": {},
         "output_type": "display_data"
        },
        {
         "data": {
          "text/markdown": "<br> **Showing folders 1 to 10 of 233**",
          "text/plain": "<IPython.core.display.Markdown object>"
         },
         "metadata": {},
         "output_type": "display_data"
        },
        {
         "data": {
          "application/vnd.jupyter.widget-view+json": {
           "model_id": "d055b5c2230845f29a626f5e8c54e76e",
           "version_major": 2,
           "version_minor": 0
          },
          "text/plain": "HBox(children=(Button(description='Previous Page', style=ButtonStyle()), Button(description='Next Page', style…"
         },
         "metadata": {},
         "output_type": "display_data"
        }
       ]
      }
     },
     "07578620f6914f0092d12df1fdaec76c": {
      "model_module": "@jupyter-widgets/base",
      "model_module_version": "1.2.0",
      "model_name": "LayoutModel",
      "state": {}
     },
     "08c0e8f5b00a47838c0f75d0c68aa586": {
      "model_module": "@jupyter-widgets/controls",
      "model_module_version": "1.5.0",
      "model_name": "DescriptionStyleModel",
      "state": {
       "description_width": ""
      }
     },
     "095edccb07db4f0ca0b7e58e9620adaf": {
      "model_module": "@jupyter-widgets/controls",
      "model_module_version": "1.5.0",
      "model_name": "ButtonStyleModel",
      "state": {}
     },
     "0a6daf948f90426095b531213363d6b1": {
      "model_module": "@jupyter-widgets/controls",
      "model_module_version": "1.5.0",
      "model_name": "VBoxModel",
      "state": {
       "children": [
        "IPY_MODEL_8d45f100112f45fb84bb84ef02ce70fb",
        "IPY_MODEL_24835b5e9029478c84c2710f6ba6dc16"
       ],
       "layout": "IPY_MODEL_9ad52f5e4dec412e9a23dec24c00a4fc"
      }
     },
     "0bb9c54a34104230ad233f6a6b5761ec": {
      "model_module": "@jupyter-widgets/controls",
      "model_module_version": "1.5.0",
      "model_name": "ButtonStyleModel",
      "state": {}
     },
     "0db81f3ca45e479c9d4ce87a8c2b8bff": {
      "model_module": "@jupyter-widgets/base",
      "model_module_version": "1.2.0",
      "model_name": "LayoutModel",
      "state": {}
     },
     "0fe7f71704f442bc873601bc60a6bde3": {
      "model_module": "@jupyter-widgets/controls",
      "model_module_version": "1.5.0",
      "model_name": "ButtonStyleModel",
      "state": {}
     },
     "10b1d2ac77034dc7b260499a4029642e": {
      "model_module": "@jupyter-widgets/base",
      "model_module_version": "1.2.0",
      "model_name": "LayoutModel",
      "state": {}
     },
     "13434c61673444339b82ba6c68d4b31a": {
      "model_module": "@jupyter-widgets/controls",
      "model_module_version": "1.5.0",
      "model_name": "ButtonStyleModel",
      "state": {}
     },
     "140fd9ab9c874df0a79a54f031c72f42": {
      "model_module": "@jupyter-widgets/base",
      "model_module_version": "1.2.0",
      "model_name": "LayoutModel",
      "state": {}
     },
     "15b58c0e86d44c93b1cea8955d69e3a5": {
      "model_module": "@jupyter-widgets/base",
      "model_module_version": "1.2.0",
      "model_name": "LayoutModel",
      "state": {}
     },
     "16347f478aff42239acf8136606fe5a6": {
      "model_module": "@jupyter-widgets/controls",
      "model_module_version": "1.5.0",
      "model_name": "IntSliderModel",
      "state": {
       "continuous_update": false,
       "description": "num_of_task",
       "layout": "IPY_MODEL_cc4d3a7c1706481e9279545fcb551e6b",
       "max": 6,
       "min": 1,
       "style": "IPY_MODEL_e8ee6c0c8155418fb2989647ce4efbd9",
       "value": 2
      }
     },
     "188cbec6d3dd4f02adae8adf4a2c498e": {
      "model_module": "@jupyter-widgets/controls",
      "model_module_version": "1.5.0",
      "model_name": "ButtonModel",
      "state": {
       "description": "Rename Job",
       "layout": "IPY_MODEL_a49e5f60a6234dc1bd80847485c1327e",
       "style": "IPY_MODEL_aa78b71212f2438c81705ff94ea69990"
      }
     },
     "1a427cabb73841bca9e67515186195a0": {
      "model_module": "@jupyter-widgets/base",
      "model_module_version": "1.2.0",
      "model_name": "LayoutModel",
      "state": {}
     },
     "1ba441b217d043cca4aed1273c1d9c81": {
      "model_module": "@jupyter-widgets/base",
      "model_module_version": "1.2.0",
      "model_name": "LayoutModel",
      "state": {}
     },
     "1c574b598f4d4cc29d9a46f0243f8be2": {
      "model_module": "@jupyter-widgets/base",
      "model_module_version": "1.2.0",
      "model_name": "LayoutModel",
      "state": {}
     },
     "1d32629dbd0141398f47d212b19927ee": {
      "model_module": "@jupyter-widgets/output",
      "model_module_version": "1.0.0",
      "model_name": "OutputModel",
      "state": {
       "layout": "IPY_MODEL_80ca576925c84fd18c4f98a1a4a637b0",
       "outputs": [
        {
         "data": {
          "application/vnd.jupyter.widget-view+json": {
           "model_id": "bac3ea722c484b7a88aac61f131984db",
           "version_major": 2,
           "version_minor": 0
          },
          "text/plain": "Output()"
         },
         "metadata": {},
         "output_type": "display_data"
        }
       ]
      }
     },
     "1d970453ab2e4cd5b422142de0b948a0": {
      "model_module": "@jupyter-widgets/controls",
      "model_module_version": "1.5.0",
      "model_name": "ButtonModel",
      "state": {
       "description": "Download Results",
       "layout": "IPY_MODEL_cf714e6e88bc4887bfbd8a13bcb88ec3",
       "style": "IPY_MODEL_8ce87af48e8943ca9f59eb261702899b"
      }
     },
     "1f1e0c55d14845329a0f545d6077f392": {
      "model_module": "@jupyter-widgets/controls",
      "model_module_version": "1.5.0",
      "model_name": "HTMLModel",
      "state": {
       "layout": "IPY_MODEL_f85c14a8485a4f8fa073ceffcb14a893",
       "style": "IPY_MODEL_de5d6ef45cf64adcae8d37e8516cbf31",
       "value": "<p>1. Press the stop button in the top bar of your Jupyter notebook <b>twice</b>. Please note that errors will appear on the user interface. While your logs will stop updating, <b>your job is still running</b>.</p>\n\n<p>2. Create a new code block below the UI.</p>\n\n<p>3. Enter this command is your code block and press run:&nbsp;<em>cybergis.cancel_job()</em></p>\n\n<p>4. You should see a message displaying that your job has been canceled. Success!</p>"
      }
     },
     "1f681491357247b9864e840eaf24bc41": {
      "model_module": "@jupyter-widgets/controls",
      "model_module_version": "1.5.0",
      "model_name": "ButtonModel",
      "state": {
       "description": "Load More",
       "layout": "IPY_MODEL_b7aa7185180342f6b6d4f07cfb51d9dc",
       "style": "IPY_MODEL_42316da0cd0240bfb1a4733456d47b46"
      }
     },
     "23c38cce2d08471c902e9022f4ccd92f": {
      "model_module": "@jupyter-widgets/controls",
      "model_module_version": "1.5.0",
      "model_name": "HBoxModel",
      "state": {
       "children": [
        "IPY_MODEL_4cea73254d5a441a86c3cbed9b2e9008",
        "IPY_MODEL_b285f95909294ac7a85b3b8568b54cbb"
       ],
       "layout": "IPY_MODEL_f16ecbe9ed3f49139900b8f861ddeff4"
      }
     },
     "2465bc71d1564d838a1e1b1c5496dc34": {
      "model_module": "@jupyter-widgets/base",
      "model_module_version": "1.2.0",
      "model_name": "LayoutModel",
      "state": {
       "width": "500px"
      }
     },
     "24835b5e9029478c84c2710f6ba6dc16": {
      "model_module": "@jupyter-widgets/controls",
      "model_module_version": "1.5.0",
      "model_name": "DropdownModel",
      "state": {
       "_options_labels": [
        "foo",
        "bar"
       ],
       "description": "input_b",
       "index": 0,
       "layout": "IPY_MODEL_74ed5b8b8d9b42cc8a3798159ec1dbf4",
       "style": "IPY_MODEL_cddd632ffbcf48289e1e71801aa6fa6d"
      }
     },
     "266039af06314b01bd504809e6009169": {
      "model_module": "@jupyter-widgets/controls",
      "model_module_version": "1.5.0",
      "model_name": "DescriptionStyleModel",
      "state": {
       "description_width": "auto"
      }
     },
     "26d7880fc0da4ca296472ef75c2039a7": {
      "model_module": "@jupyter-widgets/controls",
      "model_module_version": "1.5.0",
      "model_name": "HBoxModel",
      "state": {
       "children": [
        "IPY_MODEL_e18672140e674545b7d7e4daa9b02eb7",
        "IPY_MODEL_f6cc557cf9b7440c808e10216658a2d5"
       ],
       "layout": "IPY_MODEL_ca930ee96ca044e48e0fde23da8e11b1"
      }
     },
     "2778ced401214e6dbd0a7c2e37e43801": {
      "model_module": "@jupyter-widgets/base",
      "model_module_version": "1.2.0",
      "model_name": "LayoutModel",
      "state": {}
     },
     "2c2c8d0e3746445cb7c00956e53bd78e": {
      "model_module": "@jupyter-widgets/output",
      "model_module_version": "1.0.0",
      "model_name": "OutputModel",
      "state": {
       "layout": "IPY_MODEL_459f452b9c394192ab9b0873c15f56a2",
       "outputs": [
        {
         "data": {
          "text/markdown": "# Welcome to CyberGIS-Compute",
          "text/plain": "<IPython.core.display.Markdown object>"
         },
         "metadata": {},
         "output_type": "display_data"
        },
        {
         "data": {
          "text/markdown": "A scalable middleware framework for enabling high-performance and data-intensive geospatial research and education on CyberGIS-Jupyter. [Click here for documentation.](https://cybergis.github.io/cybergis-compute-python-sdk/index.html)",
          "text/plain": "<IPython.core.display.Markdown object>"
         },
         "metadata": {},
         "output_type": "display_data"
        },
        {
         "data": {
          "text/markdown": "***",
          "text/plain": "<IPython.core.display.Markdown object>"
         },
         "metadata": {},
         "output_type": "display_data"
        },
        {
         "data": {
          "text/markdown": "**Your CyberGIS-Compute Username:** alexandermichels@cybergisx.cigi.illinois.edu",
          "text/plain": "<IPython.core.display.Markdown object>"
         },
         "metadata": {},
         "output_type": "display_data"
        },
        {
         "data": {
          "text/markdown": "## Announcements",
          "text/plain": "<IPython.core.display.Markdown object>"
         },
         "metadata": {},
         "output_type": "display_data"
        },
        {
         "data": {
          "text/markdown": "### Message 1:",
          "text/plain": "<IPython.core.display.Markdown object>"
         },
         "metadata": {},
         "output_type": "display_data"
        },
        {
         "data": {
          "text/markdown": "Message: CyberGIS-Compute and CyberGISX will be down for maintenance on June 10th. We will work to restore services as soon as the system is restored.",
          "text/plain": "<IPython.core.display.Markdown object>"
         },
         "metadata": {},
         "output_type": "display_data"
        },
        {
         "data": {
          "text/markdown": "Posted by: CyberGIS Center at 2024-06-03T00:00:29Z",
          "text/plain": "<IPython.core.display.Markdown object>"
         },
         "metadata": {},
         "output_type": "display_data"
        },
        {
         "data": {
          "text/markdown": "***",
          "text/plain": "<IPython.core.display.Markdown object>"
         },
         "metadata": {},
         "output_type": "display_data"
        },
        {
         "data": {
          "application/vnd.jupyter.widget-view+json": {
           "model_id": "47b24a8d3dcd4f88b1244d6553a11a3a",
           "version_major": 2,
           "version_minor": 0
          },
          "text/plain": "Output()"
         },
         "metadata": {},
         "output_type": "display_data"
        },
        {
         "data": {
          "application/vnd.jupyter.widget-view+json": {
           "model_id": "e5f7906e70f94ed685e4d8f465c8ddec",
           "version_major": 2,
           "version_minor": 0
          },
          "text/plain": "Output()"
         },
         "metadata": {},
         "output_type": "display_data"
        },
        {
         "data": {
          "application/vnd.jupyter.widget-view+json": {
           "model_id": "4407b589925346b0b8b8945081c09642",
           "version_major": 2,
           "version_minor": 0
          },
          "text/plain": "Output()"
         },
         "metadata": {},
         "output_type": "display_data"
        },
        {
         "data": {
          "application/vnd.jupyter.widget-view+json": {
           "model_id": "893d648eb86c497391ca67957ad3100e",
           "version_major": 2,
           "version_minor": 0
          },
          "text/plain": "Output()"
         },
         "metadata": {},
         "output_type": "display_data"
        },
        {
         "data": {
          "application/vnd.jupyter.widget-view+json": {
           "model_id": "041f0574aa8d46b5955471ba018997e1",
           "version_major": 2,
           "version_minor": 0
          },
          "text/plain": "Output()"
         },
         "metadata": {},
         "output_type": "display_data"
        },
        {
         "data": {
          "application/vnd.jupyter.widget-view+json": {
           "model_id": "997dd61b4ee542e998b76d6f0f79d51a",
           "version_major": 2,
           "version_minor": 0
          },
          "text/plain": "Output()"
         },
         "metadata": {},
         "output_type": "display_data"
        },
        {
         "data": {
          "application/vnd.jupyter.widget-view+json": {
           "model_id": "77afbaa2b48f498b84c7cd7d793bfe69",
           "version_major": 2,
           "version_minor": 0
          },
          "text/plain": "Output()"
         },
         "metadata": {},
         "output_type": "display_data"
        },
        {
         "data": {
          "application/vnd.jupyter.widget-view+json": {
           "model_id": "3fd8a985bb4a4cb08cfb75ea32653e94",
           "version_major": 2,
           "version_minor": 0
          },
          "text/plain": "Output()"
         },
         "metadata": {},
         "output_type": "display_data"
        },
        {
         "data": {
          "application/vnd.jupyter.widget-view+json": {
           "model_id": "d0151d9bfb004cc7a30a2cdbd3485ad0",
           "version_major": 2,
           "version_minor": 0
          },
          "text/plain": "Output()"
         },
         "metadata": {},
         "output_type": "display_data"
        },
        {
         "data": {
          "application/vnd.jupyter.widget-view+json": {
           "model_id": "d195974ea3374a4eb7d035f32ddbdb49",
           "version_major": 2,
           "version_minor": 0
          },
          "text/plain": "Output()"
         },
         "metadata": {},
         "output_type": "display_data"
        }
       ]
      }
     },
     "2c5c1c74c1c1463488132766b1f18ff8": {
      "model_module": "@jupyter-widgets/controls",
      "model_module_version": "1.5.0",
      "model_name": "ButtonStyleModel",
      "state": {}
     },
     "2e5904cdf14f4b76a2b2fea37f43a5d7": {
      "model_module": "@jupyter-widgets/base",
      "model_module_version": "1.2.0",
      "model_name": "LayoutModel",
      "state": {}
     },
     "2e69de28449d40cf8178bcfa91053835": {
      "model_module": "@jupyter-widgets/base",
      "model_module_version": "1.2.0",
      "model_name": "LayoutModel",
      "state": {}
     },
     "2fac1efd569443c9ba10fe972a2bcd50": {
      "model_module": "@jupyter-widgets/base",
      "model_module_version": "1.2.0",
      "model_name": "LayoutModel",
      "state": {}
     },
     "30df69e8fb6948c1a73093580bac0152": {
      "model_module": "@jupyter-widgets/base",
      "model_module_version": "1.2.0",
      "model_name": "LayoutModel",
      "state": {}
     },
     "32786e19dfe148ec982a5b8cb5bab8fe": {
      "model_module": "@jupyter-widgets/base",
      "model_module_version": "1.2.0",
      "model_name": "LayoutModel",
      "state": {}
     },
     "3281dbd64a514b498c0deb16ebc83421": {
      "model_module": "@jupyter-widgets/controls",
      "model_module_version": "1.5.0",
      "model_name": "ButtonModel",
      "state": {
       "description": "Download Results",
       "layout": "IPY_MODEL_38174569ac074380929681f679b3aa44",
       "style": "IPY_MODEL_b45e834316744d35bef00968445438cb"
      }
     },
     "32f6298ddd064c2e91ae772395460400": {
      "model_module": "@jupyter-widgets/base",
      "model_module_version": "1.2.0",
      "model_name": "LayoutModel",
      "state": {}
     },
     "3304bd3a6ba64348bf593c5ff78b28dc": {
      "model_module": "@jupyter-widgets/controls",
      "model_module_version": "1.5.0",
      "model_name": "ButtonStyleModel",
      "state": {}
     },
     "33d5b09374234fe595305b19036e9d98": {
      "model_module": "@jupyter-widgets/base",
      "model_module_version": "1.2.0",
      "model_name": "LayoutModel",
      "state": {}
     },
     "34183e9e82244b1ebbe1822066ec1a97": {
      "model_module": "@jupyter-widgets/controls",
      "model_module_version": "1.5.0",
      "model_name": "ButtonModel",
      "state": {
       "description": "Rename Job",
       "layout": "IPY_MODEL_8d2dd60f67da4e7ebf1e102738226c73",
       "style": "IPY_MODEL_cc99fe57f8de45bdb5369bb91f0e7abd"
      }
     },
     "36dcb453c0ab4a7c90fa96a80218f278": {
      "model_module": "@jupyter-widgets/controls",
      "model_module_version": "1.5.0",
      "model_name": "ButtonStyleModel",
      "state": {}
     },
     "38174569ac074380929681f679b3aa44": {
      "model_module": "@jupyter-widgets/base",
      "model_module_version": "1.2.0",
      "model_name": "LayoutModel",
      "state": {}
     },
     "3a10bf8415614a8dbde9578487bd42ac": {
      "model_module": "@jupyter-widgets/base",
      "model_module_version": "1.2.0",
      "model_name": "LayoutModel",
      "state": {}
     },
     "3aa4abc9c3ba4c43b40b007a4a758a02": {
      "model_module": "@jupyter-widgets/base",
      "model_module_version": "1.2.0",
      "model_name": "LayoutModel",
      "state": {}
     },
     "3af991e807c5406b99a2d7cfcfeb7f2c": {
      "model_module": "@jupyter-widgets/controls",
      "model_module_version": "1.5.0",
      "model_name": "DescriptionStyleModel",
      "state": {
       "description_width": "auto"
      }
     },
     "3b9ed5f75bfa46a486e2f8bda5574995": {
      "model_module": "@jupyter-widgets/output",
      "model_module_version": "1.0.0",
      "model_name": "OutputModel",
      "state": {
       "layout": "IPY_MODEL_ac9fbd4857324c50b976dc9d806e87b4",
       "outputs": [
        {
         "data": {
          "application/vnd.jupyter.widget-view+json": {
           "model_id": "9c9ad725adf74a9191a00d490448a3f3",
           "version_major": 2,
           "version_minor": 0
          },
          "text/plain": "Output()"
         },
         "metadata": {},
         "output_type": "display_data"
        },
        {
         "data": {
          "application/vnd.jupyter.widget-view+json": {
           "model_id": "7bdc72641784483eb62f7ddfef4c41f5",
           "version_major": 2,
           "version_minor": 0
          },
          "text/plain": "Output()"
         },
         "metadata": {},
         "output_type": "display_data"
        }
       ]
      }
     },
     "3c7e2b2edb5146b19a4649bdf8bd5421": {
      "model_module": "@jupyter-widgets/base",
      "model_module_version": "1.2.0",
      "model_name": "LayoutModel",
      "state": {}
     },
     "3d4a93bbf20b4ca9b2f2348c18f0945b": {
      "model_module": "@jupyter-widgets/base",
      "model_module_version": "1.2.0",
      "model_name": "LayoutModel",
      "state": {}
     },
     "3d6f5a6547d54cf582fe4034da04dfda": {
      "model_module": "@jupyter-widgets/controls",
      "model_module_version": "1.5.0",
      "model_name": "HBoxModel",
      "state": {
       "children": [
        "IPY_MODEL_c9cfe23aedd947918d73627776a5ab9f",
        "IPY_MODEL_75877e38da89460590185ddbcd800ef2"
       ],
       "layout": "IPY_MODEL_d2b4aa569052498facc03604f52a0125"
      }
     },
     "3d77dba55e2c4a20ace2388b1822631b": {
      "model_module": "@jupyter-widgets/controls",
      "model_module_version": "1.5.0",
      "model_name": "ButtonModel",
      "state": {
       "description": "Next Page",
       "layout": "IPY_MODEL_8cdc7e56624c43488e44abf871a3c564",
       "style": "IPY_MODEL_8684387bd09d469cb77bff90e66a87d2"
      }
     },
     "3e4a33e4a4224fddb6b5b034bffacc3a": {
      "model_module": "@jupyter-widgets/controls",
      "model_module_version": "1.5.0",
      "model_name": "ButtonModel",
      "state": {
       "description": "Download Results",
       "layout": "IPY_MODEL_5807635c65014779ba6ea8711e87bfaa",
       "style": "IPY_MODEL_0fe7f71704f442bc873601bc60a6bde3"
      }
     },
     "3eb8ab6a012f4d37a051621ac4bc920c": {
      "model_module": "@jupyter-widgets/base",
      "model_module_version": "1.2.0",
      "model_name": "LayoutModel",
      "state": {}
     },
     "3fd8a985bb4a4cb08cfb75ea32653e94": {
      "model_module": "@jupyter-widgets/output",
      "model_module_version": "1.0.0",
      "model_name": "OutputModel",
      "state": {
       "layout": "IPY_MODEL_32f6298ddd064c2e91ae772395460400",
       "outputs": [
        {
         "data": {
          "text/markdown": "Please note that the naming feature only allows for names made up of letters, numbers, and the characters ' . ' and ' _ '. Other characters will be removed from your input.",
          "text/plain": "<IPython.core.display.Markdown object>"
         },
         "metadata": {},
         "output_type": "display_data"
        },
        {
         "data": {
          "application/vnd.jupyter.widget-view+json": {
           "model_id": "7e138af3a62e4d84afb4e905c9d81139",
           "version_major": 2,
           "version_minor": 0
          },
          "text/plain": "HBox(children=(Checkbox(value=False, description='Set a name for this job? ', style=DescriptionStyle(descripti…"
         },
         "metadata": {},
         "output_type": "display_data"
        }
       ]
      }
     },
     "42316da0cd0240bfb1a4733456d47b46": {
      "model_module": "@jupyter-widgets/controls",
      "model_module_version": "1.5.0",
      "model_name": "ButtonStyleModel",
      "state": {}
     },
     "4407b589925346b0b8b8945081c09642": {
      "model_module": "@jupyter-widgets/output",
      "model_module_version": "1.0.0",
      "model_name": "OutputModel",
      "state": {
       "layout": "IPY_MODEL_3a10bf8415614a8dbde9578487bd42ac",
       "outputs": [
        {
         "data": {
          "application/vnd.jupyter.widget-view+json": {
           "model_id": "be239b0db0834a5082069c54120b4f43",
           "version_major": 2,
           "version_minor": 0
          },
          "text/plain": "Accordion(children=(Dropdown(description='🖥 Computing Resource:', index=3, layout=Layout(width='60%'), options…"
         },
         "metadata": {},
         "output_type": "display_data"
        }
       ]
      }
     },
     "457a03b2d2fa4bac9cde2129fe500f10": {
      "model_module": "@jupyter-widgets/controls",
      "model_module_version": "1.5.0",
      "model_name": "LabelModel",
      "state": {
       "layout": "IPY_MODEL_0006818e513e45fe88bf4e8c52257f7c",
       "style": "IPY_MODEL_08c0e8f5b00a47838c0f75d0c68aa586",
       "value": "All configs are optional. Please refer to Slurm official documentation at 🔗 https://slurm.schedmd.com/sbatch.html"
      }
     },
     "459f452b9c394192ab9b0873c15f56a2": {
      "model_module": "@jupyter-widgets/base",
      "model_module_version": "1.2.0",
      "model_name": "LayoutModel",
      "state": {}
     },
     "46e7ebb0a1e7411ba85563bb7705814d": {
      "model_module": "@jupyter-widgets/base",
      "model_module_version": "1.2.0",
      "model_name": "LayoutModel",
      "state": {}
     },
     "47a67f66ae7845c8bb951d410892e698": {
      "model_module": "@jupyter-widgets/base",
      "model_module_version": "1.2.0",
      "model_name": "LayoutModel",
      "state": {}
     },
     "47b24a8d3dcd4f88b1244d6553a11a3a": {
      "model_module": "@jupyter-widgets/output",
      "model_module_version": "1.0.0",
      "model_name": "OutputModel",
      "state": {
       "layout": "IPY_MODEL_1c574b598f4d4cc29d9a46f0243f8be2",
       "outputs": [
        {
         "data": {
          "application/vnd.jupyter.widget-view+json": {
           "model_id": "8df3b4df15e24687880b0487b3d3f207",
           "version_major": 2,
           "version_minor": 0
          },
          "text/plain": "Dropdown(description='📦 Job Templates:', index=16, layout=Layout(width='60%'), options=('ACESTest', 'CUAHSI_Su…"
         },
         "metadata": {},
         "output_type": "display_data"
        }
       ]
      }
     },
     "4bdbde3b39fb4b0389f8d1c04fefc2cd": {
      "model_module": "@jupyter-widgets/base",
      "model_module_version": "1.2.0",
      "model_name": "LayoutModel",
      "state": {}
     },
     "4cea73254d5a441a86c3cbed9b2e9008": {
      "model_module": "@jupyter-widgets/controls",
      "model_module_version": "1.5.0",
      "model_name": "CheckboxModel",
      "state": {
       "description": "receive email on job status? ",
       "disabled": false,
       "layout": "IPY_MODEL_87e312e67fa34ed6a442549af5cfdf24",
       "style": "IPY_MODEL_ef444e83fda448a7b7d2aee5b4618da6",
       "value": false
      }
     },
     "5028a8c0aefc4e0d91bbf8f78787a83a": {
      "model_module": "@jupyter-widgets/controls",
      "model_module_version": "1.5.0",
      "model_name": "ButtonStyleModel",
      "state": {}
     },
     "5272ae1a8b224c8588f3edc82e7824bb": {
      "model_module": "@jupyter-widgets/base",
      "model_module_version": "1.2.0",
      "model_name": "LayoutModel",
      "state": {}
     },
     "52a4cafb4ae2404f837a92a7312fd501": {
      "model_module": "@jupyter-widgets/base",
      "model_module_version": "1.2.0",
      "model_name": "LayoutModel",
      "state": {}
     },
     "53e286916adf46dc888162566c7c8280": {
      "model_module": "@jupyter-widgets/base",
      "model_module_version": "1.2.0",
      "model_name": "LayoutModel",
      "state": {}
     },
     "53f4ab1f4a3e44fd96879b7016e13378": {
      "model_module": "@jupyter-widgets/base",
      "model_module_version": "1.2.0",
      "model_name": "LayoutModel",
      "state": {}
     },
     "5533acd58ee04bdbb3f82180ffc0a6ed": {
      "model_module": "@jupyter-widgets/controls",
      "model_module_version": "1.5.0",
      "model_name": "ComboboxModel",
      "state": {
       "description": "Enter Name:",
       "ensure_option": false,
       "layout": "IPY_MODEL_33d5b09374234fe595305b19036e9d98",
       "placeholder": "Select new name",
       "style": "IPY_MODEL_5d9228af641f477a9ee33b680248becc"
      }
     },
     "55b831e99d844001a13f74c8ad05ee6f": {
      "model_module": "@jupyter-widgets/controls",
      "model_module_version": "1.5.0",
      "model_name": "DescriptionStyleModel",
      "state": {
       "description_width": ""
      }
     },
     "57861da87626405f98fc349cb7d0b495": {
      "model_module": "@jupyter-widgets/base",
      "model_module_version": "1.2.0",
      "model_name": "LayoutModel",
      "state": {}
     },
     "57b09a577b9340da990966750e1e7517": {
      "model_module": "@jupyter-widgets/base",
      "model_module_version": "1.2.0",
      "model_name": "LayoutModel",
      "state": {}
     },
     "5807635c65014779ba6ea8711e87bfaa": {
      "model_module": "@jupyter-widgets/base",
      "model_module_version": "1.2.0",
      "model_name": "LayoutModel",
      "state": {}
     },
     "599a5cff06db461996cd7142389da290": {
      "model_module": "@jupyter-widgets/controls",
      "model_module_version": "1.5.0",
      "model_name": "AccordionModel",
      "state": {
       "_titles": {
        "0": "How to cancel a job"
       },
       "children": [
        "IPY_MODEL_1f1e0c55d14845329a0f545d6077f392"
       ],
       "layout": "IPY_MODEL_81902fa0b9454ae6a9b64acc7e349fdf",
       "selected_index": null
      }
     },
     "59e3fe6742134291b891eac82b9c9842": {
      "model_module": "@jupyter-widgets/controls",
      "model_module_version": "1.5.0",
      "model_name": "ComboboxModel",
      "state": {
       "description": "Enter Name:",
       "ensure_option": false,
       "layout": "IPY_MODEL_bc5927e31d014bc18289dc9176ab7920",
       "placeholder": "Select new name",
       "style": "IPY_MODEL_c4d9dc3057c74e0b95cdc5fb46352233"
      }
     },
     "5c02a4842e3542c79eca1be40af3c7c2": {
      "model_module": "@jupyter-widgets/base",
      "model_module_version": "1.2.0",
      "model_name": "LayoutModel",
      "state": {}
     },
     "5cd4da423cd146779a5574987395a8bb": {
      "model_module": "@jupyter-widgets/base",
      "model_module_version": "1.2.0",
      "model_name": "LayoutModel",
      "state": {}
     },
     "5d9228af641f477a9ee33b680248becc": {
      "model_module": "@jupyter-widgets/controls",
      "model_module_version": "1.5.0",
      "model_name": "DescriptionStyleModel",
      "state": {
       "description_width": ""
      }
     },
     "5d9fa69d9bd34956958d535d15c88396": {
      "model_module": "@jupyter-widgets/controls",
      "model_module_version": "1.5.0",
      "model_name": "ButtonModel",
      "state": {
       "description": "Previous Page",
       "layout": "IPY_MODEL_1a427cabb73841bca9e67515186195a0",
       "style": "IPY_MODEL_2c5c1c74c1c1463488132766b1f18ff8"
      }
     },
     "5dc7e17429de4138b1870200902c4359": {
      "model_module": "@jupyter-widgets/controls",
      "model_module_version": "1.5.0",
      "model_name": "ComboboxModel",
      "state": {
       "description": "Enter Name:",
       "ensure_option": false,
       "layout": "IPY_MODEL_0db81f3ca45e479c9d4ce87a8c2b8bff",
       "placeholder": "Select new name",
       "style": "IPY_MODEL_9984292e963a48088504144c4b29332e"
      }
     },
     "5e25d46c78f04ef88aac8979de0d66e8": {
      "model_module": "@jupyter-widgets/base",
      "model_module_version": "1.2.0",
      "model_name": "LayoutModel",
      "state": {}
     },
     "5e563a457e3646a7ac7ca96e64c457ea": {
      "model_module": "@jupyter-widgets/base",
      "model_module_version": "1.2.0",
      "model_name": "LayoutModel",
      "state": {}
     },
     "5f25b97d27964c7f9822e0fdcc0db2e1": {
      "model_module": "@jupyter-widgets/controls",
      "model_module_version": "1.5.0",
      "model_name": "DescriptionStyleModel",
      "state": {
       "description_width": ""
      }
     },
     "5fdd731ac04842cc9fa52184749cd1b5": {
      "model_module": "@jupyter-widgets/base",
      "model_module_version": "1.2.0",
      "model_name": "LayoutModel",
      "state": {}
     },
     "60958c71b5684aebbe86f6d192a7a7df": {
      "model_module": "@jupyter-widgets/base",
      "model_module_version": "1.2.0",
      "model_name": "LayoutModel",
      "state": {}
     },
     "63a6177296f44f07ab38245931a24df4": {
      "model_module": "@jupyter-widgets/controls",
      "model_module_version": "1.5.0",
      "model_name": "DescriptionStyleModel",
      "state": {
       "description_width": ""
      }
     },
     "63d85d7f22084ead9c320b6423cc1a79": {
      "model_module": "@jupyter-widgets/base",
      "model_module_version": "1.2.0",
      "model_name": "LayoutModel",
      "state": {}
     },
     "668312d6cadb45e4aa6a2fcd107c845e": {
      "model_module": "@jupyter-widgets/output",
      "model_module_version": "1.0.0",
      "model_name": "OutputModel",
      "state": {
       "layout": "IPY_MODEL_6aa78fa72c0149968f5cdb221f157162"
      }
     },
     "68319347d7e44c53bb004f19e7ea19f7": {
      "model_module": "@jupyter-widgets/controls",
      "model_module_version": "1.5.0",
      "model_name": "ButtonModel",
      "state": {
       "description": "Download Results",
       "layout": "IPY_MODEL_5fdd731ac04842cc9fa52184749cd1b5",
       "style": "IPY_MODEL_9f8c185101f44c3180922f976409a890"
      }
     },
     "6a06935365d0453a8fd9c48fc49bb563": {
      "model_module": "@jupyter-widgets/controls",
      "model_module_version": "1.5.0",
      "model_name": "ButtonModel",
      "state": {
       "description": "Rename Job",
       "layout": "IPY_MODEL_8f47e61441204d98867b68874437c7ea",
       "style": "IPY_MODEL_7cecd5610d9c49d6bf4fb61ed69e7308"
      }
     },
     "6aa78fa72c0149968f5cdb221f157162": {
      "model_module": "@jupyter-widgets/base",
      "model_module_version": "1.2.0",
      "model_name": "LayoutModel",
      "state": {}
     },
     "6b6aa23dc97d463ab6b3c3f99613c0a0": {
      "model_module": "@jupyter-widgets/base",
      "model_module_version": "1.2.0",
      "model_name": "LayoutModel",
      "state": {}
     },
     "6d9796d655504a89841240c959500fa8": {
      "model_module": "@jupyter-widgets/output",
      "model_module_version": "1.0.0",
      "model_name": "OutputModel",
      "state": {
       "layout": "IPY_MODEL_5cd4da423cd146779a5574987395a8bb",
       "outputs": [
        {
         "data": {
          "application/vnd.jupyter.widget-view+json": {
           "model_id": "599a5cff06db461996cd7142389da290",
           "version_major": 2,
           "version_minor": 0
          },
          "text/plain": "Accordion(children=(HTML(value='<p>1. Press the stop button in the top bar of your Jupyter notebook <b>twice</…"
         },
         "metadata": {},
         "output_type": "display_data"
        }
       ]
      }
     },
     "6e813efe5b534fb0a7ab89bc782a522c": {
      "model_module": "@jupyter-widgets/controls",
      "model_module_version": "1.5.0",
      "model_name": "AccordionModel",
      "state": {
       "_titles": {
        "0": "Input Parameters"
       },
       "children": [
        "IPY_MODEL_0a6daf948f90426095b531213363d6b1"
       ],
       "layout": "IPY_MODEL_57b09a577b9340da990966750e1e7517",
       "selected_index": null
      }
     },
     "6e8e3119d4db45caac9eac776202e182": {
      "model_module": "@jupyter-widgets/controls",
      "model_module_version": "1.5.0",
      "model_name": "ButtonStyleModel",
      "state": {}
     },
     "6ff04dbc549b4ddcb8a6b258626bbbc5": {
      "model_module": "@jupyter-widgets/controls",
      "model_module_version": "1.5.0",
      "model_name": "ComboboxModel",
      "state": {
       "description": "Enter Name:",
       "ensure_option": false,
       "layout": "IPY_MODEL_d40d65efac874f8c8d90c315200cc80c",
       "placeholder": "Select new name",
       "style": "IPY_MODEL_5f25b97d27964c7f9822e0fdcc0db2e1"
      }
     },
     "71883f199a8e49f68b0dbb3eb829c36f": {
      "model_module": "@jupyter-widgets/base",
      "model_module_version": "1.2.0",
      "model_name": "LayoutModel",
      "state": {}
     },
     "74ed5b8b8d9b42cc8a3798159ec1dbf4": {
      "model_module": "@jupyter-widgets/base",
      "model_module_version": "1.2.0",
      "model_name": "LayoutModel",
      "state": {}
     },
     "757e19b563624805b1c5b3ff45a7cfd0": {
      "model_module": "@jupyter-widgets/controls",
      "model_module_version": "1.5.0",
      "model_name": "ButtonStyleModel",
      "state": {}
     },
     "75877e38da89460590185ddbcd800ef2": {
      "model_module": "@jupyter-widgets/controls",
      "model_module_version": "1.5.0",
      "model_name": "ComboboxModel",
      "state": {
       "description": "Enter Name:",
       "ensure_option": false,
       "layout": "IPY_MODEL_bc23b728a0094cc897ad44d09c16a297",
       "placeholder": "Select new name",
       "style": "IPY_MODEL_63a6177296f44f07ab38245931a24df4"
      }
     },
     "75e5a3af524f4079b4d3ca5db335b54c": {
      "model_module": "@jupyter-widgets/base",
      "model_module_version": "1.2.0",
      "model_name": "LayoutModel",
      "state": {}
     },
     "7693972b5aec435a8a5bbff876fcb7aa": {
      "model_module": "@jupyter-widgets/controls",
      "model_module_version": "1.5.0",
      "model_name": "ButtonModel",
      "state": {
       "description": "Download Results",
       "layout": "IPY_MODEL_fbcf3948e07841d881fc8d5d135fa4e8",
       "style": "IPY_MODEL_c6d688a20ea644f99731acb3225536e4"
      }
     },
     "769c2d5063d4448fabefc7aba44b7101": {
      "model_module": "@jupyter-widgets/controls",
      "model_module_version": "1.5.0",
      "model_name": "ButtonModel",
      "state": {
       "description": "Download",
       "disabled": true,
       "layout": "IPY_MODEL_10b1d2ac77034dc7b260499a4029642e",
       "style": "IPY_MODEL_13434c61673444339b82ba6c68d4b31a"
      }
     },
     "76b0189590c1481bb2a9e40302feebc5": {
      "model_module": "@jupyter-widgets/controls",
      "model_module_version": "1.5.0",
      "model_name": "ButtonModel",
      "state": {
       "description": "Load More",
       "layout": "IPY_MODEL_2fac1efd569443c9ba10fe972a2bcd50",
       "style": "IPY_MODEL_6e8e3119d4db45caac9eac776202e182"
      }
     },
     "77afbaa2b48f498b84c7cd7d793bfe69": {
      "model_module": "@jupyter-widgets/output",
      "model_module_version": "1.0.0",
      "model_name": "OutputModel",
      "state": {
       "layout": "IPY_MODEL_f09f978fd48947d7a0c9d8b5a25ee4d5",
       "outputs": [
        {
         "data": {
          "application/vnd.jupyter.widget-view+json": {
           "model_id": "23c38cce2d08471c902e9022f4ccd92f",
           "version_major": 2,
           "version_minor": 0
          },
          "text/plain": "HBox(children=(Checkbox(value=False, description='receive email on job status? ', style=DescriptionStyle(descr…"
         },
         "metadata": {},
         "output_type": "display_data"
        }
       ]
      }
     },
     "77c1f96bca5b408a95d3fe1b6abf7947": {
      "model_module": "@jupyter-widgets/controls",
      "model_module_version": "1.5.0",
      "model_name": "ButtonStyleModel",
      "state": {}
     },
     "783afd1f0cc2404e8d7140cfa9350574": {
      "model_module": "@jupyter-widgets/base",
      "model_module_version": "1.2.0",
      "model_name": "LayoutModel",
      "state": {}
     },
     "7896586928d64527a02bb6b181ab356d": {
      "model_module": "@jupyter-widgets/output",
      "model_module_version": "1.0.0",
      "model_name": "OutputModel",
      "state": {
       "layout": "IPY_MODEL_cfbe1a5e35bd4f68ab132eea69dcc770",
       "outputs": [
        {
         "data": {
          "text/markdown": "# 😴 No Job to Work On",
          "text/plain": "<IPython.core.display.Markdown object>"
         },
         "metadata": {},
         "output_type": "display_data"
        },
        {
         "data": {
          "text/markdown": "you need to submit your job first",
          "text/plain": "<IPython.core.display.Markdown object>"
         },
         "metadata": {},
         "output_type": "display_data"
        }
       ]
      }
     },
     "78cb89a0aab74e2fbe810628ef560d9f": {
      "model_module": "@jupyter-widgets/base",
      "model_module_version": "1.2.0",
      "model_name": "LayoutModel",
      "state": {}
     },
     "7bdc72641784483eb62f7ddfef4c41f5": {
      "model_module": "@jupyter-widgets/output",
      "model_module_version": "1.0.0",
      "model_name": "OutputModel",
      "state": {
       "layout": "IPY_MODEL_ed990c0775dd4f2d94cd7e166fb1fc5e",
       "outputs": [
        {
         "data": {
          "application/vnd.jupyter.widget-view+json": {
           "model_id": "76b0189590c1481bb2a9e40302feebc5",
           "version_major": 2,
           "version_minor": 0
          },
          "text/plain": "Button(description='Load More', style=ButtonStyle())"
         },
         "metadata": {},
         "output_type": "display_data"
        }
       ]
      }
     },
     "7cecd5610d9c49d6bf4fb61ed69e7308": {
      "model_module": "@jupyter-widgets/controls",
      "model_module_version": "1.5.0",
      "model_name": "ButtonStyleModel",
      "state": {}
     },
     "7e138af3a62e4d84afb4e905c9d81139": {
      "model_module": "@jupyter-widgets/controls",
      "model_module_version": "1.5.0",
      "model_name": "HBoxModel",
      "state": {
       "children": [
        "IPY_MODEL_e3218bf9cb4f42b3bda780f0d177a2d1",
        "IPY_MODEL_7ebcbcb69b2d4cb69efc3361facedcc6"
       ],
       "layout": "IPY_MODEL_47a67f66ae7845c8bb951d410892e698"
      }
     },
     "7ebcbcb69b2d4cb69efc3361facedcc6": {
      "model_module": "@jupyter-widgets/controls",
      "model_module_version": "1.5.0",
      "model_name": "TextModel",
      "state": {
       "layout": "IPY_MODEL_2e5904cdf14f4b76a2b2fea37f43a5d7",
       "placeholder": "Type job name here",
       "style": "IPY_MODEL_d451e58df9fd4d49b0876c66bbd79ea9"
      }
     },
     "80ca576925c84fd18c4f98a1a4a637b0": {
      "model_module": "@jupyter-widgets/base",
      "model_module_version": "1.2.0",
      "model_name": "LayoutModel",
      "state": {}
     },
     "81902fa0b9454ae6a9b64acc7e349fdf": {
      "model_module": "@jupyter-widgets/base",
      "model_module_version": "1.2.0",
      "model_name": "LayoutModel",
      "state": {}
     },
     "8521e3cd62e3497fb8490f24ef73248b": {
      "model_module": "@jupyter-widgets/output",
      "model_module_version": "1.0.0",
      "model_name": "OutputModel",
      "state": {
       "layout": "IPY_MODEL_71883f199a8e49f68b0dbb3eb829c36f",
       "outputs": [
        {
         "data": {
          "application/vnd.jupyter.widget-view+json": {
           "model_id": "060f55dab3324c1fb5f17214dec3ba54",
           "version_major": 2,
           "version_minor": 0
          },
          "text/plain": "Output()"
         },
         "metadata": {},
         "output_type": "display_data"
        }
       ]
      }
     },
     "855493b2588b4f069f86a0b88dfde758": {
      "model_module": "@jupyter-widgets/output",
      "model_module_version": "1.0.0",
      "model_name": "OutputModel",
      "state": {
       "layout": "IPY_MODEL_b9807f71f6df4b4f92931a79779a148a"
      }
     },
     "85633a52c2544785a4eadb084ea40143": {
      "model_module": "@jupyter-widgets/controls",
      "model_module_version": "1.5.0",
      "model_name": "ButtonModel",
      "state": {
       "description": "Restore",
       "layout": "IPY_MODEL_aa90471df409417e9e0573cc94e111fd",
       "style": "IPY_MODEL_3304bd3a6ba64348bf593c5ff78b28dc"
      }
     },
     "8684387bd09d469cb77bff90e66a87d2": {
      "model_module": "@jupyter-widgets/controls",
      "model_module_version": "1.5.0",
      "model_name": "ButtonStyleModel",
      "state": {}
     },
     "87aa8b883baf4c6a97e7c21ba6172d20": {
      "model_module": "@jupyter-widgets/controls",
      "model_module_version": "1.5.0",
      "model_name": "HBoxModel",
      "state": {
       "children": [
        "IPY_MODEL_188cbec6d3dd4f02adae8adf4a2c498e",
        "IPY_MODEL_9e7f4a6b6f434f1681b0976b55c284b7"
       ],
       "layout": "IPY_MODEL_f65525a7ff704f3bb09ccb3afa2fad50"
      }
     },
     "87e312e67fa34ed6a442549af5cfdf24": {
      "model_module": "@jupyter-widgets/base",
      "model_module_version": "1.2.0",
      "model_name": "LayoutModel",
      "state": {}
     },
     "893d648eb86c497391ca67957ad3100e": {
      "model_module": "@jupyter-widgets/output",
      "model_module_version": "1.0.0",
      "model_name": "OutputModel",
      "state": {
       "layout": "IPY_MODEL_5272ae1a8b224c8588f3edc82e7824bb",
       "outputs": [
        {
         "data": {
          "application/vnd.jupyter.widget-view+json": {
           "model_id": "fcb6868139cc4c778011aa4a83824325",
           "version_major": 2,
           "version_minor": 0
          },
          "text/plain": "Accordion(children=(VBox(children=(Label(value='All configs are optional. Please refer to Slurm official docum…"
         },
         "metadata": {},
         "output_type": "display_data"
        }
       ]
      }
     },
     "8a06f8bd9ead4bdf8a22738692ddd0aa": {
      "model_module": "@jupyter-widgets/base",
      "model_module_version": "1.2.0",
      "model_name": "LayoutModel",
      "state": {}
     },
     "8cdc7e56624c43488e44abf871a3c564": {
      "model_module": "@jupyter-widgets/base",
      "model_module_version": "1.2.0",
      "model_name": "LayoutModel",
      "state": {}
     },
     "8ce87af48e8943ca9f59eb261702899b": {
      "model_module": "@jupyter-widgets/controls",
      "model_module_version": "1.5.0",
      "model_name": "ButtonStyleModel",
      "state": {}
     },
     "8d2dd60f67da4e7ebf1e102738226c73": {
      "model_module": "@jupyter-widgets/base",
      "model_module_version": "1.2.0",
      "model_name": "LayoutModel",
      "state": {}
     },
     "8d45f100112f45fb84bb84ef02ce70fb": {
      "model_module": "@jupyter-widgets/controls",
      "model_module_version": "1.5.0",
      "model_name": "IntSliderModel",
      "state": {
       "continuous_update": false,
       "description": "input_a",
       "layout": "IPY_MODEL_cc4d3a7c1706481e9279545fcb551e6b",
       "step": 10,
       "style": "IPY_MODEL_cc38c985b81c41b6b5288638b11128fa",
       "value": 50
      }
     },
     "8df3b4df15e24687880b0487b3d3f207": {
      "model_module": "@jupyter-widgets/controls",
      "model_module_version": "1.5.0",
      "model_name": "DropdownModel",
      "state": {
       "_options_labels": [
        "ACESTest",
        "CUAHSI_Subsetter_Connector",
        "Customized_Resilience_Inference_Measurement_Framework",
        "DEM_Raster_Clipping_Processor",
        "DEM_Raster_Merging_Processor",
        "DEM_Raster_Reprojection_Processor",
        "Dam_Flood_Inundation_Map_Connector",
        "ERA5_Connector",
        "Extract_Inundation_Census_Tracts_Processor",
        "SimpleDataClean_Processor",
        "SimpleDataProc_Processor",
        "Subset_AORC_Forcing_Data_Processor",
        "WRFHydro_Postprocess",
        "Watershed_DEM_Raster_Connector",
        "covid-access",
        "data_fusion",
        "hello_world",
        "mpi-test",
        "population_vulnerable_to_dam_failure",
        "pysal-access",
        "summa3",
        "three-examples",
        "wrfhydro-5.x"
       ],
       "description": "📦 Job Templates:",
       "index": 16,
       "layout": "IPY_MODEL_cc4d3a7c1706481e9279545fcb551e6b",
       "style": "IPY_MODEL_e7b5f15f12174e1bbacc81dd03f5a308"
      }
     },
     "8e1864742f604e35815b675ff2907b25": {
      "model_module": "@jupyter-widgets/base",
      "model_module_version": "1.2.0",
      "model_name": "LayoutModel",
      "state": {}
     },
     "8ef5c50abfa44bfab63e7ff1b46c83fd": {
      "model_module": "@jupyter-widgets/controls",
      "model_module_version": "1.5.0",
      "model_name": "ButtonStyleModel",
      "state": {}
     },
     "8f47e61441204d98867b68874437c7ea": {
      "model_module": "@jupyter-widgets/base",
      "model_module_version": "1.2.0",
      "model_name": "LayoutModel",
      "state": {}
     },
     "8f7ba49e5b9e445da74ac9e81f096476": {
      "model_module": "@jupyter-widgets/base",
      "model_module_version": "1.2.0",
      "model_name": "LayoutModel",
      "state": {}
     },
     "93dbbe7da209440d9c0d37bc3b5a5ae9": {
      "model_module": "@jupyter-widgets/controls",
      "model_module_version": "1.5.0",
      "model_name": "HBoxModel",
      "state": {
       "children": [
        "IPY_MODEL_f050c9eeb3a4441ba7289b74b9ede0bd",
        "IPY_MODEL_e1af35a95fe24474aae35ca633c908e5"
       ],
       "layout": "IPY_MODEL_e463fbf9d63a4d1e81d47831f20ad2a7"
      }
     },
     "9691183b1c8c4c6f8041573b52e1fb47": {
      "model_module": "@jupyter-widgets/controls",
      "model_module_version": "1.5.0",
      "model_name": "ButtonModel",
      "state": {
       "description": "Restore",
       "layout": "IPY_MODEL_c204dce7fdb54ee8ada4dcc6fb25f7b9",
       "style": "IPY_MODEL_095edccb07db4f0ca0b7e58e9620adaf"
      }
     },
     "96b7e50796cf49c6addccc6d377d4a1d": {
      "model_module": "@jupyter-widgets/base",
      "model_module_version": "1.2.0",
      "model_name": "LayoutModel",
      "state": {}
     },
     "98be955c89f54188a6ded5e4d6905c9f": {
      "model_module": "@jupyter-widgets/controls",
      "model_module_version": "1.5.0",
      "model_name": "ButtonModel",
      "state": {
       "description": "Download Results",
       "layout": "IPY_MODEL_30df69e8fb6948c1a73093580bac0152",
       "style": "IPY_MODEL_fa56195f18dd450f99f49307b6184aa5"
      }
     },
     "990e94e3ab9843e5a35b25d52fe3b13e": {
      "model_module": "@jupyter-widgets/controls",
      "model_module_version": "1.5.0",
      "model_name": "HBoxModel",
      "state": {
       "children": [
        "IPY_MODEL_b108a51db81e41ed8d1931945f8a7ed0",
        "IPY_MODEL_5533acd58ee04bdbb3f82180ffc0a6ed"
       ],
       "layout": "IPY_MODEL_8a06f8bd9ead4bdf8a22738692ddd0aa"
      }
     },
     "994d0265d6a4464f8da1040271449d93": {
      "model_module": "@jupyter-widgets/base",
      "model_module_version": "1.2.0",
      "model_name": "LayoutModel",
      "state": {}
     },
     "997dd61b4ee542e998b76d6f0f79d51a": {
      "model_module": "@jupyter-widgets/output",
      "model_module_version": "1.0.0",
      "model_name": "OutputModel",
      "state": {
       "layout": "IPY_MODEL_52a4cafb4ae2404f837a92a7312fd501"
      }
     },
     "9984292e963a48088504144c4b29332e": {
      "model_module": "@jupyter-widgets/controls",
      "model_module_version": "1.5.0",
      "model_name": "DescriptionStyleModel",
      "state": {
       "description_width": ""
      }
     },
     "9ad52f5e4dec412e9a23dec24c00a4fc": {
      "model_module": "@jupyter-widgets/base",
      "model_module_version": "1.2.0",
      "model_name": "LayoutModel",
      "state": {}
     },
     "9c9ad725adf74a9191a00d490448a3f3": {
      "model_module": "@jupyter-widgets/output",
      "model_module_version": "1.0.0",
      "model_name": "OutputModel",
      "state": {
       "layout": "IPY_MODEL_4bdbde3b39fb4b0389f8d1c04fefc2cd",
       "outputs": [
        {
         "data": {
          "text/markdown": "**Recently Submitted Jobs for alexandermichels**",
          "text/plain": "<IPython.core.display.Markdown object>"
         },
         "metadata": {},
         "output_type": "display_data"
        },
        {
         "data": {
          "text/markdown": "| id | slurmId | hpc | remoteExecutableFolder | remoteDataFolder | remoteResultFolder | \n| --- | --- | --- | --- | --- | --- | \n| 1717082033srh2P | 9212277 | keeling_community | {'id': '171708203507ez5', 'name': None, 'hpc': 'keeling_community', 'hpcPath': '/data/keeling/a/cigi-gisolve/scratch/171708203507ez5', 'globusPath': '/171708203507ez5', 'userId': 'alexandermichels@cybergisx.cigi.illinois.edu', 'isWritable': False, 'createdAt': '2024-05-30T15:13:59.468Z', 'updatedAt': None, 'deletedAt': None} | {'id': '1717082039PVEs9', 'name': None, 'hpc': 'keeling_community', 'hpcPath': '/data/keeling/a/cigi-gisolve/scratch/1717082039PVEs9', 'globusPath': '/1717082039PVEs9', 'userId': 'alexandermichels@cybergisx.cigi.illinois.edu', 'isWritable': False, 'createdAt': '2024-05-30T15:14:35.936Z', 'updatedAt': None, 'deletedAt': None} | {'id': '1717082076238rS', 'name': None, 'hpc': 'keeling_community', 'hpcPath': '/data/keeling/a/cigi-gisolve/scratch/1717082076238rS', 'globusPath': '/1717082076238rS', 'userId': 'alexandermichels@cybergisx.cigi.illinois.edu', 'isWritable': False, 'createdAt': '2024-05-30T15:14:36.506Z', 'updatedAt': None, 'deletedAt': None} | ",
          "text/plain": "<IPython.core.display.Markdown object>"
         },
         "metadata": {},
         "output_type": "display_data"
        },
        {
         "data": {
          "text/markdown": "| param | slurm | userId | maintainer | createdAt | modelName | \n| --- | --- | --- | --- | --- | --- | \n| {\"name\": \"Your Name Here\"} | {\"time\": \"10:00\", \"num_of_task\": 1, \"cpu_per_task\": 1, \"memory\": \"4GB\"} | alexandermichels@cybergisx.cigi.illinois.edu | community_contribution | 2024-05-30T15:13:52.808Z | three-examples | ",
          "text/plain": "<IPython.core.display.Markdown object>"
         },
         "metadata": {},
         "output_type": "display_data"
        },
        {
         "data": {
          "application/vnd.jupyter.widget-view+json": {
           "model_id": "b33959b6e3064c3cb22d3d09d4f23f05",
           "version_major": 2,
           "version_minor": 0
          },
          "text/plain": "Button(description='Restore', style=ButtonStyle())"
         },
         "metadata": {},
         "output_type": "display_data"
        },
        {
         "data": {
          "text/markdown": "<br>",
          "text/plain": "<IPython.core.display.Markdown object>"
         },
         "metadata": {},
         "output_type": "display_data"
        },
        {
         "data": {
          "text/markdown": "| id | slurmId | hpc | remoteExecutableFolder | remoteDataFolder | remoteResultFolder | \n| --- | --- | --- | --- | --- | --- | \n| 171708148841QWk | 9212276 | keeling_community | {'id': '1717081492tdxhH', 'name': None, 'hpc': 'keeling_community', 'hpcPath': '/data/keeling/a/cigi-gisolve/scratch/1717081492tdxhH', 'globusPath': '/1717081492tdxhH', 'userId': 'alexandermichels@cybergisx.cigi.illinois.edu', 'isWritable': False, 'createdAt': '2024-05-30T15:04:56.437Z', 'updatedAt': None, 'deletedAt': None} | {'id': '1717081496rHyZr', 'name': None, 'hpc': 'keeling_community', 'hpcPath': '/data/keeling/a/cigi-gisolve/scratch/1717081496rHyZr', 'globusPath': '/1717081496rHyZr', 'userId': 'alexandermichels@cybergisx.cigi.illinois.edu', 'isWritable': False, 'createdAt': '2024-05-30T15:13:09.422Z', 'updatedAt': None, 'deletedAt': None} | {'id': '1717081989Cm0Ia', 'name': None, 'hpc': 'keeling_community', 'hpcPath': '/data/keeling/a/cigi-gisolve/scratch/1717081989Cm0Ia', 'globusPath': '/1717081989Cm0Ia', 'userId': 'alexandermichels@cybergisx.cigi.illinois.edu', 'isWritable': False, 'createdAt': '2024-05-30T15:13:10.015Z', 'updatedAt': None, 'deletedAt': None} | ",
          "text/plain": "<IPython.core.display.Markdown object>"
         },
         "metadata": {},
         "output_type": "display_data"
        },
        {
         "data": {
          "text/markdown": "| param | slurm | userId | maintainer | createdAt | modelName | \n| --- | --- | --- | --- | --- | --- | \n| {\"name\": \"Your Name Here\"} | {\"time\": \"10:00\", \"num_of_task\": 1, \"cpu_per_task\": 1, \"memory\": \"4GB\"} | alexandermichels@cybergisx.cigi.illinois.edu | community_contribution | 2024-05-30T15:04:48.313Z | three-examples | ",
          "text/plain": "<IPython.core.display.Markdown object>"
         },
         "metadata": {},
         "output_type": "display_data"
        },
        {
         "data": {
          "application/vnd.jupyter.widget-view+json": {
           "model_id": "ab711b2529fd4d6c937e5bb6b7d6d458",
           "version_major": 2,
           "version_minor": 0
          },
          "text/plain": "Button(description='Restore', style=ButtonStyle())"
         },
         "metadata": {},
         "output_type": "display_data"
        },
        {
         "data": {
          "text/markdown": "<br>",
          "text/plain": "<IPython.core.display.Markdown object>"
         },
         "metadata": {},
         "output_type": "display_data"
        },
        {
         "data": {
          "text/markdown": "| id | slurmId | hpc | remoteExecutableFolder | remoteDataFolder | remoteResultFolder | \n| --- | --- | --- | --- | --- | --- | \n| 1717080915akGEa | 9212273 | keeling_community | {'id': '1717080918hDGNP', 'name': None, 'hpc': 'keeling_community', 'hpcPath': '/data/keeling/a/cigi-gisolve/scratch/1717080918hDGNP', 'globusPath': '/1717080918hDGNP', 'userId': 'alexandermichels@cybergisx.cigi.illinois.edu', 'isWritable': False, 'createdAt': '2024-05-30T14:55:19.704Z', 'updatedAt': None, 'deletedAt': None} | None | {'id': '1717080920aeBBe', 'name': None, 'hpc': 'keeling_community', 'hpcPath': '/data/keeling/a/cigi-gisolve/scratch/1717080920aeBBe', 'globusPath': '/1717080920aeBBe', 'userId': 'alexandermichels@cybergisx.cigi.illinois.edu', 'isWritable': False, 'createdAt': '2024-05-30T14:55:20.164Z', 'updatedAt': None, 'deletedAt': None} | ",
          "text/plain": "<IPython.core.display.Markdown object>"
         },
         "metadata": {},
         "output_type": "display_data"
        },
        {
         "data": {
          "text/markdown": "| param | slurm | userId | maintainer | createdAt | modelName | \n| --- | --- | --- | --- | --- | --- | \n| {\"input_a\": 50, \"input_b\": \"foo\"} | {\"time\": \"10:00\", \"num_of_task\": 2, \"cpu_per_task\": 1} | alexandermichels@cybergisx.cigi.illinois.edu | community_contribution | 2024-05-30T14:55:14.529Z | hello_world | ",
          "text/plain": "<IPython.core.display.Markdown object>"
         },
         "metadata": {},
         "output_type": "display_data"
        },
        {
         "data": {
          "application/vnd.jupyter.widget-view+json": {
           "model_id": "f22e45d9257444e2945a5b3d616e739c",
           "version_major": 2,
           "version_minor": 0
          },
          "text/plain": "Button(description='Restore', style=ButtonStyle())"
         },
         "metadata": {},
         "output_type": "display_data"
        },
        {
         "data": {
          "text/markdown": "<br>",
          "text/plain": "<IPython.core.display.Markdown object>"
         },
         "metadata": {},
         "output_type": "display_data"
        },
        {
         "data": {
          "text/markdown": "| id | slurmId | hpc | remoteExecutableFolder | remoteDataFolder | remoteResultFolder | \n| --- | --- | --- | --- | --- | --- | \n| 1715357719PW8cx | 4961448 | keeling_community | {'id': '1715357723edTGq', 'name': None, 'hpc': 'keeling_community', 'hpcPath': '/data/keeling/a/cigi-gisolve/scratch/1715357723edTGq', 'globusPath': '/1715357723edTGq', 'userId': 'alexandermichels@cybergisx.cigi.illinois.edu', 'isWritable': False, 'createdAt': '2024-05-10T16:15:28.787Z', 'updatedAt': None, 'deletedAt': None} | None | {'id': '1715447522fyWS4', 'name': None, 'hpc': 'keeling_community', 'hpcPath': '/data/keeling/a/cigi-gisolve/scratch/1715447522fyWS4', 'globusPath': '/1715447522fyWS4', 'userId': 'alexandermichels@cybergisx.cigi.illinois.edu', 'isWritable': False, 'createdAt': '2024-05-11T17:12:05.676Z', 'updatedAt': None, 'deletedAt': None} | ",
          "text/plain": "<IPython.core.display.Markdown object>"
         },
         "metadata": {},
         "output_type": "display_data"
        },
        {
         "data": {
          "text/markdown": "| param | slurm | userId | maintainer | createdAt | modelName | \n| --- | --- | --- | --- | --- | --- | \n| {\"name\": \"Your Name Here\"} | {\"time\": \"10:00\", \"num_of_task\": 1, \"cpu_per_task\": 1, \"memory\": \"4GB\"} | alexandermichels@cybergisx.cigi.illinois.edu | community_contribution | 2024-05-10T16:15:18.917Z | three-examples | ",
          "text/plain": "<IPython.core.display.Markdown object>"
         },
         "metadata": {},
         "output_type": "display_data"
        },
        {
         "data": {
          "application/vnd.jupyter.widget-view+json": {
           "model_id": "85633a52c2544785a4eadb084ea40143",
           "version_major": 2,
           "version_minor": 0
          },
          "text/plain": "Button(description='Restore', style=ButtonStyle())"
         },
         "metadata": {},
         "output_type": "display_data"
        },
        {
         "data": {
          "text/markdown": "<br>",
          "text/plain": "<IPython.core.display.Markdown object>"
         },
         "metadata": {},
         "output_type": "display_data"
        },
        {
         "data": {
          "text/markdown": "| id | slurmId | hpc | remoteExecutableFolder | remoteDataFolder | remoteResultFolder | \n| --- | --- | --- | --- | --- | --- | \n| 17126826728ItUn | 4797856 | anvil_community | {'id': '1712682675l1kUv', 'name': None, 'hpc': 'anvil_community', 'hpcPath': '/anvil/scratch/x-cybergis/compute/1712682675l1kUv', 'globusPath': '/1712682675l1kUv', 'userId': 'alexandermichels@cybergisx.cigi.illinois.edu', 'isWritable': False, 'createdAt': '2024-04-09T17:11:17.225Z', 'updatedAt': None, 'deletedAt': None} | None | {'id': '1712682677MrXIP', 'name': None, 'hpc': 'anvil_community', 'hpcPath': '/anvil/scratch/x-cybergis/compute/1712682677MrXIP', 'globusPath': '/1712682677MrXIP', 'userId': 'alexandermichels@cybergisx.cigi.illinois.edu', 'isWritable': False, 'createdAt': '2024-04-09T17:11:17.730Z', 'updatedAt': None, 'deletedAt': None} | ",
          "text/plain": "<IPython.core.display.Markdown object>"
         },
         "metadata": {},
         "output_type": "display_data"
        },
        {
         "data": {
          "text/markdown": "| param | slurm | userId | maintainer | createdAt | modelName | \n| --- | --- | --- | --- | --- | --- | \n| {\"input_a\": 50, \"input_b\": \"foo\"} | {\"time\": \"10:00\", \"num_of_task\": 2, \"cpu_per_task\": 1} | alexandermichels@cybergisx.cigi.illinois.edu | community_contribution | 2024-04-09T17:11:12.091Z | hello_world | ",
          "text/plain": "<IPython.core.display.Markdown object>"
         },
         "metadata": {},
         "output_type": "display_data"
        },
        {
         "data": {
          "application/vnd.jupyter.widget-view+json": {
           "model_id": "9691183b1c8c4c6f8041573b52e1fb47",
           "version_major": 2,
           "version_minor": 0
          },
          "text/plain": "Button(description='Restore', style=ButtonStyle())"
         },
         "metadata": {},
         "output_type": "display_data"
        },
        {
         "data": {
          "text/markdown": "<br>",
          "text/plain": "<IPython.core.display.Markdown object>"
         },
         "metadata": {},
         "output_type": "display_data"
        }
       ]
      }
     },
     "9e7f4a6b6f434f1681b0976b55c284b7": {
      "model_module": "@jupyter-widgets/controls",
      "model_module_version": "1.5.0",
      "model_name": "ComboboxModel",
      "state": {
       "description": "Enter Name:",
       "ensure_option": false,
       "layout": "IPY_MODEL_00c38c1ff16749208f5f8377c6c592e1",
       "placeholder": "Select new name",
       "style": "IPY_MODEL_b42e53620a324b24ad95b688b8ea0e16"
      }
     },
     "9f8c185101f44c3180922f976409a890": {
      "model_module": "@jupyter-widgets/controls",
      "model_module_version": "1.5.0",
      "model_name": "ButtonStyleModel",
      "state": {}
     },
     "a4985d2281e54861b4bae1846f1d1766": {
      "model_module": "@jupyter-widgets/output",
      "model_module_version": "1.0.0",
      "model_name": "OutputModel",
      "state": {
       "layout": "IPY_MODEL_ef651c1dce1b45a6bb2258da8692d83b"
      }
     },
     "a49e5f60a6234dc1bd80847485c1327e": {
      "model_module": "@jupyter-widgets/base",
      "model_module_version": "1.2.0",
      "model_name": "LayoutModel",
      "state": {}
     },
     "a55ee3e876cc4762be18d225246c8d82": {
      "model_module": "@jupyter-widgets/output",
      "model_module_version": "1.0.0",
      "model_name": "OutputModel",
      "state": {
       "layout": "IPY_MODEL_030018cdb7734febadd04b0d1ebf1935"
      }
     },
     "a708e9ca21e44eaba0b28250bb5728ff": {
      "model_module": "@jupyter-widgets/controls",
      "model_module_version": "1.5.0",
      "model_name": "ButtonStyleModel",
      "state": {}
     },
     "a7af46c0c3ff44f89ee1d15f1098b24c": {
      "model_module": "@jupyter-widgets/output",
      "model_module_version": "1.0.0",
      "model_name": "OutputModel",
      "state": {
       "layout": "IPY_MODEL_57861da87626405f98fc349cb7d0b495"
      }
     },
     "aa78b71212f2438c81705ff94ea69990": {
      "model_module": "@jupyter-widgets/controls",
      "model_module_version": "1.5.0",
      "model_name": "ButtonStyleModel",
      "state": {}
     },
     "aa90471df409417e9e0573cc94e111fd": {
      "model_module": "@jupyter-widgets/base",
      "model_module_version": "1.2.0",
      "model_name": "LayoutModel",
      "state": {}
     },
     "aa91e2f111c544a782c96956cb7e5495": {
      "model_module": "@jupyter-widgets/controls",
      "model_module_version": "1.5.0",
      "model_name": "ButtonModel",
      "state": {
       "description": "Download Results",
       "layout": "IPY_MODEL_60958c71b5684aebbe86f6d192a7a7df",
       "style": "IPY_MODEL_a708e9ca21e44eaba0b28250bb5728ff"
      }
     },
     "ab711b2529fd4d6c937e5bb6b7d6d458": {
      "model_module": "@jupyter-widgets/controls",
      "model_module_version": "1.5.0",
      "model_name": "ButtonModel",
      "state": {
       "description": "Restore",
       "layout": "IPY_MODEL_53e286916adf46dc888162566c7c8280",
       "style": "IPY_MODEL_0bb9c54a34104230ad233f6a6b5761ec"
      }
     },
     "ac9fbd4857324c50b976dc9d806e87b4": {
      "model_module": "@jupyter-widgets/base",
      "model_module_version": "1.2.0",
      "model_name": "LayoutModel",
      "state": {}
     },
     "adca86f528ce49a5939430f701a15ffe": {
      "model_module": "@jupyter-widgets/controls",
      "model_module_version": "1.5.0",
      "model_name": "ButtonStyleModel",
      "state": {}
     },
     "add3915d9f0d49348dcab0e6c0a9ae71": {
      "model_module": "@jupyter-widgets/base",
      "model_module_version": "1.2.0",
      "model_name": "LayoutModel",
      "state": {}
     },
     "ae53a0252c954d11aac381cd8b2e1bb0": {
      "model_module": "@jupyter-widgets/controls",
      "model_module_version": "1.5.0",
      "model_name": "ButtonModel",
      "state": {
       "description": "Rename Job",
       "layout": "IPY_MODEL_3c7e2b2edb5146b19a4649bdf8bd5421",
       "style": "IPY_MODEL_b90125e8b5d54c71a1ec0fa145907dde"
      }
     },
     "b108a51db81e41ed8d1931945f8a7ed0": {
      "model_module": "@jupyter-widgets/controls",
      "model_module_version": "1.5.0",
      "model_name": "ButtonModel",
      "state": {
       "description": "Rename Job",
       "layout": "IPY_MODEL_fcee2f15b06946f596bb39aacb16f6ef",
       "style": "IPY_MODEL_36dcb453c0ab4a7c90fa96a80218f278"
      }
     },
     "b285f95909294ac7a85b3b8568b54cbb": {
      "model_module": "@jupyter-widgets/controls",
      "model_module_version": "1.5.0",
      "model_name": "TextModel",
      "state": {
       "layout": "IPY_MODEL_faa3d28b13b24f92aaa5120bef8760d1",
       "placeholder": "example@illinois.edu",
       "style": "IPY_MODEL_d80b43d7af1e4fb48fc70f178936312e"
      }
     },
     "b33959b6e3064c3cb22d3d09d4f23f05": {
      "model_module": "@jupyter-widgets/controls",
      "model_module_version": "1.5.0",
      "model_name": "ButtonModel",
      "state": {
       "description": "Restore",
       "layout": "IPY_MODEL_6b6aa23dc97d463ab6b3c3f99613c0a0",
       "style": "IPY_MODEL_77c1f96bca5b408a95d3fe1b6abf7947"
      }
     },
     "b366b06e2c0b4dbcbd6d64cff025fdeb": {
      "model_module": "@jupyter-widgets/base",
      "model_module_version": "1.2.0",
      "model_name": "LayoutModel",
      "state": {}
     },
     "b42e53620a324b24ad95b688b8ea0e16": {
      "model_module": "@jupyter-widgets/controls",
      "model_module_version": "1.5.0",
      "model_name": "DescriptionStyleModel",
      "state": {
       "description_width": ""
      }
     },
     "b45e834316744d35bef00968445438cb": {
      "model_module": "@jupyter-widgets/controls",
      "model_module_version": "1.5.0",
      "model_name": "ButtonStyleModel",
      "state": {}
     },
     "b4e19d02b82441c283ed16803efe7f5f": {
      "model_module": "@jupyter-widgets/controls",
      "model_module_version": "1.5.0",
      "model_name": "DropdownModel",
      "state": {
       "_options_labels": [
        "aces_community",
        "anvil_community",
        "expanse_community",
        "keeling_community"
       ],
       "description": "🖥 Computing Resource:",
       "index": 3,
       "layout": "IPY_MODEL_cc4d3a7c1706481e9279545fcb551e6b",
       "style": "IPY_MODEL_3af991e807c5406b99a2d7cfcfeb7f2c"
      }
     },
     "b5b4cbb13d4e4956858dc97b23292c30": {
      "model_module": "@jupyter-widgets/controls",
      "model_module_version": "1.5.0",
      "model_name": "ComboboxModel",
      "state": {
       "description": "Enter Name:",
       "ensure_option": false,
       "layout": "IPY_MODEL_3eb8ab6a012f4d37a051621ac4bc920c",
       "placeholder": "Select new name",
       "style": "IPY_MODEL_55b831e99d844001a13f74c8ad05ee6f"
      }
     },
     "b7aa7185180342f6b6d4f07cfb51d9dc": {
      "model_module": "@jupyter-widgets/base",
      "model_module_version": "1.2.0",
      "model_name": "LayoutModel",
      "state": {}
     },
     "b90125e8b5d54c71a1ec0fa145907dde": {
      "model_module": "@jupyter-widgets/controls",
      "model_module_version": "1.5.0",
      "model_name": "ButtonStyleModel",
      "state": {}
     },
     "b9807f71f6df4b4f92931a79779a148a": {
      "model_module": "@jupyter-widgets/base",
      "model_module_version": "1.2.0",
      "model_name": "LayoutModel",
      "state": {}
     },
     "bac3ea722c484b7a88aac61f131984db": {
      "model_module": "@jupyter-widgets/output",
      "model_module_version": "1.0.0",
      "model_name": "OutputModel",
      "state": {
       "layout": "IPY_MODEL_783afd1f0cc2404e8d7140cfa9350574",
       "outputs": [
        {
         "data": {
          "text/markdown": "# ⏳ Waiting for Job to Finish...",
          "text/plain": "<IPython.core.display.Markdown object>"
         },
         "metadata": {},
         "output_type": "display_data"
        },
        {
         "data": {
          "application/vnd.jupyter.widget-view+json": {
           "model_id": "769c2d5063d4448fabefc7aba44b7101",
           "version_major": 2,
           "version_minor": 0
          },
          "text/plain": "Button(description='Download', disabled=True, style=ButtonStyle())"
         },
         "metadata": {},
         "output_type": "display_data"
        }
       ]
      }
     },
     "bc23b728a0094cc897ad44d09c16a297": {
      "model_module": "@jupyter-widgets/base",
      "model_module_version": "1.2.0",
      "model_name": "LayoutModel",
      "state": {}
     },
     "bc5927e31d014bc18289dc9176ab7920": {
      "model_module": "@jupyter-widgets/base",
      "model_module_version": "1.2.0",
      "model_name": "LayoutModel",
      "state": {}
     },
     "bd7472d097874ec98b18856f4b6d1443": {
      "model_module": "@jupyter-widgets/controls",
      "model_module_version": "1.5.0",
      "model_name": "DescriptionStyleModel",
      "state": {
       "description_width": ""
      }
     },
     "be239b0db0834a5082069c54120b4f43": {
      "model_module": "@jupyter-widgets/controls",
      "model_module_version": "1.5.0",
      "model_name": "AccordionModel",
      "state": {
       "_titles": {
        "0": "Computing Resource"
       },
       "children": [
        "IPY_MODEL_b4e19d02b82441c283ed16803efe7f5f"
       ],
       "layout": "IPY_MODEL_b366b06e2c0b4dbcbd6d64cff025fdeb",
       "selected_index": null
      }
     },
     "c02608dccb3748f4bdc0499c0ac5d22d": {
      "model_module": "@jupyter-widgets/base",
      "model_module_version": "1.2.0",
      "model_name": "LayoutModel",
      "state": {}
     },
     "c0925ced37444660a414885576ace2f9": {
      "model_module": "@jupyter-widgets/controls",
      "model_module_version": "1.5.0",
      "model_name": "ButtonStyleModel",
      "state": {}
     },
     "c14a2f560ee3469eb1bac0955ed0c6f8": {
      "model_module": "@jupyter-widgets/controls",
      "model_module_version": "1.5.0",
      "model_name": "HBoxModel",
      "state": {
       "children": [
        "IPY_MODEL_34183e9e82244b1ebbe1822066ec1a97",
        "IPY_MODEL_d922c302d50c47b4914107ee5c231182"
       ],
       "layout": "IPY_MODEL_8f7ba49e5b9e445da74ac9e81f096476"
      }
     },
     "c204dce7fdb54ee8ada4dcc6fb25f7b9": {
      "model_module": "@jupyter-widgets/base",
      "model_module_version": "1.2.0",
      "model_name": "LayoutModel",
      "state": {}
     },
     "c355d599b69a449685b274a35ec1b5a0": {
      "model_module": "@jupyter-widgets/controls",
      "model_module_version": "1.5.0",
      "model_name": "VBoxModel",
      "state": {
       "children": [
        "IPY_MODEL_457a03b2d2fa4bac9cde2129fe500f10",
        "IPY_MODEL_f77298d993f843e98713b04724d517d3"
       ],
       "layout": "IPY_MODEL_63d85d7f22084ead9c320b6423cc1a79"
      }
     },
     "c4d9dc3057c74e0b95cdc5fb46352233": {
      "model_module": "@jupyter-widgets/controls",
      "model_module_version": "1.5.0",
      "model_name": "DescriptionStyleModel",
      "state": {
       "description_width": ""
      }
     },
     "c5519c5b45a844b3b5d3e394018bfb3a": {
      "model_module": "@jupyter-widgets/controls",
      "model_module_version": "1.5.0",
      "model_name": "DescriptionStyleModel",
      "state": {
       "description_width": ""
      }
     },
     "c6417fa4dd5847598f52034c984fc5a4": {
      "model_module": "@jupyter-widgets/controls",
      "model_module_version": "1.5.0",
      "model_name": "ButtonStyleModel",
      "state": {}
     },
     "c676e5aba9e04fada7cd1dabb2846ad1": {
      "model_module": "@jupyter-widgets/controls",
      "model_module_version": "1.5.0",
      "model_name": "ButtonModel",
      "state": {
       "description": "Download Results",
       "layout": "IPY_MODEL_fcaebd073b51496e83f9617b05ee22dc",
       "style": "IPY_MODEL_d53d5e742b5d4ad4ae5755265bbb5001"
      }
     },
     "c6d688a20ea644f99731acb3225536e4": {
      "model_module": "@jupyter-widgets/controls",
      "model_module_version": "1.5.0",
      "model_name": "ButtonStyleModel",
      "state": {}
     },
     "c786d6eb46ad47a49cb74e98acc8399f": {
      "model_module": "@jupyter-widgets/controls",
      "model_module_version": "1.5.0",
      "model_name": "ButtonModel",
      "state": {
       "description": "Download Results",
       "layout": "IPY_MODEL_96b7e50796cf49c6addccc6d377d4a1d",
       "style": "IPY_MODEL_c0925ced37444660a414885576ace2f9"
      }
     },
     "c9cfe23aedd947918d73627776a5ab9f": {
      "model_module": "@jupyter-widgets/controls",
      "model_module_version": "1.5.0",
      "model_name": "ButtonModel",
      "state": {
       "description": "Rename Job",
       "layout": "IPY_MODEL_46e7ebb0a1e7411ba85563bb7705814d",
       "style": "IPY_MODEL_8ef5c50abfa44bfab63e7ff1b46c83fd"
      }
     },
     "ca930ee96ca044e48e0fde23da8e11b1": {
      "model_module": "@jupyter-widgets/base",
      "model_module_version": "1.2.0",
      "model_name": "LayoutModel",
      "state": {}
     },
     "cb8f9a29bc784304b83eaf84a2fba5be": {
      "model_module": "@jupyter-widgets/base",
      "model_module_version": "1.2.0",
      "model_name": "LayoutModel",
      "state": {}
     },
     "cc38c985b81c41b6b5288638b11128fa": {
      "model_module": "@jupyter-widgets/controls",
      "model_module_version": "1.5.0",
      "model_name": "SliderStyleModel",
      "state": {
       "description_width": "auto"
      }
     },
     "cc4d3a7c1706481e9279545fcb551e6b": {
      "model_module": "@jupyter-widgets/base",
      "model_module_version": "1.2.0",
      "model_name": "LayoutModel",
      "state": {
       "width": "60%"
      }
     },
     "cc99fe57f8de45bdb5369bb91f0e7abd": {
      "model_module": "@jupyter-widgets/controls",
      "model_module_version": "1.5.0",
      "model_name": "ButtonStyleModel",
      "state": {}
     },
     "ccd2dfa818854821b328024055793eda": {
      "model_module": "@jupyter-widgets/output",
      "model_module_version": "1.0.0",
      "model_name": "OutputModel",
      "state": {
       "layout": "IPY_MODEL_2778ced401214e6dbd0a7c2e37e43801",
       "outputs": [
        {
         "data": {
          "application/vnd.jupyter.widget-view+json": {
           "model_id": "7896586928d64527a02bb6b181ab356d",
           "version_major": 2,
           "version_minor": 0
          },
          "text/plain": "Output()"
         },
         "metadata": {},
         "output_type": "display_data"
        },
        {
         "data": {
          "application/vnd.jupyter.widget-view+json": {
           "model_id": "6d9796d655504a89841240c959500fa8",
           "version_major": 2,
           "version_minor": 0
          },
          "text/plain": "Output()"
         },
         "metadata": {},
         "output_type": "display_data"
        },
        {
         "data": {
          "text/markdown": "***",
          "text/plain": "<IPython.core.display.Markdown object>"
         },
         "metadata": {},
         "output_type": "display_data"
        },
        {
         "data": {
          "text/markdown": "## 📋 job events (live refresh)",
          "text/plain": "<IPython.core.display.Markdown object>"
         },
         "metadata": {},
         "output_type": "display_data"
        },
        {
         "data": {
          "application/vnd.jupyter.widget-view+json": {
           "model_id": "a55ee3e876cc4762be18d225246c8d82",
           "version_major": 2,
           "version_minor": 0
          },
          "text/plain": "Output()"
         },
         "metadata": {},
         "output_type": "display_data"
        },
        {
         "data": {
          "text/markdown": "***",
          "text/plain": "<IPython.core.display.Markdown object>"
         },
         "metadata": {},
         "output_type": "display_data"
        },
        {
         "data": {
          "text/markdown": "## 📋 job logs",
          "text/plain": "<IPython.core.display.Markdown object>"
         },
         "metadata": {},
         "output_type": "display_data"
        },
        {
         "data": {
          "application/vnd.jupyter.widget-view+json": {
           "model_id": "855493b2588b4f069f86a0b88dfde758",
           "version_major": 2,
           "version_minor": 0
          },
          "text/plain": "Output()"
         },
         "metadata": {},
         "output_type": "display_data"
        },
        {
         "data": {
          "text/markdown": "***",
          "text/plain": "<IPython.core.display.Markdown object>"
         },
         "metadata": {},
         "output_type": "display_data"
        }
       ]
      }
     },
     "cddd632ffbcf48289e1e71801aa6fa6d": {
      "model_module": "@jupyter-widgets/controls",
      "model_module_version": "1.5.0",
      "model_name": "DescriptionStyleModel",
      "state": {
       "description_width": "auto"
      }
     },
     "cf714e6e88bc4887bfbd8a13bcb88ec3": {
      "model_module": "@jupyter-widgets/base",
      "model_module_version": "1.2.0",
      "model_name": "LayoutModel",
      "state": {}
     },
     "cfbe1a5e35bd4f68ab132eea69dcc770": {
      "model_module": "@jupyter-widgets/base",
      "model_module_version": "1.2.0",
      "model_name": "LayoutModel",
      "state": {}
     },
     "d0151d9bfb004cc7a30a2cdbd3485ad0": {
      "model_module": "@jupyter-widgets/output",
      "model_module_version": "1.0.0",
      "model_name": "OutputModel",
      "state": {
       "layout": "IPY_MODEL_140fd9ab9c874df0a79a54f031c72f42",
       "outputs": [
        {
         "data": {
          "application/vnd.jupyter.widget-view+json": {
           "model_id": "a7af46c0c3ff44f89ee1d15f1098b24c",
           "version_major": 2,
           "version_minor": 0
          },
          "text/plain": "Output()"
         },
         "metadata": {},
         "output_type": "display_data"
        },
        {
         "data": {
          "application/vnd.jupyter.widget-view+json": {
           "model_id": "da9a7dc1f9e6451c9fef712b1cec4eeb",
           "version_major": 2,
           "version_minor": 0
          },
          "text/plain": "Button(description='Submit Job', style=ButtonStyle())"
         },
         "metadata": {},
         "output_type": "display_data"
        }
       ]
      }
     },
     "d055b5c2230845f29a626f5e8c54e76e": {
      "model_module": "@jupyter-widgets/controls",
      "model_module_version": "1.5.0",
      "model_name": "HBoxModel",
      "state": {
       "children": [
        "IPY_MODEL_5d9fa69d9bd34956958d535d15c88396",
        "IPY_MODEL_3d77dba55e2c4a20ace2388b1822631b"
       ],
       "layout": "IPY_MODEL_5c02a4842e3542c79eca1be40af3c7c2"
      }
     },
     "d11728c82f584c569bedd4163ed4e80d": {
      "model_module": "@jupyter-widgets/controls",
      "model_module_version": "1.5.0",
      "model_name": "DescriptionStyleModel",
      "state": {
       "description_width": ""
      }
     },
     "d195974ea3374a4eb7d035f32ddbdb49": {
      "model_module": "@jupyter-widgets/output",
      "model_module_version": "1.0.0",
      "model_name": "OutputModel",
      "state": {
       "layout": "IPY_MODEL_994d0265d6a4464f8da1040271449d93"
      }
     },
     "d2b4aa569052498facc03604f52a0125": {
      "model_module": "@jupyter-widgets/base",
      "model_module_version": "1.2.0",
      "model_name": "LayoutModel",
      "state": {}
     },
     "d40d65efac874f8c8d90c315200cc80c": {
      "model_module": "@jupyter-widgets/base",
      "model_module_version": "1.2.0",
      "model_name": "LayoutModel",
      "state": {}
     },
     "d451e58df9fd4d49b0876c66bbd79ea9": {
      "model_module": "@jupyter-widgets/controls",
      "model_module_version": "1.5.0",
      "model_name": "DescriptionStyleModel",
      "state": {
       "description_width": "auto"
      }
     },
     "d53d5e742b5d4ad4ae5755265bbb5001": {
      "model_module": "@jupyter-widgets/controls",
      "model_module_version": "1.5.0",
      "model_name": "ButtonStyleModel",
      "state": {}
     },
     "d7593df25c1a4d7891cb691ae5172abc": {
      "model_module": "@jupyter-widgets/controls",
      "model_module_version": "1.5.0",
      "model_name": "ButtonModel",
      "state": {
       "description": "Rename Job",
       "layout": "IPY_MODEL_1ba441b217d043cca4aed1273c1d9c81",
       "style": "IPY_MODEL_757e19b563624805b1c5b3ff45a7cfd0"
      }
     },
     "d80b43d7af1e4fb48fc70f178936312e": {
      "model_module": "@jupyter-widgets/controls",
      "model_module_version": "1.5.0",
      "model_name": "DescriptionStyleModel",
      "state": {
       "description_width": "auto"
      }
     },
     "d8292636bbc543d8812b15e131e12783": {
      "model_module": "@jupyter-widgets/controls",
      "model_module_version": "1.5.0",
      "model_name": "ButtonStyleModel",
      "state": {}
     },
     "d922c302d50c47b4914107ee5c231182": {
      "model_module": "@jupyter-widgets/controls",
      "model_module_version": "1.5.0",
      "model_name": "ComboboxModel",
      "state": {
       "description": "Enter Name:",
       "ensure_option": false,
       "layout": "IPY_MODEL_15b58c0e86d44c93b1cea8955d69e3a5",
       "placeholder": "Select new name",
       "style": "IPY_MODEL_d11728c82f584c569bedd4163ed4e80d"
      }
     },
     "da9a7dc1f9e6451c9fef712b1cec4eeb": {
      "model_module": "@jupyter-widgets/controls",
      "model_module_version": "1.5.0",
      "model_name": "ButtonModel",
      "state": {
       "description": "Submit Job",
       "layout": "IPY_MODEL_cb8f9a29bc784304b83eaf84a2fba5be",
       "style": "IPY_MODEL_c6417fa4dd5847598f52034c984fc5a4"
      }
     },
     "dca0ba646e324a38b8c2b47b06251801": {
      "model_module": "@jupyter-widgets/controls",
      "model_module_version": "1.5.0",
      "model_name": "SliderStyleModel",
      "state": {
       "description_width": "auto"
      }
     },
     "de5d6ef45cf64adcae8d37e8516cbf31": {
      "model_module": "@jupyter-widgets/controls",
      "model_module_version": "1.5.0",
      "model_name": "DescriptionStyleModel",
      "state": {
       "description_width": ""
      }
     },
     "e18672140e674545b7d7e4daa9b02eb7": {
      "model_module": "@jupyter-widgets/controls",
      "model_module_version": "1.5.0",
      "model_name": "ButtonModel",
      "state": {
       "description": "Rename Job",
       "layout": "IPY_MODEL_5e563a457e3646a7ac7ca96e64c457ea",
       "style": "IPY_MODEL_d8292636bbc543d8812b15e131e12783"
      }
     },
     "e1af35a95fe24474aae35ca633c908e5": {
      "model_module": "@jupyter-widgets/controls",
      "model_module_version": "1.5.0",
      "model_name": "ComboboxModel",
      "state": {
       "description": "Enter Name:",
       "ensure_option": false,
       "layout": "IPY_MODEL_f8447080d3374b88b6ad7a25a5b7bf37",
       "placeholder": "Select new name",
       "style": "IPY_MODEL_bd7472d097874ec98b18856f4b6d1443"
      }
     },
     "e3218bf9cb4f42b3bda780f0d177a2d1": {
      "model_module": "@jupyter-widgets/controls",
      "model_module_version": "1.5.0",
      "model_name": "CheckboxModel",
      "state": {
       "description": "Set a name for this job? ",
       "disabled": false,
       "layout": "IPY_MODEL_3aa4abc9c3ba4c43b40b007a4a758a02",
       "style": "IPY_MODEL_266039af06314b01bd504809e6009169",
       "value": false
      }
     },
     "e463fbf9d63a4d1e81d47831f20ad2a7": {
      "model_module": "@jupyter-widgets/base",
      "model_module_version": "1.2.0",
      "model_name": "LayoutModel",
      "state": {}
     },
     "e4918abb389d4014b5f1164008cf2447": {
      "model_module": "@jupyter-widgets/controls",
      "model_module_version": "1.5.0",
      "model_name": "ButtonStyleModel",
      "state": {}
     },
     "e5f7906e70f94ed685e4d8f465c8ddec": {
      "model_module": "@jupyter-widgets/output",
      "model_module_version": "1.0.0",
      "model_name": "OutputModel",
      "state": {
       "layout": "IPY_MODEL_2e69de28449d40cf8178bcfa91053835",
       "outputs": [
        {
         "data": {
          "text/markdown": "**hello_world Job Description:** none",
          "text/plain": "<IPython.core.display.Markdown object>"
         },
         "metadata": {},
         "output_type": "display_data"
        },
        {
         "data": {
          "text/markdown": "**keeling_community HPC Description**: none",
          "text/plain": "<IPython.core.display.Markdown object>"
         },
         "metadata": {},
         "output_type": "display_data"
        },
        {
         "data": {
          "text/markdown": "**Estimated Runtime:** unknown",
          "text/plain": "<IPython.core.display.Markdown object>"
         },
         "metadata": {},
         "output_type": "display_data"
        }
       ]
      }
     },
     "e60ba10fefc34983a556e6dc1ddfdc99": {
      "model_module": "@jupyter-widgets/controls",
      "model_module_version": "1.5.0",
      "model_name": "IntSliderModel",
      "state": {
       "continuous_update": false,
       "description": "time (Minutes)",
       "layout": "IPY_MODEL_cc4d3a7c1706481e9279545fcb551e6b",
       "max": 50,
       "min": 10,
       "style": "IPY_MODEL_dca0ba646e324a38b8c2b47b06251801",
       "value": 10
      }
     },
     "e66d2837f93f4784853565ae11d1ac02": {
      "model_module": "@jupyter-widgets/controls",
      "model_module_version": "1.5.0",
      "model_name": "HBoxModel",
      "state": {
       "children": [
        "IPY_MODEL_ae53a0252c954d11aac381cd8b2e1bb0",
        "IPY_MODEL_b5b4cbb13d4e4956858dc97b23292c30"
       ],
       "layout": "IPY_MODEL_ffa0923bf89645d4baab03729c4b4a8a"
      }
     },
     "e7b5f15f12174e1bbacc81dd03f5a308": {
      "model_module": "@jupyter-widgets/controls",
      "model_module_version": "1.5.0",
      "model_name": "DescriptionStyleModel",
      "state": {
       "description_width": "auto"
      }
     },
     "e8ee6c0c8155418fb2989647ce4efbd9": {
      "model_module": "@jupyter-widgets/controls",
      "model_module_version": "1.5.0",
      "model_name": "SliderStyleModel",
      "state": {
       "description_width": "auto"
      }
     },
     "ea416f0e022b4dd5b7d3b47ed9c3d3e3": {
      "model_module": "@jupyter-widgets/controls",
      "model_module_version": "1.5.0",
      "model_name": "ButtonStyleModel",
      "state": {}
     },
     "ecd9efae033e41c0b9cf90b25354f24d": {
      "model_module": "@jupyter-widgets/base",
      "model_module_version": "1.2.0",
      "model_name": "LayoutModel",
      "state": {}
     },
     "ed21b79d313949809f11e72f18eab369": {
      "model_module": "@jupyter-widgets/controls",
      "model_module_version": "1.5.0",
      "model_name": "TabModel",
      "state": {
       "_titles": {
        "0": "Job Configuration",
        "1": "Your Job Status",
        "2": "Download Job Result",
        "3": "Your Jobs",
        "4": "Past Results"
       },
       "children": [
        "IPY_MODEL_2c2c8d0e3746445cb7c00956e53bd78e",
        "IPY_MODEL_ccd2dfa818854821b328024055793eda",
        "IPY_MODEL_1d32629dbd0141398f47d212b19927ee",
        "IPY_MODEL_3b9ed5f75bfa46a486e2f8bda5574995",
        "IPY_MODEL_8521e3cd62e3497fb8490f24ef73248b"
       ],
       "layout": "IPY_MODEL_0131fb0dc69241918b02382c5a359ebd"
      }
     },
     "ed990c0775dd4f2d94cd7e166fb1fc5e": {
      "model_module": "@jupyter-widgets/base",
      "model_module_version": "1.2.0",
      "model_name": "LayoutModel",
      "state": {}
     },
     "ef444e83fda448a7b7d2aee5b4618da6": {
      "model_module": "@jupyter-widgets/controls",
      "model_module_version": "1.5.0",
      "model_name": "DescriptionStyleModel",
      "state": {
       "description_width": "auto"
      }
     },
     "ef651c1dce1b45a6bb2258da8692d83b": {
      "model_module": "@jupyter-widgets/base",
      "model_module_version": "1.2.0",
      "model_name": "LayoutModel",
      "state": {}
     },
     "f050c9eeb3a4441ba7289b74b9ede0bd": {
      "model_module": "@jupyter-widgets/controls",
      "model_module_version": "1.5.0",
      "model_name": "ButtonModel",
      "state": {
       "description": "Rename Job",
       "layout": "IPY_MODEL_53f4ab1f4a3e44fd96879b7016e13378",
       "style": "IPY_MODEL_adca86f528ce49a5939430f701a15ffe"
      }
     },
     "f09f978fd48947d7a0c9d8b5a25ee4d5": {
      "model_module": "@jupyter-widgets/base",
      "model_module_version": "1.2.0",
      "model_name": "LayoutModel",
      "state": {}
     },
     "f14bb29822f34af7b773201a50b6e096": {
      "model_module": "@jupyter-widgets/controls",
      "model_module_version": "1.5.0",
      "model_name": "ButtonModel",
      "state": {
       "description": "Rename Job",
       "layout": "IPY_MODEL_f334079fbe5540f3925ae0bc7a2cfdfa",
       "style": "IPY_MODEL_e4918abb389d4014b5f1164008cf2447"
      }
     },
     "f16ecbe9ed3f49139900b8f861ddeff4": {
      "model_module": "@jupyter-widgets/base",
      "model_module_version": "1.2.0",
      "model_name": "LayoutModel",
      "state": {}
     },
     "f22e45d9257444e2945a5b3d616e739c": {
      "model_module": "@jupyter-widgets/controls",
      "model_module_version": "1.5.0",
      "model_name": "ButtonModel",
      "state": {
       "description": "Restore",
       "layout": "IPY_MODEL_75e5a3af524f4079b4d3ca5db335b54c",
       "style": "IPY_MODEL_ea416f0e022b4dd5b7d3b47ed9c3d3e3"
      }
     },
     "f334079fbe5540f3925ae0bc7a2cfdfa": {
      "model_module": "@jupyter-widgets/base",
      "model_module_version": "1.2.0",
      "model_name": "LayoutModel",
      "state": {}
     },
     "f65525a7ff704f3bb09ccb3afa2fad50": {
      "model_module": "@jupyter-widgets/base",
      "model_module_version": "1.2.0",
      "model_name": "LayoutModel",
      "state": {}
     },
     "f6cc557cf9b7440c808e10216658a2d5": {
      "model_module": "@jupyter-widgets/controls",
      "model_module_version": "1.5.0",
      "model_name": "ComboboxModel",
      "state": {
       "description": "Enter Name:",
       "ensure_option": false,
       "layout": "IPY_MODEL_add3915d9f0d49348dcab0e6c0a9ae71",
       "placeholder": "Select new name",
       "style": "IPY_MODEL_c5519c5b45a844b3b5d3e394018bfb3a"
      }
     },
     "f77298d993f843e98713b04724d517d3": {
      "model_module": "@jupyter-widgets/controls",
      "model_module_version": "1.5.0",
      "model_name": "VBoxModel",
      "state": {
       "children": [
        "IPY_MODEL_16347f478aff42239acf8136606fe5a6",
        "IPY_MODEL_e60ba10fefc34983a556e6dc1ddfdc99"
       ],
       "layout": "IPY_MODEL_32786e19dfe148ec982a5b8cb5bab8fe"
      }
     },
     "f8447080d3374b88b6ad7a25a5b7bf37": {
      "model_module": "@jupyter-widgets/base",
      "model_module_version": "1.2.0",
      "model_name": "LayoutModel",
      "state": {}
     },
     "f85c14a8485a4f8fa073ceffcb14a893": {
      "model_module": "@jupyter-widgets/base",
      "model_module_version": "1.2.0",
      "model_name": "LayoutModel",
      "state": {}
     },
     "fa56195f18dd450f99f49307b6184aa5": {
      "model_module": "@jupyter-widgets/controls",
      "model_module_version": "1.5.0",
      "model_name": "ButtonStyleModel",
      "state": {}
     },
     "faa3d28b13b24f92aaa5120bef8760d1": {
      "model_module": "@jupyter-widgets/base",
      "model_module_version": "1.2.0",
      "model_name": "LayoutModel",
      "state": {}
     },
     "fae0123ab63043d68e6f698870c2526f": {
      "model_module": "@jupyter-widgets/controls",
      "model_module_version": "1.5.0",
      "model_name": "ButtonModel",
      "state": {
       "description": "Download Results",
       "layout": "IPY_MODEL_5e25d46c78f04ef88aac8979de0d66e8",
       "style": "IPY_MODEL_5028a8c0aefc4e0d91bbf8f78787a83a"
      }
     },
     "fbcf3948e07841d881fc8d5d135fa4e8": {
      "model_module": "@jupyter-widgets/base",
      "model_module_version": "1.2.0",
      "model_name": "LayoutModel",
      "state": {}
     },
     "fcaebd073b51496e83f9617b05ee22dc": {
      "model_module": "@jupyter-widgets/base",
      "model_module_version": "1.2.0",
      "model_name": "LayoutModel",
      "state": {}
     },
     "fcb6868139cc4c778011aa4a83824325": {
      "model_module": "@jupyter-widgets/controls",
      "model_module_version": "1.5.0",
      "model_name": "AccordionModel",
      "state": {
       "_titles": {
        "0": "Slurm Computing Configurations"
       },
       "children": [
        "IPY_MODEL_c355d599b69a449685b274a35ec1b5a0"
       ],
       "layout": "IPY_MODEL_ecd9efae033e41c0b9cf90b25354f24d",
       "selected_index": null
      }
     },
     "fcee2f15b06946f596bb39aacb16f6ef": {
      "model_module": "@jupyter-widgets/base",
      "model_module_version": "1.2.0",
      "model_name": "LayoutModel",
      "state": {}
     },
     "fd762e208a214e428b17f007b9a55423": {
      "model_module": "@jupyter-widgets/controls",
      "model_module_version": "1.5.0",
      "model_name": "HBoxModel",
      "state": {
       "children": [
        "IPY_MODEL_d7593df25c1a4d7891cb691ae5172abc",
        "IPY_MODEL_5dc7e17429de4138b1870200902c4359"
       ],
       "layout": "IPY_MODEL_8e1864742f604e35815b675ff2907b25"
      }
     },
     "ffa0923bf89645d4baab03729c4b4a8a": {
      "model_module": "@jupyter-widgets/base",
      "model_module_version": "1.2.0",
      "model_name": "LayoutModel",
      "state": {}
     }
    },
    "version_major": 2,
    "version_minor": 0
   }
  }
 },
 "nbformat": 4,
 "nbformat_minor": 4
}
