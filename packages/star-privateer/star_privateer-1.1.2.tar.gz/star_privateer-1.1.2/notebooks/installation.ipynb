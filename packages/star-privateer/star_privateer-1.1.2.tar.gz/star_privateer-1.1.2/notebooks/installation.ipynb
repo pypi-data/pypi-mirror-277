{
 "cells": [
  {
   "cell_type": "markdown",
   "id": "aba3c906-d5a2-48dd-a4a9-5e238d5f995c",
   "metadata": {},
   "source": [
    "# Installation\n",
    "\n",
    "The simplest way to install the module is through PyPi\n",
    "\n",
    "`pip install star-privateer`\n",
    "\n",
    "The module is also available through\n",
    "its GitLab repository. You have to clone first:\n",
    "\n",
    "`git clone https://gitlab.com/sybreton/star_privateer.git`\n",
    "\n",
    "then go to the local repository and simply do\n",
    "\n",
    "`pip install .`"
   ]
  },
  {
   "cell_type": "markdown",
   "id": "0eb36711-cfc4-4fac-89d5-618522951ecc",
   "metadata": {},
   "source": [
    "Some of the tutoriels notebook require additional datasets to be properly run, you can access them through an auxiliary repository\n",
    "\n",
    "``git clone https://gitlab.com/sybreton/plato_msap4_demonstrator_datasets.git``\n",
    "\n",
    "that you will also have to install through\n",
    "\n",
    "``pip install .``"
   ]
  },
  {
   "cell_type": "markdown",
   "id": "32db66d9-5be7-4da7-8fdc-92bfe23c2847",
   "metadata": {},
   "source": [
    "In the future, we plan to provide packaged versions of the pipeline through PyPi and conda-forge."
   ]
  },
  {
   "cell_type": "code",
   "execution_count": null,
   "id": "d7d1319d-502d-42e6-8ee9-3026650d73af",
   "metadata": {},
   "outputs": [],
   "source": []
  }
 ],
 "metadata": {
  "kernelspec": {
   "display_name": "Python 3 (ipykernel)",
   "language": "python",
   "name": "python3"
  },
  "language_info": {
   "codemirror_mode": {
    "name": "ipython",
    "version": 3
   },
   "file_extension": ".py",
   "mimetype": "text/x-python",
   "name": "python",
   "nbconvert_exporter": "python",
   "pygments_lexer": "ipython3",
   "version": "3.9.15"
  }
 },
 "nbformat": 4,
 "nbformat_minor": 5
}
