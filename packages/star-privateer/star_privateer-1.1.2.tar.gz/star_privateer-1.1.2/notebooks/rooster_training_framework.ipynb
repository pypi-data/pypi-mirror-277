{
 "cells": [
  {
   "cell_type": "markdown",
   "id": "146fffdd-4386-424a-a75a-b1e8154c9d52",
   "metadata": {},
   "source": [
    "# ROOSTER training framework (MSAP4-03)\n",
    "\n",
    "This notebook provide an example of the analysis of a set of stars with catalog-existing reference $P_\\mathrm{rot}$, and use the set to train an instance of ROOSTER.\n",
    "\n",
    "First we need to import the demonstrator module and the auxiliary module containing the dataset we are going to work with.\n",
    "\n",
    "**Note:** This notebook has been designed for the purpose of scientific justification of PLATO MSAP4-03. The notebook illustrated the precise flowchart envisaged for PLATO MSAP4-03 is cs_rooster_sph_analysis.ipynb"
   ]
  },
  {
   "cell_type": "code",
   "execution_count": 1,
   "id": "7e72243d-c0ce-400b-a350-ff3ccfe6af17",
   "metadata": {},
   "outputs": [],
   "source": [
    "import star_privateer as sp\n",
    "import plato_msap4_demonstrator_datasets.kepler_dataset as kepler_dataset"
   ]
  },
  {
   "cell_type": "code",
   "execution_count": 2,
   "id": "1dacb9ac-3893-491d-a2f4-ae1d32705e3a",
   "metadata": {},
   "outputs": [
    {
     "data": {
      "text/plain": [
       "'1.1.2'"
      ]
     },
     "execution_count": 2,
     "metadata": {},
     "output_type": "execute_result"
    }
   ],
   "source": [
    "sp.__version__"
   ]
  },
  {
   "cell_type": "markdown",
   "id": "ec9a9be4-3be0-4d02-be65-98a82625695b",
   "metadata": {},
   "source": [
    "We also need to import some other modules to run the notebook and to check that the outputs directory that we need exist. In addition to `star_privateer` requirements, you should make sure that the [`pathos` module](https://pathos.readthedocs.io/en/latest/index.html) is installed in order to run the analysis in parallel."
   ]
  },
  {
   "cell_type": "code",
   "execution_count": 3,
   "id": "969fa102-658a-49c1-8cd6-2d389742bc31",
   "metadata": {},
   "outputs": [],
   "source": [
    "import os, pathos\n",
    "import numpy as np\n",
    "import matplotlib.pyplot as plt\n",
    "from tqdm import tqdm\n",
    "\n",
    "if not os.path.exists ('rooster_training_features') :\n",
    "    os.mkdir ('rooster_training_features')\n",
    "if not os.path.exists ('rooster_instances') :\n",
    "    os.mkdir ('rooster_instances')"
   ]
  },
  {
   "cell_type": "markdown",
   "id": "c5288fed-7f82-448c-863e-1f2b281ab710",
   "metadata": {},
   "source": [
    "## Running the analysis pipeline"
   ]
  },
  {
   "cell_type": "markdown",
   "id": "e20a162f-e627-49f2-92c7-6c08a4186038",
   "metadata": {},
   "source": [
    "We are going to work with a sample of 1991 *Kepler* stars analysed by Santos et al. (2019, 2021). The light curves have been calibrated with the KEPSEISMIC method (see García et al. 2011, 2014), and all of them have been filtered with a 55-day high-pass filter. We can get the identifiers of the stars in the dataset with the following instruction:"
   ]
  },
  {
   "cell_type": "code",
   "execution_count": 4,
   "id": "408ec360-5d74-4dde-bb5f-eed4d97f275f",
   "metadata": {},
   "outputs": [],
   "source": [
    "list_kic = sp.get_list_targets (kepler_dataset)"
   ]
  },
  {
   "cell_type": "markdown",
   "id": "9c18e851-9b1c-419f-8417-5cc8bd3ee5fc",
   "metadata": {},
   "source": [
    "The next step is to run the analysis pipeline on every light curve in the dataset. The analysis pipeline in its default behaviour will compute the Lomb-Scargle periodogram (LSP) of the light curve as well as its auto-correlation function (ACF). ACF and LSP will then be used to compute a composite spectrum (CS), obtained by multiplying one by another. The feature computed for each stars are stored in a dedicated csv file identified by the star identifier (in this case, the KIC of the star). We are going to parallelise the analysis process with `pathos` in order to gain some computation time and control memory leakages that could arise from calling `analysis_pipeline` in a loop."
   ]
  },
  {
   "cell_type": "code",
   "execution_count": 5,
   "id": "5b8fc51a-0dc4-45ec-b846-3f0461f74879",
   "metadata": {},
   "outputs": [],
   "source": [
    "def analysis_wrapper (kic) :\n",
    "    \"\"\"\n",
    "    Analysis wrapper to speed computation\n",
    "    by parallelising process and control\n",
    "    memory usage.\n",
    "    \"\"\"\n",
    "    str_kic = str (kic).zfill (9)\n",
    "    filename = sp.get_target_filename (kepler_dataset, str_kic)\n",
    "    fileout = 'rooster_training_features/{}.csv'.format(str_kic)\n",
    "    fileplot = 'rooster_training_features/{}.png'.format(str_kic)\n",
    "    if not os.path.exists (fileout) :\n",
    "        t, s, dt = sp.load_resource (filename)\n",
    "        (p_ps, p_acf, \n",
    "         ps, acf, \n",
    "         cs, features, \n",
    "         feature_names, \n",
    "         fig) = sp.analysis_pipeline (t, s, pmin=0.1, pmax=60,\n",
    "                                      wavelet_analysis=False, plot=True,\n",
    "                                      filename=fileplot, figsize=(10,16), \n",
    "                                      lw=1, dpi=150, pfa_threshold=1e-6,\n",
    "                                      ls_err_smooth=True)\n",
    "        df = sp.save_features (fileout, kic, features, feature_names)\n",
    "        plt.close (\"all\")"
   ]
  },
  {
   "cell_type": "markdown",
   "id": "16d3355a-346d-4fcf-86c5-659db542fb9f",
   "metadata": {},
   "source": [
    "Now that are wrapper function is defined, we just create a `ProcessPool` that we run with `imap`:\n",
    "\n",
    "> Note: by default `imap`, on the contrary to `map`, is a non-blocking process. Nevertheless, in order to display a progress bar with `tqdm` we need to use it, and the `list` encapsulation is there to ensure the process is blocking."
   ]
  },
  {
   "cell_type": "code",
   "execution_count": 6,
   "id": "ee4b2577-84a5-43e0-8a0e-3e53d523a88b",
   "metadata": {},
   "outputs": [
    {
     "name": "stderr",
     "output_type": "stream",
     "text": [
      "100%|███████████████████████████████████████████████████████████████████████████████████████████████████████████████████████| 1991/1991 [33:10<00:00,  1.00it/s]\n"
     ]
    }
   ],
   "source": [
    "process_pool = pathos.pools._ProcessPool (processes=4, \n",
    "                                          maxtasksperchild=10)\n",
    "with process_pool as p :\n",
    "    list (tqdm (p.imap (analysis_wrapper,\n",
    "                        list_kic,\n",
    "                        ),\n",
    "                total=len (list_kic))\n",
    "          )\n",
    "    p.close ()"
   ]
  },
  {
   "cell_type": "markdown",
   "id": "940c0191-7417-4ef8-812e-323dbf436f1a",
   "metadata": {},
   "source": [
    "After running the analysis pipeline, it is possible to concatenate the feature obtained for each star into one big DataFrame."
   ]
  },
  {
   "cell_type": "code",
   "execution_count": 7,
   "id": "a15c1ac0-18dd-4e22-a052-85e61916dcc1",
   "metadata": {},
   "outputs": [],
   "source": [
    "df = sp.build_catalog_features ('rooster_training_features')"
   ]
  },
  {
   "cell_type": "markdown",
   "id": "0250e067-2bf8-47b0-a57e-ed3c4ba7127a",
   "metadata": {},
   "source": [
    "This is typically what the DataFrame is going to look like:"
   ]
  },
  {
   "cell_type": "code",
   "execution_count": 8,
   "id": "836aadd8-16ae-483e-a380-f3984e408f57",
   "metadata": {},
   "outputs": [
    {
     "data": {
      "text/html": [
       "<div>\n",
       "<style scoped>\n",
       "    .dataframe tbody tr th:only-of-type {\n",
       "        vertical-align: middle;\n",
       "    }\n",
       "\n",
       "    .dataframe tbody tr th {\n",
       "        vertical-align: top;\n",
       "    }\n",
       "\n",
       "    .dataframe thead th {\n",
       "        text-align: right;\n",
       "    }\n",
       "</style>\n",
       "<table border=\"1\" class=\"dataframe\">\n",
       "  <thead>\n",
       "    <tr style=\"text-align: right;\">\n",
       "      <th></th>\n",
       "      <th>prot_ps</th>\n",
       "      <th>prot_acf</th>\n",
       "      <th>prot_cs</th>\n",
       "      <th>e_prot_ps</th>\n",
       "      <th>E_prot_ps</th>\n",
       "      <th>e_prot_acf</th>\n",
       "      <th>E_prot_acf</th>\n",
       "      <th>e_prot_cs</th>\n",
       "      <th>E_prot_cs</th>\n",
       "      <th>sph_ps</th>\n",
       "      <th>sph_acf</th>\n",
       "      <th>sph_cs</th>\n",
       "      <th>e_sph_ps</th>\n",
       "      <th>e_sph_acf</th>\n",
       "      <th>e_sph_cs</th>\n",
       "      <th>h_ps</th>\n",
       "      <th>fa_prob_ps</th>\n",
       "      <th>hacf</th>\n",
       "      <th>gacf</th>\n",
       "      <th>hcs</th>\n",
       "    </tr>\n",
       "    <tr>\n",
       "      <th>target_id</th>\n",
       "      <th></th>\n",
       "      <th></th>\n",
       "      <th></th>\n",
       "      <th></th>\n",
       "      <th></th>\n",
       "      <th></th>\n",
       "      <th></th>\n",
       "      <th></th>\n",
       "      <th></th>\n",
       "      <th></th>\n",
       "      <th></th>\n",
       "      <th></th>\n",
       "      <th></th>\n",
       "      <th></th>\n",
       "      <th></th>\n",
       "      <th></th>\n",
       "      <th></th>\n",
       "      <th></th>\n",
       "      <th></th>\n",
       "      <th></th>\n",
       "    </tr>\n",
       "  </thead>\n",
       "  <tbody>\n",
       "    <tr>\n",
       "      <th>891901</th>\n",
       "      <td>5.583862</td>\n",
       "      <td>51.574947</td>\n",
       "      <td>5.641521</td>\n",
       "      <td>0.229124</td>\n",
       "      <td>0.229124</td>\n",
       "      <td>-1.0</td>\n",
       "      <td>-1.0</td>\n",
       "      <td>0.009076</td>\n",
       "      <td>0.009076</td>\n",
       "      <td>621.412430</td>\n",
       "      <td>773.889578</td>\n",
       "      <td>620.957800</td>\n",
       "      <td>245.146024</td>\n",
       "      <td>101.483976</td>\n",
       "      <td>224.734810</td>\n",
       "      <td>388.571741</td>\n",
       "      <td>1.759694e-169</td>\n",
       "      <td>0.277619</td>\n",
       "      <td>0.109637</td>\n",
       "      <td>0.012586</td>\n",
       "    </tr>\n",
       "    <tr>\n",
       "      <th>1162339</th>\n",
       "      <td>0.493102</td>\n",
       "      <td>-1.000000</td>\n",
       "      <td>0.976043</td>\n",
       "      <td>0.218072</td>\n",
       "      <td>0.218072</td>\n",
       "      <td>-1.0</td>\n",
       "      <td>-1.0</td>\n",
       "      <td>0.008234</td>\n",
       "      <td>0.008234</td>\n",
       "      <td>462.872324</td>\n",
       "      <td>-1.000000</td>\n",
       "      <td>578.779362</td>\n",
       "      <td>359.874252</td>\n",
       "      <td>-1.000000</td>\n",
       "      <td>430.008329</td>\n",
       "      <td>371.694864</td>\n",
       "      <td>3.758129e-162</td>\n",
       "      <td>-1.000000</td>\n",
       "      <td>-1.000000</td>\n",
       "      <td>0.040937</td>\n",
       "    </tr>\n",
       "    <tr>\n",
       "      <th>1163248</th>\n",
       "      <td>5.792451</td>\n",
       "      <td>59.625771</td>\n",
       "      <td>3.136195</td>\n",
       "      <td>7.389056</td>\n",
       "      <td>7.389056</td>\n",
       "      <td>-1.0</td>\n",
       "      <td>-1.0</td>\n",
       "      <td>0.115335</td>\n",
       "      <td>0.115335</td>\n",
       "      <td>443.149604</td>\n",
       "      <td>541.775945</td>\n",
       "      <td>346.123281</td>\n",
       "      <td>163.047747</td>\n",
       "      <td>41.778081</td>\n",
       "      <td>98.225272</td>\n",
       "      <td>20.010528</td>\n",
       "      <td>2.039567e-09</td>\n",
       "      <td>0.271948</td>\n",
       "      <td>0.135494</td>\n",
       "      <td>0.580406</td>\n",
       "    </tr>\n",
       "    <tr>\n",
       "      <th>1164583</th>\n",
       "      <td>50.378386</td>\n",
       "      <td>43.891695</td>\n",
       "      <td>1.465304</td>\n",
       "      <td>7.389056</td>\n",
       "      <td>7.389056</td>\n",
       "      <td>-1.0</td>\n",
       "      <td>-1.0</td>\n",
       "      <td>0.401850</td>\n",
       "      <td>0.401850</td>\n",
       "      <td>1650.421415</td>\n",
       "      <td>1642.510883</td>\n",
       "      <td>667.192946</td>\n",
       "      <td>484.602802</td>\n",
       "      <td>463.437724</td>\n",
       "      <td>370.658390</td>\n",
       "      <td>12.330474</td>\n",
       "      <td>4.415127e-06</td>\n",
       "      <td>0.635193</td>\n",
       "      <td>0.317102</td>\n",
       "      <td>1.218906</td>\n",
       "    </tr>\n",
       "    <tr>\n",
       "      <th>1433067</th>\n",
       "      <td>47.112908</td>\n",
       "      <td>-1.000000</td>\n",
       "      <td>30.768920</td>\n",
       "      <td>7.389056</td>\n",
       "      <td>7.389056</td>\n",
       "      <td>-1.0</td>\n",
       "      <td>-1.0</td>\n",
       "      <td>1.485297</td>\n",
       "      <td>1.485297</td>\n",
       "      <td>1197.171394</td>\n",
       "      <td>-1.000000</td>\n",
       "      <td>1142.311679</td>\n",
       "      <td>307.149903</td>\n",
       "      <td>-1.000000</td>\n",
       "      <td>360.490565</td>\n",
       "      <td>20.918206</td>\n",
       "      <td>8.228836e-10</td>\n",
       "      <td>-1.000000</td>\n",
       "      <td>-1.000000</td>\n",
       "      <td>0.218161</td>\n",
       "    </tr>\n",
       "    <tr>\n",
       "      <th>...</th>\n",
       "      <td>...</td>\n",
       "      <td>...</td>\n",
       "      <td>...</td>\n",
       "      <td>...</td>\n",
       "      <td>...</td>\n",
       "      <td>...</td>\n",
       "      <td>...</td>\n",
       "      <td>...</td>\n",
       "      <td>...</td>\n",
       "      <td>...</td>\n",
       "      <td>...</td>\n",
       "      <td>...</td>\n",
       "      <td>...</td>\n",
       "      <td>...</td>\n",
       "      <td>...</td>\n",
       "      <td>...</td>\n",
       "      <td>...</td>\n",
       "      <td>...</td>\n",
       "      <td>...</td>\n",
       "      <td>...</td>\n",
       "    </tr>\n",
       "    <tr>\n",
       "      <th>12647815</th>\n",
       "      <td>10.436850</td>\n",
       "      <td>10.421169</td>\n",
       "      <td>10.439005</td>\n",
       "      <td>0.291212</td>\n",
       "      <td>0.291212</td>\n",
       "      <td>-1.0</td>\n",
       "      <td>-1.0</td>\n",
       "      <td>0.036341</td>\n",
       "      <td>0.036341</td>\n",
       "      <td>4727.467867</td>\n",
       "      <td>4731.485721</td>\n",
       "      <td>4725.580181</td>\n",
       "      <td>1638.084281</td>\n",
       "      <td>1651.040028</td>\n",
       "      <td>1635.984428</td>\n",
       "      <td>321.261367</td>\n",
       "      <td>3.005808e-140</td>\n",
       "      <td>0.993603</td>\n",
       "      <td>0.606440</td>\n",
       "      <td>0.928269</td>\n",
       "    </tr>\n",
       "    <tr>\n",
       "      <th>12737258</th>\n",
       "      <td>40.582919</td>\n",
       "      <td>-1.000000</td>\n",
       "      <td>40.522212</td>\n",
       "      <td>1.403227</td>\n",
       "      <td>1.403227</td>\n",
       "      <td>-1.0</td>\n",
       "      <td>-1.0</td>\n",
       "      <td>0.608403</td>\n",
       "      <td>0.608403</td>\n",
       "      <td>2135.495994</td>\n",
       "      <td>-1.000000</td>\n",
       "      <td>2138.867175</td>\n",
       "      <td>598.067705</td>\n",
       "      <td>-1.000000</td>\n",
       "      <td>592.453395</td>\n",
       "      <td>39.599624</td>\n",
       "      <td>6.340181e-18</td>\n",
       "      <td>-1.000000</td>\n",
       "      <td>-1.000000</td>\n",
       "      <td>0.158801</td>\n",
       "    </tr>\n",
       "    <tr>\n",
       "      <th>12784167</th>\n",
       "      <td>0.609832</td>\n",
       "      <td>12.709734</td>\n",
       "      <td>18.235137</td>\n",
       "      <td>1.359120</td>\n",
       "      <td>1.359120</td>\n",
       "      <td>-1.0</td>\n",
       "      <td>-1.0</td>\n",
       "      <td>0.136623</td>\n",
       "      <td>0.136623</td>\n",
       "      <td>346.990379</td>\n",
       "      <td>615.325577</td>\n",
       "      <td>631.680180</td>\n",
       "      <td>55.723119</td>\n",
       "      <td>142.765932</td>\n",
       "      <td>128.610360</td>\n",
       "      <td>103.591522</td>\n",
       "      <td>1.025118e-45</td>\n",
       "      <td>0.000056</td>\n",
       "      <td>0.082313</td>\n",
       "      <td>0.722011</td>\n",
       "    </tr>\n",
       "    <tr>\n",
       "      <th>12834290</th>\n",
       "      <td>52.672716</td>\n",
       "      <td>57.295905</td>\n",
       "      <td>3.254085</td>\n",
       "      <td>7.389056</td>\n",
       "      <td>7.389056</td>\n",
       "      <td>-1.0</td>\n",
       "      <td>-1.0</td>\n",
       "      <td>0.085996</td>\n",
       "      <td>0.085996</td>\n",
       "      <td>528.680578</td>\n",
       "      <td>527.046251</td>\n",
       "      <td>361.159430</td>\n",
       "      <td>89.207153</td>\n",
       "      <td>76.276120</td>\n",
       "      <td>70.506151</td>\n",
       "      <td>15.638527</td>\n",
       "      <td>1.615377e-07</td>\n",
       "      <td>0.197379</td>\n",
       "      <td>0.076179</td>\n",
       "      <td>0.160712</td>\n",
       "    </tr>\n",
       "    <tr>\n",
       "      <th>12834663</th>\n",
       "      <td>0.339495</td>\n",
       "      <td>-1.000000</td>\n",
       "      <td>1.618316</td>\n",
       "      <td>0.229044</td>\n",
       "      <td>0.229044</td>\n",
       "      <td>-1.0</td>\n",
       "      <td>-1.0</td>\n",
       "      <td>0.879288</td>\n",
       "      <td>0.879288</td>\n",
       "      <td>712.198133</td>\n",
       "      <td>-1.000000</td>\n",
       "      <td>785.515001</td>\n",
       "      <td>86.012201</td>\n",
       "      <td>-1.000000</td>\n",
       "      <td>159.428003</td>\n",
       "      <td>6.598372</td>\n",
       "      <td>1.362585e-03</td>\n",
       "      <td>-1.000000</td>\n",
       "      <td>-1.000000</td>\n",
       "      <td>0.207903</td>\n",
       "    </tr>\n",
       "  </tbody>\n",
       "</table>\n",
       "<p>1991 rows × 20 columns</p>\n",
       "</div>"
      ],
      "text/plain": [
       "             prot_ps   prot_acf    prot_cs  e_prot_ps  E_prot_ps  e_prot_acf  \\\n",
       "target_id                                                                      \n",
       "891901      5.583862  51.574947   5.641521   0.229124   0.229124        -1.0   \n",
       "1162339     0.493102  -1.000000   0.976043   0.218072   0.218072        -1.0   \n",
       "1163248     5.792451  59.625771   3.136195   7.389056   7.389056        -1.0   \n",
       "1164583    50.378386  43.891695   1.465304   7.389056   7.389056        -1.0   \n",
       "1433067    47.112908  -1.000000  30.768920   7.389056   7.389056        -1.0   \n",
       "...              ...        ...        ...        ...        ...         ...   \n",
       "12647815   10.436850  10.421169  10.439005   0.291212   0.291212        -1.0   \n",
       "12737258   40.582919  -1.000000  40.522212   1.403227   1.403227        -1.0   \n",
       "12784167    0.609832  12.709734  18.235137   1.359120   1.359120        -1.0   \n",
       "12834290   52.672716  57.295905   3.254085   7.389056   7.389056        -1.0   \n",
       "12834663    0.339495  -1.000000   1.618316   0.229044   0.229044        -1.0   \n",
       "\n",
       "           E_prot_acf  e_prot_cs  E_prot_cs       sph_ps      sph_acf  \\\n",
       "target_id                                                               \n",
       "891901           -1.0   0.009076   0.009076   621.412430   773.889578   \n",
       "1162339          -1.0   0.008234   0.008234   462.872324    -1.000000   \n",
       "1163248          -1.0   0.115335   0.115335   443.149604   541.775945   \n",
       "1164583          -1.0   0.401850   0.401850  1650.421415  1642.510883   \n",
       "1433067          -1.0   1.485297   1.485297  1197.171394    -1.000000   \n",
       "...               ...        ...        ...          ...          ...   \n",
       "12647815         -1.0   0.036341   0.036341  4727.467867  4731.485721   \n",
       "12737258         -1.0   0.608403   0.608403  2135.495994    -1.000000   \n",
       "12784167         -1.0   0.136623   0.136623   346.990379   615.325577   \n",
       "12834290         -1.0   0.085996   0.085996   528.680578   527.046251   \n",
       "12834663         -1.0   0.879288   0.879288   712.198133    -1.000000   \n",
       "\n",
       "                sph_cs     e_sph_ps    e_sph_acf     e_sph_cs        h_ps  \\\n",
       "target_id                                                                   \n",
       "891901      620.957800   245.146024   101.483976   224.734810  388.571741   \n",
       "1162339     578.779362   359.874252    -1.000000   430.008329  371.694864   \n",
       "1163248     346.123281   163.047747    41.778081    98.225272   20.010528   \n",
       "1164583     667.192946   484.602802   463.437724   370.658390   12.330474   \n",
       "1433067    1142.311679   307.149903    -1.000000   360.490565   20.918206   \n",
       "...                ...          ...          ...          ...         ...   \n",
       "12647815   4725.580181  1638.084281  1651.040028  1635.984428  321.261367   \n",
       "12737258   2138.867175   598.067705    -1.000000   592.453395   39.599624   \n",
       "12784167    631.680180    55.723119   142.765932   128.610360  103.591522   \n",
       "12834290    361.159430    89.207153    76.276120    70.506151   15.638527   \n",
       "12834663    785.515001    86.012201    -1.000000   159.428003    6.598372   \n",
       "\n",
       "              fa_prob_ps      hacf      gacf       hcs  \n",
       "target_id                                               \n",
       "891901     1.759694e-169  0.277619  0.109637  0.012586  \n",
       "1162339    3.758129e-162 -1.000000 -1.000000  0.040937  \n",
       "1163248     2.039567e-09  0.271948  0.135494  0.580406  \n",
       "1164583     4.415127e-06  0.635193  0.317102  1.218906  \n",
       "1433067     8.228836e-10 -1.000000 -1.000000  0.218161  \n",
       "...                  ...       ...       ...       ...  \n",
       "12647815   3.005808e-140  0.993603  0.606440  0.928269  \n",
       "12737258    6.340181e-18 -1.000000 -1.000000  0.158801  \n",
       "12784167    1.025118e-45  0.000056  0.082313  0.722011  \n",
       "12834290    1.615377e-07  0.197379  0.076179  0.160712  \n",
       "12834663    1.362585e-03 -1.000000 -1.000000  0.207903  \n",
       "\n",
       "[1991 rows x 20 columns]"
      ]
     },
     "execution_count": 8,
     "metadata": {},
     "output_type": "execute_result"
    }
   ],
   "source": [
    "df"
   ]
  },
  {
   "cell_type": "code",
   "execution_count": 9,
   "id": "e57d3a62-49dc-49c4-9d55-49866d61e9cf",
   "metadata": {},
   "outputs": [],
   "source": [
    "df.to_csv (\"training_features.csv\")"
   ]
  },
  {
   "cell_type": "markdown",
   "id": "2bd62881-232c-46bd-a43f-3a4fdd652302",
   "metadata": {},
   "source": [
    "## Training and testing ROOSTER\n",
    "\n",
    "Now that we have analysed a large sample of stars, we are able to use it to train the random forest ROOSTER methodology (see Breton et al. 2021). First, let's (arbitrarily) divide our DataFrame into a training set and a test set."
   ]
  },
  {
   "cell_type": "code",
   "execution_count": 10,
   "id": "5008126a-abed-4464-a4ef-b755a90dc60a",
   "metadata": {},
   "outputs": [],
   "source": [
    "df_train = df.sample (n=df.index.size//2, random_state=49458493) \n",
    "df_test = df.loc[np.setdiff1d (df.index, df_train.index)]"
   ]
  },
  {
   "cell_type": "markdown",
   "id": "ae78d48d-7d07-4cc5-8587-cc1e224c7dd6",
   "metadata": {},
   "source": [
    "The DataFrames let us obtain all the input we require to train and test ROOSTER:"
   ]
  },
  {
   "cell_type": "code",
   "execution_count": 11,
   "id": "ba83bdc2-7b32-48f7-8211-2f2152b1c0f9",
   "metadata": {},
   "outputs": [],
   "source": [
    "(training_id, training_p_candidates, \n",
    " training_features, feature_names) = sp.create_rooster_feature_inputs (df_train)\n",
    "(test_id, test_p_candidates, \n",
    " test_features, test_feature_names) = sp.create_rooster_feature_inputs (df_test)"
   ]
  },
  {
   "cell_type": "markdown",
   "id": "7106924c-c015-4de5-8ab8-28ccf3e24da7",
   "metadata": {},
   "source": [
    "Now, let's instantiate a new ROOSTER object. The main attributes of ROOSTER are its two random forest classifiers, ``RotClass`` and ``PeriodSel``. The properties of these classifiers can be specified by the user by passing the optional arguments of ``sklearn.ensemble.RandomForestClassifier`` to the created ROOSTER instance. "
   ]
  },
  {
   "cell_type": "code",
   "execution_count": 12,
   "id": "520fb8a1-4781-4622-9b04-e3d429cabe59",
   "metadata": {},
   "outputs": [
    {
     "data": {
      "text/plain": [
       "Index(['E_prot_acf', 'E_prot_cs', 'E_prot_ps', 'e_prot_acf', 'e_prot_cs',\n",
       "       'e_prot_ps', 'e_sph_acf', 'e_sph_cs', 'e_sph_ps', 'fa_prob_ps', 'gacf',\n",
       "       'h_ps', 'hacf', 'hcs', 'prot_acf', 'prot_cs', 'prot_ps', 'sph_acf',\n",
       "       'sph_cs', 'sph_ps'],\n",
       "      dtype='object')"
      ]
     },
     "execution_count": 12,
     "metadata": {},
     "output_type": "execute_result"
    }
   ],
   "source": [
    "feature_names"
   ]
  },
  {
   "cell_type": "code",
   "execution_count": 13,
   "id": "f04cfda6-132f-44e3-bf27-42c45b059128",
   "metadata": {},
   "outputs": [
    {
     "data": {
      "text/plain": [
       "(RandomForestClassifier(random_state=RandomState(MT19937) at 0x132E8B540),\n",
       " RandomForestClassifier(random_state=RandomState(MT19937) at 0x132E8B540))"
      ]
     },
     "execution_count": 13,
     "metadata": {},
     "output_type": "execute_result"
    }
   ],
   "source": [
    "seed = 104359357\n",
    "chicken = sp.ROOSTER (n_estimators=100, random_state=np.random.RandomState (seed=seed))\n",
    "chicken.RotClass, chicken.PeriodSel"
   ]
  },
  {
   "cell_type": "markdown",
   "id": "fcb2cab0-69ac-4156-825d-7032485cfd6f",
   "metadata": {},
   "source": [
    "The training is performed as follows:"
   ]
  },
  {
   "cell_type": "code",
   "execution_count": 14,
   "id": "ba8c1383-9209-4625-a7a8-4dd8b4629b49",
   "metadata": {},
   "outputs": [
    {
     "name": "stdout",
     "output_type": "stream",
     "text": [
      "Training RotClass with 392 stars with detected rotation and 493 without detected rotation.\n",
      "Training PeriodSel with 392 stars.\n"
     ]
    }
   ],
   "source": [
    "chicken.train (training_id, training_p_candidates,\n",
    "               training_features, feature_names=feature_names,\n",
    "               catalog='santos-19-21', verbose=True)"
   ]
  },
  {
   "cell_type": "markdown",
   "id": "0e65175c-4340-4456-9c92-9e14a4a8061a",
   "metadata": {},
   "source": [
    "Once properly trained, ROOSTER performances can be assessed with our test set:"
   ]
  },
  {
   "cell_type": "code",
   "execution_count": 15,
   "id": "0e53e98e-487b-4c46-abfc-ec97f2de13b1",
   "metadata": {},
   "outputs": [
    {
     "name": "stdout",
     "output_type": "stream",
     "text": [
      "Testing RotClass with 380 stars with detected rotation and 502 without detected rotation.\n",
      "Testing PeriodSel with 380 stars.\n"
     ]
    }
   ],
   "source": [
    "results = chicken.test (test_id, test_p_candidates, test_features, \n",
    "                        feature_names=test_feature_names, \n",
    "                        catalog='santos-19-21', verbose=True)"
   ]
  },
  {
   "cell_type": "markdown",
   "id": "a85962c1-2aeb-41c4-a602-b849f082a35e",
   "metadata": {},
   "source": [
    "The score obtained during the test set can be accessed through the ``getScore`` function, as well as the number of elements used for the training and the test steps. "
   ]
  },
  {
   "cell_type": "code",
   "execution_count": 16,
   "id": "46baae9b-17ee-4dfa-91a2-53a91658239b",
   "metadata": {},
   "outputs": [
    {
     "data": {
      "text/plain": [
       "(0.927437641723356, 0.9315789473684211)"
      ]
     },
     "execution_count": 16,
     "metadata": {},
     "output_type": "execute_result"
    }
   ],
   "source": [
    "chicken.getScore ()"
   ]
  },
  {
   "cell_type": "code",
   "execution_count": 17,
   "id": "130bbf1e-262c-4e47-8817-ca57329bbf59",
   "metadata": {},
   "outputs": [
    {
     "data": {
      "text/plain": [
       "(885, 392)"
      ]
     },
     "execution_count": 17,
     "metadata": {},
     "output_type": "execute_result"
    }
   ],
   "source": [
    "chicken.getNumberEltTrain ()"
   ]
  },
  {
   "cell_type": "code",
   "execution_count": 18,
   "id": "863508ce-e3db-4b62-8b62-25c75f962c18",
   "metadata": {},
   "outputs": [
    {
     "data": {
      "text/plain": [
       "(882, 380)"
      ]
     },
     "execution_count": 18,
     "metadata": {},
     "output_type": "execute_result"
    }
   ],
   "source": [
    "chicken.getNumberEltTest ()"
   ]
  },
  {
   "cell_type": "markdown",
   "id": "ec1e3196-a8a7-4a1d-9fff-f0f877902ea8",
   "metadata": {},
   "source": [
    "The $P_\\mathrm{rot}$ computed by ROOSTER for the test set are returned when calling the function and it can be interesting to plot the distribution to compare it to the reference catalog values. "
   ]
  },
  {
   "cell_type": "code",
   "execution_count": 19,
   "id": "48d6f744-bc2a-4242-99a6-e1911c7e0fd4",
   "metadata": {},
   "outputs": [],
   "source": [
    "prot_rooster = results[3]\n",
    "prot_ref = sp.get_prot_ref (results[2], catalog='santos-19-21')"
   ]
  },
  {
   "cell_type": "markdown",
   "id": "4433ee40-d6a6-4ad5-bcd5-21d8abff62ac",
   "metadata": {},
   "source": [
    "Let's take a look at the corresponding histogram"
   ]
  },
  {
   "cell_type": "code",
   "execution_count": 20,
   "id": "81572edc-2368-4cab-9afa-90de0a62b178",
   "metadata": {},
   "outputs": [
    {
     "data": {
      "text/plain": [
       "<matplotlib.legend.Legend at 0x132b06790>"
      ]
     },
     "execution_count": 20,
     "metadata": {},
     "output_type": "execute_result"
    },
    {
     "data": {
      "image/png": "[encoded data removed]",
      "text/plain": [
       "<Figure size 640x480 with 1 Axes>"
      ]
     },
     "metadata": {},
     "output_type": "display_data"
    }
   ],
   "source": [
    "fig, ax = plt.subplots (1, 1)\n",
    "\n",
    "bins = np.linspace (0, 80, 20, endpoint=False)\n",
    "\n",
    "ax.hist (prot_rooster, bins=bins, color='darkorange', label='ROOSTER')\n",
    "ax.hist (prot_ref, bins=bins, facecolor='none',\n",
    "        edgecolor='black', label='Ref')\n",
    "\n",
    "ax.set_xlabel (r'$P_\\mathrm{rot}$ (day)')\n",
    "ax.set_ylabel (r'Number of stars')\n",
    "\n",
    "ax.legend ()"
   ]
  },
  {
   "cell_type": "markdown",
   "id": "dc16eff5-88c3-45bc-8a74-47e404b5adab",
   "metadata": {},
   "source": [
    "It can also be instructive to compare directly the ROOSTER results to the reference values."
   ]
  },
  {
   "cell_type": "code",
   "execution_count": 21,
   "id": "5cfebaf0-58d2-44f3-85ca-d0f11b291c8f",
   "metadata": {},
   "outputs": [
    {
     "data": {
      "image/png": "[encoded data removed]",
      "text/plain": [
       "<Figure size 500x500 with 1 Axes>"
      ]
     },
     "metadata": {},
     "output_type": "display_data"
    }
   ],
   "source": [
    "fig, ax = plt.subplots (1, 1, figsize=(5, 5))\n",
    "\n",
    "ax.scatter (prot_ref, prot_rooster, \n",
    "            color='darkorange', s=3, marker=\"o\")\n",
    "\n",
    "ax.set_xlabel (r'$P_\\mathrm{rot, true}$ (day)')\n",
    "ax.set_ylabel (r\"$P_\\mathrm{rot, ROOSTER}$ (day)\")\n",
    "\n",
    "ax.plot ([0, 60], [0, 60], ls=\"--\", color=\"grey\")\n",
    "\n",
    "fig.tight_layout ()"
   ]
  },
  {
   "cell_type": "code",
   "execution_count": 22,
   "id": "f1f0f1bb-e5f6-4bea-aaba-5637b8484427",
   "metadata": {},
   "outputs": [
    {
     "data": {
      "text/plain": [
       "Text(0.5, 0, '$N_\\\\mathrm{stars}$')"
      ]
     },
     "execution_count": 22,
     "metadata": {},
     "output_type": "execute_result"
    },
    {
     "data": {
      "image/png": "[encoded data removed]",
      "text/plain": [
       "<Figure size 600x400 with 2 Axes>"
      ]
     },
     "metadata": {},
     "output_type": "display_data"
    }
   ],
   "source": [
    "fig, (ax, ax0) = plt.subplots (1, 2, figsize=(6, 4), \n",
    "                               width_ratios=[0.8, 0.2],\n",
    "                               sharey=True)\n",
    "\n",
    "ax.scatter (prot_ref, (prot_rooster - prot_ref) / prot_ref * 100, \n",
    "            color='darkorange', s=3, marker=\"o\")\n",
    "\n",
    "ax0.hist ((prot_rooster - prot_ref) / prot_ref * 100, \n",
    "          bins=np.linspace (-20, 20, 31), orientation=\"horizontal\",\n",
    "          color=\"darkorange\")\n",
    "\n",
    "ax.set_xlabel (r'$P_\\mathrm{rot, true}$ (day)')\n",
    "ax.set_ylabel (r\"$\\delta P_\\mathrm{rot}$ (%)\")\n",
    "\n",
    "ax.axhline (0, ls=\"--\", color=\"grey\")\n",
    "\n",
    "ax.set_ylim (-10, 10)\n",
    "\n",
    "ax0.set_xlim (0, 200)\n",
    "ax0.set_xlabel (r\"$N_\\mathrm{stars}$\")"
   ]
  },
  {
   "cell_type": "markdown",
   "id": "21f347d7-625f-4614-9515-c886a699e72e",
   "metadata": {},
   "source": [
    "Finally, let's save our trained ROOSTER instance to be able to use it again later (for example in the next tutorial notebook !)"
   ]
  },
  {
   "cell_type": "code",
   "execution_count": 23,
   "id": "d09042ec-c6ae-4b33-96ae-09d16756b1f7",
   "metadata": {},
   "outputs": [],
   "source": [
    "chicken.save ('rooster_instances/rooster_tutorial')"
   ]
  },
  {
   "cell_type": "code",
   "execution_count": null,
   "id": "28cfdec4-4266-4ae3-b16f-9c82fc9fd139",
   "metadata": {},
   "outputs": [],
   "source": []
  }
 ],
 "metadata": {
  "kernelspec": {
   "display_name": "Python [conda env:main-3.9] *",
   "language": "python",
   "name": "conda-env-main-3.9-py"
  },
  "language_info": {
   "codemirror_mode": {
    "name": "ipython",
    "version": 3
   },
   "file_extension": ".py",
   "mimetype": "text/x-python",
   "name": "python",
   "nbconvert_exporter": "python",
   "pygments_lexer": "ipython3",
   "version": "3.9.15"
  }
 },
 "nbformat": 4,
 "nbformat_minor": 5
}
