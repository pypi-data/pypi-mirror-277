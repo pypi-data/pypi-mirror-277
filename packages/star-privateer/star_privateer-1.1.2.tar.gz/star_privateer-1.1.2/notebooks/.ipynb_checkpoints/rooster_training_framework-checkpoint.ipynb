{
 "cells": [
  {
   "cell_type": "markdown",
   "id": "146fffdd-4386-424a-a75a-b1e8154c9d52",
   "metadata": {},
   "source": [
    "# ROOSTER training framework (MSAP4-03)\n",
    "\n",
    "This notebook provide an example of the analysis of a set of stars with catalog-existing reference $P_\\mathrm{rot}$, and use the set to train an instance of ROOSTER.\n",
    "\n",
    "First we need to import the demonstrator module and the auxiliary module containing the dataset we are going to work with.\n",
    "\n",
    "**Note:** This notebook has been designed for the purpose of scientific justification of PLATO MSAP4-03. The notebook illustrated the precise flowchart envisaged for PLATO MSAP4-03 is cs_rooster_sph_analysis.ipynb"
   ]
  },
  {
   "cell_type": "code",
   "execution_count": 1,
   "id": "7e72243d-c0ce-400b-a350-ff3ccfe6af17",
   "metadata": {},
   "outputs": [],
   "source": [
    "import star_privateer as sp\n",
    "import plato_msap4_demonstrator_datasets.kepler_dataset as kepler_dataset"
   ]
  },
  {
   "cell_type": "code",
   "execution_count": 2,
   "id": "1dacb9ac-3893-491d-a2f4-ae1d32705e3a",
   "metadata": {},
   "outputs": [
    {
     "data": {
      "text/plain": [
       "'1.1.2'"
      ]
     },
     "execution_count": 2,
     "metadata": {},
     "output_type": "execute_result"
    }
   ],
   "source": [
    "sp.__version__"
   ]
  },
  {
   "cell_type": "markdown",
   "id": "ec9a9be4-3be0-4d02-be65-98a82625695b",
   "metadata": {},
   "source": [
    "We also need to import some other modules to run the notebook and to check that the outputs directory that we need exist. In addition to `star_privateer` requirements, you should make sure that the [`pathos` module](https://pathos.readthedocs.io/en/latest/index.html) is installed in order to run the analysis in parallel."
   ]
  },
  {
   "cell_type": "code",
   "execution_count": 3,
   "id": "969fa102-658a-49c1-8cd6-2d389742bc31",
   "metadata": {},
   "outputs": [],
   "source": [
    "import os, pathos\n",
    "import numpy as np\n",
    "import matplotlib.pyplot as plt\n",
    "from tqdm import tqdm\n",
    "\n",
    "if not os.path.exists ('rooster_training_features') :\n",
    "    os.mkdir ('rooster_training_features')\n",
    "if not os.path.exists ('rooster_instances') :\n",
    "    os.mkdir ('rooster_instances')"
   ]
  },
  {
   "cell_type": "markdown",
   "id": "c5288fed-7f82-448c-863e-1f2b281ab710",
   "metadata": {},
   "source": [
    "## Running the analysis pipeline"
   ]
  },
  {
   "cell_type": "markdown",
   "id": "e20a162f-e627-49f2-92c7-6c08a4186038",
   "metadata": {},
   "source": [
    "We are going to work with a sample of 1991 *Kepler* stars analysed by Santos et al. (2019, 2021). The light curves have been calibrated with the KEPSEISMIC method (see García et al. 2011, 2014), and all of them have been filtered with a 55-day high-pass filter. We can get the identifiers of the stars in the dataset with the following instruction:"
   ]
  },
  {
   "cell_type": "code",
   "execution_count": 4,
   "id": "408ec360-5d74-4dde-bb5f-eed4d97f275f",
   "metadata": {},
   "outputs": [],
   "source": [
    "list_kic = sp.get_list_targets (kepler_dataset)"
   ]
  },
  {
   "cell_type": "markdown",
   "id": "9c18e851-9b1c-419f-8417-5cc8bd3ee5fc",
   "metadata": {},
   "source": [
    "The next step is to run the analysis pipeline on every light curve in the dataset. The analysis pipeline in its default behaviour will compute the Lomb-Scargle periodogram (LSP) of the light curve as well as its auto-correlation function (ACF). ACF and LSP will then be used to compute a composite spectrum (CS), obtained by multiplying one by another. The feature computed for each stars are stored in a dedicated csv file identified by the star identifier (in this case, the KIC of the star). We are going to parallelise the analysis process with `pathos` in order to gain some computation time and control memory leakages that could arise from calling `analysis_pipeline` in a loop."
   ]
  },
  {
   "cell_type": "code",
   "execution_count": 5,
   "id": "5b8fc51a-0dc4-45ec-b846-3f0461f74879",
   "metadata": {},
   "outputs": [],
   "source": [
    "def analysis_wrapper (kic) :\n",
    "    \"\"\"\n",
    "    Analysis wrapper to speed computation\n",
    "    by parallelising process and control\n",
    "    memory usage.\n",
    "    \"\"\"\n",
    "    str_kic = str (kic).zfill (9)\n",
    "    filename = sp.get_target_filename (kepler_dataset, str_kic)\n",
    "    fileout = 'rooster_training_features/{}.csv'.format(str_kic)\n",
    "    fileplot = 'rooster_training_features/{}.png'.format(str_kic)\n",
    "    if not os.path.exists (fileout) :\n",
    "        t, s, dt = sp.load_resource (filename)\n",
    "        (p_ps, p_acf, \n",
    "         ps, acf, \n",
    "         cs, features, \n",
    "         feature_names, \n",
    "         fig) = sp.analysis_pipeline (t, s, pmin=0.1, pmax=60,\n",
    "                                      wavelet_analysis=False, plot=True,\n",
    "                                      filename=fileplot, figsize=(10,16), \n",
    "                                      lw=1, dpi=150, pfa_threshold=1e-6,\n",
    "                                      ls_err_smooth=True)\n",
    "        df = sp.save_features (fileout, kic, features, feature_names)\n",
    "        plt.close (\"all\")"
   ]
  },
  {
   "cell_type": "markdown",
   "id": "16d3355a-346d-4fcf-86c5-659db542fb9f",
   "metadata": {},
   "source": [
    "Now that are wrapper function is defined, we just create a `ProcessPool` that we run with `imap`:\n",
    "\n",
    "> Note: by default `imap`, on the contrary to `map`, is a non-blocking process. Nevertheless, in order to display a progress bar with `tqdm` we need to use it, and the `list` encapsulation is there to ensure the process is blocking."
   ]
  },
  {
   "cell_type": "code",
   "execution_count": null,
   "id": "ee4b2577-84a5-43e0-8a0e-3e53d523a88b",
   "metadata": {},
   "outputs": [
    {
     "name": "stderr",
     "output_type": "stream",
     "text": [
      " 29%|██████████████████████████████████▌                                                                                     | 573/1991 [12:37<49:38,  2.10s/it]"
     ]
    }
   ],
   "source": [
    "process_pool = pathos.pools._ProcessPool (processes=4, \n",
    "                                          maxtasksperchild=10)\n",
    "with process_pool as p :\n",
    "    list (tqdm (p.imap (analysis_wrapper,\n",
    "                        list_kic,\n",
    "                        ),\n",
    "                total=len (list_kic))\n",
    "          )\n",
    "    p.close ()"
   ]
  },
  {
   "cell_type": "markdown",
   "id": "940c0191-7417-4ef8-812e-323dbf436f1a",
   "metadata": {},
   "source": [
    "After running the analysis pipeline, it is possible to concatenate the feature obtained for each star into one big DataFrame."
   ]
  },
  {
   "cell_type": "code",
   "execution_count": null,
   "id": "a15c1ac0-18dd-4e22-a052-85e61916dcc1",
   "metadata": {},
   "outputs": [],
   "source": [
    "df = sp.build_catalog_features ('rooster_training_features')"
   ]
  },
  {
   "cell_type": "markdown",
   "id": "0250e067-2bf8-47b0-a57e-ed3c4ba7127a",
   "metadata": {},
   "source": [
    "This is typically what the DataFrame is going to look like:"
   ]
  },
  {
   "cell_type": "code",
   "execution_count": null,
   "id": "836aadd8-16ae-483e-a380-f3984e408f57",
   "metadata": {},
   "outputs": [],
   "source": [
    "df"
   ]
  },
  {
   "cell_type": "code",
   "execution_count": null,
   "id": "e57d3a62-49dc-49c4-9d55-49866d61e9cf",
   "metadata": {},
   "outputs": [],
   "source": [
    "df.to_csv (\"training_features.csv\")"
   ]
  },
  {
   "cell_type": "markdown",
   "id": "2bd62881-232c-46bd-a43f-3a4fdd652302",
   "metadata": {},
   "source": [
    "## Training and testing ROOSTER\n",
    "\n",
    "Now that we have analysed a large sample of stars, we are able to use it to train the random forest ROOSTER methodology (see Breton et al. 2021). First, let's (arbitrarily) divide our DataFrame into a training set and a test set."
   ]
  },
  {
   "cell_type": "code",
   "execution_count": null,
   "id": "5008126a-abed-4464-a4ef-b755a90dc60a",
   "metadata": {},
   "outputs": [],
   "source": [
    "df_train = df.sample (n=df.index.size//2, random_state=49458493) \n",
    "df_test = df.loc[np.setdiff1d (df.index, df_train.index)]"
   ]
  },
  {
   "cell_type": "markdown",
   "id": "ae78d48d-7d07-4cc5-8587-cc1e224c7dd6",
   "metadata": {},
   "source": [
    "The DataFrames let us obtain all the input we require to train and test ROOSTER:"
   ]
  },
  {
   "cell_type": "code",
   "execution_count": null,
   "id": "ba83bdc2-7b32-48f7-8211-2f2152b1c0f9",
   "metadata": {},
   "outputs": [],
   "source": [
    "(training_id, training_p_candidates, \n",
    " training_features, feature_names) = sp.create_rooster_feature_inputs (df_train)\n",
    "(test_id, test_p_candidates, \n",
    " test_features, test_feature_names) = sp.create_rooster_feature_inputs (df_test)"
   ]
  },
  {
   "cell_type": "markdown",
   "id": "7106924c-c015-4de5-8ab8-28ccf3e24da7",
   "metadata": {},
   "source": [
    "Now, let's instantiate a new ROOSTER object. The main attributes of ROOSTER are its two random forest classifiers, ``RotClass`` and ``PeriodSel``. The properties of these classifiers can be specified by the user by passing the optional arguments of ``sklearn.ensemble.RandomForestClassifier`` to the created ROOSTER instance. "
   ]
  },
  {
   "cell_type": "code",
   "execution_count": null,
   "id": "520fb8a1-4781-4622-9b04-e3d429cabe59",
   "metadata": {},
   "outputs": [],
   "source": [
    "feature_names"
   ]
  },
  {
   "cell_type": "code",
   "execution_count": null,
   "id": "f04cfda6-132f-44e3-bf27-42c45b059128",
   "metadata": {},
   "outputs": [],
   "source": [
    "seed = 104359357\n",
    "chicken = sp.ROOSTER (n_estimators=100, random_state=np.random.RandomState (seed=seed))\n",
    "chicken.RotClass, chicken.PeriodSel"
   ]
  },
  {
   "cell_type": "markdown",
   "id": "fcb2cab0-69ac-4156-825d-7032485cfd6f",
   "metadata": {},
   "source": [
    "The training is performed as follows:"
   ]
  },
  {
   "cell_type": "code",
   "execution_count": null,
   "id": "ba8c1383-9209-4625-a7a8-4dd8b4629b49",
   "metadata": {},
   "outputs": [],
   "source": [
    "chicken.train (training_id, training_p_candidates,\n",
    "               training_features, feature_names=feature_names,\n",
    "               catalog='santos-19-21', verbose=True)"
   ]
  },
  {
   "cell_type": "markdown",
   "id": "0e65175c-4340-4456-9c92-9e14a4a8061a",
   "metadata": {},
   "source": [
    "Once properly trained, ROOSTER performances can be assessed with our test set:"
   ]
  },
  {
   "cell_type": "code",
   "execution_count": null,
   "id": "0e53e98e-487b-4c46-abfc-ec97f2de13b1",
   "metadata": {},
   "outputs": [],
   "source": [
    "results = chicken.test (test_id, test_p_candidates, test_features, \n",
    "                        feature_names=test_feature_names, \n",
    "                        catalog='santos-19-21', verbose=True)"
   ]
  },
  {
   "cell_type": "markdown",
   "id": "a85962c1-2aeb-41c4-a602-b849f082a35e",
   "metadata": {},
   "source": [
    "The score obtained during the test set can be accessed through the ``getScore`` function, as well as the number of elements used for the training and the test steps. "
   ]
  },
  {
   "cell_type": "code",
   "execution_count": null,
   "id": "46baae9b-17ee-4dfa-91a2-53a91658239b",
   "metadata": {},
   "outputs": [],
   "source": [
    "chicken.getScore ()"
   ]
  },
  {
   "cell_type": "code",
   "execution_count": null,
   "id": "130bbf1e-262c-4e47-8817-ca57329bbf59",
   "metadata": {},
   "outputs": [],
   "source": [
    "chicken.getNumberEltTrain ()"
   ]
  },
  {
   "cell_type": "code",
   "execution_count": null,
   "id": "863508ce-e3db-4b62-8b62-25c75f962c18",
   "metadata": {},
   "outputs": [],
   "source": [
    "chicken.getNumberEltTest ()"
   ]
  },
  {
   "cell_type": "markdown",
   "id": "ec1e3196-a8a7-4a1d-9fff-f0f877902ea8",
   "metadata": {},
   "source": [
    "The $P_\\mathrm{rot}$ computed by ROOSTER for the test set are returned when calling the function and it can be interesting to plot the distribution to compare it to the reference catalog values. "
   ]
  },
  {
   "cell_type": "code",
   "execution_count": null,
   "id": "48d6f744-bc2a-4242-99a6-e1911c7e0fd4",
   "metadata": {},
   "outputs": [],
   "source": [
    "prot_rooster = results[3]\n",
    "prot_ref = sp.get_prot_ref (results[2], catalog='santos-19-21')"
   ]
  },
  {
   "cell_type": "markdown",
   "id": "4433ee40-d6a6-4ad5-bcd5-21d8abff62ac",
   "metadata": {},
   "source": [
    "Let's take a look at the corresponding histogram"
   ]
  },
  {
   "cell_type": "code",
   "execution_count": null,
   "id": "81572edc-2368-4cab-9afa-90de0a62b178",
   "metadata": {},
   "outputs": [],
   "source": [
    "fig, ax = plt.subplots (1, 1)\n",
    "\n",
    "bins = np.linspace (0, 80, 20, endpoint=False)\n",
    "\n",
    "ax.hist (prot_rooster, bins=bins, color='darkorange', label='ROOSTER')\n",
    "ax.hist (prot_ref, bins=bins, facecolor='none',\n",
    "        edgecolor='black', label='Ref')\n",
    "\n",
    "ax.set_xlabel (r'$P_\\mathrm{rot}$ (day)')\n",
    "ax.set_ylabel (r'Number of stars')\n",
    "\n",
    "ax.legend ()"
   ]
  },
  {
   "cell_type": "markdown",
   "id": "dc16eff5-88c3-45bc-8a74-47e404b5adab",
   "metadata": {},
   "source": [
    "It can also be instructive to compare directly the ROOSTER results to the reference values."
   ]
  },
  {
   "cell_type": "code",
   "execution_count": null,
   "id": "5cfebaf0-58d2-44f3-85ca-d0f11b291c8f",
   "metadata": {},
   "outputs": [],
   "source": [
    "fig, ax = plt.subplots (1, 1, figsize=(5, 5))\n",
    "\n",
    "ax.scatter (prot_ref, prot_rooster, \n",
    "            color='darkorange', s=3, marker=\"o\")\n",
    "\n",
    "ax.set_xlabel (r'$P_\\mathrm{rot, true}$ (day)')\n",
    "ax.set_ylabel (r\"$P_\\mathrm{rot, ROOSTER}$ (day)\")\n",
    "\n",
    "ax.plot ([0, 60], [0, 60], ls=\"--\", color=\"grey\")\n",
    "\n",
    "fig.tight_layout ()"
   ]
  },
  {
   "cell_type": "code",
   "execution_count": null,
   "id": "f1f0f1bb-e5f6-4bea-aaba-5637b8484427",
   "metadata": {},
   "outputs": [],
   "source": [
    "fig, (ax, ax0) = plt.subplots (1, 2, figsize=(6, 4), \n",
    "                               width_ratios=[0.8, 0.2],\n",
    "                               sharey=True)\n",
    "\n",
    "ax.scatter (prot_ref, (prot_rooster - prot_ref) / prot_ref * 100, \n",
    "            color='darkorange', s=3, marker=\"o\")\n",
    "\n",
    "ax0.hist ((prot_rooster - prot_ref) / prot_ref * 100, \n",
    "          bins=np.linspace (-20, 20, 31), orientation=\"horizontal\",\n",
    "          color=\"darkorange\")\n",
    "\n",
    "ax.set_xlabel (r'$P_\\mathrm{rot, true}$ (day)')\n",
    "ax.set_ylabel (r\"$\\delta P_\\mathrm{rot}$ (%)\")\n",
    "\n",
    "ax.axhline (0, ls=\"--\", color=\"grey\")\n",
    "\n",
    "ax.set_ylim (-10, 10)\n",
    "\n",
    "ax0.set_xlim (0, 200)\n",
    "ax0.set_xlabel (r\"$N_\\mathrm{stars}$\")"
   ]
  },
  {
   "cell_type": "markdown",
   "id": "21f347d7-625f-4614-9515-c886a699e72e",
   "metadata": {},
   "source": [
    "Finally, let's save our trained ROOSTER instance to be able to use it again later (for example in the next tutorial notebook !)"
   ]
  },
  {
   "cell_type": "code",
   "execution_count": null,
   "id": "d09042ec-c6ae-4b33-96ae-09d16756b1f7",
   "metadata": {},
   "outputs": [],
   "source": [
    "chicken.save ('rooster_instances/rooster_tutorial')"
   ]
  },
  {
   "cell_type": "code",
   "execution_count": null,
   "id": "28cfdec4-4266-4ae3-b16f-9c82fc9fd139",
   "metadata": {},
   "outputs": [],
   "source": []
  }
 ],
 "metadata": {
  "kernelspec": {
   "display_name": "Python [conda env:main-3.9] *",
   "language": "python",
   "name": "conda-env-main-3.9-py"
  },
  "language_info": {
   "codemirror_mode": {
    "name": "ipython",
    "version": 3
   },
   "file_extension": ".py",
   "mimetype": "text/x-python",
   "name": "python",
   "nbconvert_exporter": "python",
   "pygments_lexer": "ipython3",
   "version": "3.9.15"
  }
 },
 "nbformat": 4,
 "nbformat_minor": 5
}
