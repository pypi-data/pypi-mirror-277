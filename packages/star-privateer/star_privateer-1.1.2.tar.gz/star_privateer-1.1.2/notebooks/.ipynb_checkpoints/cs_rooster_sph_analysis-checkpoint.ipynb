{
 "cells": [
  {
   "cell_type": "markdown",
   "id": "cfe11545-27df-45e3-b4aa-64f83c71b9a9",
   "metadata": {},
   "source": [
    "# Composite spectrum (CS), ROOSTER, and Sph index (MSAP4-03)\n",
    "\n",
    "In this notebook, we follow the flowchart defined for the PLATO MSAP4-03 submodule to show how the composite spectrum and the $S_\\mathrm{ph}$ time series are computed. The final rotation period for the star is also computed through the random forest classifier analysis performed by the ROOSTER methodology."
   ]
  },
  {
   "cell_type": "code",
   "execution_count": 1,
   "id": "d0e17ca5-7d3b-4999-bfe9-870ff51f0130",
   "metadata": {},
   "outputs": [],
   "source": [
    "import matplotlib.pyplot as plt\n",
    "import numpy as np\n",
    "import pandas as pd"
   ]
  },
  {
   "cell_type": "code",
   "execution_count": 2,
   "id": "c257f7f2-b872-4cfc-814f-8f58bccfcaba",
   "metadata": {},
   "outputs": [],
   "source": [
    "import star_privateer as sp"
   ]
  },
  {
   "cell_type": "code",
   "execution_count": 3,
   "id": "77396016-0167-4d63-981b-13c7312fee95",
   "metadata": {},
   "outputs": [
    {
     "data": {
      "text/plain": [
       "'1.1.2'"
      ]
     },
     "execution_count": 3,
     "metadata": {},
     "output_type": "execute_result"
    }
   ],
   "source": [
    "sp.__version__"
   ]
  },
  {
   "cell_type": "markdown",
   "id": "7facc55b-002e-4b01-a5e9-fcaabf73cc4e",
   "metadata": {},
   "source": [
    "## Preprocessing\n",
    "\n",
    "We start by loading our usual K2 light curve (EPIC 211015853) and the intermediate data products we require from MSAP4-01 and 02. We also recompute the Lomb-Scargle periodogram as we need it for the composite spectrum."
   ]
  },
  {
   "cell_type": "code",
   "execution_count": 4,
   "id": "5a80b7be-44be-40c0-94f8-1e36874e5077",
   "metadata": {},
   "outputs": [],
   "source": [
    "t, s, dt = sp.load_k2_example ()\n",
    "IDP_SAS_PROT_FOURIER = np.loadtxt ('data_products/IDP_SAS_PROT_FOURIER_K2.dat')\n",
    "IDP_SAS_PROT_TIMESERIES = np.loadtxt ('data_products/IDP_SAS_PROT_TIMESERIES_K2.dat')\n",
    "IDP_SAS_ACF_FILT_TIMESERIES = np.loadtxt ('data_products/IDP_SAS_ACF_FILT_TIMESERIES_K2.dat')"
   ]
  },
  {
   "cell_type": "code",
   "execution_count": 5,
   "id": "5ed2d6eb-e35d-4e29-aea7-ab634af57fbc",
   "metadata": {},
   "outputs": [],
   "source": [
    "p_ps, ls = sp.compute_lomb_scargle (t, s)"
   ]
  },
  {
   "cell_type": "markdown",
   "id": "28b32370-3048-4caa-9f10-26cc0066e9cc",
   "metadata": {},
   "source": [
    "## Computing the CS\n",
    "\n",
    "The ACF is renormalised by its value at the main periodicity."
   ]
  },
  {
   "cell_type": "code",
   "execution_count": 6,
   "id": "6a7efefe-d702-4df4-b184-62871df9202f",
   "metadata": {},
   "outputs": [],
   "source": [
    "prot_acf = IDP_SAS_PROT_TIMESERIES[0,0]/IDP_SAS_PROT_TIMESERIES[0,5]\n",
    "p_acf, acf = IDP_SAS_ACF_FILT_TIMESERIES[:,0], IDP_SAS_ACF_FILT_TIMESERIES[:,1]\n",
    "index_prot_acf = np.where (prot_acf==p_acf)[0][0]"
   ]
  },
  {
   "cell_type": "code",
   "execution_count": 7,
   "id": "9d52ea72-8f95-4e9f-acac-9cf9a549f43f",
   "metadata": {},
   "outputs": [],
   "source": [
    "cs = sp.compute_cs (ls, acf, p_acf=p_acf, p_ps=p_ps,\n",
    "                       index_prot_acf=index_prot_acf)"
   ]
  },
  {
   "cell_type": "code",
   "execution_count": 8,
   "id": "5006bcbc-09d3-4735-a636-d4d4322285f0",
   "metadata": {},
   "outputs": [],
   "source": [
    "_, hcs = sp.find_prot_cs (p_acf, cs)\n",
    "(prot_cs, E_prot_cs, \n",
    " param_gauss_cs) = sp.compute_prot_err_gaussian_fit (p_acf, cs, verbose=False,\n",
    "                                                  n_profile=5, threshold=0.1)"
   ]
  },
  {
   "cell_type": "code",
   "execution_count": 9,
   "id": "2cfeaf58-fc0b-427d-93f4-e8574d74f170",
   "metadata": {},
   "outputs": [
    {
     "data": {
      "image/png": "[encoded data removed]",
      "text/plain": [
       "<Figure size 800x400 with 1 Axes>"
      ]
     },
     "metadata": {},
     "output_type": "display_data"
    }
   ],
   "source": [
    "fig = sp.plot_cs (p_acf, cs, ax=None, figsize=(8, 4),\n",
    "                    lw=2, filename='figures/cs_k2.png', dpi=300, \n",
    "                    param_gauss=param_gauss_cs,\n",
    "                    xlim=(0, 10))"
   ]
  },
  {
   "cell_type": "markdown",
   "id": "53fd67d6-dbc1-46f6-8211-f39de0b7933f",
   "metadata": {},
   "source": [
    "## ROOSTER analysis"
   ]
  },
  {
   "cell_type": "markdown",
   "id": "8403579f-4f3e-46e5-88cd-9a492adbef23",
   "metadata": {},
   "source": [
    "Before using ROOSTER, we must gather the set of parameter it needs for the analysis. \n",
    "The candidate $S_\\mathrm{ph}$ mean values for each possible periods are among this set. "
   ]
  },
  {
   "cell_type": "code",
   "execution_count": 10,
   "id": "d1c3bafc-e799-457e-9ed7-450e6b8a679d",
   "metadata": {},
   "outputs": [
    {
     "data": {
      "text/plain": [
       "(6, 5)"
      ]
     },
     "execution_count": 10,
     "metadata": {},
     "output_type": "execute_result"
    }
   ],
   "source": [
    "IDP_SAS_PROT_FOURIER.shape"
   ]
  },
  {
   "cell_type": "code",
   "execution_count": 11,
   "id": "79b02a69-add3-4587-867e-2070c404cdf6",
   "metadata": {},
   "outputs": [],
   "source": [
    "(prot_ps, e_prot_ps, E_prot_ps,\n",
    " h_ps, fa_prob_ps) = (IDP_SAS_PROT_FOURIER[0,0], \n",
    "                      IDP_SAS_PROT_FOURIER[0,1], \n",
    "                      IDP_SAS_PROT_FOURIER[0,2],\n",
    "                      IDP_SAS_PROT_FOURIER[0,3],\n",
    "                      IDP_SAS_PROT_FOURIER[0,4])\n",
    "(prot_acf, e_prot_acf, E_prot_acf,\n",
    " hacf, gacf) = (IDP_SAS_PROT_TIMESERIES[0,0], \n",
    "                IDP_SAS_PROT_TIMESERIES[0,1], \n",
    "                IDP_SAS_PROT_TIMESERIES[0,2],\n",
    "                IDP_SAS_PROT_TIMESERIES[0,3], \n",
    "                IDP_SAS_PROT_TIMESERIES[0,4])"
   ]
  },
  {
   "cell_type": "code",
   "execution_count": 12,
   "id": "b0274095-7436-46c6-a366-278e94d30eed",
   "metadata": {},
   "outputs": [],
   "source": [
    "sph_ps, e_sph_ps = sp.compute_sph (t, s, prot_ps)\n",
    "sph_acf, e_sph_acf = sp.compute_sph (t, s, prot_acf)\n",
    "sph_cs, e_sph_cs = sp.compute_sph (t, s, prot_cs)"
   ]
  },
  {
   "cell_type": "code",
   "execution_count": 13,
   "id": "38ce3110-d12e-40ff-8fbc-d5f9404bd259",
   "metadata": {},
   "outputs": [
    {
     "data": {
      "text/html": [
       "<div>\n",
       "<style scoped>\n",
       "    .dataframe tbody tr th:only-of-type {\n",
       "        vertical-align: middle;\n",
       "    }\n",
       "\n",
       "    .dataframe tbody tr th {\n",
       "        vertical-align: top;\n",
       "    }\n",
       "\n",
       "    .dataframe thead th {\n",
       "        text-align: right;\n",
       "    }\n",
       "</style>\n",
       "<table border=\"1\" class=\"dataframe\">\n",
       "  <thead>\n",
       "    <tr style=\"text-align: right;\">\n",
       "      <th></th>\n",
       "      <th>prot_ps</th>\n",
       "      <th>prot_acf</th>\n",
       "      <th>prot_cs</th>\n",
       "      <th>e_prot_ps</th>\n",
       "      <th>E_prot_ps</th>\n",
       "      <th>e_prot_acf</th>\n",
       "      <th>E_prot_acf</th>\n",
       "      <th>e_prot_cs</th>\n",
       "      <th>E_prot_cs</th>\n",
       "      <th>sph_ps</th>\n",
       "      <th>sph_acf</th>\n",
       "      <th>sph_cs</th>\n",
       "      <th>e_sph_ps</th>\n",
       "      <th>e_sph_acf</th>\n",
       "      <th>e_sph_cs</th>\n",
       "      <th>h_ps</th>\n",
       "      <th>fa_prob_ps</th>\n",
       "      <th>hacf</th>\n",
       "      <th>gacf</th>\n",
       "      <th>hcs</th>\n",
       "    </tr>\n",
       "  </thead>\n",
       "  <tbody>\n",
       "    <tr>\n",
       "      <th>211015853</th>\n",
       "      <td>1.393528</td>\n",
       "      <td>2.676551</td>\n",
       "      <td>2.773275</td>\n",
       "      <td>0.001392</td>\n",
       "      <td>0.001395</td>\n",
       "      <td>-1.0</td>\n",
       "      <td>-1.0</td>\n",
       "      <td>0.062348</td>\n",
       "      <td>0.062348</td>\n",
       "      <td>4538.521973</td>\n",
       "      <td>4672.765625</td>\n",
       "      <td>4606.483398</td>\n",
       "      <td>1184.419556</td>\n",
       "      <td>1017.930603</td>\n",
       "      <td>1080.069092</td>\n",
       "      <td>438.472941</td>\n",
       "      <td>1.000000e-16</td>\n",
       "      <td>1.219106</td>\n",
       "      <td>0.808528</td>\n",
       "      <td>0.595345</td>\n",
       "    </tr>\n",
       "  </tbody>\n",
       "</table>\n",
       "</div>"
      ],
      "text/plain": [
       "            prot_ps  prot_acf   prot_cs  e_prot_ps  E_prot_ps  e_prot_acf  \\\n",
       "211015853  1.393528  2.676551  2.773275   0.001392   0.001395        -1.0   \n",
       "\n",
       "           E_prot_acf  e_prot_cs  E_prot_cs       sph_ps      sph_acf  \\\n",
       "211015853        -1.0   0.062348   0.062348  4538.521973  4672.765625   \n",
       "\n",
       "                sph_cs     e_sph_ps    e_sph_acf     e_sph_cs        h_ps  \\\n",
       "211015853  4606.483398  1184.419556  1017.930603  1080.069092  438.472941   \n",
       "\n",
       "             fa_prob_ps      hacf      gacf       hcs  \n",
       "211015853  1.000000e-16  1.219106  0.808528  0.595345  "
      ]
     },
     "execution_count": 13,
     "metadata": {},
     "output_type": "execute_result"
    }
   ],
   "source": [
    "features = np.array ([prot_ps, prot_acf, prot_cs,\n",
    "                     e_prot_ps, E_prot_ps,\n",
    "                     e_prot_acf, E_prot_acf,\n",
    "                     E_prot_cs, E_prot_cs,\n",
    "                     sph_ps, sph_acf, sph_cs,\n",
    "                     e_sph_ps, e_sph_acf, e_sph_cs,\n",
    "                     h_ps, fa_prob_ps, hacf, gacf, hcs])\n",
    "feature_names = np.array(['prot_ps', 'prot_acf', 'prot_cs',\n",
    "                         'e_prot_ps', 'E_prot_ps',\n",
    "                         'e_prot_acf', 'E_prot_acf',\n",
    "                         'e_prot_cs', 'E_prot_cs',\n",
    "                         'sph_ps', 'sph_acf', 'sph_cs',\n",
    "                         'e_sph_ps', 'e_sph_acf', 'e_sph_cs',\n",
    "                         'h_ps', 'fa_prob_ps',\n",
    "                         'hacf', 'gacf', 'hcs'])\n",
    "df = pd.DataFrame (columns=feature_names, index=[211015853],\n",
    "                   data=features.reshape (-1, features.size))\n",
    "df"
   ]
  },
  {
   "cell_type": "markdown",
   "id": "855959d4-ed7e-46fe-98f5-b4bfd69c9896",
   "metadata": {},
   "source": [
    "We create the data structure that ROOSTER will need."
   ]
  },
  {
   "cell_type": "code",
   "execution_count": 14,
   "id": "181b2169-dc66-47c6-bc31-bceb7e65848a",
   "metadata": {},
   "outputs": [
    {
     "data": {
      "text/plain": [
       "array([[1.39352799, 2.6765511 , 2.77327498]])"
      ]
     },
     "execution_count": 14,
     "metadata": {},
     "output_type": "execute_result"
    }
   ],
   "source": [
    "(target_id, p_candidates, \n",
    " e_p_candidates, E_p_candidates, \n",
    " features, feature_names) = sp.create_rooster_feature_inputs (df, return_err=True)\n",
    "p_candidates"
   ]
  },
  {
   "cell_type": "markdown",
   "id": "5772c0b1-6a24-4485-90e5-051dc598b77b",
   "metadata": {},
   "source": [
    "Now, we load and use the ROOSTER object."
   ]
  },
  {
   "cell_type": "code",
   "execution_count": 15,
   "id": "8430e6a9-2da6-4e62-bb62-a4cd647d6a58",
   "metadata": {},
   "outputs": [],
   "source": [
    "chicken = sp.load_rooster_instance (filename='rooster_instances/rooster_tutorial')"
   ]
  },
  {
   "cell_type": "code",
   "execution_count": 16,
   "id": "73596380-d8bd-431e-810d-161178bbb1db",
   "metadata": {},
   "outputs": [],
   "source": [
    "rotation_score, prot, e_p, E_p = chicken.analyseSet (features, p_candidates, e_p_err=e_p_candidates,\n",
    "                                                     E_p_err=E_p_candidates, feature_names=feature_names)"
   ]
  },
  {
   "cell_type": "code",
   "execution_count": 17,
   "id": "14ddc310-a0d5-4d9a-a13e-6c8778b820b0",
   "metadata": {},
   "outputs": [
    {
     "data": {
      "text/plain": [
       "(array([0.79]), array([2.6765511]), array([-1.]), array([-1.]))"
      ]
     },
     "execution_count": 17,
     "metadata": {},
     "output_type": "execute_result"
    }
   ],
   "source": [
    "rotation_score, prot, e_p, E_p"
   ]
  },
  {
   "cell_type": "markdown",
   "id": "3e279b25-df19-4daa-9f09-c2c60d1a150d",
   "metadata": {},
   "source": [
    "## Computing $S_\\mathrm{ph}$ time series\n",
    "\n",
    "Now that we have the final value of the rotation period, we can correctly compute the $S_\\mathrm{ph}$ time series."
   ]
  },
  {
   "cell_type": "code",
   "execution_count": 18,
   "id": "d746cbe9-8286-4e29-8d95-751fb6334b1f",
   "metadata": {},
   "outputs": [],
   "source": [
    "_, t_sph, sph_series = sp.compute_sph (t, s, prot, \n",
    "                                          return_timeseries=True)"
   ]
  },
  {
   "cell_type": "markdown",
   "id": "e6fd815b-1b6b-4a04-870e-5d29a75b9b95",
   "metadata": {},
   "source": [
    "We show below the $S_\\mathrm{ph}$ evolution along time compared with the time series flux evolution."
   ]
  },
  {
   "cell_type": "code",
   "execution_count": 19,
   "id": "8e0226cf-2bdd-47e4-b4a9-c8eacec4469a",
   "metadata": {},
   "outputs": [
    {
     "data": {
      "image/png": "[encoded data removed]",
      "text/plain": [
       "<Figure size 800x800 with 2 Axes>"
      ]
     },
     "metadata": {},
     "output_type": "display_data"
    }
   ],
   "source": [
    "fig, (ax1, ax2) = plt.subplots (2, 1, figsize=(8,8))\n",
    "\n",
    "ax1.scatter (t - t[0], s, marker='o', facecolor='black', s=1)\n",
    "ax2.scatter (t_sph - t[0], sph_series, marker='o', s=100,\n",
    "            facecolor='darkorange', edgecolor='black')\n",
    "\n",
    "ax1.set_ylabel (r'Flux (ppm)')\n",
    "ax2.set_xlabel ('Time (day)')\n",
    "ax2.set_ylabel (r'$S_\\mathrm{ph}$ (ppm)')\n",
    "\n",
    "ax1.set_xlim (0, t[-1]-t[0])\n",
    "ax2.set_xlim (0, t[-1]-t[0])\n",
    "\n",
    "fig.tight_layout ()\n",
    "\n",
    "plt.savefig ('figures/sph_k2.png', dpi=300)"
   ]
  },
  {
   "cell_type": "markdown",
   "id": "6a0291c0-bdad-4c70-bc10-9570ba3bb6e2",
   "metadata": {},
   "source": [
    "## Computing the Rossby number\n",
    "\n",
    "It is now possible to compute an estimate of the fluid Rossby number from the rotation period and the effective temperature. Here, we use the $T_\\mathrm{eff} = 5888$ value from the GAIA DR3 catalog."
   ]
  },
  {
   "cell_type": "code",
   "execution_count": 20,
   "id": "1b6bd8fe-1c7c-41f4-88ee-ab74e586cb63",
   "metadata": {},
   "outputs": [
    {
     "data": {
      "text/plain": [
       "(0.11259377665507618, 5)"
      ]
     },
     "execution_count": 20,
     "metadata": {},
     "output_type": "execute_result"
    }
   ],
   "source": [
    "teff = 5888 \n",
    "ro, flag = sp.compute_rossby (prot[0], teff)\n",
    "ro, flag"
   ]
  },
  {
   "cell_type": "markdown",
   "id": "f105f04d-9636-4950-9e4d-8006a945d1d6",
   "metadata": {},
   "source": [
    "## Differential rotation candidates validation\n",
    "\n",
    "We now use IDP_SAS_PROT_FOURIER to validate the possible differential rotation candidates. "
   ]
  },
  {
   "cell_type": "code",
   "execution_count": 21,
   "id": "5e0e829e-0750-4e1b-ab53-4cef5dbb3180",
   "metadata": {},
   "outputs": [
    {
     "data": {
      "text/plain": [
       "(array([2.78705869]),\n",
       " array([0.00278446]),\n",
       " array([0.00279003]),\n",
       " array([0.04128731]))"
      ]
     },
     "execution_count": 21,
     "metadata": {},
     "output_type": "execute_result"
    }
   ],
   "source": [
    "dr, e_dr, E_dr, shear = sp.compute_delta_prot (prot[0], IDP_SAS_PROT_FOURIER[1:,0], \n",
    "                                           IDP_SAS_PROT_FOURIER[1:,1],\n",
    "                                           IDP_SAS_PROT_FOURIER[1:,2],\n",
    "                                           delta_min=1/3, delta_max=5/3,\n",
    "                                           tol_harmonic=0.05)\n",
    "dr, e_dr, E_dr, shear"
   ]
  },
  {
   "cell_type": "markdown",
   "id": "4d21ae56-6dad-4b0c-8824-4ccd14cd6f3d",
   "metadata": {},
   "source": [
    "## Building the data products\n",
    "\n",
    "Finally, we build the data products from the previous computations."
   ]
  },
  {
   "cell_type": "code",
   "execution_count": 22,
   "id": "3e26c124-220a-47f5-8c4b-b1c0895b9329",
   "metadata": {},
   "outputs": [],
   "source": [
    "IDP_SAS_S_PHOTO_INDEX = np.c_[t_sph, sph_series]\n",
    "IDP_SAS_PROT_NOSPOT = np.array ([prot[0], e_p[0], E_p[0], \n",
    "                                 rotation_score[0], ro,\n",
    "                                 np.mean (sph_series), np.std (sph_series)])\n",
    "IDP_SAS_DELTA_PROT_NOSPOT = np.c_[dr, e_dr, E_dr, shear]"
   ]
  },
  {
   "cell_type": "code",
   "execution_count": 23,
   "id": "dd3df042-da07-46f7-b120-42208194bee4",
   "metadata": {},
   "outputs": [],
   "source": [
    "np.savetxt ('data_products/IDP_SAS_S_PHOTO_INDEX_K2.dat', IDP_SAS_S_PHOTO_INDEX)\n",
    "np.savetxt ('data_products/IDP_SAS_PROT_NOSPOT_K2.dat', IDP_SAS_PROT_NOSPOT)\n",
    "np.savetxt ('data_products/IDP_SAS_DELTA_PROT_K2.dat', IDP_SAS_DELTA_PROT_NOSPOT)"
   ]
  },
  {
   "cell_type": "code",
   "execution_count": null,
   "id": "fb9c65a1-a135-4554-b673-8756c3710d8d",
   "metadata": {},
   "outputs": [],
   "source": []
  }
 ],
 "metadata": {
  "kernelspec": {
   "display_name": "Python 3 (ipykernel)",
   "language": "python",
   "name": "python3"
  },
  "language_info": {
   "codemirror_mode": {
    "name": "ipython",
    "version": 3
   },
   "file_extension": ".py",
   "mimetype": "text/x-python",
   "name": "python",
   "nbconvert_exporter": "python",
   "pygments_lexer": "ipython3",
   "version": "3.9.15"
  }
 },
 "nbformat": 4,
 "nbformat_minor": 5
}
