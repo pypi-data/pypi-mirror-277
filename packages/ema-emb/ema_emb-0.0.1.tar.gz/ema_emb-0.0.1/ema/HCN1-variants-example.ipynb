{
 "cells": [
  {
   "cell_type": "code",
   "execution_count": null,
   "metadata": {},
   "outputs": [],
   "source": [
    "import numpy as np\n",
    "import pandas as pd\n",
    "\n",
    "from ema import EmbeddingHandler"
   ]
  },
  {
   "cell_type": "code",
   "execution_count": null,
   "metadata": {},
   "outputs": [],
   "source": [
    "DATA_DIR = '../examples/HCN1-variants/'\n",
    "FP_METADATA = DATA_DIR + 'metadata.csv'\n",
    "FP_EMB_ESM1b = DATA_DIR + 'esm1b_t33_650M_UR50S-embeddings.npy'\n",
    "FP_EMB_ESM2 = DATA_DIR + 'esm2_t33_650M_UR50D-embeddings.npy'"
   ]
  },
  {
   "cell_type": "markdown",
   "metadata": {},
   "source": [
    "## Load data"
   ]
  },
  {
   "cell_type": "code",
   "execution_count": null,
   "metadata": {},
   "outputs": [],
   "source": [
    "# load metadata and embeddings \n",
    "\n",
    "metadata = pd.read_csv(FP_METADATA)\n",
    "emb_esm1b = np.load(FP_EMB_ESM1b)\n",
    "emb_esm2 = np.load(FP_EMB_ESM2)\n",
    "\n",
    "print(emb_esm1b.shape, emb_esm2.shape)\n",
    "metadata.head()"
   ]
  },
  {
   "cell_type": "code",
   "execution_count": null,
   "metadata": {},
   "outputs": [],
   "source": [
    "# initialize embedding handler\n",
    "emb_handler = EmbeddingHandler(metadata)\n",
    "\n",
    "# add embeddings to the handler\n",
    "emb_handler.add_emb_space(embeddings=emb_esm1b, emb_space_name='esm1b')\n",
    "emb_handler.add_emb_space(embeddings=emb_esm2, emb_space_name='esm2')"
   ]
  },
  {
   "cell_type": "markdown",
   "metadata": {},
   "source": [
    "## Explore embedding space"
   ]
  },
  {
   "cell_type": "code",
   "execution_count": null,
   "metadata": {},
   "outputs": [],
   "source": [
    "emb_handler.plot_emb_hist()"
   ]
  },
  {
   "cell_type": "code",
   "execution_count": null,
   "metadata": {},
   "outputs": [],
   "source": [
    "emb_handler.plot_emb_box(group=\"sample\")"
   ]
  },
  {
   "cell_type": "markdown",
   "metadata": {},
   "source": [
    "### Visualisation of dimensionality reduction x Metadata"
   ]
  },
  {
   "cell_type": "markdown",
   "metadata": {},
   "source": [
    "#### PCA"
   ]
  },
  {
   "cell_type": "code",
   "execution_count": null,
   "metadata": {},
   "outputs": [],
   "source": [
    "emb_handler.visualise_emb_pca(emb_space_name=\"esm1b\", \n",
    "                              colour=\"binary_disorder_prediction\")"
   ]
  },
  {
   "cell_type": "code",
   "execution_count": null,
   "metadata": {},
   "outputs": [],
   "source": [
    "\n",
    "emb_handler.visualise_emb_pca(emb_space_name=\"esm2\", \n",
    "                              colour=\"binary_disorder_prediction\")"
   ]
  },
  {
   "cell_type": "markdown",
   "metadata": {},
   "source": [
    "#### t-SNE"
   ]
  },
  {
   "cell_type": "code",
   "execution_count": null,
   "metadata": {},
   "outputs": [],
   "source": [
    "emb_handler.visualise_emb_tsne(emb_space_name=\"esm1b\", \n",
    "                               colour=\"binary_disorder_prediction\")"
   ]
  },
  {
   "cell_type": "code",
   "execution_count": null,
   "metadata": {},
   "outputs": [],
   "source": [
    "emb_handler.visualise_emb_tsne(emb_space_name=\"esm2\", \n",
    "                               colour=\"binary_disorder_prediction\")"
   ]
  },
  {
   "cell_type": "markdown",
   "metadata": {},
   "source": [
    "### Unsupervised clustering x Metadata"
   ]
  },
  {
   "cell_type": "code",
   "execution_count": null,
   "metadata": {},
   "outputs": [],
   "source": [
    "emb_handler.recalculate_clusters(n_clusters=3, emb_space_name=\"esm1b\")\n",
    "emb_handler.recalculate_clusters(n_clusters=3, emb_space_name=\"esm2\")"
   ]
  },
  {
   "cell_type": "code",
   "execution_count": null,
   "metadata": {},
   "outputs": [],
   "source": [
    "emb_handler.plot_feature_cluster_overlap(\n",
    "    emb_space_name=\"esm1b\", \n",
    "    feature=\"binary_disorder_prediction\"\n",
    ")"
   ]
  },
  {
   "cell_type": "code",
   "execution_count": null,
   "metadata": {},
   "outputs": [],
   "source": [
    "emb_handler.plot_feature_cluster_overlap(\n",
    "    emb_space_name=\"esm2\", \n",
    "    feature=\"binary_disorder_prediction\"\n",
    ")"
   ]
  },
  {
   "cell_type": "markdown",
   "metadata": {},
   "source": [
    "### Pairswise distances between samples"
   ]
  },
  {
   "cell_type": "code",
   "execution_count": null,
   "metadata": {},
   "outputs": [],
   "source": [
    "emb_handler.plot_emb_dis_hist(distance_metric = \"euclidean\")"
   ]
  },
  {
   "cell_type": "code",
   "execution_count": null,
   "metadata": {},
   "outputs": [],
   "source": [
    "fig_esm1b = emb_handler.plot_emb_dis_heatmap(\n",
    "    emb_space_name=\"esm1b\",\n",
    "    distance_metric=\"euclidean\",\n",
    "    order_x=\"binary_disorder_prediction\",\n",
    "    order_y=\"binary_disorder_prediction\",\n",
    ")\n",
    "fig_esm2 = emb_handler.plot_emb_dis_heatmap(\n",
    "    emb_space_name=\"esm2\",\n",
    "    distance_metric=\"euclidean\",\n",
    "    order_x=\"binary_disorder_prediction\",\n",
    "    order_y=\"binary_disorder_prediction\",\n",
    ")\n",
    "fig_esm1b.show(), fig_esm2.show()"
   ]
  },
  {
   "cell_type": "markdown",
   "metadata": {},
   "source": [
    "#### Including meatdata"
   ]
  },
  {
   "cell_type": "code",
   "execution_count": null,
   "metadata": {},
   "outputs": [],
   "source": [
    "emb_handler.plot_emb_dis_dif_dis_per_group(emb_space_name=\"esm1b\",\n",
    "                                      distance_metric=\"cosine\",\n",
    "                                      group=\"binary_disorder_prediction\",\n",
    "                                      plot_type=\"box\"\n",
    "                                      )"
   ]
  },
  {
   "cell_type": "code",
   "execution_count": null,
   "metadata": {},
   "outputs": [],
   "source": [
    "emb_handler.plot_emb_dis_dif_dis_per_group(emb_space_name=\"esm2\",\n",
    "                                      distance_metric=\"cosine\",\n",
    "                                      group=\"binary_disorder_prediction\",\n",
    "                                      plot_type=\"box\"\n",
    "                                      )"
   ]
  },
  {
   "cell_type": "code",
   "execution_count": null,
   "metadata": {},
   "outputs": [],
   "source": [
    "emb_handler.plot_emb_dis_scatter(\n",
    "    emb_space_name_1 = \"esm1b\",\n",
    "    emb_space_name_2 = \"esm2\",\n",
    "    distance_metric = \"euclidean\",\n",
    "    colour_group=\"binary_disorder_prediction\",\n",
    "    colour_value_1 = \"True\"\n",
    ")"
   ]
  },
  {
   "cell_type": "code",
   "execution_count": null,
   "metadata": {},
   "outputs": [],
   "source": [
    "emb_handler.plot_emb_dis_continuous_correlation(emb_space_name=\"esm1b\",\n",
    "                                                distance_metric=\"euclidean\",\n",
    "                                                feature=\"disorder_propensity\")"
   ]
  }
 ],
 "metadata": {
  "kernelspec": {
   "display_name": "jupyter",
   "language": "python",
   "name": "python3"
  },
  "language_info": {
   "codemirror_mode": {
    "name": "ipython",
    "version": 3
   },
   "file_extension": ".py",
   "mimetype": "text/x-python",
   "name": "python",
   "nbconvert_exporter": "python",
   "pygments_lexer": "ipython3",
   "version": "3.8.16"
  }
 },
 "nbformat": 4,
 "nbformat_minor": 2
}
