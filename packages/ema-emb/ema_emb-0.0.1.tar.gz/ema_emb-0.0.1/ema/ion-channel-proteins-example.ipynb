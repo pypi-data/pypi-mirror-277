{
 "cells": [
  {
   "cell_type": "code",
   "execution_count": null,
   "metadata": {},
   "outputs": [],
   "source": [
    "import numpy as np\n",
    "import pandas as pd\n",
    "\n",
    "from ema import EmbeddingHandler"
   ]
  },
  {
   "cell_type": "code",
   "execution_count": null,
   "metadata": {},
   "outputs": [],
   "source": [
    "DATA_DIR = '../examples/ion-channel-proteins/'\n",
    "FP_METADATA = DATA_DIR + 'metadata.csv'\n",
    "FP_EMB_ESM1b = DATA_DIR + 'esm1b_t33_650M_UR50S-embeddings.npy'\n",
    "FP_EMB_ESM2 = DATA_DIR + 'esm2_t33_650M_UR50D-embeddings.npy'\n",
    "FP_EMB_ESM1v = DATA_DIR + 'esm1v_t33_650M_UR90S_1-embeddings.npy'"
   ]
  },
  {
   "cell_type": "code",
   "execution_count": null,
   "metadata": {},
   "outputs": [],
   "source": [
    "# load metadata and embeddings \n",
    "\n",
    "metadata = pd.read_csv(FP_METADATA)\n",
    "emb_esm1b = np.load(FP_EMB_ESM1b)\n",
    "emb_esm2 = np.load(FP_EMB_ESM2)\n",
    "emb_esm1v = np.load(FP_EMB_ESM1v)\n",
    "\n",
    "print(emb_esm1b.shape, emb_esm2.shape)\n",
    "metadata.head()"
   ]
  },
  {
   "cell_type": "code",
   "execution_count": null,
   "metadata": {},
   "outputs": [],
   "source": [
    "# initialize embedding handler\n",
    "emb_handler = EmbeddingHandler(metadata)\n",
    "\n",
    "# add embeddings to the handler\n",
    "emb_handler.add_emb_space(embeddings=emb_esm1b, emb_space_name='esm1b')\n",
    "emb_handler.add_emb_space(embeddings=emb_esm2, emb_space_name='esm2')\n",
    "emb_handler.add_emb_space(embeddings=emb_esm1v, emb_space_name='esm1v')"
   ]
  },
  {
   "cell_type": "markdown",
   "metadata": {},
   "source": [
    "## Unsupervised Clustering x Metadata"
   ]
  },
  {
   "cell_type": "markdown",
   "metadata": {},
   "source": [
    "By default ema computes a number of clusters equal to the mean number of categories in the metadata. This is a good starting point, but you can also specify the number of clusters you want to compute."
   ]
  },
  {
   "cell_type": "code",
   "execution_count": null,
   "metadata": {},
   "outputs": [],
   "source": [
    "# specify a specific number of clusters\n",
    "emb_handler.recalculate_clusters(n_clusters=5, emb_space_name=\"esm1b\")\n",
    "emb_handler.recalculate_clusters(n_clusters=5, emb_space_name=\"esm2\")"
   ]
  },
  {
   "cell_type": "markdown",
   "metadata": {},
   "source": [
    "### Unsupervised Clusters"
   ]
  },
  {
   "cell_type": "code",
   "execution_count": null,
   "metadata": {},
   "outputs": [],
   "source": [
    "emb_handler.plot_feature_cluster_overlap(emb_space_name=\"esm1v\",\n",
    "                                         feature='family')"
   ]
  },
  {
   "cell_type": "markdown",
   "metadata": {},
   "source": [
    "### Overlap of unsupervised clusters between embedding spaces"
   ]
  },
  {
   "cell_type": "code",
   "execution_count": null,
   "metadata": {},
   "outputs": [],
   "source": [
    "emb_handler.plot_feature_cluster_overlap(emb_space_name=\"esm1b\",\n",
    "                                         feature='cluster_esm2')"
   ]
  },
  {
   "cell_type": "code",
   "execution_count": null,
   "metadata": {},
   "outputs": [],
   "source": [
    "emb_handler.plot_feature_cluster_overlap(emb_space_name=\"esm2\",\n",
    "                                         feature='cluster_esm1b')"
   ]
  },
  {
   "cell_type": "markdown",
   "metadata": {},
   "source": [
    "## Pairwise distances"
   ]
  },
  {
   "cell_type": "markdown",
   "metadata": {},
   "source": [
    "### Similarities between ESM1b, ESM1v and ESM2 embeddings"
   ]
  },
  {
   "cell_type": "code",
   "execution_count": null,
   "metadata": {},
   "outputs": [],
   "source": [
    "emb_handler.plot_emb_dis_scatter(\n",
    "    emb_space_name_1='esm1b', \n",
    "    emb_space_name_2='esm2', \n",
    "    distance_metric = 'euclidean',\n",
    ")"
   ]
  },
  {
   "cell_type": "markdown",
   "metadata": {},
   "source": [
    "There is a stronger correlation between the pairwise distances between the embeddings of ESM1b and ESM1v compared to ESM1b and ESM2 for the set of sequencs."
   ]
  },
  {
   "cell_type": "code",
   "execution_count": null,
   "metadata": {},
   "outputs": [],
   "source": [
    "emb_handler.plot_emb_dis_scatter(\n",
    "    emb_space_name_1='esm1b', \n",
    "    emb_space_name_2='esm1v', \n",
    "    distance_metric = 'euclidean',\n",
    ")"
   ]
  },
  {
   "cell_type": "markdown",
   "metadata": {},
   "source": [
    "using the normalised Euclidean distance to account for the different scales of the embeddings"
   ]
  },
  {
   "cell_type": "code",
   "execution_count": null,
   "metadata": {},
   "outputs": [],
   "source": [
    "emb_handler.plot_emb_dis_scatter(\n",
    "    emb_space_name_1='esm1b', \n",
    "    emb_space_name_2='esm1v', \n",
    "    distance_metric = 'euclidean_normalised',\n",
    ")"
   ]
  },
  {
   "cell_type": "code",
   "execution_count": null,
   "metadata": {},
   "outputs": [],
   "source": []
  },
  {
   "cell_type": "markdown",
   "metadata": {},
   "source": [
    "### Unsupervised clusters"
   ]
  },
  {
   "cell_type": "markdown",
   "metadata": {},
   "source": [
    "We can inspect how close the initial clusters from one embedding space are in the ther embedding spaces."
   ]
  },
  {
   "cell_type": "code",
   "execution_count": null,
   "metadata": {},
   "outputs": [],
   "source": [
    "emb_handler.plot_emb_dis_scatter(\n",
    "    emb_space_name_1='esm1b', \n",
    "    emb_space_name_2='esm2', \n",
    "    distance_metric = 'euclidean',\n",
    "    colour_group=\"cluster_esm1b\",\n",
    "    colour_value_1=\"2\",\n",
    ")"
   ]
  },
  {
   "cell_type": "code",
   "execution_count": null,
   "metadata": {},
   "outputs": [],
   "source": [
    "emb_handler.plot_emb_dis_scatter(\n",
    "    emb_space_name_1='esm1b', \n",
    "    emb_space_name_2='esm1v', \n",
    "    distance_metric = 'euclidean',\n",
    "    colour_group=\"cluster_esm1b\",\n",
    "    colour_value_1=\"2\",\n",
    ")"
   ]
  },
  {
   "cell_type": "code",
   "execution_count": null,
   "metadata": {},
   "outputs": [],
   "source": [
    "emb_handler.plot_emb_dis_scatter(\n",
    "    emb_space_name_1='esm1b', \n",
    "    emb_space_name_2='esm2', \n",
    "    distance_metric = 'euclidean',\n",
    "    colour_group=\"cluster_esm1b\",\n",
    "    colour_value_1=\"2\",\n",
    "    colour_value_2=\"5\"\n",
    ")"
   ]
  },
  {
   "cell_type": "code",
   "execution_count": null,
   "metadata": {},
   "outputs": [],
   "source": [
    "emb_handler.plot_emb_dis_scatter(\n",
    "    emb_space_name_1='esm1b', \n",
    "    emb_space_name_2='esm1v', \n",
    "    distance_metric = 'euclidean',\n",
    "    colour_group=\"cluster_esm1b\",\n",
    "    colour_value_1=\"2\",\n",
    "    colour_value_2=\"5\"\n",
    ")"
   ]
  },
  {
   "cell_type": "markdown",
   "metadata": {},
   "source": [
    "## Visualisation of dimensionality reduction x Unsupervised Clustering"
   ]
  },
  {
   "cell_type": "markdown",
   "metadata": {},
   "source": [
    "### PCA"
   ]
  },
  {
   "cell_type": "markdown",
   "metadata": {},
   "source": [
    "#### ESM1b coloured by unsupervised clusters in ESM1b"
   ]
  },
  {
   "cell_type": "code",
   "execution_count": null,
   "metadata": {},
   "outputs": [],
   "source": [
    "emb_handler.visualise_emb_pca(emb_space_name=\"esm1b\", \n",
    "                              colour=\"cluster_esm1b\")"
   ]
  },
  {
   "cell_type": "markdown",
   "metadata": {},
   "source": [
    "#### ESM1v coloured by unsupervised clusters in ESM1b"
   ]
  },
  {
   "cell_type": "code",
   "execution_count": null,
   "metadata": {},
   "outputs": [],
   "source": [
    "emb_handler.visualise_emb_pca(emb_space_name=\"esm1v\", \n",
    "                              colour=\"cluster_esm1b\")"
   ]
  },
  {
   "cell_type": "markdown",
   "metadata": {},
   "source": [
    "#### ESM2 coloured by unsupervised clusters in ESM1b"
   ]
  },
  {
   "cell_type": "code",
   "execution_count": null,
   "metadata": {},
   "outputs": [],
   "source": [
    "emb_handler.visualise_emb_pca(emb_space_name=\"esm2\",\n",
    "                              colour=\"cluster_esm1b\")"
   ]
  },
  {
   "cell_type": "markdown",
   "metadata": {},
   "source": [
    "## Adding Metadata"
   ]
  },
  {
   "cell_type": "markdown",
   "metadata": {},
   "source": [
    "### Unsupervised Clustering x Metadata"
   ]
  },
  {
   "cell_type": "markdown",
   "metadata": {},
   "source": [
    "We can check whether the unsupervised clusters are related to the provided metadata."
   ]
  },
  {
   "cell_type": "code",
   "execution_count": null,
   "metadata": {},
   "outputs": [],
   "source": [
    "emb_handler.plot_feature_cluster_overlap(emb_space_name=\"esm1b\",\n",
    "                                         feature='family')"
   ]
  },
  {
   "cell_type": "code",
   "execution_count": null,
   "metadata": {},
   "outputs": [],
   "source": [
    "emb_handler.plot_feature_cluster_overlap(emb_space_name=\"esm1v\",\n",
    "                                         feature='family')"
   ]
  },
  {
   "cell_type": "code",
   "execution_count": null,
   "metadata": {},
   "outputs": [],
   "source": [
    "emb_handler.plot_feature_cluster_overlap(emb_space_name=\"esm2\",\n",
    "                                         feature='family')"
   ]
  },
  {
   "cell_type": "markdown",
   "metadata": {},
   "source": [
    "### Pairwise distance x Metadata"
   ]
  },
  {
   "cell_type": "code",
   "execution_count": null,
   "metadata": {},
   "outputs": [],
   "source": [
    "emb_handler.plot_emb_dis_dif_dis_per_group(emb_space_name=\"esm1b\",\n",
    "                                           distance_metric='euclidean',\n",
    "                                           group=\"family\")"
   ]
  },
  {
   "cell_type": "code",
   "execution_count": null,
   "metadata": {},
   "outputs": [],
   "source": [
    "emb_handler.plot_emb_dis_dif_dis_per_group(emb_space_name=\"esm2\",\n",
    "                                           distance_metric='euclidean',\n",
    "                                           group=\"family\")"
   ]
  },
  {
   "cell_type": "code",
   "execution_count": null,
   "metadata": {},
   "outputs": [],
   "source": [
    "emb_handler.plot_emb_dis_scatter(\n",
    "    emb_space_name_1='esm1b', \n",
    "    emb_space_name_2='esm1v', \n",
    "    distance_metric = 'euclidean',\n",
    "    colour_group=\"family\",\n",
    "    colour_value_1=\"Kir\",\n",
    "    group_other=True\n",
    ")"
   ]
  },
  {
   "cell_type": "code",
   "execution_count": null,
   "metadata": {},
   "outputs": [],
   "source": [
    "emb_handler.plot_emb_dis_scatter(\n",
    "    emb_space_name_1='esm1b', \n",
    "    emb_space_name_2='esm2', \n",
    "    distance_metric = 'euclidean',\n",
    "    colour_group=\"family\",\n",
    "    colour_value_1=\"CNG\",\n",
    "    colour_value_2=\"HCN\"\n",
    ")"
   ]
  },
  {
   "cell_type": "code",
   "execution_count": null,
   "metadata": {},
   "outputs": [],
   "source": []
  },
  {
   "cell_type": "code",
   "execution_count": null,
   "metadata": {},
   "outputs": [],
   "source": []
  }
 ],
 "metadata": {
  "kernelspec": {
   "display_name": "jupyter",
   "language": "python",
   "name": "python3"
  },
  "language_info": {
   "codemirror_mode": {
    "name": "ipython",
    "version": 3
   },
   "file_extension": ".py",
   "mimetype": "text/x-python",
   "name": "python",
   "nbconvert_exporter": "python",
   "pygments_lexer": "ipython3",
   "version": "3.8.16"
  }
 },
 "nbformat": 4,
 "nbformat_minor": 2
}
