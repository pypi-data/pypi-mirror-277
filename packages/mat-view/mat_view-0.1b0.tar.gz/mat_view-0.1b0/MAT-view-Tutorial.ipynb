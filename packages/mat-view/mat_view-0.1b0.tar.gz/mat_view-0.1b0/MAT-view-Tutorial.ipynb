{
 "cells": [
  {
   "cell_type": "markdown",
   "metadata": {},
   "source": [
    "# MAT-view: Visualization Tools for Multiple Aspect Trajectory Data Mining \\[MAT-Tools Framework\\]\n",
    "\n",
    "Sample Code in python notebook to use mat-view as a **web application**.\n",
    "\n",
    "The present package offers a tool, to support the user in the task of visualizing multiple aspect trajectories and movelets. It integrates into a unique framework for multiple aspects trajectories and in general for multidimensional sequence data mining methods.\n",
    "\n",
    "Created on Apr, 2024\n",
    "Copyright (C) 2024, License GPL Version 3 or superior (see LICENSE file)"
   ]
  },
  {
   "cell_type": "code",
   "execution_count": 1,
   "metadata": {
    "tags": []
   },
   "outputs": [
    {
     "name": "stdout",
     "output_type": "stream",
     "text": [
      "\u001b[31mERROR: Could not find a version that satisfies the requirement mat-view (from versions: none)\u001b[0m\u001b[31m\n",
      "\u001b[0m\u001b[31mERROR: No matching distribution found for mat-view\u001b[0m\u001b[31m\n",
      "\u001b[0m"
     ]
    }
   ],
   "source": [
    "!pip install mat-view"
   ]
  },
  {
   "cell_type": "markdown",
   "metadata": {
    "tags": []
   },
   "source": [
    "### 1. Running the Web-app\n"
   ]
  },
  {
   "cell_type": "code",
   "execution_count": 1,
   "metadata": {},
   "outputs": [],
   "source": [
    "from matview.web.scripting.component._base import BaseMethod\n",
    "\n",
    "c = BaseMethod.providedMethods()"
   ]
  },
  {
   "cell_type": "code",
   "execution_count": 2,
   "metadata": {},
   "outputs": [],
   "source": [
    "m = c['hiper'](1)"
   ]
  },
  {
   "cell_type": "code",
   "execution_count": 6,
   "metadata": {},
   "outputs": [
    {
     "data": {
      "text/plain": [
       "''"
      ]
     },
     "execution_count": 6,
     "metadata": {},
     "output_type": "execute_result"
    }
   ],
   "source": [
    "import os\n",
    "os.path.basename('/home/user/experiment/')"
   ]
  },
  {
   "cell_type": "code",
   "execution_count": 18,
   "metadata": {},
   "outputs": [
    {
     "data": {
      "text/plain": [
       "'https://github.com/mat-analysis/datasets/tree/main/mat/FoursquareNYC/'"
      ]
     },
     "execution_count": 18,
     "metadata": {},
     "output_type": "execute_result"
    }
   ],
   "source": [
    "'https://github.com/{}/{}/tree/main/{}/{}/'.format('mat-analysis', 'datasets', 'mat', 'FoursquareNYC')"
   ]
  },
  {
   "cell_type": "code",
   "execution_count": 3,
   "metadata": {},
   "outputs": [
    {
     "name": "stdout",
     "output_type": "stream",
     "text": [
      "{'k': 'python3', 'nt': 50, 'GB': 5, 'TC': '7d'}\n"
     ]
    },
    {
     "ename": "AttributeError",
     "evalue": "'list' object has no attribute 'split'",
     "output_type": "error",
     "traceback": [
      "\u001b[0;31m---------------------------------------------------------------------------\u001b[0m",
      "\u001b[0;31mAttributeError\u001b[0m                            Traceback (most recent call last)",
      "Input \u001b[0;32mIn [3]\u001b[0m, in \u001b[0;36m<cell line: 16>\u001b[0;34m()\u001b[0m\n\u001b[1;32m     13\u001b[0m k \u001b[38;5;241m=\u001b[39m \u001b[38;5;241m5\u001b[39m \n\u001b[1;32m     14\u001b[0m pyname \u001b[38;5;241m=\u001b[39m \u001b[38;5;124m'\u001b[39m\u001b[38;5;124mpython3\u001b[39m\u001b[38;5;124m'\u001b[39m\n\u001b[0;32m---> 16\u001b[0m x \u001b[38;5;241m=\u001b[39m \u001b[43mgen_env\u001b[49m\u001b[43m(\u001b[49m\u001b[43m[\u001b[49m\u001b[43mm\u001b[49m\u001b[43m,\u001b[49m\u001b[43m \u001b[49m\u001b[43mm\u001b[49m\u001b[43m]\u001b[49m\u001b[43m,\u001b[49m\u001b[43m \u001b[49m\u001b[43mbasedir\u001b[49m\u001b[43m,\u001b[49m\u001b[43m \u001b[49m\u001b[43mdatapath\u001b[49m\u001b[43m,\u001b[49m\u001b[43m \u001b[49m\u001b[43mfolderpref\u001b[49m\u001b[43m,\u001b[49m\u001b[43m \u001b[49m\u001b[43misDs\u001b[49m\u001b[43m,\u001b[49m\u001b[43m \u001b[49m\u001b[43misTC\u001b[49m\u001b[43m,\u001b[49m\u001b[43m \u001b[49m\u001b[43mTC\u001b[49m\u001b[43m,\u001b[49m\u001b[43m \u001b[49m\u001b[43mTCD\u001b[49m\u001b[43m,\u001b[49m\u001b[43m \u001b[49m\u001b[43mdatasets\u001b[49m\u001b[43m,\u001b[49m\u001b[43m \u001b[49m\u001b[43mnt\u001b[49m\u001b[43m,\u001b[49m\u001b[43m \u001b[49m\u001b[43mgb\u001b[49m\u001b[43m,\u001b[49m\u001b[43m \u001b[49m\u001b[43mk\u001b[49m\u001b[43m,\u001b[49m\u001b[43m \u001b[49m\u001b[43mpyname\u001b[49m\u001b[43m)\u001b[49m\n\u001b[1;32m     17\u001b[0m x\n",
      "File \u001b[0;32m~/workdir/programs/mat-view-pkg/matview/web/scripting/generator.py:29\u001b[0m, in \u001b[0;36mgen_env\u001b[0;34m(generators, basedir, datapath, folderpref, isDs, isTC, TC, TCD, datasets, repository_ds, nt, gb, k, pyname)\u001b[0m\n\u001b[1;32m     24\u001b[0m params\u001b[38;5;241m.\u001b[39mupdate({\n\u001b[1;32m     25\u001b[0m     \u001b[38;5;124m'\u001b[39m\u001b[38;5;124mpyname\u001b[39m\u001b[38;5;124m'\u001b[39m: pyname,     \n\u001b[1;32m     26\u001b[0m })\n\u001b[1;32m     28\u001b[0m \u001b[38;5;66;03m# Dataset list:\u001b[39;00m\n\u001b[0;32m---> 29\u001b[0m datasets \u001b[38;5;241m=\u001b[39m repository_ds \u001b[38;5;241m+\u001b[39m \u001b[43mdatasets\u001b[49m\u001b[38;5;241;43m.\u001b[39;49m\u001b[43msplit\u001b[49m(\u001b[38;5;124m'\u001b[39m\u001b[38;5;124m,\u001b[39m\u001b[38;5;124m'\u001b[39m)\n\u001b[1;32m     31\u001b[0m \u001b[38;5;66;03m# Create Env:\u001b[39;00m\n\u001b[1;32m     32\u001b[0m envdir \u001b[38;5;241m=\u001b[39m tempfile\u001b[38;5;241m.\u001b[39mTemporaryDirectory()\n",
      "\u001b[0;31mAttributeError\u001b[0m: 'list' object has no attribute 'split'"
     ]
    }
   ],
   "source": [
    "from matview.web.scripting.generator import gen_env\n",
    "\n",
    "basedir = '/home/user/experiment'\n",
    "datapath = None\n",
    "folderpref = 'exp01'\n",
    "isDs = False\n",
    "isTC = True\n",
    "TC = 7 \n",
    "TCD = 'd'\n",
    "datasets = ['mat.Gowalla'] \n",
    "nt = 4 \n",
    "gb = 50 \n",
    "k = 5 \n",
    "pyname = 'python3'\n",
    "\n",
    "x = gen_env([m, m], basedir, datapath, folderpref, isDs, isTC, TC, TCD, datasets, nt, gb, k, pyname)\n",
    "x"
   ]
  },
  {
   "cell_type": "code",
   "execution_count": 17,
   "metadata": {},
   "outputs": [
    {
     "name": "stdout",
     "output_type": "stream",
     "text": [
      "  % Total    % Received % Xferd  Average Speed   Time    Time     Time  Current\n",
      "                                 Dload  Upload   Total   Spent    Left  Speed\n",
      "100 27.8M  100 27.8M    0     0   9.8M      0  0:00:02  0:00:02 --:--:--  9.8M\n"
     ]
    }
   ],
   "source": [
    "#https://github.com/ttportela/automatize/blob/main/jarfiles/\n",
    "!curl -o teste/HIPERMovelets.jar https://raw.githubusercontent.com/ttportela/automatize/main/jarfiles/HIPERMovelets.jar"
   ]
  },
  {
   "cell_type": "markdown",
   "metadata": {},
   "source": [
    "xxx"
   ]
  },
  {
   "cell_type": "markdown",
   "metadata": {
    "tags": []
   },
   "source": [
    "### 2. Using separated functions\n"
   ]
  },
  {
   "cell_type": "code",
   "execution_count": 13,
   "metadata": {},
   "outputs": [
    {
     "data": {
      "text/plain": [
       "'RawTraj_allfeat_hp.json'"
      ]
     },
     "execution_count": 13,
     "metadata": {},
     "output_type": "execute_result"
    }
   ],
   "source": [
    "import os\n",
    "f = 'raw/descriptors/RawTraj_allfeat_hp.json'\n",
    "descName = os.path.basename(f) #.split('.')[0]\n",
    "descName"
   ]
  },
  {
   "cell_type": "code",
   "execution_count": 1,
   "metadata": {},
   "outputs": [
    {
     "data": {
      "application/vnd.jupyter.widget-view+json": {
       "model_id": "74bed231405e4b1eb708b8b1c53696c4",
       "version_major": 2,
       "version_minor": 0
      },
      "text/plain": [
       "Reading Movelets:   0%|          | 0/161 [00:00<?, ?it/s]"
      ]
     },
     "metadata": {},
     "output_type": "display_data"
    }
   ],
   "source": [
    "f = '/Users/tarlisportela/workdir/temp/moveletsOnTrain.json'\n",
    "f = open(f, \"r\")\n",
    "#f = f.read()\n",
    "from matmodel.util.parsers import df2trajectory, json2movelet\n",
    "M = json2movelet(f)"
   ]
  },
  {
   "cell_type": "code",
   "execution_count": 2,
   "metadata": {},
   "outputs": [
    {
     "data": {
      "text/plain": [
       "[1. space (space2d)]"
      ]
     },
     "execution_count": 2,
     "metadata": {},
     "output_type": "execute_result"
    }
   ],
   "source": [
    "M[0].attributes"
   ]
  },
  {
   "cell_type": "code",
   "execution_count": 3,
   "metadata": {},
   "outputs": [
    {
     "data": {
      "text/plain": [
       "(𝓜𐄁160❲53.54%❳ 𝘱0⟨(30.202231, -97.667128), Thursday⟩➜𝘱1⟨(30.267008, -97.742885), Thursday⟩,\n",
       " 𝘛𐄁39493 𝘱0⟨(30.202231, -97.667128), Thursday⟩➜𝘱1⟨(30.267008, -97.742885), Thursday⟩,\n",
       " 𝓈⟨1,1⟩{1}𐄁𝘛𐄁39493 𝘱1⟨Thursday⟩)"
      ]
     },
     "execution_count": 3,
     "metadata": {},
     "output_type": "execute_result"
    }
   ],
   "source": [
    "i = 156\n",
    "M[i].trajectory.points = M[i].points\n",
    "\n",
    "M[i], M[i].trajectory, M[i].trajectory.subtrajectory(1, 1, [1])"
   ]
  },
  {
   "cell_type": "code",
   "execution_count": 4,
   "metadata": {
    "collapsed": true,
    "jupyter": {
     "outputs_hidden": true
    },
    "tags": []
   },
   "outputs": [
    {
     "data": {
      "image/png": "[encoded data removed]",
      "text/plain": [
       "<Figure size 1440x360 with 2 Axes>"
      ]
     },
     "execution_count": 4,
     "metadata": {},
     "output_type": "execute_result"
    },
    {
     "data": {
      "image/png": "[encoded data removed]",
      "text/plain": [
       "<Figure size 1440x360 with 2 Axes>"
      ]
     },
     "metadata": {
      "needs_background": "light"
     },
     "output_type": "display_data"
    }
   ],
   "source": [
    "from matview.view.movelet.heatmap import render\n",
    "\n",
    "render(M)"
   ]
  },
  {
   "cell_type": "code",
   "execution_count": 11,
   "metadata": {},
   "outputs": [],
   "source": [
    "from matview.plot.critical_difference import render"
   ]
  },
  {
   "cell_type": "code",
   "execution_count": 14,
   "metadata": {},
   "outputs": [
    {
     "data": {
      "text/plain": [
       "<function matview.plot.critical_difference.render(df, column=None, methods_order=None)>"
      ]
     },
     "execution_count": 14,
     "metadata": {},
     "output_type": "execute_result"
    }
   ],
   "source": [
    "import importlib\n",
    "getattr(importlib.import_module('matview.plot.critical_difference'), 'render') \n"
   ]
  },
  {
   "cell_type": "markdown",
   "metadata": {},
   "source": [
    "\\# By Tarlis Portela (2023)"
   ]
  }
 ],
 "metadata": {
  "kernelspec": {
   "display_name": "Python 3 (ipykernel)",
   "language": "python",
   "name": "python3"
  },
  "language_info": {
   "codemirror_mode": {
    "name": "ipython",
    "version": 3
   },
   "file_extension": ".py",
   "mimetype": "text/x-python",
   "name": "python",
   "nbconvert_exporter": "python",
   "pygments_lexer": "ipython3",
   "version": "3.9.13"
  }
 },
 "nbformat": 4,
 "nbformat_minor": 4
}
