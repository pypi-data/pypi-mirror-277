{
 "cells": [
  {
   "cell_type": "markdown",
   "metadata": {},
   "source": [
    "# Example - Customize the μs-ALEX histogram\n",
    "\n",
    "*This notebook is part of smFRET burst analysis software [FRETBursts](http://opensmfs.github.io/FRETBursts/).*"
   ]
  },
  {
   "cell_type": "markdown",
   "metadata": {},
   "source": [
    "> In this notebook shows how to plot different styles of μs-ALEX histograms and $E$ and $S$ marginal distributions.\n",
    "> For a complete tutorial on burst analysis see \n",
    "> [FRETBursts - us-ALEX smFRET burst analysis](FRETBursts - us-ALEX smFRET burst analysis.ipynb)."
   ]
  },
  {
   "cell_type": "code",
   "execution_count": null,
   "metadata": {},
   "outputs": [],
   "source": [
    "from fretbursts import *"
   ]
  },
  {
   "cell_type": "code",
   "execution_count": null,
   "metadata": {},
   "outputs": [],
   "source": [
    "sns = init_notebook(apionly=True)\n",
    "print('seaborn version: ', sns.__version__)"
   ]
  },
  {
   "cell_type": "code",
   "execution_count": null,
   "metadata": {},
   "outputs": [],
   "source": [
    "# Tweak here matplotlib style\n",
    "import matplotlib as mpl\n",
    "mpl.rcParams['font.sans-serif'].insert(0, 'Arial')\n",
    "mpl.rcParams['font.size'] = 12\n",
    "# %config InlineBackend.figure_format = 'retina'"
   ]
  },
  {
   "cell_type": "markdown",
   "metadata": {},
   "source": [
    "# Get and process data"
   ]
  },
  {
   "cell_type": "code",
   "execution_count": null,
   "metadata": {},
   "outputs": [],
   "source": [
    "url = 'http://files.figshare.com/2182601/0023uLRpitc_NTP_20dT_0.5GndCl.hdf5'\n",
    "download_file(url, save_dir='./data')\n",
    "full_fname = \"./data/0023uLRpitc_NTP_20dT_0.5GndCl.hdf5\"\n",
    "\n",
    "d = loader.photon_hdf5(full_fname)\n",
    "loader.alex_apply_period(d)\n",
    "d.calc_bg(bg.exp_fit, time_s=1000, tail_min_us=(800, 4000, 1500, 1000, 3000))\n",
    "d.burst_search(L=10, m=10, F=6)\n",
    "ds = d.select_bursts(select_bursts.size, add_naa=True, th1=30)"
   ]
  },
  {
   "cell_type": "markdown",
   "metadata": {},
   "source": [
    "# ALEX joint plot\n",
    "\n",
    "The `alex_jointplot` function allows plotting an ALEX histogram with marginals.\n",
    "This is how it looks by default:"
   ]
  },
  {
   "cell_type": "code",
   "execution_count": null,
   "metadata": {},
   "outputs": [],
   "source": [
    "alex_jointplot(ds);"
   ]
  },
  {
   "cell_type": "markdown",
   "metadata": {},
   "source": [
    "The inner plot in an hexbin plot, basically a 2D histogram with hexagonal bins.\n",
    "This kind of histograms resembles a scatter plot when sample size is small,\n",
    "and is immune from grid artifacts typical of rectangular grids.\n",
    "For more info for hexbin see [this document](doi.org/10.1371/journal.pone.0160716.s004).\n",
    "\n",
    "The marginal plots are histograms with an overlay KDE plot. \n",
    "The same FRETBursts function that plots standalone *E* and *S* histograms \n",
    "is used here to plot the marginals in the joint plot.\n",
    "\n",
    "Below I show how to customize appearance and type of this plot."
   ]
  },
  {
   "cell_type": "markdown",
   "metadata": {},
   "source": [
    "## Changing colors"
   ]
  },
  {
   "cell_type": "markdown",
   "metadata": {},
   "source": [
    "By default the colormap range is computed on the range S=[0.2, 0.8],\n",
    "so that the FRET populations (S ~ 0.5) have more contrast.\n",
    "\n",
    "To normalize the colormap to the whole data use the `vmax` argument:"
   ]
  },
  {
   "cell_type": "code",
   "execution_count": null,
   "metadata": {},
   "outputs": [],
   "source": [
    "alex_jointplot(ds, vmax_fret=False);"
   ]
  },
  {
   "cell_type": "code",
   "execution_count": null,
   "metadata": {},
   "outputs": [],
   "source": [
    "alex_jointplot(ds, vmax_fret=False, marginal_color=8);"
   ]
  },
  {
   "cell_type": "code",
   "execution_count": null,
   "metadata": {},
   "outputs": [],
   "source": [
    "alex_jointplot(ds, vmax_fret=False, marginal_color=7);"
   ]
  },
  {
   "cell_type": "code",
   "execution_count": null,
   "metadata": {},
   "outputs": [],
   "source": [
    "alex_jointplot(ds, kind='kde');"
   ]
  },
  {
   "cell_type": "markdown",
   "metadata": {},
   "source": [
    "Or you can manually choose the max value mapped by the colormap (`vmax`):"
   ]
  },
  {
   "cell_type": "code",
   "execution_count": null,
   "metadata": {},
   "outputs": [],
   "source": [
    "alex_jointplot(ds, vmax=40);"
   ]
  },
  {
   "cell_type": "markdown",
   "metadata": {},
   "source": [
    "Changing the colormap will affect both inner and marginal plots:"
   ]
  },
  {
   "cell_type": "code",
   "execution_count": null,
   "metadata": {},
   "outputs": [],
   "source": [
    "alex_jointplot(ds, cmap='plasma');"
   ]
  },
  {
   "cell_type": "markdown",
   "metadata": {},
   "source": [
    "To pick a different color from the colormap for the marginal histograms use `histcolor_id`:"
   ]
  },
  {
   "cell_type": "code",
   "execution_count": null,
   "metadata": {},
   "outputs": [],
   "source": [
    "alex_jointplot(ds, cmap='plasma', marginal_color=83);"
   ]
  },
  {
   "cell_type": "markdown",
   "metadata": {},
   "source": [
    "## Kinds of joint-plots\n",
    "\n",
    "The inner plot can be changed to a scatter plot or a [KDE plot](https://seaborn.pydata.org/generated/seaborn.kdeplot.html):"
   ]
  },
  {
   "cell_type": "code",
   "execution_count": null,
   "metadata": {},
   "outputs": [],
   "source": [
    "alex_jointplot(ds, kind='scatter');"
   ]
  },
  {
   "cell_type": "code",
   "execution_count": null,
   "metadata": {},
   "outputs": [],
   "source": [
    "alex_jointplot(ds, kind='kde');"
   ]
  },
  {
   "cell_type": "code",
   "execution_count": null,
   "metadata": {},
   "outputs": [],
   "source": [
    "dsf = ds.select_bursts(select_bursts.naa, th1=40)\n",
    "alex_jointplot(dsf, kind='kde',\n",
    "               joint_kws={'fill': True, 'levels': 12, 'bw': 0.04});"
   ]
  },
  {
   "cell_type": "markdown",
   "metadata": {},
   "source": [
    "## No marginals\n",
    "\n",
    "Finally, we can plot only the hexbin 2D histogram without marginals:"
   ]
  },
  {
   "cell_type": "code",
   "execution_count": null,
   "metadata": {},
   "outputs": [],
   "source": [
    "plt.figure(figsize=(5,5))\n",
    "hexbin_alex(ds)"
   ]
  },
  {
   "cell_type": "markdown",
   "metadata": {},
   "source": [
    "## Figure layout"
   ]
  },
  {
   "cell_type": "markdown",
   "metadata": {},
   "source": [
    "You can get an handle of the different axes in the figure for layout customization:"
   ]
  },
  {
   "cell_type": "code",
   "execution_count": null,
   "metadata": {},
   "outputs": [],
   "source": [
    "g = alex_jointplot(ds)\n",
    "g.axes[1].grid(False)\n",
    "g.axes[2].grid(False)\n",
    "g.axes[0].set_xlim(-0.1, 1.1)\n",
    "g.axes[0].set_ylim(-0.1, 1.1)"
   ]
  },
  {
   "cell_type": "markdown",
   "metadata": {},
   "source": [
    "`alex_jointplot` returns `g` which is a matplotlib figure. The different axes can be accesed through the list inside of `g.axes`. `g.axes[0]` is the central joint plot, `g.axes[1]` is the marginal histogram of the x-axis, and `g.axes[2]` is the marginal histogram of the y-axis."
   ]
  },
  {
   "cell_type": "code",
   "execution_count": null,
   "metadata": {},
   "outputs": [],
   "source": [
    "g = alex_jointplot(ds)\n",
    "g.axes[1].grid(False)\n",
    "g.axes[2].grid(False)\n",
    "g.axes[0].set_xlim(-0.19, 1.19)\n",
    "g.axes[0].set_ylim(-0.19, 1.19)\n",
    "plt.subplots_adjust(wspace=0, hspace=0)\n",
    "g.axes[1].spines['bottom'].set_visible(True)\n",
    "g.axes[1].spines['left'].set_visible(True)\n",
    "g.axes[2].tick_params(reset=True, bottom=True, top=False, right=False, labelleft=False)\n",
    "g.axes[1].tick_params(reset=True, left=True, top=False, right=False, labelbottom=False)"
   ]
  },
  {
   "cell_type": "code",
   "execution_count": null,
   "metadata": {},
   "outputs": [],
   "source": [
    "g = alex_jointplot(ds)\n",
    "g.axes[1].grid(False)\n",
    "g.axes[2].grid(False)\n",
    "g.axes[0].set_xlim(-0.19, 1.19)\n",
    "g.axes[0].set_ylim(-0.19, 1.19)\n",
    "plt.subplots_adjust(wspace=0, hspace=0)\n",
    "g.axes[2].tick_params(reset=True, bottom=True, top=False, right=False, labelleft=False)\n",
    "g.axes[1].tick_params(reset=True, left=True, top=False, right=False, labelbottom=False)"
   ]
  },
  {
   "cell_type": "code",
   "execution_count": null,
   "metadata": {},
   "outputs": [],
   "source": [
    "g = alex_jointplot(ds)\n",
    "g.axes[1].grid(False, axis='x')\n",
    "g.axes[1].grid(False, axis='y')\n",
    "g.axes[0].set_xlim(-0.19, 1.19)\n",
    "g.axes[0].set_ylim(-0.19, 1.19)\n",
    "plt.subplots_adjust(wspace=0, hspace=0)"
   ]
  },
  {
   "cell_type": "markdown",
   "metadata": {},
   "source": [
    "## Arguments of inner plots\n",
    "\n",
    "Additional arguments can be passed to the inner or marginal plots passing \n",
    "a dictionary to `joint_kws` and `marginal_kws` respectively.\n",
    "\n",
    "The marginal plots are created by [`hist_burst_data`](http://fretbursts.readthedocs.io/en/latest/plots.html?highlight=hist_burst_data#fretbursts.burst_plot.hist_burst_data) \n",
    "which is the same function used to plot standalone *E* and *S* histograms\n",
    "in FRETBursts. \n",
    "\n",
    "For example, we can remove the KDE overlay like this:"
   ]
  },
  {
   "cell_type": "code",
   "execution_count": null,
   "metadata": {},
   "outputs": [],
   "source": [
    "alex_jointplot(ds, marginal_kws={'show_kde': False});"
   ]
  },
  {
   "cell_type": "markdown",
   "metadata": {},
   "source": [
    "## Interactive plot"
   ]
  },
  {
   "cell_type": "code",
   "execution_count": null,
   "metadata": {},
   "outputs": [],
   "source": [
    "from ipywidgets import widgets, interact, interactive, fixed\n",
    "from IPython.display import display, display_png, display_svg, clear_output\n",
    "from IPython.core.pylabtools import print_figure"
   ]
  },
  {
   "cell_type": "code",
   "execution_count": null,
   "metadata": {},
   "outputs": [],
   "source": [
    "cmaps = ['viridis', 'plasma', 'inferno', 'magma',\n",
    "         'afmhot', 'Blues', 'BuGn', 'BuPu', 'GnBu', 'YlGnBu',\n",
    "         'coolwarm', 'RdYlBu', 'RdYlGn', 'Spectral',]# 'icefire']  uncomment if using seaborn 0.8"
   ]
  },
  {
   "cell_type": "code",
   "execution_count": null,
   "metadata": {},
   "outputs": [],
   "source": [
    "@interact(overlay = widgets.RadioButtons(options=['fit model', 'KDE'], value='KDE'),\n",
    "          binwidth = widgets.FloatText(value=0.03, min=0.01, max=1),\n",
    "          bandwidth = widgets.FloatText(value=0.03, min=0.01, max=1),\n",
    "          gridsize = (10, 100),\n",
    "          min_size=(10, 500, 5),\n",
    "          cmap=widgets.Dropdown(value='Spectral', options=cmaps),\n",
    "          reverse_cmap = True,\n",
    "          vmax_fret = True,\n",
    "          )\n",
    "def plot_(min_size=50, overlay='KDE', binwidth=0.03, bandwidth=0.03, \n",
    "          gridsize=50, cmap='Spectral', reverse_cmap=False, \n",
    "          vmax_fret=True):\n",
    "    dx = d.select_bursts(select_bursts.size, add_naa=True, th1=min_size)\n",
    "    bext.bursts_fitter(dx, 'E', binwidth=binwidth, bandwidth=bandwidth, \n",
    "                       model=mfit.factory_three_gaussians())\n",
    "    bext.bursts_fitter(dx, 'S', binwidth=binwidth, bandwidth=bandwidth, \n",
    "                       model=mfit.factory_two_gaussians())    \n",
    "    \n",
    "    if reverse_cmap: cmap += '_r'\n",
    "\n",
    "    if binwidth < 0.01: binwidth = 0.01\n",
    "    if bandwidth < 0.01: bandwidth = 0.01\n",
    "    if overlay == 'fit model':\n",
    "        marginal_kws = dict(binwidth=binwidth, show_model=True, pdf=True, \n",
    "                            show_kde=False)\n",
    "    else:\n",
    "        marginal_kws = dict(binwidth=binwidth, show_kde=True, \n",
    "                            bandwidth=bandwidth)\n",
    "    alex_jointplot(dx, cmap=cmap, gridsize=gridsize, vmax_fret=vmax_fret, \n",
    "                   marginal_kws=marginal_kws,)\n",
    "    \n",
    "    fig = gcf()\n",
    "    plt.close()\n",
    "    display(fig)"
   ]
  }
 ],
 "metadata": {
  "kernelspec": {
   "display_name": "Python 3 (ipykernel)",
   "language": "python",
   "name": "python3"
  },
  "language_info": {
   "codemirror_mode": {
    "name": "ipython",
    "version": 3
   },
   "file_extension": ".py",
   "mimetype": "text/x-python",
   "name": "python",
   "nbconvert_exporter": "python",
   "pygments_lexer": "ipython3",
   "version": "3.9.19"
  },
  "toc": {
   "colors": {
    "hover_highlight": "#DAA520",
    "running_highlight": "#FF0000",
    "selected_highlight": "#FFD700"
   },
   "moveMenuLeft": true,
   "nav_menu": {
    "height": "264px",
    "width": "252px"
   },
   "navigate_menu": true,
   "number_sections": false,
   "sideBar": true,
   "threshold": 4,
   "toc_cell": false,
   "toc_position": {
    "height": "673px",
    "left": "0px",
    "right": "1139.11px",
    "top": "107px",
    "width": "212px"
   },
   "toc_section_display": "block",
   "toc_window_display": true,
   "widenNotebook": false
  }
 },
 "nbformat": 4,
 "nbformat_minor": 4
}
