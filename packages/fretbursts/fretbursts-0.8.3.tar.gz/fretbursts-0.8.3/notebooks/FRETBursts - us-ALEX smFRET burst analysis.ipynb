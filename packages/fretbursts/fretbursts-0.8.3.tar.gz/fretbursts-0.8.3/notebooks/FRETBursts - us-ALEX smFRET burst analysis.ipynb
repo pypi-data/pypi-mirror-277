{
 "cells": [
  {
   "cell_type": "markdown",
   "metadata": {
    "input_collapsed": false
   },
   "source": [
    "# FRETBursts - μs-ALEX smFRET burst analysis\n",
    "\n",
    "*This notebook is part of a [tutorial series](https://github.com/OpenSMFS/FRETBursts_notebooks) for the [FRETBursts](http://opensmfs.github.io/FRETBursts/) burst analysis software.*"
   ]
  },
  {
   "cell_type": "markdown",
   "metadata": {},
   "source": [
    "> In this notebook, we present a typical [FRETBursts](http://opensmfs.github.io/FRETBursts/) \n",
    "> workflow for **μs-ALEX smFRET burst analysis**. \n",
    "> Briefly, we show how to perform background estimation, burst search, burst selection, \n",
    "> compute FRET histograms and ALEX histograms, do sub-population selection and finally, FRET efficiency fit.\n",
    "\n",
    "\n",
    "<br>\n",
    "<div class=\"alert alert-success\">\n",
    "If you are new to the notebook interface see \n",
    "<a href=\"1. First Steps - Start here if new to Jupyter Notebooks.ipynb\">First Steps</a>\n",
    "before continuing.\n",
    "</div>\n",
    "\n",
    "Before running the notebook, you can click on menu *Cell* -> *All Output* -> *Clear* \n",
    "to clear all previous output. This will avoid mixing output from current execution and \n",
    "the previously saved one."
   ]
  },
  {
   "cell_type": "markdown",
   "metadata": {},
   "source": [
    "# Loading the software"
   ]
  },
  {
   "cell_type": "markdown",
   "metadata": {},
   "source": [
    "We start by loading **`FRETBursts`**:"
   ]
  },
  {
   "cell_type": "code",
   "execution_count": null,
   "metadata": {},
   "outputs": [],
   "source": [
    "from fretbursts import *"
   ]
  },
  {
   "cell_type": "markdown",
   "metadata": {},
   "source": [
    "<div class=\"alert alert-info\">\n",
    "Thanks in advance for remembering to <b>cite</b> FRETBursts in publications or presentations!\n",
    "</div>\n",
    "\n",
    "Note that FRETBursts **version string** tells you the exact FRETBursts version (and revision) in use.\n",
    "Storing the version in the notebook helps with reproducibility and \n",
    "tracking software regressions.\n",
    "\n",
    "Next, we initialize the default plot style for the notebook \n",
    "(under the hood it uses [seaborn](http://stanford.edu/~mwaskom/software/seaborn/)):"
   ]
  },
  {
   "cell_type": "code",
   "execution_count": null,
   "metadata": {},
   "outputs": [],
   "source": [
    "sns = init_notebook()"
   ]
  },
  {
   "cell_type": "markdown",
   "metadata": {},
   "source": [
    "Note that the previous command has no output. Finally, we print the version of some dependencies:"
   ]
  },
  {
   "cell_type": "code",
   "execution_count": null,
   "metadata": {},
   "outputs": [],
   "source": [
    "import lmfit; lmfit.__version__"
   ]
  },
  {
   "cell_type": "code",
   "execution_count": null,
   "metadata": {},
   "outputs": [],
   "source": [
    "import phconvert; phconvert.__version__"
   ]
  },
  {
   "cell_type": "markdown",
   "metadata": {},
   "source": [
    "# Downloading the data file"
   ]
  },
  {
   "cell_type": "markdown",
   "metadata": {},
   "source": [
    "The full list of smFRET measurements used in the [FRETBursts tutorials](https://github.com/OpenSMFS/FRETBursts_notebooks) \n",
    "can be found on [Figshare](http://dx.doi.org/10.6084/m9.figshare.1456362).\n",
    "\n",
    "This is the file we will download:"
   ]
  },
  {
   "cell_type": "code",
   "execution_count": null,
   "metadata": {},
   "outputs": [],
   "source": [
    "url = 'http://files.figshare.com/2182601/0023uLRpitc_NTP_20dT_0.5GndCl.hdf5'"
   ]
  },
  {
   "cell_type": "markdown",
   "metadata": {},
   "source": [
    "<div class=\"alert alert-success\">\n",
    "You can change the <code>url</code> variable above to download your own data file.\n",
    "This is useful if you are executing FRETBursts online and you want to use\n",
    "your own data file. See \n",
    "<a href=\"1. First Steps - Start here if new to Jupyter Notebooks.ipynb\">First Steps</a>.\n",
    "</div>\n",
    "\n",
    "Here, we download the data file and put it in a folder named `data`, \n",
    "inside the notebook folder:"
   ]
  },
  {
   "cell_type": "code",
   "execution_count": null,
   "metadata": {},
   "outputs": [],
   "source": [
    "download_file(url, save_dir='./data')"
   ]
  },
  {
   "cell_type": "markdown",
   "metadata": {},
   "source": [
    "> **NOTE**: If you modified the `url` variable providing an invalid URL\n",
    "> the previous command will fail. In this case, edit the cell containing \n",
    "> the `url` and re-try the download."
   ]
  },
  {
   "cell_type": "markdown",
   "metadata": {},
   "source": [
    "# Selecting the data file"
   ]
  },
  {
   "cell_type": "markdown",
   "metadata": {},
   "source": [
    "Use one of the following 2 methods to select a data file."
   ]
  },
  {
   "cell_type": "markdown",
   "metadata": {},
   "source": [
    "## Option 1: Paste the file-name"
   ]
  },
  {
   "cell_type": "markdown",
   "metadata": {},
   "source": [
    "Here, we can directly define the file name to be loaded:"
   ]
  },
  {
   "cell_type": "code",
   "execution_count": null,
   "metadata": {},
   "outputs": [],
   "source": [
    "filename = \"./data/0023uLRpitc_NTP_20dT_0.5GndCl.hdf5\"\n",
    "filename"
   ]
  },
  {
   "cell_type": "markdown",
   "metadata": {},
   "source": [
    "Now `filename` contains the path of the file you just selected. \n",
    "Run again the previous cell to select a new file. In a following cell\n",
    "we will check if the file actually exists."
   ]
  },
  {
   "cell_type": "markdown",
   "metadata": {},
   "source": [
    "<div class=\"alert alert-success\">\n",
    "When running the notebook online and using your own data file,\n",
    "make sure to modify the previous cell. \n",
    "<br>\n",
    "See\n",
    "<a href=\"1. First Steps - Start here if new to Jupyter Notebooks.ipynb\">First Steps</a>.\n",
    "</div>"
   ]
  },
  {
   "cell_type": "markdown",
   "metadata": {},
   "source": [
    "## Option 2: Use an \"Open File\" dialog"
   ]
  },
  {
   "cell_type": "markdown",
   "metadata": {},
   "source": [
    "Alternatively, you can select a data file with an \"Open File\" windows.\n",
    "Note that, since this only works in a local installation, the next commands\n",
    "are commented (so nothing will happen when running the cell). \n",
    "\n",
    "If you want to try the File Dialog, you need to remove the `#` signs:"
   ]
  },
  {
   "cell_type": "code",
   "execution_count": null,
   "metadata": {},
   "outputs": [],
   "source": [
    "# filename = OpenFileDialog()\n",
    "# filename"
   ]
  },
  {
   "cell_type": "markdown",
   "metadata": {},
   "source": [
    "## Check that the data file exists"
   ]
  },
  {
   "cell_type": "markdown",
   "metadata": {},
   "source": [
    "Let's check that the file exists:"
   ]
  },
  {
   "cell_type": "code",
   "execution_count": null,
   "metadata": {},
   "outputs": [],
   "source": [
    "import os\n",
    "if os.path.isfile(filename):\n",
    "    print(\"Perfect, file found!\")\n",
    "else:\n",
    "    print(\"Sorry, file:\\n%s not found\" % filename)"
   ]
  },
  {
   "cell_type": "markdown",
   "metadata": {},
   "source": [
    "# Load the selected file"
   ]
  },
  {
   "cell_type": "markdown",
   "metadata": {},
   "source": [
    "We can finally load the data and store it in a variable called `d`:"
   ]
  },
  {
   "cell_type": "code",
   "execution_count": null,
   "metadata": {},
   "outputs": [],
   "source": [
    "d = loader.photon_hdf5(filename)"
   ]
  },
  {
   "cell_type": "markdown",
   "metadata": {},
   "source": [
    "If you don't get any message, the file is loaded successfully.\n",
    "\n",
    "We can also set the 3 correction coefficients: \n",
    "\n",
    "* leakage or bleed-through: `leakage`\n",
    "* direct excitation: `dir_ex` (ALEX-only)\n",
    "* gamma-factor `gamma`"
   ]
  },
  {
   "cell_type": "code",
   "execution_count": null,
   "metadata": {},
   "outputs": [],
   "source": [
    "d.leakage = 0.11\n",
    "d.dir_ex = 0.04\n",
    "d.gamma = 1."
   ]
  },
  {
   "cell_type": "markdown",
   "metadata": {},
   "source": [
    "> **NOTE:** at any later moment, after burst search, a simple \n",
    "> reassignment of these coefficient will update the burst \n",
    "> data with the new correction values."
   ]
  },
  {
   "cell_type": "markdown",
   "metadata": {},
   "source": [
    "# μs-ALEX parameters\n",
    "\n",
    "At this point, timestamps and detectors numbers are contained in the `ph_times_t` and `det_t` attributes of `d`. Let's print them:"
   ]
  },
  {
   "cell_type": "code",
   "execution_count": null,
   "metadata": {},
   "outputs": [],
   "source": [
    "d.ph_times_t, d.det_t"
   ]
  },
  {
   "cell_type": "markdown",
   "metadata": {},
   "source": [
    "We need to define some ALEX parameters: "
   ]
  },
  {
   "cell_type": "code",
   "execution_count": null,
   "metadata": {},
   "outputs": [],
   "source": [
    "d.add(det_donor_accept = (0, 1), \n",
    "      alex_period = 4000,\n",
    "      offset = 700,\n",
    "      D_ON = (2180, 3900), \n",
    "      A_ON = (200, 1800))"
   ]
  },
  {
   "cell_type": "markdown",
   "metadata": {},
   "source": [
    "Here the parameters are:\n",
    "\n",
    "- `det_donor_accept`: donor and acceptor channels\n",
    "- `alex_period`: length of excitation period (in timestamps units)\n",
    "- `D_ON` and `A_ON`: donor and acceptor excitation windows\n",
    "- `offset`: the offset between the start of alternation and start of timestamping \n",
    "  (see also [Definition of alternation periods](http://photon-hdf5.readthedocs.org/en/latest/phdata.html#definition-of-alternation-periods)).\n",
    "\n",
    "To check that the above parameters are correct, we need to plot the histogram of timestamps (modulo the alternation period) and superimpose the two excitation period definitions to it:"
   ]
  },
  {
   "cell_type": "code",
   "execution_count": null,
   "metadata": {},
   "outputs": [],
   "source": [
    "bpl.plot_alternation_hist(d)"
   ]
  },
  {
   "cell_type": "markdown",
   "metadata": {},
   "source": [
    "If the previous alternation histogram looks correct, \n",
    "the corresponding definitions of the excitation periods can be applied to the data using the following command:"
   ]
  },
  {
   "cell_type": "code",
   "execution_count": null,
   "metadata": {},
   "outputs": [],
   "source": [
    "loader.alex_apply_period(d)"
   ]
  },
  {
   "cell_type": "markdown",
   "metadata": {},
   "source": [
    "If the previous histogram does not look right, the parameters in the `d.add(...)` cell can be modified and checked by running the histogram plot cell until everything looks fine. Don't forget to apply the \n",
    "parameters with `loader.usalex_apply_period(d)` as a last step.\n",
    "\n",
    "> **NOTE:** After applying the ALEX parameters a new array of \n",
    "> timestamps containing only photons inside the excitation periods \n",
    "> is created (name `d.ph_times_m`). To save memory, by default, \n",
    "> the old timestamps array (`d.ph_times_t`) is deleted. Therefore, \n",
    "> in the following, when we talk about all-photon selection we always \n",
    "> refer to all photons inside both excitation periods."
   ]
  },
  {
   "cell_type": "markdown",
   "metadata": {},
   "source": [
    "## Measurement infos"
   ]
  },
  {
   "cell_type": "markdown",
   "metadata": {},
   "source": [
    "The entire measurement data is now stored in the variable `d`. Printing it\n",
    "will give a compact representation containing the file-name and additional parameters:"
   ]
  },
  {
   "cell_type": "code",
   "execution_count": null,
   "metadata": {},
   "outputs": [],
   "source": [
    "d"
   ]
  },
  {
   "cell_type": "markdown",
   "metadata": {},
   "source": [
    "To check the **measurement duration** (in seconds) run:"
   ]
  },
  {
   "cell_type": "code",
   "execution_count": null,
   "metadata": {},
   "outputs": [],
   "source": [
    "d.time_max"
   ]
  },
  {
   "cell_type": "markdown",
   "metadata": {},
   "source": [
    "# Plotting basics\n",
    "\n",
    "In this section basic concepts of plotting with FRETBursts using the\n",
    "timetrace plot as an example.\n",
    "\n",
    "To plot a timetrace of the measurement we use:"
   ]
  },
  {
   "cell_type": "code",
   "execution_count": null,
   "metadata": {},
   "outputs": [],
   "source": [
    "dplot(d, timetrace);"
   ]
  },
  {
   "cell_type": "markdown",
   "metadata": {},
   "source": [
    "Here, `dplot` is a generic wrapper (the same for all plots)\n",
    "that takes care of setting up the figure, title and axis \n",
    "(in the multispot case `dplot` creates multi-panel plot).\n",
    "The second argument, `timetrace`, is the actual plot function. \n",
    "All the eventual additional arguments passed to `dplot` are, \n",
    "in turn, passed to the plot function (e.g. `timetrace`).\n",
    "\n",
    "If we look at the documentation for [`timetrace`](http://fretbursts.readthedocs.org/en/latest/plots.html#fretbursts.burst_plot.timetrace)\n",
    "function we notice that it accepts a long list of arguments.\n",
    "In python, when an argument is not specified, it will take the default\n",
    "value specified in the function definition (see previus link).\n",
    "\n",
    "As an example, to change the bin size (i.e. duration) of the timetrace histogram,\n",
    "we can look up in the [`timetrace` documentation](http://fretbursts.readthedocs.org/en/latest/plots.html#fretbursts.burst_plot.timetrace)\n",
    "and find that the argument we need to modify is `binwidth`\n",
    "(we can also see that the default value is `0.001` seconds).\n",
    "We can then re-plot the timetrace using a bin of 0.5 ms:"
   ]
  },
  {
   "cell_type": "code",
   "execution_count": null,
   "metadata": {},
   "outputs": [],
   "source": [
    "dplot(d, timetrace, binwidth=0.5e-3);"
   ]
  },
  {
   "cell_type": "markdown",
   "metadata": {},
   "source": [
    "The timetrace is **computed** between `tmin` and `tmax` (by default 0 and 200s),\n",
    "but as you can see is displayed only between 0 an 1 second, just because these\n",
    "are the default x-axis limits. The axis limits can be changes by using the\n",
    "standard matplotlib command `plt.xlim()`.\n",
    "On the other hand, to change the range where the timetrace is **computed**,\n",
    "we pass the additional arguments `tmin` and `tmax` as follows:"
   ]
  },
  {
   "cell_type": "code",
   "execution_count": null,
   "metadata": {},
   "outputs": [],
   "source": [
    "dplot(d, timetrace, binwidth=0.5e-3, tmin=50, tmax=150)\n",
    "plt.xlim(51, 52);"
   ]
  },
  {
   "cell_type": "markdown",
   "metadata": {},
   "source": [
    "When using FRETBursts in a notebook, all plots are static by default.\n",
    "This is because we use the so called `inline` backend of matplotlib.\n",
    "If you want to manipulate figures interactively, you can switch\n",
    "to the interactive `notebook` backend with:\n",
    "\n",
    "```\n",
    "%matplotlib notebook\n",
    "```\n",
    "\n",
    "to go back to inline use:\n",
    "\n",
    "\n",
    "```\n",
    "%matplotlib inline\n",
    "```\n",
    "\n",
    "**NOTE**: Currently, the `notebook` backend is incompatible with the QT backend. \n",
    "If in a session you activate the `notebook` backend, then switching to the QT backend requires \n",
    "restarting the notebook. Conversely, you can switch between `inline` and `notebook` \n",
    "or between `inline` and `qt4` backends in the same session wihtou issues.\n",
    "\n",
    "> ### See also:\n",
    ">\n",
    "> - [bpl.timetrace](http://fretbursts.readthedocs.org/en/latest/plots.html#fretbursts.burst_plot.timetrace)\n",
    ">    function documentation\n",
    "> - [bpl.ratetrace](http://fretbursts.readthedocs.org/en/latest/plots.html#fretbursts.burst_plot.ratetrace)\n",
    ">   function documentation\n",
    "> - [Intensity timetrace and Rate-timetrace](#Intensity-timetrace-and-Rate-timetrace), a later section in this tutorial."
   ]
  },
  {
   "cell_type": "markdown",
   "metadata": {},
   "source": [
    "# Background estimation\n",
    "\n",
    "As a first step of the analysis, we need to estimate the background. \n",
    "Here we will compute the background using the recommended approach of using\n",
    "the auto-threshold.\n",
    "\n",
    "For more details see [Background estimation](Example - Background estimation.ipynb).\n"
   ]
  },
  {
   "cell_type": "markdown",
   "metadata": {},
   "source": [
    "## Automatic threshold\n",
    "\n",
    "It is a good practice to monitor background rates as a function of time.\n",
    "Here, we compute background in adjacent 30s windows (called *background periods*)\n",
    "and plot the estimated rates as a function of time."
   ]
  },
  {
   "cell_type": "code",
   "execution_count": null,
   "metadata": {},
   "outputs": [],
   "source": [
    "d.calc_bg(bg.exp_fit, time_s=30, tail_min_us='auto')"
   ]
  },
  {
   "cell_type": "code",
   "execution_count": null,
   "metadata": {},
   "outputs": [],
   "source": [
    "dplot(d, timetrace_bg)"
   ]
  },
  {
   "cell_type": "markdown",
   "metadata": {},
   "source": [
    "> **NOTE**: All background data is stored in `d.bg`. For details on how to\n",
    "> to export it see the [Background estimation](Example - Background estimation.ipynb) notebook."
   ]
  },
  {
   "cell_type": "markdown",
   "metadata": {},
   "source": [
    "# Burst analysis"
   ]
  },
  {
   "cell_type": "markdown",
   "metadata": {},
   "source": [
    "The first step of burst analysis is the burst search. \n",
    "\n",
    "We will use the sliding-window algorithm on all photons. Note \n",
    "that \"all photons\", as mentioned before, means all photons selected in the \n",
    "alternation histogram.\n",
    "An important variation compared to the classical sliding-windows \n",
    "is that the threshold-rate for burst start is computed as \n",
    "a function of the background and changes when the background\n",
    "changes during the measurement.\n",
    "\n",
    "To perform a burst search evaluating the photon rate with \n",
    "10 photons (`m=10`), and selecting a minimum rate 6 times larger than \n",
    "the background rate (F=6) calculated with all photons (default):"
   ]
  },
  {
   "cell_type": "code",
   "execution_count": null,
   "metadata": {},
   "outputs": [],
   "source": [
    "d.burst_search(L=10, m=10, F=6)"
   ]
  },
  {
   "cell_type": "markdown",
   "metadata": {},
   "source": [
    "The previous command performs the burst search, corrects \n",
    "the bursts sizes for background, spectral leakage and direct excitation,\n",
    "and computes $\\gamma$-corrected FRET and Stoichiometry. \n",
    "\n",
    "See the \n",
    "[`burst_search` documentation](http://fretbursts.readthedocs.org/en/latest/data_class.html#fretbursts.burstlib.Data.burst_search) for more details."
   ]
  },
  {
   "cell_type": "markdown",
   "metadata": {},
   "source": [
    "We can plot the resulting FRET histogram using the following command:"
   ]
  },
  {
   "cell_type": "code",
   "execution_count": null,
   "metadata": {},
   "outputs": [],
   "source": [
    "dplot(d, hist_fret);"
   ]
  },
  {
   "cell_type": "markdown",
   "metadata": {},
   "source": [
    "All pre-defined plots follow this pattern: \n",
    "call the generic `dplot()` function, passing 2 parameters:\n",
    "\n",
    "- the measurement data (`d` in this case) \n",
    "- the plot function (`hist_fret`)\n",
    "\n",
    "In some case we can add other optional parameters to tweak the plot.\n",
    "\n",
    "All plot functions start with `hist_` for histograms, \n",
    "`scatter_` for scatter-plots  or `timetrace_` for plots as a function \n",
    "of measurement time. You can use autocompletion to find all \n",
    "plot function or you can look in `bursts_plot.py` where \n",
    "all plot functions are defined."
   ]
  },
  {
   "cell_type": "markdown",
   "metadata": {},
   "source": [
    "Instead of `hist_fret` we can use `hist_fret_kde` to add a [KDE](http://en.wikipedia.org/wiki/Kernel_density_estimation) overlay. Also, we can plot a **weighted histogram** by passing an additional parameter `weights`:"
   ]
  },
  {
   "cell_type": "code",
   "execution_count": null,
   "metadata": {},
   "outputs": [],
   "source": [
    "dplot(d, hist_fret, show_kde=True);\n",
    "dplot(d, hist_fret, show_kde=True, weights='size');"
   ]
  },
  {
   "cell_type": "markdown",
   "metadata": {},
   "source": [
    "You can experiment with different weighting schema (for all \n",
    "supported weights see `get_weigths()` function in `fret_fit.py`)."
   ]
  },
  {
   "cell_type": "markdown",
   "metadata": {},
   "source": [
    "## Burst selection"
   ]
  },
  {
   "cell_type": "markdown",
   "metadata": {},
   "source": [
    "When we performed the burst search, we specified `L=10` without \n",
    "explaining what this parameter means. *L* is traditionally the minimum size \n",
    "(number of photons) for a burst: smaller bursts will be rejected. \n",
    "By setting L=m (10 in this case) we are deciding to not discard \n",
    "any burst (because the smallest detected burst has at least *m* counts). \n",
    "\n",
    "Selecting the bursts in a second step, by applying a minimum burst size criterion, \n",
    "results in a more accurate and unbiased selection.\n",
    "\n",
    "For example, we can select bursts with more than 30 photons (after \n",
    "background, gamma, leakage and direct excitation corrections)\n",
    "and store the result in a new\n",
    "`Data()` variable `ds`:"
   ]
  },
  {
   "cell_type": "code",
   "execution_count": null,
   "metadata": {},
   "outputs": [],
   "source": [
    "ds = d.select_bursts(select_bursts.size, th1=30)"
   ]
  },
  {
   "cell_type": "markdown",
   "metadata": {},
   "source": [
    "By defaults the burst size includes donor and acceptor photons \n",
    "during donor excitation. To add acceptor photons during \n",
    "acceptor excitation (`naa`), we add the parameter `add_naa=True`:"
   ]
  },
  {
   "cell_type": "code",
   "execution_count": null,
   "metadata": {},
   "outputs": [],
   "source": [
    "ds = d.select_bursts(select_bursts.size, add_naa=True, th1=30)"
   ]
  },
  {
   "cell_type": "markdown",
   "metadata": {},
   "source": [
    "Similar to plot functions, all selection functions \n",
    "are defined in `select_bursts.py` and you can access them by typing \n",
    "`select_bursts.` and using the TAB key for autocompletion. \n",
    "\n",
    "> **See also:** \n",
    "> * [Burst selection](http://fretbursts.readthedocs.org/en/latest/burst_selection.html) in the documentation. \n",
    "> In particular the function [`select_bursts.size`](http://fretbursts.readthedocs.org/en/latest/burst_selection.html#fretbursts.select_bursts.size) and [`Data.select_bursts`](http://fretbursts.readthedocs.org/en/latest/data_class.html#fretbursts.burstlib.Data.select_bursts).\n",
    "\n",
    "To replot the FRET histogram after selection (note that now \n",
    "we are passing `ds` to the plot function):"
   ]
  },
  {
   "cell_type": "code",
   "execution_count": null,
   "metadata": {},
   "outputs": [],
   "source": [
    "dplot(ds, hist_fret);"
   ]
  },
  {
   "cell_type": "markdown",
   "metadata": {},
   "source": [
    "Note how the histogram exhibits much more clearly defined peaks after burst selection. "
   ]
  },
  {
   "cell_type": "markdown",
   "metadata": {},
   "source": [
    "## Histogram fitting and plotting style\n",
    "\n",
    "Under the hood the previous `hist_fret` plot creates a `MultiFitter` \n",
    "object for $E$ values. This object, stored as `ds.E_fitter`, operates\n",
    "on multi-channel data and computes the histogram, KDE and can fit \n",
    "the histogram with a model ([lmfit.Model](http://lmfit.github.io/lmfit-py/model.html)).\n",
    "\n",
    "Now, just for illustration purposes, we fit the previous histogram with 3 Gaussians, using the already created `ds.E_fitter` object:"
   ]
  },
  {
   "cell_type": "code",
   "execution_count": null,
   "metadata": {},
   "outputs": [],
   "source": [
    "ds.E_fitter.fit_histogram(mfit.factory_three_gaussians(), verbose=False)"
   ]
  },
  {
   "cell_type": "code",
   "execution_count": null,
   "metadata": {},
   "outputs": [],
   "source": [
    "dplot(ds, hist_fret, show_model=True);"
   ]
  },
  {
   "cell_type": "markdown",
   "metadata": {},
   "source": [
    "The bin width can be changed with `binwidth` argument. Alternatively,\n",
    "an arbitrary array of bin edges can be passed in `bins` \n",
    "(overriding `binwidth`).\n",
    "\n",
    "We can customize the appearance of this plot (type \n",
    "`hist_fret?` for the complete set of arguments). \n",
    "\n",
    "For example to change from a bar plot to a line-plot \n",
    "we use the `hist_style` argument:"
   ]
  },
  {
   "cell_type": "code",
   "execution_count": null,
   "metadata": {},
   "outputs": [],
   "source": [
    "dplot(ds, hist_fret, show_model=True, hist_style='line')"
   ]
  },
  {
   "cell_type": "markdown",
   "metadata": {},
   "source": [
    "We can customize the line-plot, bar-plot, the model \n",
    "plot and the KDE plot by passing dictionaries with matplotlib \n",
    "style. The name of the arguments are:\n",
    "\n",
    "- `hist_plot_style`: style for the histogram line-plot\n",
    "- `hist_bar_style`: style for the histogram bar-plot\n",
    "- `model_plot_style`: style for the model plot\n",
    "- `kde_plot_style`: style for the KDE plot\n",
    "\n",
    "As an example:"
   ]
  },
  {
   "cell_type": "code",
   "execution_count": null,
   "metadata": {},
   "outputs": [],
   "source": [
    "dplot(ds, hist_fret, show_model=True, hist_style='bar', show_kde=True,\n",
    "      kde_plot_style = dict(linewidth=5, color='orange', alpha=0.6),\n",
    "      hist_plot_style = dict(linewidth=3, markersize=8, color='b', alpha=0.6))\n",
    "plt.legend();"
   ]
  },
  {
   "cell_type": "markdown",
   "metadata": {},
   "source": [
    "# Other plots"
   ]
  },
  {
   "cell_type": "markdown",
   "metadata": {},
   "source": [
    "Similarly, we can plot the burst size using all photons \n",
    "(type `hist_size?` to learn about all plot options):"
   ]
  },
  {
   "cell_type": "code",
   "execution_count": null,
   "metadata": {},
   "outputs": [],
   "source": [
    "dplot(ds, hist_size, add_naa=True);"
   ]
  },
  {
   "cell_type": "markdown",
   "metadata": {},
   "source": [
    "Or plot the burst size histogram for the different components:"
   ]
  },
  {
   "cell_type": "code",
   "execution_count": null,
   "metadata": {},
   "outputs": [],
   "source": [
    "dplot(ds, hist_size_all);"
   ]
  },
  {
   "cell_type": "markdown",
   "metadata": {},
   "source": [
    "> **NOTE:** The previous plot may generate a benign warning \n",
    "> due to the presence of zeroes when switching to log scale. Just ignore it."
   ]
  },
  {
   "cell_type": "markdown",
   "metadata": {},
   "source": [
    "A scatterplot of Size *vs* FRET is created by:"
   ]
  },
  {
   "cell_type": "code",
   "execution_count": null,
   "metadata": {},
   "outputs": [],
   "source": [
    "dplot(ds, scatter_fret_nd_na)\n",
    "xlim(-1, 2)"
   ]
  },
  {
   "cell_type": "markdown",
   "metadata": {},
   "source": [
    "# Study of different populations\n",
    "\n",
    "## Removing multi-mers"
   ]
  },
  {
   "cell_type": "markdown",
   "metadata": {},
   "source": [
    "We can further select only bursts smaller than 300 photons \n",
    "to get rid of multi-molecule events:"
   ]
  },
  {
   "cell_type": "code",
   "execution_count": null,
   "metadata": {},
   "outputs": [],
   "source": [
    "ds2 = ds.select_bursts(select_bursts.size, th2=300)"
   ]
  },
  {
   "cell_type": "markdown",
   "metadata": {},
   "source": [
    "and superimpose the two histograms before and after selection to see the difference:"
   ]
  },
  {
   "cell_type": "code",
   "execution_count": null,
   "metadata": {},
   "outputs": [],
   "source": [
    "ax = dplot(ds2, hist_fret, hist_style='bar', show_kde=True, \n",
    "              hist_bar_style = dict(facecolor='r', alpha=0.5, \n",
    "                                    label='Hist. no large bursts'),\n",
    "              kde_plot_style = dict(lw=3, color='m', \n",
    "                                    label='KDE no large bursts'))\n",
    "dplot(ds, hist_fret, ax=ax, hist_style='bar', show_kde=True,\n",
    "      hist_bar_style = dict(label='Hist. with large bursts'),\n",
    "      kde_plot_style = dict(lw=3, label='KDE with large bursts'))\n",
    "plt.legend();"
   ]
  },
  {
   "cell_type": "markdown",
   "metadata": {},
   "source": [
    "> **NOTE:** It is not necessarily true that bursts with more that 300 photons \n",
    "> represents multiple molecules. \n",
    "> To asses the valididty of this assumption it can be useful to \n",
    "> plot the peak count rates in each burst. See `hist_burst_phrate` \n",
    "> for this kind of plot."
   ]
  },
  {
   "cell_type": "markdown",
   "metadata": {},
   "source": [
    "## Fit and plot peak positions\n",
    "\n",
    "We can find the KDE peak position in a range (let say 0.2 ... 0.6):"
   ]
  },
  {
   "cell_type": "code",
   "execution_count": null,
   "metadata": {},
   "outputs": [],
   "source": [
    "ds.E_fitter.find_kde_max(np.r_[0:1:0.0002], xmin=0.2, xmax=0.6)"
   ]
  },
  {
   "cell_type": "markdown",
   "metadata": {},
   "source": [
    "and plot it with `show_kde_peak=True`, we also use `show_fit_value=True` to show a box with the fitted value:"
   ]
  },
  {
   "cell_type": "code",
   "execution_count": null,
   "metadata": {},
   "outputs": [],
   "source": [
    "dplot(ds, hist_fret, hist_style='line', \n",
    "      show_fit_value=True, \n",
    "      show_kde=True, show_kde_peak=True);"
   ]
  },
  {
   "cell_type": "markdown",
   "metadata": {},
   "source": [
    "Instead of using the KDE, we can use the peak position as fitted from a gaussian model. "
   ]
  },
  {
   "cell_type": "code",
   "execution_count": null,
   "metadata": {},
   "outputs": [],
   "source": [
    "ds.E_fitter.fit_histogram(mfit.factory_three_gaussians(), verbose=False)"
   ]
  },
  {
   "cell_type": "markdown",
   "metadata": {},
   "source": [
    "To select which peak to show we use `fit_from='p1_center'`:"
   ]
  },
  {
   "cell_type": "code",
   "execution_count": null,
   "metadata": {},
   "outputs": [],
   "source": [
    "dplot(ds, hist_fret, hist_style='line', \n",
    "      show_fit_value=True, fit_from='p2_center', \n",
    "      show_model=True);"
   ]
  },
  {
   "cell_type": "markdown",
   "metadata": {},
   "source": [
    "The string `'p2_center'` is the name of the parameter of the \n",
    "gaussian fit that we want to show in the text box. To see all \n",
    "the parameters of the model we look in:"
   ]
  },
  {
   "cell_type": "code",
   "execution_count": null,
   "metadata": {},
   "outputs": [],
   "source": [
    "ds.E_fitter.params  # <-- pandas DataFrame, one row per channel"
   ]
  },
  {
   "cell_type": "markdown",
   "metadata": {},
   "source": [
    "## ALEX plots"
   ]
  },
  {
   "cell_type": "markdown",
   "metadata": {},
   "source": [
    "We can create a simple E-S scatter plot with `scatter_alex`:"
   ]
  },
  {
   "cell_type": "code",
   "execution_count": null,
   "metadata": {},
   "outputs": [],
   "source": [
    "dplot(ds, scatter_alex, figsize=(4,4), lw=1, s=10, ec='black', color='purple');"
   ]
  },
  {
   "cell_type": "markdown",
   "metadata": {},
   "source": [
    "We can also plot the ALEX histogram with a scatterplot overlay using `hist2d_alex`:"
   ]
  },
  {
   "cell_type": "code",
   "execution_count": null,
   "metadata": {},
   "outputs": [],
   "source": [
    "dplot(ds, hist2d_alex);"
   ]
  },
  {
   "cell_type": "markdown",
   "metadata": {},
   "source": [
    "Finally we can also plot an ALEX histogram and marginals \n",
    "(joint plots) as follow (for more options see: \n",
    "[Example - usALEX histogram](Example - usALEX histogram.ipynb)):"
   ]
  },
  {
   "cell_type": "code",
   "execution_count": null,
   "metadata": {},
   "outputs": [],
   "source": [
    "alex_jointplot(ds);"
   ]
  },
  {
   "cell_type": "markdown",
   "metadata": {},
   "source": [
    "To get rid of the large donor-only population, we can simply \n",
    "select bursts with at least 10 photons in the acceptor channel \n",
    "(during acceptor excitation). At the same time,\n",
    "with a burst size selection using Dex photons we get rid\n",
    "of the A-only population:"
   ]
  },
  {
   "cell_type": "code",
   "execution_count": null,
   "metadata": {},
   "outputs": [],
   "source": [
    "ds = d.select_bursts(select_bursts.size, th1=20)\n",
    "ds2 = ds.select_bursts(select_bursts.naa, th1=10)\n",
    "alex_jointplot(ds2);"
   ]
  },
  {
   "cell_type": "markdown",
   "metadata": {},
   "source": [
    "As you can see, we remained with only the FRET sub-populations.\n",
    "\n",
    "See next sections show how to select a region on the E/S \n",
    "histogram to isolate a subpopulation."
   ]
  },
  {
   "cell_type": "markdown",
   "metadata": {},
   "source": [
    "## Graphical selection of an E-S region\n",
    "<br>\n",
    "<div class=\"alert alert-warning\">\n",
    "The graphical selection of E-S regions requires a local FRETBursts installation.\n",
    "Therefore the commands below are commented by default.\n",
    "<br><br>\n",
    "If you have a local installation and you want to try commands below,\n",
    "please uncomment (i.e. remove the inital <code>#</code>) from the lines\n",
    "containing the <code>%matplotlib</code> command.\n",
    "</div>\n",
    "\n",
    "\n",
    "To select bursts graphically, we need to open the ALEX histogram \n",
    "in a new (QT) window, drag the mouse to define a selection and \n",
    "have it printed here in the notebook.\n",
    "\n",
    "Here we describe how to do it in 3 steps.\n",
    "\n",
    "**Step 1** Switch the plot modality to QT (i.e. opens graphs in a separate window):"
   ]
  },
  {
   "cell_type": "code",
   "execution_count": null,
   "metadata": {},
   "outputs": [],
   "source": [
    "# Switches to open plot in external window\n",
    "#%matplotlib qt"
   ]
  },
  {
   "cell_type": "markdown",
   "metadata": {},
   "source": [
    "**Step 2** Plot the E-S histogram in an external windows. There you can\n",
    "use the mouse to select a region:"
   ]
  },
  {
   "cell_type": "code",
   "execution_count": null,
   "metadata": {},
   "outputs": [],
   "source": [
    "# ALEX histogram with GUI selection enabled\n",
    "dplot(ds, hist2d_alex, gui_sel=True)"
   ]
  },
  {
   "cell_type": "markdown",
   "metadata": {},
   "source": [
    "The region selection is printed above.\n",
    "\n",
    "**Step 3** Restore the normal inline plotting (no more external windows)."
   ]
  },
  {
   "cell_type": "code",
   "execution_count": null,
   "metadata": {},
   "outputs": [],
   "source": [
    "# Switch back to show plots inline in the notebook\n",
    "#%matplotlib inline"
   ]
  },
  {
   "cell_type": "markdown",
   "metadata": {},
   "source": [
    "## Selection bursts by E-S values"
   ]
  },
  {
   "cell_type": "markdown",
   "metadata": {},
   "source": [
    "To apply a selection based on E-S values, \n",
    "we can paste the values obtained from the previous plot\n",
    "(or we can type them in manually).\n",
    "\n",
    "The selection function used here is `select_bursts.ES`.\n",
    "The same *E* and *S* boundaries can define either a rectangular \n",
    "or an elliptical selection by using \n",
    "respectively `rect=True` or `rect=False`. \n",
    "Here we use the elliptical selection:"
   ]
  },
  {
   "cell_type": "code",
   "execution_count": null,
   "metadata": {},
   "outputs": [],
   "source": [
    "roi = dict(E1=-0.07, E2=1.17, S1=0.18, S2=0.70, rect=False)\n",
    "d_fret_mix = ds.select_bursts(select_bursts.ES, **roi)"
   ]
  },
  {
   "cell_type": "markdown",
   "metadata": {},
   "source": [
    "By plotting the FRET histogram we can double check that \n",
    "the selection has been applied:"
   ]
  },
  {
   "cell_type": "code",
   "execution_count": null,
   "metadata": {},
   "outputs": [],
   "source": [
    "g = alex_jointplot(d_fret_mix)\n",
    "bpl.plot_ES_selection(g.axes[0], **roi);"
   ]
  },
  {
   "cell_type": "markdown",
   "metadata": {},
   "source": [
    "Now we can further separate high- and low FRET sub-populations. "
   ]
  },
  {
   "cell_type": "code",
   "execution_count": null,
   "metadata": {},
   "outputs": [],
   "source": [
    "roi_high_fret = dict(E1=0.65, E2=1.09, S1=-0.13, S2=0.96)\n",
    "d_high_fret = d_fret_mix.select_bursts(select_bursts.ES, **roi_high_fret)\n",
    "roi_low_fret = dict(E1=-0.19, E2=0.64, S1=-0.05, S2=0.92)\n",
    "d_low_fret = d_fret_mix.select_bursts(select_bursts.ES, **roi_low_fret)"
   ]
  },
  {
   "cell_type": "code",
   "execution_count": null,
   "metadata": {},
   "outputs": [],
   "source": [
    "alex_jointplot(d_high_fret);\n",
    "alex_jointplot(d_low_fret);"
   ]
  },
  {
   "cell_type": "markdown",
   "metadata": {},
   "source": [
    "We can for example compute the ratio of high- and low-fret bursts:"
   ]
  },
  {
   "cell_type": "code",
   "execution_count": null,
   "metadata": {},
   "outputs": [],
   "source": [
    "d_low_fret.num_bursts / d_high_fret.num_bursts"
   ]
  },
  {
   "cell_type": "markdown",
   "metadata": {},
   "source": [
    "## Burst Width analysis"
   ]
  },
  {
   "cell_type": "markdown",
   "metadata": {},
   "source": [
    "To plot a burst-width histogram, we use `hist_width` instead of `hist_fret`:"
   ]
  },
  {
   "cell_type": "code",
   "execution_count": null,
   "metadata": {},
   "outputs": [],
   "source": [
    "dplot(d_low_fret, hist_width)"
   ]
  },
  {
   "cell_type": "markdown",
   "metadata": {},
   "source": [
    "To use a larger bin size, plots two sub-populations (in different color) and add a legend:"
   ]
  },
  {
   "cell_type": "code",
   "execution_count": null,
   "metadata": {},
   "outputs": [],
   "source": [
    "ax = dplot(d_high_fret, hist_width, bins=(0, 10, 0.2))\n",
    "dplot(d_low_fret, hist_width, bins=(0, 10, 0.2), ax=ax)\n",
    "plt.legend(['High-FRET population', 'Low-FRET population']);"
   ]
  },
  {
   "cell_type": "markdown",
   "metadata": {},
   "source": [
    "Finally, we compute the mean burst width for each subpopulation:"
   ]
  },
  {
   "cell_type": "code",
   "execution_count": null,
   "metadata": {},
   "outputs": [],
   "source": [
    "millisec = d.clk_p * 1e3\n",
    "mean_b_width_low_fret  = d_low_fret.mburst[0].width.mean() * millisec\n",
    "mean_b_width_high_fret = d_high_fret.mburst[0].width.mean() * millisec\n",
    "\n",
    "print('Mean burst width: %.1f ms (high-fret), %.1f (low-fret)' % \n",
    "      (mean_b_width_high_fret, mean_b_width_low_fret))"
   ]
  },
  {
   "cell_type": "markdown",
   "metadata": {},
   "source": [
    "# FRET fit: in-depth example\n",
    "\n",
    "We can fit a FRET distribution to any model. For example, \n",
    "we will fit the FRET selection (2 FRET sub-populations) with 2 Gaussians. \n",
    "The fitting model is a [`Model` object](http://lmfit.github.io/lmfit-py/model.html) \n",
    "from the [`lmfit` library](http://lmfit.github.io/lmfit-py/).\n",
    "\n",
    "The first step, previously performed implicitely by the `hist_fret()`\n",
    "plot function, is to create a [MultiFitter](http://fretbursts.readthedocs.org/en/latest/mfit.html#the-multifitter-class) \n",
    "object for $E$ and/or $S$, by calling [bext.bursts_fitter()](http://fretbursts.readthedocs.org/en/latest/plugins.html?highlight=bursts_fitter#fretbursts.burstlib_ext.bursts_fitter). \n",
    "With `MultiFitter` objects, we can compute histograms, \n",
    "KDEs and fit the histogram in one single step, as in the following example:"
   ]
  },
  {
   "cell_type": "code",
   "execution_count": null,
   "metadata": {},
   "outputs": [],
   "source": [
    "E_fitter = bext.bursts_fitter(d_fret_mix, 'E', binwidth=0.03, bandwidth=0.03, \n",
    "                              model=mfit.factory_two_gaussians())\n",
    "S_fitter = bext.bursts_fitter(d_fret_mix, 'S', binwidth=0.03, bandwidth=0.03, \n",
    "                              model=mfit.factory_gaussian())"
   ]
  },
  {
   "cell_type": "markdown",
   "metadata": {},
   "source": [
    "However if we want to modify the model (for example to add a \n",
    "constrain) we need to perform the fit in a second step. \n",
    "To skip the fitting, we simply avoid passing a `model`:"
   ]
  },
  {
   "cell_type": "code",
   "execution_count": null,
   "metadata": {},
   "outputs": [],
   "source": [
    "E_fitter = bext.bursts_fitter(d_fret_mix, 'E', binwidth=0.03, bandwidth=0.03)\n",
    "S_fitter = bext.bursts_fitter(d_fret_mix, 'S', binwidth=0.03, bandwidth=0.03) "
   ]
  },
  {
   "cell_type": "markdown",
   "metadata": {},
   "source": [
    "Now we create a model and initialize the parameters \n",
    "using [`mfit.factory_two_gaussians()`](http://fretbursts.readthedocs.org/en/latest/mfit.html#fretbursts.mfit.factory_two_gaussians) \n",
    "(see [Model factory functions](http://fretbursts.readthedocs.org/en/latest/mfit.html#model-factory-functions) \n",
    "for a list of pre-defined models in FRETBursts):"
   ]
  },
  {
   "cell_type": "code",
   "execution_count": null,
   "metadata": {},
   "outputs": [],
   "source": [
    "model = mfit.factory_two_gaussians(add_bridge=True)"
   ]
  },
  {
   "cell_type": "markdown",
   "metadata": {},
   "source": [
    "We can see the list of parameters, initial values and constraints:"
   ]
  },
  {
   "cell_type": "code",
   "execution_count": null,
   "metadata": {},
   "outputs": [],
   "source": [
    "model.print_param_hints()"
   ]
  },
  {
   "cell_type": "markdown",
   "metadata": {},
   "source": [
    "We can change initial values and/or constrains (bounds):"
   ]
  },
  {
   "cell_type": "code",
   "execution_count": null,
   "metadata": {},
   "outputs": [],
   "source": [
    "model.set_param_hint('p1_center', value=0.3, min=-0.1, max=0.6)\n",
    "model.set_param_hint('p2_center', value=0.85, min=0.5, max=1.1)\n",
    "model.print_param_hints()"
   ]
  },
  {
   "cell_type": "markdown",
   "metadata": {},
   "source": [
    "Finally, we fit the histogram with one \n",
    "of the [supported minimization methods](http://lmfit.github.io/lmfit-py/fitting.html#fit-engines-label) \n",
    "(the default is least-squares):"
   ]
  },
  {
   "cell_type": "code",
   "execution_count": null,
   "metadata": {},
   "outputs": [],
   "source": [
    "E_fitter.fit_histogram(model=model, verbose=False)     # default method is 'leastsq'\n",
    "#E_fitter.fit_histogram(model=model, method='nelder')  # example using simplex method"
   ]
  },
  {
   "cell_type": "markdown",
   "metadata": {},
   "source": [
    "To plot the model with the fitted parameters on top of the FRET \n",
    "histogram, we add `show_model=True` as seen before:"
   ]
  },
  {
   "cell_type": "code",
   "execution_count": null,
   "metadata": {},
   "outputs": [],
   "source": [
    "dplot(d_fret_mix, hist_fret, show_model=True);"
   ]
  },
  {
   "cell_type": "markdown",
   "metadata": {},
   "source": [
    "The fitting results of `lmfit` models are stored in [lmfit.ModelResult](https://lmfit.github.io/lmfit-py/model.html#the-modelresult-class) objects. In FRETBursts, these objects are available in `MultiFitter.fit_res`:"
   ]
  },
  {
   "cell_type": "code",
   "execution_count": null,
   "metadata": {},
   "outputs": [],
   "source": [
    "E_fitter.fit_res[0]"
   ]
  },
  {
   "cell_type": "markdown",
   "metadata": {},
   "source": [
    "Here the `[0]` indicates CH=0. This index is used in multispot measurements, in which \n",
    "there are several channels.\n",
    "\n",
    "The values of the fitted parameters are available in the `best_values` \n",
    "dictionary:"
   ]
  },
  {
   "cell_type": "code",
   "execution_count": null,
   "metadata": {},
   "outputs": [],
   "source": [
    "results = E_fitter.fit_res[0]"
   ]
  },
  {
   "cell_type": "code",
   "execution_count": null,
   "metadata": {},
   "outputs": [],
   "source": [
    "results.params.pretty_print(columns=['value'])"
   ]
  },
  {
   "cell_type": "markdown",
   "metadata": {},
   "source": [
    "We can also print a complete report of fitted parameters \n",
    "including reduced $\\chi^2$, error ranges \n",
    "($\\pm 1 \\sigma$) and correlations:"
   ]
  },
  {
   "cell_type": "code",
   "execution_count": null,
   "metadata": {},
   "outputs": [],
   "source": [
    "print(results.fit_report(min_correl=0.5))"
   ]
  },
  {
   "cell_type": "markdown",
   "metadata": {},
   "source": [
    "To customize the printed report, see [lmfit.fit_report()](https://lmfit.github.io/lmfit-py/fitting.html?highlight=fit_report#getting-and-printing-fit-reports) docs."
   ]
  },
  {
   "cell_type": "markdown",
   "metadata": {},
   "source": [
    "We can also take a look at the initial parameters:"
   ]
  },
  {
   "cell_type": "code",
   "execution_count": null,
   "metadata": {},
   "outputs": [],
   "source": [
    "results.init_params.pretty_print()"
   ]
  },
  {
   "cell_type": "markdown",
   "metadata": {},
   "source": [
    "We can compute more accurate confidence-intervals (note that \n",
    "it can take several seconds, \n",
    "see [lmfit docs](https://lmfit.github.io/lmfit-py/confidence.html) \n",
    "for the method details):"
   ]
  },
  {
   "cell_type": "code",
   "execution_count": null,
   "metadata": {},
   "outputs": [],
   "source": [
    "ci = results.conf_interval()\n",
    "lmfit.report_ci(ci)"
   ]
  },
  {
   "cell_type": "markdown",
   "metadata": {},
   "source": [
    "Finally, FRETBursts's \n",
    "[MultiFitter object](http://fretbursts.readthedocs.org/en/latest/mfit.html#the-multifitter-class) \n",
    "(e.g. `E_fitter`) stores the fitted parameters in `E_fitter.params` as pandas DataFrame:"
   ]
  },
  {
   "cell_type": "code",
   "execution_count": null,
   "metadata": {},
   "outputs": [],
   "source": [
    "E_fitter.params"
   ]
  },
  {
   "cell_type": "markdown",
   "metadata": {},
   "source": [
    "For more information on fitting see:\n",
    "\n",
    "- [FRETBursts: Fit Framework](http://fretbursts.readthedocs.org/en/latest/fit.html)\n",
    "- [lmfit Documentation](http://cars9.uchicago.edu/software/python/lmfit/index.html)."
   ]
  },
  {
   "cell_type": "markdown",
   "metadata": {},
   "source": [
    "# Exporting Data\n",
    "\n",
    "To export data computed by FRETBursts, you need to find first where \n",
    "the data is stored or, for data computed on fly, which function/method \n",
    "is used to computed it. \n",
    "\n",
    "Most data computed by FRETBursts is stored in the `Data` object\n",
    "(see the [Data docs](http://fretbursts.readthedocs.org/en/latest/data_class.html) for the list of attributes).\n",
    "For example:\n",
    "\n",
    "- corrected burst counts are stored in `Data.nd`, `Data.na`, `Data.naa`\n",
    "- timestamps are stored in `Data.ph_times_m`\n",
    "\n",
    "All these attributes are list of arrays, one per excitation spot. \n",
    "This means that, even for single-spot data, we need to use indexing (`[0]`)\n",
    "to obtain the array. For example:"
   ]
  },
  {
   "cell_type": "code",
   "execution_count": null,
   "metadata": {},
   "outputs": [],
   "source": [
    "d.nd[0]"
   ]
  },
  {
   "cell_type": "markdown",
   "metadata": {},
   "source": [
    "Any numpy array can be saved to disk with the method `.tofile()`. For example:"
   ]
  },
  {
   "cell_type": "code",
   "execution_count": null,
   "metadata": {},
   "outputs": [],
   "source": [
    "d.nd[0].tofile('n_dd.csv', sep=',')"
   ]
  },
  {
   "cell_type": "markdown",
   "metadata": {},
   "source": [
    "The background data is stored in `Data.bg` (and `Data.bg_mean`) attribute (see [Getting the background rates](#Getting-the-background-rates) in this notebook). This attribute is dict containing lists containing arrays (scalars) and ca be saved to disk similarly.\n"
   ]
  },
  {
   "cell_type": "markdown",
   "metadata": {},
   "source": [
    "## Exporting burst data\n",
    "\n",
    "Part of burst data is stored in `Data` attributes (`mburst`, `nd`, `na`, `naa`)\n",
    "and part is computed on fly (duration, raw counts, etc.).\n",
    "\n",
    "To put all burst data in a single \"table\" (a `pandas.DataFrame`), one row\n",
    "per burst, we can use `bext.burst_data`:"
   ]
  },
  {
   "cell_type": "code",
   "execution_count": null,
   "metadata": {},
   "outputs": [],
   "source": [
    "bursts = bext.burst_data(ds)\n",
    "bursts"
   ]
  },
  {
   "cell_type": "markdown",
   "metadata": {},
   "source": [
    "> **NOTE**: For multi-spot data use the `ich` argument to get burst data\n",
    "> for the different spots.\n",
    "\n",
    "This table (as any `pandas.DataFrame`) can be saved in a CSV text file with:"
   ]
  },
  {
   "cell_type": "code",
   "execution_count": null,
   "metadata": {},
   "outputs": [],
   "source": [
    "bursts.to_csv('bursts.csv')"
   ]
  },
  {
   "cell_type": "markdown",
   "metadata": {},
   "source": [
    "# Intensity timetrace and Rate timetrace\n",
    "\n",
    "For an initial inspection of a data file, it is common to compute an intensity *timetrace* plot (or timetrace for short). \n",
    "We also can compute a similar plot called *ratetrace*, which does not bin counts \n",
    "but shows the instantaneous count rate. In both cases, it is convenient to scroll \n",
    "along the plot interactively.\n",
    "\n",
    "In FRETBursts, the two *timetrace* and *ratetrace* plots support \n",
    "interactive scrolling. We just need to switch from the inline backend \n",
    "to QT, as we did before. \n",
    "\n",
    "<br>\n",
    "<div class=\"alert alert-warning\">\n",
    "The graphical scrolling of timetraces requires a local FRETBursts installation.\n",
    "Therefore the commands below are commented by default.\n",
    "<br><br>\n",
    "If you have a local installation and you want to try commands below,\n",
    "please uncomment them by removing the inital <code>#</code>.\n",
    "</div>\n",
    "\n",
    "\n",
    "Here are the corresponding commands:"
   ]
  },
  {
   "cell_type": "code",
   "execution_count": null,
   "metadata": {},
   "outputs": [],
   "source": [
    "#%matplotlib qt"
   ]
  },
  {
   "cell_type": "code",
   "execution_count": null,
   "metadata": {},
   "outputs": [],
   "source": [
    "#dplot(ds, ratetrace, scroll=True, bursts=True)"
   ]
  },
  {
   "cell_type": "code",
   "execution_count": null,
   "metadata": {},
   "outputs": [],
   "source": [
    "#dplot(ds, timetrace, tmax=600, scroll=True, bursts=True)"
   ]
  },
  {
   "cell_type": "code",
   "execution_count": null,
   "metadata": {},
   "outputs": [],
   "source": [
    "#%matplotlib inline"
   ]
  },
  {
   "cell_type": "markdown",
   "metadata": {},
   "source": [
    "Note that, to save memory, the previous plots stops will show the first 200 s\n",
    "of measurement.\n",
    "For both `timetrace` and `ratetrace`, you can extent (or reduce) the plotted \n",
    "region passing the `tmin` and `tmax` arguments (values in seconds).\n",
    "\n",
    "> ### Related documentation:\n",
    ">\n",
    "> - [bpl.timetrace](http://fretbursts.readthedocs.org/en/latest/plots.html#fretbursts.burst_plot.timetrace)\n",
    "> - [bpl.ratetrace](http://fretbursts.readthedocs.org/en/latest/plots.html#fretbursts.burst_plot.ratetrace)"
   ]
  },
  {
   "cell_type": "markdown",
   "metadata": {},
   "source": [
    "<br>\n",
    "<div class=\"alert alert-success\">\n",
    "This ends of the tutorial.\n",
    "</div>\n",
    "\n",
    "----\n",
    "\n",
    "*Please send feedback and/or question by opening a new [GitHub Issue](https://github.com/OpenSMFS/FRETBursts/issues).*"
   ]
  }
 ],
 "metadata": {
  "kernelspec": {
   "display_name": "Python 3 (ipykernel)",
   "language": "python",
   "name": "python3"
  },
  "language_info": {
   "codemirror_mode": {
    "name": "ipython",
    "version": 3
   },
   "file_extension": ".py",
   "mimetype": "text/x-python",
   "name": "python",
   "nbconvert_exporter": "python",
   "pygments_lexer": "ipython3",
   "version": "3.12.3"
  }
 },
 "nbformat": 4,
 "nbformat_minor": 4
}
