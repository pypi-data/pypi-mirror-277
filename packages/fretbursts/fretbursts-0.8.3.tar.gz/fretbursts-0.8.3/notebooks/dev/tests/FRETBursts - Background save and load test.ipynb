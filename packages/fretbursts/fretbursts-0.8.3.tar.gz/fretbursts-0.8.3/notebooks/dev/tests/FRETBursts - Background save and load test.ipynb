{
 "metadata": {
  "name": "",
  "signature": "sha256:ffa0dce65271180c96eab4fee2b141273c492b11a54b49683b3a4bb5841ca811"
 },
 "nbformat": 3,
 "nbformat_minor": 0,
 "worksheets": [
  {
   "cells": [
    {
     "cell_type": "markdown",
     "metadata": {},
     "source": [
      "#Test the background caching mechanism"
     ]
    },
    {
     "cell_type": "markdown",
     "metadata": {},
     "source": [
      "## Load software and data"
     ]
    },
    {
     "cell_type": "code",
     "collapsed": false,
     "input": [
      "%run ../../load_fretbursts.py"
     ],
     "language": "python",
     "metadata": {},
     "outputs": [
      {
       "output_type": "stream",
       "stream": "stdout",
       "text": [
        "C:\\Data\\Antonio\\software\\src\\fretbursts\n",
        " - Optimized (cython) burst search loaded."
       ]
      },
      {
       "output_type": "stream",
       "stream": "stdout",
       "text": [
        "\n",
        " - Optimized (cython) photon counting loaded.\n",
        "\n",
        "FRETBursts revision:\n",
        " 2014-08-04 9c0d8b2 Fix bg_cache (broken since ph_sel refactor)\n"
       ]
      },
      {
       "output_type": "stream",
       "stream": "stdout",
       "text": [
        "\n"
       ]
      }
     ],
     "prompt_number": 1
    },
    {
     "cell_type": "markdown",
     "metadata": {},
     "source": [
      "Load and process the data:"
     ]
    },
    {
     "cell_type": "code",
     "collapsed": false,
     "input": [
      "data_dir = 'C:\\Data\\Antonio\\data/'"
     ],
     "language": "python",
     "metadata": {},
     "outputs": [],
     "prompt_number": 2
    },
    {
     "cell_type": "code",
     "collapsed": false,
     "input": [
      "fname = data_dir + u'/manta/2014-04-11/17d_200p_2_600mW_reall_steer_20.dat'"
     ],
     "language": "python",
     "metadata": {},
     "outputs": [],
     "prompt_number": 3
    },
    {
     "cell_type": "code",
     "collapsed": false,
     "input": [
      "d1 = loader.multispot48(fname)\n",
      "d2 = loader.multispot48(fname)"
     ],
     "language": "python",
     "metadata": {},
     "outputs": [
      {
       "output_type": "stream",
       "stream": "stdout",
       "text": [
        " - Loading HDF5 file: C:\\Data\\Antonio\\data//manta/2014-04-11/17d_200p_2_600mW_reall_steer_20.hdf5 ... "
       ]
      },
      {
       "output_type": "stream",
       "stream": "stdout",
       "text": [
        "DONE.\n"
       ]
      },
      {
       "output_type": "stream",
       "stream": "stdout",
       "text": [
        " - Loading HDF5 file: C:\\Data\\Antonio\\data//manta/2014-04-11/17d_200p_2_600mW_reall_steer_20.hdf5 ... "
       ]
      },
      {
       "output_type": "stream",
       "stream": "stdout",
       "text": [
        "DONE.\n"
       ]
      }
     ],
     "prompt_number": 4
    },
    {
     "cell_type": "code",
     "collapsed": false,
     "input": [
      "def compare_data_bg(d1, d2):\n",
      "    mch_arrays = ['bg', 'bg_dd', 'bg_ad', 'bg_aa', 'Lim', 'Ph_p']\n",
      "    scalars = ['nperiods', 'bg_time_s', 'bg_auto_th', 'bg_fun_name']\n",
      "    for name in mch_arrays:\n",
      "        for ich, arr in enumerate(d1[name]):\n",
      "            assert np.allclose(arr, d2[name][ich])\n",
      "    for name in scalars:\n",
      "        assert d1[name] == d2[name]"
     ],
     "language": "python",
     "metadata": {},
     "outputs": [],
     "prompt_number": 5
    },
    {
     "cell_type": "code",
     "collapsed": false,
     "input": [
      "#reload(bg_cache)"
     ],
     "language": "python",
     "metadata": {},
     "outputs": [],
     "prompt_number": 6
    },
    {
     "cell_type": "markdown",
     "metadata": {},
     "source": [
      "#Manual threshold"
     ]
    },
    {
     "cell_type": "code",
     "collapsed": false,
     "input": [
      "bg_cache.remove_cache(d2)"
     ],
     "language": "python",
     "metadata": {},
     "outputs": [
      {
       "output_type": "stream",
       "stream": "stdout",
       "text": [
        " * Removing all the cached background data ... "
       ]
      },
      {
       "output_type": "stream",
       "stream": "stdout",
       "text": [
        "[DONE]\n"
       ]
      }
     ],
     "prompt_number": 7
    },
    {
     "cell_type": "code",
     "collapsed": false,
     "input": [
      "d1.calc_bg(bg.exp_fit, time_s=20, tail_min_us=300)\n",
      "d2.calc_bg_cache(bg.exp_fit, time_s=20, tail_min_us=300)"
     ],
     "language": "python",
     "metadata": {},
     "outputs": [
      {
       "output_type": "stream",
       "stream": "stdout",
       "text": [
        " - Calculating BG rates ... "
       ]
      },
      {
       "output_type": "stream",
       "stream": "stdout",
       "text": [
        "[DONE]\n"
       ]
      },
      {
       "output_type": "stream",
       "stream": "stdout",
       "text": [
        " * No cached BG rates, recomputing:\n"
       ]
      },
      {
       "output_type": "stream",
       "stream": "stdout",
       "text": [
        " - Calculating BG rates ... "
       ]
      },
      {
       "output_type": "stream",
       "stream": "stdout",
       "text": [
        "[DONE]\n"
       ]
      },
      {
       "output_type": "stream",
       "stream": "stdout",
       "text": [
        " * Storing BG  to disk ... "
       ]
      },
      {
       "output_type": "stream",
       "stream": "stdout",
       "text": [
        "\n",
        " - Saving arrays/scalars: "
       ]
      },
      {
       "output_type": "stream",
       "stream": "stdout",
       "text": [
        "bg, "
       ]
      },
      {
       "output_type": "stream",
       "stream": "stdout",
       "text": [
        "bg_time_s, "
       ]
      },
      {
       "output_type": "stream",
       "stream": "stdout",
       "text": [
        "Ph_p, "
       ]
      },
      {
       "output_type": "stream",
       "stream": "stdout",
       "text": [
        "Lim, "
       ]
      },
      {
       "output_type": "stream",
       "stream": "stdout",
       "text": [
        "nperiods, "
       ]
      },
      {
       "output_type": "stream",
       "stream": "stdout",
       "text": [
        "bg_dd, "
       ]
      },
      {
       "output_type": "stream",
       "stream": "stdout",
       "text": [
        "bg_auto_th, "
       ]
      },
      {
       "output_type": "stream",
       "stream": "stdout",
       "text": [
        "bg_da, "
       ]
      },
      {
       "output_type": "stream",
       "stream": "stdout",
       "text": [
        "bg_th_us_user, "
       ]
      },
      {
       "output_type": "stream",
       "stream": "stdout",
       "text": [
        "bg_aa, "
       ]
      },
      {
       "output_type": "stream",
       "stream": "stdout",
       "text": [
        "bg_ad, "
       ]
      },
      {
       "output_type": "stream",
       "stream": "stdout",
       "text": [
        "\n",
        " - Saving HDF5 attributes: "
       ]
      },
      {
       "output_type": "stream",
       "stream": "stdout",
       "text": [
        "bg_fun, "
       ]
      },
      {
       "output_type": "stream",
       "stream": "stdout",
       "text": [
        "bg_fun_name, "
       ]
      },
      {
       "output_type": "stream",
       "stream": "stdout",
       "text": [
        "\n"
       ]
      },
      {
       "output_type": "stream",
       "stream": "stdout",
       "text": [
        " [DONE]\n"
       ]
      }
     ],
     "prompt_number": 8
    },
    {
     "cell_type": "code",
     "collapsed": false,
     "input": [
      "compare_data_bg(d1, d2)"
     ],
     "language": "python",
     "metadata": {},
     "outputs": [],
     "prompt_number": 9
    },
    {
     "cell_type": "code",
     "collapsed": false,
     "input": [
      "d2.calc_bg_cache(bg.exp_fit, time_s=20, tail_min_us=300)"
     ],
     "language": "python",
     "metadata": {},
     "outputs": [
      {
       "output_type": "stream",
       "stream": "stdout",
       "text": [
        " * Loading BG rates from cache ... "
       ]
      },
      {
       "output_type": "stream",
       "stream": "stdout",
       "text": [
        "\n",
        " - Loading arrays/scalars: "
       ]
      },
      {
       "output_type": "stream",
       "stream": "stdout",
       "text": [
        "Lim, "
       ]
      },
      {
       "output_type": "stream",
       "stream": "stdout",
       "text": [
        "Ph_p, "
       ]
      },
      {
       "output_type": "stream",
       "stream": "stdout",
       "text": [
        "bg, "
       ]
      },
      {
       "output_type": "stream",
       "stream": "stdout",
       "text": [
        "bg_aa, "
       ]
      },
      {
       "output_type": "stream",
       "stream": "stdout",
       "text": [
        "bg_ad, "
       ]
      },
      {
       "output_type": "stream",
       "stream": "stdout",
       "text": [
        "bg_auto_th, "
       ]
      },
      {
       "output_type": "stream",
       "stream": "stdout",
       "text": [
        "bg_da, "
       ]
      },
      {
       "output_type": "stream",
       "stream": "stdout",
       "text": [
        "bg_dd, "
       ]
      },
      {
       "output_type": "stream",
       "stream": "stdout",
       "text": [
        "bg_th_us_user, "
       ]
      },
      {
       "output_type": "stream",
       "stream": "stdout",
       "text": [
        "bg_time_s, "
       ]
      },
      {
       "output_type": "stream",
       "stream": "stdout",
       "text": [
        "nperiods, "
       ]
      },
      {
       "output_type": "stream",
       "stream": "stdout",
       "text": [
        "\n",
        " - Loading HDF5 attributes: "
       ]
      },
      {
       "output_type": "stream",
       "stream": "stdout",
       "text": [
        "bg_fun, "
       ]
      },
      {
       "output_type": "stream",
       "stream": "stdout",
       "text": [
        "bg_fun_name, "
       ]
      },
      {
       "output_type": "stream",
       "stream": "stdout",
       "text": [
        "signature, "
       ]
      },
      {
       "output_type": "stream",
       "stream": "stdout",
       "text": [
        "\n",
        " - Generating additional fields: "
       ]
      },
      {
       "output_type": "stream",
       "stream": "stdout",
       "text": [
        "bg, "
       ]
      },
      {
       "output_type": "stream",
       "stream": "stdout",
       "text": [
        "bg_dd, "
       ]
      },
      {
       "output_type": "stream",
       "stream": "stdout",
       "text": [
        "bg_ad, "
       ]
      },
      {
       "output_type": "stream",
       "stream": "stdout",
       "text": [
        "bg_da, "
       ]
      },
      {
       "output_type": "stream",
       "stream": "stdout",
       "text": [
        "bg_aa, "
       ]
      },
      {
       "output_type": "stream",
       "stream": "stdout",
       "text": [
        "\n"
       ]
      },
      {
       "output_type": "stream",
       "stream": "stdout",
       "text": [
        " [DONE]\n"
       ]
      }
     ],
     "prompt_number": 10
    },
    {
     "cell_type": "code",
     "collapsed": false,
     "input": [
      "compare_data_bg(d1, d2)"
     ],
     "language": "python",
     "metadata": {},
     "outputs": [],
     "prompt_number": 11
    },
    {
     "cell_type": "markdown",
     "metadata": {},
     "source": [
      "#Auto threshold"
     ]
    },
    {
     "cell_type": "code",
     "collapsed": false,
     "input": [
      "d1.calc_bg(bg.exp_fit, time_s=20, tail_min_us='auto', F_bg=1.7)\n",
      "d2.calc_bg_cache(bg.exp_fit, time_s=20, tail_min_us='auto', F_bg=1.7)"
     ],
     "language": "python",
     "metadata": {},
     "outputs": [
      {
       "output_type": "stream",
       "stream": "stdout",
       "text": [
        " - Calculating BG rates ... "
       ]
      },
      {
       "output_type": "stream",
       "stream": "stdout",
       "text": [
        "[DONE]\n"
       ]
      },
      {
       "output_type": "stream",
       "stream": "stdout",
       "text": [
        " * No cached BG rates, recomputing:\n"
       ]
      },
      {
       "output_type": "stream",
       "stream": "stdout",
       "text": [
        " - Calculating BG rates ... "
       ]
      },
      {
       "output_type": "stream",
       "stream": "stdout",
       "text": [
        "[DONE]\n"
       ]
      },
      {
       "output_type": "stream",
       "stream": "stdout",
       "text": [
        " * Storing BG  to disk ... "
       ]
      },
      {
       "output_type": "stream",
       "stream": "stdout",
       "text": [
        "\n",
        " - Saving arrays/scalars: "
       ]
      },
      {
       "output_type": "stream",
       "stream": "stdout",
       "text": [
        "bg_auto_F_bg, "
       ]
      },
      {
       "output_type": "stream",
       "stream": "stdout",
       "text": [
        "bg, "
       ]
      },
      {
       "output_type": "stream",
       "stream": "stdout",
       "text": [
        "bg_time_s, "
       ]
      },
      {
       "output_type": "stream",
       "stream": "stdout",
       "text": [
        "Ph_p, "
       ]
      },
      {
       "output_type": "stream",
       "stream": "stdout",
       "text": [
        "Lim, "
       ]
      },
      {
       "output_type": "stream",
       "stream": "stdout",
       "text": [
        "nperiods, "
       ]
      },
      {
       "output_type": "stream",
       "stream": "stdout",
       "text": [
        "bg_dd, "
       ]
      },
      {
       "output_type": "stream",
       "stream": "stdout",
       "text": [
        "bg_auto_th, "
       ]
      },
      {
       "output_type": "stream",
       "stream": "stdout",
       "text": [
        "bg_da, "
       ]
      },
      {
       "output_type": "stream",
       "stream": "stdout",
       "text": [
        "bg_auto_th_us0, "
       ]
      },
      {
       "output_type": "stream",
       "stream": "stdout",
       "text": [
        "bg_aa, "
       ]
      },
      {
       "output_type": "stream",
       "stream": "stdout",
       "text": [
        "bg_ad, "
       ]
      },
      {
       "output_type": "stream",
       "stream": "stdout",
       "text": [
        "\n",
        " - Saving HDF5 attributes: "
       ]
      },
      {
       "output_type": "stream",
       "stream": "stdout",
       "text": [
        "bg_fun, "
       ]
      },
      {
       "output_type": "stream",
       "stream": "stdout",
       "text": [
        "bg_fun_name, "
       ]
      },
      {
       "output_type": "stream",
       "stream": "stdout",
       "text": [
        "\n"
       ]
      },
      {
       "output_type": "stream",
       "stream": "stdout",
       "text": [
        " [DONE]\n"
       ]
      }
     ],
     "prompt_number": 12
    },
    {
     "cell_type": "code",
     "collapsed": false,
     "input": [
      "compare_data_bg(d1, d2)"
     ],
     "language": "python",
     "metadata": {},
     "outputs": [],
     "prompt_number": 13
    },
    {
     "cell_type": "code",
     "collapsed": false,
     "input": [
      "d2.calc_bg_cache(bg.exp_fit, time_s=20, tail_min_us='auto', F_bg=1.7)"
     ],
     "language": "python",
     "metadata": {},
     "outputs": [
      {
       "output_type": "stream",
       "stream": "stdout",
       "text": [
        " * Loading BG rates from cache ... "
       ]
      },
      {
       "output_type": "stream",
       "stream": "stdout",
       "text": [
        "\n",
        " - Loading arrays/scalars: "
       ]
      },
      {
       "output_type": "stream",
       "stream": "stdout",
       "text": [
        "Lim, "
       ]
      },
      {
       "output_type": "stream",
       "stream": "stdout",
       "text": [
        "Ph_p, "
       ]
      },
      {
       "output_type": "stream",
       "stream": "stdout",
       "text": [
        "bg, "
       ]
      },
      {
       "output_type": "stream",
       "stream": "stdout",
       "text": [
        "bg_aa, "
       ]
      },
      {
       "output_type": "stream",
       "stream": "stdout",
       "text": [
        "bg_ad, "
       ]
      },
      {
       "output_type": "stream",
       "stream": "stdout",
       "text": [
        "bg_auto_F_bg, "
       ]
      },
      {
       "output_type": "stream",
       "stream": "stdout",
       "text": [
        "bg_auto_th, "
       ]
      },
      {
       "output_type": "stream",
       "stream": "stdout",
       "text": [
        "bg_auto_th_us0, "
       ]
      },
      {
       "output_type": "stream",
       "stream": "stdout",
       "text": [
        "bg_da, "
       ]
      },
      {
       "output_type": "stream",
       "stream": "stdout",
       "text": [
        "bg_dd, "
       ]
      },
      {
       "output_type": "stream",
       "stream": "stdout",
       "text": [
        "bg_time_s, "
       ]
      },
      {
       "output_type": "stream",
       "stream": "stdout",
       "text": [
        "nperiods, "
       ]
      },
      {
       "output_type": "stream",
       "stream": "stdout",
       "text": [
        "\n",
        " - Loading HDF5 attributes: "
       ]
      },
      {
       "output_type": "stream",
       "stream": "stdout",
       "text": [
        "bg_fun, "
       ]
      },
      {
       "output_type": "stream",
       "stream": "stdout",
       "text": [
        "bg_fun_name, "
       ]
      },
      {
       "output_type": "stream",
       "stream": "stdout",
       "text": [
        "signature, "
       ]
      },
      {
       "output_type": "stream",
       "stream": "stdout",
       "text": [
        "\n",
        " - Generating additional fields: "
       ]
      },
      {
       "output_type": "stream",
       "stream": "stdout",
       "text": [
        "bg, "
       ]
      },
      {
       "output_type": "stream",
       "stream": "stdout",
       "text": [
        "bg_dd, "
       ]
      },
      {
       "output_type": "stream",
       "stream": "stdout",
       "text": [
        "bg_ad, "
       ]
      },
      {
       "output_type": "stream",
       "stream": "stdout",
       "text": [
        "bg_da, "
       ]
      },
      {
       "output_type": "stream",
       "stream": "stdout",
       "text": [
        "bg_aa, "
       ]
      },
      {
       "output_type": "stream",
       "stream": "stdout",
       "text": [
        "\n"
       ]
      },
      {
       "output_type": "stream",
       "stream": "stdout",
       "text": [
        " [DONE]\n"
       ]
      }
     ],
     "prompt_number": 14
    },
    {
     "cell_type": "code",
     "collapsed": false,
     "input": [
      "compare_data_bg(d1, d2)"
     ],
     "language": "python",
     "metadata": {},
     "outputs": [],
     "prompt_number": 15
    },
    {
     "cell_type": "markdown",
     "metadata": {},
     "source": [
      "#Direct test of bg_cache function"
     ]
    },
    {
     "cell_type": "code",
     "collapsed": false,
     "input": [
      "bg_cache.remove_cache(d2)"
     ],
     "language": "python",
     "metadata": {},
     "outputs": [
      {
       "output_type": "stream",
       "stream": "stdout",
       "text": [
        " * Removing all the cached background data ... "
       ]
      },
      {
       "output_type": "stream",
       "stream": "stdout",
       "text": [
        "[DONE]\n"
       ]
      }
     ],
     "prompt_number": 16
    },
    {
     "cell_type": "code",
     "collapsed": false,
     "input": [
      "d1.calc_bg(bg.exp_fit, time_s=20, tail_min_us=300)\n",
      "bg_cache.calc_bg_cache(d2, fun=bg.exp_fit, time_s=20, tail_min_us=300)"
     ],
     "language": "python",
     "metadata": {},
     "outputs": [
      {
       "output_type": "stream",
       "stream": "stdout",
       "text": [
        " - Calculating BG rates ... "
       ]
      },
      {
       "output_type": "stream",
       "stream": "stdout",
       "text": [
        "[DONE]\n"
       ]
      },
      {
       "output_type": "stream",
       "stream": "stdout",
       "text": [
        " * No cached BG rates, recomputing:\n"
       ]
      },
      {
       "output_type": "stream",
       "stream": "stdout",
       "text": [
        " - Calculating BG rates ... "
       ]
      },
      {
       "output_type": "stream",
       "stream": "stdout",
       "text": [
        "[DONE]\n"
       ]
      },
      {
       "output_type": "stream",
       "stream": "stdout",
       "text": [
        " * Storing BG  to disk ... "
       ]
      },
      {
       "output_type": "stream",
       "stream": "stdout",
       "text": [
        "\n",
        " - Saving arrays/scalars: "
       ]
      },
      {
       "output_type": "stream",
       "stream": "stdout",
       "text": [
        "bg, "
       ]
      },
      {
       "output_type": "stream",
       "stream": "stdout",
       "text": [
        "bg_time_s, "
       ]
      },
      {
       "output_type": "stream",
       "stream": "stdout",
       "text": [
        "Ph_p, "
       ]
      },
      {
       "output_type": "stream",
       "stream": "stdout",
       "text": [
        "Lim, "
       ]
      },
      {
       "output_type": "stream",
       "stream": "stdout",
       "text": [
        "nperiods, "
       ]
      },
      {
       "output_type": "stream",
       "stream": "stdout",
       "text": [
        "bg_dd, "
       ]
      },
      {
       "output_type": "stream",
       "stream": "stdout",
       "text": [
        "bg_auto_th, "
       ]
      },
      {
       "output_type": "stream",
       "stream": "stdout",
       "text": [
        "bg_da, "
       ]
      },
      {
       "output_type": "stream",
       "stream": "stdout",
       "text": [
        "bg_th_us_user, "
       ]
      },
      {
       "output_type": "stream",
       "stream": "stdout",
       "text": [
        "bg_aa, "
       ]
      },
      {
       "output_type": "stream",
       "stream": "stdout",
       "text": [
        "bg_ad, "
       ]
      },
      {
       "output_type": "stream",
       "stream": "stdout",
       "text": [
        "\n",
        " - Saving HDF5 attributes: "
       ]
      },
      {
       "output_type": "stream",
       "stream": "stdout",
       "text": [
        "bg_fun, "
       ]
      },
      {
       "output_type": "stream",
       "stream": "stdout",
       "text": [
        "bg_fun_name, "
       ]
      },
      {
       "output_type": "stream",
       "stream": "stdout",
       "text": [
        "\n"
       ]
      },
      {
       "output_type": "stream",
       "stream": "stdout",
       "text": [
        " [DONE]\n"
       ]
      }
     ],
     "prompt_number": 17
    },
    {
     "cell_type": "code",
     "collapsed": false,
     "input": [
      "compare_data_bg(d1, d2)"
     ],
     "language": "python",
     "metadata": {},
     "outputs": [],
     "prompt_number": 18
    },
    {
     "cell_type": "code",
     "collapsed": false,
     "input": [
      "bg_cache.calc_bg_cache(d2, fun=bg.exp_fit, time_s=20, tail_min_us=300)"
     ],
     "language": "python",
     "metadata": {},
     "outputs": [
      {
       "output_type": "stream",
       "stream": "stdout",
       "text": [
        " * Loading BG rates from cache ... "
       ]
      },
      {
       "output_type": "stream",
       "stream": "stdout",
       "text": [
        "\n",
        " - Loading arrays/scalars: "
       ]
      },
      {
       "output_type": "stream",
       "stream": "stdout",
       "text": [
        "Lim, "
       ]
      },
      {
       "output_type": "stream",
       "stream": "stdout",
       "text": [
        "Ph_p, "
       ]
      },
      {
       "output_type": "stream",
       "stream": "stdout",
       "text": [
        "bg, "
       ]
      },
      {
       "output_type": "stream",
       "stream": "stdout",
       "text": [
        "bg_aa, "
       ]
      },
      {
       "output_type": "stream",
       "stream": "stdout",
       "text": [
        "bg_ad, "
       ]
      },
      {
       "output_type": "stream",
       "stream": "stdout",
       "text": [
        "bg_auto_th, "
       ]
      },
      {
       "output_type": "stream",
       "stream": "stdout",
       "text": [
        "bg_da, "
       ]
      },
      {
       "output_type": "stream",
       "stream": "stdout",
       "text": [
        "bg_dd, "
       ]
      },
      {
       "output_type": "stream",
       "stream": "stdout",
       "text": [
        "bg_th_us_user, "
       ]
      },
      {
       "output_type": "stream",
       "stream": "stdout",
       "text": [
        "bg_time_s, "
       ]
      },
      {
       "output_type": "stream",
       "stream": "stdout",
       "text": [
        "nperiods, "
       ]
      },
      {
       "output_type": "stream",
       "stream": "stdout",
       "text": [
        "\n",
        " - Loading HDF5 attributes: "
       ]
      },
      {
       "output_type": "stream",
       "stream": "stdout",
       "text": [
        "bg_fun, "
       ]
      },
      {
       "output_type": "stream",
       "stream": "stdout",
       "text": [
        "bg_fun_name, "
       ]
      },
      {
       "output_type": "stream",
       "stream": "stdout",
       "text": [
        "signature, "
       ]
      },
      {
       "output_type": "stream",
       "stream": "stdout",
       "text": [
        "\n",
        " - Generating additional fields: "
       ]
      },
      {
       "output_type": "stream",
       "stream": "stdout",
       "text": [
        "bg, "
       ]
      },
      {
       "output_type": "stream",
       "stream": "stdout",
       "text": [
        "bg_dd, "
       ]
      },
      {
       "output_type": "stream",
       "stream": "stdout",
       "text": [
        "bg_ad, "
       ]
      },
      {
       "output_type": "stream",
       "stream": "stdout",
       "text": [
        "bg_da, "
       ]
      },
      {
       "output_type": "stream",
       "stream": "stdout",
       "text": [
        "bg_aa, "
       ]
      },
      {
       "output_type": "stream",
       "stream": "stdout",
       "text": [
        "\n"
       ]
      },
      {
       "output_type": "stream",
       "stream": "stdout",
       "text": [
        " [DONE]\n"
       ]
      }
     ],
     "prompt_number": 19
    },
    {
     "cell_type": "code",
     "collapsed": false,
     "input": [
      "compare_data_bg(d1, d2)"
     ],
     "language": "python",
     "metadata": {},
     "outputs": [],
     "prompt_number": 20
    },
    {
     "cell_type": "code",
     "collapsed": false,
     "input": [
      "d1.calc_bg(bg.exp_fit, time_s=20, tail_min_us='auto', F_bg=1.7)\n",
      "bg_cache.calc_bg_cache(d2, fun=bg.exp_fit, time_s=20, tail_min_us='auto', F_bg=1.7)"
     ],
     "language": "python",
     "metadata": {},
     "outputs": [
      {
       "output_type": "stream",
       "stream": "stdout",
       "text": [
        " - Calculating BG rates ... "
       ]
      },
      {
       "output_type": "stream",
       "stream": "stdout",
       "text": [
        "[DONE]\n"
       ]
      },
      {
       "output_type": "stream",
       "stream": "stdout",
       "text": [
        " * No cached BG rates, recomputing:\n"
       ]
      },
      {
       "output_type": "stream",
       "stream": "stdout",
       "text": [
        " - Calculating BG rates ... "
       ]
      },
      {
       "output_type": "stream",
       "stream": "stdout",
       "text": [
        "[DONE]\n"
       ]
      },
      {
       "output_type": "stream",
       "stream": "stdout",
       "text": [
        " * Storing BG  to disk ... "
       ]
      },
      {
       "output_type": "stream",
       "stream": "stdout",
       "text": [
        "\n",
        " - Saving arrays/scalars: "
       ]
      },
      {
       "output_type": "stream",
       "stream": "stdout",
       "text": [
        "bg_auto_F_bg, "
       ]
      },
      {
       "output_type": "stream",
       "stream": "stdout",
       "text": [
        "bg, "
       ]
      },
      {
       "output_type": "stream",
       "stream": "stdout",
       "text": [
        "bg_time_s, "
       ]
      },
      {
       "output_type": "stream",
       "stream": "stdout",
       "text": [
        "Ph_p, "
       ]
      },
      {
       "output_type": "stream",
       "stream": "stdout",
       "text": [
        "Lim, "
       ]
      },
      {
       "output_type": "stream",
       "stream": "stdout",
       "text": [
        "nperiods, "
       ]
      },
      {
       "output_type": "stream",
       "stream": "stdout",
       "text": [
        "bg_dd, "
       ]
      },
      {
       "output_type": "stream",
       "stream": "stdout",
       "text": [
        "bg_auto_th, "
       ]
      },
      {
       "output_type": "stream",
       "stream": "stdout",
       "text": [
        "bg_da, "
       ]
      },
      {
       "output_type": "stream",
       "stream": "stdout",
       "text": [
        "bg_auto_th_us0, "
       ]
      },
      {
       "output_type": "stream",
       "stream": "stdout",
       "text": [
        "bg_aa, "
       ]
      },
      {
       "output_type": "stream",
       "stream": "stdout",
       "text": [
        "bg_ad, "
       ]
      },
      {
       "output_type": "stream",
       "stream": "stdout",
       "text": [
        "\n",
        " - Saving HDF5 attributes: "
       ]
      },
      {
       "output_type": "stream",
       "stream": "stdout",
       "text": [
        "bg_fun, "
       ]
      },
      {
       "output_type": "stream",
       "stream": "stdout",
       "text": [
        "bg_fun_name, "
       ]
      },
      {
       "output_type": "stream",
       "stream": "stdout",
       "text": [
        "\n"
       ]
      },
      {
       "output_type": "stream",
       "stream": "stdout",
       "text": [
        " [DONE]\n"
       ]
      }
     ],
     "prompt_number": 21
    },
    {
     "cell_type": "code",
     "collapsed": false,
     "input": [
      "compare_data_bg(d1, d2)"
     ],
     "language": "python",
     "metadata": {},
     "outputs": [],
     "prompt_number": 22
    },
    {
     "cell_type": "code",
     "collapsed": false,
     "input": [
      "bg_cache.calc_bg_cache(d2, fun=bg.exp_fit, time_s=20, tail_min_us='auto', F_bg=1.7)"
     ],
     "language": "python",
     "metadata": {},
     "outputs": [
      {
       "output_type": "stream",
       "stream": "stdout",
       "text": [
        " * Loading BG rates from cache ... "
       ]
      },
      {
       "output_type": "stream",
       "stream": "stdout",
       "text": [
        "\n",
        " - Loading arrays/scalars: "
       ]
      },
      {
       "output_type": "stream",
       "stream": "stdout",
       "text": [
        "Lim, "
       ]
      },
      {
       "output_type": "stream",
       "stream": "stdout",
       "text": [
        "Ph_p, "
       ]
      },
      {
       "output_type": "stream",
       "stream": "stdout",
       "text": [
        "bg, "
       ]
      },
      {
       "output_type": "stream",
       "stream": "stdout",
       "text": [
        "bg_aa, "
       ]
      },
      {
       "output_type": "stream",
       "stream": "stdout",
       "text": [
        "bg_ad, "
       ]
      },
      {
       "output_type": "stream",
       "stream": "stdout",
       "text": [
        "bg_auto_F_bg, "
       ]
      },
      {
       "output_type": "stream",
       "stream": "stdout",
       "text": [
        "bg_auto_th, "
       ]
      },
      {
       "output_type": "stream",
       "stream": "stdout",
       "text": [
        "bg_auto_th_us0, "
       ]
      },
      {
       "output_type": "stream",
       "stream": "stdout",
       "text": [
        "bg_da, "
       ]
      },
      {
       "output_type": "stream",
       "stream": "stdout",
       "text": [
        "bg_dd, "
       ]
      },
      {
       "output_type": "stream",
       "stream": "stdout",
       "text": [
        "bg_time_s, "
       ]
      },
      {
       "output_type": "stream",
       "stream": "stdout",
       "text": [
        "nperiods, "
       ]
      },
      {
       "output_type": "stream",
       "stream": "stdout",
       "text": [
        "\n",
        " - Loading HDF5 attributes: "
       ]
      },
      {
       "output_type": "stream",
       "stream": "stdout",
       "text": [
        "bg_fun, "
       ]
      },
      {
       "output_type": "stream",
       "stream": "stdout",
       "text": [
        "bg_fun_name, "
       ]
      },
      {
       "output_type": "stream",
       "stream": "stdout",
       "text": [
        "signature, "
       ]
      },
      {
       "output_type": "stream",
       "stream": "stdout",
       "text": [
        "\n",
        " - Generating additional fields: "
       ]
      },
      {
       "output_type": "stream",
       "stream": "stdout",
       "text": [
        "bg, "
       ]
      },
      {
       "output_type": "stream",
       "stream": "stdout",
       "text": [
        "bg_dd, "
       ]
      },
      {
       "output_type": "stream",
       "stream": "stdout",
       "text": [
        "bg_ad, "
       ]
      },
      {
       "output_type": "stream",
       "stream": "stdout",
       "text": [
        "bg_da, "
       ]
      },
      {
       "output_type": "stream",
       "stream": "stdout",
       "text": [
        "bg_aa, "
       ]
      },
      {
       "output_type": "stream",
       "stream": "stdout",
       "text": [
        "\n"
       ]
      },
      {
       "output_type": "stream",
       "stream": "stdout",
       "text": [
        " [DONE]\n"
       ]
      }
     ],
     "prompt_number": 23
    },
    {
     "cell_type": "code",
     "collapsed": false,
     "input": [
      "compare_data_bg(d1, d2)"
     ],
     "language": "python",
     "metadata": {},
     "outputs": [],
     "prompt_number": 24
    },
    {
     "cell_type": "code",
     "collapsed": false,
     "input": [
      "print 'OK'"
     ],
     "language": "python",
     "metadata": {},
     "outputs": [
      {
       "output_type": "stream",
       "stream": "stdout",
       "text": [
        "OK\n"
       ]
      }
     ],
     "prompt_number": 25
    },
    {
     "cell_type": "code",
     "collapsed": false,
     "input": [],
     "language": "python",
     "metadata": {},
     "outputs": [],
     "prompt_number": 25
    }
   ],
   "metadata": {}
  }
 ]
}