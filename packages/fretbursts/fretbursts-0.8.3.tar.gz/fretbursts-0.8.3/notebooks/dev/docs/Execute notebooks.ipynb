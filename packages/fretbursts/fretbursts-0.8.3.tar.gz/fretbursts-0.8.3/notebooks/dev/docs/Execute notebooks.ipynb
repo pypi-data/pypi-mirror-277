{
 "cells": [
  {
   "cell_type": "markdown",
   "metadata": {},
   "source": [
    "# Execute notebooks\n",
    "\n",
    "This notebook executes all the FRETBursts tutorial notebooks to automate the creation of notebooks for the [FRETBursts_notebooks](https://github.com/OpenSMFS/FRETBursts_notebooks) repository."
   ]
  },
  {
   "cell_type": "code",
   "execution_count": null,
   "metadata": {
    "collapsed": false
   },
   "outputs": [],
   "source": [
    "import nbconvert\n",
    "nbconvert.__version__"
   ]
  },
  {
   "cell_type": "code",
   "execution_count": null,
   "metadata": {
    "collapsed": true
   },
   "outputs": [],
   "source": [
    "import os\n",
    "from pathlib import Path\n",
    "\n",
    "import nbformat\n",
    "from nbconvert.preprocessors import ExecutePreprocessor\n",
    "from IPython.display import display, FileLink\n",
    "\n",
    "\n",
    "def run_notebook(in_filepath, run_path=None, out_dir=None, out_suffix=''):\n",
    "    \"\"\"Runs the notebook `notebook_name` (file name with no extension).\n",
    "\n",
    "    This function executes notebook with name `notebook_name` (no extension)\n",
    "    and saves the fully executed notebook in a new file appending \"-out\"\n",
    "    to the original file name.\n",
    "\n",
    "    It also displays links to the original and executed notebooks.\n",
    "    \"\"\"\n",
    "    if not in_filepath.is_file():\n",
    "        raise IOError('File \"%s\" not found.' % in_filepath)\n",
    "    in_filepath = in_filepath.resolve()\n",
    "    \n",
    "    if run_path is None:\n",
    "        run_path = str(in_filepath.parent)\n",
    "    \n",
    "    if out_dir is None:\n",
    "        out_dir = in_filepath.parent\n",
    "    else:\n",
    "        out_dir = Path(out_dir).resolve()\n",
    "       \n",
    "    out_filepath = Path(out_dir, \"%s%s.ipynb\" % (in_filepath.stem, out_suffix))\n",
    "    \n",
    "    nb = nbformat.read(in_filepath.open(), as_version=4)\n",
    "    ep = ExecutePreprocessor(timeout = 3600)\n",
    "\n",
    "    try:\n",
    "        out = ep.preprocess(nb, {'metadata': {'path': run_path}})\n",
    "    except Exception:\n",
    "        msg = 'Error executing the notebook \"%s\".\\n\\n' % in_filepath\n",
    "        msg += 'See notebook \"%s\" for the traceback.' % out_filepath\n",
    "        print(msg)\n",
    "        raise\n",
    "    finally:\n",
    "        nbformat.write(nb, out_filepath.open(mode='wt'))"
   ]
  },
  {
   "cell_type": "code",
   "execution_count": null,
   "metadata": {
    "collapsed": false
   },
   "outputs": [],
   "source": [
    "%pwd"
   ]
  },
  {
   "cell_type": "code",
   "execution_count": null,
   "metadata": {
    "collapsed": false
   },
   "outputs": [],
   "source": [
    "pathlist = list(Path('../..').glob('*.ipynb'))\n",
    "pathlist"
   ]
  },
  {
   "cell_type": "code",
   "execution_count": null,
   "metadata": {
    "collapsed": false
   },
   "outputs": [],
   "source": [
    "for nbpath in pathlist:\n",
    "    if not nbpath.stem.startswith('_'):\n",
    "        print(nbpath.stem)\n",
    "        run_notebook(nbpath, out_dir=Path(nbpath.parent, 'out'))"
   ]
  },
  {
   "cell_type": "code",
   "execution_count": null,
   "metadata": {
    "collapsed": false,
    "scrolled": true
   },
   "outputs": [],
   "source": [
    "cd ../.."
   ]
  },
  {
   "cell_type": "code",
   "execution_count": null,
   "metadata": {
    "collapsed": false
   },
   "outputs": [],
   "source": [
    "pwd"
   ]
  },
  {
   "cell_type": "code",
   "execution_count": null,
   "metadata": {
    "collapsed": false
   },
   "outputs": [],
   "source": [
    "!cp out/*.ipynb ../../FRETBursts_notebooks/notebooks"
   ]
  },
  {
   "cell_type": "code",
   "execution_count": null,
   "metadata": {
    "collapsed": true
   },
   "outputs": [],
   "source": []
  }
 ],
 "metadata": {
  "kernelspec": {
   "display_name": "Python 3",
   "language": "python",
   "name": "python3"
  },
  "language_info": {
   "codemirror_mode": {
    "name": "ipython",
    "version": 3
   },
   "file_extension": ".py",
   "mimetype": "text/x-python",
   "name": "python",
   "nbconvert_exporter": "python",
   "pygments_lexer": "ipython3",
   "version": "3.5.1"
  }
 },
 "nbformat": 4,
 "nbformat_minor": 0
}
