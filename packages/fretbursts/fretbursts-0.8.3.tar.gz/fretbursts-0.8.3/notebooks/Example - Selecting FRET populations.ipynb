{
 "cells": [
  {
   "cell_type": "markdown",
   "metadata": {},
   "source": [
    "# Example - Selecting FRET populations\n",
    "\n",
    "*This notebook is part of smFRET burst analysis software [FRETBursts](http://opensmfs.github.io/FRETBursts/).*"
   ]
  },
  {
   "cell_type": "markdown",
   "metadata": {},
   "source": [
    "> In this notebook shows two methods to select FRET populations: size filtering and DCBS.\n",
    "> For a complete tutorial on burst analysis see \n",
    "> [FRETBursts - us-ALEX smFRET burst analysis](FRETBursts - us-ALEX smFRET burst analysis.ipynb)."
   ]
  },
  {
   "cell_type": "code",
   "execution_count": null,
   "metadata": {},
   "outputs": [],
   "source": [
    "from fretbursts import *"
   ]
  },
  {
   "cell_type": "code",
   "execution_count": null,
   "metadata": {},
   "outputs": [],
   "source": [
    "sns = init_notebook(apionly=True)\n",
    "print('seaborn version: ', sns.__version__)"
   ]
  },
  {
   "cell_type": "code",
   "execution_count": null,
   "metadata": {},
   "outputs": [],
   "source": [
    "# Tweak here matplotlib style\n",
    "import matplotlib as mpl\n",
    "mpl.rcParams['font.sans-serif'].insert(0, 'Arial')\n",
    "mpl.rcParams['font.size'] = 12\n",
    "%config InlineBackend.figure_format = 'retina'"
   ]
  },
  {
   "cell_type": "markdown",
   "metadata": {},
   "source": [
    "# Get and process data"
   ]
  },
  {
   "cell_type": "code",
   "execution_count": null,
   "metadata": {},
   "outputs": [],
   "source": [
    "url = 'http://files.figshare.com/2182601/0023uLRpitc_NTP_20dT_0.5GndCl.hdf5'\n",
    "download_file(url, save_dir='./data')\n",
    "full_fname = \"./data/0023uLRpitc_NTP_20dT_0.5GndCl.hdf5\"\n",
    "\n",
    "d = loader.photon_hdf5(full_fname)\n",
    "loader.alex_apply_period(d)\n",
    "d.calc_bg(bg.exp_fit, time_s=1000, tail_min_us=(800, 4000, 1500, 1000, 3000))\n",
    "d.burst_search(min_rate_cps=8e3)\n",
    "ds = d.select_bursts(select_bursts.size, add_naa=True, th1=40)"
   ]
  },
  {
   "cell_type": "markdown",
   "metadata": {},
   "source": [
    "# Filtering method\n",
    "\n",
    "We can select the FRET population (S ~ 0.5) combining these two filters:\n",
    "\n",
    "1. Filter out A-only: select bursts with counts during $D_{ex}$ > threshold\n",
    "2. Filter out D-only: select bursts with counts in $A_{ex}A_{em}$ > threshold\n",
    "\n",
    "In code, this becomes:"
   ]
  },
  {
   "cell_type": "code",
   "execution_count": null,
   "metadata": {},
   "outputs": [],
   "source": [
    "ds_no_Aonly = ds.select_bursts(select_bursts.size, th1=30)\n",
    "ds_fret = ds_no_Aonly.select_bursts(select_bursts.naa, th1=30)\n",
    "\n",
    "alex_jointplot(ds)\n",
    "alex_jointplot(ds_fret);"
   ]
  },
  {
   "cell_type": "markdown",
   "metadata": {},
   "source": [
    "## DCBS Method\n",
    "\n",
    "With Dual-channel Burst Search (DCBS),\n",
    "we define bursts as the intersection of a burst search performed on $D_{ex}$ stream and \n",
    "one performed on $A_{ex}A_{em}$ stream (see ([Nir et al. JPC 2006](doi.org/10.1021/jp063483n))).\n",
    "\n",
    "In this way we filter D-only and A-only bursts,\n",
    "but also we reduce the burst duration of FRET bursts to the portion where\n",
    "$D_{ex}$ and $A_{ex}A_{em}$ both give signal. This property allows filtering \n",
    "acceptor photo-blinking, that causes part of a burst to appear as D-only.\n",
    "\n",
    "To perform DCBS in FRETBursts we use:"
   ]
  },
  {
   "cell_type": "code",
   "execution_count": null,
   "metadata": {},
   "outputs": [],
   "source": [
    "d_fret_2 = bext.burst_search_and_gate(d)"
   ]
  },
  {
   "cell_type": "markdown",
   "metadata": {},
   "source": [
    "The function [bext.burst_search_and_gate()](http://fretbursts.readthedocs.io/en/latest/plugins.html?highlight=burst_search_and#fretbursts.burstlib_ext.burst_search_and_gate)\n",
    "performs two burst searches on the photon streams defined by `ph_sel1` and `ph_sel2` arguments\n",
    "(by default `ph_sel1=Ph_sel(Dex='DAem')` and `ph_sel2=Ph_sel(Aex='Aem')`, i.e. $D_{ex}$ and $A_{ex}A_{em}$).\n",
    "Then, it takes the \"intersection in time\" (and-gate) for the two sets of bursts.\n",
    "\n",
    "\n",
    "`burst_search_and_gate` accepts the same \n",
    "*m*, *F*, and *min_rate_cps* arguments as [Data.burst_search()](http://fretbursts.readthedocs.io/en/latest/data_class.html#fretbursts.burstlib.Data.burst_search).\n",
    "It is also possible to use different burst search parameters for the two\n",
    "burst searches:"
   ]
  },
  {
   "cell_type": "code",
   "execution_count": null,
   "metadata": {},
   "outputs": [],
   "source": [
    "d_fret_22 = bext.burst_search_and_gate(d, m=(8, 10), F=(5, 12))"
   ]
  },
  {
   "cell_type": "markdown",
   "metadata": {},
   "source": [
    "Before plotting we still need to select bursts by size:"
   ]
  },
  {
   "cell_type": "code",
   "execution_count": null,
   "metadata": {},
   "outputs": [],
   "source": [
    "ds_fret_2 = d_fret_2.select_bursts(select_bursts.size, th1=30)\n",
    "alex_jointplot(ds_fret_2);"
   ]
  },
  {
   "cell_type": "code",
   "execution_count": null,
   "metadata": {},
   "outputs": [],
   "source": [
    "ds_fret_22 = d_fret_22.select_bursts(select_bursts.size, th1=30)\n",
    "alex_jointplot(ds_fret_22);"
   ]
  }
 ],
 "metadata": {
  "kernelspec": {
   "display_name": "Python 3",
   "language": "python",
   "name": "python3"
  },
  "language_info": {
   "codemirror_mode": {
    "name": "ipython",
    "version": 3
   },
   "file_extension": ".py",
   "mimetype": "text/x-python",
   "name": "python",
   "nbconvert_exporter": "python",
   "pygments_lexer": "ipython3",
   "version": "3.6.13"
  },
  "toc": {
   "colors": {
    "hover_highlight": "#DAA520",
    "running_highlight": "#FF0000",
    "selected_highlight": "#FFD700"
   },
   "moveMenuLeft": true,
   "nav_menu": {
    "height": "264px",
    "width": "252px"
   },
   "navigate_menu": true,
   "number_sections": false,
   "sideBar": true,
   "threshold": 4,
   "toc_cell": false,
   "toc_position": {
    "height": "673px",
    "left": "0px",
    "right": "1139.11px",
    "top": "107px",
    "width": "212px"
   },
   "toc_section_display": "block",
   "toc_window_display": true,
   "widenNotebook": false
  }
 },
 "nbformat": 4,
 "nbformat_minor": 1
}
