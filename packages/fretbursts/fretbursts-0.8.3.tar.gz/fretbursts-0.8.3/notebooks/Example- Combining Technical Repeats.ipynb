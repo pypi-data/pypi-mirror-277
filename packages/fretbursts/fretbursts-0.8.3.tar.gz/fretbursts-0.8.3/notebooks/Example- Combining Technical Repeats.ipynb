{
 "cells": [
  {
   "cell_type": "markdown",
   "id": "58b73b78",
   "metadata": {},
   "source": [
    "# Example: Combining Technical Repeats into Single Data object\n",
    "\n",
    "You can now store multiple technical repeats into a single data object.\n",
    "\n",
    "> **Note**:\n",
    "> You can combine any two hdf5 files into technical repeats so long as their base acquisition parameters are the same.\n",
    "> In this example we will use 4 different files, which are not actually technical repeats.\n",
    "> This is for demonstration purposes, in general, you should only combine files that are actually acquired with the same sample and measuremtn parameters.\n",
    "\n",
    "So first let's import FRETBursts"
   ]
  },
  {
   "cell_type": "code",
   "execution_count": null,
   "id": "3d144fba",
   "metadata": {},
   "outputs": [],
   "source": [
    "from fretbursts import *\n",
    "sns = init_notebook(apionly=True)"
   ]
  },
  {
   "cell_type": "markdown",
   "id": "f49a1da3",
   "metadata": {},
   "source": [
    "Now we download the files:"
   ]
  },
  {
   "cell_type": "code",
   "execution_count": null,
   "id": "47a95281",
   "metadata": {},
   "outputs": [],
   "source": [
    "urls = ['https://zenodo.org/record/5902313/files/HP3_TE150_SPC630.hdf5',\n",
    "        'https://zenodo.org/record/5902313/files/HP3_TE200_SPC630.hdf5',\n",
    "        'https://zenodo.org/record/5902313/files/HP3_TE250_SPC630.hdf5',\n",
    "        'https://zenodo.org/record/5902313/files/HP3_TE300_SPC630.hdf5']\n",
    "for url in urls:\n",
    "    download_file(url, save_dir='./data')"
   ]
  },
  {
   "cell_type": "markdown",
   "id": "b27535d6",
   "metadata": {},
   "source": [
    "## Loading muliple photon-HDF5 files\n",
    "\n",
    "To load mutliple files into a single data object (as technical repeats), simple provide the filenames as a list to `loader.photon_hdf5()`."
   ]
  },
  {
   "cell_type": "code",
   "execution_count": null,
   "id": "38cbd342",
   "metadata": {},
   "outputs": [],
   "source": [
    "filenames = [\"data/HP3_TE150_SPC630.hdf5\", \n",
    "             \"data/HP3_TE200_SPC630.hdf5\", \n",
    "             \"data/HP3_TE250_SPC630.hdf5\", \n",
    "             \"data/HP3_TE300_SPC630.hdf5\"]\n",
    "d = loader.photon_hdf5(filenames)"
   ]
  },
  {
   "cell_type": "markdown",
   "id": "0ff5c9cf",
   "metadata": {},
   "source": [
    "Now the rest of the analysis can proceed, what you do to one technical repeat, you do to the other."
   ]
  },
  {
   "cell_type": "code",
   "execution_count": null,
   "id": "b6230e45",
   "metadata": {},
   "outputs": [],
   "source": [
    "loader.alex_apply_period(d)\n",
    "d.calc_bg(bg.exp_fit, time_s=1000, tail_min_us=(800, 4000, 1500, 1000, 3000))\n",
    "d.burst_search(L=10, m=10, F=6)\n",
    "ds = d.select_bursts(select_bursts.size, add_naa=True, th1=30)"
   ]
  },
  {
   "cell_type": "markdown",
   "id": "09236ac7",
   "metadata": {},
   "source": [
    "The technical repeats are stored like separate spots in a multi-spot experiment, so now if you want to look at the E-values of a given repeat, it looks like `d.E[i]` where `i` is the index of the repeat in the data, as you supplied it to `loader.photon_hdf5`"
   ]
  },
  {
   "cell_type": "code",
   "execution_count": null,
   "id": "f2fe0787",
   "metadata": {},
   "outputs": [],
   "source": [
    "ds.E"
   ]
  },
  {
   "cell_type": "markdown",
   "id": "c3c69093",
   "metadata": {},
   "source": [
    "When you plot with `dplot()` the default will be to display each separately, in a 8-channel plot"
   ]
  },
  {
   "cell_type": "code",
   "execution_count": null,
   "id": "6a40f648",
   "metadata": {},
   "outputs": [],
   "source": [
    "dplot(ds, hist2d_alex)"
   ]
  },
  {
   "cell_type": "markdown",
   "id": "aba26b56",
   "metadata": {},
   "source": [
    "If you want to plot the combined results, just add the keyword argument `i=None`"
   ]
  },
  {
   "cell_type": "code",
   "execution_count": null,
   "id": "a07bb81f",
   "metadata": {},
   "outputs": [],
   "source": [
    "dplot(ds, hist2d_alex, i=None)"
   ]
  },
  {
   "cell_type": "markdown",
   "id": "9538bc71",
   "metadata": {},
   "source": [
    "The fitter objects also now fit not just individual repeats, but the entire concatenated set:"
   ]
  },
  {
   "cell_type": "code",
   "execution_count": null,
   "id": "21b860ed",
   "metadata": {},
   "outputs": [],
   "source": [
    "E_fitter = bext.bursts_fitter(ds, 'E', binwidth=0.03)\n",
    "model = mfit.factory_two_gaussians()\n",
    "E_fitter.fit_histogram(model=model, pdf=False, method='leastsq')\n",
    "dplot(ds, hist_fret, show_model=True, pdf=False, i=0);"
   ]
  },
  {
   "cell_type": "markdown",
   "id": "9c60f829",
   "metadata": {},
   "source": [
    "Finally, in the fitter object, new attributes have been added, basically, if there is a per-channel parameter, then the same name with `_tot` added to the end will contain the summed counts, pdf, or fitting object."
   ]
  },
  {
   "cell_type": "code",
   "execution_count": null,
   "id": "539904a5",
   "metadata": {},
   "outputs": [],
   "source": [
    "E_fitter.fit_res_tot"
   ]
  }
 ],
 "metadata": {
  "kernelspec": {
   "display_name": "Python 3",
   "language": "python",
   "name": "python3"
  },
  "language_info": {
   "codemirror_mode": {
    "name": "ipython",
    "version": 3
   },
   "file_extension": ".py",
   "mimetype": "text/x-python",
   "name": "python",
   "nbconvert_exporter": "python",
   "pygments_lexer": "ipython3",
   "version": "3.6.13"
  }
 },
 "nbformat": 4,
 "nbformat_minor": 5
}
