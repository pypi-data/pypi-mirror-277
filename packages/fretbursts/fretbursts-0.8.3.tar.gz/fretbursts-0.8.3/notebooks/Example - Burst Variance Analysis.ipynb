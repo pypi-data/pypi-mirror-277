{
 "cells": [
  {
   "cell_type": "markdown",
   "metadata": {},
   "source": [
    "# Example - Burst Variance Analysis\n",
    "\n",
    "*This notebook is part of smFRET burst analysis software [FRETBursts](http://opensmfs.github.io/FRETBursts/).*"
   ]
  },
  {
   "cell_type": "markdown",
   "metadata": {},
   "source": [
    "> This notebook shows how to implement Burst Variance Analysis (BVA) ([Torella 2011](http://dx.doi.org/10.1016/j.bpj.2011.01.066)) using FRETBursts.\n",
    "\n",
    "> For a complete tutorial on burst analysis see \n",
    "> [FRETBursts - us-ALEX smFRET burst analysis](FRETBursts - us-ALEX smFRET burst analysis.ipynb)."
   ]
  },
  {
   "cell_type": "code",
   "execution_count": null,
   "metadata": {},
   "outputs": [],
   "source": [
    "from fretbursts import *\n",
    "sns = init_notebook(apionly=True)"
   ]
  },
  {
   "cell_type": "code",
   "execution_count": null,
   "metadata": {},
   "outputs": [],
   "source": [
    "# Tweak here matplotlib style\n",
    "import matplotlib as mpl\n",
    "mpl.rcParams['font.sans-serif'].insert(0, 'Arial')\n",
    "mpl.rcParams['font.size'] = 12\n",
    "%config InlineBackend.figure_format = 'retina'"
   ]
  },
  {
   "cell_type": "markdown",
   "metadata": {},
   "source": [
    "# Load Data"
   ]
  },
  {
   "cell_type": "code",
   "execution_count": null,
   "metadata": {},
   "outputs": [],
   "source": [
    "url = 'http://files.figshare.com/2182601/0023uLRpitc_NTP_20dT_0.5GndCl.hdf5'\n",
    "download_file(url, save_dir='./data')\n",
    "\n",
    "full_fname = \"./data/0023uLRpitc_NTP_20dT_0.5GndCl.hdf5\"\n",
    "d = loader.photon_hdf5(full_fname)\n",
    "loader.alex_apply_period(d)\n",
    "d.calc_bg(bg.exp_fit, time_s=50.1, tail_min_us='auto', F_bg=1.7)"
   ]
  },
  {
   "cell_type": "code",
   "execution_count": null,
   "metadata": {},
   "outputs": [],
   "source": [
    "d.burst_search(m=10, computefret=False, ph_sel=Ph_sel(Dex='DAem'))\n",
    "d.calc_fret(count_ph=True, corrections=False)"
   ]
  },
  {
   "cell_type": "code",
   "execution_count": null,
   "metadata": {},
   "outputs": [],
   "source": [
    "ds = d.select_bursts(select_bursts.naa, th1=30, computefret=False)\n",
    "ds1 = ds.select_bursts(select_bursts.size, th1=30, computefret=False)\n",
    "ds_FRET = ds1.select_bursts(select_bursts.S, S1=0.25, S2=0.85, computefret=False)"
   ]
  },
  {
   "cell_type": "code",
   "execution_count": null,
   "metadata": {},
   "outputs": [],
   "source": [
    "dx=ds_FRET\n",
    "alex_jointplot(dx);"
   ]
  },
  {
   "cell_type": "markdown",
   "metadata": {},
   "source": [
    "# Burst Variance Analysis"
   ]
  },
  {
   "cell_type": "markdown",
   "metadata": {},
   "source": [
    "We define a function to compute $s_E$:"
   ]
  },
  {
   "cell_type": "code",
   "execution_count": null,
   "metadata": {},
   "outputs": [],
   "source": [
    "def bva_sigma_E(n, bursts, DexAem_mask, out=None):\n",
    "    \"\"\"\n",
    "    Perform BVA analysis computing std.dev. of E for sub-bursts in each burst.\n",
    "    \n",
    "    Split each burst in n-photons chunks (sub-bursts), compute E for each sub-burst,\n",
    "    then compute std.dev. of E across the sub-bursts.\n",
    "\n",
    "    For details on BVA see:\n",
    "\n",
    "    - Torella et al. (2011) Biophys. J. doi.org/10.1016/j.bpj.2011.01.066\n",
    "    - Ingargiola et al. (2016) bioRxiv, doi.org/10.1101/039198\n",
    "\n",
    "    Arguments:\n",
    "        n (int): number of photons in each sub-burst\n",
    "        bursts (Bursts object): burst-data object with indexes relative \n",
    "            to the Dex photon stream.\n",
    "        DexAem_mask (bool array): mask of A-emitted photons during D-excitation \n",
    "            periods. It is a boolean array indexing the array of Dex timestamps \n",
    "            (`Ph_sel(Dex='DAem')`).\n",
    "        out (None or list): append the result to the passed list. If None,\n",
    "            creates a new list. This is useful to accumulate data from\n",
    "            different spots in a single list.\n",
    "\n",
    "    Returns:\n",
    "        E_sub_std (1D array): contains for each burst, the standard deviation of \n",
    "        sub-bursts FRET efficiency. Same length of input argument `bursts`.\n",
    "    \"\"\"\n",
    "    E_sub_std = [] if out is None else out\n",
    "    \n",
    "    for burst in bursts:\n",
    "        E_sub_bursts = []\n",
    "        startlist = range(burst.istart, burst.istop + 2 - n, n)\n",
    "        stoplist = [i + n for i in startlist]\n",
    "        for start, stop in zip(startlist, stoplist):\n",
    "            A_D = DexAem_mask[start:stop].sum()\n",
    "            assert stop - start == n\n",
    "            E = A_D / n\n",
    "            E_sub_bursts.append(E)\n",
    "        E_sub_std.append(np.std(E_sub_bursts))\n",
    "        \n",
    "    return E_sub_std"
   ]
  },
  {
   "cell_type": "markdown",
   "metadata": {},
   "source": [
    "Next we prepare the data for BVA:"
   ]
  },
  {
   "cell_type": "code",
   "execution_count": null,
   "metadata": {},
   "outputs": [],
   "source": [
    "ph_d = ds_FRET.get_ph_times(ph_sel=Ph_sel(Dex='DAem'))\n",
    "bursts = ds_FRET.mburst[0]\n",
    "bursts_d = bursts.recompute_index_reduce(ph_d)"
   ]
  },
  {
   "cell_type": "code",
   "execution_count": null,
   "metadata": {},
   "outputs": [],
   "source": [
    "Dex_mask = ds_FRET.get_ph_mask(ph_sel=Ph_sel(Dex='DAem'))   \n",
    "DexAem_mask = ds_FRET.get_ph_mask(ph_sel=Ph_sel(Dex='Aem')) \n",
    "DexAem_mask_d = DexAem_mask[Dex_mask]"
   ]
  },
  {
   "cell_type": "markdown",
   "metadata": {},
   "source": [
    "and call the `bva_sigma_E` function:"
   ]
  },
  {
   "cell_type": "code",
   "execution_count": null,
   "metadata": {},
   "outputs": [],
   "source": [
    "n = 7\n",
    "E_sub_std = bva_sigma_E(n, bursts_d, DexAem_mask_d)"
   ]
  },
  {
   "cell_type": "markdown",
   "metadata": {},
   "source": [
    "Finally, we make a KDE plot of the 2D distribution `E_sub_std` versus the burst FRET efficiency:"
   ]
  },
  {
   "cell_type": "code",
   "execution_count": null,
   "metadata": {},
   "outputs": [],
   "source": [
    "plt.figure(figsize=(4.5, 4.5))\n",
    "x = np.arange(0,1.01,0.01)\n",
    "y = np.sqrt((x*(1-x))/n)\n",
    "plt.plot(x, y, lw=2, color='k', ls='--')\n",
    "im = sns.kdeplot(data={'E':ds_FRET.E[0], 'sigma':np.asfarray(E_sub_std)}, x='E', y='sigma', \n",
    "                 fill=True, cmap='Spectral_r', thresh=0.05, levels=20)\n",
    "plt.xlim(0,1)\n",
    "plt.ylim(0,np.sqrt(0.5**2/7)*2)\n",
    "plt.xlabel('E', fontsize=16)\n",
    "plt.ylabel(r'$\\sigma_i$', fontsize=16);\n",
    "plt.text(0.05, 0.95, 'BVA', va='top', fontsize=22, transform=plt.gca().transAxes)\n",
    "plt.text(0.95, 0.95, '# Bursts: %d' % ds_FRET.num_bursts, \n",
    "         va='top', ha='right', transform=plt.gca().transAxes)\n",
    "plt.savefig('BVA.png', bbox_inches='tight', dpi=200, transparent=False)"
   ]
  },
  {
   "cell_type": "code",
   "execution_count": null,
   "metadata": {},
   "outputs": [],
   "source": [
    "x, y = ds_FRET.E[0], np.asfarray(E_sub_std)\n",
    "hist_kws = dict(edgecolor='k', linewidth=0.2,\n",
    "                facecolor=sns.color_palette('Spectral_r', 100)[10])\n",
    "\n",
    "g = sns.JointGrid(x=x, y=y, ratio=3)\n",
    "g.plot_joint(sns.kdeplot, cmap='Spectral_r', fill=True, thresh=0.05, levels=20)\n",
    "g.ax_marg_x.hist(x, bins=np.arange(-0.2, 1.2, 0.025), **hist_kws)\n",
    "g.ax_marg_y.hist(y, bins=50, orientation=\"horizontal\", **hist_kws)\n",
    "\n",
    "x1 = np.arange(0,1.01,0.01)\n",
    "y1 = np.sqrt((x1*(1-x1))/n)\n",
    "plt.plot(x1, y1, lw=2, color='k', ls='--')\n",
    "\n",
    "g.ax_joint.set_xlim(0,1)\n",
    "g.ax_joint.set_ylim(0,np.sqrt(0.5**2/7)*2)\n",
    "g.ax_joint.set_xlabel('E', fontsize=16)\n",
    "g.ax_joint.set_ylabel(r'$\\sigma_i$', fontsize=16);\n",
    "g.ax_joint.text(0.05, 0.95, 'BVA', va='top', fontsize=22, transform=g.ax_joint.transAxes)\n",
    "g.ax_joint.text(0.95, 0.95, '# Bursts: %d' % ds_FRET.num_bursts, \n",
    "         va='top', ha='right', transform=g.ax_joint.transAxes)\n",
    "plt.savefig('BVA_joint.png', bbox_inches='tight', dpi=200, transparent=False)"
   ]
  }
 ],
 "metadata": {
  "anaconda-cloud": {},
  "kernelspec": {
   "display_name": "Python 3",
   "language": "python",
   "name": "python3"
  },
  "language_info": {
   "codemirror_mode": {
    "name": "ipython",
    "version": 3
   },
   "file_extension": ".py",
   "mimetype": "text/x-python",
   "name": "python",
   "nbconvert_exporter": "python",
   "pygments_lexer": "ipython3",
   "version": "3.6.13"
  },
  "toc": {
   "colors": {
    "hover_highlight": "#DAA520",
    "running_highlight": "#FF0000",
    "selected_highlight": "#FFD700"
   },
   "moveMenuLeft": true,
   "nav_menu": {
    "height": "138px",
    "width": "252px"
   },
   "navigate_menu": true,
   "number_sections": false,
   "sideBar": true,
   "threshold": 4,
   "toc_cell": false,
   "toc_section_display": "block",
   "toc_window_display": false,
   "widenNotebook": false
  }
 },
 "nbformat": 4,
 "nbformat_minor": 1
}
