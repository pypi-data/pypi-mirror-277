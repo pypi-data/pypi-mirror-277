{
 "cells": [
  {
   "cell_type": "markdown",
   "metadata": {},
   "source": [
    "# FRETBursts - ns-ALEX example\n",
    "\n",
    "*This notebook is part of a [tutorial series](https://github.com/OpenSMFS/FRETBursts_notebooks) for the [FRETBursts](http://opensmfs.github.io/FRETBursts/) burst analysis software.*"
   ]
  },
  {
   "cell_type": "markdown",
   "metadata": {},
   "source": [
    "> For a step-by-step introduction to FRETBursts usage please refer to \n",
    "> [us-ALEX smFRET burst analysis](FRETBursts - us-ALEX smFRET burst analysis.ipynb).\n",
    ">\n",
    "> In this notebook we present a typical [FRETBursts](http://opensmfs.github.io/FRETBursts/)\n",
    "> workflow for **ns-ALEX smFRET burst analysis**. \n",
    "\n",
    "*While FRETBursts does not specifically includes functions for fitting \n",
    "TCSPC fluorescence decays, a fitting with exponential decays and \n",
    "IRF deconvolution can be easily performed using standard python libraries. \n",
    "For an example and a brief discussion see the notebook \n",
    "[Lifetime decay fit](http://nbviewer.ipython.org/github/tritemio/notebooks/blob/master/Lifetime_decay_fit.ipynb).*"
   ]
  },
  {
   "cell_type": "markdown",
   "metadata": {},
   "source": [
    "## Loading FRETBursts"
   ]
  },
  {
   "cell_type": "code",
   "execution_count": null,
   "metadata": {},
   "outputs": [],
   "source": [
    "from fretbursts import *"
   ]
  },
  {
   "cell_type": "code",
   "execution_count": null,
   "metadata": {},
   "outputs": [],
   "source": [
    "sns = init_notebook()"
   ]
  },
  {
   "cell_type": "markdown",
   "metadata": {},
   "source": [
    "# Downloading the sample data file\n",
    "\n",
    "The full list of smFRET measurements used in the [FRETBursts tutorials](https://github.com/OpenSMFS/FRETBursts_notebooks) \n",
    "can be found on [Figshare](http://dx.doi.org/10.6084/m9.figshare.1456362).\n",
    "\n",
    "Here we download the ns-ALEX data-file and put it in a folder \n",
    "named `data`, inside the notebook folder. \n",
    "For this purpose we use the `download_file` function provided \n",
    "by FRETBursts:"
   ]
  },
  {
   "cell_type": "code",
   "execution_count": null,
   "metadata": {},
   "outputs": [],
   "source": [
    "url = 'http://files.figshare.com/2182602/dsdna_d7_d17_50_50_1.hdf5'"
   ]
  },
  {
   "cell_type": "code",
   "execution_count": null,
   "metadata": {},
   "outputs": [],
   "source": [
    "download_file(url, save_dir='./data')"
   ]
  },
  {
   "cell_type": "code",
   "execution_count": null,
   "metadata": {},
   "outputs": [],
   "source": [
    "filename = './data/dsdna_d7_d17_50_50_1.hdf5'\n",
    "filename"
   ]
  },
  {
   "cell_type": "markdown",
   "metadata": {},
   "source": [
    "## Selecting a data file\n",
    "\n",
    "Alternatively you can use an open-file dialog in order to select a data file:"
   ]
  },
  {
   "cell_type": "code",
   "execution_count": null,
   "metadata": {},
   "outputs": [],
   "source": [
    "# filename = OpenFileDialog()\n",
    "# filename"
   ]
  },
  {
   "cell_type": "code",
   "execution_count": null,
   "metadata": {},
   "outputs": [],
   "source": [
    "import os\n",
    "if os.path.isfile(filename):\n",
    "    print(\"Perfect, I found the file!\")\n",
    "else:\n",
    "    print(\"Sorry, I can't find the file:\\n%s\" % filename)"
   ]
  },
  {
   "cell_type": "markdown",
   "metadata": {},
   "source": [
    "## Load the selected file\n",
    "\n",
    "Here we load the file and we set the alternation parameters:"
   ]
  },
  {
   "cell_type": "code",
   "execution_count": null,
   "metadata": {},
   "outputs": [],
   "source": [
    "d = loader.photon_hdf5(filename)\n",
    "#d = loader.nsalex(fname)"
   ]
  },
  {
   "cell_type": "code",
   "execution_count": null,
   "metadata": {},
   "outputs": [],
   "source": [
    "d.time_max"
   ]
  },
  {
   "cell_type": "code",
   "execution_count": null,
   "metadata": {},
   "outputs": [],
   "source": [
    "d.det_t"
   ]
  },
  {
   "cell_type": "code",
   "execution_count": null,
   "metadata": {},
   "outputs": [],
   "source": [
    "print(\"Detector    Counts\")\n",
    "print(\"--------   --------\")\n",
    "for det, count in zip(*np.unique(d.det_t, return_counts=True)):\n",
    "    print(\"%8d   %8d\" % (det, count))"
   ]
  },
  {
   "cell_type": "code",
   "execution_count": null,
   "metadata": {},
   "outputs": [],
   "source": [
    "#d.add(A_ON=(200, 1500), D_ON=(1750, 3200), det_donor_accept=(4, 6))"
   ]
  },
  {
   "cell_type": "code",
   "execution_count": null,
   "metadata": {},
   "outputs": [],
   "source": [
    "d.nanotimes_t"
   ]
  },
  {
   "cell_type": "code",
   "execution_count": null,
   "metadata": {},
   "outputs": [],
   "source": [
    "bpl.plot_alternation_hist(d)"
   ]
  },
  {
   "cell_type": "markdown",
   "metadata": {},
   "source": [
    "Execute the previous 2 cells until you get a satisfying \n",
    "selection for the excitation periods. Then run the following \n",
    "to apply the parameters:"
   ]
  },
  {
   "cell_type": "code",
   "execution_count": null,
   "metadata": {},
   "outputs": [],
   "source": [
    "loader.alex_apply_period(d)"
   ]
  },
  {
   "cell_type": "markdown",
   "metadata": {},
   "source": [
    "## Burst search and selection"
   ]
  },
  {
   "cell_type": "code",
   "execution_count": null,
   "metadata": {},
   "outputs": [],
   "source": [
    "d.calc_bg(fun=bg.exp_fit, time_s=30, tail_min_us='auto', F_bg=1.7)"
   ]
  },
  {
   "cell_type": "code",
   "execution_count": null,
   "metadata": {},
   "outputs": [],
   "source": [
    "dplot(d, timetrace_bg)"
   ]
  },
  {
   "cell_type": "code",
   "execution_count": null,
   "metadata": {},
   "outputs": [],
   "source": [
    "dplot(d, timetrace)\n",
    "xlim(1, 2)\n",
    "ylim(-50, 50)"
   ]
  },
  {
   "cell_type": "code",
   "execution_count": null,
   "metadata": {},
   "outputs": [],
   "source": [
    "d.burst_search()"
   ]
  },
  {
   "cell_type": "code",
   "execution_count": null,
   "metadata": {},
   "outputs": [],
   "source": [
    "ds = d.select_bursts(select_bursts.size, th1=30)"
   ]
  },
  {
   "cell_type": "code",
   "execution_count": null,
   "metadata": {},
   "outputs": [],
   "source": [
    "alex_jointplot(ds);"
   ]
  },
  {
   "cell_type": "code",
   "execution_count": null,
   "metadata": {},
   "outputs": [],
   "source": [
    "ds.leakage = 0.05"
   ]
  },
  {
   "cell_type": "code",
   "execution_count": null,
   "metadata": {},
   "outputs": [],
   "source": [
    "alex_jointplot(ds);"
   ]
  },
  {
   "cell_type": "code",
   "execution_count": null,
   "metadata": {},
   "outputs": [],
   "source": [
    "dplot(ds, hist_fret, show_kde=True)"
   ]
  },
  {
   "cell_type": "markdown",
   "metadata": {},
   "source": [
    "## Nanotimes\n",
    "\n",
    "The nanotimes for the measurement is saved in the `.nanotimes` \n",
    "attribute of the `Data()` object (here either `d` or `ds`).\n",
    "\n",
    "As an example here we get the array of nanotimes for all photons, \n",
    "donor emission and acceptor emission:"
   ]
  },
  {
   "cell_type": "code",
   "execution_count": null,
   "metadata": {},
   "outputs": [],
   "source": [
    "d.nanotimes"
   ]
  },
  {
   "cell_type": "code",
   "execution_count": null,
   "metadata": {},
   "outputs": [],
   "source": [
    "nanotimes = d.nanotimes[0]\n",
    "nanotimes_d = nanotimes[d.get_D_em()]\n",
    "nanotimes_a = nanotimes[d.get_A_em()]"
   ]
  },
  {
   "cell_type": "markdown",
   "metadata": {},
   "source": [
    "We can plot the histogram for this 3 nanotimes:"
   ]
  },
  {
   "cell_type": "code",
   "execution_count": null,
   "metadata": {},
   "outputs": [],
   "source": [
    "hist_params = dict(bins=range(4096), histtype='step', alpha=0.6, lw=1.5)\n",
    "hist(nanotimes, color='k', label='Total ph.', **hist_params)\n",
    "hist(nanotimes_d, color='g', label='D. em. ph.', **hist_params)\n",
    "hist(nanotimes_a, color='r', label='A. em. ph.', **hist_params)\n",
    "plt.legend()\n",
    "plt.yscale('log')"
   ]
  },
  {
   "cell_type": "markdown",
   "metadata": {},
   "source": [
    "We can also select only nanotimes of photons inside bursts. \n",
    "Here, as an example, we will use the `ds` variable that \n",
    "contains a selection of bursts.\n",
    "\n",
    "First we compute a selection mask (a boolean array) for \n",
    "photons inside bursts:"
   ]
  },
  {
   "cell_type": "code",
   "execution_count": null,
   "metadata": {},
   "outputs": [],
   "source": [
    "ph_in_bursts_mask = d.ph_in_bursts_mask_ich()"
   ]
  },
  {
   "cell_type": "markdown",
   "metadata": {},
   "source": [
    "Then we apply this selection to the nanotimes array. \n",
    "To get the donor- and acceptor-emission nanotimes we combine \n",
    "the in-bursts selection mask (`ph_in_bursts_mask`) with \n",
    "the donor or acceptor emission mask (that we get with\n",
    "`.get_D_em()` and `.get_D_em()`):"
   ]
  },
  {
   "cell_type": "code",
   "execution_count": null,
   "metadata": {},
   "outputs": [],
   "source": [
    "bursts_nanotimes_t = nanotimes[ph_in_bursts_mask]\n",
    "bursts_nanotimes_d = nanotimes[ph_in_bursts_mask * d.get_D_em()]\n",
    "bursts_nanotimes_a = nanotimes[ph_in_bursts_mask * d.get_A_em()]"
   ]
  },
  {
   "cell_type": "markdown",
   "metadata": {},
   "source": [
    "And, as before, we can histogram the nanotimes:"
   ]
  },
  {
   "cell_type": "code",
   "execution_count": null,
   "metadata": {},
   "outputs": [],
   "source": [
    "hist_params = dict(bins=range(4096), histtype='step', alpha=0.6, lw=1.5)\n",
    "hist(bursts_nanotimes_t, color='k', label='Total ph.', **hist_params)\n",
    "hist(bursts_nanotimes_d, color='g', label='D. em. ph.', **hist_params)\n",
    "hist(bursts_nanotimes_a, color='r', label='A. em. ph.', **hist_params)\n",
    "plt.legend()\n",
    "plt.yscale('log')"
   ]
  },
  {
   "cell_type": "markdown",
   "metadata": {},
   "source": [
    "## Saving to a file\n",
    "\n",
    "Saving some of all these arrays to file is straightforward."
   ]
  },
  {
   "cell_type": "markdown",
   "metadata": {},
   "source": [
    "### Save array to txt comma-separed-values\n",
    "\n",
    "To save a single array to a file we can use the [`.tofile`](http://docs.scipy.org/doc/numpy/reference/generated/numpy.ndarray.tofile.html) method:"
   ]
  },
  {
   "cell_type": "code",
   "execution_count": null,
   "metadata": {},
   "outputs": [],
   "source": [
    "nanotimes.tofile('nanotimes_t.csv', sep=',\\n')  # save in CSV txt format"
   ]
  },
  {
   "cell_type": "markdown",
   "metadata": {},
   "source": [
    "### Save to legacy MATLAB format\n",
    "\n",
    "To save a set of arrays in MATLAB format  we can use the \n",
    "[`scipy.io.savemat`](http://docs.scipy.org/doc/scipy-0.13.0/reference/generated/scipy.io.savemat.html) function.\n",
    "\n",
    "Here we save 3 arrays `bursts_nanotimes_t`, `bursts_nanotimes_d` \n",
    "and `bursts_nanotimes_a` to a file called *bursts_nanotimes.mat*:"
   ]
  },
  {
   "cell_type": "code",
   "execution_count": null,
   "metadata": {},
   "outputs": [],
   "source": [
    "from scipy.io import savemat"
   ]
  },
  {
   "cell_type": "code",
   "execution_count": null,
   "metadata": {},
   "outputs": [],
   "source": [
    "savemat('bursts_nanotimes.mat', \n",
    "        dict(bn_t=bursts_nanotimes_t, \n",
    "             bn_d=bursts_nanotimes_d, \n",
    "             bn_a=bursts_nanotimes_a,))"
   ]
  },
  {
   "cell_type": "markdown",
   "metadata": {},
   "source": [
    "When loaded in MATLAB the arrays will be named `bn_t`, `bn_d` and `bn_a`."
   ]
  }
 ],
 "metadata": {
  "kernelspec": {
   "display_name": "Python 3",
   "language": "python",
   "name": "python3"
  },
  "language_info": {
   "codemirror_mode": {
    "name": "ipython",
    "version": 3
   },
   "file_extension": ".py",
   "mimetype": "text/x-python",
   "name": "python",
   "nbconvert_exporter": "python",
   "pygments_lexer": "ipython3",
   "version": "3.6.13"
  }
 },
 "nbformat": 4,
 "nbformat_minor": 1
}
