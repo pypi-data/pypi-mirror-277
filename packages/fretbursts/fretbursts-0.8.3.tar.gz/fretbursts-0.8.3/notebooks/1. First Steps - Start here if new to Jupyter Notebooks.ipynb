{
 "cells": [
  {
   "cell_type": "markdown",
   "metadata": {},
   "source": [
    "# 1. Welcome to Jupyter Notebook\n",
    "*This notebook is part of [FRETBursts](http://opensmfs.github.io/FRETBursts/) burst analysis software.*\n",
    "\n",
    "<p class=\"lead\"><b>Welcome!</b> You are reading a <i>Jupyter Notebook</i>, a document containing \n",
    "narrative, code and the output of code execution. Here you will find a \n",
    "few basic instructions on running FRETBursts notebooks.</p>\n",
    "\n",
    "<i>Please send feedback and report any problem opening a\n",
    "[FRETBursts Issue](https://github.com/OpenSMFS/FRETBursts/issues) on GitHub.</i>"
   ]
  },
  {
   "cell_type": "markdown",
   "metadata": {},
   "source": [
    "## How to run it?\n",
    "\n",
    "The notebook is composed of \"text cells\", such as this paragraph, and \"code cells\"\n",
    "containing the code to be executed (and identified by an `In [ ]` prompt). \n",
    "\n",
    "To execute a code cell, select it and press `SHIFT+ENTER`. \n",
    "To modify a cell, click on it to go into \"edit mode\" (indicated by a green frame\n",
    "around the cell), then type. When your are done, `SHIFT+ENTER` will end the editing.\n",
    "\n",
    "You can also execute the entire notebook in a single step by using \n",
    "the menu *Cell* -> *Run All*.\n",
    "\n",
    "As an example, try to run the following code cell:"
   ]
  },
  {
   "cell_type": "code",
   "execution_count": null,
   "metadata": {},
   "outputs": [],
   "source": [
    "2 + 2"
   ]
  },
  {
   "cell_type": "markdown",
   "metadata": {},
   "source": [
    "Finally, for a mini-tour of the various interface elements\n",
    "click on menu *Help* -> *User Interface Tour*."
   ]
  },
  {
   "cell_type": "markdown",
   "metadata": {},
   "source": [
    "# 2. Data files \n",
    "\n",
    "Each FRETBursts notebook is set up to download and analyze a sample data \n",
    "file. To use your own data file, you need to paste its name in the\n",
    "`filename` variable in the FRETBursts notebook of your choice.\n",
    "\n",
    "<br>\n",
    "<div class=\"alert alert-success\">\n",
    "<b>For online users</b>: when running the FRETBursts notebooks online, \n",
    "you need to upload the data file first (if you want to use your own data). \n",
    "The upload procedure varies depending on the size of your file \n",
    "(see next paragraphs).\n",
    "</div>\n",
    "\n",
    "## Online: upload files under 35 MB\n",
    "\n",
    "Data files up to ~35 MB can be directly uploaded from the dashboard.\n",
    "Just go back to the *Home Tab* and click on the **Upload** button on the \n",
    "top right. \n",
    "\n",
    "## Online: upload files over 35 MB\n",
    "\n",
    "For large files (>35 MB), the upload button will not work.\n",
    "In this case, you have to first upload the file somewhere on the internet,\n",
    "and then copy the file URL in the `url` variable in the\n",
    "FRETBursts notebook you want to use. "
   ]
  },
  {
   "cell_type": "markdown",
   "metadata": {},
   "source": [
    "# 3. Which notebook?\n",
    "\n",
    "FRETBursts includes several notebooks. We recommend to start with the \n",
    "[μs-ALEX notebook](RETBursts - us-ALEX smFRET burst analysis.ipynb)\n",
    "which is the most detailed tutorial covering most of the basic aspects\n",
    "of burst analysis."
   ]
  },
  {
   "cell_type": "markdown",
   "metadata": {},
   "source": [
    "# 4.  References\n",
    "\n",
    "<p class=\"lead\">Official Jupyter Project Homepage: </p>\n",
    "\n",
    "> [Jupyter Homepage](http://www.jupyter.org)\n",
    "  \n",
    "<p class=\"lead\">Paper on using notebooks for research:</p>\n",
    "\n",
    "> Interactive notebooks: Sharing the code. *Shen* (2014) **Nature** doi:[10.1038/515151a](http://doi.org/10.1038/515151a)\n",
    "\n",
    "<p class=\"lead\">Installing *Jupyter Notebook* on your computer and firsts steps:</p>\n",
    "\n",
    "> [Jupyter Notebook Quick-Start Guide](http://jupyter-notebook-beginner-guide.readthedocs.org)\n"
   ]
  }
 ],
 "metadata": {
  "kernelspec": {
   "display_name": "Python [default]",
   "language": "python",
   "name": "python3"
  },
  "language_info": {
   "codemirror_mode": {
    "name": "ipython",
    "version": 3
   },
   "file_extension": ".py",
   "mimetype": "text/x-python",
   "name": "python",
   "nbconvert_exporter": "python",
   "pygments_lexer": "ipython3",
   "version": "3.5.2"
  },
  "toc": {
   "colors": {
    "hover_highlight": "#DAA520",
    "running_highlight": "#FF0000",
    "selected_highlight": "#FFD700"
   },
   "moveMenuLeft": true,
   "nav_menu": {
    "height": "137px",
    "width": "252px"
   },
   "navigate_menu": true,
   "number_sections": false,
   "sideBar": true,
   "threshold": 4,
   "toc_cell": false,
   "toc_section_display": "block",
   "toc_window_display": false,
   "widenNotebook": false
  }
 },
 "nbformat": 4,
 "nbformat_minor": 1
}
