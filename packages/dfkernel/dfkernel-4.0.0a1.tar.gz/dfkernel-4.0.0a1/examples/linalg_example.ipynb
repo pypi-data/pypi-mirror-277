{
 "cells": [
  {
   "cell_type": "markdown",
   "metadata": {},
   "source": [
    "## Matrix Norms"
   ]
  },
  {
   "cell_type": "code",
   "execution_count": 11033469,
   "metadata": {},
   "outputs": [
    {
     "data": {
      "text/plain": [
       "5.4772255750516612"
      ]
     },
     "execution_count": 11033469,
     "metadata": {},
     "output_type": "execute_result"
    }
   ],
   "source": [
    "linalg.norm(Out['92f94d'])"
   ]
  },
  {
   "cell_type": "code",
   "execution_count": 13196044,
   "metadata": {},
   "outputs": [
    {
     "data": {
      "text/plain": [
       "5.4772255750516612"
      ]
     },
     "execution_count": 13196044,
     "metadata": {},
     "output_type": "execute_result"
    }
   ],
   "source": [
    "linalg.norm(Out['92f94d'],'fro')"
   ]
  },
  {
   "cell_type": "code",
   "execution_count": 10021929,
   "metadata": {},
   "outputs": [
    {
     "data": {
      "text/plain": [
       "6.0"
      ]
     },
     "execution_count": 10021929,
     "metadata": {},
     "output_type": "execute_result"
    }
   ],
   "source": [
    "linalg.norm(Out['92f94d'],1)"
   ]
  },
  {
   "cell_type": "code",
   "execution_count": 11911211,
   "metadata": {},
   "outputs": [
    {
     "data": {
      "text/plain": [
       "4.0"
      ]
     },
     "execution_count": 11911211,
     "metadata": {},
     "output_type": "execute_result"
    }
   ],
   "source": [
    "linalg.norm(Out['92f94d'],-1)"
   ]
  },
  {
   "cell_type": "code",
   "execution_count": 12605393,
   "metadata": {},
   "outputs": [
    {
     "data": {
      "text/plain": [
       "7.0"
      ]
     },
     "execution_count": 12605393,
     "metadata": {},
     "output_type": "execute_result"
    }
   ],
   "source": [
    "linalg.norm(Out['92f94d'],np.inf)"
   ]
  },
  {
   "cell_type": "code",
   "execution_count": 9632077,
   "metadata": {},
   "outputs": [
    {
     "data": {
      "text/plain": [
       "array([[1, 2],\n",
       "       [3, 4]])"
      ]
     },
     "execution_count": 9632077,
     "metadata": {},
     "output_type": "execute_result"
    }
   ],
   "source": [
    "import numpy as np\n",
    "from scipy import linalg\n",
    "np.array([[1,2],[3,4]])"
   ]
  },
  {
   "cell_type": "markdown",
   "metadata": {},
   "source": [
    "## SVD in Dataflow"
   ]
  },
  {
   "cell_type": "code",
   "execution_count": 1376361,
   "metadata": {},
   "outputs": [
    {
     "data": {
      "text/plain": [
       "array([[1, 2, 3],\n",
       "       [4, 5, 6]])"
      ]
     },
     "execution_count": 1376361,
     "metadata": {},
     "output_type": "execute_result"
    }
   ],
   "source": [
    "np.array([[1,2,3],[4,5,6]])"
   ]
  },
  {
   "cell_type": "code",
   "execution_count": 12162461,
   "metadata": {},
   "outputs": [
    {
     "data": {
      "text/plain": [
       "(2, 3)"
      ]
     },
     "execution_count": 12162461,
     "metadata": {},
     "output_type": "execute_result"
    }
   ],
   "source": [
    "Out['150069'].shape"
   ]
  },
  {
   "cell_type": "code",
   "execution_count": 14640226,
   "metadata": {},
   "outputs": [
    {
     "data": {
      "text/plain": [
       "(array([[-0.3863177 , -0.92236578],\n",
       "        [-0.92236578,  0.3863177 ]]),\n",
       " array([ 9.508032  ,  0.77286964]),\n",
       " array([[-0.42866713, -0.56630692, -0.7039467 ],\n",
       "        [ 0.80596391,  0.11238241, -0.58119908],\n",
       "        [ 0.40824829, -0.81649658,  0.40824829]]))"
      ]
     },
     "execution_count": 14640226,
     "metadata": {},
     "output_type": "execute_result"
    }
   ],
   "source": [
    "linalg.svd(Out['150069'])"
   ]
  },
  {
   "cell_type": "code",
   "execution_count": 874562,
   "metadata": {},
   "outputs": [
    {
     "data": {
      "text/plain": [
       "array([[ 9.508032  ,  0.        ,  0.        ],\n",
       "       [ 0.        ,  0.77286964,  0.        ]])"
      ]
     },
     "execution_count": 874562,
     "metadata": {},
     "output_type": "execute_result"
    }
   ],
   "source": [
    "linalg.diagsvd(Out['df6462'][1],Out['b9959d'][0],Out['b9959d'][1])"
   ]
  },
  {
   "cell_type": "code",
   "execution_count": 8848078,
   "metadata": {},
   "outputs": [
    {
     "data": {
      "text/plain": [
       "array([[ 1.,  2.,  3.],\n",
       "       [ 4.,  5.,  6.]])"
      ]
     },
     "execution_count": 8848078,
     "metadata": {},
     "output_type": "execute_result"
    }
   ],
   "source": [
    "Out['df6462'][0].dot(Out['0d5842'].dot(Out['df6462'][2]))"
   ]
  },
  {
   "cell_type": "markdown",
   "metadata": {},
   "source": [
    "## Schur Decomposition"
   ]
  },
  {
   "cell_type": "code",
   "execution_count": 4803178,
   "metadata": {},
   "outputs": [
    {
     "data": {
      "text/plain": [
       "matrix([[1, 3, 2],\n",
       "        [1, 4, 5],\n",
       "        [2, 3, 6]])"
      ]
     },
     "execution_count": 4803178,
     "metadata": {},
     "output_type": "execute_result"
    }
   ],
   "source": [
    "np.mat('[1 3 2; 1 4 5; 2 3 6]')"
   ]
  },
  {
   "cell_type": "code",
   "execution_count": 4393724,
   "metadata": {},
   "outputs": [
    {
     "data": {
      "text/plain": [
       "(array([[ 9.90012467,  1.78947961, -0.65498528],\n",
       "        [ 0.        ,  0.54993766, -1.57754789],\n",
       "        [ 0.        ,  0.51260928,  0.54993766]]),\n",
       " array([[ 0.36702395, -0.85002495, -0.37782404],\n",
       "        [ 0.63681656, -0.06646488,  0.76814522],\n",
       "        [ 0.67805463,  0.52253231, -0.51691576]]))"
      ]
     },
     "execution_count": 4393724,
     "metadata": {},
     "output_type": "execute_result"
    }
   ],
   "source": [
    "linalg.schur(Out['494a6a'])"
   ]
  },
  {
   "cell_type": "code",
   "execution_count": 307116,
   "metadata": {},
   "outputs": [
    {
     "data": {
      "text/plain": [
       "(array([[ 9.90012467 +4.44089210e-16j,  0.77734231 +1.38486228e+00j,\n",
       "         -0.24901736 +1.02329310e+00j],\n",
       "        [ 0.00000000 +0.00000000e+00j,  0.54993766 +8.99258408e-01j,\n",
       "          1.06390305 -4.69528398e-02j],\n",
       "        [ 0.00000000 +0.00000000e+00j,  0.00000000 +0.00000000e+00j,\n",
       "          0.54993766 -8.99258408e-01j]]),\n",
       " array([[-0.36066189-0.06804102j,  0.53514909+0.54218494j,\n",
       "         -0.53176195-0.04662176j],\n",
       "        [-0.62577787-0.11805674j, -0.29885246+0.24234259j,\n",
       "          0.33519542+0.57798441j],\n",
       "        [-0.66630111-0.12570169j, -0.00899388-0.52108284j,\n",
       "         -0.02697219-0.51759656j]]))"
      ]
     },
     "execution_count": 307116,
     "metadata": {},
     "output_type": "execute_result"
    }
   ],
   "source": [
    "linalg.schur(Out['494a6a'], 'complex')"
   ]
  },
  {
   "cell_type": "code",
   "execution_count": 14934367,
   "metadata": {},
   "outputs": [
    {
     "data": {
      "text/plain": [
       "(array([[ 9.90012467 +4.44089210e-16j,  0.77734231 +1.38486228e+00j,\n",
       "         -0.24901736 +1.02329310e+00j],\n",
       "        [ 0.00000000 +0.00000000e+00j,  0.54993766 +8.99258408e-01j,\n",
       "          1.06390305 -4.69528398e-02j],\n",
       "        [ 0.00000000 +0.00000000e+00j,  0.00000000 +0.00000000e+00j,\n",
       "          0.54993766 -8.99258408e-01j]]),\n",
       " array([[-0.36066189-0.06804102j,  0.53514909+0.54218494j,\n",
       "         -0.53176195-0.04662176j],\n",
       "        [-0.62577787-0.11805674j, -0.29885246+0.24234259j,\n",
       "          0.33519542+0.57798441j],\n",
       "        [-0.66630111-0.12570169j, -0.00899388-0.52108284j,\n",
       "         -0.02697219-0.51759656j]]))"
      ]
     },
     "execution_count": 14934367,
     "metadata": {},
     "output_type": "execute_result"
    }
   ],
   "source": [
    "linalg.rsf2csf(Out['04afac'][0],Out['04afac'][1])"
   ]
  },
  {
   "cell_type": "code",
   "execution_count": 4863022,
   "metadata": {
    "collapsed": true
   },
   "outputs": [],
   "source": [
    "T,Z,T1,Z1,T2,Z2 = map(np.mat,(Out['430afc'][0],Out['430afc'][1],Out['04afac'][0],Out['04afac'][1],Out['e3e15f'][0],Out['e3e15f'][1]))"
   ]
  },
  {
   "cell_type": "code",
   "execution_count": 11244904,
   "metadata": {},
   "outputs": [
    {
     "data": {
      "text/plain": [
       "matrix([[  1.55431223e-15,   8.88178420e-16,   3.10862447e-15],\n",
       "        [  3.10862447e-15,   2.66453526e-15,   2.66453526e-15],\n",
       "        [  1.33226763e-15,   1.77635684e-15,   6.21724894e-15]])"
      ]
     },
     "execution_count": 11244904,
     "metadata": {},
     "output_type": "execute_result"
    }
   ],
   "source": [
    "abs(Out['494a6a'] - Z*T*Z.H)"
   ]
  },
  {
   "cell_type": "code",
   "execution_count": 15849476,
   "metadata": {},
   "outputs": [
    {
     "data": {
      "text/plain": [
       "matrix([[  2.92545158e-15,   4.88498131e-15,   4.44089210e-15],\n",
       "        [  5.10798304e-15,   9.77248553e-15,   1.15484543e-14],\n",
       "        [  5.33369444e-15,   7.99668914e-15,   1.24364803e-14]])"
      ]
     },
     "execution_count": 15849476,
     "metadata": {},
     "output_type": "execute_result"
    }
   ],
   "source": [
    "abs(Out['494a6a'] - Z1*T1*Z1.H)"
   ]
  },
  {
   "cell_type": "code",
   "execution_count": 14514333,
   "metadata": {},
   "outputs": [
    {
     "data": {
      "text/plain": [
       "matrix([[  2.93947140e-15,   5.32961711e-15,   4.44227966e-15],\n",
       "        [  5.33167197e-15,   8.88247806e-15,   1.06633439e-14],\n",
       "        [  5.33022688e-15,   7.99437673e-15,   1.15481958e-14]])"
      ]
     },
     "execution_count": 14514333,
     "metadata": {},
     "output_type": "execute_result"
    }
   ],
   "source": [
    "abs(Out['494a6a'] - Z2*T2*Z2.H)"
   ]
  },
  {
   "cell_type": "markdown",
   "metadata": {},
   "source": [
    "## Arbitrary functions"
   ]
  },
  {
   "cell_type": "code",
   "execution_count": 3741093,
   "metadata": {},
   "outputs": [
    {
     "data": {
      "text/plain": [
       "array([[ 0.19151945,  0.62210877,  0.43772774],\n",
       "       [ 0.78535858,  0.77997581,  0.27259261],\n",
       "       [ 0.27646426,  0.80187218,  0.95813935]])"
      ]
     },
     "execution_count": 3741093,
     "metadata": {},
     "output_type": "execute_result"
    }
   ],
   "source": [
    "from scipy import special, random, linalg\n",
    "np.random.seed(1234)\n",
    "random.rand(3,3)"
   ]
  },
  {
   "cell_type": "code",
   "execution_count": 415056,
   "metadata": {},
   "outputs": [
    {
     "data": {
      "text/plain": [
       "array([[ 0.86511146, -0.19676526, -0.13856748],\n",
       "       [-0.17479869,  0.7259118 , -0.16606258],\n",
       "       [-0.19212044, -0.32052767,  0.73590704]])"
      ]
     },
     "execution_count": 415056,
     "metadata": {},
     "output_type": "execute_result"
    }
   ],
   "source": [
    "linalg.funm(Out['3915a5'], lambda x: special.jv(0,x))"
   ]
  },
  {
   "cell_type": "code",
   "execution_count": 7571005,
   "metadata": {},
   "outputs": [
    {
     "data": {
      "text/plain": [
       "array([ 1.73881510+0.j, -0.20270676+0.j,  0.39352627+0.j])"
      ]
     },
     "execution_count": 7571005,
     "metadata": {},
     "output_type": "execute_result"
    }
   ],
   "source": [
    "linalg.eigvals(Out['3915a5'])"
   ]
  },
  {
   "cell_type": "code",
   "execution_count": 2528569,
   "metadata": {},
   "outputs": [
    {
     "data": {
      "text/plain": [
       "array([ 0.37551908+0.j,  0.98975384+0.j,  0.96165739+0.j])"
      ]
     },
     "execution_count": 2528569,
     "metadata": {},
     "output_type": "execute_result"
    }
   ],
   "source": [
    "special.jv(0, linalg.eigvals(Out['3915a5']))"
   ]
  },
  {
   "cell_type": "code",
   "execution_count": 2150066,
   "metadata": {},
   "outputs": [
    {
     "data": {
      "text/plain": [
       "array([ 0.37551908+0.j,  0.98975384+0.j,  0.96165739+0.j])"
      ]
     },
     "execution_count": 2150066,
     "metadata": {},
     "output_type": "execute_result"
    }
   ],
   "source": [
    "linalg.eigvals(Out['065550'])"
   ]
  },
  {
   "cell_type": "code",
   "execution_count": 5936899,
   "metadata": {
    "collapsed": true
   },
   "outputs": [],
   "source": []
  }
 ],
 "metadata": {
  "kernelspec": {
   "display_name": "DFPython 3",
   "language": "python",
   "name": "dfpython3"
  },
  "language_info": {
   "codemirror_mode": {
    "name": "ipython",
    "version": 3
   },
   "file_extension": ".py",
   "mimetype": "text/x-python",
   "name": "python",
   "nbconvert_exporter": "python",
   "pygments_lexer": "ipython3",
   "version": "3.6.1"
  }
 },
 "nbformat": 4,
 "nbformat_minor": 2
}
