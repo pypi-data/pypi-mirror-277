{
 "cells": [
  {
   "cell_type": "markdown",
   "metadata": {},
   "source": [
    "# A demo of K-Means clustering on the handwritten digits data\n",
    " * Orignial URL: http://http://scikit-learn.org/stable/auto_examples/cluster/plot_kmeans_digits.html\n",
    " * Author: scikit-learn developers\n",
    " * License: BSD 3 clause\n",
    " * Dataflow Notebook Adaptation: Colin Brown"
   ]
  },
  {
   "cell_type": "markdown",
   "metadata": {
    "scrolled": false
   },
   "source": [
    "In this example we compare the various initialization strategies for\n",
    "K-means in terms of runtime and quality of the results.\n",
    "\n",
    "As the ground truth is known here, we also apply different cluster\n",
    "quality metrics to judge the goodness of fit of the cluster labels to the\n",
    "ground truth.\n",
    "\n",
    "Cluster quality metrics evaluated (see :ref:`clustering_evaluation` for\n",
    "definitions and discussions of the metrics):\n",
    "\n",
    "| Shorthand  | full name                   |\n",
    "|------------|-----------------------------|\n",
    "| homo       | homogeneity score           |\n",
    "| compl      | completeness score          |\n",
    "| v-meas     | V measure                   |\n",
    "| ARI        | adjusted Rand index         |\n",
    "| AMI        | adjusted mutual information |\n",
    "| silhouette | silhouette coefficient      |"
   ]
  },
  {
   "cell_type": "code",
   "execution_count": 13601216,
   "metadata": {},
   "outputs": [
    {
     "data": {
      "text/plain": [
       "<function time.time>"
      ]
     },
     "execution_count": 13601216,
     "metadata": {
      "output_tag": "time"
     },
     "output_type": "execute_result"
    },
    {
     "data": {
      "text/plain": [
       "<module 'numpy' from '/home/colin/anaconda3/lib/python3.6/site-packages/numpy/__init__.py'>"
      ]
     },
     "execution_count": 13601216,
     "metadata": {
      "output_tag": "np"
     },
     "output_type": "execute_result"
    },
    {
     "data": {
      "text/plain": [
       "<module 'matplotlib.pyplot' from '/home/colin/anaconda3/lib/python3.6/site-packages/matplotlib/pyplot.py'>"
      ]
     },
     "execution_count": 13601216,
     "metadata": {
      "output_tag": "plt"
     },
     "output_type": "execute_result"
    },
    {
     "data": {
      "text/plain": [
       "<module 'sklearn.metrics' from '/home/colin/anaconda3/lib/python3.6/site-packages/sklearn/metrics/__init__.py'>"
      ]
     },
     "execution_count": 13601216,
     "metadata": {
      "output_tag": "metrics"
     },
     "output_type": "execute_result"
    },
    {
     "data": {
      "text/plain": [
       "sklearn.cluster.k_means_.KMeans"
      ]
     },
     "execution_count": 13601216,
     "metadata": {
      "output_tag": "KMeans"
     },
     "output_type": "execute_result"
    },
    {
     "data": {
      "text/plain": [
       "<function sklearn.datasets.base.load_digits(n_class=10, return_X_y=False)>"
      ]
     },
     "execution_count": 13601216,
     "metadata": {
      "output_tag": "load_digits"
     },
     "output_type": "execute_result"
    },
    {
     "data": {
      "text/plain": [
       "sklearn.decomposition.pca.PCA"
      ]
     },
     "execution_count": 13601216,
     "metadata": {
      "output_tag": "PCA"
     },
     "output_type": "execute_result"
    },
    {
     "data": {
      "text/plain": [
       "<function sklearn.preprocessing.data.scale(X, axis=0, with_mean=True, with_std=True, copy=True)>"
      ]
     },
     "execution_count": 13601216,
     "metadata": {
      "output_tag": "scale"
     },
     "output_type": "execute_result"
    }
   ],
   "source": [
    "from time import time\n",
    "import numpy as np\n",
    "import matplotlib.pyplot as plt\n",
    "\n",
    "from sklearn import metrics\n",
    "from sklearn.cluster import KMeans\n",
    "from sklearn.datasets import load_digits\n",
    "from sklearn.decomposition import PCA\n",
    "from sklearn.preprocessing import scale"
   ]
  },
  {
   "cell_type": "code",
   "execution_count": 14890164,
   "metadata": {},
   "outputs": [
    {
     "data": {
      "text/plain": [
       "array([[ 0.,  0.,  5., ...,  0.,  0.,  0.],\n",
       "       [ 0.,  0.,  0., ..., 10.,  0.,  0.],\n",
       "       [ 0.,  0.,  0., ..., 16.,  9.,  0.],\n",
       "       ...,\n",
       "       [ 0.,  0.,  1., ...,  6.,  0.,  0.],\n",
       "       [ 0.,  0.,  2., ..., 12.,  0.,  0.],\n",
       "       [ 0.,  0., 10., ..., 12.,  1.,  0.]])"
      ]
     },
     "execution_count": 14890164,
     "metadata": {
      "output_tag": "data"
     },
     "output_type": "execute_result"
    },
    {
     "data": {
      "text/plain": [
       "array([0, 1, 2, ..., 8, 9, 8])"
      ]
     },
     "execution_count": 14890164,
     "metadata": {
      "output_tag": "target"
     },
     "output_type": "execute_result"
    },
    {
     "data": {
      "text/plain": [
       "array([0, 1, 2, 3, 4, 5, 6, 7, 8, 9])"
      ]
     },
     "execution_count": 14890164,
     "metadata": {
      "output_tag": "target_names"
     },
     "output_type": "execute_result"
    },
    {
     "data": {
      "text/plain": [
       "array([[[ 0.,  0.,  5., ...,  1.,  0.,  0.],\n",
       "        [ 0.,  0., 13., ..., 15.,  5.,  0.],\n",
       "        [ 0.,  3., 15., ..., 11.,  8.,  0.],\n",
       "        ...,\n",
       "        [ 0.,  4., 11., ..., 12.,  7.,  0.],\n",
       "        [ 0.,  2., 14., ..., 12.,  0.,  0.],\n",
       "        [ 0.,  0.,  6., ...,  0.,  0.,  0.]],\n",
       "\n",
       "       [[ 0.,  0.,  0., ...,  5.,  0.,  0.],\n",
       "        [ 0.,  0.,  0., ...,  9.,  0.,  0.],\n",
       "        [ 0.,  0.,  3., ...,  6.,  0.,  0.],\n",
       "        ...,\n",
       "        [ 0.,  0.,  1., ...,  6.,  0.,  0.],\n",
       "        [ 0.,  0.,  1., ...,  6.,  0.,  0.],\n",
       "        [ 0.,  0.,  0., ..., 10.,  0.,  0.]],\n",
       "\n",
       "       [[ 0.,  0.,  0., ..., 12.,  0.,  0.],\n",
       "        [ 0.,  0.,  3., ..., 14.,  0.,  0.],\n",
       "        [ 0.,  0.,  8., ..., 16.,  0.,  0.],\n",
       "        ...,\n",
       "        [ 0.,  9., 16., ...,  0.,  0.,  0.],\n",
       "        [ 0.,  3., 13., ..., 11.,  5.,  0.],\n",
       "        [ 0.,  0.,  0., ..., 16.,  9.,  0.]],\n",
       "\n",
       "       ...,\n",
       "\n",
       "       [[ 0.,  0.,  1., ...,  1.,  0.,  0.],\n",
       "        [ 0.,  0., 13., ...,  2.,  1.,  0.],\n",
       "        [ 0.,  0., 16., ..., 16.,  5.,  0.],\n",
       "        ...,\n",
       "        [ 0.,  0., 16., ..., 15.,  0.,  0.],\n",
       "        [ 0.,  0., 15., ..., 16.,  0.,  0.],\n",
       "        [ 0.,  0.,  2., ...,  6.,  0.,  0.]],\n",
       "\n",
       "       [[ 0.,  0.,  2., ...,  0.,  0.,  0.],\n",
       "        [ 0.,  0., 14., ..., 15.,  1.,  0.],\n",
       "        [ 0.,  4., 16., ..., 16.,  7.,  0.],\n",
       "        ...,\n",
       "        [ 0.,  0.,  0., ..., 16.,  2.,  0.],\n",
       "        [ 0.,  0.,  4., ..., 16.,  2.,  0.],\n",
       "        [ 0.,  0.,  5., ..., 12.,  0.,  0.]],\n",
       "\n",
       "       [[ 0.,  0., 10., ...,  1.,  0.,  0.],\n",
       "        [ 0.,  2., 16., ...,  1.,  0.,  0.],\n",
       "        [ 0.,  0., 15., ..., 15.,  0.,  0.],\n",
       "        ...,\n",
       "        [ 0.,  4., 16., ..., 16.,  6.,  0.],\n",
       "        [ 0.,  8., 16., ..., 16.,  8.,  0.],\n",
       "        [ 0.,  1.,  8., ..., 12.,  1.,  0.]]])"
      ]
     },
     "execution_count": 14890164,
     "metadata": {
      "output_tag": "images"
     },
     "output_type": "execute_result"
    },
    {
     "data": {
      "text/plain": [
       "\"Optical Recognition of Handwritten Digits Data Set\\n===================================================\\n\\nNotes\\n-----\\nData Set Characteristics:\\n    :Number of Instances: 5620\\n    :Number of Attributes: 64\\n    :Attribute Information: 8x8 image of integer pixels in the range 0..16.\\n    :Missing Attribute Values: None\\n    :Creator: E. Alpaydin (alpaydin '@' boun.edu.tr)\\n    :Date: July; 1998\\n\\nThis is a copy of the test set of the UCI ML hand-written digits datasets\\nhttp://archive.ics.uci.edu/ml/datasets/Optical+Recognition+of+Handwritten+Digits\\n\\nThe data set contains images of hand-written digits: 10 classes where\\neach class refers to a digit.\\n\\nPreprocessing programs made available by NIST were used to extract\\nnormalized bitmaps of handwritten digits from a preprinted form. From a\\ntotal of 43 people, 30 contributed to the training set and different 13\\nto the test set. 32x32 bitmaps are divided into nonoverlapping blocks of\\n4x4 and the number of on pixels are counted in each block. This generates\\nan input matrix of 8x8 where each element is an integer in the range\\n0..16. This reduces dimensionality and gives invariance to small\\ndistortions.\\n\\nFor info on NIST preprocessing routines, see M. D. Garris, J. L. Blue, G.\\nT. Candela, D. L. Dimmick, J. Geist, P. J. Grother, S. A. Janet, and C.\\nL. Wilson, NIST Form-Based Handprint Recognition System, NISTIR 5469,\\n1994.\\n\\nReferences\\n----------\\n  - C. Kaynak (1995) Methods of Combining Multiple Classifiers and Their\\n    Applications to Handwritten Digit Recognition, MSc Thesis, Institute of\\n    Graduate Studies in Science and Engineering, Bogazici University.\\n  - E. Alpaydin, C. Kaynak (1998) Cascading Classifiers, Kybernetika.\\n  - Ken Tang and Ponnuthurai N. Suganthan and Xi Yao and A. Kai Qin.\\n    Linear dimensionalityreduction using relevance weighted LDA. School of\\n    Electrical and Electronic Engineering Nanyang Technological University.\\n    2005.\\n  - Claudio Gentile. A New Approximate Maximal Margin Classification\\n    Algorithm. NIPS. 2000.\\n\""
      ]
     },
     "execution_count": 14890164,
     "metadata": {
      "output_tag": "DESCR"
     },
     "output_type": "execute_result"
    }
   ],
   "source": [
    "np.random.seed(42)\n",
    "\n",
    "%split_out load_digits()"
   ]
  },
  {
   "cell_type": "code",
   "execution_count": 11798625,
   "metadata": {},
   "outputs": [
    {
     "data": {
      "text/plain": [
       "1797"
      ]
     },
     "execution_count": 11798625,
     "metadata": {
      "output_tag": "n_samples"
     },
     "output_type": "execute_result"
    },
    {
     "data": {
      "text/plain": [
       "64"
      ]
     },
     "execution_count": 11798625,
     "metadata": {
      "output_tag": "n_features"
     },
     "output_type": "execute_result"
    }
   ],
   "source": [
    "n_samples, n_features = data.shape\n"
   ]
  },
  {
   "cell_type": "code",
   "execution_count": 12297562,
   "metadata": {},
   "outputs": [
    {
     "data": {
      "text/plain": [
       "10"
      ]
     },
     "execution_count": 12297562,
     "metadata": {
      "output_tag": "n_digits"
     },
     "output_type": "execute_result"
    },
    {
     "data": {
      "text/plain": [
       "array([0, 1, 2, ..., 8, 9, 8])"
      ]
     },
     "execution_count": 12297562,
     "metadata": {
      "output_tag": "labels"
     },
     "output_type": "execute_result"
    },
    {
     "data": {
      "text/plain": [
       "300"
      ]
     },
     "execution_count": 12297562,
     "metadata": {
      "output_tag": "sample_size"
     },
     "output_type": "execute_result"
    }
   ],
   "source": [
    "n_digits, labels, sample_size = len(np.unique(target)), target, 300"
   ]
  },
  {
   "cell_type": "code",
   "execution_count": 15100515,
   "metadata": {},
   "outputs": [
    {
     "data": {
      "text/plain": [
       "<function __main__.bench_k_means(estimator, name, data)>"
      ]
     },
     "execution_count": 15100515,
     "metadata": {
      "output_tag": "bench_k_means"
     },
     "output_type": "execute_result"
    }
   ],
   "source": [
    "def bench_k_means(estimator, name, data):\n",
    "    t0 = time()\n",
    "    estimator.fit(data)\n",
    "    print('%-9s\\t%.2fs\\t%i\\t%.3f\\t%.3f\\t%.3f\\t%.3f\\t%.3f\\t%.3f'\n",
    "          % (name, (time() - t0), estimator.inertia_,\n",
    "             metrics.homogeneity_score(labels, estimator.labels_),\n",
    "             metrics.completeness_score(labels, estimator.labels_),\n",
    "             metrics.v_measure_score(labels, estimator.labels_),\n",
    "             metrics.adjusted_rand_score(labels, estimator.labels_),\n",
    "             metrics.adjusted_mutual_info_score(labels,  estimator.labels_),\n",
    "             metrics.silhouette_score(data, estimator.labels_,\n",
    "                                      metric='euclidean',\n",
    "                                      sample_size=sample_size)))\n",
    "    \n",
    "bench_k_means"
   ]
  },
  {
   "cell_type": "code",
   "execution_count": 16469533,
   "metadata": {},
   "outputs": [
    {
     "name": "stdout",
     "output_type": "stream",
     "text": [
      "k-means++\t0.21s\t1165725\t0.738\t0.745\t0.741\t0.665\t0.735\t0.183\n",
      "random   \t0.14s\t1168538\t0.738\t0.744\t0.741\t0.673\t0.735\t0.185\n"
     ]
    }
   ],
   "source": [
    "bench_k_means(KMeans(init='k-means++', n_clusters=n_digits, n_init=10),\n",
    "              name=\"k-means++\", data=data)\n",
    "bench_k_means(KMeans(init='random', n_clusters=n_digits, n_init=10),\n",
    "              name=\"random\", data=data)"
   ]
  },
  {
   "cell_type": "code",
   "execution_count": 15023546,
   "metadata": {},
   "outputs": [
    {
     "data": {
      "text/plain": [
       "PCA(copy=True, iterated_power='auto', n_components=10, random_state=None,\n",
       "  svd_solver='auto', tol=0.0, whiten=False)"
      ]
     },
     "execution_count": 15023546,
     "metadata": {
      "output_tag": "pca"
     },
     "output_type": "execute_result"
    }
   ],
   "source": [
    "# in this case the seeding of the centers is deterministic, hence we run the\n",
    "# kmeans algorithm only once with n_init=1\n",
    "pca = PCA(n_components=n_digits).fit(data)"
   ]
  },
  {
   "cell_type": "code",
   "execution_count": 12151924,
   "metadata": {},
   "outputs": [
    {
     "name": "stdout",
     "output_type": "stream",
     "text": [
      "PCA-based\t0.05s\t1188310\t0.784\t0.787\t0.785\t0.741\t0.782\t0.170\n"
     ]
    }
   ],
   "source": [
    "bench_k_means(KMeans(init=pca.components_, n_clusters=n_digits, n_init=1),\n",
    "              name=\"PCA-based\",\n",
    "              data=data)"
   ]
  },
  {
   "cell_type": "code",
   "execution_count": 16550156,
   "metadata": {},
   "outputs": [
    {
     "data": {
      "text/plain": [
       "array([[ -1.25946631,  21.27488762],\n",
       "       [  7.95761335, -20.76868992],\n",
       "       [  6.99192153,  -9.95599482],\n",
       "       ...,\n",
       "       [ 10.80128284,  -6.96025398],\n",
       "       [ -4.87209828,  12.42395719],\n",
       "       [ -0.34439192,   6.36553947]])"
      ]
     },
     "execution_count": 16550156,
     "metadata": {
      "output_tag": "reduced_data"
     },
     "output_type": "execute_result"
    },
    {
     "data": {
      "text/plain": [
       "KMeans(algorithm='auto', copy_x=True, init='k-means++', max_iter=300,\n",
       "    n_clusters=10, n_init=10, n_jobs=1, precompute_distances='auto',\n",
       "    random_state=None, tol=0.0001, verbose=0)"
      ]
     },
     "execution_count": 16550156,
     "metadata": {
      "output_tag": "kmeans"
     },
     "output_type": "execute_result"
    }
   ],
   "source": [
    "# #############################################################################\n",
    "# Visualize the results on PCA-reduced data\n",
    "reduced_data, kmeans = PCA(n_components=2).fit_transform(data), KMeans(init='k-means++', n_clusters=n_digits, n_init=10)"
   ]
  },
  {
   "cell_type": "code",
   "execution_count": 12766916,
   "metadata": {},
   "outputs": [
    {
     "data": {
      "text/plain": [
       "0.02"
      ]
     },
     "execution_count": 12766916,
     "metadata": {
      "output_tag": "h"
     },
     "output_type": "execute_result"
    },
    {
     "data": {
      "text/plain": [
       "-32.16990350260063"
      ]
     },
     "execution_count": 12766916,
     "metadata": {
      "output_tag": "x_min"
     },
     "output_type": "execute_result"
    },
    {
     "data": {
      "text/plain": [
       "32.70012452753673"
      ]
     },
     "execution_count": 12766916,
     "metadata": {
      "output_tag": "x_max"
     },
     "output_type": "execute_result"
    },
    {
     "data": {
      "text/plain": [
       "-28.49444354146427"
      ]
     },
     "execution_count": 12766916,
     "metadata": {
      "output_tag": "y_min"
     },
     "output_type": "execute_result"
    },
    {
     "data": {
      "text/plain": [
       "31.092206810600473"
      ]
     },
     "execution_count": 12766916,
     "metadata": {
      "output_tag": "y_max"
     },
     "output_type": "execute_result"
    }
   ],
   "source": [
    "kmeans.fit(reduced_data)\n",
    "# Step size of the mesh. Decrease to increase the quality of the VQ.\n",
    "h, x_min, x_max, y_min, y_max = .02, reduced_data[:, 0].min() - 1, reduced_data[:, 0].max() + 1, reduced_data[:, 1].min() - 1, reduced_data[:, 1].max() + 1     # point in the mesh [x_min, x_max]x[y_min, y_max]."
   ]
  },
  {
   "cell_type": "code",
   "execution_count": 13747672,
   "metadata": {},
   "outputs": [
    {
     "data": {
      "text/plain": [
       "array([[-32.1699035, -32.1499035, -32.1299035, ...,  32.6500965,\n",
       "         32.6700965,  32.6900965],\n",
       "       [-32.1699035, -32.1499035, -32.1299035, ...,  32.6500965,\n",
       "         32.6700965,  32.6900965],\n",
       "       [-32.1699035, -32.1499035, -32.1299035, ...,  32.6500965,\n",
       "         32.6700965,  32.6900965],\n",
       "       ...,\n",
       "       [-32.1699035, -32.1499035, -32.1299035, ...,  32.6500965,\n",
       "         32.6700965,  32.6900965],\n",
       "       [-32.1699035, -32.1499035, -32.1299035, ...,  32.6500965,\n",
       "         32.6700965,  32.6900965],\n",
       "       [-32.1699035, -32.1499035, -32.1299035, ...,  32.6500965,\n",
       "         32.6700965,  32.6900965]])"
      ]
     },
     "execution_count": 13747672,
     "metadata": {
      "output_tag": "xx"
     },
     "output_type": "execute_result"
    },
    {
     "data": {
      "text/plain": [
       "array([[-28.49444354, -28.49444354, -28.49444354, ..., -28.49444354,\n",
       "        -28.49444354, -28.49444354],\n",
       "       [-28.47444354, -28.47444354, -28.47444354, ..., -28.47444354,\n",
       "        -28.47444354, -28.47444354],\n",
       "       [-28.45444354, -28.45444354, -28.45444354, ..., -28.45444354,\n",
       "        -28.45444354, -28.45444354],\n",
       "       ...,\n",
       "       [ 31.04555646,  31.04555646,  31.04555646, ...,  31.04555646,\n",
       "         31.04555646,  31.04555646],\n",
       "       [ 31.06555646,  31.06555646,  31.06555646, ...,  31.06555646,\n",
       "         31.06555646,  31.06555646],\n",
       "       [ 31.08555646,  31.08555646,  31.08555646, ...,  31.08555646,\n",
       "         31.08555646,  31.08555646]])"
      ]
     },
     "execution_count": 13747672,
     "metadata": {
      "output_tag": "yy"
     },
     "output_type": "execute_result"
    }
   ],
   "source": [
    "# Plot the decision boundary. For that, we will assign a color to each\n",
    "xx, yy = np.meshgrid(np.arange(x_min, x_max, h), np.arange(y_min, y_max, h))"
   ]
  },
  {
   "cell_type": "code",
   "execution_count": 15828635,
   "metadata": {},
   "outputs": [
    {
     "data": {
      "text/plain": [
       "array([[8, 8, 8, ..., 9, 9, 9],\n",
       "       [8, 8, 8, ..., 9, 9, 9],\n",
       "       [8, 8, 8, ..., 9, 9, 9],\n",
       "       ...,\n",
       "       [7, 7, 7, ..., 4, 4, 4],\n",
       "       [7, 7, 7, ..., 4, 4, 4],\n",
       "       [7, 7, 7, ..., 4, 4, 4]], dtype=int32)"
      ]
     },
     "execution_count": 15828635,
     "metadata": {
      "output_tag": "Z"
     },
     "output_type": "execute_result"
    }
   ],
   "source": [
    "# Obtain labels for each point in mesh. Use last trained model.\n",
    "Z = kmeans.predict(np.c_[xx.ravel(), yy.ravel()]).reshape(xx.shape)"
   ]
  },
  {
   "cell_type": "code",
   "execution_count": 12828609,
   "metadata": {},
   "outputs": [
    {
     "data": {
      "image/png": "[encoded data removed]",
      "text/plain": [
       "<Figure size 576x432 with 1 Axes>"
      ]
     },
     "metadata": {},
     "output_type": "display_data"
    }
   ],
   "source": [
    "# Put the result into a color plot\n",
    "plt.figure(1, figsize=(8,6))\n",
    "plt.clf()\n",
    "plt.imshow(Z, interpolation='nearest',\n",
    "           extent=(xx.min(), xx.max(), yy.min(), yy.max()),\n",
    "           cmap=plt.cm.Paired,\n",
    "           aspect='auto', origin='lower')\n",
    "plt.plot(reduced_data[:, 0], reduced_data[:, 1], 'k.', markersize=2)\n",
    "# Plot the centroids as a white X\n",
    "centroids = kmeans.cluster_centers_\n",
    "plt.scatter(centroids[:, 0], centroids[:, 1],\n",
    "            marker='x', s=169, linewidths=3,\n",
    "            color='w', zorder=10)\n",
    "plt.title('K-means clustering on the digits dataset (PCA-reduced data)\\n'\n",
    "          'Centroids are marked with white cross')\n",
    "plt.xlim(x_min, x_max)\n",
    "plt.ylim(y_min, y_max)\n",
    "plt.xticks(())\n",
    "plt.yticks(())\n",
    "plt.show()"
   ]
  },
  {
   "cell_type": "code",
   "execution_count": 13302787,
   "metadata": {},
   "outputs": [],
   "source": []
  }
 ],
 "metadata": {
  "kernelspec": {
   "display_name": "DFPython 3",
   "language": "python",
   "name": "dfpython3"
  },
  "language_info": {
   "codemirror_mode": {
    "name": "ipython",
    "version": 3
   },
   "file_extension": ".py",
   "mimetype": "text/x-python",
   "name": "python",
   "nbconvert_exporter": "python",
   "pygments_lexer": "ipython3",
   "version": "3.6.2"
  }
 },
 "nbformat": 4,
 "nbformat_minor": 2
}
