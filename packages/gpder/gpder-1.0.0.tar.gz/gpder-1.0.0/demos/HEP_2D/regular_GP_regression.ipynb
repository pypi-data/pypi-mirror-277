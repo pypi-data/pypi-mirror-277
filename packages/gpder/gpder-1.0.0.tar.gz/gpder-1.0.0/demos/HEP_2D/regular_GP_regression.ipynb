{
 "cells": [
  {
   "cell_type": "markdown",
   "metadata": {},
   "source": [
    "# Gaussian Process Regression\n",
    "\n",
    "This demo shows how to use the GaussianProcessRegressor class to calculate the efficiency of three-jet events with MET < 50 GeV.\n",
    "\n",
    "The following nuisance parameters are considered:\n",
    "- $\\nu_{J1}$: Jet energy scale of the leading jet, $J_1$.\n",
    "- $\\nu_{J23}$: Jet energy scale of the two softer jets, $J_2$ and $J_3$."
   ]
  },
  {
   "cell_type": "code",
   "execution_count": 1,
   "metadata": {},
   "outputs": [],
   "source": [
    "# Imports\n",
    "import gpder\n",
    "from gpder.gaussian_process import GaussianProcessRegressor\n",
    "from gpder.gaussian_process.kernels import RegularKernel, DerivativeKernel\n",
    "\n",
    "import numpy as np \n",
    "import matplotlib.pyplot as plt\n",
    "from matplotlib.lines import Line2D\n",
    "from matplotlib.patches import Patch, Rectangle, Arrow, FancyArrow\n",
    "%matplotlib inline  \n",
    "\n",
    "from multiprocessing import Pool, cpu_count"
   ]
  },
  {
   "cell_type": "code",
   "execution_count": 2,
   "metadata": {},
   "outputs": [
    {
     "name": "stdout",
     "output_type": "stream",
     "text": [
      "Shape of the dataset: (30000, 3, 3)\n"
     ]
    },
    {
     "name": "stderr",
     "output_type": "stream",
     "text": [
      "Title: Estimation of Unfactorizable Systematic Uncertainties\n",
      "Keywords: \n",
      "Publication date: 2024-04-14\n",
      "DOI: 10.5281/zenodo.10971439\n",
      "Total size: 1.0 MB\n",
      "\n",
      "Link: https://zenodo.org/api/records/10971439/files/three_jets_30k.h5/content   size: 1.0 MB\n",
      "three_jets_30k.h5 is already downloaded correctly.\n",
      "All files have been downloaded.\n"
     ]
    }
   ],
   "source": [
    "from utils import download_dataset, load_dataset\n",
    "\n",
    "# Downloading the dataset from zenodo. \n",
    "# By default, the h5df file is saved in the current directory.\n",
    "download_dataset()\n",
    "threeM = load_dataset()\n",
    "\n",
    "# The dataset consists of 30000 events, each with three jets. \n",
    "# For each jet, the three-momenta (pT, eta, phi) are saved in descending pT-order.\n",
    "print(\"Shape of the dataset:\", threeM.shape)"
   ]
  },
  {
   "cell_type": "code",
   "execution_count": 3,
   "metadata": {},
   "outputs": [],
   "source": [
    "# Plotting function\n",
    "from utils import plot_regression\n",
    "\n",
    "# Function that calculates the efficiency with respect to the two nuisance\n",
    "# See hep_functions.py for more details\n",
    "from hep_functions import efficiency\n",
    "def efficiency_events(X, threeM=threeM):\n",
    "    # Simplifying the input\n",
    "    return efficiency(X, threeM)"
   ]
  },
  {
   "cell_type": "code",
   "execution_count": 4,
   "metadata": {},
   "outputs": [],
   "source": [
    "# -- Test dataset ---------------------------------------------------------- #\n",
    "res_test = 25\n",
    "X_lower, X_upper = 0.5, 1.5\n",
    "lin = np.linspace(X_lower, X_upper, res_test)\n",
    "nu_J1_test, nu_J23_test = np.meshgrid(lin, lin)\n",
    "X_test = np.array([nu_J1_test.flatten(), nu_J23_test.flatten()]).T\n",
    "y_test = Pool(cpu_count()).map(efficiency_events, X_test)\n",
    "y_test = np.array(y_test)\n",
    "# -------------------------------------------------------------------------- #\n",
    "\n",
    "# -- Trainning dataset ----------------------------------------------------- #\n",
    "nu_J1_train = [0.74, 1.0, 1.0, 1.0, 1.25]\n",
    "nu_J23_train = [1.0, 0.75, 1.0, 1.25, 1.0]\n",
    "X_train = np.array([nu_J1_train, nu_J23_train]).T\n",
    "y_train = Pool(cpu_count()).map(efficiency_events, X_train)\n",
    "y_train = np.array(y_train)\n",
    "# -------------------------------------------------------------------------- #"
   ]
  },
  {
   "cell_type": "code",
   "execution_count": 5,
   "metadata": {},
   "outputs": [
    {
     "name": "stdout",
     "output_type": "stream",
     "text": [
      "Kernel before optimization: \n",
      "1**2 * RBF(length_scale=0.1) + WhiteKernel(noise_level=0.1)\n",
      "\n",
      "Kernel after optimization: \n",
      "0.519**2 * RBF(length_scale=0.233) + WhiteKernel(noise_level=0.01)\n",
      "\n",
      "Evaluation \n",
      "MSE:  0.1302440820422996\n",
      "Total variance:  78.97247916244862\n"
     ]
    },
    {
     "data": {
      "image/png": "[encoded data removed]",
      "text/plain": [
       "<Figure size 800x200 with 6 Axes>"
      ]
     },
     "metadata": {},
     "output_type": "display_data"
    }
   ],
   "source": [
    "# -- Fitting the model and hyperparameter optimization --------------------- #\n",
    "kernel = RegularKernel(amplitude=1.0, length_scale=0.1, noise_level=0.1)\n",
    "print(\"Kernel before optimization: \")\n",
    "print(kernel)\n",
    "# Set optimizer=None to skip hyperparameter optimization\n",
    "gp = GaussianProcessRegressor(\n",
    "    kernel=kernel, optimizer=\"L-BFGS-B\", n_restarts_optimizer=10, random_state=42\n",
    ")\n",
    "gp.fit(X_train, y_train)\n",
    "print(\"\\nKernel after optimization: \")\n",
    "print(gp.kernel)\n",
    "# -------------------------------------------------------------------------- #\n",
    "\n",
    "# -- Prediction and eval --------------------------------------------------- #\n",
    "y_pred_mean, y_pred_std = gp.predict(X_test, return_std=True)\n",
    "\n",
    "print(\"\\nEvaluation \")\n",
    "mse = np.sum((y_test - y_pred_mean.ravel()) ** 2) / len(y_test)\n",
    "print(\"MSE: \", mse)\n",
    "print(\"Total variance: \", np.sum(y_pred_std**2))\n",
    "# -------------------------------------------------------------------------- #\n",
    "\n",
    "plot_regression(gp, X_test, y_test)"
   ]
  },
  {
   "cell_type": "code",
   "execution_count": null,
   "metadata": {},
   "outputs": [],
   "source": []
  }
 ],
 "metadata": {
  "kernelspec": {
   "display_name": "gpder",
   "language": "python",
   "name": "python3"
  },
  "language_info": {
   "codemirror_mode": {
    "name": "ipython",
    "version": 3
   },
   "file_extension": ".py",
   "mimetype": "text/x-python",
   "name": "python",
   "nbconvert_exporter": "python",
   "pygments_lexer": "ipython3",
   "version": "3.11.0"
  }
 },
 "nbformat": 4,
 "nbformat_minor": 2
}
