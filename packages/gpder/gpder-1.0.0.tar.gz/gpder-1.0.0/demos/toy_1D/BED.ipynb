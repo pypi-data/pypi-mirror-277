{
 "cells": [
  {
   "cell_type": "markdown",
   "metadata": {},
   "source": [
    "# Bayesian Experimental Design\n",
    "\n",
    "This demo shows how to use the GPUncertaintyOptimizer class to select new training samples for a GP model. \n",
    "\n",
    "The samples are selected such that the predictive variance of the model is minimized.\n",
    "\n",
    "As a toy test case, we sample the following 1-D dynamical system  \n",
    "\\begin{align}\n",
    "y &= x \\cos(x) \\\\\n",
    "\\frac{dy}{dx} &= \\cos(x) - x \\sin(x)\n",
    "\\end{align}"
   ]
  },
  {
   "cell_type": "code",
   "execution_count": 1,
   "metadata": {},
   "outputs": [],
   "source": [
    "# Imports\n",
    "import gpder\n",
    "from gpder.gaussian_process import GaussianProcessRegressor\n",
    "from gpder.gaussian_process.kernels import RegularKernel, DerivativeKernel\n",
    "from gpder import GPUncertaintyOptimizer\n",
    "\n",
    "import numpy as np \n",
    "import matplotlib.pyplot as plt\n",
    "from matplotlib.lines import Line2D\n",
    "from matplotlib.patches import Patch, Rectangle, Arrow, FancyArrow\n",
    "%matplotlib inline  "
   ]
  },
  {
   "cell_type": "code",
   "execution_count": 2,
   "metadata": {},
   "outputs": [],
   "source": [
    "# Defining the function\n",
    "def f(x):\n",
    "    return x * np.cos(x)\n",
    "\n",
    "# And the derivative - to be used in the derivative GP regression\n",
    "def df(x):\n",
    "    return np.cos(x) - x * np.sin(x)\n"
   ]
  },
  {
   "cell_type": "markdown",
   "metadata": {},
   "source": [
    "# BED - Regular GP regression\n",
    "\n",
    "We use the GPUncertaintyOptimizer class to select new data for the regular GP model."
   ]
  },
  {
   "cell_type": "code",
   "execution_count": 3,
   "metadata": {},
   "outputs": [
    {
     "name": "stdout",
     "output_type": "stream",
     "text": [
      "Kernel: \n",
      "1**2 * RBF(length_scale=1) + WhiteKernel(noise_level=0)\n",
      "| Iter |     X      |   Target   |\n",
      "----------------------------------\n",
      "|  0   |   -2.00    |    0.83    |\n",
      "|  0   |    2.00    |   -0.83    |\n",
      "|  0   |    5.00    |    1.42    |\n",
      "|  0   |    7.50    |    2.60    |\n",
      "|  1   |   -6.58    |   -6.29    |\n",
      "|  2   |   -4.29    |    1.75    |\n",
      "|  3   |   -8.80    |    7.16    |\n",
      "|  4   |    0.00    |    0.00    |\n",
      "|  5   |    9.20    |   -8.97    |\n",
      "|  6   |    3.53    |   -3.27    |\n",
      "|  7   |    6.32    |    6.31    |\n",
      "|  8   |   -5.40    |   -3.41    |\n",
      "|  9   |   -9.05    |    8.44    |\n",
      "|  10  |   -2.62    |    2.28    |\n"
     ]
    }
   ],
   "source": [
    "# -- Test dataset ---------------------------------------------------------- #\n",
    "X_lower, X_upper = -10, 10\n",
    "X_test = np.linspace(X_lower, X_upper, 100).reshape(-1, 1)\n",
    "y_test = f(X_test)\n",
    "# -------------------------------------------------------------------------- #\n",
    "\n",
    "# -- Train dataset --------------------------------------------------------- #\n",
    "X_train = np.array([-2, 2, 5, 7.5]).reshape(-1, 1)\n",
    "y_train = f(X_train)\n",
    "# -------------------------------------------------------------------------- #\n",
    "\n",
    "# -- Fitting the model ----------------------------------------------------- #\n",
    "kernel = RegularKernel(amplitude=1.0, length_scale=1.0, noise_level=None)\n",
    "print(\"Kernel: \")\n",
    "print(kernel)\n",
    "gp_reg = GaussianProcessRegressor(kernel=kernel, optimizer=None)\n",
    "gp_reg.fit(X_train, y_train)\n",
    "# -------------------------------------------------------------------------- #\n",
    "\n",
    "# -- BED ------------------------------------------------------------------- #\n",
    "BED_reg = GPUncertaintyOptimizer(\n",
    "    gp_model=gp_reg,\n",
    "    bounds={\"X\": (X_lower, X_upper)},\n",
    "    function=f,\n",
    "    random_state=42,\n",
    "    verbose=True,\n",
    ")\n",
    "gp_reg = BED_reg.minimize_variance(\n",
    "    X_util=X_test, n_iters=10, n_restarts_optimizer=10, added_noise=None\n",
    ")\n",
    "# -------------------------------------------------------------------------- #"
   ]
  },
  {
   "cell_type": "markdown",
   "metadata": {},
   "source": [
    "# BED - Derivative GP regression\n",
    "\n",
    "We can also use the GPUncertaintyOptimizer class to select new data for the derivative GP model."
   ]
  },
  {
   "cell_type": "code",
   "execution_count": 4,
   "metadata": {},
   "outputs": [
    {
     "name": "stdout",
     "output_type": "stream",
     "text": [
      "Kernel: \n",
      "1**2 * DerivativeRBF(length_scale=1) + WhiteKernel(noise_level=0) + WhiteKernel_der(noise_level=0)\n",
      "| Iter |     X      |   Target   |\n",
      "----------------------------------\n",
      "|  0   |   -2.00    |    0.83    |\n",
      "|  0   |    2.00    |   -0.83    |\n",
      "|  0   |    5.00    |    1.42    |\n",
      "|  0   |    7.50    |    2.60    |\n",
      "|  1   |   -6.73    |   -6.07    |\n",
      "|  2   |   -4.36    |    1.49    |\n",
      "|  3   |   -9.05    |    8.43    |\n",
      "|  4   |    0.15    |    0.14    |\n",
      "|  5   |    9.28    |   -9.19    |\n",
      "|  6   |    4.25    |   -1.89    |\n",
      "|  7   |   -6.55    |   -6.32    |\n",
      "|  8   |   -2.17    |    1.21    |\n",
      "|  9   |   -9.39    |    9.38    |\n",
      "|  10  |    7.68    |    1.36    |\n"
     ]
    }
   ],
   "source": [
    "# -- Test dataset ---------------------------------------------------------- #\n",
    "dy_test = df(X_test)\n",
    "# -------------------------------------------------------------------------- #\n",
    "\n",
    "# -- Train dataset --------------------------------------------------------- #\n",
    "dy_train = df(X_train)\n",
    "# -------------------------------------------------------------------------- #\n",
    "\n",
    "# -- Fitting the derivative model ------------------------------------------ #\n",
    "kernel = DerivativeKernel(\n",
    "    amplitude=1.0, length_scale=1.0, noise_level=None, noise_level_der=None\n",
    ")\n",
    "print(\"Kernel: \")\n",
    "print(kernel)\n",
    "gp_der = GaussianProcessRegressor(kernel=kernel, optimizer=None)\n",
    "gp_der.fit(X_train, y_train, dX=X_train, dy=dy_train)\n",
    "# -------------------------------------------------------------------------- #\n",
    "\n",
    "# -- BED ------------------------------------------------------------------- #\n",
    "BED_der = GPUncertaintyOptimizer(\n",
    "    gp_model=gp_der,\n",
    "    bounds={\"X\": (X_lower, X_upper)},\n",
    "    function=f,\n",
    "    der_function=df,\n",
    "    random_state=42,\n",
    "    verbose=True,\n",
    ")\n",
    "gp_der = BED_der.minimize_variance(\n",
    "    X_util=X_test, n_iters=10, n_restarts_optimizer=10, added_noise=None\n",
    ")\n",
    "# -------------------------------------------------------------------------- #"
   ]
  },
  {
   "cell_type": "markdown",
   "metadata": {},
   "source": []
  }
 ],
 "metadata": {
  "kernelspec": {
   "display_name": "gpder",
   "language": "python",
   "name": "python3"
  },
  "language_info": {
   "codemirror_mode": {
    "name": "ipython",
    "version": 3
   },
   "file_extension": ".py",
   "mimetype": "text/x-python",
   "name": "python",
   "nbconvert_exporter": "python",
   "pygments_lexer": "ipython3",
   "version": "3.11.0"
  }
 },
 "nbformat": 4,
 "nbformat_minor": 2
}
