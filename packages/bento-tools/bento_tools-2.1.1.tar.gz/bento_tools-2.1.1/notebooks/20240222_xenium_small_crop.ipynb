{
 "cells": [
  {
   "cell_type": "code",
   "execution_count": 1,
   "metadata": {},
   "outputs": [
    {
     "name": "stderr",
     "output_type": "stream",
     "text": [
      "/home/ckmah/mambaforge/envs/spatialdata_refactor/lib/python3.10/site-packages/geopandas/_compat.py:111: UserWarning: The Shapely GEOS version (3.11.3-CAPI-1.17.3) is incompatible with the GEOS version PyGEOS was compiled with (3.10.4-CAPI-1.16.2). Conversions between both will be slow.\n",
      "  warnings.warn(\n",
      "/home/ckmah/mambaforge/envs/spatialdata_refactor/lib/python3.10/site-packages/spatialdata/__init__.py:11: UserWarning: Geopandas was set to use PyGEOS, changing to shapely 2.0 with:\n",
      "\n",
      "\tgeopandas.options.use_pygeos = True\n",
      "\n",
      "If you intended to use PyGEOS, set the option to False.\n",
      "  _check_geopandas_using_shapely()\n"
     ]
    }
   ],
   "source": [
    "import spatialdata as sd\n",
    "\n",
    "import bento as bt\n",
    "import spatialdata_plot"
   ]
  },
  {
   "cell_type": "code",
   "execution_count": 2,
   "metadata": {},
   "outputs": [
    {
     "data": {
      "text/plain": [
       "SpatialData object with:\n",
       "├── Images\n",
       "│     ├── 'morphology_focus': MultiscaleSpatialImage[cyx] (1, 25778, 35416), (1, 12889, 17708), (1, 6444, 8854), (1, 3222, 4427), (1, 1611, 2213)\n",
       "│     └── 'morphology_mip': MultiscaleSpatialImage[cyx] (1, 25778, 35416), (1, 12889, 17708), (1, 6444, 8854), (1, 3222, 4427), (1, 1611, 2213)\n",
       "├── Points\n",
       "│     └── 'transcripts': DataFrame with shape: (61276166, 8) (3D points)\n",
       "├── Shapes\n",
       "│     ├── 'cell_boundaries': GeoDataFrame shape: (167780, 1) (2D shapes)\n",
       "│     ├── 'cell_circles': GeoDataFrame shape: (167780, 2) (2D shapes)\n",
       "│     ├── 'nucleus_boundaries': GeoDataFrame shape: (167780, 1) (2D shapes)\n",
       "│     └── 'xenium_landmarks': GeoDataFrame shape: (3, 2) (2D shapes)\n",
       "└── Table\n",
       "      └── AnnData object with n_obs × n_vars = 167780 × 313\n",
       "    obs: 'cell_id', 'transcript_counts', 'control_probe_counts', 'control_codeword_counts', 'total_counts', 'cell_area', 'nucleus_area', 'region'\n",
       "    var: 'gene_ids', 'feature_types', 'genome'\n",
       "    uns: 'spatialdata_attrs'\n",
       "    obsm: 'spatial': AnnData (167780, 313)\n",
       "with coordinate systems:\n",
       "▸ 'global', with elements:\n",
       "        morphology_focus (Images), morphology_mip (Images), transcripts (Points), cell_boundaries (Shapes), cell_circles (Shapes), nucleus_boundaries (Shapes), xenium_landmarks (Shapes)"
      ]
     },
     "execution_count": 2,
     "metadata": {},
     "output_type": "execute_result"
    }
   ],
   "source": [
    "sdata = sd.read_zarr(\"/mnt/d/sdata/xenium_rep1_io/data.zarr\")\n",
    "sdata"
   ]
  },
  {
   "cell_type": "code",
   "execution_count": 3,
   "metadata": {},
   "outputs": [
    {
     "name": "stdout",
     "output_type": "stream",
     "text": [
      "\u001b[34mINFO    \u001b[0m Column `z` in `data` will be ignored since the data is 2D.                                                \n"
     ]
    }
   ],
   "source": [
    "xyz_scale_vector = sd.transformations.get_transformation(\n",
    "    sdata.points[\"transcripts\"]\n",
    ").to_scale_vector([\"x\", \"y\"])\n",
    "xy_scale = sd.transformations.Scale(scale=xyz_scale_vector, axes=[\"x\", \"y\"])\n",
    "transform = sdata.points[\"transcripts\"].attrs\n",
    "transform[\"transform\"][\"global\"] = xy_scale\n",
    "sdata.points[\"transcripts\"] = sd.models.PointsModel.parse(\n",
    "    sdata.points[\"transcripts\"].compute().reset_index(drop=True),\n",
    "    coordinates={\"x\": \"x\", \"y\": \"y\"},\n",
    "    feature_key=\"feature_name\",\n",
    "    instance_key=\"cell_id\",\n",
    ")\n",
    "sdata.points[\"transcripts\"].attrs = transform"
   ]
  },
  {
   "cell_type": "code",
   "execution_count": 4,
   "metadata": {},
   "outputs": [],
   "source": [
    "csdata = sd.bounding_box_query(\n",
    "    sdata,\n",
    "    axes=[\"x\", \"y\"],\n",
    "    min_coordinate=[12000, 12000],\n",
    "    max_coordinate=[12500, 12500],\n",
    "    target_coordinate_system=\"global\",\n",
    ")"
   ]
  },
  {
   "cell_type": "code",
   "execution_count": 5,
   "metadata": {},
   "outputs": [],
   "source": [
    "del csdata.images[\"morphology_focus\"]\n",
    "del csdata.images[\"morphology_mip\"]"
   ]
  },
  {
   "cell_type": "code",
   "execution_count": 6,
   "metadata": {},
   "outputs": [],
   "source": [
    "csdata.write(\n",
    "    \"/mnt/d/sdata/xenium_rep1_io/small_data.zarr\",\n",
    "    overwrite=True,\n",
    ")"
   ]
  }
 ],
 "metadata": {
  "kernelspec": {
   "display_name": "spatialdata_refactor",
   "language": "python",
   "name": "python3"
  },
  "language_info": {
   "codemirror_mode": {
    "name": "ipython",
    "version": 3
   },
   "file_extension": ".py",
   "mimetype": "text/x-python",
   "name": "python",
   "nbconvert_exporter": "python",
   "pygments_lexer": "ipython3",
   "version": "3.10.13"
  }
 },
 "nbformat": 4,
 "nbformat_minor": 2
}
