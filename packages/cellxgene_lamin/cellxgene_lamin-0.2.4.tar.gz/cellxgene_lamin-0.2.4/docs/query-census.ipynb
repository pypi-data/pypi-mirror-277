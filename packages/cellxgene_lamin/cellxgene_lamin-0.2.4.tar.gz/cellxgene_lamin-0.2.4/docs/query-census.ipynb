{
 "cells": [
  {
   "cell_type": "markdown",
   "metadata": {},
   "source": [
    "# Query cellxgene-census using TileDB-SOMA"
   ]
  },
  {
   "cell_type": "markdown",
   "metadata": {},
   "source": [
    "The [first guide](cellxgene) queried metadata and h5ad artifacts directly through LaminDB.\n",
    "\n",
    "This guide uses the TileDB-SOMA API to run similar queries."
   ]
  },
  {
   "cell_type": "markdown",
   "metadata": {},
   "source": [
    "## Setup"
   ]
  },
  {
   "cell_type": "markdown",
   "metadata": {},
   "source": [
    "Load your LaminDB instance for storing queried data:"
   ]
  },
  {
   "cell_type": "code",
   "execution_count": null,
   "metadata": {},
   "outputs": [],
   "source": [
    "!lamin init --storage ./test-cellxgene --schema bionty"
   ]
  },
  {
   "cell_type": "code",
   "execution_count": null,
   "metadata": {},
   "outputs": [],
   "source": [
    "import lamindb as ln\n",
    "import bionty as bt\n",
    "import cellxgene_census\n",
    "\n",
    "census_version = \"2023-07-25\""
   ]
  },
  {
   "cell_type": "markdown",
   "metadata": {},
   "source": [
    "## Create lookup objects\n",
    "\n",
    "We use metadata records in the `laminlabs/cellxgene` instance to generate lookups:"
   ]
  },
  {
   "cell_type": "code",
   "execution_count": null,
   "metadata": {},
   "outputs": [],
   "source": [
    "source = \"laminlabs/cellxgene\"\n",
    "human = \"homo_sapiens\"\n",
    "\n",
    "features = ln.Feature.using(source).lookup(return_field=\"name\")\n",
    "assays = bt.ExperimentalFactor.using(source).lookup(return_field=\"name\")\n",
    "cell_types = bt.CellType.using(source).lookup(return_field=\"name\")\n",
    "tissues = bt.Tissue.using(source).lookup(return_field=\"name\")\n",
    "ulabels = ln.ULabel.using(source).lookup()\n",
    "suspension_types = ulabels.is_suspension_type.children.all().lookup(return_field=\"name\")"
   ]
  },
  {
   "cell_type": "markdown",
   "metadata": {},
   "source": [
    "## Query data"
   ]
  },
  {
   "cell_type": "code",
   "execution_count": null,
   "metadata": {},
   "outputs": [],
   "source": [
    "value_filter = (\n",
    "    f'{features.tissue} == \"{tissues.brain}\" and {features.cell_type} in'\n",
    "    f' [\"{cell_types.microglial_cell}\", \"{cell_types.neuron}\"] and'\n",
    "    f' {features.suspension_type} == \"{suspension_types.cell}\" and {features.assay} =='\n",
    "    f' \"{assays.ln_10x_3_v3}\"'\n",
    ")"
   ]
  },
  {
   "cell_type": "code",
   "execution_count": null,
   "metadata": {},
   "outputs": [],
   "source": [
    "value_filter"
   ]
  },
  {
   "cell_type": "code",
   "execution_count": null,
   "metadata": {},
   "outputs": [],
   "source": [
    "%%time\n",
    "\n",
    "with cellxgene_census.open_soma(census_version=census_version) as census:\n",
    "    # Reads SOMADataFrame as a slice\n",
    "    cell_metadata = census[\"census_data\"][human].obs.read(value_filter=value_filter)\n",
    "\n",
    "    # Concatenates results to pyarrow.Table\n",
    "    cell_metadata = cell_metadata.concat()\n",
    "\n",
    "    # Converts to pandas.DataFrame\n",
    "    cell_metadata = cell_metadata.to_pandas()"
   ]
  },
  {
   "cell_type": "code",
   "execution_count": null,
   "metadata": {},
   "outputs": [],
   "source": [
    "cell_metadata.shape"
   ]
  },
  {
   "cell_type": "code",
   "execution_count": null,
   "metadata": {},
   "outputs": [],
   "source": [
    "cell_metadata.head()"
   ]
  },
  {
   "cell_type": "markdown",
   "metadata": {},
   "source": [
    "## Create AnnData"
   ]
  },
  {
   "cell_type": "code",
   "execution_count": null,
   "metadata": {},
   "outputs": [],
   "source": [
    "%%time\n",
    "\n",
    "with cellxgene_census.open_soma(census_version=census_version) as census:\n",
    "    adata = cellxgene_census.get_anndata(\n",
    "        census=census,\n",
    "        organism=human,\n",
    "        obs_value_filter=value_filter,\n",
    "        column_names={\n",
    "            \"obs\": [\n",
    "                features.assay,\n",
    "                features.cell_type,\n",
    "                features.tissue,\n",
    "                features.disease,\n",
    "                features.suspension_type,\n",
    "            ]\n",
    "        },\n",
    "    )"
   ]
  },
  {
   "cell_type": "code",
   "execution_count": null,
   "metadata": {},
   "outputs": [],
   "source": [
    "adata.var = adata.var.set_index(\"feature_id\")"
   ]
  },
  {
   "cell_type": "code",
   "execution_count": null,
   "metadata": {},
   "outputs": [],
   "source": [
    "adata"
   ]
  },
  {
   "cell_type": "code",
   "execution_count": null,
   "metadata": {},
   "outputs": [],
   "source": [
    "adata.var.head()"
   ]
  },
  {
   "cell_type": "code",
   "execution_count": null,
   "metadata": {},
   "outputs": [],
   "source": [
    "adata.obs.head()"
   ]
  },
  {
   "cell_type": "markdown",
   "metadata": {},
   "source": [
    "## Register the queried AnnData"
   ]
  },
  {
   "cell_type": "code",
   "execution_count": null,
   "metadata": {},
   "outputs": [],
   "source": [
    "ln.transform.stem_uid = \"6oq3VJy5yxIU\"\n",
    "ln.transform.version = \"0\"\n",
    "ln.track()"
   ]
  },
  {
   "cell_type": "markdown",
   "metadata": {},
   "source": [
    "Register genes and features:"
   ]
  },
  {
   "cell_type": "code",
   "execution_count": null,
   "metadata": {},
   "outputs": [],
   "source": [
    "bt.settings.organism = \"human\""
   ]
  },
  {
   "cell_type": "code",
   "execution_count": null,
   "metadata": {},
   "outputs": [],
   "source": [
    "genes = bt.Gene.from_values(adata.var_names, field=bt.Gene.ensembl_gene_id)\n",
    "ln.save(genes)\n",
    "\n",
    "features = ln.Feature.from_df(adata.obs)\n",
    "ln.save(features)"
   ]
  },
  {
   "cell_type": "markdown",
   "metadata": {},
   "source": [
    "Register the `AnnData` object:"
   ]
  },
  {
   "cell_type": "code",
   "execution_count": null,
   "metadata": {},
   "outputs": [],
   "source": [
    "artifact = ln.Artifact.from_anndata(\n",
    "    adata,\n",
    "    description=(\n",
    "        \"microglial and neuron cell data from 10x 3' v3 in brain queried from Census\"\n",
    "    ),\n",
    ")"
   ]
  },
  {
   "cell_type": "code",
   "execution_count": null,
   "metadata": {},
   "outputs": [],
   "source": [
    "artifact.save()"
   ]
  },
  {
   "cell_type": "markdown",
   "metadata": {},
   "source": [
    "Link validated metadata:"
   ]
  },
  {
   "cell_type": "code",
   "execution_count": null,
   "metadata": {},
   "outputs": [],
   "source": [
    "artifact.features._add_set_from_anndata(var_field=bt.Gene.ensembl_gene_id)"
   ]
  },
  {
   "cell_type": "code",
   "execution_count": null,
   "metadata": {
    "tags": [
     "hide-output"
    ]
   },
   "outputs": [],
   "source": [
    "features_remote = ln.Feature.using(source).lookup().dict()\n",
    "features = ln.Feature.lookup().dict()\n",
    "\n",
    "for col, orm in {\n",
    "    \"assay\": bt.ExperimentalFactor,\n",
    "    \"cell_type\": bt.CellType,\n",
    "    \"tissue\": bt.Tissue,\n",
    "    \"disease\": bt.Disease,\n",
    "    \"suspension_type\": ln.ULabel,\n",
    "}.items():\n",
    "    labels = orm.from_values(adata.obs[col])\n",
    "    if len(labels) > 0:\n",
    "        ln.save(labels)\n",
    "    else:\n",
    "        labels = [orm(name=name) for name in adata.obs[col].unique()]\n",
    "        ln.save(labels)\n",
    "    artifact.labels.add(labels, features.get(col))"
   ]
  },
  {
   "cell_type": "code",
   "execution_count": null,
   "metadata": {},
   "outputs": [],
   "source": [
    "artifact.describe()"
   ]
  },
  {
   "cell_type": "code",
   "execution_count": null,
   "metadata": {},
   "outputs": [],
   "source": [
    "artifact.view_lineage()"
   ]
  },
  {
   "cell_type": "code",
   "execution_count": null,
   "metadata": {
    "tags": [
     "hide-output"
    ]
   },
   "outputs": [],
   "source": [
    "# clean up test instance\n",
    "!lamin delete --force test-cellxgene\n",
    "!rm -r ./test-cellxgene"
   ]
  }
 ],
 "metadata": {
  "kernelspec": {
   "display_name": "py39",
   "language": "python",
   "name": "python3"
  },
  "language_info": {
   "codemirror_mode": {
    "name": "ipython",
    "version": 3
   },
   "file_extension": ".py",
   "mimetype": "text/x-python",
   "name": "python",
   "nbconvert_exporter": "python",
   "pygments_lexer": "ipython3",
   "version": "3.10.13"
  },
  "nbproject": {
   "id": "6oq3VJy5yxIU",
   "parent": null,
   "pypackage": null,
   "time_init": "2023-10-20T10:11:29.463150+00:00",
   "user_handle": null,
   "user_id": null,
   "user_name": null,
   "version": "0"
  }
 },
 "nbformat": 4,
 "nbformat_minor": 2
}
