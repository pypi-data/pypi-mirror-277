{
 "cells": [
  {
   "cell_type": "code",
   "execution_count": 4,
   "metadata": {},
   "outputs": [],
   "source": [
    "import polars as pl\n",
    "from polars_order_book import calculate_bbo\n"
   ]
  },
  {
   "cell_type": "code",
   "execution_count": 38,
   "metadata": {},
   "outputs": [],
   "source": [
    "n = 1\n",
    "market_data = pl.DataFrame({\n",
    "    'id':  [1, 2, 3, 4, 5, 6, 7, 8, 9, 10, 11, 12] * n,\n",
    "    'price': [1, 2, 3, 6, 5, 4, 3, 1, 2, 5, 4, 6] * n,\n",
    "    'qty':   [1, 2, 3, 6, 5, 4, -3, -1, -2, -5, -4, -6] * n,\n",
    "    'is_bid': [True, True, True, False, False, False, True, True, True, False, False, False] * n\n",
    "}, schema={\n",
    "    'id': pl.Int8,\n",
    "    'price': pl.Int64,\n",
    "    'qty': pl.Int64,\n",
    "    'is_bid': pl.Boolean\n",
    "})\n",
    "market_data = market_data.with_columns(\n",
    "    bbo=calculate_bbo('price', 'qty', 'is_bid')\n",
    ").unnest('bbo')\n",
    "\n",
    "expected_values = {\n",
    "    'id':  [1, 2, 3, 4, 5, 6, 7, 8, 9, 10, 11, 12],\n",
    "    'best_bid': [1, 2, 3, 3, 3, 3, 2, 2, None, None, None, None],\n",
    "    'best_ask': [None, None, None, 6, 5, 4, 4, 4, 4, 4, 6 , None],\n",
    "    'best_bid_qty': [1, 2, 3, 3, 3, 3, 2, 2, None, None, None, None],\n",
    "    'best_ask_qty': [None, None, None, 6, 5, 4, 4, 4, 4, 4, 6, None],\n",
    "}\n",
    "expected = pl.DataFrame(expected_values, schema={k: v for k,v in market_data.schema.items() if k in expected_values})\n",
    "expected = market_data.select('id').join(expected, on='id')"
   ]
  },
  {
   "cell_type": "code",
   "execution_count": 40,
   "metadata": {},
   "outputs": [
    {
     "ename": "AssertionError",
     "evalue": "DataFrames are different (value mismatch for column 'best_ask')\n[left]:  [None, None, None, 6, 5, 4, 4, 4, 4, 4, 6, None]\n[right]: [None, None, None, 6, 5, 4, 5, 4, 4, 4, 6, None]",
     "output_type": "error",
     "traceback": [
      "\u001b[0;31m---------------------------------------------------------------------------\u001b[0m",
      "\u001b[0;31mAssertionError\u001b[0m                            Traceback (most recent call last)",
      "    \u001b[0;31m[... skipping hidden 2 frame]\u001b[0m\n",
      "File \u001b[0;32m~/envs/polars/lib/python3.12/site-packages/polars/testing/asserts/utils.py:12\u001b[0m, in \u001b[0;36mraise_assertion_error\u001b[0;34m(objects, detail, left, right, cause)\u001b[0m\n\u001b[1;32m     11\u001b[0m msg \u001b[38;5;241m=\u001b[39m \u001b[38;5;124mf\u001b[39m\u001b[38;5;124m\"\u001b[39m\u001b[38;5;132;01m{\u001b[39;00mobjects\u001b[38;5;132;01m}\u001b[39;00m\u001b[38;5;124m are different (\u001b[39m\u001b[38;5;132;01m{\u001b[39;00mdetail\u001b[38;5;132;01m}\u001b[39;00m\u001b[38;5;124m)\u001b[39m\u001b[38;5;130;01m\\n\u001b[39;00m\u001b[38;5;124m[left]:  \u001b[39m\u001b[38;5;132;01m{\u001b[39;00mleft\u001b[38;5;132;01m}\u001b[39;00m\u001b[38;5;130;01m\\n\u001b[39;00m\u001b[38;5;124m[right]: \u001b[39m\u001b[38;5;132;01m{\u001b[39;00mright\u001b[38;5;132;01m}\u001b[39;00m\u001b[38;5;124m\"\u001b[39m\n\u001b[0;32m---> 12\u001b[0m \u001b[38;5;28;01mraise\u001b[39;00m \u001b[38;5;167;01mAssertionError\u001b[39;00m(msg) \u001b[38;5;28;01mfrom\u001b[39;00m \u001b[38;5;21;01mcause\u001b[39;00m\n",
      "\u001b[0;31mAssertionError\u001b[0m: Series are different (exact value mismatch)\n[left]:  [None, None, None, 6, 5, 4, 4, 4, 4, 4, 6, None]\n[right]: [None, None, None, 6, 5, 4, 5, 4, 4, 4, 6, None]",
      "\nThe above exception was the direct cause of the following exception:\n",
      "\u001b[0;31mAssertionError\u001b[0m                            Traceback (most recent call last)",
      "Cell \u001b[0;32mIn[40], line 2\u001b[0m\n\u001b[1;32m      1\u001b[0m \u001b[38;5;28;01mfrom\u001b[39;00m \u001b[38;5;21;01mpolars\u001b[39;00m\u001b[38;5;21;01m.\u001b[39;00m\u001b[38;5;21;01mtesting\u001b[39;00m\u001b[38;5;21;01m.\u001b[39;00m\u001b[38;5;21;01masserts\u001b[39;00m \u001b[38;5;28;01mimport\u001b[39;00m assert_frame_equal\n\u001b[0;32m----> 2\u001b[0m \u001b[43massert_frame_equal\u001b[49m\u001b[43m(\u001b[49m\n\u001b[1;32m      3\u001b[0m \u001b[43m    \u001b[49m\u001b[43mmarket_data\u001b[49m\u001b[38;5;241;43m.\u001b[39;49m\u001b[43mselect\u001b[49m\u001b[43m(\u001b[49m\u001b[38;5;124;43m'\u001b[39;49m\u001b[38;5;124;43mid\u001b[39;49m\u001b[38;5;124;43m'\u001b[39;49m\u001b[43m,\u001b[49m\u001b[43m \u001b[49m\u001b[38;5;124;43m'\u001b[39;49m\u001b[38;5;124;43mbest_bid\u001b[39;49m\u001b[38;5;124;43m'\u001b[39;49m\u001b[43m,\u001b[49m\u001b[43m \u001b[49m\u001b[38;5;124;43m'\u001b[39;49m\u001b[38;5;124;43mbest_ask\u001b[39;49m\u001b[38;5;124;43m'\u001b[39;49m\u001b[43m,\u001b[49m\u001b[43m \u001b[49m\u001b[38;5;124;43m'\u001b[39;49m\u001b[38;5;124;43mbest_bid_qty\u001b[39;49m\u001b[38;5;124;43m'\u001b[39;49m\u001b[43m,\u001b[49m\u001b[43m \u001b[49m\u001b[38;5;124;43m'\u001b[39;49m\u001b[38;5;124;43mbest_ask_qty\u001b[39;49m\u001b[38;5;124;43m'\u001b[39;49m\u001b[43m)\u001b[49m\u001b[43m,\u001b[49m\u001b[43m \u001b[49m\u001b[43mexpected\u001b[49m\u001b[43m,\u001b[49m\u001b[43m \u001b[49m\u001b[43mcheck_column_order\u001b[49m\u001b[38;5;241;43m=\u001b[39;49m\u001b[38;5;28;43;01mFalse\u001b[39;49;00m\n\u001b[1;32m      4\u001b[0m \u001b[43m)\u001b[49m\n",
      "    \u001b[0;31m[... skipping hidden 1 frame]\u001b[0m\n",
      "File \u001b[0;32m~/envs/polars/lib/python3.12/site-packages/polars/testing/asserts/utils.py:12\u001b[0m, in \u001b[0;36mraise_assertion_error\u001b[0;34m(objects, detail, left, right, cause)\u001b[0m\n\u001b[1;32m     10\u001b[0m __tracebackhide__ \u001b[38;5;241m=\u001b[39m \u001b[38;5;28;01mTrue\u001b[39;00m\n\u001b[1;32m     11\u001b[0m msg \u001b[38;5;241m=\u001b[39m \u001b[38;5;124mf\u001b[39m\u001b[38;5;124m\"\u001b[39m\u001b[38;5;132;01m{\u001b[39;00mobjects\u001b[38;5;132;01m}\u001b[39;00m\u001b[38;5;124m are different (\u001b[39m\u001b[38;5;132;01m{\u001b[39;00mdetail\u001b[38;5;132;01m}\u001b[39;00m\u001b[38;5;124m)\u001b[39m\u001b[38;5;130;01m\\n\u001b[39;00m\u001b[38;5;124m[left]:  \u001b[39m\u001b[38;5;132;01m{\u001b[39;00mleft\u001b[38;5;132;01m}\u001b[39;00m\u001b[38;5;130;01m\\n\u001b[39;00m\u001b[38;5;124m[right]: \u001b[39m\u001b[38;5;132;01m{\u001b[39;00mright\u001b[38;5;132;01m}\u001b[39;00m\u001b[38;5;124m\"\u001b[39m\n\u001b[0;32m---> 12\u001b[0m \u001b[38;5;28;01mraise\u001b[39;00m \u001b[38;5;167;01mAssertionError\u001b[39;00m(msg) \u001b[38;5;28;01mfrom\u001b[39;00m \u001b[38;5;21;01mcause\u001b[39;00m\n",
      "\u001b[0;31mAssertionError\u001b[0m: DataFrames are different (value mismatch for column 'best_ask')\n[left]:  [None, None, None, 6, 5, 4, 4, 4, 4, 4, 6, None]\n[right]: [None, None, None, 6, 5, 4, 5, 4, 4, 4, 6, None]"
     ]
    }
   ],
   "source": [
    "from polars.testing.asserts import assert_frame_equal\n",
    "assert_frame_equal(\n",
    "    market_data.select('id', 'best_bid', 'best_ask', 'best_bid_qty', 'best_ask_qty'), expected, check_column_order=False\n",
    ")"
   ]
  },
  {
   "cell_type": "code",
   "execution_count": 3,
   "metadata": {},
   "outputs": [
    {
     "name": "stdout",
     "output_type": "stream",
     "text": [
      "44.2 s ± 122 ms per loop (mean ± std. dev. of 7 runs, 1 loop each)\n"
     ]
    }
   ],
   "source": [
    "%%timeit \n",
    "market_data.with_columns(\n",
    "    bbo=calculate_bbo('price', 'qty', 'is_bid')\n",
    ").unnest('bbo')"
   ]
  },
  {
   "cell_type": "code",
   "execution_count": 27,
   "metadata": {},
   "outputs": [],
   "source": [
    "n = 10_000_000\n",
    "market_data = pl.DataFrame({\n",
    "    'price': [1, 2, 3, 6, 5, 4, 3, 1, 2, 5, 4, 6, 1, 2, 3, 6, 5, 4, 3, 1, 2, 5, 4, 6] * (n//2),\n",
    "    'qty':   [1, 2, 3, 6, 5, 4, 3, 1, 2, 5, 4, 6, -1, -2, -3, -6, -5, -4, -3, -1, -2, -5, -4, -6] * (n//2),\n",
    "    'is_bid': [True, True, True, False, False, False, True, True, True, False, False, False] * n\n",
    "}, schema={\n",
    "    'price': pl.Int64,\n",
    "    'qty': pl.Int64,\n",
    "    'is_bid': pl.Boolean\n",
    "})"
   ]
  },
  {
   "cell_type": "code",
   "execution_count": 28,
   "metadata": {},
   "outputs": [
    {
     "name": "stdout",
     "output_type": "stream",
     "text": [
      "3.9 s ± 32 ms per loop (mean ± std. dev. of 7 runs, 1 loop each)\n"
     ]
    }
   ],
   "source": [
    "%timeit market_data.with_columns(bbo=calculate_bbo('price', 'qty', 'is_bid')).unnest('bbo')"
   ]
  },
  {
   "cell_type": "code",
   "execution_count": 4,
   "metadata": {},
   "outputs": [],
   "source": [
    "n = 10_000_000\n",
    "symbols = ['A', 'B', 'C', 'D', 'E']\n",
    "symbols = sum([[s] * 12 for s in symbols], []) \n",
    "market_data = pl.DataFrame({\n",
    "    'price': [1, 2, 3, 6, 5, 4, 3, 1, 2, 5, 4, 6] * n,\n",
    "    'qty':   [1, 2, 3, 6, 5, 4, -3, -1, -2, -5, -4, -6] * n,\n",
    "    'is_bid': [True, True, True, False, False, False, True, True, True, False, False, False] * n,\n",
    "    'symbol': symbols * (n // 5)\n",
    "}, schema={\n",
    "    'price': pl.Int64,\n",
    "    'qty': pl.Int64,\n",
    "    'is_bid': pl.Boolean,\n",
    "    'symbol': pl.Utf8\n",
    "})"
   ]
  },
  {
   "cell_type": "code",
   "execution_count": 5,
   "metadata": {},
   "outputs": [
    {
     "name": "stdout",
     "output_type": "stream",
     "text": [
      "46.8 s ± 326 ms per loop (mean ± std. dev. of 7 runs, 1 loop each)\n"
     ]
    }
   ],
   "source": [
    "%%timeit\n",
    "market_data.group_by('symbol').agg(\n",
    "    calculate_bbo('price', 'qty', 'is_bid').alias('bbo')\n",
    ").explode('bbo').unnest('bbo')"
   ]
  },
  {
   "cell_type": "code",
   "execution_count": null,
   "metadata": {},
   "outputs": [],
   "source": []
  }
 ],
 "metadata": {
  "kernelspec": {
   "display_name": "Python 3",
   "language": "python",
   "name": "python3"
  },
  "language_info": {
   "codemirror_mode": {
    "name": "ipython",
    "version": 3
   },
   "file_extension": ".py",
   "mimetype": "text/x-python",
   "name": "python",
   "nbconvert_exporter": "python",
   "pygments_lexer": "ipython3",
   "version": "3.12.3"
  }
 },
 "nbformat": 4,
 "nbformat_minor": 2
}
