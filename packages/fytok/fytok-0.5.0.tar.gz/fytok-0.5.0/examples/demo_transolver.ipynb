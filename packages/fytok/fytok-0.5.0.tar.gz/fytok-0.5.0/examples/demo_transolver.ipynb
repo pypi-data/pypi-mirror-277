{
 "cells": [
  {
   "cell_type": "code",
   "execution_count": 1,
   "metadata": {},
   "outputs": [
    {
     "name": "stdout",
     "output_type": "stream",
     "text": [
      "\u001b[0;34m2024-05-30 10:30:40,490 [   fytok]     INFO: \n",
      "###################################################################################################\n",
      "\n",
      "    ______      _____     _\n",
      "   / ____/_  __|_   _|__ | | __\n",
      "  / /_  / / / /  | |/ _ \\| |/ /\n",
      " / __/ / /_/ /   | | (_) |   <\n",
      "/_/    \\__, /    |_|\\___/|_|\\_\\\n",
      "      /____/\n",
      "\n",
      " Copyright (c) 2021-present Zhi YU @ Institute of Plasma Physics Chinese Academy of Sciences \n",
      "            \n",
      " version = 0.4.1  (spdm=beta extension=0.2.3.dev0+g2cc21ff.d20240223, imas_version=None)\n",
      "\n",
      " Run by salmon at 2024-05-30T10:30:40.487630.\n",
      " Job ID: fytok_salmon_surface_25188\n",
      "\n",
      "###################################################################################################\n",
      "\u001b[0m\n"
     ]
    }
   ],
   "source": [
    "import pathlib\n",
    "import scipy.constants\n",
    "import numpy as np\n",
    "import pandas as pd\n",
    "import matplotlib.pyplot as plt\n",
    "from fytok.tokamak import Tokamak\n",
    "from fytok.modules.core_profiles import CoreProfiles\n",
    "from fytok.modules.equilibrium import Equilibrium\n",
    "from spdm.view import sp_view\n",
    "from spdm.core.path import Path\n",
    "from spdm.core.function import Function\n",
    "from spdm.core.expression import Variable"
   ]
  },
  {
   "cell_type": "markdown",
   "metadata": {},
   "source": [
    "## 导入基准数据\n"
   ]
  },
  {
   "cell_type": "code",
   "execution_count": 2,
   "metadata": {},
   "outputs": [
    {
     "name": "stdout",
     "output_type": "stream",
     "text": [
      "\u001b[0;37m2024-05-30 10:30:40,751 [   fytok]  VERBOSE: Load module spdm.plugins.data.plugin_iterprofiles\u001b[0m\n",
      "\u001b[0;37m2024-05-30 10:30:40,822 [   fytok]  VERBOSE: Initialize module fytok.modules.core_profiles.CoreProfiles-0.0.0-No copyright statement \u001b[0m\n",
      "\u001b[0;37m2024-05-30 10:30:41,035 [   fytok]  VERBOSE: Load module fytok.plugins.modules.equilibrium.fy_eq\u001b[0m\n",
      "\u001b[0;37m2024-05-30 10:30:41,040 [   fytok]  VERBOSE: Load module spdm.plugins.data.plugin_geqdsk\u001b[0m\n",
      "\u001b[0;37m2024-05-30 10:30:41,062 [   fytok]  VERBOSE: Initialize module fytok.plugins.modules.equilibrium.fy_eq.fy_eq.FyEqAnalyze-0.0.0-FUYUN \u001b[0m\n"
     ]
    }
   ],
   "source": [
    "data_path = pathlib.Path(\"/home/salmon/workspace/fytok_data/data/15MA inductive - burn\")\n",
    "\n",
    "astra_profiles = pd.read_excel(\n",
    "    next(data_path.glob(\"*ASTRA.xls\")).absolute().as_posix(), sheet_name=1, header=10, usecols=\"B:BN\"\n",
    ")\n",
    "astra_rho_tor_norm = astra_profiles[\"x\"].values\n",
    "\n",
    "core_profiles_astra = CoreProfiles(\n",
    "    f\"file+iterprofiles://{next(data_path.glob('*ASTRA.xls')).absolute().as_posix()}#core_profiles\"\n",
    ")\n",
    "\n",
    "core_profiles_1d_astra = core_profiles_astra.time_slice.current.profiles_1d\n",
    "\n",
    "equilibrium_astra = Equilibrium(f\"file+geqdsk://{next(data_path.glob('**/g*.txt')).absolute().as_posix()}#equilibrium\")"
   ]
  },
  {
   "cell_type": "code",
   "execution_count": 3,
   "metadata": {},
   "outputs": [],
   "source": [
    "current=core_profiles_astra.time_slice.current"
   ]
  },
  {
   "cell_type": "code",
   "execution_count": 4,
   "metadata": {},
   "outputs": [
    {
     "data": {
      "text/plain": [
       "CoreProfiles.CoreProfilesTimeSlice.profiles_1d"
      ]
     },
     "execution_count": 4,
     "metadata": {},
     "output_type": "execute_result"
    }
   ],
   "source": [
    "current.profiles_1d"
   ]
  },
  {
   "cell_type": "code",
   "execution_count": 5,
   "metadata": {},
   "outputs": [
    {
     "data": {
      "text/plain": [
       "{}"
      ]
     },
     "execution_count": 5,
     "metadata": {},
     "output_type": "execute_result"
    }
   ],
   "source": [
    "CoreProfiles.TimeSlice.profiles_1d.default_value"
   ]
  },
  {
   "cell_type": "markdown",
   "metadata": {},
   "source": [
    "## 初始化 Tokamak\n"
   ]
  },
  {
   "cell_type": "code",
   "execution_count": 6,
   "metadata": {},
   "outputs": [
    {
     "name": "stdout",
     "output_type": "stream",
     "text": [
      "\u001b[0;37m2024-05-30 10:30:41,323 [   fytok]  VERBOSE: Load module spdm.plugins.data.plugin_xml\u001b[0m\n"
     ]
    }
   ],
   "source": [
    "tokamak = Tokamak(\n",
    "    device=\"iter\",\n",
    "    shot=900003,\n",
    "    equilibrium=f\"file+geqdsk://{next(data_path.glob('**/g*.txt')).absolute().as_posix()}#equilibrium\",\n",
    "    # core_profiles=f\"file+iterprofiles://{next(data_path.glob('*ASTRA.xls')).absolute().as_posix()}#core_profiles\",\n",
    "    core_transport={\n",
    "        \"model\": [\n",
    "            {\"code\": {\"name\": \"predefined\"}},\n",
    "            {\"code\": {\"name\": \"fast_alpha\"}},\n",
    "        ]\n",
    "    },\n",
    "    core_sources={\n",
    "        \"source\": [\n",
    "            f\"file+iterprofiles://{next(data_path.glob('*ASTRA.xls')).absolute().as_posix()}#core_sources/source/0\",\n",
    "            {\"code\": {\"name\": \"collisional_equipartition\"}},\n",
    "            {\"code\": {\"name\": \"fusion\", \"parameters\": {\"fusion_reactions\": [\"D(t,n)alpha\"], \"heating\": True}}},\n",
    "            # {\"code\": {\"name\": \"radiation\"}},\n",
    "            # {\"code\": {\"name\": \"synchrotron_radiation\"}},\n",
    "        ]\n",
    "    },\n",
    "    transport_solver={\n",
    "        \"code\": {\n",
    "            \"name\": \"fy_trans\",\n",
    "            \"parameters\": {\n",
    "                \"discontinuity\": [0.96, 0.995],\n",
    "                \"dc_pos\": 0.96,\n",
    "                \"hyper_diff\": 1.0e-5,\n",
    "                \"max_nodes\": 512,\n",
    "                \"bc_tol\": 1,\n",
    "                \"verbose\": 2,\n",
    "                \"units\": {\n",
    "                    \"psi_norm\": 1,\n",
    "                    \"psi_norm_flux\": -0.1,\n",
    "                    \"*/density\": 1.0e19,\n",
    "                    \"*/density_flux\": 1.0e23,\n",
    "                    \"*/temperature\": 1.0e4,\n",
    "                    \"*/temperature_flux\": 1.0e26,\n",
    "                    # \"ion/alpha/density\": 1.0e14,\n",
    "                    # \"ion/alpha/density_flux\": 1.0e16,\n",
    "                    # \"ion/He/density\": 1.0e15,\n",
    "                    # \"ion/He/density_flux\": 1.0e15,\n",
    "                },\n",
    "            },\n",
    "        },\n",
    "        \"ion_thermal\": [\"D\", \"T\"],  #\n",
    "        \"ion_non_thermal\": [\"alpha\", \"He\"],\n",
    "        \"impurities\": [\"Ar\", \"Be\"],\n",
    "        \"boundary_condition_type\": {\n",
    "            # fmt: off\n",
    "            # psi                          at axis \\frac{d\\psi}{dx}=0  , at boundary \\psi=?\n",
    "            \"psi\"                       : 1, \n",
    "            \"psi_norm\"                  : 1, \n",
    "            # density                      at axis \\Gamma_s=0          , at boundary n=?\n",
    "            \"*/density\"                 : 1, \n",
    "            # temperatur                   at axis \\frac{dT}{dx}=0     , at boundary T=?\n",
    "            \"*/temperature\"             : 1,\n",
    "            # fmt: on\n",
    "        },\n",
    "    },\n",
    ")"
   ]
  },
  {
   "cell_type": "code",
   "execution_count": 7,
   "metadata": {},
   "outputs": [
    {
     "data": {
      "text/plain": [
       "{'fytok.modules.equilibrium.fy_eq': fytok.plugins.modules.equilibrium.fy_eq.fy_eq.FyEqAnalyze}"
      ]
     },
     "execution_count": 7,
     "metadata": {},
     "output_type": "execute_result"
    }
   ],
   "source": [
    "from fytok.modules.transport_solver_numerics import TransportSolverNumerics\n",
    "TransportSolverNumerics._plugin_registry"
   ]
  },
  {
   "cell_type": "code",
   "execution_count": 8,
   "metadata": {},
   "outputs": [
    {
     "name": "stdout",
     "output_type": "stream",
     "text": [
      "\u001b[0;37m2024-05-30 10:30:41,493 [   fytok]  VERBOSE: Load module fytok.plugins.modules.transport_solver_numerics.fy_trans\u001b[0m\n",
      "\u001b[0;37m2024-05-30 10:30:41,497 [   fytok]  VERBOSE: Initialize module fytok.plugins.modules.transport_solver_numerics.fy_trans.fy_trans.FyTrans-0.0.0-No copyright statement \u001b[0m\n"
     ]
    }
   ],
   "source": [
    "profiles_1d=tokamak.transport_solver.profiles_1d"
   ]
  },
  {
   "cell_type": "code",
   "execution_count": 9,
   "metadata": {},
   "outputs": [
    {
     "name": "stdout",
     "output_type": "stream",
     "text": [
      "\u001b[0;37m2024-05-30 10:30:41,556 [   fytok]  VERBOSE: Initialize module fytok.modules.core_profiles.CoreProfiles-0.0.0-No copyright statement \u001b[0m\n",
      "\u001b[0;37m2024-05-30 10:30:41,593 [   fytok]  VERBOSE: Initialize module fytok.plugins.modules.equilibrium.fy_eq.fy_eq.FyEqAnalyze-0.0.0-FUYUN \u001b[0m\n",
      "\u001b[0;37m2024-05-30 10:30:41,643 [   fytok]  VERBOSE: Initialize module fytok.modules.core_sources.CoreSources-0.0.0-No copyright statement \u001b[0m\n",
      "\u001b[0;37m2024-05-30 10:30:41,726 [   fytok]  VERBOSE: Initialize module fytok.modules.core_sources.CoreSourcesSource-0.0.0-No copyright statement \u001b[0m\n",
      "\u001b[0;37m2024-05-30 10:30:41,733 [   fytok]  VERBOSE: Load module fytok.plugins.modules.core_sources.source.collisional_equipartition\u001b[0m\n",
      "\u001b[0;37m2024-05-30 10:30:41,737 [   fytok]  VERBOSE: Initialize module fytok.plugins.modules.core_sources.source.collisional_equipartition.CollisionalEquipartition-0.0.0-No copyright statement \u001b[0m\n",
      "\u001b[0;37m2024-05-30 10:30:41,743 [   fytok]  VERBOSE: Load module fytok.plugins.modules.core_sources.source.fusion\u001b[0m\n",
      "\u001b[0;37m2024-05-30 10:30:41,745 [   fytok]  VERBOSE: Initialize module fytok.plugins.modules.core_sources.source.fusion.FusionReaction-0.0.0-No copyright statement \u001b[0m\n",
      "\u001b[0;37m2024-05-30 10:30:41,750 [   fytok]  VERBOSE: Initialize module fytok.modules.core_transport.CoreTransport-0.0.0-No copyright statement \u001b[0m\n",
      "\u001b[0;37m2024-05-30 10:30:41,754 [   fytok]  VERBOSE: Load module fytok.plugins.modules.core_transport.model.predefined\u001b[0m\n",
      "\u001b[0;37m2024-05-30 10:30:41,757 [   fytok]  VERBOSE: Initialize module fytok.plugins.modules.core_transport.model.predefined.PredefinedTransport-0.0.0-No copyright statement \u001b[0m\n",
      "\u001b[0;37m2024-05-30 10:30:41,763 [   fytok]  VERBOSE: Load module fytok.plugins.modules.core_transport.model.fast_alpha\u001b[0m\n",
      "\u001b[0;37m2024-05-30 10:30:41,766 [   fytok]  VERBOSE: Initialize module fytok.plugins.modules.core_transport.model.fast_alpha.FastAlpha-0.0.0-No copyright statement \u001b[0m\n"
     ]
    },
    {
     "ename": "TypeError",
     "evalue": " tags.not_found is not a Tree! key= temperature",
     "output_type": "error",
     "traceback": [
      "\u001b[0;31m---------------------------------------------------------------------------\u001b[0m",
      "\u001b[0;31mTypeError\u001b[0m                                 Traceback (most recent call last)",
      "Cell \u001b[0;32mIn[9], line 1\u001b[0m\n\u001b[0;32m----> 1\u001b[0m \u001b[43mtokamak\u001b[49m\u001b[38;5;241;43m.\u001b[39;49m\u001b[43minitialize\u001b[49m\u001b[43m(\u001b[49m\u001b[43m)\u001b[49m\n",
      "File \u001b[0;32m~/workspace/fytok/python/fytok/tokamak.py:169\u001b[0m, in \u001b[0;36mTokamak.initialize\u001b[0;34m(self, *args, **kwargs)\u001b[0m\n\u001b[1;32m    167\u001b[0m \u001b[38;5;28mself\u001b[39m\u001b[38;5;241m.\u001b[39mcore_sources\u001b[38;5;241m.\u001b[39minitialize(time\u001b[38;5;241m=\u001b[39m\u001b[38;5;28mself\u001b[39m\u001b[38;5;241m.\u001b[39mtime, equilibrium\u001b[38;5;241m=\u001b[39m\u001b[38;5;28mself\u001b[39m\u001b[38;5;241m.\u001b[39mequilibrium, core_profiles\u001b[38;5;241m=\u001b[39m\u001b[38;5;28mself\u001b[39m\u001b[38;5;241m.\u001b[39mcore_profiles)\n\u001b[1;32m    168\u001b[0m \u001b[38;5;28mself\u001b[39m\u001b[38;5;241m.\u001b[39mcore_transport\u001b[38;5;241m.\u001b[39minitialize(time\u001b[38;5;241m=\u001b[39m\u001b[38;5;28mself\u001b[39m\u001b[38;5;241m.\u001b[39mtime, equilibrium\u001b[38;5;241m=\u001b[39m\u001b[38;5;28mself\u001b[39m\u001b[38;5;241m.\u001b[39mequilibrium, core_profiles\u001b[38;5;241m=\u001b[39m\u001b[38;5;28mself\u001b[39m\u001b[38;5;241m.\u001b[39mcore_profiles)\n\u001b[0;32m--> 169\u001b[0m \u001b[38;5;28;43mself\u001b[39;49m\u001b[38;5;241;43m.\u001b[39;49m\u001b[43mtransport_solver\u001b[49m\u001b[38;5;241;43m.\u001b[39;49m\u001b[43minitialize\u001b[49m\u001b[43m(\u001b[49m\n\u001b[1;32m    170\u001b[0m \u001b[43m    \u001b[49m\u001b[43mtime\u001b[49m\u001b[38;5;241;43m=\u001b[39;49m\u001b[38;5;28;43mself\u001b[39;49m\u001b[38;5;241;43m.\u001b[39;49m\u001b[43mtime\u001b[49m\u001b[43m,\u001b[49m\n\u001b[1;32m    171\u001b[0m \u001b[43m    \u001b[49m\u001b[43mequilibrium\u001b[49m\u001b[38;5;241;43m=\u001b[39;49m\u001b[38;5;28;43mself\u001b[39;49m\u001b[38;5;241;43m.\u001b[39;49m\u001b[43mequilibrium\u001b[49m\u001b[43m,\u001b[49m\n\u001b[1;32m    172\u001b[0m \u001b[43m    \u001b[49m\u001b[43mcore_profiles\u001b[49m\u001b[38;5;241;43m=\u001b[39;49m\u001b[38;5;28;43mself\u001b[39;49m\u001b[38;5;241;43m.\u001b[39;49m\u001b[43mcore_profiles\u001b[49m\u001b[43m,\u001b[49m\n\u001b[1;32m    173\u001b[0m \u001b[43m    \u001b[49m\u001b[43mcore_sources\u001b[49m\u001b[38;5;241;43m=\u001b[39;49m\u001b[38;5;28;43mself\u001b[39;49m\u001b[38;5;241;43m.\u001b[39;49m\u001b[43mcore_sources\u001b[49m\u001b[43m,\u001b[49m\n\u001b[1;32m    174\u001b[0m \u001b[43m    \u001b[49m\u001b[43mcore_transport\u001b[49m\u001b[38;5;241;43m=\u001b[39;49m\u001b[38;5;28;43mself\u001b[39;49m\u001b[38;5;241;43m.\u001b[39;49m\u001b[43mcore_transport\u001b[49m\u001b[43m,\u001b[49m\n\u001b[1;32m    175\u001b[0m \u001b[43m\u001b[49m\u001b[43m)\u001b[49m\n",
      "File \u001b[0;32m~/workspace/fytok/python/fytok/plugins/modules/transport_solver_numerics/fy_trans/fy_trans.py:233\u001b[0m, in \u001b[0;36mFyTrans.initialize\u001b[0;34m(self, *args, **kwargs)\u001b[0m\n\u001b[1;32m    230\u001b[0m     label_p \u001b[38;5;241m+\u001b[39m\u001b[38;5;241m=\u001b[39m \u001b[38;5;124mf\u001b[39m\u001b[38;5;124m\"\u001b[39m\u001b[38;5;124m_\u001b[39m\u001b[38;5;130;01m{{\u001b[39;00m\u001b[38;5;132;01m{\u001b[39;00mpth[\u001b[38;5;241m1\u001b[39m]\u001b[38;5;132;01m}\u001b[39;00m\u001b[38;5;130;01m}}\u001b[39;00m\u001b[38;5;124m\"\u001b[39m\n\u001b[1;32m    231\u001b[0m     label_f \u001b[38;5;241m+\u001b[39m\u001b[38;5;241m=\u001b[39m \u001b[38;5;124mf\u001b[39m\u001b[38;5;124m\"\u001b[39m\u001b[38;5;124m_\u001b[39m\u001b[38;5;130;01m{{\u001b[39;00m\u001b[38;5;132;01m{\u001b[39;00mpth[\u001b[38;5;241m1\u001b[39m]\u001b[38;5;132;01m}\u001b[39;00m\u001b[38;5;130;01m}}\u001b[39;00m\u001b[38;5;124m\"\u001b[39m\n\u001b[0;32m--> 233\u001b[0m \u001b[43mprofiles_1d\u001b[49m\u001b[43m[\u001b[49m\u001b[43ms\u001b[49m\u001b[43m]\u001b[49m \u001b[38;5;241m=\u001b[39m Variable((i \u001b[38;5;241m:=\u001b[39m i \u001b[38;5;241m+\u001b[39m \u001b[38;5;241m1\u001b[39m), s, label\u001b[38;5;241m=\u001b[39mlabel_p)\n\u001b[1;32m    235\u001b[0m profiles_1d[\u001b[38;5;124mf\u001b[39m\u001b[38;5;124m\"\u001b[39m\u001b[38;5;132;01m{\u001b[39;00ms\u001b[38;5;132;01m}\u001b[39;00m\u001b[38;5;124m_flux\u001b[39m\u001b[38;5;124m\"\u001b[39m] \u001b[38;5;241m=\u001b[39m Variable((i \u001b[38;5;241m:=\u001b[39m i \u001b[38;5;241m+\u001b[39m \u001b[38;5;241m1\u001b[39m), \u001b[38;5;124mf\u001b[39m\u001b[38;5;124m\"\u001b[39m\u001b[38;5;132;01m{\u001b[39;00ms\u001b[38;5;132;01m}\u001b[39;00m\u001b[38;5;124m_flux\u001b[39m\u001b[38;5;124m\"\u001b[39m, label\u001b[38;5;241m=\u001b[39mlabel_f)\n\u001b[1;32m    237\u001b[0m unit_profile \u001b[38;5;241m=\u001b[39m units\u001b[38;5;241m.\u001b[39mget(s, \u001b[38;5;28;01mNone\u001b[39;00m) \u001b[38;5;129;01mor\u001b[39;00m units\u001b[38;5;241m.\u001b[39mget(\u001b[38;5;124mf\u001b[39m\u001b[38;5;124m\"\u001b[39m\u001b[38;5;124m*/\u001b[39m\u001b[38;5;132;01m{\u001b[39;00mpth[\u001b[38;5;241m-\u001b[39m\u001b[38;5;241m1\u001b[39m]\u001b[38;5;132;01m}\u001b[39;00m\u001b[38;5;124m\"\u001b[39m, \u001b[38;5;241m1\u001b[39m)\n",
      "File \u001b[0;32m~/workspace/fytok/SpDM/python/spdm/core/htree.py:318\u001b[0m, in \u001b[0;36mHTree.__setitem__\u001b[0;34m(self, path, value)\u001b[0m\n\u001b[1;32m    316\u001b[0m \u001b[38;5;129m@typing\u001b[39m\u001b[38;5;241m.\u001b[39mfinal\n\u001b[1;32m    317\u001b[0m \u001b[38;5;28;01mdef\u001b[39;00m \u001b[38;5;21m__setitem__\u001b[39m(\u001b[38;5;28mself\u001b[39m, path, value) \u001b[38;5;241m-\u001b[39m\u001b[38;5;241m>\u001b[39m \u001b[38;5;28;01mNone\u001b[39;00m:\n\u001b[0;32m--> 318\u001b[0m     \u001b[38;5;28;43mself\u001b[39;49m\u001b[38;5;241;43m.\u001b[39;49m\u001b[43mput\u001b[49m\u001b[43m(\u001b[49m\u001b[43mpath\u001b[49m\u001b[43m,\u001b[49m\u001b[43m \u001b[49m\u001b[43mvalue\u001b[49m\u001b[43m,\u001b[49m\u001b[43m \u001b[49m\u001b[43mPath\u001b[49m\u001b[38;5;241;43m.\u001b[39;49m\u001b[43mtags\u001b[49m\u001b[38;5;241;43m.\u001b[39;49m\u001b[43moverwrite\u001b[49m\u001b[43m)\u001b[49m\n",
      "File \u001b[0;32m~/workspace/fytok/SpDM/python/spdm/core/htree.py:295\u001b[0m, in \u001b[0;36mHTree.put\u001b[0;34m(self, path, value, *args, **kwargs)\u001b[0m\n\u001b[1;32m    294\u001b[0m \u001b[38;5;28;01mdef\u001b[39;00m \u001b[38;5;21mput\u001b[39m(\u001b[38;5;28mself\u001b[39m, path, value, \u001b[38;5;241m*\u001b[39margs, \u001b[38;5;241m*\u001b[39m\u001b[38;5;241m*\u001b[39mkwargs):\n\u001b[0;32m--> 295\u001b[0m     \u001b[38;5;28;01mreturn\u001b[39;00m \u001b[43mas_path\u001b[49m\u001b[43m(\u001b[49m\u001b[43mpath\u001b[49m\u001b[43m)\u001b[49m\u001b[38;5;241;43m.\u001b[39;49m\u001b[43mupdate\u001b[49m\u001b[43m(\u001b[49m\u001b[38;5;28;43mself\u001b[39;49m\u001b[43m,\u001b[49m\u001b[43m \u001b[49m\u001b[43mvalue\u001b[49m\u001b[43m,\u001b[49m\u001b[43m \u001b[49m\u001b[38;5;241;43m*\u001b[39;49m\u001b[43margs\u001b[49m\u001b[43m,\u001b[49m\u001b[43m \u001b[49m\u001b[38;5;241;43m*\u001b[39;49m\u001b[38;5;241;43m*\u001b[39;49m\u001b[43mkwargs\u001b[49m\u001b[43m)\u001b[49m\n",
      "File \u001b[0;32m~/workspace/fytok/SpDM/python/spdm/core/path.py:626\u001b[0m, in \u001b[0;36mPath.update\u001b[0;34m(self, target, *args, **kwargs)\u001b[0m\n\u001b[1;32m    615\u001b[0m \u001b[38;5;28;01mdef\u001b[39;00m \u001b[38;5;21mupdate\u001b[39m(\u001b[38;5;28mself\u001b[39m, target: typing\u001b[38;5;241m.\u001b[39mAny, \u001b[38;5;241m*\u001b[39margs, \u001b[38;5;241m*\u001b[39m\u001b[38;5;241m*\u001b[39mkwargs) \u001b[38;5;241m-\u001b[39m\u001b[38;5;241m>\u001b[39m typing\u001b[38;5;241m.\u001b[39mAny:\n\u001b[1;32m    616\u001b[0m \u001b[38;5;250m    \u001b[39m\u001b[38;5;124;03m\"\"\"\u001b[39;00m\n\u001b[1;32m    617\u001b[0m \u001b[38;5;124;03m    根据路径（self）更新 target 中的元素。\u001b[39;00m\n\u001b[1;32m    618\u001b[0m \u001b[38;5;124;03m    当路径指向位置为空时，创建（create）元素\u001b[39;00m\n\u001b[0;32m   (...)\u001b[0m\n\u001b[1;32m    624\u001b[0m \u001b[38;5;124;03m    返回修改后的target\u001b[39;00m\n\u001b[1;32m    625\u001b[0m \u001b[38;5;124;03m    \"\"\"\u001b[39;00m\n\u001b[0;32m--> 626\u001b[0m     \u001b[38;5;28;01mreturn\u001b[39;00m \u001b[43mPath\u001b[49m\u001b[38;5;241;43m.\u001b[39;49m\u001b[43m_do_update\u001b[49m\u001b[43m(\u001b[49m\u001b[43mtarget\u001b[49m\u001b[43m,\u001b[49m\u001b[43m \u001b[49m\u001b[38;5;28;43mself\u001b[39;49m\u001b[43m[\u001b[49m\u001b[43m:\u001b[49m\u001b[43m]\u001b[49m\u001b[43m,\u001b[49m\u001b[43m \u001b[49m\u001b[38;5;241;43m*\u001b[39;49m\u001b[43margs\u001b[49m\u001b[43m,\u001b[49m\u001b[43m \u001b[49m\u001b[38;5;241;43m*\u001b[39;49m\u001b[38;5;241;43m*\u001b[39;49m\u001b[43mkwargs\u001b[49m\u001b[43m)\u001b[49m\n",
      "File \u001b[0;32m~/workspace/fytok/SpDM/python/spdm/core/path.py:810\u001b[0m, in \u001b[0;36mPath._do_update\u001b[0;34m(target, path, value, _op, *args, **kwargs)\u001b[0m\n\u001b[1;32m    807\u001b[0m key \u001b[38;5;241m=\u001b[39m path[idx]\n\u001b[1;32m    809\u001b[0m \u001b[38;5;28;01mif\u001b[39;00m \u001b[38;5;129;01mnot\u001b[39;00m is_tree(obj):\n\u001b[0;32m--> 810\u001b[0m     \u001b[38;5;28;01mraise\u001b[39;00m \u001b[38;5;167;01mTypeError\u001b[39;00m(\u001b[38;5;124mf\u001b[39m\u001b[38;5;124m\"\u001b[39m\u001b[38;5;124m \u001b[39m\u001b[38;5;132;01m{\u001b[39;00mobj\u001b[38;5;132;01m}\u001b[39;00m\u001b[38;5;124m is not a Tree! key= \u001b[39m\u001b[38;5;132;01m{\u001b[39;00mkey\u001b[38;5;132;01m}\u001b[39;00m\u001b[38;5;124m\"\u001b[39m)\n\u001b[1;32m    812\u001b[0m \u001b[38;5;28;01melif\u001b[39;00m key \u001b[38;5;129;01mis\u001b[39;00m Path\u001b[38;5;241m.\u001b[39mtags\u001b[38;5;241m.\u001b[39mcurrent \u001b[38;5;129;01mor\u001b[39;00m key \u001b[38;5;129;01mis\u001b[39;00m \u001b[38;5;28;01mNone\u001b[39;00m:\n\u001b[1;32m    813\u001b[0m     \u001b[38;5;28;01mpass\u001b[39;00m\n",
      "\u001b[0;31mTypeError\u001b[0m:  tags.not_found is not a Tree! key= temperature"
     ]
    }
   ],
   "source": [
    "tokamak.initialize()"
   ]
  },
  {
   "cell_type": "code",
   "execution_count": null,
   "metadata": {},
   "outputs": [],
   "source": [
    "tokamak.equilibrium.refresh()\n",
    "tokamak.core_profiles.refresh()\n",
    "tokamak.core_sources.refresh()\n",
    "tokamak.core_transport.refresh()"
   ]
  },
  {
   "cell_type": "markdown",
   "metadata": {},
   "source": [
    "## 检查系数\n"
   ]
  },
  {
   "cell_type": "markdown",
   "metadata": {},
   "source": [
    "### 源项 predefined\n"
   ]
  },
  {
   "cell_type": "code",
   "execution_count": null,
   "metadata": {},
   "outputs": [],
   "source": [
    "source_1d = tokamak.core_sources.source[0].fetch(core_profiles_1d_astra).profiles_1d\n",
    "fig = sp_view.plot(\n",
    "    source_1d.grid.rho_tor_norm,\n",
    "    *[(ion.particles, rf\"$S_{{{ion.label}}}$\") for ion in source_1d.ion],\n",
    "    *[(source_1d.electrons.energy, r\"$Q_{e}$\")] + [(ion.energy, rf\"$Q_{{{ion.label}}}$\") for ion in source_1d.ion],\n",
    "    x_label=r\"$\\bar{\\rho}$ [-]\",\n",
    "    fontsize=10,\n",
    ")"
   ]
  },
  {
   "cell_type": "markdown",
   "metadata": {},
   "source": [
    "### 源项 碰撞热交换\n"
   ]
  },
  {
   "cell_type": "code",
   "execution_count": null,
   "metadata": {},
   "outputs": [],
   "source": [
    "source_1d = tokamak.core_sources.source[1].fetch(core_profiles_1d_astra).profiles_1d\n",
    "fig = sp_view.plot(\n",
    "    source_1d.grid.rho_tor_norm,\n",
    "    [(ion.particles, rf\"$S_{{{ion.label}}}$\") for ion in source_1d.ion],\n",
    "    [(source_1d.electrons.energy, r\"$Q_{e}$\")] + [(ion.energy, rf\"$Q_{{{ion.label}}}$\") for ion in source_1d.ion],\n",
    "    x_label=r\"$\\bar{\\rho}$ [-]\",\n",
    "    fontsize=8,\n",
    ")"
   ]
  },
  {
   "cell_type": "code",
   "execution_count": null,
   "metadata": {},
   "outputs": [],
   "source": [
    "fig = sp_view.plot(\n",
    "    source_1d.grid.rho_tor_norm,\n",
    "    [\n",
    "        (-source_1d.electrons.energy, {\"label\": r\"$-Q_{e}$\", \"$matplotlib\": {\"marker\": \"+\"}}),\n",
    "        (sum([ion.energy for ion in source_1d.ion], 0), r\"$Q_{ion}$\"),\n",
    "    ],\n",
    "    x_label=r\"$\\bar{\\rho}$ [-]\",\n",
    "    fontsize=12,\n",
    ")"
   ]
  },
  {
   "cell_type": "code",
   "execution_count": null,
   "metadata": {},
   "outputs": [],
   "source": [
    "fig.get_size_inches()"
   ]
  },
  {
   "cell_type": "code",
   "execution_count": null,
   "metadata": {},
   "outputs": [],
   "source": [
    "plt.plot(\n",
    "    astra_rho_tor_norm,\n",
    "    -astra_profiles[\"Peic\"].values * 1.0e6 / scipy.constants.electron_volt,\n",
    "    \"--\",\n",
    "    label=r\"$-Q_{eic}$ astra\",\n",
    "    \n",
    ")\n",
    "plt.plot(source_1d.grid.rho_tor_norm, source_1d.electrons.energy(source_1d.grid.rho_tor_norm), label=r\"$Q_{eic}$ fytok\")\n",
    "plt.legend()"
   ]
  },
  {
   "cell_type": "code",
   "execution_count": null,
   "metadata": {},
   "outputs": [],
   "source": [
    "fig=sp_view.plot(\n",
    "    source_1d.grid.rho_tor_norm,\n",
    "    [\n",
    "        (\n",
    "            (astra_rho_tor_norm, astra_profiles[\"Peic\"].values * 1.0e6 / scipy.constants.electron_volt),\n",
    "            {\"label\": r\"$Q_{eic}$ astra\", \"$matplotlib\": {\"linestyle\": \"--\"}},\n",
    "        ),\n",
    "        (source_1d.ion[\"D\"].energy * 2, r\"$Q_{ie}$ fytok\"),\n",
    "    ],\n",
    "    x_label=r\"$\\bar{\\rho}$ [-]\",\n",
    "    fontsize=12,\n",
    ")"
   ]
  },
  {
   "cell_type": "markdown",
   "metadata": {},
   "source": [
    "### 源项 Fusion\n"
   ]
  },
  {
   "cell_type": "code",
   "execution_count": null,
   "metadata": {},
   "outputs": [],
   "source": [
    "source_1d = tokamak.core_sources.source[2].fetch(core_profiles_1d_astra).profiles_1d\n",
    "fig = sp_view.plot(\n",
    "    source_1d.grid.rho_tor_norm,\n",
    "    [(ion.particles, rf\"$S_{{{ion.label}}}$\") for ion in source_1d.ion],\n",
    "    [(source_1d.electrons.energy, r\"$Q_{e}$\")] + [(ion.energy, rf\"$Q_{{{ion.label}}}$\") for ion in source_1d.ion],\n",
    "    x_label=r\"$\\bar{\\rho}$ [-]\",\n",
    "    fontsize=8,\n",
    ")"
   ]
  },
  {
   "cell_type": "code",
   "execution_count": null,
   "metadata": {},
   "outputs": [],
   "source": [
    "plt.plot(\n",
    "    astra_rho_tor_norm,\n",
    "    astra_profiles[\"Pdt\"].values * 1.0e6 / scipy.constants.electron_volt,\n",
    "    \"--\",\n",
    "    label=r\"$Q_{DT}$ astra\",\n",
    ")\n",
    "\n",
    "\n",
    "plt.plot(\n",
    "    source_1d.grid.rho_tor_norm,\n",
    "    source_1d.electrons.energy(source_1d.grid.rho_tor_norm)\n",
    "    + source_1d.ion[\"D\"].energy(source_1d.grid.rho_tor_norm)\n",
    "    + source_1d.ion[\"T\"].energy(source_1d.grid.rho_tor_norm),\n",
    "    \"x\",\n",
    "    label=\"$Q$ fusion stix\",\n",
    ")\n",
    "\n",
    "plt.plot(\n",
    "    source_1d.grid.rho_tor_norm,\n",
    "    (\n",
    "        source_1d.ion[\"alpha\"].particles(source_1d.grid.rho_tor_norm)\n",
    "        + source_1d.ion[\"He\"].particles(source_1d.grid.rho_tor_norm)\n",
    "    )\n",
    "    * (3.54e6),\n",
    "    label=\"$S_{He}* 3.54Mev$ fusion\",\n",
    ")\n",
    "\n",
    "plt.legend()"
   ]
  },
  {
   "cell_type": "code",
   "execution_count": null,
   "metadata": {},
   "outputs": [],
   "source": [
    "plt.plot(\n",
    "    astra_rho_tor_norm,\n",
    "    astra_profiles[\"Pdte\"].values * 1.0e6 / scipy.constants.electron_volt,\n",
    "    \"--\",\n",
    "    label=r\"$Q_e$ astra\",\n",
    ")\n",
    "plt.plot(\n",
    "    source_1d.grid.rho_tor_norm,\n",
    "    source_1d.electrons.energy(source_1d.grid.rho_tor_norm),\n",
    "    label=\"$Q_e$ fusion stix \",\n",
    ")\n",
    "\n",
    "plt.plot(\n",
    "    astra_rho_tor_norm,\n",
    "    astra_profiles[\"Pdti\"].values / 2 * 1.0e6 / scipy.constants.electron_volt,\n",
    "    \"-.\",\n",
    "    label=r\"$Q_D$ astra\",\n",
    ")\n",
    "plt.plot(\n",
    "    source_1d.grid.rho_tor_norm,\n",
    "    source_1d.ion[\"D\"].energy(source_1d.grid.rho_tor_norm),\n",
    "    label=\"$Q_D$ fusion stix \",\n",
    ")\n",
    "plt.plot(\n",
    "    source_1d.grid.rho_tor_norm,\n",
    "    source_1d.ion[\"T\"].energy(source_1d.grid.rho_tor_norm),\n",
    "    label=\"$Q_T$ fusion stix \",\n",
    ")\n",
    "plt.legend()"
   ]
  },
  {
   "cell_type": "markdown",
   "metadata": {},
   "source": [
    "### 输运系数 Predefined\n"
   ]
  },
  {
   "cell_type": "code",
   "execution_count": null,
   "metadata": {},
   "outputs": [],
   "source": [
    "trans_1d = tokamak.core_transport.model[0].fetch(core_profiles_1d_astra).profiles_1d\n",
    "trans_1d.grid_d = core_profiles_1d_astra.grid\n",
    "fig = sp_view.plot(\n",
    "    trans_1d.grid_d.rho_tor_norm,\n",
    "    ([(ion.particles.d, ion.label) for ion in trans_1d.ion], {\"y_label\": \"D\"}),\n",
    "    ([(ion.particles.v, ion.label) for ion in trans_1d.ion], {\"y_label\": \"v\"}),\n",
    "    x_label=r\"$\\bar{\\rho}$ [-]\",\n",
    "    fontsize=12,\n",
    ")"
   ]
  },
  {
   "cell_type": "code",
   "execution_count": null,
   "metadata": {},
   "outputs": [],
   "source": []
  },
  {
   "cell_type": "code",
   "execution_count": null,
   "metadata": {},
   "outputs": [],
   "source": [
    "trans_1d = tokamak.core_transport.model[1].fetch(core_profiles_1d_astra).profiles_1d\n",
    "trans_1d.grid_d = core_profiles_1d_astra.grid\n",
    "ion = trans_1d.ion[\"alpha\"]\n"
   ]
  },
  {
   "cell_type": "code",
   "execution_count": null,
   "metadata": {},
   "outputs": [],
   "source": [
    "fig = sp_view.plot(\n",
    "    trans_1d.grid_d.rho_tor_norm,\n",
    "    [\n",
    "        (ion.particles.d, \"D\"),\n",
    "        (-ion.particles.v, r\"|v|\"),\n",
    "    ],\n",
    "    x_label=r\"$\\bar{\\rho}$ [-]\",\n",
    "    fontsize=12,\n",
    "    height=5,\n",
    ")"
   ]
  },
  {
   "cell_type": "code",
   "execution_count": null,
   "metadata": {},
   "outputs": [],
   "source": [
    "trans_1d = tokamak.core_transport.model[1].fetch(core_profiles_1d_astra).profiles_1d\n",
    "trans_1d.grid_d = core_profiles_1d_astra.grid\n",
    "fig = sp_view.plot(\n",
    "    trans_1d.grid_d.rho_tor_norm,\n",
    "    ([(ion.particles.d, ion.label) for ion in trans_1d.ion], {\"y_label\": \"D\"}),\n",
    "    ([(ion.particles.v, ion.label) for ion in trans_1d.ion], {\"y_label\": \"v\"}),\n",
    "    x_label=r\"$\\bar{\\rho}$ [-]\",\n",
    "    fontsize=12,\n",
    ")"
   ]
  },
  {
   "cell_type": "code",
   "execution_count": null,
   "metadata": {},
   "outputs": [],
   "source": [
    "trans_1d.ion[\"alpha\"].particles.d"
   ]
  },
  {
   "cell_type": "markdown",
   "metadata": {},
   "source": [
    "## 求解\n"
   ]
  },
  {
   "cell_type": "code",
   "execution_count": null,
   "metadata": {},
   "outputs": [],
   "source": [
    "solver = tokamak.transport_solver\n",
    "rho_tor_norm_bdry=0.995\n",
    "rho_tor_norm = np.linspace(0.001,rho_tor_norm_bdry, 128)\n",
    "eq_grid = tokamak.equilibrium.time_slice.current.profiles_1d.grid.remesh(rho_tor_norm)\n",
    "psi_norm = eq_grid.psi_norm"
   ]
  },
  {
   "cell_type": "code",
   "execution_count": null,
   "metadata": {},
   "outputs": [],
   "source": [
    "F = (1 - rho_tor_norm**2) ** 2\n",
    "n =3e19 -tokamak.core_sources.source[0].fetch(core_profiles_1d_astra).profiles_1d.ion[\"D\"].particles.I(rho_tor_norm)\n"
   ]
  },
  {
   "cell_type": "code",
   "execution_count": null,
   "metadata": {},
   "outputs": [],
   "source": [
    "solver_1d = solver.preprocess(\n",
    "    time=0.0,\n",
    "    rho_tor_norm=rho_tor_norm,\n",
    "    impurity_fraction=0.02 * 4 + 0.0012 * 18,\n",
    "    # fmt:off\n",
    "    initial_value={\n",
    "        \"psi\":                              0.0,\n",
    "        \"psi_norm\":                         psi_norm,\n",
    "        \"ion/D/density\":                    n,          # 5.0e19*Fn , #core_profiles_1d_astra.ion[\"D\"].density(rho_tor_norm) ,# 1.0e19,  #\n",
    "        \"ion/T/density\":                    n,          # 5.0e19*Fn , #core_profiles_1d_astra.ion[\"T\"].density(rho_tor_norm) ,# 1.0e19,  #\n",
    "        \"ion/He/density\":                   2.0e19*F,   # core_profiles_1d_astra.ion[\"He\"].density(rho_tor_norm)   ,#    \n",
    "        \"ion/alpha/density\":                1.0e18*F,   #core_profiles_1d_astra.ion[\"alpha\"].density(rho_tor_norm) ,# \n",
    "        \n",
    "        \"ion/D/temperature\":                3.5e4*F, # core_profiles_1d_astra.ion[\"D\"].temperature(rho_tor_norm) *0.5,# \n",
    "        \"ion/T/temperature\":                3.5e4*F, # core_profiles_1d_astra.ion[\"T\"].temperature(rho_tor_norm) *0.5,# \n",
    "        \"electrons/temperature\":            3.5e4*F, #core_profiles_1d_astra.electrons.temperature(rho_tor_norm),# \n",
    "    },\n",
    "    # boundary_value={\n",
    "    #     \"ion/D/density\":                    n[-1],   # core_profiles_1d_astra.ion[\"D\"].density (rho_tor_norm[-1])    ,\n",
    "    #     \"ion/T/density\":                    n[-1],   # core_profiles_1d_astra.ion[\"T\"].density (rho_tor_norm[-1])    ,\n",
    "    #     \"ion/He/density\":                   1.0e19*F[-1],\n",
    "    #     \"ion/alpha/density\":                1.0e18*F[-1],\n",
    "    #     \"ion/D/temperature\":                4.0e4*F[-1] , # core_profiles_1d_astra.ion[\"D\"].temperature (rho_tor_norm[-1]) ,  # 2000,\n",
    "    #     \"ion/T/temperature\":                4.0e4*F[-1] , # core_profiles_1d_astra.ion[\"T\"].temperature (rho_tor_norm[-1]) ,  # 2000,\n",
    "    #     \"electrons/temperature\":            4.0e4*F[-1] , # core_profiles_1d_astra.electrons.temperature(rho_tor_norm[-1]),   # 2000,\n",
    "    # },\n",
    "    # fmt:on\n",
    ")"
   ]
  },
  {
   "cell_type": "markdown",
   "metadata": {},
   "source": [
    "### 检查初值"
   ]
  },
  {
   "cell_type": "code",
   "execution_count": null,
   "metadata": {},
   "outputs": [],
   "source": [
    "fig = sp_view.plot(\n",
    "    solver_1d.X,\n",
    "    [\n",
    "        (solver_1d.Y[0] * solver._units[0], r\"$\\bar{\\psi}$\"),\n",
    "        (\n",
    "            Function(\n",
    "                equilibrium_astra.time_slice.current.profiles_1d.grid.rho_tor_norm,\n",
    "                equilibrium_astra.time_slice.current.profiles_1d.grid.psi_norm,\n",
    "            ),\n",
    "            {\"label\": r\"$\\bar{\\psi}$ astra\", \"$matplotlib\": {\"linestyle\": \"dashed\"}},\n",
    "        ),\n",
    "    ],\n",
    "    *[\n",
    "        [\n",
    "            (solver_1d.Y[idx * 2] * solver._units[idx * 2], equ.identifier),\n",
    "            (\n",
    "                Path(equ.identifier).get(core_profiles_1d_astra),\n",
    "                {\"label\": f\"{equ.identifier} astra\", \"$matplotlib\": {\"linestyle\": \"dashed\"}},\n",
    "            ),\n",
    "        ]\n",
    "        for idx, equ in enumerate(solver.equations)\n",
    "        if equ.identifier != \"psi_norm\"\n",
    "    ],\n",
    "    vline={\"x\": 0.96, \"color\": \"r\", \"linestyle\": \"--\"},\n",
    "    x_label=r\"$\\bar{\\rho}$ [-]\",\n",
    "    fontsize=8,\n",
    ")"
   ]
  },
  {
   "cell_type": "markdown",
   "metadata": {},
   "source": [
    "### 计算"
   ]
  },
  {
   "cell_type": "code",
   "execution_count": null,
   "metadata": {},
   "outputs": [],
   "source": [
    "solver_1d = solver.execute(solver_1d)"
   ]
  },
  {
   "cell_type": "code",
   "execution_count": null,
   "metadata": {},
   "outputs": [],
   "source": [
    "solver_1d = solver.postprocess(solver_1d)"
   ]
  },
  {
   "cell_type": "markdown",
   "metadata": {},
   "source": [
    "### 检查结果\n"
   ]
  },
  {
   "cell_type": "code",
   "execution_count": null,
   "metadata": {},
   "outputs": [],
   "source": [
    "fig = sp_view.plot(\n",
    "    solver_1d.X,\n",
    "    [\n",
    "        (solver_1d.Y[0] * solver._units[0], r\"$\\bar{\\psi}$\"),\n",
    "        (\n",
    "            Function(\n",
    "                equilibrium_astra.time_slice.current.profiles_1d.grid.rho_tor_norm,\n",
    "                equilibrium_astra.time_slice.current.profiles_1d.grid.psi_norm,\n",
    "            ),\n",
    "            {\"label\": r\"$\\bar{\\psi}$ astra\", \"$matplotlib\": {\"linestyle\": \"dashed\"}},\n",
    "        ),\n",
    "    ],\n",
    "    *[\n",
    "        [\n",
    "            (solver_1d.Y[idx * 2] * solver._units[idx * 2], equ.identifier),\n",
    "            (\n",
    "                Path(equ.identifier).get(core_profiles_1d_astra),\n",
    "                {\"label\": f\"{equ.identifier} astra\", \"$matplotlib\": {\"linestyle\": \"dashed\"}},\n",
    "            ),\n",
    "        ]\n",
    "        for idx, equ in enumerate(solver.equations)\n",
    "        if equ.identifier != \"psi_norm\"\n",
    "    ],\n",
    "    (\n",
    "        (0.5 * (solver_1d.X[:-1] + solver_1d.X[1:]), solver_1d.rms_residuals * 100),\n",
    "        {\"label\": \"rms residuals\", \"y_label\": r\"[\\%]\"},\n",
    "    ),\n",
    "    vline={\"x\": 0.96, \"color\": \"r\", \"linestyle\": \"--\"},\n",
    "    x_label=r\"$\\bar{\\rho}$ [-]\",\n",
    "    fontsize=12,\n",
    ")"
   ]
  },
  {
   "cell_type": "code",
   "execution_count": null,
   "metadata": {},
   "outputs": [],
   "source": [
    "fig = sp_view.plot(\n",
    "    solver_1d.X,\n",
    "    *[\n",
    "        [\n",
    "            (solver_1d.Y[idx * 2] * solver._units[idx * 2], f\"{equ.identifier} fytok\"),\n",
    "            (\n",
    "                Path(equ.identifier).get(core_profiles_1d_astra, 0),\n",
    "                {\"label\": f\"{equ.identifier} astra\", \"$matplotlib\": {\"linestyle\": \"dashed\"}},\n",
    "            ),\n",
    "        ]\n",
    "        for idx, equ in enumerate(solver.equations)\n",
    "        if equ.identifier.endswith(\"density\")\n",
    "    ],\n",
    "    vline={\"x\": 0.96, \"color\": \"r\", \"linestyle\": \"--\"},\n",
    "    fontsize=8,\n",
    "    x_label=r\"$\\bar{\\rho}$ [-]\",\n",
    ")"
   ]
  },
  {
   "cell_type": "code",
   "execution_count": null,
   "metadata": {},
   "outputs": [],
   "source": [
    "fig = sp_view.plot(\n",
    "    solver_1d.X,\n",
    "    *[(solver_1d.Y[idx * 2], equ.identifier) for idx, equ in enumerate(solver.equations)],\n",
    "    *[(solver_1d.Y[idx * 2 + 1], f\"{equ.identifier}_flux\") for idx, equ in enumerate(solver.equations)],\n",
    "    vline={\"x\": 0.96, \"color\": \"r\", \"linestyle\": \"--\"},\n",
    "    x_label=r\"$\\bar{\\rho}$ [-]\",\n",
    ")"
   ]
  },
  {
   "cell_type": "code",
   "execution_count": null,
   "metadata": {},
   "outputs": [],
   "source": [
    "fig = sp_view.plot(\n",
    "    solver_1d.X,\n",
    "    *[\n",
    "        (solver_1d.Yp[idx * 2], rf\"$\\frac{{d }}{{d\\bar{{\\rho}}}}$  {equ.identifier} \")\n",
    "        for idx, equ in enumerate(solver.equations)\n",
    "    ],\n",
    "    *[\n",
    "        (\n",
    "            solver_1d.Yp[idx * 2 + 1],\n",
    "            rf\"$\\frac{{d}}{{d\\bar{{\\rho}}}}$ {equ.identifier}_flux \",\n",
    "        )\n",
    "        for idx, equ in enumerate(solver.equations)\n",
    "    ],\n",
    "    vline={\"x\": 0.96, \"color\": \"r\", \"linestyle\": \"--\"},    x_label=r\"$\\bar{\\rho}$ [-]\",\n",
    "\n",
    ")"
   ]
  },
  {
   "cell_type": "code",
   "execution_count": null,
   "metadata": {},
   "outputs": [],
   "source": []
  },
  {
   "cell_type": "markdown",
   "metadata": {},
   "source": [
    "## 后处理\n"
   ]
  },
  {
   "cell_type": "code",
   "execution_count": null,
   "metadata": {},
   "outputs": [],
   "source": [
    "tokamak.flush()\n",
    "core_profiles_1d = tokamak.core_profiles.time_slice.current.profiles_1d"
   ]
  },
  {
   "cell_type": "code",
   "execution_count": null,
   "metadata": {},
   "outputs": [],
   "source": [
    "fig = sp_view.plot(\n",
    "    solver_1d.grid.rho_tor_norm,\n",
    "    [\n",
    "        (core_profiles_1d.psi_norm, r\"$\\bar{\\psi}$\"),\n",
    "        (\n",
    "            Function(\n",
    "                equilibrium_astra.time_slice.current.profiles_1d.grid.rho_tor_norm[:-1],\n",
    "                equilibrium_astra.time_slice.current.profiles_1d.grid.psi_norm[:-1],\n",
    "            ),\n",
    "            {\"label\": r\"$\\bar{\\psi}$ astra\", \"$matplotlib\": {\"linestyle\": \"dashed\"}},\n",
    "        ),\n",
    "    ],\n",
    "    *[\n",
    "        [\n",
    "            (Path(equ.identifier).get(core_profiles_1d, 0), f\"{equ.identifier} \"),\n",
    "            (\n",
    "                Path(equ.identifier).get(core_profiles_1d_astra, 0),\n",
    "                {\"label\": f\"{equ.identifier} astra\", \"$matplotlib\": {\"linestyle\": \"dashed\"}},\n",
    "            ),\n",
    "        ]\n",
    "        for equ in solver_1d.equations\n",
    "        if equ.identifier != \"psi_norm\"\n",
    "    ],\n",
    "    (\n",
    "        (0.5 * (solver_1d.X[:-1] + solver_1d.X[1:]), solver_1d.rms_residuals * 100),\n",
    "        {\"label\": \"$rms$ residuals\", \"y_label\": r\"[\\%]\"},\n",
    "    ),\n",
    "    vline={\"x\": 0.96, \"color\": \"r\", \"linestyle\": \"--\"},\n",
    "    x_label=r\"$\\bar{\\rho}$ [-]\",\n",
    "    fontsize=12,\n",
    ")"
   ]
  },
  {
   "cell_type": "code",
   "execution_count": null,
   "metadata": {},
   "outputs": [],
   "source": [
    "fig = sp_view.plot(\n",
    "    solver_1d.grid.rho_tor_norm,\n",
    "    [\n",
    "        (Path(equ.identifier).get(core_profiles_1d, 0), f\"{equ.identifier} \")\n",
    "        for equ in solver_1d.equations\n",
    "        if equ.identifier.endswith(\"density\")\n",
    "    ],\n",
    "    vline={\"x\": 0.96, \"color\": \"r\", \"linestyle\": \"--\"},\n",
    "    x_label=r\"$\\bar{\\rho}$ [-]\",\n",
    "    fontsize=12,\n",
    ")"
   ]
  },
  {
   "cell_type": "code",
   "execution_count": null,
   "metadata": {},
   "outputs": [],
   "source": [
    "fig = sp_view.plot(\n",
    "    solver_1d.grid.rho_tor_norm,\n",
    "    [\n",
    "        (Path(equ.identifier).get(core_profiles_1d, 0), f\"{equ.identifier} \")\n",
    "        for equ in solver_1d.equations\n",
    "        if equ.identifier.endswith(\"density\")\n",
    "    ],\n",
    "    vline={\"x\": 0.96, \"color\": \"r\", \"linestyle\": \"--\"},\n",
    "    x_label=r\"$\\bar{\\rho}$ [-]\",\n",
    "    fontsize=12,\n",
    ")"
   ]
  },
  {
   "cell_type": "code",
   "execution_count": null,
   "metadata": {},
   "outputs": [],
   "source": [
    "fig = sp_view.plot(\n",
    "    solver_1d.grid.rho_tor_norm,\n",
    "    [\n",
    "        (Path(equ.identifier).get(core_profiles_1d, 0), f\"{equ.identifier} \")\n",
    "        for equ in solver_1d.equations\n",
    "        if equ.identifier.endswith(\"temperature\")\n",
    "    ],\n",
    "    vline={\"x\": 0.96, \"color\": \"r\", \"linestyle\": \"--\"},\n",
    "    x_label=r\"$\\bar{\\rho}$ [-]\",\n",
    "    fontsize=12,\n",
    ")"
   ]
  },
  {
   "cell_type": "code",
   "execution_count": null,
   "metadata": {},
   "outputs": [],
   "source": [
    "fig = sp_view.plot(\n",
    "    solver_1d.grid.rho_tor_norm,\n",
    "    [\n",
    "        # (core_profiles_1d.ion[\"alpha\"].density, r\"$\\alpha$\"),\n",
    "        (core_profiles_1d.ion[\"D\"].density, r\"n_{D}\"),\n",
    "        (core_profiles_1d.ion[\"T\"].density, r\"n_{T}\"),\n",
    "        (core_profiles_1d.ion[\"He\"].density, r\"n_{He}\"),\n",
    "        (core_profiles_1d.ion[\"He\"].density + core_profiles_1d.ion[\"alpha\"].density, r\"He+$\\alpha$\"),\n",
    "        (core_profiles_1d_astra.ion[\"He\"].density, {\"label\": f\"He astra\", \"$matplotlib\": {\"linestyle\": \"dashed\"}}),\n",
    "    ],\n",
    "    fontsize=10,\n",
    "    x_label=r\"$\\bar{\\rho}$ [-]\",\n",
    ")"
   ]
  },
  {
   "cell_type": "code",
   "execution_count": null,
   "metadata": {},
   "outputs": [],
   "source": [
    "source_1d = tokamak.core_sources.source[0].time_slice.current.profiles_1d\n",
    "fig = sp_view.plot(\n",
    "    source_1d.grid.rho_tor_norm,\n",
    "    [(source_1d.electrons.particles, r\"$S_{e}$\")] + [(ion.particles, rf\"$S_{{{ion.label}}}$\") for ion in source_1d.ion],\n",
    "    [(source_1d.electrons.energy, r\"$Q_{e}$\")],\n",
    "    [(ion.energy, rf\"$Q_{{{ion.label}}}$\") for ion in source_1d.ion],\n",
    "    x_label=r\"$\\bar{\\rho}$ [-]\",\n",
    "    fontsize=12,\n",
    ")"
   ]
  },
  {
   "cell_type": "code",
   "execution_count": null,
   "metadata": {},
   "outputs": [],
   "source": [
    "source_1d = tokamak.core_sources.source[1].time_slice.current.profiles_1d\n",
    "fig = sp_view.plot(\n",
    "    source_1d.grid.rho_tor_norm,\n",
    "    # [\n",
    "    #     # (core_profiles_1d.electrons.temperature, r\"$T_{e}$\"),\n",
    "    #     *[(ion.temperature, rf\"$T_{{{ion.label}}}$\") for ion in core_profiles_1d.ion],\n",
    "    # ],  # [(source_1d.electrons.particles, r\"$S_{e}$\")] + [(ion.particles, rf\"$S_{{{ion.label}}}$\") for ion in source_1d.ion],\n",
    "    [(source_1d.electrons.energy, r\"$Q_{e}$\")] + [(ion.energy, rf\"$Q_{{{ion.label}}}$\") for ion in source_1d.ion],\n",
    "    x_label=r\"$\\bar{\\rho}$ [-]\",\n",
    "    fontsize=12,\n",
    ")"
   ]
  },
  {
   "cell_type": "code",
   "execution_count": null,
   "metadata": {},
   "outputs": [],
   "source": [
    "source_1d = tokamak.core_sources.source[2].time_slice.current.profiles_1d\n",
    "\n",
    "fig = sp_view.plot(\n",
    "    source_1d.grid.rho_tor_norm,\n",
    "    # astra_rho_tor_norm,\n",
    "    [\n",
    "        (source_1d.electrons.energy, r\"$Q_{e}$\"),\n",
    "        # *[(ion.energy, rf\"$Q_{{{ion.label}}}$\") for ion in source_1d.ion],\n",
    "        # (\n",
    "        #     Function(astra_rho_tor_norm, astra_profiles[\"Pdte\"].values * 1.0e6 / scipy.constants.electron_volt),\n",
    "        #     {\"label\": r\"$Q_{dte}$\", \"$matplotlib\": {\"linestyle\": \"-\", \"marker\": \".\"}},\n",
    "        # ),\n",
    "        # (\n",
    "        #     Function(astra_rho_tor_norm, astra_profiles[\"Pdti\"].values * 1.0e6 / scipy.constants.electron_volt),\n",
    "        #     r\"$Q_{dti}$ astra\",\n",
    "        # ),\n",
    "        # (\n",
    "        #     Function(astra_rho_tor_norm, (astra_profiles[\"Pdt\"].values) * 1.0e6 / scipy.constants.electron_volt),\n",
    "        #     r\"$Q_{dt}$ astra total\",\n",
    "        # ),\n",
    "    ]\n",
    "    + [(ion.energy, rf\"$Q_{{{ion.label}}}$\") for ion in source_1d.ion if ion.label in [\"D\", \"T\"]],\n",
    "    # (\n",
    "    #     Function(astra_rho_tor_norm, astra_profiles[\"Pdti\"].values * 1.0e6 / scipy.constants.electron_volt/2),\n",
    "    #     {\"label\": r\"$Q_{dti}$\", \"$matplotlib\": {\"linestyle\": \"-\", \"marker\": \".\"}},\n",
    "    # ),\n",
    "    # (\n",
    "    #     Function(astra_rho_tor_norm, (astra_profiles[\"Pdt\"].values) * 1.0e6 / scipy.constants.electron_volt),\n",
    "    #     r\"$Q_{dt}$ astra total\",\n",
    "    # ),\n",
    "    x_label=r\"$\\bar{\\rho}$ [-]\",\n",
    "    fontsize=12,\n",
    ")"
   ]
  },
  {
   "cell_type": "code",
   "execution_count": null,
   "metadata": {},
   "outputs": [],
   "source": [
    "source_1d = tokamak.core_sources.source[0].time_slice.current.profiles_1d\n",
    "\n",
    "fig = sp_view.plot(\n",
    "    # source_1d.grid.rho_tor_norm,\n",
    "    astra_rho_tor_norm,\n",
    "    (\n",
    "        Function(astra_rho_tor_norm, astra_profiles[\"Poh\"].values * 1.0e6 / scipy.constants.electron_volt),\n",
    "        r\"$Q_{oh}$ astra\",\n",
    "    ),\n",
    "    # [\n",
    "    #     (tokamak.core_sources.source[1].time_slice.current.profiles_1d.electrons.energy, r\"$Q_{e}$\"),\n",
    "    #     *[\n",
    "    #         (ion.energy, rf\"$Q_{{{ion.label}}}$\")\n",
    "    #         for ion in tokamak.core_sources.source[1].time_slice.current.profiles_1d.ion\n",
    "    #     ],\n",
    "    # ],\n",
    "    [\n",
    "        (\n",
    "            Function(astra_rho_tor_norm, astra_profiles[\"Pdte\"].values * 1.0e6 / scipy.constants.electron_volt),\n",
    "            r\"$Q_{dte}$ astra\",\n",
    "        ),\n",
    "        (\n",
    "            Function(astra_rho_tor_norm, astra_profiles[\"Pdti\"].values * 1.0e6 / scipy.constants.electron_volt),\n",
    "            r\"$Q_{dti}$ astra\",\n",
    "        ),\n",
    "        (\n",
    "            Function(astra_rho_tor_norm, (astra_profiles[\"Pdt\"].values) * 1.0e6 / scipy.constants.electron_volt),\n",
    "            r\"$Q_{dt}$ astra total\",\n",
    "        ),\n",
    "    ],\n",
    "    [\n",
    "        (\n",
    "            Function(\n",
    "                astra_rho_tor_norm,\n",
    "                (\n",
    "                    astra_profiles[\"Poh\"].values\n",
    "                    + astra_profiles[\"Paux\"].values\n",
    "                    # - astra_profiles[\"Prad\"].values\n",
    "                    - astra_profiles[\"Pneu\"].values\n",
    "                    - astra_profiles[\"Peic\"].values\n",
    "                    + astra_profiles[\"Pdte\"].values\n",
    "                )\n",
    "                * 1.0e6\n",
    "                / scipy.constants.electron_volt,\n",
    "            ),\n",
    "            r\"$Q_{e}$ astra\",\n",
    "        ),\n",
    "        (source_1d.electrons.energy, r\"$Q_{e}$\"),\n",
    "    ],\n",
    "    x_label=r\"$\\bar{\\rho}$ [-]\",\n",
    "    fontsize=10,\n",
    ")"
   ]
  },
  {
   "cell_type": "code",
   "execution_count": null,
   "metadata": {},
   "outputs": [],
   "source": [
    "plt.plot(source_1d.grid.rho_tor_norm, source_1d.electrons.energy.__array__(), label=\"Qe\")\n",
    "plt.plot(source_1d.electrons.energy.domain.dims[0], source_1d.electrons.energy.__array__())\n",
    "plt.plot(\n",
    "    astra_rho_tor_norm,\n",
    "    (\n",
    "        astra_profiles[\"Poh\"].values\n",
    "        + astra_profiles[\"Paux\"].values\n",
    "        # - astra_profiles[\"Prad\"].values\n",
    "        - astra_profiles[\"Pneu\"].values\n",
    "        # - astra_profiles[\"Peic\"].values\n",
    "        # + astra_profiles[\"Pdte\"].values\n",
    "    )\n",
    "    * 1.0e6\n",
    "    / scipy.constants.electron_volt,\n",
    "    label=\"Qe astra\",\n",
    ")\n",
    "plt.legend()"
   ]
  },
  {
   "cell_type": "code",
   "execution_count": null,
   "metadata": {},
   "outputs": [],
   "source": [
    "fig = sp_view.plot(\n",
    "    solver_1d.grid.rho_tor_norm,\n",
    "    *sum(\n",
    "        [\n",
    "            [\n",
    "                # (solver_1d.Y0[2 * idx], f\"d({equ.identifier})/dr\"),\n",
    "                # (solver_1d.Y0[2 * idx + 1], f\"d({equ.identifier}_flux)/dr\"),\n",
    "                (equ.d_dr, f\"d({equ.identifier})/dr\"),\n",
    "                (equ.dflux_dr, f\"d({equ.identifier}_flux)/dr\"),\n",
    "            ]\n",
    "            for idx, equ in enumerate(solver_1d.equations)\n",
    "        ],\n",
    "        [],\n",
    "    ),\n",
    "    x_label=r\"$\\bar{\\rho}$ [-]\",\n",
    ")"
   ]
  },
  {
   "cell_type": "code",
   "execution_count": null,
   "metadata": {},
   "outputs": [],
   "source": [
    "source_1d = tokamak.core_sources.source[0].time_slice.current.profiles_1d\n",
    "fig = sp_view.plot(\n",
    "    source_1d.grid.rho_tor_norm,\n",
    "    [\n",
    "        (source_1d.ion[0].particles, source_1d.ion[0].label),\n",
    "        (source_1d.ion[2].particles, source_1d.ion[2].label),\n",
    "    ],\n",
    "    (\n",
    "        [\n",
    "            (source_1d.ion[0].energy, source_1d.ion[0].label),\n",
    "            (source_1d.ion[2].energy, source_1d.ion[2].label),\n",
    "        ],\n",
    "        {\"y_label\": \"Energy\"},\n",
    "    ),\n",
    ")"
   ]
  }
 ],
 "metadata": {
  "kernelspec": {
   "display_name": "Python 3",
   "language": "python",
   "name": "python3"
  },
  "language_info": {
   "codemirror_mode": {
    "name": "ipython",
    "version": 3
   },
   "file_extension": ".py",
   "mimetype": "text/x-python",
   "name": "python",
   "nbconvert_exporter": "python",
   "pygments_lexer": "ipython3",
   "version": "3.11.3"
  }
 },
 "nbformat": 4,
 "nbformat_minor": 2
}
