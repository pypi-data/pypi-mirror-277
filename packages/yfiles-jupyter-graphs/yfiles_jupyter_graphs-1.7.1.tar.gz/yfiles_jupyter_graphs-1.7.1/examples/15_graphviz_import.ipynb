{
 "cells": [
  {
   "cell_type": "markdown",
   "id": "eecbc038-6df0-4d3f-b564-c46d27f9358e",
   "metadata": {},
   "source": [
    "# Visualizing Graphviz graphs in yFiles Graphs for Jupyter <a target=\"_blank\" href=\"https://colab.research.google.com/github/yWorks/yfiles-jupyter-graphs/blob/main/examples/15_graphviz_import.ipynb\"><img src=\"https://colab.research.google.com/assets/colab-badge.svg\" alt=\"Open In Colab\"/></a>"
   ]
  },
  {
   "cell_type": "markdown",
   "id": "c2ec2430-e182-4000-b2d4-f60b96824660",
   "metadata": {},
   "source": [
    "Before using the graph widget, install all necessary packages."
   ]
  },
  {
   "cell_type": "code",
   "execution_count": null,
   "id": "8e126508-3512-44d6-8a47-47a5c7080c97",
   "metadata": {},
   "outputs": [],
   "source": [
    "%pip install yfiles_jupyter_graphs --quiet\n",
    "%pip install pygraphviz --quiet\n",
    "from pygraphviz import AGraph\n",
    "from yfiles_jupyter_graphs import GraphWidget"
   ]
  },
  {
   "cell_type": "markdown",
   "id": "d5308fcb-a3ef-4b94-badd-4c21b7f3b5e0",
   "metadata": {},
   "source": [
    "You can also open this notebook in Google Colab when Google Colab's custom widget manager is enabled:"
   ]
  },
  {
   "cell_type": "code",
   "execution_count": null,
   "id": "34bded61-03f3-4db8-9554-bbc1752980a8",
   "metadata": {},
   "outputs": [],
   "source": [
    "try:\n",
    "  import google.colab\n",
    "  from google.colab import output\n",
    "  output.enable_custom_widget_manager()\n",
    "except:\n",
    "  pass"
   ]
  },
  {
   "cell_type": "markdown",
   "id": "8ec37b8d-885d-475a-852c-f5d35b6e24c7",
   "metadata": {},
   "source": [
    "<a target=\"_blank\" href=\"https://colab.research.google.com/github/yWorks/yfiles-jupyter-graphs/blob/main/examples/15_graphviz_import.ipynb\"><img src=\"https://colab.research.google.com/assets/colab-badge.svg\" alt=\"Open In Colab\"/></a>"
   ]
  },
  {
   "cell_type": "markdown",
   "id": "485da5d9-f203-488e-a445-515a10da690e",
   "metadata": {},
   "source": [
    "## How to import a graph\n",
    "- either import the graph directly when initilizing: ```GraphWidget(graph=your_graph)```\n",
    "- or use the ```w.import_graph(your_graph)``` function, if you already initilized a Widget called ```w```"
   ]
  },
  {
   "cell_type": "markdown",
   "id": "56ea297e-5edb-4457-a86a-c219ecf26efa",
   "metadata": {},
   "source": [
    "## Notes about pygraphviz importer\n",
    "- graph attributes are ignored\n",
    "- node names are saved under property label (or yf_label if key label already exists)\n",
    "- unspecified default node/edge attributes are empty (and as such shown as null in data viewer)"
   ]
  },
  {
   "cell_type": "code",
   "execution_count": null,
   "id": "71df2878-65a5-4468-9494-ab16e4d35b27",
   "metadata": {},
   "outputs": [],
   "source": [
    "def _widget(graph):\n",
    "    # helper function\n",
    "    print(graph)\n",
    "    print('-'*20)\n",
    "    return GraphWidget(graph = graph)"
   ]
  },
  {
   "cell_type": "markdown",
   "id": "cd7a9e5b-6b5f-4043-81ba-7f4fc95a9495",
   "metadata": {},
   "source": [
    "## Import graph from tutorial\n",
    "https://pygraphviz.github.io/documentation/stable/tutorial.html"
   ]
  },
  {
   "cell_type": "code",
   "execution_count": null,
   "id": "18a6b6f9-595a-4b5b-9b73-15af4494ce6c",
   "metadata": {},
   "outputs": [],
   "source": [
    "A = AGraph({\"1\": {\"2\": None}, \"2\": {\"1\": None, \"3\": None}, \"3\": {\"2\": None}}, ranksep=\"0.1\")\n",
    "node_list = [\"f\", \"g\", \"h\"]\n",
    "A.add_nodes_from(node_list)\n",
    "A.add_node(1)\n",
    "A.graph_attr[\"label\"] = \"Name of graph\"\n",
    "A.node_attr[\"shape\"] = \"circle\"\n",
    "A.edge_attr[\"color\"] = \"red\"\n",
    "A.add_node(1, color=\"red\")\n",
    "A.add_edge(\"b\", \"c\", color=\"blue\")\n",
    "n = A.get_node(1)\n",
    "n.attr[\"shape\"] = \"box\"\n",
    "e = A.get_edge(\"b\", \"c\")\n",
    "e.attr[\"color\"] = \"green\"\n",
    "\n",
    "_widget(A)"
   ]
  },
  {
   "cell_type": "markdown",
   "id": "a2e14022-7781-4c3e-a608-24467aa150cb",
   "metadata": {},
   "source": [
    "## Import graph from subgraph gallery\n",
    "https://pygraphviz.github.io/documentation/stable/auto_examples/plot_subgraph.html"
   ]
  },
  {
   "cell_type": "code",
   "execution_count": null,
   "id": "2ec48e3a-531d-4a79-b2b3-6d16de8e64ca",
   "metadata": {},
   "outputs": [],
   "source": [
    "A = AGraph()\n",
    "A.add_edge(1, 2)\n",
    "A.add_edge(2, 3)\n",
    "A.add_edge(1, 3)\n",
    "A.add_edge(3, 4)\n",
    "A.add_edge(3, 5)\n",
    "A.add_edge(3, 6)\n",
    "A.add_edge(4, 6)\n",
    "# make a subgraph with rank='same'\n",
    "B = A.add_subgraph([4, 5, 6], name=\"s1\", rank=\"same\")\n",
    "B.graph_attr[\"rank\"] = \"same\"\n",
    "\n",
    "_widget(A)"
   ]
  },
  {
   "cell_type": "markdown",
   "id": "6814a81b-338a-41e4-a783-b8cf8b59a866",
   "metadata": {},
   "source": [
    "## Import graph from attributes gallery\n",
    "https://pygraphviz.github.io/documentation/stable/auto_examples/plot_attributes.html"
   ]
  },
  {
   "cell_type": "code",
   "execution_count": null,
   "id": "91d9dd25-c5a5-4551-a279-68378d2d9515",
   "metadata": {},
   "outputs": [],
   "source": [
    "# strict (no parallel edges)\n",
    "# digraph\n",
    "# with attribute rankdir set to 'LR'\n",
    "A = AGraph(directed=True, strict=True, rankdir=\"LR\")\n",
    "# add node 1 with color red\n",
    "A.add_node(1, color=\"red\")\n",
    "A.add_node(5, color=\"blue\")\n",
    "# add some edges\n",
    "A.add_edge(1, 2, color=\"green\")\n",
    "A.add_edge(2, 3)\n",
    "A.add_edge(1, 3)\n",
    "A.add_edge(3, 4)\n",
    "A.add_edge(3, 5)\n",
    "A.add_edge(3, 6)\n",
    "A.add_edge(4, 6)\n",
    "# adjust a graph parameter\n",
    "A.graph_attr[\"epsilon\"] = \"0.001\"\n",
    "\n",
    "w = _widget(A)\n",
    "display(w)"
   ]
  },
  {
   "cell_type": "markdown",
   "id": "94b16e3d-8b20-4872-8db2-190dfe5229d6",
   "metadata": {},
   "source": [
    "### Using imported data\n",
    "\n",
    "To access data stored in the 'properties' dictionary, you can use the data key in squared brackets: ```['properties']['key'] ```\n",
    "\n",
    "Possible node keys in this example are 'label' and 'color' \n",
    "\n",
    "To display all properties, we remove any additional node data except the properties"
   ]
  },
  {
   "cell_type": "code",
   "execution_count": null,
   "id": "8f7bc5a1-54ba-4c49-9479-f0920fa87789",
   "metadata": {},
   "outputs": [],
   "source": [
    "properties = [node['properties'] for node in w.nodes]\n",
    "formattedProperties = ''.join(f\"Node {node['label']}: {node}\\n\" for node in properties)\n",
    "print(formattedProperties)"
   ]
  },
  {
   "cell_type": "markdown",
   "id": "faa289bd-518d-41d6-8ce3-8acd2518a318",
   "metadata": {},
   "source": [
    "Let's use the 'color' attribute to change the colors of some nodes\n",
    "\n",
    "Missing colors are interpreted as black:"
   ]
  },
  {
   "cell_type": "code",
   "execution_count": null,
   "id": "47604423-ca7b-490e-a20f-7e3c105a4c5d",
   "metadata": {},
   "outputs": [],
   "source": [
    "w.node_color_mapping = 'color'\n",
    "display(w)"
   ]
  }
 ],
 "metadata": {
  "kernelspec": {
   "display_name": "Python 3 (ipykernel)",
   "language": "python",
   "name": "python3"
  },
  "language_info": {
   "codemirror_mode": {
    "name": "ipython",
    "version": 3
   },
   "file_extension": ".py",
   "mimetype": "text/x-python",
   "name": "python",
   "nbconvert_exporter": "python",
   "pygments_lexer": "ipython3",
   "version": "3.11.3"
  }
 },
 "nbformat": 4,
 "nbformat_minor": 5
}
