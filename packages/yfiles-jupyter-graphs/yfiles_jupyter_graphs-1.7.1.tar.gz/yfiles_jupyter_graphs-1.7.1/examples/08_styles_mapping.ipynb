{
 "cells": [
  {
   "cell_type": "markdown",
   "id": "eecc07af-a3c7-4106-83b3-4b3cf188bf00",
   "metadata": {},
   "source": [
    "# Node Styles Mapping <a target=\"_blank\" href=\"https://colab.research.google.com/github/yWorks/yfiles-jupyter-graphs/blob/main/examples/08_styles_mapping.ipynb\"><img src=\"https://colab.research.google.com/assets/colab-badge.svg\" alt=\"Open In Colab\"/></a>"
   ]
  },
  {
   "cell_type": "markdown",
   "id": "568394f4-3172-4727-bab4-7b185bbf3475",
   "metadata": {},
   "source": [
    "This notebook covers the basics of customizing node styles.\n",
    "\n",
    "Although edges do not have a styles property, their color may be adjusted as demonstrated in [03_color_mapping.ipynb](./03_color_mapping.ipynb).\n",
    "\n",
    "For the purpose of mapping demonstrations, the same graph, ```erdos_renyi_graph```, will be used. For this, we will import the graph from the networkx database. \\\n",
    "For more details on how to import graph data, explore the other example notebooks or refer to the full widget [documentation](https://yworks.github.io/yfiles-jupyter-graphs/).\n",
    "\n",
    "Before using the graph widget, install all necessary packages."
   ]
  },
  {
   "cell_type": "code",
   "execution_count": null,
   "id": "90ecbac8-b17b-4334-b047-90bf2c660789",
   "metadata": {},
   "outputs": [],
   "source": [
    "%pip install yfiles_jupyter_graphs --quiet\n",
    "from yfiles_jupyter_graphs import GraphWidget\n",
    "%pip install networkx --quiet\n",
    "from typing import Dict\n",
    "from networkx import erdos_renyi_graph\n",
    "from random import random, seed, choice\n",
    "seed(0)\n",
    "\n",
    "g = erdos_renyi_graph(10, 0.3, 2)\n",
    "w = GraphWidget(graph=g)"
   ]
  },
  {
   "cell_type": "markdown",
   "id": "77fabc96-6d28-4236-a7e7-43947de3ea9c",
   "metadata": {},
   "source": [
    "You can also open this notebook in Google Colab when Google Colab's custom widget manager is enabled:"
   ]
  },
  {
   "cell_type": "code",
   "execution_count": null,
   "id": "193f755e-f9bc-4e02-ba8d-12b58b060073",
   "metadata": {},
   "outputs": [],
   "source": [
    "try:\n",
    "  import google.colab\n",
    "  from google.colab import output\n",
    "  output.enable_custom_widget_manager()\n",
    "except:\n",
    "  pass"
   ]
  },
  {
   "cell_type": "markdown",
   "id": "2de88426-f109-447a-ac84-6bff394d9d8c",
   "metadata": {},
   "source": [
    "<a target=\"_blank\" href=\"https://colab.research.google.com/github/yWorks/yfiles-jupyter-graphs/blob/main/examples/08_styles_mapping.ipynb\"><img src=\"https://colab.research.google.com/assets/colab-badge.svg\" alt=\"Open In Colab\"/></a>"
   ]
  },
  {
   "cell_type": "markdown",
   "id": "398a965a-f48f-44bd-abf3-80881bbc0b10",
   "metadata": {},
   "source": [
    "This is the graph we will be using: "
   ]
  },
  {
   "cell_type": "code",
   "execution_count": null,
   "id": "89d498d9-36c7-4b5d-9306-118bfbd23ed1",
   "metadata": {},
   "outputs": [],
   "source": [
    "display(w)"
   ]
  },
  {
   "cell_type": "markdown",
   "id": "db627c1c-f274-49e7-bc20-430cca14648c",
   "metadata": {},
   "source": [
    "## Mapping Function\n",
    "\n",
    "The node styles mapping is a function that is supposed to return a dictionary of style properties for each given node object which is then used in the widget.\n",
    "\n",
    "Optionally, the index can be used as the first function parameter.\n",
    "\n",
    "There are three style options: `shape`, `color` and `image`.\n",
    "\n",
    "### Custom node mappings\n",
    "\n",
    "There are get and set methods for each customizable node property.\n",
    "- you can set a new node mapping with ```w.set_node_[binding]_mapping```\n",
    "- you can get the current node mapping with ```w.get_node_[binding]_mapping```\n",
    "- you can delete a custom node mapping with ```w.del_node_[binding]_mapping```\n",
    "\n",
    "You can find more details in the dedicated function documentation, available at ```w.[function_name].__doc__``` or in the [documentation](https://yworks.github.io/yfiles-jupyter-graphs/02_graph_widget/#methods).\n",
    "\n",
    "If no style mapping is set, the default mapping is used."
   ]
  },
  {
   "cell_type": "code",
   "execution_count": null,
   "id": "365ca4b5-2c1d-44d4-8e8b-c564fc1384ac",
   "metadata": {},
   "outputs": [],
   "source": [
    "print(w.node_styles_mapping.__doc__)"
   ]
  },
  {
   "cell_type": "code",
   "execution_count": null,
   "id": "9870a144-9afa-4be5-98f6-c8dbf2c6da71",
   "metadata": {},
   "outputs": [],
   "source": [
    "w.get_node_styles_mapping()"
   ]
  },
  {
   "cell_type": "markdown",
   "id": "26d23e41-d42b-4248-b138-10460adc5916",
   "metadata": {},
   "source": [
    "## Node Styles Mapping with 'shape' and 'color'\n",
    "\n",
    "First, change the node styles with a new random shape and a new random color"
   ]
  },
  {
   "cell_type": "code",
   "execution_count": null,
   "id": "2b2c8788-b50f-43da-a646-93f1153f99af",
   "metadata": {},
   "outputs": [],
   "source": [
    "nodes = w.get_nodes()\n",
    "node_shapes = [\"rectangle\", \"round-rectangle\", \"ellipse\", \"hexagon\", \"hexagon2\", \"octagon\", \"triangle\", \"pill\"]\n",
    "def custom_styles_mapping(node: Dict):\n",
    "    \"\"\"Select a shape and a random color for the node\"\"\"\n",
    "    return {\n",
    "        'shape': node_shapes[nodes.index(node) % len(node_shapes)],\n",
    "        'color': \"#\"+''.join([choice('0123456789abcdef') for j in range(6)])\n",
    "    }"
   ]
  },
  {
   "cell_type": "markdown",
   "id": "b5fa3218-3440-4fa9-861c-83b1e7fbca61",
   "metadata": {},
   "source": [
    "Let's change the node styles:"
   ]
  },
  {
   "cell_type": "code",
   "execution_count": null,
   "id": "15c4086d-d686-4da2-a9af-ec50b5c0f292",
   "metadata": {},
   "outputs": [],
   "source": [
    "w.set_node_styles_mapping(custom_styles_mapping)\n",
    "w.get_node_styles_mapping()"
   ]
  },
  {
   "cell_type": "code",
   "execution_count": null,
   "id": "950b2ab0-7865-43e6-8bc4-de58d0a9a702",
   "metadata": {},
   "outputs": [],
   "source": [
    "display(w)"
   ]
  },
  {
   "cell_type": "markdown",
   "id": "9e8b6f9c-35d4-4726-8247-779a851464e3",
   "metadata": {},
   "source": [
    "## Node Styles Mapping with 'image''\n",
    "\n",
    "Now we change the node styles by setting them as an image"
   ]
  },
  {
   "cell_type": "code",
   "execution_count": null,
   "id": "9ccd8aa6-c69b-4385-bf88-392652874345",
   "metadata": {},
   "outputs": [],
   "source": [
    "dataURI = \"data:image/svg+xml,%3C%3Fxml version='1.0' encoding='UTF-8'%3F%3E%3Csvg id='a' xmlns='http://www.w3.org/2000/svg' viewBox='0 0 88.66 93.76'%3E%3Cg id='b'%3E%3Cpath d='M0,37.41l.09,19.36c.04,9.83,5.33,18.89,13.87,23.77l16.81,9.6c8.54,4.88,19.03,4.83,27.52-.13l16.72-9.76c8.49-4.96,13.69-14.06,13.65-23.9l-.09-19.36c-.05-9.83-5.33-18.89-13.87-23.77L57.89,3.62c-8.54-4.88-19.03-4.83-27.52,.13L13.65,13.51C5.16,18.46-.05,27.57,0,37.41' fill='%23242265'/%3E%3Cg id='c'%3E%3Cg%3E%3Cpath d='M42.96,64.19c-.36,1.68-1.19,3.18-2.05,4.66-1.58,2.73-3.04,6.12-.89,9.02,1.71,2.31,5.08,2.85,7.48,1.19,2.92-2.03,2.76-5.81,1.24-8.65-.78-1.45-1.7-2.81-2.33-4.34-.69-1.67-.93-3.42-.97-5.22,0-.36,0-.73-.01-1.09h-2.11c0,1.48-.05,2.99-.36,4.43Z' fill='%23fff'/%3E%3Cpath d='M42.96,29.53c-.36-1.68-1.19-3.18-2.05-4.66-1.58-2.73-3.04-6.12-.89-9.02,1.71-2.31,5.08-2.85,7.48-1.19,2.92,2.03,2.76,5.81,1.24,8.65-.78,1.45-1.7,2.81-2.33,4.34-.69,1.67-.93,3.42-.97,5.22,0,.36,0,.73-.01,1.09h-2.11c0-1.48-.05-2.99-.36-4.43Z' fill='%23fff'/%3E%3Crect x='43.32' y='33.66' width='2.11' height='26.44' fill='%23fff'/%3E%3C/g%3E%3Cg%3E%3Cpath d='M30.07,56.75c-1.27,1.15-2.16,2.63-3.01,4.1-1.57,2.73-3.78,5.69-7.37,5.28-2.86-.32-5.01-2.97-4.77-5.88,.3-3.55,3.65-5.3,6.87-5.4,1.64-.05,3.28,.06,4.92-.15,1.8-.24,3.43-.9,5.01-1.77,.32-.18,.63-.35,.95-.53l1.05,1.83c-1.29,.73-2.56,1.54-3.65,2.53Z' fill='%23fff'/%3E%3Cpath d='M60.09,39.42c1.63-.53,3.35-.56,5.06-.55,3.15,0,6.82-.43,8.26-3.74,1.15-2.64-.07-5.83-2.71-7.07-3.22-1.52-6.41,.51-8.11,3.25-.87,1.4-1.58,2.87-2.59,4.19-1.1,1.44-2.5,2.52-4.04,3.45-.31,.19-.62,.37-.94,.55l1.05,1.83c1.28-.75,2.62-1.45,4.01-1.9Z' fill='%23fff'/%3E%3Crect x='43.3' y='33.65' width='2.11' height='26.44' transform='translate(25.94 108.72) rotate(-120)' fill='%23fff'/%3E%3C/g%3E%3Cg%3E%3Cpath d='M60.09,54.3c1.63,.53,3.35,.56,5.06,.55,3.15,0,6.82,.43,8.26,3.74,1.15,2.64-.07,5.83-2.71,7.07-3.22,1.52-6.41-.51-8.11-3.25-.87-1.4-1.58-2.87-2.59-4.19-1.1-1.44-2.5-2.52-4.04-3.45-.31-.19-.62-.37-.94-.55l1.05-1.83c1.28,.75,2.62,1.45,4.01,1.9Z' fill='%23fff'/%3E%3Cpath d='M30.07,36.97c-1.27-1.15-2.16-2.63-3.01-4.1-1.57-2.73-3.78-5.69-7.37-5.28-2.86,.32-5.01,2.97-4.77,5.88,.3,3.55,3.65,5.3,6.87,5.4,1.64,.05,3.28-.06,4.92,.15,1.8,.24,3.43,.9,5.01,1.77,.32,.18,.63,.35,.95,.53l1.05-1.83c-1.29-.73-2.56-1.54-3.65-2.53Z' fill='%23fff'/%3E%3Crect x='43.34' y='33.65' width='2.11' height='26.44' transform='translate(107.18 31.86) rotate(120)' fill='%23fff'/%3E%3C/g%3E%3Cg%3E%3Cpath d='M66.99,50.35c-.36,1.68-1.19,3.18-2.05,4.66-1.58,2.73-3.04,6.12-.89,9.02,1.71,2.31,5.08,2.85,7.48,1.19,2.92-2.03,2.76-5.81,1.24-8.65-.78-1.45-1.7-2.81-2.33-4.34-.69-1.67-.93-3.42-.97-5.22,0-.36,0-.73-.01-1.09h-2.11c0,1.48-.05,2.99-.36,4.43Z' fill='%23fff'/%3E%3Cpath d='M66.99,43.37c-.36-1.68-1.19-3.18-2.05-4.66-1.58-2.73-3.04-6.12-.89-9.02,1.71-2.31,5.08-2.85,7.48-1.19,2.92,2.03,2.76,5.81,1.24,8.65-.78,1.45-1.7,2.81-2.33,4.34-.69,1.67-.93,3.42-.97,5.22,0,.36,0,.73-.01,1.09h-2.11c0-1.48-.05-2.99-.36-4.43Z' fill='%23fff'/%3E%3C/g%3E%3Cg%3E%3Cpath d='M18.87,50.35c-.36,1.68-1.19,3.18-2.05,4.66-1.58,2.73-3.04,6.12-.89,9.02,1.71,2.31,5.08,2.85,7.48,1.19,2.92-2.03,2.76-5.81,1.24-8.65-.78-1.45-1.7-2.81-2.33-4.34-.69-1.67-.93-3.42-.97-5.22,0-.36,0-.73-.01-1.09h-2.11c0,1.48-.05,2.99-.36,4.43Z' fill='%23fff'/%3E%3Cpath d='M18.87,43.37c-.36-1.68-1.19-3.18-2.05-4.66-1.58-2.73-3.04-6.12-.89-9.02,1.71-2.31,5.08-2.85,7.48-1.19,2.92,2.03,2.76,5.81,1.24,8.65-.78,1.45-1.7,2.81-2.33,4.34-.69,1.67-.93,3.42-.97,5.22,0,.36,0,.73-.01,1.09h-2.11c0-1.48-.05-2.99-.36-4.43Z' fill='%23fff'/%3E%3C/g%3E%3Cg%3E%3Cpath d='M30.02,29.06c-1.27,1.15-2.16,2.63-3.01,4.1-1.57,2.73-3.78,5.69-7.37,5.28-2.86-.32-5.01-2.97-4.77-5.88,.3-3.55,3.65-5.3,6.87-5.4,1.64-.05,3.28,.06,4.92-.15,1.8-.24,3.43-.9,5.01-1.77,.32-.18,.63-.35,.95-.53l1.05,1.83c-1.29,.73-2.56,1.54-3.65,2.53Z' fill='%23fff'/%3E%3Cpath d='M36.06,25.58c1.63-.53,3.35-.56,5.06-.55,3.15,0,6.82-.43,8.26-3.74,1.15-2.64-.07-5.83-2.71-7.07-3.22-1.52-6.41,.51-8.11,3.25-.87,1.4-1.58,2.87-2.59,4.19-1.1,1.44-2.5,2.52-4.04,3.45-.31,.19-.62,.37-.94,.55l1.05,1.83c1.28-.75,2.62-1.45,4.01-1.9Z' fill='%23fff'/%3E%3C/g%3E%3Cg%3E%3Cpath d='M54.1,70.6c-1.27,1.15-2.16,2.63-3.01,4.1-1.57,2.73-3.78,5.69-7.37,5.28-2.86-.32-5.01-2.97-4.77-5.88,.3-3.55,3.65-5.3,6.87-5.4,1.64-.05,3.28,.06,4.92-.15,1.8-.24,3.43-.9,5.01-1.77,.32-.18,.63-.35,.95-.53l1.05,1.83c-1.29,.73-2.56,1.54-3.65,2.53Z' fill='%23fff'/%3E%3Cpath d='M60.14,67.12c1.63-.53,3.35-.56,5.06-.55,3.15,0,6.82-.43,8.26-3.74,1.15-2.64-.07-5.83-2.71-7.07-3.22-1.52-6.41,.51-8.11,3.25-.87,1.4-1.58,2.87-2.59,4.19-1.1,1.44-2.5,2.52-4.04,3.45-.31,.19-.62,.37-.94,.55l1.05,1.83c1.28-.75,2.62-1.45,4.01-1.9Z' fill='%23fff'/%3E%3C/g%3E%3Cg%3E%3Cpath d='M58.73,29.06c1.27,1.15,2.16,2.63,3.01,4.1,1.57,2.73,3.78,5.69,7.37,5.28,2.86-.32,5.01-2.97,4.77-5.88-.3-3.55-3.65-5.3-6.87-5.4-1.64-.05-3.28,.06-4.92-.15-1.8-.24-3.43-.9-5.01-1.77-.32-.18-.63-.35-.95-.53l-1.05,1.83c1.29,.73,2.56,1.54,3.65,2.53Z' fill='%23fff'/%3E%3Cpath d='M52.69,25.58c-1.63-.53-3.35-.56-5.06-.55-3.15,0-6.82-.43-8.26-3.74-1.15-2.64,.07-5.83,2.71-7.07,3.22-1.52,6.41,.51,8.11,3.25,.87,1.4,1.58,2.87,2.59,4.19,1.1,1.44,2.5,2.52,4.04,3.45,.31,.19,.62,.37,.94,.55l-1.05,1.83c-1.28-.75-2.62-1.45-4.01-1.9Z' fill='%23fff'/%3E%3C/g%3E%3Cg%3E%3Cpath d='M34.64,70.6c1.27,1.15,2.16,2.63,3.01,4.1,1.57,2.73,3.78,5.69,7.37,5.28,2.86-.32,5.01-2.97,4.77-5.88-.3-3.55-3.65-5.3-6.87-5.4-1.64-.05-3.28,.06-4.92-.15-1.8-.24-3.43-.9-5.01-1.77-.32-.18-.63-.35-.95-.53l-1.05,1.83c1.29,.73,2.56,1.54,3.65,2.53Z' fill='%23fff'/%3E%3Cpath d='M28.6,67.12c-1.63-.53-3.35-.56-5.06-.55-3.15,0-6.82-.43-8.26-3.74-1.15-2.64,.07-5.83,2.71-7.07,3.22-1.52,6.41,.51,8.11,3.25,.87,1.4,1.58,2.87,2.59,4.19,1.1,1.44,2.5,2.52,4.04,3.45,.31,.19,.62,.37,.94,.55l-1.05,1.83c-1.28-.75-2.62-1.45-4.01-1.9Z' fill='%23fff'/%3E%3C/g%3E%3Cg%3E%3Cg%3E%3Cpath d='M61.95,41.28c.53-1.63,.56-3.35,.55-5.06,0-3.15,.43-6.82,3.74-8.26,2.64-1.15,5.83,.07,7.07,2.71,1.52,3.22-.51,6.41-3.25,8.11-1.4,.87-2.87,1.58-4.19,2.59-1.44,1.1-2.52,2.5-3.45,4.04-.19,.31-.37,.62-.55,.94l-1.83-1.05c.75-1.28,1.45-2.62,1.9-4.01Z' fill='%23fff'/%3E%3Cpath d='M48.36,64.86c-1.15,1.27-2.63,2.16-4.1,3.01-2.73,1.57-5.69,3.78-5.28,7.37,.32,2.86,2.97,5.01,5.88,4.77,3.55-.3,5.3-3.65,5.4-6.87,.05-1.64-.06-3.28,.15-4.92,.24-1.8,.9-3.43,1.77-5.01,.18-.32,.35-.63,.53-.95l-1.83-1.05c-.73,1.29-1.54,2.56-2.53,3.65Z' fill='%23fff'/%3E%3Crect x='55.82' y='42.51' width='2.11' height='20.88' transform='translate(34.09 -21.34) rotate(30)' fill='%23fff'/%3E%3C/g%3E%3Cg%3E%3Cpath d='M26.79,41.28c-.53-1.63-.56-3.35-.55-5.06,0-3.15-.43-6.82-3.74-8.26-2.64-1.15-5.83,.07-7.07,2.71-1.52,3.22,.51,6.41,3.25,8.11,1.4,.87,2.87,1.58,4.19,2.59,1.44,1.1,2.52,2.5,3.45,4.04,.19,.31,.37,.62,.55,.94l1.83-1.05c-.75-1.28-1.45-2.62-1.9-4.01Z' fill='%23fff'/%3E%3Cpath d='M40.39,64.86c1.15,1.27,2.63,2.16,4.1,3.01,2.73,1.57,5.69,3.78,5.28,7.37-.32,2.86-2.97,5.01-5.88,4.77-3.55-.3-5.3-3.65-5.4-6.87-.05-1.64,.06-3.28-.15-4.92-.24-1.8-.9-3.43-1.77-5.01-.18-.32-.35-.63-.53-.95l1.83-1.05c.73,1.29,1.54,2.56,2.53,3.65Z' fill='%23fff'/%3E%3Crect x='30.82' y='42.51' width='2.11' height='20.88' transform='translate(85.95 82.86) rotate(150)' fill='%23fff'/%3E%3C/g%3E%3Cg%3E%3Cpath d='M57.96,34.4c1.68,.36,3.18,1.19,4.66,2.05,2.73,1.58,6.12,3.04,9.02,.89,2.31-1.71,2.85-5.08,1.19-7.48-2.03-2.92-5.81-2.76-8.65-1.24-1.45,.78-2.81,1.7-4.34,2.33-1.67,.69-3.42,.93-5.22,.97-.36,0-.73,0-1.09,.01v2.11c1.48,0,2.99,.05,4.43,.36Z' fill='%23fff'/%3E%3Cpath d='M30.75,34.39c-1.68,.36-3.18,1.19-4.66,2.05-2.73,1.58-6.12,3.04-9.02,.89-2.31-1.71-2.85-5.08-1.19-7.48,2.03-2.92,5.81-2.76,8.65-1.24,1.45,.78,2.81,1.7,4.34,2.33,1.67,.69,3.42,.93,5.22,.97,.36,0,.73,0,1.09,.01v2.11c-1.48,0-2.99,.05-4.43,.36Z' fill='%23fff'/%3E%3Crect x='44.26' y='22.53' width='2.11' height='20.88' transform='translate(12.35 78.29) rotate(-90)' fill='%23fff'/%3E%3C/g%3E%3C/g%3E%3Ccircle cx='44.37' cy='19.13' r='5.43' fill='%23fff'/%3E%3Ccircle cx='44.37' cy='74.59' r='5.43' fill='%23fff'/%3E%3Ccircle cx='68.39' cy='32.99' r='5.43' fill='%23fff'/%3E%3Ccircle cx='20.36' cy='60.72' r='5.43' fill='%23fff'/%3E%3Ccircle cx='20.36' cy='32.99' r='5.43' fill='%23fff'/%3E%3Ccircle cx='68.39' cy='60.72' r='5.43' fill='%23fff'/%3E%3C/g%3E%3C/g%3E%3C/svg%3E\""
   ]
  },
  {
   "cell_type": "code",
   "execution_count": null,
   "id": "dff70d4c-ff48-4ff6-8ba3-ad4193b3adec",
   "metadata": {},
   "outputs": [],
   "source": [
    "w2 = GraphWidget(graph=g)\n",
    "\n",
    "def custom_styles_mapping_image(item: Dict):\n",
    "    if item['id'] % 2 == 0:\n",
    "        return {\n",
    "            'image': dataURI\n",
    "        }\n",
    "    else:\n",
    "        return {}"
   ]
  },
  {
   "cell_type": "markdown",
   "id": "263c96f8-126d-4383-a85d-d7bb4c09a14b",
   "metadata": {},
   "source": [
    "Let's change the node styles to the image:"
   ]
  },
  {
   "cell_type": "code",
   "execution_count": null,
   "id": "b599853f-5cc7-4725-a891-88e5acd7b40d",
   "metadata": {},
   "outputs": [],
   "source": [
    "w2.set_node_styles_mapping(custom_styles_mapping_image)\n",
    "w2.get_node_styles_mapping()"
   ]
  },
  {
   "cell_type": "markdown",
   "id": "02079d78-6373-4789-b007-444d9ffcd659",
   "metadata": {},
   "source": [
    "Note that you can inspect the styles property in the data tab by selecting a node."
   ]
  },
  {
   "cell_type": "code",
   "execution_count": null,
   "id": "aabb11c1-e4cf-4ddc-890f-68c96e0d0115",
   "metadata": {},
   "outputs": [],
   "source": [
    "display(w2)"
   ]
  },
  {
   "cell_type": "markdown",
   "id": "27fd6b08-ec37-46a0-9ebd-d9457cf83eb0",
   "metadata": {},
   "source": [
    " Note that the 'image' property can also be set to a url, but only if it allows cross-origin access:"
   ]
  },
  {
   "cell_type": "code",
   "execution_count": null,
   "id": "de3e8a7d-d641-4cfd-8c3c-ee0cba130f53",
   "metadata": {},
   "outputs": [],
   "source": [
    "w3 = GraphWidget(graph=g)\n",
    "\n",
    "def custom_styles_mapping_image_url(item: Dict):\n",
    "    if item['id'] % 2 == 0:\n",
    "        return {\n",
    "            'image': 'https://gist.githubusercontent.com/fskpf/b5c5b765139056ddc7e72ea28d4f44e4/raw/f4483469a9d4f638a8acae39aa6adfd76b61f587/yfiles-jupyter-graphs-icon.svg'\n",
    "        }\n",
    "    else:\n",
    "        return {}\n",
    "\n",
    "w3.set_node_styles_mapping(custom_styles_mapping_image_url)\n",
    "display(w3)"
   ]
  },
  {
   "cell_type": "markdown",
   "id": "1af88e4b-8fd4-476f-a54c-405518744b20",
   "metadata": {},
   "source": [
    "## Node Styles Mapping with 'image', 'shape' and 'color'\n",
    "If the styles property contains values for ```'image'```, but for ```'shape'``` or ```'color'``` as well, the former will be used for the nodes and ```'shape'``` and ```'color'``` will be ignored."
   ]
  },
  {
   "cell_type": "code",
   "execution_count": null,
   "id": "26d87382-08af-4e4d-a8ca-f7ae77c7e86c",
   "metadata": {},
   "outputs": [],
   "source": [
    "w4 = GraphWidget(graph=g)\n",
    "\n",
    "def custom_styles_mapping_image_shape_color(item: Dict):\n",
    "    return {\n",
    "        'shape': 'triangle',\n",
    "        'color': 'red',\n",
    "        'image': dataURI\n",
    "    }\n",
    "    \n",
    "w4.set_node_styles_mapping(custom_styles_mapping_image_shape_color)\n",
    "display(w4)"
   ]
  },
  {
   "cell_type": "markdown",
   "id": "9fdc003c-8200-4c59-8f78-1c871752ad36",
   "metadata": {},
   "source": [
    "## Node Styles Mapping and Node Color Mapping\n",
    "\n",
    "There is a seperate color binding apart from the styles binding. The styles binding takes precedence if both are defined."
   ]
  },
  {
   "cell_type": "code",
   "execution_count": null,
   "id": "1322ffd9-bec4-4ecc-8442-ae0e28d77427",
   "metadata": {},
   "outputs": [],
   "source": [
    "w5 = GraphWidget(graph=g)\n",
    "def custom_styles_mapping_red(item: Dict):\n",
    "    if item['id'] % 2 == 0:\n",
    "        return {\n",
    "            'color': 'red'\n",
    "        }\n",
    "    else:\n",
    "        return {}\n",
    "        \n",
    "def custom_color_mapping_blue(item: Dict):\n",
    "    return 'blue'"
   ]
  },
  {
   "cell_type": "code",
   "execution_count": null,
   "id": "a3d56af6-5600-4374-adec-98c7aaaf5192",
   "metadata": {},
   "outputs": [],
   "source": [
    "w5.set_node_styles_mapping(custom_styles_mapping_red)\n",
    "w5.set_node_color_mapping(custom_color_mapping_blue)"
   ]
  },
  {
   "cell_type": "markdown",
   "id": "40bba8c5-3424-4087-a10f-e1ad16379c84",
   "metadata": {},
   "source": [
    "Only every second node is blue, although all of them are set to blue by the ```node_color_mapping```. \\\n",
    "The api tries to get the ```color``` property on ```styles```. \\\n",
    "If it doesn't exist, it will use the ```color``` from ```custom_color_mapping``` instead."
   ]
  },
  {
   "cell_type": "code",
   "execution_count": null,
   "id": "2c6638e6-e841-410c-8d00-d59475813263",
   "metadata": {},
   "outputs": [],
   "source": [
    "display(w5)"
   ]
  }
 ],
 "metadata": {
  "kernelspec": {
   "display_name": "Python 3 (ipykernel)",
   "language": "python",
   "name": "python3"
  },
  "language_info": {
   "codemirror_mode": {
    "name": "ipython",
    "version": 3
   },
   "file_extension": ".py",
   "mimetype": "text/x-python",
   "name": "python",
   "nbconvert_exporter": "python",
   "pygments_lexer": "ipython3",
   "version": "3.11.3"
  }
 },
 "nbformat": 4,
 "nbformat_minor": 5
}
