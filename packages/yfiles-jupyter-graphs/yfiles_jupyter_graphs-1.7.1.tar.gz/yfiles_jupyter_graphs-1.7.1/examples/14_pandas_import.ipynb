{
 "cells": [
  {
   "cell_type": "markdown",
   "id": "32d03e09-094d-40f1-bdb1-5ee752ed94b8",
   "metadata": {},
   "source": [
    "# Visualizing Pandas DataFrames in yFiles Graphs for Jupyter <a target=\"_blank\" href=\"https://colab.research.google.com/github/yWorks/yfiles-jupyter-graphs/blob/main/examples/14_pandas_import.ipynb\"><img src=\"https://colab.research.google.com/assets/colab-badge.svg\" alt=\"Open In Colab\"/></a>"
   ]
  },
  {
   "cell_type": "markdown",
   "id": "87dc4803-39b0-434f-bba4-eac433d6016b",
   "metadata": {},
   "source": [
    "Before using the graph widget, install all necessary packages."
   ]
  },
  {
   "cell_type": "code",
   "execution_count": null,
   "id": "5c411c64-1368-454d-b725-c949e09330f6",
   "metadata": {},
   "outputs": [],
   "source": [
    "%pip install yfiles_jupyter_graphs --quiet\n",
    "%pip install pandas --quiet\n",
    "import pandas as pd\n",
    "from yfiles_jupyter_graphs import GraphWidget"
   ]
  },
  {
   "cell_type": "markdown",
   "id": "c6ea79b9-6287-475e-9c3b-094b63177e56",
   "metadata": {},
   "source": [
    "You can also open this notebook in Google Colab when Google Colab's custom widget manager is enabled:"
   ]
  },
  {
   "cell_type": "code",
   "execution_count": null,
   "id": "03e06677-a479-4977-83ac-7e8382f0ca08",
   "metadata": {},
   "outputs": [],
   "source": [
    "try:\n",
    "  import google.colab\n",
    "  from google.colab import output\n",
    "  output.enable_custom_widget_manager()\n",
    "except:\n",
    "  pass"
   ]
  },
  {
   "cell_type": "markdown",
   "id": "c5c6deb9-87cc-4f04-8576-e01e2452976d",
   "metadata": {},
   "source": [
    "<a target=\"_blank\" href=\"https://colab.research.google.com/github/yWorks/yfiles-jupyter-graphs/blob/main/examples/14_pandas_import.ipynb\"><img src=\"https://colab.research.google.com/assets/colab-badge.svg\" alt=\"Open In Colab\"/></a>"
   ]
  },
  {
   "cell_type": "markdown",
   "id": "dfb0c218-6da5-48d2-8eba-3a0edacde699",
   "metadata": {},
   "source": [
    "## How to import a graph\n",
    "- either import the graph directly when initilizing: ```GraphWidget(graph=your_graph)```\n",
    "- or use the ```w.import_graph(your_graph)``` function, if you already initilized a Widget called ```w```"
   ]
  },
  {
   "cell_type": "markdown",
   "id": "2e31422e-3de0-452c-8147-26780b1b1fab",
   "metadata": {},
   "source": [
    "## Notes about pandas importer\n",
    "- the IDs of nodes correspond to their indices in 'source'\n",
    "- the edges are defined by pairs of 'source' and 'target' indices\n",
    "- if you have a 'label' column in your DataFrame, the nodes in the 'source' column are associated with the labels at the corresponding indices in the 'label' column\n",
    "- the default edge is always directed\n",
    "- any additional DataFrame columns are stored in ```properties``` under the same name"
   ]
  },
  {
   "cell_type": "code",
   "execution_count": null,
   "id": "e810300a-7e22-48d7-a1ac-d1106364aba0",
   "metadata": {},
   "outputs": [],
   "source": [
    "data = {'source': ['0','0','1','2','2','2','3','3','4','5'],\n",
    "       'target': ['3','4','4', '5', '6','7','8','9','6','6'],\n",
    "       'label': ['0','1','2','3','4','5','6','7','8','9'],\n",
    "       'age': [31, 56, 27, 43, 19, 84, 38, 70, 5, 92],\n",
    "        'color': ['red','blue','green','orange','purple','yellow','grey','pink','black','brown']}\n",
    "\n",
    "df = pd.DataFrame(data)\n",
    "w = GraphWidget(graph = df)\n",
    "w.directed = False\n",
    "\n",
    "display(w)\n"
   ]
  },
  {
   "cell_type": "markdown",
   "id": "b13b64ac-25b1-4cf6-8ad6-378f4892a59d",
   "metadata": {},
   "source": [
    "When hovering over a node, you can see the age and color data for each node. You can look into the node data as well.\n",
    "\n",
    "To access the 'properties' data, you can use the data key in squared brackets: ```['properties']['key'] ```\n",
    "\n",
    "Possible node keys in this example are 'label', 'age' and 'color' \n",
    "\n",
    "To display all properties, we remove any additional node data except the properties"
   ]
  },
  {
   "cell_type": "code",
   "execution_count": null,
   "id": "50579e0a-88c0-4bd5-94c6-7d7113c6b0e4",
   "metadata": {},
   "outputs": [],
   "source": [
    "properties = [node['properties'] for node in w.nodes]\n",
    "formattedProperties = ''.join(f\"Node {node['label']}: {node}\\n\" for node in properties)\n",
    "print(formattedProperties)"
   ]
  },
  {
   "cell_type": "markdown",
   "id": "361a0f2f-ff40-4e14-bb5e-cb0c08904b01",
   "metadata": {},
   "source": [
    "### Using column data stored in 'properties'\n",
    "\n",
    "To utilize the age and color data, we set the scale factor of the node as the age and the color as the node color"
   ]
  },
  {
   "cell_type": "code",
   "execution_count": null,
   "id": "31594712-81a6-4811-9cb8-1fc606f967d9",
   "metadata": {},
   "outputs": [],
   "source": [
    "w.node_color_mapping = 'color'\n",
    "w.node_scale_factor_mapping = lambda item: item['properties']['age'] / 35\n",
    "display(w)"
   ]
  }
 ],
 "metadata": {
  "kernelspec": {
   "display_name": "Python 3 (ipykernel)",
   "language": "python",
   "name": "python3"
  },
  "language_info": {
   "codemirror_mode": {
    "name": "ipython",
    "version": 3
   },
   "file_extension": ".py",
   "mimetype": "text/x-python",
   "name": "python",
   "nbconvert_exporter": "python",
   "pygments_lexer": "ipython3",
   "version": "3.11.3"
  }
 },
 "nbformat": 4,
 "nbformat_minor": 5
}
