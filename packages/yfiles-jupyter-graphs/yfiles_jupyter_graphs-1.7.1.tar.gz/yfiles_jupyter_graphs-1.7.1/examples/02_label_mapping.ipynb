{
 "cells": [
  {
   "cell_type": "markdown",
   "id": "2bc80da9-831a-403f-9307-7f08fd20599c",
   "metadata": {},
   "source": [
    "# Element Label Mapping <a target=\"_blank\" href=\"https://colab.research.google.com/github/yWorks/yfiles-jupyter-graphs/blob/main/examples/02_label_mapping.ipynb\"><img src=\"https://colab.research.google.com/assets/colab-badge.svg\" alt=\"Open In Colab\"/></a>"
   ]
  },
  {
   "cell_type": "markdown",
   "id": "dffe6f9e-b5bc-4338-aa02-2ea826c8875d",
   "metadata": {},
   "source": [
    "This notebook covers the basics of customizing node and edge labels.\n",
    "\n",
    "For mapping demonstrations, we'll use the same graph, ```erdos_renyi_graph```, imported from the NetworkX package. \n",
    "\n",
    "For more details on how to import graph data, explore the other example notebooks or refer to the full widget [documentation](https://yworks.github.io/yfiles-jupyter-graphs/).\n",
    "\n",
    "Before utilizing the graph widget, ensure all necessary packages are installed."
   ]
  },
  {
   "cell_type": "code",
   "execution_count": null,
   "id": "3d1e6aef-8aeb-4b37-b7b8-5ae0279ff1f2",
   "metadata": {},
   "outputs": [],
   "source": [
    "%pip install yfiles_jupyter_graphs --quiet\n",
    "from yfiles_jupyter_graphs import GraphWidget\n",
    "%pip install networkx --quiet\n",
    "from typing import Dict\n",
    "from networkx import erdos_renyi_graph, set_node_attributes, set_edge_attributes\n",
    "\n",
    "g = erdos_renyi_graph(10, 0.3, 2)\n",
    "# We will use this additional attribute as a label later on\n",
    "set_node_attributes(g,  {node: {\"NodeName\": f\"Node {node}\"} for node in g.nodes})\n",
    "set_edge_attributes(g,  {edge: {\"EdgeName\": f\"Edge {edge}\"} for edge in g.edges})\n",
    "w = GraphWidget(graph=g)\n"
   ]
  },
  {
   "cell_type": "markdown",
   "id": "bb2a8969-59b4-4fc2-8ac2-e6bef9420a22",
   "metadata": {},
   "source": [
    "You can also open this notebook in Google Colab when Google Colab's custom widget manager is enabled:"
   ]
  },
  {
   "cell_type": "code",
   "execution_count": null,
   "id": "ac38b394-68c0-417d-b054-d5cff09e436f",
   "metadata": {},
   "outputs": [],
   "source": [
    "try:\n",
    "  import google.colab\n",
    "  from google.colab import output\n",
    "  output.enable_custom_widget_manager()\n",
    "except:\n",
    "  pass"
   ]
  },
  {
   "cell_type": "markdown",
   "id": "42c6792a-87fd-4f42-b6c1-7d3b04a8e12c",
   "metadata": {},
   "source": [
    "<a target=\"_blank\" href=\"https://colab.research.google.com/github/yWorks/yfiles-jupyter-graphs/blob/main/examples/02_label_mapping.ipynb\"><img src=\"https://colab.research.google.com/assets/colab-badge.svg\" alt=\"Open In Colab\"/></a>"
   ]
  },
  {
   "cell_type": "markdown",
   "id": "6136a30d-5a9e-41f4-b650-d35ed3bcc146",
   "metadata": {},
   "source": [
    "This is the graph we will be working on: "
   ]
  },
  {
   "cell_type": "code",
   "execution_count": null,
   "id": "4a65a738-fa76-489b-b444-1cef7f00ea1c",
   "metadata": {},
   "outputs": [],
   "source": [
    "display(w)"
   ]
  },
  {
   "cell_type": "markdown",
   "id": "8af7687d-bd70-48e4-85b1-3a1fa55b92a4",
   "metadata": {},
   "source": [
    "## Node Label Mapping\n",
    "### Property key mapping\n",
    "\n",
    "To only reflect the data of a property on the node, you can easily assign this using the respective key. Check out the [mapping overloads notebook](./12_mapping_overloads.ipynb) for a more detailed explanation.\n",
    "\n",
    "This is a shorter alternative to a local lambda function, e.g., `lambda node: node['properties']['NodeName']`."
   ]
  },
  {
   "cell_type": "code",
   "execution_count": null,
   "id": "0057e94d-fc4a-417a-ad94-a81689ec6f16",
   "metadata": {},
   "outputs": [],
   "source": [
    "w.node_label_mapping = 'NodeName'\n",
    "display(w)"
   ]
  },
  {
   "cell_type": "markdown",
   "id": "12bd0dd5-77c8-4aa3-bd0d-46c80f7ec83b",
   "metadata": {},
   "source": [
    "### Function mapping\n",
    "\n",
    "For a more versatile node label computation you can define a mapping function:\n",
    "\n",
    "The node label mapping is a function that is supposed to return a label string for each given node object which is then displayed in the widget.\n",
    "\n",
    "Optionally, the index can be used as the first function parameter.\n",
    "\n",
    "We will use the index of each node to compute our new label which will be the negated index. \\\n",
    "For this, we first define a new mapping function and then set this function as our current label mapping."
   ]
  },
  {
   "cell_type": "code",
   "execution_count": null,
   "id": "70de2c54-0a34-4d1c-9eb4-9a186946eac2",
   "metadata": {},
   "outputs": [],
   "source": [
    "def custom_node_label_mapping(index: int, node: Dict):\n",
    "    \"\"\"let the label be the negated index\"\"\"\n",
    "    return '-' + str(index)"
   ]
  },
  {
   "cell_type": "markdown",
   "id": "d4b098da-f7f3-4d97-8814-74cb7484c714",
   "metadata": {},
   "source": [
    "### Custom node mappings\n",
    "\n",
    "There are get and set methods for each customizable node property.\n",
    "- you can set a new node mapping with ```w.set_node_[binding]_mapping```\n",
    "- you can get the current node mapping with ```w.get_node_[binding]_mapping```\n",
    "- you can delete a custom node mapping with ```w.del_node_[binding]_mapping```\n",
    "\n",
    "You can find more details in the dedicated function documentation, available at ```w.[function_name].__doc__``` or in the [documentation](https://yworks.github.io/yfiles-jupyter-graphs/02_graph_widget/#methods).\n",
    "\n",
    "If no custom mapping is set the default mappings are used."
   ]
  },
  {
   "cell_type": "code",
   "execution_count": null,
   "id": "a4d6f729-9089-4004-a229-7e547b9d2d77",
   "metadata": {},
   "outputs": [],
   "source": [
    "print(w.default_element_label_mapping.__doc__)"
   ]
  },
  {
   "cell_type": "markdown",
   "id": "40028f47-0a6f-4853-9189-47210fa5e2ec",
   "metadata": {},
   "source": [
    "Let's set new negated node labels: "
   ]
  },
  {
   "cell_type": "code",
   "execution_count": null,
   "id": "79200fe1-2020-4682-9fdb-6dd7c853358b",
   "metadata": {},
   "outputs": [],
   "source": [
    "w.set_node_label_mapping(custom_node_label_mapping)\n",
    "w.get_node_label_mapping()"
   ]
  },
  {
   "cell_type": "code",
   "execution_count": null,
   "id": "a379f670-653d-4a25-a380-7dd53369bde9",
   "metadata": {},
   "outputs": [],
   "source": [
    "display(w)"
   ]
  },
  {
   "cell_type": "markdown",
   "id": "12c4eaed-a2ca-415e-8eb6-e8c64891eb4c",
   "metadata": {},
   "source": [
    "If a node label mapping is deleted, the label mapping reverts back to the default mapping."
   ]
  },
  {
   "cell_type": "code",
   "execution_count": null,
   "id": "6c4c2164-f1af-472e-bb93-b2edd48a53ba",
   "metadata": {},
   "outputs": [],
   "source": [
    "w.del_node_label_mapping()\n",
    "w.get_node_label_mapping()"
   ]
  },
  {
   "cell_type": "markdown",
   "id": "2a48e8b8-d8e2-4d3e-9891-ddaa73826f48",
   "metadata": {},
   "source": [
    "## Edge Label Mapping\n",
    "### Property key mapping\n",
    "\n",
    "Similar to node mappings, edges also allow for a short version assigning properties by key:"
   ]
  },
  {
   "cell_type": "code",
   "execution_count": null,
   "id": "d320734c-8a53-4bbe-8468-d0de06423bcd",
   "metadata": {},
   "outputs": [],
   "source": [
    "w2 = GraphWidget(graph=g)\n",
    "w2.edge_label_mapping = 'EdgeName'\n",
    "display(w2)"
   ]
  },
  {
   "cell_type": "markdown",
   "id": "4aeec1ca-34e6-4cb5-9e0a-a361606046fa",
   "metadata": {},
   "source": [
    "### Function mapping\n",
    "\n",
    "Similar to node labels, you can define an edge label mapping function for more control over the visualized label. The edge label mapping is a function that is supposed to return a label string for each given edge object which is then displayed in the widget.\n",
    "\n",
    "We will use a similar mapping function as for the node labels. We negate every edge index and use this as our new edge label. \\\n",
    "For this, we first a define a new mapping function and then set this function as our current edge label mapping. \\\n",
    "In the case of the node label mapping, we used the optional index parameter. Here we only use the edge dictionary."
   ]
  },
  {
   "cell_type": "code",
   "execution_count": null,
   "id": "782a5ab9-7268-42ee-a88f-1f6dfb70e1e4",
   "metadata": {},
   "outputs": [],
   "source": [
    "edges = w2.get_edges()\n",
    "def custom_edge_label_mapping(edge: Dict):\n",
    "    \"\"\"let the label be the negated index\"\"\"\n",
    "    return '-' + str(edges.index(edge))"
   ]
  },
  {
   "cell_type": "markdown",
   "id": "5864b497-c542-4946-a58e-e0b043652005",
   "metadata": {},
   "source": [
    "### Custom edge mappings\n",
    "\n",
    "There are get and set methods for each customizable edge property.\n",
    "- you can set a new edge mapping with ```w.set_edge_[binging]_mapping```\n",
    "- you can get the current edge mapping with ```w.get_edge_[binding]_mapping```\n",
    "- you can delete a custom edge mapping with ```w.del_edge_[binding]_mapping```\n",
    "\n",
    "You can find more details in the dedicated function documentation, available at ```w.[function_name].__doc__```  or in the [documentation](https://yworks.github.io/yfiles-jupyter-graphs/02_graph_widget/#methods).\n",
    "\n",
    "If no custom mapping is set the default mappings are used."
   ]
  },
  {
   "cell_type": "markdown",
   "id": "1fa27ff0-de0e-4e4c-8857-0616dea901be",
   "metadata": {},
   "source": [
    "Let's set the new negated edge labels: "
   ]
  },
  {
   "cell_type": "code",
   "execution_count": null,
   "id": "eca341ce-1276-4d76-b01c-181083365fa2",
   "metadata": {},
   "outputs": [],
   "source": [
    "w2.set_edge_label_mapping(custom_edge_label_mapping)\n",
    "w2.get_edge_label_mapping()"
   ]
  },
  {
   "cell_type": "code",
   "execution_count": null,
   "id": "08ceda9c-14ff-4396-954d-9dfbdbc31389",
   "metadata": {},
   "outputs": [],
   "source": [
    "display(w2)"
   ]
  },
  {
   "cell_type": "markdown",
   "id": "1f25992e-2e98-4a97-8d32-d070aa854ea4",
   "metadata": {},
   "source": [
    "If a edge label mapping is deleted, the label mapping reverts back to the default mapping."
   ]
  },
  {
   "cell_type": "code",
   "execution_count": null,
   "id": "270efae3-3485-4088-a667-569d984108ce",
   "metadata": {},
   "outputs": [],
   "source": [
    "w2.del_edge_label_mapping()\n",
    "w2.get_edge_label_mapping()"
   ]
  }
 ],
 "metadata": {
  "kernelspec": {
   "display_name": "Python 3 (ipykernel)",
   "language": "python",
   "name": "python3"
  },
  "language_info": {
   "codemirror_mode": {
    "name": "ipython",
    "version": 3
   },
   "file_extension": ".py",
   "mimetype": "text/x-python",
   "name": "python",
   "nbconvert_exporter": "python",
   "pygments_lexer": "ipython3",
   "version": "3.12.3"
  }
 },
 "nbformat": 4,
 "nbformat_minor": 5
}
