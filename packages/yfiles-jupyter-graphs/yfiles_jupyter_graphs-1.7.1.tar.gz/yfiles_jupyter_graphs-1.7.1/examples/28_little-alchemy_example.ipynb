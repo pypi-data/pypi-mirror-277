{
 "cells": [
  {
   "cell_type": "markdown",
   "id": "473ff031-02a0-4081-86cc-6317944d79e8",
   "metadata": {},
   "source": [
    "# Example using Little Alchemy 2 <a target=\"_blank\" href=\"https://colab.research.google.com/github/yWorks/yfiles-jupyter-graphs/blob/main/examples/28_little-alchemy_example.ipynb\"><img src=\"https://colab.research.google.com/assets/colab-badge.svg\" alt=\"Open In Colab\"/></a>"
   ]
  },
  {
   "cell_type": "markdown",
   "id": "f144d219-1189-402e-a067-cd643832d7fb",
   "metadata": {},
   "source": [
    "Little Alchemy 2 is a game, where the goal is to guess recipes to create over 600 elements just using the 4 prime elements air, earth, fire and water.\n",
    "\n",
    "\n",
    "In this example, we create a small bill of material (BoM) graph using these recipes\n",
    "\n",
    "Before using the graph widget, install all necessary packages."
   ]
  },
  {
   "cell_type": "code",
   "execution_count": null,
   "id": "0f48d90d-4800-4776-9909-2b346846f24f",
   "metadata": {},
   "outputs": [],
   "source": [
    "%pip install yfiles_jupyter_graphs --quiet\n",
    "from yfiles_jupyter_graphs import GraphWidget"
   ]
  },
  {
   "cell_type": "markdown",
   "id": "122b620f-f292-4131-8a03-4667b5ccfe97",
   "metadata": {},
   "source": [
    "You can also open this notebook in Google Colab when Google Colab's custom widget manager is enabled:"
   ]
  },
  {
   "cell_type": "code",
   "execution_count": null,
   "id": "342cc1c8-6bd3-4d27-ba34-7c1a264209b6",
   "metadata": {
    "tags": []
   },
   "outputs": [],
   "source": [
    "try:\n",
    "  import google.colab\n",
    "  from google.colab import output\n",
    "  output.enable_custom_widget_manager()\n",
    "except:\n",
    "  pass"
   ]
  },
  {
   "cell_type": "markdown",
   "id": "5c84fd6f-46df-45c4-8a97-95a4f8f6eea0",
   "metadata": {
    "tags": []
   },
   "source": [
    "<a target=\"_blank\" href=\"https://colab.research.google.com/github/yWorks/yfiles-jupyter-graphs/blob/main/examples/28_little-alchemy_example.ipynb\"><img src=\"https://colab.research.google.com/assets/colab-badge.svg\" alt=\"Open In Colab\"/></a>"
   ]
  },
  {
   "cell_type": "markdown",
   "id": "98a951aa-1f51-4d00-9151-01cec6f9b6bf",
   "metadata": {},
   "source": [
    "This is the library containing all recipe information:"
   ]
  },
  {
   "cell_type": "code",
   "execution_count": null,
   "id": "6d27665f-9313-42bf-b1f3-941158830b2e",
   "metadata": {},
   "outputs": [],
   "source": [
    "import urllib.request, json \n",
    "with urllib.request.urlopen(\"https://unpkg.com/little-alchemy-2@0.0.1/dist/alchemy.json\") as url:\n",
    "    data = json.load(url)"
   ]
  },
  {
   "cell_type": "markdown",
   "id": "5d73654c-2b9c-4885-af26-36b805e84176",
   "metadata": {},
   "source": [
    "We parse the resulting data to create our nodes and edges.\n",
    "In the given data, each element has a name and parent information. \n",
    "\n",
    "We only use a small sample of elements, but you can adjust the constant ```num_elements``` to see more recipes."
   ]
  },
  {
   "cell_type": "code",
   "execution_count": null,
   "id": "bac9a02a-5386-4dd2-8322-9afb931f56ef",
   "metadata": {},
   "outputs": [],
   "source": [
    "import itertools\n",
    "\n",
    "# we'll use a subset of the graph here\n",
    "num_elements = 50\n",
    "dataset = dict(itertools.islice(data.items(), num_elements))\n",
    "\n",
    "nodes = []\n",
    "edges = []\n",
    "\n",
    "for key, item in dataset.items():\n",
    "    nodes.append({\"id\": key, 'properties': {'label': item['n']}})\n",
    "    # for simplicity, we just examine the parents of the items\n",
    "    if 'p' in item:\n",
    "        # each element has exactly two (or none) source elements in Little Alchemy 2\n",
    "        for source1, source2 in item['p']:\n",
    "            if source1 in dataset and source2 in dataset:\n",
    "                if not source1 == source2:\n",
    "                    edges.append({\"start\": source1, \"end\": key, \"properties\": {'label': ('+ ' + data[source2]['n'])}})\n",
    "                    edges.append({\"start\": source2, \"end\": key, \"properties\": {'label': ('+ ' + data[source1]['n'])}})\n",
    "                else:\n",
    "                    edges.append({\"start\": source1, \"end\": key, \"properties\": {'label': ('+ ' + data[source2]['n'])}})"
   ]
  },
  {
   "cell_type": "code",
   "execution_count": null,
   "id": "fbfd87ea-7e6d-4263-8e4a-7db33b254dd5",
   "metadata": {},
   "outputs": [],
   "source": [
    "w = GraphWidget()\n",
    "w.nodes = nodes\n",
    "w.edges = edges\n",
    "w.directed = True\n",
    "display(w)"
   ]
  },
  {
   "cell_type": "markdown",
   "id": "e8fadf33-ffa4-42a8-b21c-3a92bf29cce0",
   "metadata": {},
   "source": [
    "To make the graph easier to read, we add the game images and make the prime elements bigger as well as use the hierarchic layout.\n",
    "\n",
    "You can check out the other examples like [size mappings](./05_size_mapping.ipynb) and [styles mappings](./08_styles_mapping.ipynb) to learn more about graph customization."
   ]
  },
  {
   "cell_type": "code",
   "execution_count": null,
   "id": "63c59e05-3bda-43de-8b3d-a6c576f0685b",
   "metadata": {},
   "outputs": [],
   "source": [
    "def custom_images(index, node):\n",
    "    return {'image': \"https://littlealchemy2.com/static/icons/\" + node['id'] + \".svg\"}\n",
    "\n",
    "w.set_node_styles_mapping(custom_images)\n",
    "\n",
    "def custom_size(index, node):\n",
    "    if 'prime' in data[str(index+1)]:\n",
    "        return 80,80\n",
    "    return 55,55\n",
    "\n",
    "w.set_node_size_mapping(custom_size)\n",
    "w.hierarchic_layout()\n",
    "w.edge_color_mapping = lambda : 'grey'\n",
    "w.set_overview(enabled=False)\n",
    "w.set_sidebar(enabled=False)\n",
    "display(w)"
   ]
  },
  {
   "cell_type": "markdown",
   "id": "fdfd148b-9ab1-4ac8-96d6-24f9dbd00ceb",
   "metadata": {},
   "source": [
    "You can use the Neighborhood Tab in the sidebar to explore single elements.\n",
    "\n",
    "However to focus on just one element you're interested in, you can use the following code.\n",
    "\n",
    "Change the constant ```element_name``` to only see the defined element with its children and parent nodes"
   ]
  },
  {
   "cell_type": "code",
   "execution_count": null,
   "id": "d6606494-1829-4177-b19b-a03246974033",
   "metadata": {},
   "outputs": [],
   "source": [
    "# change this to focus on a different element\n",
    "element_name = 'cat'\n",
    "\n",
    "nodes2 = []\n",
    "edges2 = []\n",
    "parentSet = set()\n",
    "element_id = None\n",
    "\n",
    "\n",
    "#This function generates edge labels                    \n",
    "def getCombinations(id, target_id):\n",
    "    result = []\n",
    "    item = data[target_id]\n",
    "    for source1, source2 in item['p']:\n",
    "        if source1 == id:\n",
    "            result.append(data[source2]['n'])\n",
    "        if source2 == id:\n",
    "            result.append(data[source1]['n'])\n",
    "    return result\n",
    "\n",
    "for key, item in data.items():\n",
    "    if item['n'] == element_name:\n",
    "        nodes2.append({\"id\": key, 'properties': {'label': item['n']}})\n",
    "        element_id = key\n",
    "        if 'p' in item:\n",
    "            for source1, source2 in item['p']:\n",
    "                parentSet.add(source1)\n",
    "                parentSet.add(source2)\n",
    "        if 'c' in item:\n",
    "            for child in item['c']:\n",
    "                if child not in parentSet:\n",
    "                    nodes2.append({\"id\":child, 'properties': {'label': data[child]['n']}})\n",
    "                    edges2.append({\"start\": key, \"end\": child, \"properties\": {'label': '+ ' + str(getCombinations(element_id, child))[1:-1].replace(\"\\'\", \"\")}})\n",
    "                else:\n",
    "                    edges2.append({\"start\": key, \"end\": child, \"properties\": {'label': '+ ' + str(getCombinations(element_id, child))[1:-1].replace(\"\\'\", \"\")}})\n",
    "\n",
    "\n",
    "for source in parentSet:\n",
    "    if not source == element_id:\n",
    "        nodes2.append({\"id\": source, 'properties': {'label': data[source]['n']}})\n",
    "    edges2.append({\"start\": source, \"end\": element_id, \"properties\": {'label': '+ ' + str(getCombinations(source, element_id))[1:-1].replace(\"\\'\", \"\")}})\n",
    "                "
   ]
  },
  {
   "cell_type": "markdown",
   "id": "0f3affbf-745b-490e-832e-67245d8a43ba",
   "metadata": {},
   "source": [
    "We use some of the mappings above:\n",
    "\n",
    "- Game image node styling\n",
    "- directed, grey edges\n",
    "- hierarchic layout\n"
   ]
  },
  {
   "cell_type": "code",
   "execution_count": null,
   "id": "c02fb72d-a09e-449e-9325-63b8b3302db8",
   "metadata": {},
   "outputs": [],
   "source": [
    "w2 = GraphWidget()\n",
    "w2.nodes = nodes2\n",
    "w2.edges = edges2\n",
    "w2.set_node_styles_mapping(custom_images)\n",
    "w2.directed = True\n",
    "w2.hierarchic_layout()\n",
    "w2.edge_color_mapping = lambda : 'grey'\n",
    "display(w2)"
   ]
  }
 ],
 "metadata": {
  "kernelspec": {
   "display_name": "Python 3 (ipykernel)",
   "language": "python",
   "name": "python3"
  },
  "language_info": {
   "codemirror_mode": {
    "name": "ipython",
    "version": 3
   },
   "file_extension": ".py",
   "mimetype": "text/x-python",
   "name": "python",
   "nbconvert_exporter": "python",
   "pygments_lexer": "ipython3",
   "version": "3.11.3"
  }
 },
 "nbformat": 4,
 "nbformat_minor": 5
}
