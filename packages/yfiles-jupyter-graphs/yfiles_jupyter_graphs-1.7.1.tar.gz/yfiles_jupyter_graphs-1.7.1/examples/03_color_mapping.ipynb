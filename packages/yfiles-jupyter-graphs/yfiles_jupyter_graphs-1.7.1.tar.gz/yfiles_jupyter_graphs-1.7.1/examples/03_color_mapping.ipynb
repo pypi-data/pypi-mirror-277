{
 "cells": [
  {
   "cell_type": "markdown",
   "id": "e9aec846-1e8b-4930-9e05-6e12621ad1ee",
   "metadata": {},
   "source": [
    "# Element Color Mapping <a target=\"_blank\" href=\"https://colab.research.google.com/github/yWorks/yfiles-jupyter-graphs/blob/main/examples/03_color_mapping.ipynb\"><img src=\"https://colab.research.google.com/assets/colab-badge.svg\" alt=\"Open In Colab\"/></a>\n",
    "\n",
    "This notebook covers the basics of customizing node and edge colors. \n",
    "\n",
    "For the purpose of mapping demonstrations, the same graph, ```erdos_renyi_graph```, will be used. For this, we will import the graph from the NetworkX package. \\\n",
    "For more details on how to import graph data, explore the other example notebooks or refer to the full widget [documentation](https://yworks.github.io/yfiles-jupyter-graphs/).\n",
    "\n",
    "Before using the graph widget, install all necessary packages."
   ]
  },
  {
   "cell_type": "code",
   "execution_count": null,
   "id": "d56c690f-ea18-4f92-a6e2-63593f06e3b3",
   "metadata": {},
   "outputs": [],
   "source": [
    "%pip install yfiles_jupyter_graphs --quiet\n",
    "from yfiles_jupyter_graphs import GraphWidget\n",
    "%pip install networkx --quiet\n",
    "from typing import Dict\n",
    "from networkx import erdos_renyi_graph\n",
    "\n",
    "g = erdos_renyi_graph(10, 0.3, 2)\n",
    "w = GraphWidget(graph=g)"
   ]
  },
  {
   "cell_type": "markdown",
   "id": "4fabf87e-26e0-4f5f-b4ba-0d2c377ebc1a",
   "metadata": {},
   "source": [
    "You can also open this notebook in Google Colab when Google Colab's custom widget manager is enabled:"
   ]
  },
  {
   "cell_type": "code",
   "execution_count": null,
   "id": "28440f01-73ee-467a-b99d-7293cc8015d6",
   "metadata": {},
   "outputs": [],
   "source": [
    "try:\n",
    "  import google.colab\n",
    "  from google.colab import output\n",
    "  output.enable_custom_widget_manager()\n",
    "except:\n",
    "  pass"
   ]
  },
  {
   "cell_type": "markdown",
   "id": "d42543fc-6da2-4c88-9a1f-bcdcf6d9d129",
   "metadata": {},
   "source": [
    "<a target=\"_blank\" href=\"https://colab.research.google.com/github/yWorks/yfiles-jupyter-graphs/blob/main/examples/03_color_mapping.ipynb\"><img src=\"https://colab.research.google.com/assets/colab-badge.svg\" alt=\"Open In Colab\"/></a>"
   ]
  },
  {
   "cell_type": "markdown",
   "id": "c59d77a7-987c-4a6f-895e-e41817d3cffb",
   "metadata": {},
   "source": [
    "This is the graph we will be working on: "
   ]
  },
  {
   "cell_type": "code",
   "execution_count": null,
   "id": "3c234cb0-fa25-40ce-85b3-b81b54d6e522",
   "metadata": {},
   "outputs": [],
   "source": [
    "display(w)"
   ]
  },
  {
   "cell_type": "markdown",
   "id": "a89c07b2-1314-4f5b-a584-c9910b9a51c9",
   "metadata": {},
   "source": [
    "## Node Color Mapping\n",
    "\n",
    "The node color mapping is a function that is supposed to return a CSS color string for each given node object which is then used as node color in the widget.\n",
    "\n",
    "Optionally, the index can be used as the first function parameter.\n",
    "\n",
    "We will color every node which has an odd label blue and nodes with an even label orange. \\\n",
    "For this we first define a new mapping function and then set this function as our current color mapping."
   ]
  },
  {
   "cell_type": "code",
   "execution_count": null,
   "id": "e3bb8793-db19-470a-9ce2-8f6823dac3a0",
   "metadata": {},
   "outputs": [],
   "source": [
    "def custom_node_color_mapping(node: Dict):\n",
    "    \"\"\"let the color be orange or blue if the index is even or odd respectively\"\"\"\n",
    "    return (\"#ff8800\" if int(node['properties']['label']) % 2 == 0 else \"#0096C7\")"
   ]
  },
  {
   "cell_type": "markdown",
   "id": "6029f59d-e25d-4e9f-b6e4-5f66e519a6b2",
   "metadata": {},
   "source": [
    "### Custom node mappings\n",
    "\n",
    "There are get and set methods for each customizable node property.\n",
    "- you can set a new node mapping with ```w.set_node_[binding]_mapping```\n",
    "- you can get the current node mapping with ```w.get_node_[binding]_mapping```\n",
    "- you can delete a custom node mapping with ```w.del_node_[binding]_mapping```\n",
    "\n",
    "You can find more details in the dedicated function documentation, available at ```w.[function_name].__doc__``` or in the [documentation](https://yworks.github.io/yfiles-jupyter-graphs/02_graph_widget/#methods).\n",
    "\n",
    "If no custom mapping is set the default mappings are used."
   ]
  },
  {
   "cell_type": "code",
   "execution_count": null,
   "id": "f86ee9b9-f7da-41e7-9a1e-51269c787ef3",
   "metadata": {},
   "outputs": [],
   "source": [
    "print(w.default_node_color_mapping.__doc__)"
   ]
  },
  {
   "cell_type": "code",
   "execution_count": null,
   "id": "d9b6afce-9faa-466c-b6f2-b7fc5d7407b6",
   "metadata": {},
   "outputs": [],
   "source": [
    "w.get_node_color_mapping()"
   ]
  },
  {
   "cell_type": "markdown",
   "id": "93d66078-f9ba-4f7f-ab7a-67388456de2c",
   "metadata": {},
   "source": [
    "Let's use the new node color mapping: "
   ]
  },
  {
   "cell_type": "code",
   "execution_count": null,
   "id": "673c731a-9d65-4811-b148-327a40b23856",
   "metadata": {},
   "outputs": [],
   "source": [
    "w.set_node_color_mapping(custom_node_color_mapping)\n",
    "w.get_node_color_mapping()"
   ]
  },
  {
   "cell_type": "code",
   "execution_count": null,
   "id": "18520a26-0421-4291-aa84-4c92666b2104",
   "metadata": {},
   "outputs": [],
   "source": [
    "display(w)"
   ]
  },
  {
   "cell_type": "markdown",
   "id": "2bc8c19a-9a18-4a31-b87c-9b3b3657def0",
   "metadata": {},
   "source": [
    "If a node color mapping is deleted, the color mapping reverts back to the default mapping."
   ]
  },
  {
   "cell_type": "code",
   "execution_count": null,
   "id": "30962f59-7a19-4d22-b4f2-4fcc3f2e83da",
   "metadata": {},
   "outputs": [],
   "source": [
    "w.del_node_color_mapping()\n",
    "w.get_node_color_mapping()"
   ]
  },
  {
   "cell_type": "markdown",
   "id": "d1991d12-1032-4761-9ad8-af5e619e84e6",
   "metadata": {},
   "source": [
    "## Edge Color Mapping\n",
    "\n",
    "The edge color mapping is a function that is supposed to return a CSS color string for each given edge object which is then used as node color in the widget.\n",
    "\n",
    "If the index is used, it can be optionally given as the first function parameter. \n",
    "Edge mappings generally work the same as node mappings.\n",
    "\n",
    "We will color every edge which starts from an evenly indexed node purple. \\\n",
    "For this we first define a new mapping function and then set this function as our current color mapping."
   ]
  },
  {
   "cell_type": "code",
   "execution_count": null,
   "id": "bd6681e6-6998-45b0-b6b2-859908c34a4c",
   "metadata": {},
   "outputs": [],
   "source": [
    "w2 = GraphWidget(graph=g)\n",
    "\n",
    "def custom_edge_color_mapping(edge: Dict):\n",
    "    \"\"\"let the edge be purple if the starting node has an even index\"\"\"\n",
    "    return (\"#D6B4FC\" if int(edge['start']) % 2 == 0 else \"#15AFAC\")"
   ]
  },
  {
   "cell_type": "markdown",
   "id": "d23bb323-bdf4-4365-a7c9-f3736a1526c3",
   "metadata": {},
   "source": [
    "### Custom edge mappings\n",
    "\n",
    "There are get and set methods for each customizable edge property.\n",
    "- you can set a new edge mapping with ```w.set_edge_[binding]_mapping```\n",
    "- you can get the current edge mapping with ```w.get_edge_[binding]_mapping```\n",
    "- you can delete a custom edge mapping with ```w.del_edge_[binding]_mapping```\n",
    "\n",
    "You can find more details in the dedicated function documentation, available at ```w.[function_name].__doc__``` or in the [documentation](https://yworks.github.io/yfiles-jupyter-graphs/02_graph_widget/#methods).\n",
    "\n",
    "If no custom mapping is set the default mappings are used."
   ]
  },
  {
   "cell_type": "code",
   "execution_count": null,
   "id": "1ca048f0-f794-4778-b691-c2794544deaf",
   "metadata": {},
   "outputs": [],
   "source": [
    "print(w2.default_edge_color_mapping.__doc__)"
   ]
  },
  {
   "cell_type": "code",
   "execution_count": null,
   "id": "6b18d49e-9873-476d-aaf3-311c3f9c80a6",
   "metadata": {},
   "outputs": [],
   "source": [
    "w2.get_edge_color_mapping()"
   ]
  },
  {
   "cell_type": "markdown",
   "id": "b8538547-4710-4497-976d-d61a1b2f85e8",
   "metadata": {},
   "source": [
    "Let's use the new edge color mapping: "
   ]
  },
  {
   "cell_type": "code",
   "execution_count": null,
   "id": "4b574f9d-aca9-4623-9bcc-18515121e7fb",
   "metadata": {},
   "outputs": [],
   "source": [
    "w2 = GraphWidget(graph=g)\n",
    "w2.set_edge_color_mapping(custom_edge_color_mapping)\n",
    "w2.get_edge_color_mapping()"
   ]
  },
  {
   "cell_type": "code",
   "execution_count": null,
   "id": "1542fcdf-8974-46ab-8720-3bdda965112c",
   "metadata": {},
   "outputs": [],
   "source": [
    "display(w2)"
   ]
  },
  {
   "cell_type": "markdown",
   "id": "200d7806-000e-4c3f-8636-10719302a1e4",
   "metadata": {},
   "source": [
    "If a edge color mapping is deleted, the color mapping reverts back to the default mapping."
   ]
  },
  {
   "cell_type": "code",
   "execution_count": null,
   "id": "25f29cd1-1b09-40ab-a154-4ff0b461ab25",
   "metadata": {},
   "outputs": [],
   "source": [
    "w2.del_edge_color_mapping()\n",
    "w2.get_edge_color_mapping()"
   ]
  }
 ],
 "metadata": {
  "kernelspec": {
   "display_name": "Python 3 (ipykernel)",
   "language": "python",
   "name": "python3"
  },
  "language_info": {
   "codemirror_mode": {
    "name": "ipython",
    "version": 3
   },
   "file_extension": ".py",
   "mimetype": "text/x-python",
   "name": "python",
   "nbconvert_exporter": "python",
   "pygments_lexer": "ipython3",
   "version": "3.11.3"
  }
 },
 "nbformat": 4,
 "nbformat_minor": 5
}
