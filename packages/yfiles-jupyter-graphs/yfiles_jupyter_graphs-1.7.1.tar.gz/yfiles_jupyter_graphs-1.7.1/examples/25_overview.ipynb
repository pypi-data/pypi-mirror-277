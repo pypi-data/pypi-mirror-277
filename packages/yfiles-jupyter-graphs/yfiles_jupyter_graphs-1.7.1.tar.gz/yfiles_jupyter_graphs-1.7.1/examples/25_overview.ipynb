{
 "cells": [
  {
   "cell_type": "markdown",
   "id": "74201b09-c615-4434-bb14-577287d42120",
   "metadata": {},
   "source": [
    "# Configure Overview <a target=\"_blank\" href=\"https://colab.research.google.com/github/yWorks/yfiles-jupyter-graphs/blob/main/examples/25_overview.ipynb\"><img src=\"https://colab.research.google.com/assets/colab-badge.svg\" alt=\"Open In Colab\"/></a>"
   ]
  },
  {
   "cell_type": "markdown",
   "id": "0750295b-b694-48eb-9457-d865b79d7f21",
   "metadata": {},
   "source": [
    "Before using the graph widget, install all necessary packages."
   ]
  },
  {
   "cell_type": "code",
   "execution_count": null,
   "id": "2fa129dc-da82-474e-95be-456b12ac8f6a",
   "metadata": {},
   "outputs": [],
   "source": [
    "%pip install yfiles_jupyter_graphs --quiet\n",
    "%pip install networkx --quiet\n",
    "from ipywidgets import Layout\n",
    "from networkx import connected_caveman_graph\n",
    "from yfiles_jupyter_graphs import GraphWidget"
   ]
  },
  {
   "cell_type": "markdown",
   "id": "b5732966-2173-4b46-bc38-9ffdd17963ab",
   "metadata": {},
   "source": [
    "You can also open this notebook in Google Colab when Google Colab's custom widget manager is enabled:"
   ]
  },
  {
   "cell_type": "code",
   "execution_count": null,
   "id": "d5c7d51c-dc56-49af-8c4c-a580366e3412",
   "metadata": {},
   "outputs": [],
   "source": [
    "try:\n",
    "  import google.colab\n",
    "  from google.colab import output\n",
    "  output.enable_custom_widget_manager()\n",
    "except:\n",
    "  pass"
   ]
  },
  {
   "cell_type": "markdown",
   "id": "cc908e3b-cb79-4a5a-959d-476441f2bda4",
   "metadata": {},
   "source": [
    "<a target=\"_blank\" href=\"https://colab.research.google.com/github/yWorks/yfiles-jupyter-graphs/blob/main/examples/25_overview.ipynb\"><img src=\"https://colab.research.google.com/assets/colab-badge.svg\" alt=\"Open In Colab\"/></a>"
   ]
  },
  {
   "cell_type": "markdown",
   "id": "9ae2ca63-7a08-4cdd-80c8-489099e577b8",
   "metadata": {},
   "source": [
    "## Default Overview Configuration\n",
    "\n",
    "The Overview starts enabled. When fitting the diagram through the toolbar, the overview matches the visible graph exactly."
   ]
  },
  {
   "cell_type": "code",
   "execution_count": null,
   "id": "7f761434-c07f-4f16-9011-c19d847bc97b",
   "metadata": {},
   "outputs": [],
   "source": [
    "def get_widget(widget_layout=None):\n",
    "    w = GraphWidget(widget_layout=widget_layout)\n",
    "    g = connected_caveman_graph(3, 4)\n",
    "    w.import_graph(g)\n",
    "    return w\n",
    "\n",
    "w = get_widget()\n",
    "display(w)"
   ]
  },
  {
   "cell_type": "markdown",
   "id": "067b4d7b-db94-4a0b-aa17-81bba9d0fcb9",
   "metadata": {},
   "source": [
    "Let's hide the Overview "
   ]
  },
  {
   "cell_type": "code",
   "execution_count": null,
   "id": "bfdaf5c0-2aa2-43da-8a8a-36458e4c2d9c",
   "metadata": {},
   "outputs": [],
   "source": [
    "w2 = get_widget()\n",
    "w2.set_overview(enabled=False)\n",
    "display(w2)"
   ]
  }
 ],
 "metadata": {
  "kernelspec": {
   "display_name": "Python 3 (ipykernel)",
   "language": "python",
   "name": "python3"
  },
  "language_info": {
   "codemirror_mode": {
    "name": "ipython",
    "version": 3
   },
   "file_extension": ".py",
   "mimetype": "text/x-python",
   "name": "python",
   "nbconvert_exporter": "python",
   "pygments_lexer": "ipython3",
   "version": "3.11.3"
  }
 },
 "nbformat": 4,
 "nbformat_minor": 5
}
