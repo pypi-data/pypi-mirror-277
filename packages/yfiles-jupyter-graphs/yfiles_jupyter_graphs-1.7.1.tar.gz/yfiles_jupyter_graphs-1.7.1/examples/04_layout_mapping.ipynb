{
 "cells": [
  {
   "cell_type": "markdown",
   "id": "d1bf7f01-9c4d-4101-bedf-2092ceaedd0f",
   "metadata": {},
   "source": [
    "# Node Layout Mapping <a target=\"_blank\" href=\"https://colab.research.google.com/github/yWorks/yfiles-jupyter-graphs/blob/main/examples/04_layout_mapping.ipynb\"><img src=\"https://colab.research.google.com/assets/colab-badge.svg\" alt=\"Open In Colab\"/></a>"
   ]
  },
  {
   "cell_type": "markdown",
   "id": "c3a6b6ae-2a9d-4a0b-b4c8-c6c98a62a70d",
   "metadata": {},
   "source": [
    "This notebook covers the basics of customizing node layouts.\n",
    "\n",
    "A node layout is consists of 4 values:\n",
    "- x-position\n",
    "- y-position\n",
    "- width\n",
    "- height.\n",
    "\n",
    "Edges do not have a layout property.\n",
    "\n",
    "For the purpose of mapping demonstrations, the same graph, ```erdos_renyi_graph```, will be used. For this, we will import the graph from the networkx database. \\\n",
    "For more details on how to import graph data, explore the other example notebooks or refer to the full widget [documentation](https://yworks.github.io/yfiles-jupyter-graphs/).\n",
    "\n",
    "Before using the graph widget, install all necessary packages."
   ]
  },
  {
   "cell_type": "code",
   "execution_count": null,
   "id": "94cdaddf-2f9c-4848-85bb-f51b1bf76bb5",
   "metadata": {},
   "outputs": [],
   "source": [
    "%pip install yfiles_jupyter_graphs --quiet\n",
    "from yfiles_jupyter_graphs import GraphWidget\n",
    "%pip install networkx --quiet\n",
    "from typing import Dict\n",
    "from networkx import erdos_renyi_graph\n",
    "\n",
    "g = erdos_renyi_graph(10, 0.3, 2)\n",
    "w = GraphWidget(graph=g)"
   ]
  },
  {
   "cell_type": "markdown",
   "id": "2a1af9bc-a9fb-48ae-b158-dfb7a2c6c328",
   "metadata": {},
   "source": [
    "You can also open this notebook in Google Colab when Google Colab's custom widget manager is enabled:"
   ]
  },
  {
   "cell_type": "code",
   "execution_count": null,
   "id": "d3d2e9e0-9190-4b18-8e17-9a4bdd3458fc",
   "metadata": {},
   "outputs": [],
   "source": [
    "try:\n",
    "  import google.colab\n",
    "  from google.colab import output\n",
    "  output.enable_custom_widget_manager()\n",
    "except:\n",
    "  pass"
   ]
  },
  {
   "cell_type": "markdown",
   "id": "d4560226-e2e5-4595-93e6-4ecb081ddac1",
   "metadata": {},
   "source": [
    "<a target=\"_blank\" href=\"https://colab.research.google.com/github/yWorks/yfiles-jupyter-graphs/blob/main/examples/04_layout_mapping.ipynb\"><img src=\"https://colab.research.google.com/assets/colab-badge.svg\" alt=\"Open In Colab\"/></a>"
   ]
  },
  {
   "cell_type": "markdown",
   "id": "f0e7cd9c-eeff-4245-b028-2057675f19a4",
   "metadata": {},
   "source": [
    "This is the graph we will be working on: "
   ]
  },
  {
   "cell_type": "code",
   "execution_count": null,
   "id": "1c67daeb-332b-4b55-9d32-afeeb04d9b1c",
   "metadata": {},
   "outputs": [],
   "source": [
    "display(w)"
   ]
  },
  {
   "cell_type": "markdown",
   "id": "c4450211-c989-4e0b-bdb9-05e22ad4f837",
   "metadata": {},
   "source": [
    "## Mapping Function\n",
    "\n",
    "The node layout mapping is a function that is supposed to return a 4-tuple of numbers `(x, y, width, height)` for each given node object which is then used in the widget.\n",
    "\n",
    "Optionally, the index can be used as the first function parameter.\n",
    "\n",
    "If no size, position or layout mapping is set, the default position (0, 0) and default sizes are used (55.0, 55.0). Note that the given position is also adjusted by an automatic layout algorithm which runs per default in the widget. As shown later in this example, you need to either disable the automtatic layout or only use an edge-router which does not change the node positions in order to see the specified positions from the layout mapping.\n",
    "\n",
    "Let's order the nodes from smallest to largest index, by changing their positions. \\\n",
    "Additionally change the shape of the nodes to an ellipse by making the height bigger than the width:"
   ]
  },
  {
   "cell_type": "code",
   "execution_count": null,
   "id": "1c28cd03-5237-4aee-99eb-a76b33c29d2a",
   "metadata": {},
   "outputs": [],
   "source": [
    "nodes = w.nodes\n",
    "def custom_node_layout_mapping(node: Dict):\n",
    "    index = nodes.index(node)\n",
    "    return index*100, 0, 60, 80"
   ]
  },
  {
   "cell_type": "markdown",
   "id": "e5225ab9-e3b7-4c3d-9073-cea92a90f228",
   "metadata": {},
   "source": [
    "### Custom node mappings\n",
    "\n",
    "There are get and set methods for each customizable node property.\n",
    "- you can set a new node mapping with ```w.set_node_[binding]_mapping```\n",
    "- you can get the current node mapping with ```w.get_node_[binding]_mapping```\n",
    "- you can delete a custom node mapping with ```w.del_node_[binding]_mapping```\n",
    "\n",
    "You can find more details in the dedicated function documentation, available at ```w.[function_name].__doc__``` or in the [documentation](https://yworks.github.io/yfiles-jupyter-graphs/02_graph_widget/#methods).\n",
    "\n",
    "If no size, position or layout mapping is set, the default position and default sizes are used."
   ]
  },
  {
   "cell_type": "code",
   "execution_count": null,
   "id": "7a1dab5a-a36d-440b-96a0-1dfffb67f071",
   "metadata": {},
   "outputs": [],
   "source": [
    "print(w.node_layout_mapping.__doc__)"
   ]
  },
  {
   "cell_type": "code",
   "execution_count": null,
   "id": "b59b54b5-bf11-4b7f-82c4-23c6bfd3e835",
   "metadata": {},
   "outputs": [],
   "source": [
    "w.get_node_layout_mapping()"
   ]
  },
  {
   "cell_type": "markdown",
   "id": "7269741e-5d5c-4748-82c7-d1b91c124b51",
   "metadata": {},
   "source": [
    "Let's use our new node layouts:"
   ]
  },
  {
   "cell_type": "code",
   "execution_count": null,
   "id": "bbf09bdd-2996-41ad-92d9-cb4df2911e0f",
   "metadata": {},
   "outputs": [],
   "source": [
    "w.set_node_layout_mapping(custom_node_layout_mapping)\n",
    "w.get_node_layout_mapping()"
   ]
  },
  {
   "cell_type": "markdown",
   "id": "a874ea2d-e7ac-4f7c-8c91-c1e9111467c0",
   "metadata": {},
   "source": [
    "To actually see the custom positioning, use a layout algorithm that does not arrange graph items, e.g. an edge router layout. \\\n",
    "If the layout is changed from the toolbar to a layout changing node positions, the original positions cannot be retrieved by changing the layout again. "
   ]
  },
  {
   "cell_type": "code",
   "execution_count": null,
   "id": "e16ff7b0-486e-49e7-89a9-d436468d30e7",
   "metadata": {},
   "outputs": [],
   "source": [
    "w.orthogonal_edge_router()\n",
    "display(w)"
   ]
  },
  {
   "cell_type": "markdown",
   "id": "a4a26bb8-4d3b-49bf-b615-98ff56b3a1a8",
   "metadata": {},
   "source": [
    "The layout property is not part of the node keys. It overwrites any size or position mapping. \\\n",
    "You can find more about the position size mappings in the next example notebooks [05_size_mapping.ipynb](./05_size_mapping.ipynb) and [06_position_mapping.ipynb](./06_position_mapping.ipynb)."
   ]
  },
  {
   "cell_type": "code",
   "execution_count": null,
   "id": "a3ab0b29-1b4b-4a4d-ac16-cc7a5ac88894",
   "metadata": {},
   "outputs": [],
   "source": [
    "w.nodes"
   ]
  },
  {
   "cell_type": "markdown",
   "id": "cf8ed865-7595-4b50-98fd-e0156f59f058",
   "metadata": {},
   "source": [
    "If a node layout mapping is deleted, the layout mapping reverts back to the default mapping.\n",
    "\n",
    "The default layout mapping is ```None```, hence the position and size mappings are used."
   ]
  },
  {
   "cell_type": "code",
   "execution_count": null,
   "id": "1f81aa8b-29a8-4c81-a1af-b550b3df6170",
   "metadata": {},
   "outputs": [],
   "source": [
    "w.del_node_layout_mapping()\n",
    "w.get_node_layout_mapping()"
   ]
  }
 ],
 "metadata": {
  "kernelspec": {
   "display_name": "Python 3 (ipykernel)",
   "language": "python",
   "name": "python3"
  },
  "language_info": {
   "codemirror_mode": {
    "name": "ipython",
    "version": 3
   },
   "file_extension": ".py",
   "mimetype": "text/x-python",
   "name": "python",
   "nbconvert_exporter": "python",
   "pygments_lexer": "ipython3",
   "version": "3.11.3"
  }
 },
 "nbformat": 4,
 "nbformat_minor": 5
}
