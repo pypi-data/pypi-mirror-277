{
 "cells": [
  {
   "cell_type": "markdown",
   "id": "969f40cf-3ea9-4e67-94eb-0b4c4b321544",
   "metadata": {},
   "source": [
    "# Configure Sidebar <a target=\"_blank\" href=\"https://colab.research.google.com/github/yWorks/yfiles-jupyter-graphs/blob/main/examples/23_sidebar.ipynb\"><img src=\"https://colab.research.google.com/assets/colab-badge.svg\" alt=\"Open In Colab\"/></a>"
   ]
  },
  {
   "cell_type": "markdown",
   "id": "9d18951c-0e4f-49eb-bce5-be6c57f59196",
   "metadata": {},
   "source": [
    "Before using the graph widget, install all necessary packages."
   ]
  },
  {
   "cell_type": "code",
   "execution_count": null,
   "id": "47aaa060-e80e-4fd7-ac35-f1bc10243eb8",
   "metadata": {},
   "outputs": [],
   "source": [
    "%pip install yfiles_jupyter_graphs --quiet\n",
    "%pip install networkx --quiet\n",
    "from networkx import florentine_families_graph\n",
    "from yfiles_jupyter_graphs import GraphWidget"
   ]
  },
  {
   "cell_type": "markdown",
   "id": "59bd3bb4-24e6-4f3e-81ab-38d197894e6f",
   "metadata": {},
   "source": [
    "You can also open this notebook in Google Colab when Google Colab's custom widget manager is enabled:"
   ]
  },
  {
   "cell_type": "code",
   "execution_count": null,
   "id": "329e3d8f-c816-48ff-8c3f-913fb5355735",
   "metadata": {},
   "outputs": [],
   "source": [
    "try:\n",
    "  import google.colab\n",
    "  from google.colab import output\n",
    "  output.enable_custom_widget_manager()\n",
    "except:\n",
    "  pass"
   ]
  },
  {
   "cell_type": "markdown",
   "id": "e7b8471c-e7e7-4b11-8cbd-378414de7bf4",
   "metadata": {},
   "source": [
    "<a target=\"_blank\" href=\"https://colab.research.google.com/github/yWorks/yfiles-jupyter-graphs/blob/main/examples/23_sidebar.ipynb\"><img src=\"https://colab.research.google.com/assets/colab-badge.svg\" alt=\"Open In Colab\"/></a>"
   ]
  },
  {
   "cell_type": "markdown",
   "id": "b6aabea3-0047-44cf-b7f0-bf22269e917b",
   "metadata": {},
   "source": [
    "## Default sidebar configuration\n",
    "\n",
    "#### The sidebar is enabled/visible and starts with the 'About' panel:"
   ]
  },
  {
   "cell_type": "code",
   "execution_count": null,
   "id": "09f665b8-bf19-4649-86a8-6c7570e3e6b9",
   "metadata": {},
   "outputs": [],
   "source": [
    "w = GraphWidget(graph=florentine_families_graph())\n",
    "display(w)"
   ]
  },
  {
   "cell_type": "markdown",
   "id": "2835c438-ee79-46e8-979d-f28bae00610e",
   "metadata": {},
   "source": [
    "#### Let's hide the sidebar when displaying the widget"
   ]
  },
  {
   "cell_type": "code",
   "execution_count": null,
   "id": "90c05a29-ee44-474d-b1b3-8236f7171be8",
   "metadata": {},
   "outputs": [],
   "source": [
    "w2 = GraphWidget(graph=florentine_families_graph())\n",
    "w2.set_sidebar(enabled=False)\n",
    "display(w2)"
   ]
  },
  {
   "cell_type": "markdown",
   "id": "0f3637c1-d319-45a9-a743-accf7f4809e5",
   "metadata": {},
   "source": [
    "#### Let's start with the 'Neighborhood' panel"
   ]
  },
  {
   "cell_type": "code",
   "execution_count": null,
   "id": "e3e427c9-8619-4cdc-b270-71fff5cd4655",
   "metadata": {},
   "outputs": [],
   "source": [
    "w3 = GraphWidget(graph=florentine_families_graph())\n",
    "w3.set_sidebar(start_with='Neighborhood')\n",
    "display(w3)"
   ]
  },
  {
   "cell_type": "markdown",
   "id": "2b92dab0-c21d-4858-b55c-03460bae7533",
   "metadata": {},
   "source": [
    "#### Let's hide the sidebar again, but when enabling it again via the toolbar, still starting with the 'Neighborhood' panel"
   ]
  },
  {
   "cell_type": "code",
   "execution_count": null,
   "id": "24f083d5-f2d1-44b0-8b1c-cf68e18dc268",
   "metadata": {},
   "outputs": [],
   "source": [
    "w4 = GraphWidget(graph=florentine_families_graph())\n",
    "w4.set_sidebar(enabled=False, start_with='Neighborhood')\n",
    "display(w4)"
   ]
  },
  {
   "cell_type": "markdown",
   "id": "6876668e-db46-4743-bfff-0239cf918399",
   "metadata": {},
   "source": [
    "#### Let's start with the 'Data' panel:"
   ]
  },
  {
   "cell_type": "code",
   "execution_count": null,
   "id": "d9d10e29-0282-42d3-86a2-b63f4ecd215b",
   "metadata": {},
   "outputs": [],
   "source": [
    "w5 = GraphWidget(graph=florentine_families_graph())\n",
    "w5.set_sidebar(start_with='Data')\n",
    "display(w5)"
   ]
  },
  {
   "cell_type": "markdown",
   "id": "17ebc6cd-9947-4ce2-ab56-f454d9f24dcf",
   "metadata": {},
   "source": [
    "#### Hide the sidebar, but still start with the Data panel:"
   ]
  },
  {
   "cell_type": "code",
   "execution_count": null,
   "id": "cd663b46-a3f1-4561-b062-5c7d23fe4e60",
   "metadata": {},
   "outputs": [],
   "source": [
    "w6 = GraphWidget(graph=florentine_families_graph())\n",
    "w6.set_sidebar(enabled=False, start_with='Data')\n",
    "display(w6)"
   ]
  },
  {
   "cell_type": "markdown",
   "id": "fd119e05-c946-43f2-b640-1dd99a99b47b",
   "metadata": {},
   "source": [
    "#### Let's start with the 'Search' panel"
   ]
  },
  {
   "cell_type": "code",
   "execution_count": null,
   "id": "5a08591d-4bc4-49cf-b8dc-cc90e021ea3e",
   "metadata": {},
   "outputs": [],
   "source": [
    "w7 = GraphWidget(graph=florentine_families_graph())\n",
    "w7.set_sidebar(start_with='Search')\n",
    "display(w7)"
   ]
  },
  {
   "cell_type": "markdown",
   "id": "0fa81375-3653-40f5-9bc7-28d18c97b2db",
   "metadata": {},
   "source": [
    "#### Hide the sidebar whilst starting with the 'Search' panel:"
   ]
  },
  {
   "cell_type": "code",
   "execution_count": null,
   "id": "486ac062-d796-4a90-9d99-798a6416edba",
   "metadata": {},
   "outputs": [],
   "source": [
    "w8 = GraphWidget(graph=florentine_families_graph())\n",
    "w8.set_sidebar(enabled=False, start_with='Search')\n",
    "display(w8)"
   ]
  }
 ],
 "metadata": {
  "kernelspec": {
   "display_name": "Python 3 (ipykernel)",
   "language": "python",
   "name": "python3"
  },
  "language_info": {
   "codemirror_mode": {
    "name": "ipython",
    "version": 3
   },
   "file_extension": ".py",
   "mimetype": "text/x-python",
   "name": "python",
   "nbconvert_exporter": "python",
   "pygments_lexer": "ipython3",
   "version": "3.11.3"
  }
 },
 "nbformat": 4,
 "nbformat_minor": 5
}
