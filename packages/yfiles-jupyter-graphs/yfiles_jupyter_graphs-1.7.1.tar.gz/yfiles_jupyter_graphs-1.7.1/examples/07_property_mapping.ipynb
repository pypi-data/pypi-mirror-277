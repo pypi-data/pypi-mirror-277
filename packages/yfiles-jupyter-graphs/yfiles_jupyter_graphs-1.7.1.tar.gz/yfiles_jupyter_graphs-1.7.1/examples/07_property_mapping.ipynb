{
 "cells": [
  {
   "cell_type": "markdown",
   "id": "e0da67b7-ae24-4ce9-8141-14b8e8d9bd45",
   "metadata": {},
   "source": [
    "# Element Property Mapping <a target=\"_blank\" href=\"https://colab.research.google.com/github/yWorks/yfiles-jupyter-graphs/blob/main/examples/07_property_mapping.ipynb\"><img src=\"https://colab.research.google.com/assets/colab-badge.svg\" alt=\"Open In Colab\"/></a>"
   ]
  },
  {
   "cell_type": "markdown",
   "id": "7aa134ad-24e5-458b-8d9a-6a500aeec10f",
   "metadata": {},
   "source": [
    "This notebook covers the basics of customizing node and edge properties.\n",
    "\n",
    "For the purpose of mapping demonstrations, the same graph, ```erdos_renyi_graph```, will be used. For this, we will import the graph from the NetworkX package. \\\n",
    "For more details on how to import graph data, explore the other example notebooks or refer to the full widget [documentation](https://yworks.github.io/yfiles-jupyter-graphs/).\n",
    "\n",
    "Before using the graph widget, install all necessary packages."
   ]
  },
  {
   "cell_type": "code",
   "execution_count": null,
   "id": "a882a7fc-c9c2-4df9-8bc5-8a3eff951c21",
   "metadata": {},
   "outputs": [],
   "source": [
    "%pip install yfiles_jupyter_graphs --quiet\n",
    "from yfiles_jupyter_graphs import GraphWidget\n",
    "%pip install networkx --quiet\n",
    "from typing import Dict\n",
    "from networkx import degree, edge_load_centrality, erdos_renyi_graph\n",
    "\n",
    "g = erdos_renyi_graph(10, 0.3, 2)\n",
    "w = GraphWidget(graph=g)\n",
    "\n",
    "print(w.default_element_property_mapping.__doc__)"
   ]
  },
  {
   "cell_type": "markdown",
   "id": "7bec868b-a50c-438c-bac6-48a01bafe2fe",
   "metadata": {},
   "source": [
    "You can also open this notebook in Google Colab when Google Colab's custom widget manager is enabled:"
   ]
  },
  {
   "cell_type": "code",
   "execution_count": null,
   "id": "729a617b-f0cd-469b-a1da-aee55cecda02",
   "metadata": {},
   "outputs": [],
   "source": [
    "try:\n",
    "  import google.colab\n",
    "  from google.colab import output\n",
    "  output.enable_custom_widget_manager()\n",
    "except:\n",
    "  pass"
   ]
  },
  {
   "cell_type": "markdown",
   "id": "9604ccc3-2330-439e-b790-d543daa08dbc",
   "metadata": {},
   "source": [
    "<a target=\"_blank\" href=\"https://colab.research.google.com/github/yWorks/yfiles-jupyter-graphs/blob/main/examples/07_property_mapping.ipynb\"><img src=\"https://colab.research.google.com/assets/colab-badge.svg\" alt=\"Open In Colab\"/></a>"
   ]
  },
  {
   "cell_type": "markdown",
   "id": "cc865b3e-513d-40f9-842c-74c6507f72d4",
   "metadata": {},
   "source": [
    "This is the graph we will be working with:"
   ]
  },
  {
   "cell_type": "code",
   "execution_count": null,
   "id": "45ec7216-fa80-4211-bab7-e7ef47836ef4",
   "metadata": {},
   "outputs": [],
   "source": [
    "display(w)"
   ]
  },
  {
   "cell_type": "markdown",
   "id": "92dd9bd8-1bc9-48f4-877f-edaf3a9854ed",
   "metadata": {},
   "source": [
    "## Node Property Mapping\n",
    "\n",
    "The node property mapping is a function that is supposed to return a dictionary for each given node object which is then available on the nodes.\n",
    "\n",
    "Optionally, the index can be used as the first function parameter.\n",
    "\n",
    "We will use the the inbuild ```degree()``` function of NetworkX to determine the degree of each node and then add this to the node property. \\\n",
    "For this we first define a new mapping function and then set this function as our current label mapping. \n",
    "\n",
    "But be careful as properties are changed inplace. Therefore, deleting mappings does not restore anything."
   ]
  },
  {
   "cell_type": "code",
   "execution_count": null,
   "id": "812fdd7e-fd92-4beb-a927-0403c2cfe2a7",
   "metadata": {},
   "outputs": [],
   "source": [
    "degree_mapping = degree(g)\n",
    "print(degree_mapping)\n",
    "\n",
    "nodes = w.get_nodes()\n",
    "def custom_node_property_mapping(node: Dict):\n",
    "    \"\"\"use degree mapping to determine degree property\"\"\"\n",
    "    node['properties'].update({'degree': degree_mapping[nodes.index(node)]})\n",
    "    return node['properties']"
   ]
  },
  {
   "cell_type": "markdown",
   "id": "90111598-0f47-4f8a-8f59-7e074407f23f",
   "metadata": {},
   "source": [
    "### Custom node mappings\n",
    "\n",
    "There are get and set methods for each customizable node property.\n",
    "- you can set a new node mapping with ```w.set_node_[binding]_mapping```\n",
    "- you can get the current node mapping with ```w.get_node_[binding]_mapping```\n",
    "- you can delete a custom node mapping with ```w.del_node_[binding]_mapping```\n",
    "\n",
    "You can find more details in the dedicated function documentation, available at ```w.[function_name].__doc__``` or in the [documentation](https://yworks.github.io/yfiles-jupyter-graphs/02_graph_widget/#methods).\n",
    "\n",
    "If no custom mapping is set the default mappings are used."
   ]
  },
  {
   "cell_type": "code",
   "execution_count": null,
   "id": "ac0d520e-464e-40c3-883a-71238af0a0e4",
   "metadata": {},
   "outputs": [],
   "source": [
    "w.get_node_property_mapping()"
   ]
  },
  {
   "cell_type": "markdown",
   "id": "f699ded9-4523-4ea9-afa0-305bf5c650c4",
   "metadata": {},
   "source": [
    "Let's update the property binding:"
   ]
  },
  {
   "cell_type": "code",
   "execution_count": null,
   "id": "48cbb4fe-84c6-4acb-877b-d3a0371a2101",
   "metadata": {},
   "outputs": [],
   "source": [
    "w.set_node_property_mapping(custom_node_property_mapping)\n",
    "w.get_node_property_mapping()"
   ]
  },
  {
   "cell_type": "code",
   "execution_count": null,
   "id": "56d5ff90-3b86-40fe-a87a-0323f53d5f36",
   "metadata": {},
   "outputs": [],
   "source": [
    "display(w)"
   ]
  },
  {
   "cell_type": "markdown",
   "id": "284ba080-ffaf-49db-92ac-4f44466cf2dd",
   "metadata": {},
   "source": [
    "If a node property mapping is deleted, the property mapping reverts back to the default mapping."
   ]
  },
  {
   "cell_type": "code",
   "execution_count": null,
   "id": "f9dcd3d4-3fbf-4f08-bae7-1b7933aed0e5",
   "metadata": {},
   "outputs": [],
   "source": [
    "w.del_node_property_mapping()\n",
    "w.get_node_property_mapping()"
   ]
  },
  {
   "cell_type": "markdown",
   "id": "8b4ff087-142f-4833-8776-09619cf5cfea",
   "metadata": {},
   "source": [
    "## Edge Property Mapping\n",
    "\n",
    "The edge property mapping is a function that is supposed to return a dictionary for each given edge object which is then available on the edges.\n",
    "\n",
    "If the index is used, it can be optionally given as the first function parameter. \n",
    "\n",
    "We will use the networkx function ```edge_load_centrality()```, to determine the edge centrality of each edge and then add this to the edge property.\n",
    "\n",
    "For this we first a define a new mapping function and then set this function as our current edge property mapping. "
   ]
  },
  {
   "cell_type": "code",
   "execution_count": null,
   "id": "4737ee59-2829-4c66-bf8d-c5deb00fd129",
   "metadata": {},
   "outputs": [],
   "source": [
    "w2 = GraphWidget(graph= erdos_renyi_graph(10, 0.3, 2))\n",
    "\n",
    "edge_load_centrality_mapping = edge_load_centrality(g)\n",
    "print(edge_load_centrality_mapping)\n",
    "\n",
    "def custom_edge_property_mapping(edge: Dict):\n",
    "    \"\"\"use edge load centrality mapping to determine edge load centrality property\"\"\"\n",
    "    # works because node labels are same as index\n",
    "    # otherwise another way of indexing mapping has to be found\n",
    "    c = edge_load_centrality_mapping[(edge['start'], edge['end'])]\n",
    "    edge['properties'].update({'load_centrality': c})\n",
    "    return edge['properties'] "
   ]
  },
  {
   "cell_type": "markdown",
   "id": "5e7b9d2b-3e49-46c0-91d0-14204f3dd7af",
   "metadata": {},
   "source": [
    "### Custom edge mappings\n",
    "\n",
    "There are get and set methods for each customizable edge property. In this case property = property.\n",
    "- you can set a new edge mapping with ```w.set_edge_[property]_mapping```\n",
    "- you can get the current edge mapping with ```w.get_edge_[property]_mapping```\n",
    "- you can delete a custom edge mapping with ```w.del_edge_[property]_mapping```\n",
    "\n",
    "You can find more details in the dedicated function documentation, available at ```w.[function_name].__doc__``` or in the [documentation](https://yworks.github.io/yfiles-jupyter-graphs/02_graph_widget/#methods).\n",
    "\n",
    "If no custom mapping is set the default mappings are used."
   ]
  },
  {
   "cell_type": "code",
   "execution_count": null,
   "id": "5906db97-8ea8-49e3-bc9c-d080683cc155",
   "metadata": {},
   "outputs": [],
   "source": [
    "w2.get_edge_property_mapping()"
   ]
  },
  {
   "cell_type": "markdown",
   "id": "01db1080-bb12-4ae9-95ef-47f3242f8a6b",
   "metadata": {},
   "source": [
    "Let's set the new edge property: "
   ]
  },
  {
   "cell_type": "code",
   "execution_count": null,
   "id": "825e27e9-b9f8-4b8d-8b35-160d30b95812",
   "metadata": {},
   "outputs": [],
   "source": [
    "w2.set_edge_property_mapping(custom_edge_property_mapping)\n",
    "w2.get_edge_property_mapping()"
   ]
  },
  {
   "cell_type": "code",
   "execution_count": null,
   "id": "f46689dc-341a-4b0a-b35d-95b813d1afb2",
   "metadata": {},
   "outputs": [],
   "source": [
    "display(w2)"
   ]
  },
  {
   "cell_type": "markdown",
   "id": "405a1da7-ab20-44f8-b89c-e7ab11b7b839",
   "metadata": {},
   "source": [
    "If a edge property mapping is deleted, the property mapping reverts back to the default mapping."
   ]
  },
  {
   "cell_type": "code",
   "execution_count": null,
   "id": "e20453b7-6ece-443e-a913-b3efe3223860",
   "metadata": {},
   "outputs": [],
   "source": [
    "w2.del_edge_property_mapping()\n",
    "w2.get_edge_property_mapping()"
   ]
  }
 ],
 "metadata": {
  "kernelspec": {
   "display_name": "Python 3 (ipykernel)",
   "language": "python",
   "name": "python3"
  },
  "language_info": {
   "codemirror_mode": {
    "name": "ipython",
    "version": 3
   },
   "file_extension": ".py",
   "mimetype": "text/x-python",
   "name": "python",
   "nbconvert_exporter": "python",
   "pygments_lexer": "ipython3",
   "version": "3.11.3"
  }
 },
 "nbformat": 4,
 "nbformat_minor": 5
}
