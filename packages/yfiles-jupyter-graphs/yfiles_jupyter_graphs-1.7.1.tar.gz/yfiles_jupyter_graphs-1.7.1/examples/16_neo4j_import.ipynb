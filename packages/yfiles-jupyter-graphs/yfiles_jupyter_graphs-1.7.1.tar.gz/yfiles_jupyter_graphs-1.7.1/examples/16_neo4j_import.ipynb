{
 "cells": [
  {
   "cell_type": "markdown",
   "id": "3f6f41b8-4449-45bb-8fec-72598dc80e18",
   "metadata": {},
   "source": [
    "# Visualizing Neo4j graphs in yFiles Graphs for Jupyter <a target=\"_blank\" href=\"https://colab.research.google.com/github/yWorks/yfiles-jupyter-graphs/blob/main/examples/16_neo4j_import.ipynb\"><img src=\"https://colab.research.google.com/assets/colab-badge.svg\" alt=\"Open In Colab\"/></a>"
   ]
  },
  {
   "cell_type": "markdown",
   "id": "95c4bb2b-5952-43b5-8f95-6683a2d05309",
   "metadata": {},
   "source": [
    "Before using the graph widget, install all necessary packages."
   ]
  },
  {
   "cell_type": "code",
   "execution_count": null,
   "id": "9bbc5e34-b83a-48eb-b918-f08bbd149275",
   "metadata": {},
   "outputs": [],
   "source": [
    "%pip install yfiles_jupyter_graphs --quiet\n",
    "%pip install neo4j --quiet\n",
    "from neo4j import GraphDatabase\n",
    "from yfiles_jupyter_graphs import GraphWidget"
   ]
  },
  {
   "cell_type": "markdown",
   "id": "9b50bd83-a689-46d5-ad25-b8afde5bd45f",
   "metadata": {},
   "source": [
    "You can also open this notebook in Google Colab when Google Colab's custom widget manager is enabled:"
   ]
  },
  {
   "cell_type": "code",
   "execution_count": null,
   "id": "84373484-d7f0-4c6a-bdb6-40ebcb66ca0c",
   "metadata": {},
   "outputs": [],
   "source": [
    "try:\n",
    "  import google.colab\n",
    "  from google.colab import output\n",
    "  output.enable_custom_widget_manager()\n",
    "except:\n",
    "  pass"
   ]
  },
  {
   "cell_type": "markdown",
   "id": "8884af78-e001-45fd-8cf5-28479946415d",
   "metadata": {},
   "source": [
    "<a target=\"_blank\" href=\"https://colab.research.google.com/github/yWorks/yfiles-jupyter-graphs/blob/main/examples/16_neo4j_import.ipynb\"><img src=\"https://colab.research.google.com/assets/colab-badge.svg\" alt=\"Open In Colab\"/></a>"
   ]
  },
  {
   "cell_type": "markdown",
   "id": "9df19056-475f-4615-8c81-3354c6f3fc8f",
   "metadata": {},
   "source": [
    "## How to import a graph\n",
    "- either import the graph directly when initilizing: ```GraphWidget(graph=your_graph)```\n",
    "- or use the ```w.import_graph(your_graph)``` function, if you already initilized a Widget called ```w```"
   ]
  },
  {
   "cell_type": "markdown",
   "id": "181df1a8-125d-4561-b682-1f833b1195f3",
   "metadata": {},
   "source": [
    "### Helper function to directly show a Cypher query as graph"
   ]
  },
  {
   "cell_type": "code",
   "execution_count": null,
   "id": "e604df90-9727-4bcf-9e67-b7a3f469ec11",
   "metadata": {},
   "outputs": [],
   "source": [
    "NEO4J_URI      = \"neo4j+ssc://demo.neo4jlabs.com\" \n",
    "NEO4J_USERNAME = \"movies\"\n",
    "NEO4J_PASSWORD = \"movies\"\n",
    "\n",
    "# create a neo4j session to run queries\n",
    "driver = GraphDatabase.driver(uri = NEO4J_URI, auth = (NEO4J_USERNAME, NEO4J_PASSWORD), database = 'movies')\n",
    "session = driver.session()\n",
    "\n",
    "# directly show the graph resulting from the given Cypher query\n",
    "def showGraph(cypher: str):\n",
    "    widget = GraphWidget(graph = session.run(cypher).graph()) \n",
    "    display(widget)\n",
    "    return widget"
   ]
  },
  {
   "cell_type": "markdown",
   "id": "d8b50c96-0e49-4182-a2b8-19abd0f21557",
   "metadata": {},
   "source": [
    "### Notes about Neo4j importer\n",
    "- By default, the widget displays the node's label and the edge's type as text. This may be adjusted by setting a different label-mapping, e.g., see [02_label_mapping](./02_label_mapping.ipynb).\n",
    "- Node labels are combined with ':' and added as 'label' property on the item\n",
    "- Node and relationship properties are available on the graph item's `properties`.\n",
    "- Each node label or relationship type is assigned a specific color."
   ]
  },
  {
   "cell_type": "markdown",
   "id": "93400164-96cb-4458-acad-3050d5345952",
   "metadata": {},
   "source": [
    "## Use Cypher to display a graph"
   ]
  },
  {
   "cell_type": "code",
   "execution_count": null,
   "id": "cfcc7b8e-d0b9-438d-b608-e9161330dc2e",
   "metadata": {},
   "outputs": [],
   "source": [
    "w = showGraph(\"MATCH (s)-[r]->(t) RETURN s,r,t LIMIT 20\")"
   ]
  },
  {
   "cell_type": "markdown",
   "id": "31804019-3a47-49f2-950d-5b2f4b57b224",
   "metadata": {},
   "source": [
    "# Map data to visualization\n",
    "\n",
    "The yFiles Graphs for Jupyter widget provides different mapping function with which we can display node and edge properties in the diagram.\n",
    "\n",
    "To access the 'properties' data, you can use the data key in squared brackets: ```['properties']['key'] ```\n",
    "\n",
    "Possible node keys in this example are 'born', 'name', 'tagline', 'votes', 'title', 'released' and 'label' \n",
    "\n",
    "To visualize all properties, we remove any additional node data except the properties"
   ]
  },
  {
   "cell_type": "code",
   "execution_count": null,
   "id": "4e9a1739-4f66-4f30-8b0c-c2f9582be562",
   "metadata": {},
   "outputs": [],
   "source": [
    "properties = [node['properties'] for node in w.nodes]\n",
    "formattedProperties = ''.join(f\"{node}\\n\" for node in properties)\n",
    "print(formattedProperties)"
   ]
  },
  {
   "cell_type": "code",
   "execution_count": null,
   "id": "ac965084-deff-4721-9afe-c7319f1f5579",
   "metadata": {},
   "outputs": [],
   "source": [
    "w2 = GraphWidget(graph = session.run(\"MATCH (s)-[r]->(t) RETURN s,r,t LIMIT 20\").graph())\n",
    "\n",
    "def custom_node_label_mapping(index, node):\n",
    "    \"\"\"let the label be the name or the title\"\"\"\n",
    "    properties = node.get('properties', {})\n",
    "    return properties.get('title', properties.get('name', 'no label'));\n",
    "w2.node_label_mapping = custom_node_label_mapping\n",
    "\n",
    "def custom_relationship_label_mapping(index, node):\n",
    "    \"\"\"let the label be the role\"\"\"\n",
    "    properties = node.get('properties', {})\n",
    "    return properties.get('roles', ['no role'])[0];\n",
    "w2.edge_label_mapping = custom_relationship_label_mapping\n",
    "\n",
    "w2.hierarchic_layout()\n",
    "display(w2)"
   ]
  },
  {
   "cell_type": "markdown",
   "id": "093939d9-a9bd-4d16-8a44-60c5356b9ef2",
   "metadata": {},
   "source": [
    "An alternative method for changing the names and titles to labels, utilizing the \"title\" and \"name\" properties stored in the node properties:"
   ]
  },
  {
   "cell_type": "code",
   "execution_count": null,
   "id": "b2ccec0c-0e29-490c-941a-458baa03bc5e",
   "metadata": {},
   "outputs": [],
   "source": [
    "w3 = GraphWidget(graph = session.run(\"MATCH (s)-[r]->(t) RETURN s,r,t LIMIT 20\").graph())\n",
    "\n",
    "w3.node_label_mapping = lambda node: node['properties']['name'] if 'name' in node['properties'] else node['properties']['title']\n",
    "\n",
    "w3.hierarchic_layout()\n",
    "\n",
    "w3.set_heat_mapping(lambda element: element['properties']['votes']/ 7000 if 'votes' in element['properties'] else 0)\n",
    "\n",
    "display(w3)"
   ]
  }
 ],
 "metadata": {
  "kernelspec": {
   "display_name": "Python 3",
   "language": "python",
   "name": "python3"
  },
  "language_info": {
   "codemirror_mode": {
    "name": "ipython",
    "version": 3
   },
   "file_extension": ".py",
   "mimetype": "text/x-python",
   "name": "python",
   "nbconvert_exporter": "python",
   "pygments_lexer": "ipython3",
   "version": "3.6.15"
  }
 },
 "nbformat": 4,
 "nbformat_minor": 5
}
