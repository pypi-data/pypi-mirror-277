{
 "cells": [
  {
   "cell_type": "markdown",
   "id": "1c0f1f16-e86d-4a34-8c73-fad6b2639260",
   "metadata": {},
   "source": [
    "# Node Position Mapping <a target=\"_blank\" href=\"https://colab.research.google.com/github/yWorks/yfiles-jupyter-graphs/blob/main/examples/06_position_mapping.ipynb\"><img src=\"https://colab.research.google.com/assets/colab-badge.svg\" alt=\"Open In Colab\"/></a>"
   ]
  },
  {
   "cell_type": "markdown",
   "id": "8c775bba-7db3-4934-ac78-dd4fcf4c6e8b",
   "metadata": {},
   "source": [
    "This notebook covers the basics of customizing node positions.\n",
    "\n",
    "A node position has 2 values:\n",
    "- x-position\n",
    "- y-position\n",
    "\n",
    "The position mapping is only used if an automatic layout algorithm does not change the node positions. \\\n",
    "The position mapping is overwritten by any custom node layout mapping.\n",
    "\n",
    "Edges do not have a position mapping.\n",
    "\n",
    "For the purpose of mapping demonstrations, the same graph, ```erdos_renyi_graph```, will be used. For this, we will import the graph from the NetworkX package. \\\n",
    "For more details on how to import graph data, explore the other example notebooks or refer to the full widget [documentation](https://yworks.github.io/yfiles-jupyter-graphs/).\n",
    "\n",
    "Before using the graph widget, install all necessary packages."
   ]
  },
  {
   "cell_type": "code",
   "execution_count": null,
   "id": "b20bf47e-6de7-41ec-a5ef-42a119c12f06",
   "metadata": {},
   "outputs": [],
   "source": [
    "%pip install yfiles_jupyter_graphs --quiet\n",
    "from yfiles_jupyter_graphs import GraphWidget\n",
    "%pip install networkx --quiet\n",
    "from typing import Dict\n",
    "from networkx import erdos_renyi_graph\n",
    "from random import random, seed\n",
    "seed(0)\n",
    "\n",
    "g = erdos_renyi_graph(10, 0.3, 2)\n",
    "w = GraphWidget(graph=g)"
   ]
  },
  {
   "cell_type": "markdown",
   "id": "0eb632e8-7dd8-4f92-b6d2-ffe77ac3dbab",
   "metadata": {},
   "source": [
    "You can also open this notebook in Google Colab when Google Colab's custom widget manager is enabled:"
   ]
  },
  {
   "cell_type": "code",
   "execution_count": null,
   "id": "79d57154-17bc-48b9-83de-a9efe7522bcd",
   "metadata": {},
   "outputs": [],
   "source": [
    "try:\n",
    "  import google.colab\n",
    "  from google.colab import output\n",
    "  output.enable_custom_widget_manager()\n",
    "except:\n",
    "  pass"
   ]
  },
  {
   "cell_type": "markdown",
   "id": "98456b58-1196-4752-aecf-c8652c739a84",
   "metadata": {},
   "source": [
    "<a target=\"_blank\" href=\"https://colab.research.google.com/github/yWorks/yfiles-jupyter-graphs/blob/main/examples/06_position_mapping.ipynb\"><img src=\"https://colab.research.google.com/assets/colab-badge.svg\" alt=\"Open In Colab\"/></a>"
   ]
  },
  {
   "cell_type": "markdown",
   "id": "242f5733-ad8c-4cd4-8e72-1faeefc49b6f",
   "metadata": {},
   "source": [
    "This is the graph we will be working on : "
   ]
  },
  {
   "cell_type": "code",
   "execution_count": null,
   "id": "b16592e9-2c9b-4afa-bd66-e1e6997024bb",
   "metadata": {},
   "outputs": [],
   "source": [
    "display(w)"
   ]
  },
  {
   "cell_type": "markdown",
   "id": "dd2e9679-180b-4180-90b6-73432736f1d5",
   "metadata": {},
   "source": [
    "## Mapping Function\n",
    "\n",
    "The node position mapping is a function that is supposed to return an (x, y)-tuple for each given node object which is then used in the widget.\n",
    "\n",
    "Optionally, the index can be used as the first function parameter.\n",
    "\n",
    "Let's assign a random position to each node.\n"
   ]
  },
  {
   "cell_type": "code",
   "execution_count": null,
   "id": "001ee109-3e2e-43fc-af01-bc2f67e49bb1",
   "metadata": {},
   "outputs": [],
   "source": [
    "node_positions = [((random() - 0.5) * 1000, (random() - 0.5) * 1000) for _ in g.nodes]\n",
    "nodes = w.get_nodes()\n",
    "def custom_node_position_mapping(node: Dict):\n",
    "    \"\"\"choose position randomly\"\"\"\n",
    "    return node_positions[nodes.index(node)]"
   ]
  },
  {
   "cell_type": "markdown",
   "id": "43ce21b7-f065-40be-bbfc-0d8e973d2e0b",
   "metadata": {},
   "source": [
    "### Custom node mappings\n",
    "\n",
    "There are get and set methods for each customizable node property.\n",
    "- you can set a new node mapping with ```w.set_node_[binding]_mapping```\n",
    "- you can get the current node mapping with ```w.get_node_[binding]_mapping```\n",
    "- you can delete a custom node mapping with ```w.del_node_[binding]_mapping```\n",
    "\n",
    "You can find more details in the dedicated function documentation, available at ```w.[function_name].__doc__``` or in the [documentation](https://yworks.github.io/yfiles-jupyter-graphs/02_graph_widget/#methods).\n",
    "\n",
    "If no custom mapping is set the default mappings are used. \\\n",
    "The default node position are 0.0, 0.0. However, as most layouts compute their own node positions, this is only relevant for edge router layouts."
   ]
  },
  {
   "cell_type": "code",
   "execution_count": null,
   "id": "92ebba37-0c90-4112-b27f-25212574dbaf",
   "metadata": {},
   "outputs": [],
   "source": [
    "print(w.node_position_mapping.__doc__)"
   ]
  },
  {
   "cell_type": "code",
   "execution_count": null,
   "id": "bf86f21c-d629-4861-9a1f-7a458c848c0f",
   "metadata": {},
   "outputs": [],
   "source": [
    "w.get_node_position_mapping()"
   ]
  },
  {
   "cell_type": "markdown",
   "id": "454c1367-531d-4618-96d4-b0cd17bd96e3",
   "metadata": {},
   "source": [
    "Let's set a random node position:"
   ]
  },
  {
   "cell_type": "code",
   "execution_count": null,
   "id": "c868086f-d1e4-4b9e-a583-f91bd1ae925c",
   "metadata": {},
   "outputs": [],
   "source": [
    "w.set_node_position_mapping(custom_node_position_mapping)\n",
    "w.get_node_position_mapping()"
   ]
  },
  {
   "cell_type": "markdown",
   "id": "5992a237-bab8-42c5-9c5d-5d1158337e59",
   "metadata": {},
   "source": [
    "Choose one of two edge router layouts to see your custom node positioning:"
   ]
  },
  {
   "cell_type": "code",
   "execution_count": null,
   "id": "91099565-cfd2-4cc4-a8fe-d793d814a42f",
   "metadata": {},
   "outputs": [],
   "source": [
    "w.orthogonal_edge_router()\n",
    "display(w)"
   ]
  },
  {
   "cell_type": "code",
   "execution_count": null,
   "id": "976df720-b661-44c8-a488-3fb2f9ed3667",
   "metadata": {},
   "outputs": [],
   "source": [
    "w.organic_edge_router()\n",
    "display(w)"
   ]
  },
  {
   "cell_type": "markdown",
   "id": "f2743a52-215e-486b-bae3-23174f58cada",
   "metadata": {},
   "source": [
    "If the node mapping is deleted, the default mapping is used: "
   ]
  },
  {
   "cell_type": "code",
   "execution_count": null,
   "id": "db069018-cb62-4403-8035-0f2f1df546c9",
   "metadata": {},
   "outputs": [],
   "source": [
    "w.del_node_position_mapping()\n",
    "w.get_node_position_mapping()"
   ]
  },
  {
   "cell_type": "markdown",
   "id": "9eb18bef-de04-48c2-91ed-d455162e960e",
   "metadata": {},
   "source": [
    "To see all nodes, choose a different layout in the toolbar:"
   ]
  },
  {
   "cell_type": "code",
   "execution_count": null,
   "id": "9063960f-bde4-41d0-83d9-a03c89b2d105",
   "metadata": {},
   "outputs": [],
   "source": [
    "display(w)"
   ]
  }
 ],
 "metadata": {
  "kernelspec": {
   "display_name": "Python 3 (ipykernel)",
   "language": "python",
   "name": "python3"
  },
  "language_info": {
   "codemirror_mode": {
    "name": "ipython",
    "version": 3
   },
   "file_extension": ".py",
   "mimetype": "text/x-python",
   "name": "python",
   "nbconvert_exporter": "python",
   "pygments_lexer": "ipython3",
   "version": "3.11.3"
  }
 },
 "nbformat": 4,
 "nbformat_minor": 5
}
