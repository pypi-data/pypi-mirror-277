{
 "cells": [
  {
   "cell_type": "markdown",
   "id": "7e7c5cf8-4f63-470e-a5c9-420270530286",
   "metadata": {},
   "source": [
    "# Node Type Mapping <a target=\"_blank\" href=\"https://colab.research.google.com/github/yWorks/yfiles-jupyter-graphs/blob/main/examples/09_type_mapping.ipynb\"><img src=\"https://colab.research.google.com/assets/colab-badge.svg\" alt=\"Open In Colab\"/></a>"
   ]
  },
  {
   "cell_type": "markdown",
   "id": "e6777b35-da2a-443c-b579-75278d94ba72",
   "metadata": {},
   "source": [
    "This notebook covers the basics of customizing node types. Node types are considered by the automatic layout algorithms to arrange similar types together.\n",
    "\n",
    "Edges do not have a type mapping.\n",
    "\n",
    "Before using the graph widget, install all necessary packages."
   ]
  },
  {
   "cell_type": "code",
   "execution_count": null,
   "id": "bf28ad28-0b03-4020-9510-b01fcc554a97",
   "metadata": {},
   "outputs": [],
   "source": [
    "%pip install yfiles_jupyter_graphs --quiet\n",
    "from typing import Dict\n",
    "from yfiles_jupyter_graphs import GraphWidget\n",
    "\n",
    "w=GraphWidget()"
   ]
  },
  {
   "cell_type": "markdown",
   "id": "97362274-1e46-4b96-ab69-4f40bf0c3fd9",
   "metadata": {},
   "source": [
    "You can also open this notebook in Google Colab when Google Colab's custom widget manager is enabled:"
   ]
  },
  {
   "cell_type": "code",
   "execution_count": null,
   "id": "cc77c3ba-a83e-4dd6-9dcf-e6c901a5965e",
   "metadata": {},
   "outputs": [],
   "source": [
    "try:\n",
    "  import google.colab\n",
    "  from google.colab import output\n",
    "  output.enable_custom_widget_manager()\n",
    "except:\n",
    "  pass"
   ]
  },
  {
   "cell_type": "markdown",
   "id": "869e0212-3330-45b8-bee9-6c802e580ee0",
   "metadata": {},
   "source": [
    "<a target=\"_blank\" href=\"https://colab.research.google.com/github/yWorks/yfiles-jupyter-graphs/blob/main/examples/09_type_mapping.ipynb\"><img src=\"https://colab.research.google.com/assets/colab-badge.svg\" alt=\"Open In Colab\"/></a>"
   ]
  },
  {
   "cell_type": "code",
   "execution_count": null,
   "id": "f3b74f7b-8b05-4bad-95db-6ead02b4d552",
   "metadata": {},
   "outputs": [],
   "source": [
    "w.nodes = [\n",
    "    {'id': 0, 'properties': {'type': 0}},\n",
    "    {'id': 1, 'properties': {'type': 1}}, {'id': 2, 'properties': {'type': 1}}, {'id': 3, 'properties': {'type': 1}}, {'id': 4, 'properties': {'type': 1}}, {'id': 5, 'properties': {'type': 1}}, {'id': 6, 'properties': {'type': 1}},\n",
    "    {'id': 7, 'properties': {'type': 2}}, {'id': 8, 'properties': {'type': 2}}, {'id': 9, 'properties': {'type': 2}}, {'id': 10, 'properties': {'type': 2}}, {'id': 11, 'properties': {'type': 2}}, {'id': 12, 'properties': {'type': 2}},\n",
    "    {'id': 13, 'properties': {'type': 3}}, {'id': 14, 'properties': {'type': 3}}, {'id': 15, 'properties': {'type': 3}}, {'id': 16, 'properties': {'type': 3}}, {'id': 17, 'properties': {'type': 3}}, {'id': 18, 'properties': {'type': 3}},\n",
    "    {'id': 19, 'properties': {'type': 4}}\n",
    "]\n",
    "w.edges = [\n",
    "    {'id': 0, 'start': 0, 'end': 1, 'properties': {}}, {'id': 1, 'start': 0, 'end': 2, 'properties': {}}, {'id': 2, 'start': 0, 'end': 3, 'properties': {}},\n",
    "    {'id': 3, 'start': 0, 'end': 4, 'properties': {}}, {'id': 4, 'start': 0, 'end': 5, 'properties': {}}, {'id': 5, 'start': 0, 'end': 6, 'properties': {}},\n",
    "    {'id': 6, 'start': 0, 'end': 7, 'properties': {}}, {'id': 7, 'start': 0, 'end': 8, 'properties': {}}, {'id': 8, 'start': 0, 'end': 9, 'properties': {}},\n",
    "    {'id': 9, 'start': 0, 'end': 10, 'properties': {}}, {'id': 10, 'start': 0, 'end': 11, 'properties': {}}, {'id': 11, 'start': 0, 'end': 12, 'properties': {}},\n",
    "    {'id': 12, 'start': 0, 'end': 13, 'properties': {}}, {'id': 13, 'start': 0, 'end': 14, 'properties': {}}, {'id': 14, 'start': 0, 'end': 15, 'properties': {}},\n",
    "    {'id': 15, 'start': 0, 'end': 16, 'properties': {}}, {'id': 16, 'start': 0, 'end': 17, 'properties': {}}, {'id': 17, 'start': 0, 'end': 18, 'properties': {}},\n",
    "    {'id': 18, 'start': 1, 'end': 19, 'properties': {}}, {'id': 19, 'start': 2, 'end': 19, 'properties': {}}, {'id': 20, 'start': 3, 'end': 19, 'properties': {}},\n",
    "    {'id': 21, 'start': 4, 'end': 19, 'properties': {}}, {'id': 22, 'start': 5, 'end': 19, 'properties': {}}, {'id': 23, 'start': 6, 'end': 19, 'properties': {}},\n",
    "    {'id': 24, 'start': 7, 'end': 19, 'properties': {}}, {'id': 25, 'start': 8, 'end': 19, 'properties': {}}, {'id': 26, 'start': 9, 'end': 19, 'properties': {}},\n",
    "    {'id': 27, 'start': 10, 'end': 19, 'properties': {}}, {'id': 28, 'start': 11, 'end': 19, 'properties': {}}, {'id': 29, 'start': 12, 'end': 19, 'properties': {}},\n",
    "    {'id': 30, 'start': 13, 'end': 19, 'properties': {}}, {'id': 31, 'start': 14, 'end': 19, 'properties': {}}, {'id': 32, 'start': 15, 'end': 19, 'properties': {}},\n",
    "    {'id': 33, 'start': 16, 'end': 19, 'properties': {}}, {'id': 34, 'start': 17, 'end': 19, 'properties': {}}, {'id': 35, 'start': 18, 'end': 19, 'properties': {}}\n",
    "]\n",
    "w.directed = True"
   ]
  },
  {
   "cell_type": "markdown",
   "id": "18e38511-c624-48ef-b386-964fed8e669b",
   "metadata": {},
   "source": [
    "We will work with this graph:"
   ]
  },
  {
   "cell_type": "code",
   "execution_count": null,
   "id": "a5f66fea-8935-40a5-88dc-6587636ff87e",
   "metadata": {},
   "outputs": [],
   "source": [
    "display(w)"
   ]
  },
  {
   "cell_type": "markdown",
   "id": "7b9e0269-aa70-4d8c-9cc8-8dfabce121a0",
   "metadata": {},
   "source": [
    "## Mapping function\n",
    "\n",
    "The node type mapping is a function that is supposed to return a value for each given node object that is considered as its `type`.\n",
    "\n",
    "Optionally, the index can be used as the first function parameter.\n",
    "\n",
    "Let's assign the type as specified in properties:"
   ]
  },
  {
   "cell_type": "code",
   "execution_count": null,
   "id": "6148c0ba-405b-4325-b0e4-290ea852e56a",
   "metadata": {},
   "outputs": [],
   "source": [
    "def custom_node_type_mapping(node: Dict):\n",
    "    \"\"\"assign type accordingly\"\"\"\n",
    "    return node['properties']['type']"
   ]
  },
  {
   "cell_type": "markdown",
   "id": "7b9fe48c-e1d8-4b6c-bd2f-ac1283a34d55",
   "metadata": {},
   "source": [
    "### Custom node mappings\n",
    "\n",
    "There are get and set methods for each customizable node property.\n",
    "- you can set a new node mapping with ```w.set_node_[binding]_mapping```\n",
    "- you can get the current node mapping with ```w.get_node_[binding]_mapping```\n",
    "- you can delete a custom node mapping with ```w.del_node_[binding]_mapping```\n",
    "\n",
    "You can find more details in the dedicated function documentation, available at ```w.[function_name].__doc__``` or in the [documentation](https://yworks.github.io/yfiles-jupyter-graphs/02_graph_widget/#methods).\n",
    "\n",
    "If no custom mapping is set the default mappings are used. "
   ]
  },
  {
   "cell_type": "code",
   "execution_count": null,
   "id": "fd420dad-31a1-4b1d-bd98-28861d859698",
   "metadata": {},
   "outputs": [],
   "source": [
    "print(w.node_type_mapping.__doc__)"
   ]
  },
  {
   "cell_type": "code",
   "execution_count": null,
   "id": "7b6a071d-b8fa-4ac4-a29f-2ee914cdc5e1",
   "metadata": {},
   "outputs": [],
   "source": [
    "w.get_node_type_mapping()"
   ]
  },
  {
   "cell_type": "markdown",
   "id": "a3c026cb-f807-4f48-b5b1-e3f53381bab4",
   "metadata": {},
   "source": [
    "Let's set the new type mapping: "
   ]
  },
  {
   "cell_type": "code",
   "execution_count": null,
   "id": "99dcc6fb-0296-4256-bee8-69f918617028",
   "metadata": {},
   "outputs": [],
   "source": [
    "w.set_node_type_mapping(custom_node_type_mapping)\n",
    "w.get_node_type_mapping()"
   ]
  },
  {
   "cell_type": "code",
   "execution_count": null,
   "id": "7b0dd16a-bf95-40ba-8d66-d00667e27f2d",
   "metadata": {},
   "outputs": [],
   "source": [
    "display(w)"
   ]
  },
  {
   "cell_type": "markdown",
   "id": "b22ae496-c6b6-473b-ac64-be2578006021",
   "metadata": {},
   "source": [
    "To enhance the optical seperation of types we can assign each type a different color. \\\n",
    "Check out [03_color_mapping.ipynb](./03_color_mapping.ipynb), to get more information on the node color mapping."
   ]
  },
  {
   "cell_type": "code",
   "execution_count": null,
   "id": "110fcecc-2cd7-4ffd-aa58-7569ae1de44a",
   "metadata": {},
   "outputs": [],
   "source": [
    "colors = [\"#17bebb\", \"#ffc914\", \"#0b7189\", \"#ff6c00\", '#76b041']\n",
    "\n",
    "def custom_node_color_mapping(node: Dict):\n",
    "    \"\"\"assign colors based on type\"\"\"\n",
    "    return colors[node['properties']['type']]\n",
    "\n",
    "w.set_node_color_mapping(custom_node_color_mapping)\n",
    "w.get_node_type_mapping()"
   ]
  },
  {
   "cell_type": "code",
   "execution_count": null,
   "id": "077f46ef-64ac-4582-95e2-da18252a14db",
   "metadata": {},
   "outputs": [],
   "source": [
    "display(w)"
   ]
  },
  {
   "cell_type": "markdown",
   "id": "9421f3dc-61ff-4144-b53e-4bdc1a90c6e0",
   "metadata": {},
   "source": [
    "If a node type mapping is deleted, the layout mapping reverts back to the default mapping."
   ]
  },
  {
   "cell_type": "code",
   "execution_count": null,
   "id": "07caa339-a63f-467c-8d8c-7b422948a632",
   "metadata": {},
   "outputs": [],
   "source": [
    "w.del_node_type_mapping()\n",
    "w.get_node_type_mapping()"
   ]
  }
 ],
 "metadata": {
  "kernelspec": {
   "display_name": "Python 3 (ipykernel)",
   "language": "python",
   "name": "python3"
  },
  "language_info": {
   "codemirror_mode": {
    "name": "ipython",
    "version": 3
   },
   "file_extension": ".py",
   "mimetype": "text/x-python",
   "name": "python",
   "nbconvert_exporter": "python",
   "pygments_lexer": "ipython3",
   "version": "3.11.3"
  }
 },
 "nbformat": 4,
 "nbformat_minor": 5
}
