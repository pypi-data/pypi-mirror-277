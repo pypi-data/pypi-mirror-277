{
 "cells": [
  {
   "cell_type": "markdown",
   "id": "899447e4-f4dc-4491-be22-46ed1591fc71",
   "metadata": {},
   "source": [
    "# yFiles Graphs for Jupyter <a target=\"_blank\" href=\"https://colab.research.google.com/github/yWorks/yfiles-jupyter-graphs/blob/main/examples/01_introduction.ipynb\"><img src=\"https://colab.research.google.com/assets/colab-badge.svg\" alt=\"Open In Colab\"/></a>"
   ]
  },
  {
   "cell_type": "markdown",
   "id": "08285758-8025-40d1-9cfd-3de06ba59693",
   "metadata": {},
   "source": [
    "### Before using the widget, make sure to install the required packages\n",
    "\n",
    "Ensure you have the necessary packages installed by running the following commands:\n",
    "- ```%pip install yfiles_jupyter_graphs --quiet```\n",
    "- ```from yfiles_jupyter_graphs import GraphWidget``` "
   ]
  },
  {
   "cell_type": "code",
   "execution_count": null,
   "id": "40c51747-64bc-49f2-90c0-c0ff79d24048",
   "metadata": {},
   "outputs": [],
   "source": [
    "%pip install yfiles_jupyter_graphs --quiet\n",
    "from yfiles_jupyter_graphs import GraphWidget"
   ]
  },
  {
   "cell_type": "markdown",
   "id": "651c2e90-4f3b-4b25-9404-735288b25771",
   "metadata": {},
   "source": [
    "You can also open this notebook in Google Colab when Google Colab's custom widget manager is enabled:"
   ]
  },
  {
   "cell_type": "code",
   "execution_count": null,
   "id": "01400028-72b5-47ff-a5bc-5d9f64f0df31",
   "metadata": {},
   "outputs": [],
   "source": [
    "try:\n",
    "  import google.colab\n",
    "  from google.colab import output\n",
    "  output.enable_custom_widget_manager()\n",
    "except:\n",
    "  pass"
   ]
  },
  {
   "cell_type": "markdown",
   "id": "e7a4c051-be35-4269-a322-32a147cf02cd",
   "metadata": {},
   "source": [
    "<a target=\"_blank\" href=\"https://colab.research.google.com/github/yWorks/yfiles-jupyter-graphs/blob/main/examples/01_introduction.ipynb\"><img src=\"https://colab.research.google.com/assets/colab-badge.svg\" alt=\"Open In Colab\"/></a>"
   ]
  },
  {
   "cell_type": "markdown",
   "id": "f0823ca8-ea68-4bdd-863c-09b0524aa96e",
   "metadata": {},
   "source": [
    "## How to create a new graph\n",
    "Before specifying nodes or edges, initialize a new graph widget. You can do this by creating a new instance, for example, `w = GraphWidget()`\n",
    "\n",
    "- Nodes always have an \"id,\" and any additional data can be added to the \"properties\" dictionary. The \"id\" is used by the edges to identify which nodes to connect.\n",
    "  \n",
    "- Edges always consist of an \"id,\" \"start,\" and \"end.\" Edges have a customizable \"properties\" dictionary that can store additional data.\n",
    "\n",
    "- Edges are visualized undirected unless specified otherwise by setting the `directed` property on the widget or defining the `directed_mapping` per edge."
   ]
  },
  {
   "cell_type": "code",
   "execution_count": null,
   "id": "e09589a6-ce29-4da1-9578-90dc4b4394ba",
   "metadata": {},
   "outputs": [],
   "source": [
    "w = GraphWidget()\n",
    "w.nodes = [\n",
    "    {\"id\": 0, \"properties\": {\"firstName\": \"Alpha\", \"label\": \"Person A\"}},\n",
    "    {\"id\": \"one\", \"properties\": {\"firstName\": \"Bravo\", \"label\": \"Person B\"}},\n",
    "    {\"id\": 2.0, \"properties\": {\"firstName\": \"Charlie\", \"label\": \"Person C\", \"has_hat\": False}},\n",
    "    {\"id\": True, \"properties\": {\"firstName\": \"Delta\", \"label\": \"Person D\", \"likes_pizza\": True}}\n",
    "]\n",
    "w.edges = [\n",
    "    {\"id\": \"zero\", \"start\": 0, \"end\": \"one\", \"properties\": {\"since\": \"1992\", \"label\": \"knows\"}},\n",
    "    {\"id\": 1, \"start\": \"one\", \"end\": True, \"properties\": {\"label\": \"knows\", \"since\": \"1992\"}},\n",
    "    {\"id\": 2.0, \"start\": 2.0, \"end\": True, \"properties\": {\"label\": \"knows\", \"since\": \"1992\"}},\n",
    "    {\"id\": False, \"start\": 0, \"end\": 2.0, \"properties\": {\"label\": \"knows\", \"since\": 234}}\n",
    "]\n",
    "w.directed = True"
   ]
  },
  {
   "cell_type": "markdown",
   "id": "9d9ea06a-130f-4103-bd1a-6fda3ae084bb",
   "metadata": {},
   "source": [
    "To display the current state of the widget, you can either use ```display(w)```, ```w.show()``` or ```w```"
   ]
  },
  {
   "cell_type": "code",
   "execution_count": null,
   "id": "055f895e-6934-45e4-8ed5-e1e423c9ce09",
   "metadata": {},
   "outputs": [],
   "source": [
    "display(w)"
   ]
  },
  {
   "cell_type": "markdown",
   "id": "0e3f207e-b1ac-48a3-89f3-75f5dbb03013",
   "metadata": {},
   "source": [
    "## Nodes\n",
    "\n",
    "Nodes in this graph come with a variety of style properties that can be customized through mapping functions. These properties can be altered to change the appearance and attributes of each node, providing flexible graph representation. \n",
    "\n",
    "If no explicit values are set, the default mappings are used, resulting in the following values."
   ]
  },
  {
   "cell_type": "code",
   "execution_count": null,
   "id": "6f5c56bf-c4d3-4dc1-a6dd-5e640d913d21",
   "metadata": {},
   "outputs": [],
   "source": [
    "w.nodes"
   ]
  },
  {
   "cell_type": "markdown",
   "id": "1f5d3a78-75fa-4f0d-a8b0-fe60fc69012a",
   "metadata": {},
   "source": [
    "## Edges \n",
    "\n",
    "Similar to nodes, edges come with customizable properties. These values can be adjusted to suit specific graph visualization needs, while default values are as follows."
   ]
  },
  {
   "cell_type": "code",
   "execution_count": null,
   "id": "43a47347-36c1-49af-a6bc-3207329fd54a",
   "metadata": {},
   "outputs": [],
   "source": [
    "w.edges"
   ]
  }
 ],
 "metadata": {
  "kernelspec": {
   "display_name": "Python 3 (ipykernel)",
   "language": "python",
   "name": "python3"
  },
  "language_info": {
   "codemirror_mode": {
    "name": "ipython",
    "version": 3
   },
   "file_extension": ".py",
   "mimetype": "text/x-python",
   "name": "python",
   "nbconvert_exporter": "python",
   "pygments_lexer": "ipython3",
   "version": "3.11.3"
  }
 },
 "nbformat": 4,
 "nbformat_minor": 5
}
