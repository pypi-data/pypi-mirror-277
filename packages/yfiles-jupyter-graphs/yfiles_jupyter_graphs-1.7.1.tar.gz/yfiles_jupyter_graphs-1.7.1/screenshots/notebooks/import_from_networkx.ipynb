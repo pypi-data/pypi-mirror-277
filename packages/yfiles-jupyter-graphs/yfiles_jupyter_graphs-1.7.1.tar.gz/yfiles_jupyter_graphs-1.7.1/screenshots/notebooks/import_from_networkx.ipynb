{
 "cells": [
  {
   "cell_type": "markdown",
   "id": "757f2cf4-eb2d-4a64-8c8a-94d0457f3571",
   "metadata": {},
   "source": [
    "# Import Graph Data"
   ]
  },
  {
   "cell_type": "code",
   "execution_count": 1,
   "id": "24df7328",
   "metadata": {
    "tags": []
   },
   "outputs": [],
   "source": [
    "from networkx import connected_caveman_graph\n",
    "g = connected_caveman_graph(3, 4)"
   ]
  },
  {
   "cell_type": "code",
   "execution_count": 2,
   "id": "dc8e9773",
   "metadata": {},
   "outputs": [
    {
     "data": {
      "application/vnd.jupyter.widget-view+json": {
       "model_id": "38a479237f7748d7ba69e326ad50c688",
       "version_major": 2,
       "version_minor": 0
      },
      "text/plain": [
       "GraphWidget(layout=Layout(height='500px', width='100%'))"
      ]
     },
     "metadata": {},
     "output_type": "display_data"
    }
   ],
   "source": [
    "from yfiles_jupyter_graphs import GraphWidget\n",
    "w = GraphWidget()\n",
    "w.import_graph(g)\n",
    "w.show()"
   ]
  }
 ],
 "metadata": {
  "kernelspec": {
   "display_name": "Python 3",
   "language": "python",
   "name": "python3"
  },
  "language_info": {
   "codemirror_mode": {
    "name": "ipython",
    "version": 3
   },
   "file_extension": ".py",
   "mimetype": "text/x-python",
   "name": "python",
   "nbconvert_exporter": "python",
   "pygments_lexer": "ipython3",
   "version": "3.6.15"
  }
 },
 "nbformat": 4,
 "nbformat_minor": 5
}
