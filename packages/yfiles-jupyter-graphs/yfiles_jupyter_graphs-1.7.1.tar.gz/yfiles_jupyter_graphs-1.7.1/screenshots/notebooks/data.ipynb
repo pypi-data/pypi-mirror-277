{
 "cells": [
  {
   "cell_type": "markdown",
   "id": "8f4ccb3d-7422-45b5-a19b-9fbe1c97461d",
   "metadata": {},
   "source": [
    "# Investigate Attached Data"
   ]
  },
  {
   "cell_type": "code",
   "execution_count": 2,
   "id": "2b984281-fe99-46fa-b66f-9164be03474d",
   "metadata": {},
   "outputs": [],
   "source": [
    "from yfiles_jupyter_graphs import GraphWidget\n",
    "from networkx import florentine_families_graph"
   ]
  },
  {
   "cell_type": "code",
   "execution_count": 3,
   "id": "02f27d14-36cd-4306-a103-ff94e748ad32",
   "metadata": {},
   "outputs": [],
   "source": [
    "w = GraphWidget()\n",
    "w.import_graph(florentine_families_graph())"
   ]
  },
  {
   "cell_type": "code",
   "execution_count": 4,
   "id": "1777a26c-47ce-4733-8915-f64325700e04",
   "metadata": {},
   "outputs": [
    {
     "data": {
      "application/vnd.jupyter.widget-view+json": {
       "model_id": "c6d5c05525114238bbf1256c15d3c4bd",
       "version_major": 2,
       "version_minor": 0
      },
      "text/plain": [
       "GraphWidget(layout=Layout(height='500px', width='100%'))"
      ]
     },
     "metadata": {},
     "output_type": "display_data"
    }
   ],
   "source": [
    "w.set_sidebar(start_with='Data')\n",
    "w.show()"
   ]
  }
 ],
 "metadata": {
  "kernelspec": {
   "display_name": "Python 3",
   "language": "python",
   "name": "python3"
  },
  "language_info": {
   "codemirror_mode": {
    "name": "ipython",
    "version": 3
   },
   "file_extension": ".py",
   "mimetype": "text/x-python",
   "name": "python",
   "nbconvert_exporter": "python",
   "pygments_lexer": "ipython3",
   "version": "3.6.15"
  }
 },
 "nbformat": 4,
 "nbformat_minor": 5
}
