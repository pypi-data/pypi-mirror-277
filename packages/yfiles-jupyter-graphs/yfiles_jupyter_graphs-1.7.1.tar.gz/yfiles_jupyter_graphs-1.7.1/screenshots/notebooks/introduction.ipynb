{
 "cells": [
  {
   "cell_type": "markdown",
   "metadata": {},
   "source": [
    "# Introduction"
   ]
  },
  {
   "cell_type": "code",
   "execution_count": 1,
   "metadata": {},
   "outputs": [],
   "source": [
    "from yfiles_jupyter_graphs import GraphWidget"
   ]
  },
  {
   "cell_type": "code",
   "execution_count": 2,
   "metadata": {},
   "outputs": [],
   "source": [
    "w = GraphWidget()"
   ]
  },
  {
   "cell_type": "code",
   "execution_count": 3,
   "metadata": {
    "tags": []
   },
   "outputs": [],
   "source": [
    "w.nodes = [\n",
    "    {\"id\": 0, \"properties\": {\"firstName\": \"Alpha\", \"label\": \"Person A\"}},\n",
    "    {\"id\": \"one\", \"properties\": {\"firstName\": \"Bravo\", \"label\": \"Person B\"}},\n",
    "    {\"id\": 2.0, \"properties\": {\"firstName\": \"Charlie\", \"label\": \"Person C\", \"has_hat\": False}},\n",
    "    {\"id\": True, \"properties\": {\"firstName\": \"Delta\", \"label\": \"Person D\", \"likes_pizza\": True}}\n",
    "]\n",
    "w.edges = [\n",
    "    {\"id\": \"zero\", \"start\": 0, \"end\": \"one\", \"properties\": {\"since\": \"1992\", \"label\": \"knows\"}},\n",
    "    {\"id\": 1, \"start\": \"one\", \"end\": True, \"properties\": {\"label\": \"knows\", \"since\": \"1992\"}},\n",
    "    {\"id\": 2.0, \"start\": 2.0, \"end\": True, \"properties\": {\"label\": \"knows\", \"since\": \"1992\"}},\n",
    "    {\"id\": False, \"start\": 0, \"end\": 2.0, \"properties\": {\"label\": \"knows\", \"since\": 234}}\n",
    "]\n",
    "w.directed = True"
   ]
  },
  {
   "cell_type": "code",
   "execution_count": 4,
   "metadata": {},
   "outputs": [
    {
     "data": {
      "application/vnd.jupyter.widget-view+json": {
       "model_id": "8e7bf9e62b4e449195419c0fc6fcb490",
       "version_major": 2,
       "version_minor": 0
      },
      "text/plain": [
       "GraphWidget(layout=Layout(height='500px', width='100%'))"
      ]
     },
     "metadata": {},
     "output_type": "display_data"
    }
   ],
   "source": [
    "w.show()  # or just w"
   ]
  },
  {
   "cell_type": "markdown",
   "metadata": {
    "tags": []
   },
   "source": [
    "####\n",
    "#### Mappings (see other examples and docs) are applied before showing widget."
   ]
  },
  {
   "cell_type": "code",
   "execution_count": 5,
   "metadata": {
    "tags": []
   },
   "outputs": [
    {
     "data": {
      "text/plain": [
       "[{'id': 0,\n",
       "  'properties': {'firstName': 'Alpha', 'label': 'Person A'},\n",
       "  'label': 'Person A',\n",
       "  'color': '#17bebb',\n",
       "  'scale_factor': 1.0,\n",
       "  'type': None,\n",
       "  'position': (0.0, 0.0)},\n",
       " {'id': 'one',\n",
       "  'properties': {'firstName': 'Bravo', 'label': 'Person B'},\n",
       "  'label': 'Person B',\n",
       "  'color': '#17bebb',\n",
       "  'scale_factor': 1.0,\n",
       "  'type': None,\n",
       "  'position': (0.0, 0.0)},\n",
       " {'id': 2.0,\n",
       "  'properties': {'firstName': 'Charlie',\n",
       "   'label': 'Person C',\n",
       "   'has_hat': False},\n",
       "  'label': 'Person C',\n",
       "  'color': '#17bebb',\n",
       "  'scale_factor': 1.0,\n",
       "  'type': None,\n",
       "  'position': (0.0, 0.0)},\n",
       " {'id': True,\n",
       "  'properties': {'firstName': 'Delta',\n",
       "   'label': 'Person D',\n",
       "   'likes_pizza': True},\n",
       "  'label': 'Person D',\n",
       "  'color': '#17bebb',\n",
       "  'scale_factor': 1.0,\n",
       "  'type': None,\n",
       "  'position': (0.0, 0.0)}]"
      ]
     },
     "execution_count": 5,
     "metadata": {},
     "output_type": "execute_result"
    }
   ],
   "source": [
    "w.nodes"
   ]
  },
  {
   "cell_type": "code",
   "execution_count": 6,
   "metadata": {},
   "outputs": [
    {
     "data": {
      "text/plain": [
       "[{'id': 'zero',\n",
       "  'start': 0,\n",
       "  'end': 'one',\n",
       "  'properties': {'since': '1992', 'label': 'knows'},\n",
       "  'label': 'knows',\n",
       "  'color': '#094c4b',\n",
       "  'thickness_factor': 1.0,\n",
       "  'directed': True},\n",
       " {'id': 1,\n",
       "  'start': 'one',\n",
       "  'end': True,\n",
       "  'properties': {'label': 'knows', 'since': '1992'},\n",
       "  'label': 'knows',\n",
       "  'color': '#094c4b',\n",
       "  'thickness_factor': 1.0,\n",
       "  'directed': True},\n",
       " {'id': 2.0,\n",
       "  'start': 2.0,\n",
       "  'end': True,\n",
       "  'properties': {'label': 'knows', 'since': '1992'},\n",
       "  'label': 'knows',\n",
       "  'color': '#094c4b',\n",
       "  'thickness_factor': 1.0,\n",
       "  'directed': True},\n",
       " {'id': False,\n",
       "  'start': 0,\n",
       "  'end': 2.0,\n",
       "  'properties': {'label': 'knows', 'since': 234},\n",
       "  'label': 'knows',\n",
       "  'color': '#094c4b',\n",
       "  'thickness_factor': 1.0,\n",
       "  'directed': True}]"
      ]
     },
     "execution_count": 6,
     "metadata": {},
     "output_type": "execute_result"
    }
   ],
   "source": [
    "w.edges"
   ]
  }
 ],
 "metadata": {
  "kernelspec": {
   "display_name": "Python 3",
   "language": "python",
   "name": "python3"
  },
  "language_info": {
   "codemirror_mode": {
    "name": "ipython",
    "version": 3
   },
   "file_extension": ".py",
   "mimetype": "text/x-python",
   "name": "python",
   "nbconvert_exporter": "python",
   "pygments_lexer": "ipython3",
   "version": "3.6.15"
  },
  "widgets": {
   "application/vnd.jupyter.widget-state+json": {
    "state": {},
    "version_major": 2,
    "version_minor": 0
   }
  }
 },
 "nbformat": 4,
 "nbformat_minor": 4
}
