{
 "cells": [
  {
   "cell_type": "markdown",
   "id": "8fd43bf8-ff9d-4cf3-b4e5-9a07aca3a5df",
   "metadata": {},
   "source": [
    "# Large Diagrams <a target=\"_blank\" href=\"https://colab.research.google.com/github/yWorks/yfiles-jupyter-graphs/blob/main/examples/20_large-diagram.ipynb\"><img src=\"https://colab.research.google.com/assets/colab-badge.svg\" alt=\"Open In Colab\"/></a>\n",
    "\n",
    "The widget can support very large diagrams by switching to WebGL rendering for the diagram.\n",
    "\n",
    "However note that automatic layouts may take some time to calculate on dense graphs.\n",
    "\n",
    "Before using the graph widget, install all necessary packages."
   ]
  },
  {
   "cell_type": "code",
   "execution_count": null,
   "id": "91ecf78a-82c0-47be-82cd-705a761984be",
   "metadata": {},
   "outputs": [],
   "source": [
    "%pip install yfiles_jupyter_graphs --quiet\n",
    "%pip install networkx --quiet\n",
    "import networkx as nx\n",
    "from yfiles_jupyter_graphs import GraphWidget"
   ]
  },
  {
   "cell_type": "markdown",
   "id": "7601cfbf-f60e-4f01-a3c7-5f776ebd442b",
   "metadata": {},
   "source": [
    "You can also open this notebook in Google Colab when Google Colab's custom widget manager is enabled:"
   ]
  },
  {
   "cell_type": "code",
   "execution_count": null,
   "id": "61972097-52c4-49e6-82f4-8a1b6b616cdf",
   "metadata": {},
   "outputs": [],
   "source": [
    "try:\n",
    "  import google.colab\n",
    "  from google.colab import output\n",
    "  output.enable_custom_widget_manager()\n",
    "except:\n",
    "  pass"
   ]
  },
  {
   "cell_type": "markdown",
   "id": "bb08acb6-10eb-4491-ae28-842bc2b1cd89",
   "metadata": {},
   "source": [
    "<a target=\"_blank\" href=\"https://colab.research.google.com/github/yWorks/yfiles-jupyter-graphs/blob/main/examples/20_large-diagram.ipynb\"><img src=\"https://colab.research.google.com/assets/colab-badge.svg\" alt=\"Open In Colab\"/></a>"
   ]
  },
  {
   "cell_type": "markdown",
   "id": "5631520b-b527-4180-96b7-ed580fc1d2b3",
   "metadata": {},
   "source": [
    "To showcase a large graph, we'll use the 'lobster' graph from Networkx. This graph initially consists of 100 nodes, however, each of these 100 nodes has a 90% probability of having a new node added, and the process repeats for the next level with the same 90% probability:"
   ]
  },
  {
   "cell_type": "code",
   "execution_count": null,
   "id": "6c897a65-6355-4c2e-910f-db91a81e404b",
   "metadata": {},
   "outputs": [],
   "source": [
    "DG = nx.random_lobster(100, 0.9, 0.9)\n",
    "print('nodes:', len(list(DG.nodes)), 'edges:',  len(list(DG.edges)))"
   ]
  },
  {
   "cell_type": "markdown",
   "id": "2c66a927-05fe-4b7c-923a-395b446cfe04",
   "metadata": {},
   "source": [
    "Rendering and calculating the node positions can take a while: "
   ]
  },
  {
   "cell_type": "code",
   "execution_count": null,
   "id": "5fc502cf-c929-473a-9189-f8c999882ceb",
   "metadata": {},
   "outputs": [],
   "source": [
    "w = GraphWidget(graph=DG)\n",
    "display(w)"
   ]
  }
 ],
 "metadata": {
  "kernelspec": {
   "display_name": "Python 3 (ipykernel)",
   "language": "python",
   "name": "python3"
  },
  "language_info": {
   "codemirror_mode": {
    "name": "ipython",
    "version": 3
   },
   "file_extension": ".py",
   "mimetype": "text/x-python",
   "name": "python",
   "nbconvert_exporter": "python",
   "pygments_lexer": "ipython3",
   "version": "3.11.3"
  }
 },
 "nbformat": 4,
 "nbformat_minor": 5
}
