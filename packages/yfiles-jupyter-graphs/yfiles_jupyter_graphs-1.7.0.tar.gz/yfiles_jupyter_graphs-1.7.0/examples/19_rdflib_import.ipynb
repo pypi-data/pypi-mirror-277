{
 "cells": [
  {
   "cell_type": "markdown",
   "id": "7136fd9d-cc2c-4dbf-9138-7fb4477a616b",
   "metadata": {},
   "source": [
    "# Visualizing RDF graphs in yFiles Graphs for Jupyter <a target=\"_blank\" href=\"https://colab.research.google.com/github/yWorks/yfiles-jupyter-graphs/blob/main/examples/19_rdflib_import.ipynb\"><img src=\"https://colab.research.google.com/assets/colab-badge.svg\" alt=\"Open In Colab\"/></a>\n",
    "\n",
    "Before using the graph widget, install all necessary packages."
   ]
  },
  {
   "cell_type": "code",
   "execution_count": null,
   "id": "c6cb45fc-e442-4631-afa7-f93d646e03af",
   "metadata": {},
   "outputs": [],
   "source": [
    "%pip install yfiles_jupyter_graphs --quiet\n",
    "%pip install rdflib networkx --quiet\n",
    "from rdflib import Graph\n",
    "from yfiles_jupyter_graphs import GraphWidget\n",
    "from rdflib.extras.external_graph_libs import rdflib_to_networkx_graph"
   ]
  },
  {
   "cell_type": "markdown",
   "id": "222eab1d-14cc-418b-a109-a63b9f1ca7d1",
   "metadata": {},
   "source": [
    "You can also open this notebook in Google Colab when Google Colab's custom widget manager is enabled:"
   ]
  },
  {
   "cell_type": "code",
   "execution_count": null,
   "id": "bb5491e4-0c8c-4031-b7f4-6f84b9d65c2d",
   "metadata": {},
   "outputs": [],
   "source": [
    "try:\n",
    "  import google.colab\n",
    "  from google.colab import output\n",
    "  output.enable_custom_widget_manager()\n",
    "except:\n",
    "  pass"
   ]
  },
  {
   "cell_type": "markdown",
   "id": "4b69e398-3b70-40f7-ae7b-8e4a2d186807",
   "metadata": {},
   "source": [
    "<a target=\"_blank\" href=\"https://colab.research.google.com/github/yWorks/yfiles-jupyter-graphs/blob/main/examples/19_rdflib_import.ipynb\"><img src=\"https://colab.research.google.com/assets/colab-badge.svg\" alt=\"Open In Colab\"/></a>"
   ]
  },
  {
   "cell_type": "markdown",
   "id": "a04acaf9-3737-4b85-8c10-80b44b3e01ce",
   "metadata": {},
   "source": [
    "# Requirements on rdflib\n",
    "\n",
    "This notebook requires rdflib version 6+ due to a [bug](https://github.com/RDFLib/rdflib/issues/1488) in the rdflib library.\n",
    "\n",
    "Subsequently, rdflib version 6+ requires at least Python 3.7+. So make sure to met these requirements for running this notebook."
   ]
  },
  {
   "cell_type": "markdown",
   "id": "6340f7a0-4019-4856-aee4-e4a2cd117b0c",
   "metadata": {},
   "source": [
    "## How to import a graph\n",
    "- either import the graph directly when initilizing: ```GraphWidget(graph=your_graph)```\n",
    "- or use the ```w.import_graph(your_graph)``` function, if you already initilized a Widget called ```w```\n",
    "\n",
    "## Notes about RDF\n",
    "- We use the Networkx importer to import RDF graph data\n",
    "- a lot of different libraries support Networkx or pandas \n",
    "- convert your graph to one of the supported import libraries, then you can use the widget on your data"
   ]
  },
  {
   "cell_type": "markdown",
   "id": "9ffac35e-1d64-47b2-b034-d91ad7ef8a98",
   "metadata": {},
   "source": [
    "Shows how to load an RDF graph into a yFiles Jupyter Graph widget via networkx"
   ]
  },
  {
   "cell_type": "code",
   "execution_count": null,
   "id": "1c2155ce-03bc-4eca-88e9-312c5c4e2533",
   "metadata": {},
   "outputs": [],
   "source": [
    "# Create a Graph, add in some test data\n",
    "g = Graph()\n",
    "g.parse(\n",
    "    data=\"\"\"\n",
    "        <x:> a <c:> .\n",
    "        <y:> a <c:> .\n",
    "    \"\"\",\n",
    "    format=\"turtle\"\n",
    ")\n",
    "\n",
    "# Add in a new triple using SPATQL UPDATE\n",
    "g.update(\"\"\"INSERT DATA { <z:> a <c:> }\"\"\")\n",
    "\n",
    "# Change type of <y:> from <c:> to <d:>\n",
    "g.update(\"\"\"\n",
    "         DELETE { <y:> a <c:> }\n",
    "         INSERT { <y:> a <d:> }\n",
    "         WHERE { <y:> a <c:> }\n",
    "         \"\"\")\n",
    "\n",
    "dg = rdflib_to_networkx_graph(g, False, edge_attrs=lambda s,p,o:{})\n",
    "\n",
    "w = GraphWidget(graph = dg)\n",
    "display(w)"
   ]
  }
 ],
 "metadata": {
  "kernelspec": {
   "display_name": "Python 3 (ipykernel)",
   "language": "python",
   "name": "python3"
  },
  "language_info": {
   "codemirror_mode": {
    "name": "ipython",
    "version": 3
   },
   "file_extension": ".py",
   "mimetype": "text/x-python",
   "name": "python",
   "nbconvert_exporter": "python",
   "pygments_lexer": "ipython3",
   "version": "3.11.3"
  }
 },
 "nbformat": 4,
 "nbformat_minor": 5
}
