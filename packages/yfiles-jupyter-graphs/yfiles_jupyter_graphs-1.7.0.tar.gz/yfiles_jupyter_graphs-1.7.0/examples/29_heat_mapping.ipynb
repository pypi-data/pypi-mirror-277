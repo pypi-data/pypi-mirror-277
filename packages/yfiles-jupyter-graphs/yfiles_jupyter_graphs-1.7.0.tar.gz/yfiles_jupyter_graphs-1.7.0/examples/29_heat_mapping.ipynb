{
 "cells": [
  {
   "cell_type": "markdown",
   "id": "675ab9b2-219d-490d-8efd-45dbd77c26b9",
   "metadata": {},
   "source": [
    "# Heat Mapping <a target=\"_blank\" href=\"https://colab.research.google.com/github/yWorks/yfiles-jupyter-graphs/blob/main/examples/29_heat_mapping.ipynb\"><img src=\"https://colab.research.google.com/assets/colab-badge.svg\" alt=\"Open In Colab\"/></a>\n",
    "\n",
    "Before using the graph widget, install all necessary packages and initialize your widget."
   ]
  },
  {
   "cell_type": "code",
   "execution_count": null,
   "id": "acb80d9e-112d-4e03-9915-c074c03a871a",
   "metadata": {},
   "outputs": [],
   "source": [
    "%pip install yfiles_jupyter_graphs --quiet\n",
    "from yfiles_jupyter_graphs import GraphWidget\n",
    "w = GraphWidget()"
   ]
  },
  {
   "cell_type": "markdown",
   "id": "26a2bbb9-7f41-485c-82d5-541b21539996",
   "metadata": {},
   "source": [
    "You can also open this notebook in Google Colab when Google Colab's custom widget manager is enabled:"
   ]
  },
  {
   "cell_type": "code",
   "execution_count": null,
   "id": "bb9670f9-698b-4a8d-a961-3263dc709e44",
   "metadata": {},
   "outputs": [],
   "source": [
    "try:\n",
    "  import google.colab\n",
    "  from google.colab import output\n",
    "  output.enable_custom_widget_manager()\n",
    "except:\n",
    "  pass"
   ]
  },
  {
   "cell_type": "markdown",
   "id": "8a1cc311-e290-47fe-8b8f-df0c91c4d14b",
   "metadata": {},
   "source": [
    "<a target=\"_blank\" href=\"https://colab.research.google.com/github/yWorks/yfiles-jupyter-graphs/blob/main/examples/29_heat_mapping.ipynb\"><img src=\"https://colab.research.google.com/assets/colab-badge.svg\" alt=\"Open In Colab\"/></a>"
   ]
  },
  {
   "cell_type": "markdown",
   "id": "e9b0ac00-6de6-47c3-b599-f14389831c06",
   "metadata": {},
   "source": [
    "## Mapping Function\n",
    "\n",
    "The heatmapping is slightly different than other mappings, as there is one combined mapping for edges and nodes\n",
    "\n",
    "There are get, set and delete methods for the heatmap.\n",
    "- you can set a new heat mapping with ```w.set_heat_mapping```\n",
    "- you can get the current heat mapping with ```w.get_heat_mapping```\n",
    "- you can delete a custom heat mapping with ```w.del_heat_mapping```\n",
    "\n",
    "If no custom mapping is set the default mapping is used."
   ]
  },
  {
   "cell_type": "code",
   "execution_count": null,
   "id": "69c45788-84d3-4b1b-8e8b-05dbd74bd8ab",
   "metadata": {},
   "outputs": [],
   "source": [
    "print(w.default_heat_mapping.__doc__)"
   ]
  },
  {
   "cell_type": "code",
   "execution_count": null,
   "id": "d7a90608-4c1e-486a-8789-04ac80f0d395",
   "metadata": {},
   "outputs": [],
   "source": [
    "def heatmap(element):\n",
    "    load = 0.5\n",
    "    if 'start' in element:\n",
    "        #edge case\n",
    "        return 0\n",
    "    else:\n",
    "        # Calculate load based on number of edges\n",
    "        load += sum(0.1 for edge in w.edges if edge['end'] == element['id'])\n",
    "        load += sum(-0.1 for edge in w.edges if edge['start'] == element['id'])\n",
    "        # Calculate load based on capacity (if available)\n",
    "        if 'properties' in element and 'capacity' in element['properties']:\n",
    "            load += 1 - (element['properties']['capacity'] / 100)\n",
    "        # Calculate load based on duration (if available)\n",
    "        if 'properties' in element and 'duration' in element['properties']:\n",
    "            load += element['properties']['duration'] / 10\n",
    "        load = min(1, max(0, load))\n",
    "        return load\n",
    "        "
   ]
  },
  {
   "cell_type": "markdown",
   "id": "4cc6bc9c-b259-46cc-9604-9c9cb250a375",
   "metadata": {},
   "source": [
    "We use a graph representing a production chain and add our heatmap according to the expected step load:"
   ]
  },
  {
   "cell_type": "code",
   "execution_count": null,
   "id": "6732964b-649c-4ebc-a580-005464bf681d",
   "metadata": {},
   "outputs": [],
   "source": [
    "w.set_heat_mapping(heatmap)\n",
    "w.nodes = [\n",
    "    { \"id\": 1, \"properties\": {\"label\": \"Start\", \"capacity\": 50 }},\n",
    "    { \"id\": 3, \"properties\": {\"label\": \"Evaluation\", \"capacity\": 20 }},\n",
    "    { \"id\": 4, \"properties\": {\"label\": \"Move to Backlog\"}},\n",
    "    { \"id\": 5, \"properties\": {\"label\": \"Prepare\", \"capacity\": 20 }},\n",
    "    { \"id\": 6, \"properties\": {\"label\": \"Prepare Shortcut\"}},\n",
    "    { \"id\": 7, \"properties\": {\"label\": \"Step A-1\"}},\n",
    "    { \"id\": 9, \"properties\": {\"label\": \"Advance\", \"duration\": 3 }},\n",
    "    { \"id\": 10, \"properties\": {\"label\": \"Early Discard\"}},\n",
    "    { \"id\": 11, \"properties\": {\"label\": \"Step A-2\"}},\n",
    "    { \"id\": 12, \"properties\": {\"label\": \"Quick Preparation\"}},\n",
    "    { \"id\": 13, \"properties\": {\"label\": \"Backlog\", \"capacity\": 100 }},\n",
    "    { \"id\": 14, \"properties\": {\"label\": \"Step B\"}},\n",
    "    { \"id\": 16, \"properties\": {\"label\": \"End of Preparation\"}},\n",
    "    { \"id\": 17, \"properties\": {\"label\": \"Buffer\", \"capacity\": 30, \"duration\": 10 }},\n",
    "    { \"id\": 18, \"properties\": {\"label\": \"Main Processing\", \"capacity\": 70, \"duration\": 2 }},\n",
    "    { \"id\": 19, \"properties\": {\"label\": \"Refinement 1\", \"capacity\": 20, \"duration\": 1 }},\n",
    "    { \"id\": 20, \"properties\": {\"label\": \"Refinement 2\", \"capacity\": 60, \"duration\": 4 }},\n",
    "    { \"id\": 21, \"properties\": {\"label\": \"Testing\", \"capacity\": 70, \"duration\": 1 }},\n",
    "    { \"id\": 22, \"properties\": {\"label\": \"Delivery\", \"capacity\": 20 }},\n",
    "    { \"id\": 23, \"properties\": {\"label\": \"Rejection\", \"capacity\": 100 }},\n",
    "    { \"id\": 24, \"properties\": {\"label\": \"Store\", \"capacity\": 50, \"duration\": 5 }}\n",
    "]\n",
    "\n",
    "w.edges = [\n",
    "    { \"start\": 1, \"end\": 5, \"properties\": {} },\n",
    "    { \"start\": 1, \"end\": 2, \"properties\": {} },\n",
    "    { \"start\": 1, \"end\": 3 , \"properties\": {} },\n",
    "    { \"start\": 1, \"end\": 4, \"properties\": { \"probability\": 0.1 }},\n",
    "    { \"start\": 16, \"end\": 17, \"properties\": {}  },\n",
    "    { \"start\": 16, \"end\": 18, \"properties\": {}  },\n",
    "    { \"start\": 18, \"end\": 19, \"properties\": {}  },\n",
    "    { \"start\": 5, \"end\": 11, \"properties\": {}  },\n",
    "    { \"start\": 9, \"end\": 6, \"properties\": { \"probability\": 0.1 }},\n",
    "    { \"start\": 5, \"end\": 7, \"properties\": { \"probability\": 3 }},\n",
    "    { \"start\": 2, \"end\": 8 , \"properties\": {} },\n",
    "    { \"start\": 6, \"end\": 12 , \"properties\": {} },\n",
    "    { \"start\": 3, \"end\": 9 , \"properties\": {} },\n",
    "    { \"start\": 3, \"end\": 10, \"properties\": { \"probability\": 0.1 }},\n",
    "    { \"start\": 4, \"end\": 13 , \"properties\": {} },\n",
    "    { \"start\": 11, \"end\": 14 , \"properties\": {} },\n",
    "    { \"start\": 7, \"end\": 14, \"properties\": {}  },\n",
    "    { \"start\": 5, \"end\": 16, \"properties\": { \"probability\": 0.1 }},\n",
    "    { \"start\": 14, \"end\": 16 , \"properties\": {} },\n",
    "    { \"start\": 18, \"end\": 21 , \"properties\": {} },\n",
    "    { \"start\": 21, \"end\": 23, \"properties\": { \"probability\": 0.1 }},\n",
    "    { \"start\": 21, \"end\": 24 , \"properties\": {} },\n",
    "    { \"start\": 21, \"end\": 22 , \"properties\": {} },\n",
    "    { \"start\": 13, \"end\": 15 , \"properties\": {} },\n",
    "    { \"start\": 12, \"end\": 17 , \"properties\": {} },\n",
    "    { \"start\": 18, \"end\": 22 , \"properties\": {} },\n",
    "    { \"start\": 10, \"end\": 15 , \"properties\": {} },\n",
    "    { \"start\": 9, \"end\": 20, \"properties\": {}  },\n",
    "    { \"start\": 19, \"end\": 21 , \"properties\": {} },\n",
    "    { \"start\": 17, \"end\": 18 , \"properties\": {} },\n",
    "    { \"start\": 20, \"end\": 21 , \"properties\": {} }\n",
    "]\n",
    "w.hierarchic_layout()\n",
    "w.get_heat_mapping()"
   ]
  },
  {
   "cell_type": "code",
   "execution_count": null,
   "id": "773513de-4b4e-492d-959d-e88116b4d4bb",
   "metadata": {},
   "outputs": [],
   "source": [
    "display(w)"
   ]
  },
  {
   "cell_type": "markdown",
   "id": "9390607f-9f13-49bf-b77e-b9f4939df12e",
   "metadata": {},
   "source": [
    "If the heat mapping is deleted, the heatmap mapping reverts back to the default mapping."
   ]
  },
  {
   "cell_type": "code",
   "execution_count": null,
   "id": "45a96e73-f5e2-474e-b1c1-4092f857bdd1",
   "metadata": {},
   "outputs": [],
   "source": [
    "w.del_heat_mapping()\n",
    "w.get_heat_mapping()"
   ]
  }
 ],
 "metadata": {
  "kernelspec": {
   "display_name": "Python 3 (ipykernel)",
   "language": "python",
   "name": "python3"
  },
  "language_info": {
   "codemirror_mode": {
    "name": "ipython",
    "version": 3
   },
   "file_extension": ".py",
   "mimetype": "text/x-python",
   "name": "python",
   "nbconvert_exporter": "python",
   "pygments_lexer": "ipython3",
   "version": "3.12.3"
  }
 },
 "nbformat": 4,
 "nbformat_minor": 5
}
