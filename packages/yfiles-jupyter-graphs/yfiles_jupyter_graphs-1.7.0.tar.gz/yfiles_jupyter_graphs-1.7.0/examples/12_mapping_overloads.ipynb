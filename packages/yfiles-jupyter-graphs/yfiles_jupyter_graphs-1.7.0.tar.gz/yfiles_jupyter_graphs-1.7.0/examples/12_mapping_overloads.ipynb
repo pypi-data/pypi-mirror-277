{
 "cells": [
  {
   "cell_type": "markdown",
   "id": "7ca6fa41-0560-4136-a3fa-1ca1e637cb6b",
   "metadata": {},
   "source": [
    "# Mapping Overloads <a target=\"_blank\" href=\"https://colab.research.google.com/github/yWorks/yfiles-jupyter-graphs/blob/main/examples/12_mapping_overloads.ipynb\"><img src=\"https://colab.research.google.com/assets/colab-badge.svg\" alt=\"Open In Colab\"/></a>"
   ]
  },
  {
   "cell_type": "markdown",
   "id": "3c667362-1228-4d03-b2a3-d49537d8d9b4",
   "metadata": {},
   "source": [
    "This notebook covers the different methods to change node or edge mappings.\n",
    "\n",
    "Before using the graph widget, install all necessary packages."
   ]
  },
  {
   "cell_type": "code",
   "execution_count": null,
   "id": "7304ae55-3dc2-4a77-8275-f44a8122601f",
   "metadata": {},
   "outputs": [],
   "source": [
    "%pip install yfiles_jupyter_graphs --quiet\n",
    "%pip install networkx --quiet\n",
    "from random import choice, seed\n",
    "from typing import Dict\n",
    "from yfiles_jupyter_graphs import GraphWidget\n",
    "seed(0)\n",
    "w = GraphWidget()"
   ]
  },
  {
   "cell_type": "markdown",
   "id": "1704d4f6-798b-4d6d-8977-a5ba94376a7e",
   "metadata": {},
   "source": [
    "You can also open this notebook in Google Colab when Google Colab's custom widget manager is enabled:"
   ]
  },
  {
   "cell_type": "code",
   "execution_count": null,
   "id": "7014c58b-cdc9-4703-b69c-601c3318bc0b",
   "metadata": {},
   "outputs": [],
   "source": [
    "try:\n",
    "  import google.colab\n",
    "  from google.colab import output\n",
    "  output.enable_custom_widget_manager()\n",
    "except:\n",
    "  pass"
   ]
  },
  {
   "cell_type": "markdown",
   "id": "48cd4f3e-f5f4-4b0c-8dbf-12fd27da82d8",
   "metadata": {},
   "source": [
    "<a target=\"_blank\" href=\"https://colab.research.google.com/github/yWorks/yfiles-jupyter-graphs/blob/main/examples/12_mapping_overloads.ipynb\"><img src=\"https://colab.research.google.com/assets/colab-badge.svg\" alt=\"Open In Colab\"/></a>"
   ]
  },
  {
   "cell_type": "code",
   "execution_count": null,
   "id": "4c5413fd-98a3-4b8c-9224-c7ca75b0afda",
   "metadata": {},
   "outputs": [],
   "source": [
    "w.nodes = [\n",
    "    {\"id\": 0, \"properties\": {\"firstName\": \"Alpha\", \"label\": \"Person A\", \"age\": 31}},\n",
    "    {\"id\": \"one\", \"properties\": {\"firstName\": \"Bravo\", \"label\": \"Person B\", \"age\": 56}},\n",
    "    {\"id\": 2.0, \"properties\": {\"firstName\": \"Charlie\", \"label\": \"Person C\", \"age\": 27, \"has_hat\": False}},\n",
    "    {\"id\": True, \"properties\": {\"firstName\": \"Delta\", \"label\": \"Person D\", \"age\": 43, \"likes_pizza\": True}}\n",
    "]\n",
    "w.edges = [\n",
    "    {\"id\": \"zero\", \"start\": 0, \"end\": \"one\", \"properties\": {\"since\": \"1992\", \"label\": \"knows\"}},\n",
    "    {\"id\": 1, \"start\": \"one\", \"end\": True, \"properties\": {\"label\": \"knows\", \"since\": \"1992\"}},\n",
    "    {\"id\": 2.0, \"start\": 2.0, \"end\": True, \"properties\": {\"label\": \"knows\", \"since\": \"1992\"}},\n",
    "    {\"id\": False, \"start\": 0, \"end\": 2.0, \"properties\": {\"label\": \"knows\", \"since\": 234}}\n",
    "]"
   ]
  },
  {
   "cell_type": "markdown",
   "id": "9564bafb-6d2a-44f7-ac81-4b5e73fc2ed2",
   "metadata": {},
   "source": [
    "We will use this graph: "
   ]
  },
  {
   "cell_type": "code",
   "execution_count": null,
   "id": "5d8516f3-66c4-4281-8a95-84865bef2bd3",
   "metadata": {},
   "outputs": [],
   "source": [
    "display(w)"
   ]
  },
  {
   "cell_type": "markdown",
   "id": "ac801d6f-7fed-4b89-a977-173066410df5",
   "metadata": {},
   "source": [
    "### Using Properties data\n",
    "\n",
    "Let's set the size of the nodes based on the age:"
   ]
  },
  {
   "cell_type": "code",
   "execution_count": null,
   "id": "8c6ba18c-4232-4b01-8ebf-f97e18f1dc90",
   "metadata": {},
   "outputs": [],
   "source": [
    "def custom_node_scale_mapping_age(item: Dict):\n",
    "    return item['properties']['age'] / 35\n",
    "w.set_node_scale_factor_mapping(custom_node_scale_mapping_age)\n",
    "display(w)"
   ]
  },
  {
   "cell_type": "markdown",
   "id": "dfb0eed3-dd82-42bb-aaaa-8be807dd50d5",
   "metadata": {},
   "source": [
    "### There is a shorter way for that:"
   ]
  },
  {
   "cell_type": "code",
   "execution_count": null,
   "id": "846a94ba-411c-4fec-967f-77a0ef29eb0f",
   "metadata": {},
   "outputs": [],
   "source": [
    "w2 = GraphWidget()\n",
    "w2.nodes = [\n",
    "    {\"id\": 0, \"properties\": {\"firstName\": \"Alpha\", \"label\": \"Person A\", \"age\": 31}},\n",
    "    {\"id\": \"one\", \"properties\": {\"firstName\": \"Bravo\", \"label\": \"Person B\", \"age\": 56}},\n",
    "    {\"id\": 2.0, \"properties\": {\"firstName\": \"Charlie\", \"label\": \"Person C\", \"age\": 27, \"has_hat\": False}},\n",
    "    {\"id\": True, \"properties\": {\"firstName\": \"Delta\", \"label\": \"Person D\", \"age\": 43, \"likes_pizza\": True}}\n",
    "]\n",
    "w2.edges = [\n",
    "    {\"id\": \"zero\", \"start\": 0, \"end\": \"one\", \"properties\": {\"since\": \"1992\", \"label\": \"knows\"}},\n",
    "    {\"id\": 1, \"start\": \"one\", \"end\": True, \"properties\": {\"label\": \"knows\", \"since\": \"1992\"}},\n",
    "    {\"id\": 2.0, \"start\": 2.0, \"end\": True, \"properties\": {\"label\": \"knows\", \"since\": \"1992\"}},\n",
    "    {\"id\": False, \"start\": 0, \"end\": 2.0, \"properties\": {\"label\": \"knows\", \"since\": 234}}\n",
    "]\n",
    "\n",
    "w2.node_scale_factor_mapping = lambda item: item['properties']['age'] / 35"
   ]
  },
  {
   "cell_type": "markdown",
   "id": "999f44ca-823c-4d09-b136-44473da1765a",
   "metadata": {},
   "source": [
    "Both approaches produce the same ouptut"
   ]
  },
  {
   "cell_type": "code",
   "execution_count": null,
   "id": "cc72cb90-7941-472e-bac0-1a759052955d",
   "metadata": {},
   "outputs": [],
   "source": [
    "display(w2)"
   ]
  },
  {
   "cell_type": "markdown",
   "id": "4fa81220-5164-4864-9499-85f8051b1ba5",
   "metadata": {},
   "source": [
    "## Functions with less arguments\n",
    "Next, Let's set the colors of the edges: "
   ]
  },
  {
   "cell_type": "code",
   "execution_count": null,
   "id": "5776d087-dd85-4254-97a1-bdc0b4e67c09",
   "metadata": {},
   "outputs": [],
   "source": [
    "w3 = GraphWidget()\n",
    "w3.nodes = [\n",
    "    {\"id\": 0, \"properties\": {\"firstName\": \"Alpha\", \"label\": \"Person A\", \"age\": 31}},\n",
    "    {\"id\": \"one\", \"properties\": {\"firstName\": \"Bravo\", \"label\": \"Person B\", \"age\": 56}},\n",
    "    {\"id\": 2.0, \"properties\": {\"firstName\": \"Charlie\", \"label\": \"Person C\", \"age\": 27, \"has_hat\": False}},\n",
    "    {\"id\": True, \"properties\": {\"firstName\": \"Delta\", \"label\": \"Person D\", \"age\": 43, \"likes_pizza\": True}}\n",
    "]\n",
    "w3.edges = [\n",
    "    {\"id\": \"zero\", \"start\": 0, \"end\": \"one\", \"properties\": {\"since\": \"1992\", \"label\": \"knows\"}},\n",
    "    {\"id\": 1, \"start\": \"one\", \"end\": True, \"properties\": {\"label\": \"knows\", \"since\": \"1992\"}},\n",
    "    {\"id\": 2.0, \"start\": 2.0, \"end\": True, \"properties\": {\"label\": \"knows\", \"since\": \"1992\"}},\n",
    "    {\"id\": False, \"start\": 0, \"end\": 2.0, \"properties\": {\"label\": \"knows\", \"since\": 234}}\n",
    "]\n",
    "\n",
    "custom_colors = [ '#956518', '#d13471', '#3fa670', '#8375ba' ]\n",
    "edges = w3.get_edges()\n",
    "w3.edge_color_mapping = lambda edge : custom_colors[edges.index(edge) % len(custom_colors)]\n",
    "display(w3)"
   ]
  },
  {
   "cell_type": "markdown",
   "id": "d47da27c-a5f2-4f9d-bc1e-06a4c3a52809",
   "metadata": {},
   "source": [
    "Sometimes, one doesn't even need the item argument. \\\n",
    "The following syntax is especially useful for constant values:"
   ]
  },
  {
   "cell_type": "code",
   "execution_count": null,
   "id": "b7d5ce38-01ac-4144-b616-b33614365912",
   "metadata": {},
   "outputs": [],
   "source": [
    "w3.node_color_mapping = lambda : \"#f22441\"\n",
    "display(w3)"
   ]
  },
  {
   "cell_type": "markdown",
   "id": "d3f0f63b-9ee9-45fc-a7f8-796f18bcd7a4",
   "metadata": {},
   "source": [
    "## Overloading with strings\n",
    "Now, Let's set the labels of the nodes to the first names."
   ]
  },
  {
   "cell_type": "code",
   "execution_count": null,
   "id": "45608997-4fd1-42ac-92a1-1fd2a5e90b98",
   "metadata": {},
   "outputs": [],
   "source": [
    "w4 = GraphWidget()\n",
    "w4.nodes = [\n",
    "    {\"id\": 0, \"properties\": {\"firstName\": \"Alpha\", \"label\": \"Person A\", \"age\": 31}},\n",
    "    {\"id\": \"one\", \"properties\": {\"firstName\": \"Bravo\", \"label\": \"Person B\", \"age\": 56}},\n",
    "    {\"id\": 2.0, \"properties\": {\"firstName\": \"Charlie\", \"label\": \"Person C\", \"age\": 27, \"has_hat\": False}},\n",
    "    {\"id\": True, \"properties\": {\"firstName\": \"Delta\", \"label\": \"Person D\", \"age\": 43, \"likes_pizza\": True}}\n",
    "]\n",
    "w4.edges = [\n",
    "    {\"id\": \"zero\", \"start\": 0, \"end\": \"one\", \"properties\": {\"since\": \"1992\", \"label\": \"knows\"}},\n",
    "    {\"id\": 1, \"start\": \"one\", \"end\": True, \"properties\": {\"label\": \"knows\", \"since\": \"1992\"}},\n",
    "    {\"id\": 2.0, \"start\": 2.0, \"end\": True, \"properties\": {\"label\": \"knows\", \"since\": \"1992\"}},\n",
    "    {\"id\": False, \"start\": 0, \"end\": 2.0, \"properties\": {\"label\": \"knows\", \"since\": 234}}\n",
    "]\n",
    "\n",
    "def custom_label_mapping_name(item: Dict):\n",
    "    return item['properties']['firstName']\n",
    "w4.set_node_label_mapping(custom_label_mapping_name)\n",
    "display(w4)"
   ]
  },
  {
   "cell_type": "markdown",
   "id": "a486b223-b89c-4cf2-8e26-4d907c890f2f",
   "metadata": {},
   "source": [
    "For binding to properties, the api provides an easier syntax:"
   ]
  },
  {
   "cell_type": "code",
   "execution_count": null,
   "id": "fd258b86-fe20-496f-a812-1718bc2ef1d3",
   "metadata": {},
   "outputs": [],
   "source": [
    "w4.node_label_mapping = 'firstName'\n",
    "w4.get_node_label_mapping()"
   ]
  },
  {
   "cell_type": "markdown",
   "id": "34c290df-2d1a-4bab-a2f2-56b2a3c73377",
   "metadata": {},
   "source": [
    "Now the labels are bound to the ```'firstName'``` property, which produces the same output as before"
   ]
  },
  {
   "cell_type": "code",
   "execution_count": null,
   "id": "a2f4b41d-ebae-4b97-8b87-4b80a76c412d",
   "metadata": {},
   "outputs": [],
   "source": [
    "display(w4)"
   ]
  }
 ],
 "metadata": {
  "kernelspec": {
   "display_name": "Python 3 (ipykernel)",
   "language": "python",
   "name": "python3"
  },
  "language_info": {
   "codemirror_mode": {
    "name": "ipython",
    "version": 3
   },
   "file_extension": ".py",
   "mimetype": "text/x-python",
   "name": "python",
   "nbconvert_exporter": "python",
   "pygments_lexer": "ipython3",
   "version": "3.11.3"
  }
 },
 "nbformat": 4,
 "nbformat_minor": 5
}
