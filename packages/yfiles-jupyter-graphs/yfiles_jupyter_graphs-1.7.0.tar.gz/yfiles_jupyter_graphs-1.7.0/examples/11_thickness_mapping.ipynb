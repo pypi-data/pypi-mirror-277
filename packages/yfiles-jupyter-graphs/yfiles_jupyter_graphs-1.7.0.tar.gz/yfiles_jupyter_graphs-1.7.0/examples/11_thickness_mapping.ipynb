{
 "cells": [
  {
   "cell_type": "markdown",
   "id": "99e52022-4e7f-49b7-a61f-20dcd1391719",
   "metadata": {},
   "source": [
    "# Edge Thickness Factor Mapping <a target=\"_blank\" href=\"https://colab.research.google.com/github/yWorks/yfiles-jupyter-graphs/blob/main/examples/11_thickness_mapping.ipynb\"><img src=\"https://colab.research.google.com/assets/colab-badge.svg\" alt=\"Open In Colab\"/></a>\n",
    "\n",
    "This notebook covers the basics of customizing the edge thickness factor.\n",
    "\n",
    "For the purpose of mapping demonstrations, the same graph, ```erdos_renyi_graph```, will be used. For this, we will import the graph from the NetworkX package. \\\n",
    "For more details on how to import graph data, explore the other example notebooks or refer to the full widget [documentation](https://yworks.github.io/yfiles-jupyter-graphs/). \n",
    "\n",
    "Before using the graph widget, install all necessary packages."
   ]
  },
  {
   "cell_type": "code",
   "execution_count": null,
   "id": "0d390b87-a3c4-4364-8bd8-c0d786a98a42",
   "metadata": {},
   "outputs": [],
   "source": [
    "%pip install yfiles_jupyter_graphs --quiet\n",
    "from yfiles_jupyter_graphs import GraphWidget\n",
    "%pip install networkx --quiet\n",
    "from typing import Dict\n",
    "from networkx import erdos_renyi_graph\n",
    "from random import random, seed\n",
    "seed(0)\n",
    "\n",
    "g = erdos_renyi_graph(10, 0.3, 2)\n",
    "w = GraphWidget(graph=g)"
   ]
  },
  {
   "cell_type": "markdown",
   "id": "8b19b29c-903f-4eea-b1a1-cad0618b7589",
   "metadata": {},
   "source": [
    "You can also open this notebook in Google Colab when Google Colab's custom widget manager is enabled:"
   ]
  },
  {
   "cell_type": "code",
   "execution_count": null,
   "id": "02024196-72ea-4481-b832-a04fdf5724e5",
   "metadata": {},
   "outputs": [],
   "source": [
    "try:\n",
    "  import google.colab\n",
    "  from google.colab import output\n",
    "  output.enable_custom_widget_manager()\n",
    "except:\n",
    "  pass"
   ]
  },
  {
   "cell_type": "markdown",
   "id": "f01b692b-7dab-46b7-ab92-3fe7dc31a6fb",
   "metadata": {},
   "source": [
    "<a target=\"_blank\" href=\"https://colab.research.google.com/github/yWorks/yfiles-jupyter-graphs/blob/main/examples/11_thickness_mapping.ipynb\"><img src=\"https://colab.research.google.com/assets/colab-badge.svg\" alt=\"Open In Colab\"/></a>"
   ]
  },
  {
   "cell_type": "markdown",
   "id": "b6cf50fe-6251-4993-89d0-cd1da76945b4",
   "metadata": {},
   "source": [
    "This is the graph we will be working on: "
   ]
  },
  {
   "cell_type": "code",
   "execution_count": null,
   "id": "62d381bd-271b-40c5-b1bf-2973f4e28e4b",
   "metadata": {},
   "outputs": [],
   "source": [
    "display(w)"
   ]
  },
  {
   "cell_type": "markdown",
   "id": "fc4ec447-7424-4a11-bf8a-a167fcc5d1ef",
   "metadata": {},
   "source": [
    "## Mapping function\n",
    "\n",
    "The edge thickness factor mapping is a function that is supposed to return a thickness factor for each given edge object which is then used in the widget.\n",
    "\n",
    "If the index is used, it can be optionally given as the first function parameter. \n",
    "\n",
    "We will randomly change the thickness of edges.\n",
    "For this we first define a new mapping function and then set this function as our current thickness factor mapping."
   ]
  },
  {
   "cell_type": "code",
   "execution_count": null,
   "id": "badccc44-2896-45fc-b3be-4a875c6e3a55",
   "metadata": {},
   "outputs": [],
   "source": [
    "def custom_factor_mapping(node: Dict):\n",
    "    \"\"\"choose random factor\"\"\"\n",
    "    return 2 * random()"
   ]
  },
  {
   "cell_type": "markdown",
   "id": "686bbf44-f138-4951-a7f7-f07b5b9a485b",
   "metadata": {},
   "source": [
    "### Custom edge mappings\n",
    "\n",
    "There are get and set methods for each customizable edge property.\n",
    "- you can set a new edge mapping with ```w.set_edge_[binding]_mapping```\n",
    "- you can get the current edge mapping with ```w.get_edge_[binding]_mapping```\n",
    "- you can delete a custom edge mapping with ```w.del_edge_[binding]_mapping```\n",
    "\n",
    "You can find more details in the dedicated function documentation, available at ```w.[function_name].__doc__``` or in the [documentation](https://yworks.github.io/yfiles-jupyter-graphs/02_graph_widget/#methods).\n",
    "\n",
    "If no custom mapping is set the default mappings are used."
   ]
  },
  {
   "cell_type": "code",
   "execution_count": null,
   "id": "a0936353-5e1f-4459-b9a2-944909d14337",
   "metadata": {},
   "outputs": [],
   "source": [
    "print(w.edge_thickness_factor_mapping.__doc__)"
   ]
  },
  {
   "cell_type": "code",
   "execution_count": null,
   "id": "b9c0fcc7-55b4-495b-b103-f5bea2178220",
   "metadata": {},
   "outputs": [],
   "source": [
    "w.get_edge_thickness_factor_mapping()"
   ]
  },
  {
   "cell_type": "markdown",
   "id": "b961fcd0-d4d6-44db-ab8a-e7f8d1f69fb4",
   "metadata": {},
   "source": [
    "Let's change the thickness factor:"
   ]
  },
  {
   "cell_type": "code",
   "execution_count": null,
   "id": "8cb56a04-1351-4e4a-8e84-f38e8ac7ce96",
   "metadata": {},
   "outputs": [],
   "source": [
    "w.set_edge_thickness_factor_mapping(custom_factor_mapping)\n",
    "w.get_edge_thickness_factor_mapping()"
   ]
  },
  {
   "cell_type": "code",
   "execution_count": null,
   "id": "e321a3bf-aefe-4e55-8f36-b199f956ed53",
   "metadata": {},
   "outputs": [],
   "source": [
    "display(w)"
   ]
  },
  {
   "cell_type": "markdown",
   "id": "f685e88c-2bcb-4191-9603-fbc9621768ed",
   "metadata": {},
   "source": [
    "If a edge thickness factor mapping is deleted, the thickness factor mapping reverts back to the default mapping."
   ]
  },
  {
   "cell_type": "code",
   "execution_count": null,
   "id": "c1e5dd8c-89d9-4d64-a3a4-a3779c4f2dc5",
   "metadata": {},
   "outputs": [],
   "source": [
    "w.del_edge_thickness_factor_mapping()\n",
    "w.get_edge_thickness_factor_mapping()"
   ]
  }
 ],
 "metadata": {
  "kernelspec": {
   "display_name": "Python 3 (ipykernel)",
   "language": "python",
   "name": "python3"
  },
  "language_info": {
   "codemirror_mode": {
    "name": "ipython",
    "version": 3
   },
   "file_extension": ".py",
   "mimetype": "text/x-python",
   "name": "python",
   "nbconvert_exporter": "python",
   "pygments_lexer": "ipython3",
   "version": "3.11.3"
  }
 },
 "nbformat": 4,
 "nbformat_minor": 5
}
