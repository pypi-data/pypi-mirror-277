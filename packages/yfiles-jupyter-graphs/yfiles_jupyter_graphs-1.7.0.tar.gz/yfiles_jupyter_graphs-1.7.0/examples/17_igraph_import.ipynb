{
 "cells": [
  {
   "cell_type": "markdown",
   "id": "4cc79916-98aa-4d1e-bd5f-94eb03ef51cc",
   "metadata": {},
   "source": [
    "# Visualizing IGraph graphs in yFiles Graphs for Jupyter <a target=\"_blank\" href=\"https://colab.research.google.com/github/yWorks/yfiles-jupyter-graphs/blob/main/examples/17_igraph_import.ipynb\"><img src=\"https://colab.research.google.com/assets/colab-badge.svg\" alt=\"Open In Colab\"/></a>"
   ]
  },
  {
   "cell_type": "markdown",
   "id": "c6588ec8-b229-4ca1-9cde-cc3aa8e50cbb",
   "metadata": {},
   "source": [
    "Before using the graph widget, install all necessary packages."
   ]
  },
  {
   "cell_type": "code",
   "execution_count": null,
   "id": "308bda31-f1e5-441c-afe8-291743b19970",
   "metadata": {},
   "outputs": [],
   "source": [
    "%pip install yfiles_jupyter_graphs --quiet\n",
    "%pip install igraph --quiet\n",
    "from typing import Dict\n",
    "from igraph import Graph\n",
    "from yfiles_jupyter_graphs import GraphWidget"
   ]
  },
  {
   "cell_type": "markdown",
   "id": "ae5b3eea-3fca-4c9b-b2bf-5f4b7b4b399e",
   "metadata": {},
   "source": [
    "You can also open this notebook in Google Colab when Google Colab's custom widget manager is enabled:"
   ]
  },
  {
   "cell_type": "code",
   "execution_count": null,
   "id": "dc224c8f-49f5-42e7-b015-b96fbbd27970",
   "metadata": {},
   "outputs": [],
   "source": [
    "try:\n",
    "  import google.colab\n",
    "  from google.colab import output\n",
    "  output.enable_custom_widget_manager()\n",
    "except:\n",
    "  pass"
   ]
  },
  {
   "cell_type": "markdown",
   "id": "b8226994-22e2-4e91-a7ec-3b9dd535c5e4",
   "metadata": {},
   "source": [
    "<a target=\"_blank\" href=\"https://colab.research.google.com/github/yWorks/yfiles-jupyter-graphs/blob/main/examples/17_igraph_import.ipynb\"><img src=\"https://colab.research.google.com/assets/colab-badge.svg\" alt=\"Open In Colab\"/></a>"
   ]
  },
  {
   "cell_type": "markdown",
   "id": "2b2ad4bf-a516-4eaa-80a7-7dfd98bcf88c",
   "metadata": {},
   "source": [
    "## How to import a graph\n",
    "- either import the graph directly when initilizing: ```GraphWidget(graph=your_graph)```\n",
    "- or use the ```w.import_graph(your_graph)``` function, if you already initilized a Widget called ```w```\n",
    "\n",
    "## Notes about IGraph importer\n",
    "- Nodes and edges are identified by index attribute.\n",
    "-  Node and edge properties are provided through attributes method.\n",
    "-  Edges are determined by source and target attribute.\n",
    "-  Any additional data is stored in ```properties```\n",
    "\n",
    "## Import graph from tutorial\n",
    "https://igraph.org/python/tutorial/latest/tutorial.html"
   ]
  },
  {
   "cell_type": "code",
   "execution_count": null,
   "id": "2b183c0f-a452-4d37-a759-88e0207b24e0",
   "metadata": {},
   "outputs": [],
   "source": [
    "g = Graph()\n",
    "g.add_vertices(3)\n",
    "g.add_edges([(0,1), (1,2)])\n",
    "g.add_edges([(2, 0)])\n",
    "g.add_vertices(3)\n",
    "g.add_edges([(2, 3), (3, 4), (4, 5), (5, 3)])\n",
    "display(GraphWidget(graph=g))"
   ]
  },
  {
   "cell_type": "code",
   "execution_count": null,
   "id": "af0601c1-f95e-4ac5-8c04-1ffc1659e3d2",
   "metadata": {},
   "outputs": [],
   "source": [
    "f = Graph([(0,1), (0,2), (2,3), (3,4), (4,2), (2,5), (5,0), (6,3), (5,6)])\n",
    "f.vs[\"name\"] = [\"Alice\", \"Bob\", \"Claire\", \"Dennis\", \"Esther\", \"Frank\", \"George\"]\n",
    "f.vs[\"age\"] = [25, 31, 18, 47, 22, 23, 50]\n",
    "f.vs[\"gender\"] = [\"f\", \"m\", \"f\", \"m\", \"f\", \"m\", \"m\"]\n",
    "f.es[\"is_formal\"] = [False, False, True, True, True, False, True, False, False]\n",
    "\n",
    "w = GraphWidget(graph=f)\n",
    "display(w)"
   ]
  },
  {
   "cell_type": "markdown",
   "id": "ddab99cf-3d72-4714-a91c-6bdacbe40d8b",
   "metadata": {},
   "source": [
    "### Using imported data\n",
    "\n",
    "To use the additional data in ```properties``` we will use the ```is_formal``` key to determine edge directions and the ```gender``` for the node type mapping. \n",
    "\n",
    "To access the 'properties' data, you can use the data key in squared brackets: ```['properties']['key'] ```\n",
    "\n",
    "Possible keys for nodes in this example are 'name', 'age' and 'gender'\n",
    "\n",
    "To visualize all properties, we remove any additional node data except the properties"
   ]
  },
  {
   "cell_type": "code",
   "execution_count": null,
   "id": "b34a0545-c78b-43c3-9900-17070cf641f9",
   "metadata": {},
   "outputs": [],
   "source": [
    "properties = [node['properties'] for node in w.nodes]\n",
    "formattedProperties = ''.join(f\"{node}\\n\" for node in properties)\n",
    "print(formattedProperties)"
   ]
  },
  {
   "cell_type": "markdown",
   "id": "c888eb11-585b-40da-b9b9-3d3a3c66524a",
   "metadata": {},
   "source": [
    "Since the type binding only accepts numbers, we'll need to convert the gender to a numerical representation:"
   ]
  },
  {
   "cell_type": "code",
   "execution_count": null,
   "id": "94220416-3397-4c20-88db-5ea3776078e5",
   "metadata": {},
   "outputs": [],
   "source": [
    "w.node_type_mapping = lambda node: 1 if node['properties']['gender'] == 'f' else (2 if node['properties']['gender'] == 'm' else 3)\n",
    "\n",
    "w.directed_mapping = 'is_formal'\n",
    "\n",
    "w.node_label_mapping = lambda node: node['properties'][\"name\"]\n",
    "\n",
    "display(w)"
   ]
  }
 ],
 "metadata": {
  "kernelspec": {
   "display_name": "Python 3 (ipykernel)",
   "language": "python",
   "name": "python3"
  },
  "language_info": {
   "codemirror_mode": {
    "name": "ipython",
    "version": 3
   },
   "file_extension": ".py",
   "mimetype": "text/x-python",
   "name": "python",
   "nbconvert_exporter": "python",
   "pygments_lexer": "ipython3",
   "version": "3.11.3"
  }
 },
 "nbformat": 4,
 "nbformat_minor": 5
}
