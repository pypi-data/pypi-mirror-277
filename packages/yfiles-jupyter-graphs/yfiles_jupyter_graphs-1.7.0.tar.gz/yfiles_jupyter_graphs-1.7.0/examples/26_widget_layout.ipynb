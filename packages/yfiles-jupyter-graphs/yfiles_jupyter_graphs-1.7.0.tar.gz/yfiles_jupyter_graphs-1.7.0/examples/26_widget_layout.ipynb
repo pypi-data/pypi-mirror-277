{
 "cells": [
  {
   "cell_type": "markdown",
   "id": "bb044a7c-5aaf-4f13-b5e8-dfb50d40bdd9",
   "metadata": {},
   "source": [
    "# Configure Widget Layout <a target=\"_blank\" href=\"https://colab.research.google.com/github/yWorks/yfiles-jupyter-graphs/blob/main/examples/26_widget_layout.ipynb\"><img src=\"https://colab.research.google.com/assets/colab-badge.svg\" alt=\"Open In Colab\"/></a>\n",
    "\n",
    "**This layout does not change the graph but the height and width of the output window.**\n",
    "\n",
    "Before using the graph widget, install all necessary packages."
   ]
  },
  {
   "cell_type": "code",
   "execution_count": null,
   "id": "0c4efcb9-22f6-48b4-9683-24398177f026",
   "metadata": {},
   "outputs": [],
   "source": [
    "%pip install yfiles_jupyter_graphs --quiet\n",
    "%pip install networkx --quiet\n",
    "from ipywidgets import Layout\n",
    "from networkx import florentine_families_graph\n",
    "from yfiles_jupyter_graphs import GraphWidget"
   ]
  },
  {
   "cell_type": "markdown",
   "id": "901a1da5-766d-47e0-a2ce-c75082cdbd80",
   "metadata": {},
   "source": [
    "You can also open this notebook in Google Colab when Google Colab's custom widget manager is enabled:"
   ]
  },
  {
   "cell_type": "code",
   "execution_count": null,
   "id": "4db4f3d3-da8b-49f8-87c4-42f8bce8df0a",
   "metadata": {},
   "outputs": [],
   "source": [
    "try:\n",
    "  import google.colab\n",
    "  from google.colab import output\n",
    "  output.enable_custom_widget_manager()\n",
    "except:\n",
    "  pass"
   ]
  },
  {
   "cell_type": "markdown",
   "id": "ca5461a0-1301-4458-ba81-41b5fc1df90f",
   "metadata": {},
   "source": [
    "<a target=\"_blank\" href=\"https://colab.research.google.com/github/yWorks/yfiles-jupyter-graphs/blob/main/examples/26_widget_layout.ipynb\"><img src=\"https://colab.research.google.com/assets/colab-badge.svg\" alt=\"Open In Colab\"/></a>"
   ]
  },
  {
   "cell_type": "markdown",
   "id": "e7490b70-c535-451b-bb93-0c26b0a0aec2",
   "metadata": {},
   "source": [
    "## Default Widget Layout Configuration\n",
    "\n",
    "The Layout starts with 500px height and 100% width:"
   ]
  },
  {
   "cell_type": "code",
   "execution_count": null,
   "id": "a2c43b9f-f0f8-4625-ae7c-ae5a756c4323",
   "metadata": {},
   "outputs": [],
   "source": [
    "w = GraphWidget(graph=florentine_families_graph())\n",
    "display(w)"
   ]
  },
  {
   "cell_type": "markdown",
   "id": "db19566f-9d2d-4071-9098-97a5d16fca6c",
   "metadata": {},
   "source": [
    "Let's make the layout smaller:"
   ]
  },
  {
   "cell_type": "code",
   "execution_count": null,
   "id": "c95b6a40-4fd2-40b8-b2c5-31cf96b5bcc9",
   "metadata": {},
   "outputs": [],
   "source": [
    "w2 = GraphWidget(Layout(height='200px', width='80%'), graph = florentine_families_graph())\n",
    "display(w2)"
   ]
  },
  {
   "cell_type": "markdown",
   "id": "1ca20f1c-e549-4f89-a826-b6759cc7c34b",
   "metadata": {},
   "source": [
    "Note: The `height` cannot be specified by percentage because parent DOM element has no specified height itself. Therefore the height has to be specified in pixels:"
   ]
  },
  {
   "cell_type": "code",
   "execution_count": null,
   "id": "1c5f974c-2b68-46b1-a98c-94e52858f585",
   "metadata": {},
   "outputs": [],
   "source": [
    "w3 = GraphWidget(Layout(height='120%', width='700px'), graph = florentine_families_graph())\n",
    "display(w3)"
   ]
  }
 ],
 "metadata": {
  "kernelspec": {
   "display_name": "Python 3 (ipykernel)",
   "language": "python",
   "name": "python3"
  },
  "language_info": {
   "codemirror_mode": {
    "name": "ipython",
    "version": 3
   },
   "file_extension": ".py",
   "mimetype": "text/x-python",
   "name": "python",
   "nbconvert_exporter": "python",
   "pygments_lexer": "ipython3",
   "version": "3.11.3"
  }
 },
 "nbformat": 4,
 "nbformat_minor": 5
}
