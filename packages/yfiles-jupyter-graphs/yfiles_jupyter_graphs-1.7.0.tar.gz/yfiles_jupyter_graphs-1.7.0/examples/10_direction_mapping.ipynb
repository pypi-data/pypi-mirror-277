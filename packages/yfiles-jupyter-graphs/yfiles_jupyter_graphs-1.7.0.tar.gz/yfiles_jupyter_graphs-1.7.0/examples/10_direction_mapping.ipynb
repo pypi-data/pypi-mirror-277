{
 "cells": [
  {
   "cell_type": "markdown",
   "id": "70865006-0292-4cdf-a82e-f34b1a0376f5",
   "metadata": {},
   "source": [
    "# Edge Direction Mapping <a target=\"_blank\" href=\"https://colab.research.google.com/github/yWorks/yfiles-jupyter-graphs/blob/main/examples/10_direction_mapping.ipynb\"><img src=\"https://colab.research.google.com/assets/colab-badge.svg\" alt=\"Open In Colab\"/></a>"
   ]
  },
  {
   "cell_type": "markdown",
   "id": "581c3ddd-7a60-4842-a4e2-c3af65d4d9b4",
   "metadata": {},
   "source": [
    "This notebook covers the basics of customizing edge directions.\n",
    "\n",
    "A direction is a boolean, it can only have one of two values: \n",
    "- `True` (The edge is directed from start to end)\n",
    "- `False` (The edge is undirected)\n",
    "\n",
    "For the purpose of mapping demonstrations, the same graph, ```erdos_renyi_graph```, will be used. For this, we will import the graph from the NetworkX package. \\\n",
    "For more details on how to import graph data, explore the other example notebooks or refer to the full widget [documentation](https://yworks.github.io/yfiles-jupyter-graphs/).\n",
    "\n",
    "Before using the graph widget, install all necessary packages."
   ]
  },
  {
   "cell_type": "code",
   "execution_count": null,
   "id": "398b6aa8-c4ed-4870-a469-bc1b4e7b7e19",
   "metadata": {},
   "outputs": [],
   "source": [
    "%pip install yfiles_jupyter_graphs --quiet\n",
    "from yfiles_jupyter_graphs import GraphWidget\n",
    "%pip install networkx --quiet\n",
    "from typing import Dict\n",
    "from networkx import erdos_renyi_graph\n",
    "from random import random, seed\n",
    "seed(0)\n",
    "\n",
    "g = erdos_renyi_graph(10, 0.3, 2)\n",
    "w = GraphWidget(graph=g)"
   ]
  },
  {
   "cell_type": "markdown",
   "id": "0b575a84-7aaa-46cf-853d-5de53ea437d3",
   "metadata": {},
   "source": [
    "You can also open this notebook in Google Colab when Google Colab's custom widget manager is enabled:"
   ]
  },
  {
   "cell_type": "code",
   "execution_count": null,
   "id": "93c169ac-0019-4a89-84d3-c4b602bbc153",
   "metadata": {},
   "outputs": [],
   "source": [
    "try:\n",
    "  import google.colab\n",
    "  from google.colab import output\n",
    "  output.enable_custom_widget_manager()\n",
    "except:\n",
    "  pass"
   ]
  },
  {
   "cell_type": "markdown",
   "id": "d34c3b6c-1da4-444b-9c18-42fc5279572c",
   "metadata": {},
   "source": [
    "<a target=\"_blank\" href=\"https://colab.research.google.com/github/yWorks/yfiles-jupyter-graphs/blob/main/examples/10_direction_mapping.ipynb\"><img src=\"https://colab.research.google.com/assets/colab-badge.svg\" alt=\"Open In Colab\"/></a>"
   ]
  },
  {
   "cell_type": "markdown",
   "id": "1e84ed97-cff3-49ac-a4cc-eb6aba76f1f7",
   "metadata": {},
   "source": [
    "This is the graph we will be working with: "
   ]
  },
  {
   "cell_type": "code",
   "execution_count": null,
   "id": "d7cafa9b-b5fd-47ae-b3b6-01a883520eca",
   "metadata": {},
   "outputs": [],
   "source": [
    "display(w)"
   ]
  },
  {
   "cell_type": "markdown",
   "id": "51174db6-5416-4a04-887e-1235a0c45382",
   "metadata": {},
   "source": [
    "## Mapping function\n",
    "\n",
    "The edge direction mapping is a function that determines for each edge whether it should visualize its direction.\n",
    "\n",
    "If the index is used, it can be optionally given as the first function parameter. \n",
    "\n",
    "We will randomly direct some edges in the graph.\\\n",
    "For this we first define a new mapping function and then set this function as our current direction mapping."
   ]
  },
  {
   "cell_type": "code",
   "execution_count": null,
   "id": "0d918c4a-5745-497a-a42b-55efda0b40c9",
   "metadata": {},
   "outputs": [],
   "source": [
    "def custom_directed_mapping(edge: Dict):\n",
    "    \"\"\"choose randomly if edge is directed\"\"\"\n",
    "    return random() < 0.5"
   ]
  },
  {
   "cell_type": "markdown",
   "id": "9a779ab1-fed3-45bd-952e-c5642928aa9a",
   "metadata": {},
   "source": [
    "### Custom edge mappings\n",
    "\n",
    "There are get and set methods for each customizable edge property.\n",
    "- you can set a new edge mapping with ```w.set_edge_[binding]_mapping```\n",
    "- you can get the current edge mapping with ```w.get_edge_[binding]_mapping```\n",
    "- you can delete a custom edge mapping with ```w.del_edge_[binding]_mapping```\n",
    "\n",
    "You can find more details in the dedicated function documentation, available at ```w.[function_name].__doc__``` or in the [documentation](https://yworks.github.io/yfiles-jupyter-graphs/02_graph_widget/#methods).\n",
    "\n",
    "If no custom mapping is set the default mappings are used."
   ]
  },
  {
   "cell_type": "code",
   "execution_count": null,
   "id": "4ab2314d-c58a-43d1-9955-5216b21ed4fd",
   "metadata": {},
   "outputs": [],
   "source": [
    "print(w.directed_mapping.__doc__)"
   ]
  },
  {
   "cell_type": "code",
   "execution_count": null,
   "id": "bc44f305-b640-41fc-a013-4631aebbc67d",
   "metadata": {},
   "outputs": [],
   "source": [
    "w.get_directed_mapping()"
   ]
  },
  {
   "cell_type": "markdown",
   "id": "fb7d9982-8773-4b15-8762-0eec2fc94b58",
   "metadata": {},
   "source": [
    "Let's change the direction of some edges: "
   ]
  },
  {
   "cell_type": "code",
   "execution_count": null,
   "id": "cb210e8c-f561-4497-8bfe-df3f8828d4fb",
   "metadata": {},
   "outputs": [],
   "source": [
    "w.set_directed_mapping(custom_directed_mapping)\n",
    "w.get_directed_mapping()"
   ]
  },
  {
   "cell_type": "markdown",
   "id": "3b65b05a-3bda-4aa5-90a6-10aa8208ddf1",
   "metadata": {},
   "source": [
    "You may have to zoom in to clearly differentiate the directed from the undirected edges"
   ]
  },
  {
   "cell_type": "code",
   "execution_count": null,
   "id": "b8e47f79-044a-4cff-91ca-05e82b5a67a5",
   "metadata": {},
   "outputs": [],
   "source": [
    "display(w)"
   ]
  },
  {
   "cell_type": "markdown",
   "id": "cb0eed96-e523-4875-b0dd-d68a08555603",
   "metadata": {},
   "source": [
    "If a edge direction mapping is deleted, the direction mapping reverts back to the default mapping."
   ]
  },
  {
   "cell_type": "code",
   "execution_count": null,
   "id": "3f953cac-c781-43e4-9b43-2b8a5537a384",
   "metadata": {},
   "outputs": [],
   "source": [
    "w.del_directed_mapping()\n",
    "w.get_directed_mapping()"
   ]
  }
 ],
 "metadata": {
  "kernelspec": {
   "display_name": "Python 3 (ipykernel)",
   "language": "python",
   "name": "python3"
  },
  "language_info": {
   "codemirror_mode": {
    "name": "ipython",
    "version": 3
   },
   "file_extension": ".py",
   "mimetype": "text/x-python",
   "name": "python",
   "nbconvert_exporter": "python",
   "pygments_lexer": "ipython3",
   "version": "3.11.3"
  }
 },
 "nbformat": 4,
 "nbformat_minor": 5
}
