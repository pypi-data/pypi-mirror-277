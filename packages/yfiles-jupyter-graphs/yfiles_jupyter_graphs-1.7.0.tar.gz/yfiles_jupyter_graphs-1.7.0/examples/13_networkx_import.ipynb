{
 "cells": [
  {
   "cell_type": "markdown",
   "id": "afbb43bc-a9ab-4322-9a07-5e34ec791d77",
   "metadata": {},
   "source": [
    "# Visualizing Networkx graphs in yFiles Graphs for Jupyter <a target=\"_blank\" href=\"https://colab.research.google.com/github/yWorks/yfiles-jupyter-graphs/blob/main/examples/13_networkx_import.ipynb\"><img src=\"https://colab.research.google.com/assets/colab-badge.svg\" alt=\"Open In Colab\"/></a>"
   ]
  },
  {
   "cell_type": "markdown",
   "id": "9aa5ae97-32d4-49c3-a914-899fd359e299",
   "metadata": {},
   "source": [
    "Before using the graph widget, install all necessary packages."
   ]
  },
  {
   "cell_type": "code",
   "execution_count": null,
   "id": "4d4bbd0b-30b9-4dbd-8d36-2115a4e4af7d",
   "metadata": {},
   "outputs": [],
   "source": [
    "%pip install yfiles_jupyter_graphs --quiet\n",
    "%pip install networkx --quiet\n",
    "from networkx import Graph, DiGraph, MultiGraph, MultiDiGraph, path_graph, karate_club_graph\n",
    "from yfiles_jupyter_graphs import GraphWidget"
   ]
  },
  {
   "cell_type": "markdown",
   "id": "16e47873-e31e-46e0-80f9-6514819a44fe",
   "metadata": {},
   "source": [
    "You can also open this notebook in Google Colab when Google Colab's custom widget manager is enabled:"
   ]
  },
  {
   "cell_type": "code",
   "execution_count": null,
   "id": "64516534-c09e-4f96-984f-7d6b26dde6f7",
   "metadata": {},
   "outputs": [],
   "source": [
    "try:\n",
    "  import google.colab\n",
    "  from google.colab import output\n",
    "  output.enable_custom_widget_manager()\n",
    "except:\n",
    "  pass"
   ]
  },
  {
   "cell_type": "markdown",
   "id": "3d367f22-0f34-49c7-b224-5e0a1e3937d1",
   "metadata": {},
   "source": [
    "<a target=\"_blank\" href=\"https://colab.research.google.com/github/yWorks/yfiles-jupyter-graphs/blob/main/examples/13_networkx_import.ipynb\"><img src=\"https://colab.research.google.com/assets/colab-badge.svg\" alt=\"Open In Colab\"/></a>"
   ]
  },
  {
   "cell_type": "markdown",
   "id": "d27114d0-2133-4c6f-87c1-f049e56448c6",
   "metadata": {},
   "source": [
    "## How to import a graph\n",
    "- either import the graph directly when initilizing: ```GraphWidget(graph=your_graph)```\n",
    "- or use the ```w.import_graph(your_graph)``` function, if you already initilized a Widget called ```w```"
   ]
  },
  {
   "cell_type": "markdown",
   "id": "4450f8a7-3444-4e4b-bc39-678ac09ddedf",
   "metadata": {},
   "source": [
    "## Notes about NetworkX importer \n",
    "- graph attributes are ignored\n",
    "- node identifiers are saved under property `label` (or `yf_label` if key `label` already exists)\n",
    "- subgraphs (graph as node, see networx docs) are not supported\n",
    "- any additional data is stored in ```properties``` "
   ]
  },
  {
   "cell_type": "markdown",
   "id": "864ff6dd-fa00-4a3e-a32d-6781c00e7202",
   "metadata": {},
   "source": [
    "### Import undirected graph with self loops\n",
    "https://networkx.org/documentation/stable/reference/classes/graph.html"
   ]
  },
  {
   "cell_type": "code",
   "execution_count": null,
   "id": "da205fc6-af88-4dbe-9d2d-23beb6f66e3e",
   "metadata": {},
   "outputs": [],
   "source": [
    "def make_graph(graph_class):\n",
    "    G = graph_class(day=\"Friday\")\n",
    "    G.add_node(\"origin\")\n",
    "    G.add_node(1)\n",
    "    G.add_nodes_from([2, 3])\n",
    "    H = path_graph(10)\n",
    "    G.add_nodes_from(H)\n",
    "    G.add_edge(1, 2)\n",
    "    G.add_edges_from([(1, 2), (1, 3)])\n",
    "    G.add_edges_from(H.edges)\n",
    "    G.add_node(1, time=\"5pm\")\n",
    "    G.add_nodes_from([3], time=\"2pm\")\n",
    "    for n in G.nodes:\n",
    "        G.add_edge(\"origin\", n)\n",
    "    G.nodes[1][\"room\"] = 714\n",
    "    G.add_edge(1, 2, weight=4.7)\n",
    "    G.add_edges_from([(3, 4), (4, 5)], color=\"red\")\n",
    "    G.add_edges_from([(1, 2, {\"color\": \"blue\"}), (2, 3, {\"weight\": 8})])\n",
    "    G[1][2][\"weight\"] = 4.7\n",
    "    G.edges[1, 2][\"weight\"] = 4\n",
    "    return G\n",
    "display(GraphWidget(graph=make_graph(Graph)))"
   ]
  },
  {
   "cell_type": "markdown",
   "id": "40d439fc-7406-4435-b043-32534ebc23ce",
   "metadata": {},
   "source": [
    "### import directed graph with self loops\n",
    "https://networkx.org/documentation/stable/reference/classes/digraph.html"
   ]
  },
  {
   "cell_type": "code",
   "execution_count": null,
   "id": "37dfb8b1-a22d-4ca8-922d-be5de5455e0e",
   "metadata": {},
   "outputs": [],
   "source": [
    "display(GraphWidget(graph=make_graph(DiGraph)))"
   ]
  },
  {
   "cell_type": "markdown",
   "id": "c4a3a547-4e02-4f29-9343-5dbd1b9ea0f3",
   "metadata": {},
   "source": [
    "### import undirected graph with self loops and parallel edges\n",
    "https://networkx.org/documentation/stable/reference/classes/multigraph.html"
   ]
  },
  {
   "cell_type": "code",
   "execution_count": null,
   "id": "487e2f91-9be8-41e7-b26f-23cd0de5291e",
   "metadata": {},
   "outputs": [],
   "source": [
    "def make_graph_(graph_class):\n",
    "    G = graph_class(day=\"Friday\")\n",
    "    G.add_node(\"origin\")\n",
    "    G.add_node(1)\n",
    "    G.add_nodes_from([2, 3])\n",
    "    H = path_graph(10)\n",
    "    G.add_nodes_from(H)\n",
    "    G.add_edge(1, 2)\n",
    "    G.add_edges_from([(1, 2), (1, 3)])\n",
    "    G.add_edges_from(H.edges)\n",
    "    G.add_node(1, time=\"5pm\")\n",
    "    G.add_nodes_from([3], time=\"2pm\")\n",
    "    for n in G.nodes:\n",
    "        G.add_edge(\"origin\", n)\n",
    "    G.add_edges_from([(4, 5, dict(route=282)), (4, 5, dict(route=37))])\n",
    "    G.add_edge(1, 2, weight=4.7)\n",
    "    G.add_edges_from([(3, 4), (4, 5)], color=\"red\")\n",
    "    G.add_edges_from([(1, 2, {\"color\": \"blue\"}), (2, 3, {\"weight\": 8})])\n",
    "    G[1][2][0][\"weight\"] = 4.7\n",
    "    G.edges[1, 2, 0][\"weight\"] = 4\n",
    "    return G\n",
    "display(GraphWidget(graph=make_graph_(MultiGraph)))"
   ]
  },
  {
   "cell_type": "markdown",
   "id": "f940c0c5-8d34-4a39-ac52-2a884e69ad47",
   "metadata": {},
   "source": [
    "### Import directed graph with self loops and parallel edges\n",
    "https://networkx.org/documentation/stable/reference/classes/multidigraph.html"
   ]
  },
  {
   "cell_type": "code",
   "execution_count": null,
   "id": "d50c0882-e673-4997-89bf-eb60632064cd",
   "metadata": {},
   "outputs": [],
   "source": [
    "display(GraphWidget(graph=make_graph_(MultiDiGraph)))"
   ]
  },
  {
   "cell_type": "markdown",
   "id": "5e702e7d-67d7-4815-b305-2b78c5871c0c",
   "metadata": {},
   "source": [
    "The resulting graph has properties that are not displayed by simply importing the graph. \\\n",
    "You can access this data by looking at the nodes and edges data: "
   ]
  },
  {
   "cell_type": "code",
   "execution_count": null,
   "id": "9b9a4ea1-eccf-4ad0-b266-828d96f0320b",
   "metadata": {},
   "outputs": [],
   "source": [
    "w = GraphWidget(graph=make_graph(Graph))\n",
    "w.edges"
   ]
  },
  {
   "cell_type": "markdown",
   "id": "0a5d25c2-643b-48f3-8136-28aefac4cafe",
   "metadata": {},
   "source": [
    "### Using graph data\n",
    "\n",
    "To access the 'properties' data, you can use the data key in squared brackets: ```['properties']['key'] ```\n",
    "\n",
    "Possible keys in this example are 'weight' and 'color'"
   ]
  },
  {
   "cell_type": "code",
   "execution_count": null,
   "id": "56147fb6-5a95-40cc-94c1-8962075ce774",
   "metadata": {},
   "outputs": [],
   "source": [
    "formattedProperties = ''.join(f\"Edge {edge['id']}: {edge}\\n\" for edge in w.edges)\n",
    "print(formattedProperties)"
   ]
  },
  {
   "cell_type": "markdown",
   "id": "b65f203c-280c-4664-8da8-a9ad211cde8b",
   "metadata": {},
   "source": [
    "Let's use the 'color' key in properties to turn some edges blue and red. "
   ]
  },
  {
   "cell_type": "code",
   "execution_count": null,
   "id": "6139a3ee-ce54-41d8-9951-469db637ace7",
   "metadata": {},
   "outputs": [],
   "source": [
    "w.edge_color_mapping = 'color'\n",
    "display(w)"
   ]
  }
 ],
 "metadata": {
  "kernelspec": {
   "display_name": "Python 3 (ipykernel)",
   "language": "python",
   "name": "python3"
  },
  "language_info": {
   "codemirror_mode": {
    "name": "ipython",
    "version": 3
   },
   "file_extension": ".py",
   "mimetype": "text/x-python",
   "name": "python",
   "nbconvert_exporter": "python",
   "pygments_lexer": "ipython3",
   "version": "3.11.3"
  }
 },
 "nbformat": 4,
 "nbformat_minor": 5
}
