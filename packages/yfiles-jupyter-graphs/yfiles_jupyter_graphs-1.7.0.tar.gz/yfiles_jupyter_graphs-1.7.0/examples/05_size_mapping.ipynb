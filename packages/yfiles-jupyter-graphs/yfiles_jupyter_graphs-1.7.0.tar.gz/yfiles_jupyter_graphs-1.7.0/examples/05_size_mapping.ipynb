{
 "cells": [
  {
   "cell_type": "markdown",
   "id": "234a60b7-7d2e-4365-8189-8ead06599838",
   "metadata": {},
   "source": [
    "# Node Dimension Mapping <a target=\"_blank\" href=\"https://colab.research.google.com/github/yWorks/yfiles-jupyter-graphs/blob/main/examples/05_size_mapping.ipynb\"><img src=\"https://colab.research.google.com/assets/colab-badge.svg\" alt=\"Open In Colab\"/></a>\n",
    "\n",
    "This notebook covers the basics of customizing node size and node scale factors.\n",
    "\n",
    "A node size has 2 values:\n",
    "- width\n",
    "- height\n",
    "\n",
    "The size binding is closely related to the scale factor mapping and layout mapping\n",
    "\n",
    "- The scale factor is multiplied with the size of a node to retrieve the final dimensions of a node. \n",
    "- It achieves the same result either by doubling the size of a node or by doubling the scaling factor.\n",
    "- The size mapping is overwritten by any custom node layout mapping\n",
    "\n",
    "Edges do not have a size or scale factor mapping, however they have an edge-thickness mapping, see notebook [11_thickness_mapping](./11_thickness_mapping.ipynb).\n",
    "\n",
    "For the purpose of mapping demonstrations, the same graph, ```erdos_renyi_graph```, will be used. For this, we will import the graph from the NetworkX package. \\\n",
    "For more details on how to import graph data, explore the other example notebooks or refer to the full widget [documentation](https://yworks.github.io/yfiles-jupyter-graphs/).\n",
    "\n",
    "Before using the graph widget, install all necessary packages."
   ]
  },
  {
   "cell_type": "code",
   "execution_count": null,
   "id": "15aa5228-6042-47ab-acc7-a47a82d5495e",
   "metadata": {},
   "outputs": [],
   "source": [
    "%pip install yfiles_jupyter_graphs --quiet\n",
    "from yfiles_jupyter_graphs import GraphWidget\n",
    "%pip install networkx --quiet\n",
    "from typing import Dict\n",
    "from networkx import erdos_renyi_graph\n",
    "from random import random, seed\n",
    "seed(0)\n",
    "\n",
    "g = erdos_renyi_graph(10, 0.3, 2)\n",
    "w = GraphWidget(graph=g)"
   ]
  },
  {
   "cell_type": "markdown",
   "id": "01742ec4-8a41-4a0b-a650-39bede7e76fe",
   "metadata": {},
   "source": [
    "You can also open this notebook in Google Colab when Google Colab's custom widget manager is enabled:"
   ]
  },
  {
   "cell_type": "code",
   "execution_count": null,
   "id": "8670e9e2-440a-42f8-8585-b257d0d0258a",
   "metadata": {},
   "outputs": [],
   "source": [
    "try:\n",
    "  import google.colab\n",
    "  from google.colab import output\n",
    "  output.enable_custom_widget_manager()\n",
    "except:\n",
    "  pass"
   ]
  },
  {
   "cell_type": "markdown",
   "id": "c50d207e-8022-4f10-9c36-e26657495a0d",
   "metadata": {},
   "source": [
    "<a target=\"_blank\" href=\"https://colab.research.google.com/github/yWorks/yfiles-jupyter-graphs/blob/main/examples/05_size_mapping.ipynb\"><img src=\"https://colab.research.google.com/assets/colab-badge.svg\" alt=\"Open In Colab\"/></a>"
   ]
  },
  {
   "cell_type": "markdown",
   "id": "c122c011-624f-4649-ab1d-6be38e21de7c",
   "metadata": {},
   "source": [
    "This is the graph we will be working on: "
   ]
  },
  {
   "cell_type": "code",
   "execution_count": null,
   "id": "7e503c4a-451e-4370-b32b-2b443dd9ec67",
   "metadata": {},
   "outputs": [],
   "source": [
    "display(w)"
   ]
  },
  {
   "cell_type": "markdown",
   "id": "876439be-e751-40f5-aa7c-c5981419fd63",
   "metadata": {},
   "source": [
    "### Custom node mappings\n",
    "\n",
    "There are get and set methods for each customizable node property.\n",
    "- you can set a new node mapping with ```w.set_node_[binding]_mapping```\n",
    "- you can get the current node mapping with ```w.get_node_[binding]_mapping```\n",
    "- you can delete a custom node mapping with ```w.del_node_[binding]_mapping```\n",
    "\n",
    "You can find more details in the dedicated function documentation, available at ```w.[function_name].__doc__``` or in the [documentation](https://yworks.github.io/yfiles-jupyter-graphs/02_graph_widget/#methods)."
   ]
  },
  {
   "cell_type": "code",
   "execution_count": null,
   "id": "23afed3e-a0da-4307-bc03-9b73134fa550",
   "metadata": {},
   "outputs": [],
   "source": [
    "print(w.node_scale_factor_mapping.__doc__)   "
   ]
  },
  {
   "cell_type": "code",
   "execution_count": null,
   "id": "69cd6b33-acee-4891-8e14-958dc87763d8",
   "metadata": {},
   "outputs": [],
   "source": [
    "print(w.node_size_mapping.__doc__)"
   ]
  },
  {
   "cell_type": "markdown",
   "id": "a720eb6b-03a9-4e5e-ac6c-6d9074667fca",
   "metadata": {},
   "source": [
    "## Node Scale Factor Mapping\n",
    "\n",
    "The node scale factor mapping is a function that is supposed to return a scale factor for each given node object which is then used in the widget.\n",
    "\n",
    "Optionally, the index can be used as the first function parameter.\n",
    "\n",
    "We will randomly assign a new scale factor for each node. \\\n",
    "For this we first define a new mapping function and then set this function as our current scale factor mapping."
   ]
  },
  {
   "cell_type": "code",
   "execution_count": null,
   "id": "3e4ec82e-a92c-4230-a355-36e64cbe6356",
   "metadata": {},
   "outputs": [],
   "source": [
    "def custom_factor_mapping(node: Dict):\n",
    "    \"\"\"choose random factor\"\"\"\n",
    "    return 2 * random()"
   ]
  },
  {
   "cell_type": "markdown",
   "id": "780ef19a-9fb6-4af8-95a5-5afd3e35a182",
   "metadata": {},
   "source": [
    "If no custom mapping is set the default mappings are used. \\\n",
    "The default node scale factor is 1.0. When this scale factor is multiplied with the size, the size remains unchanged if the scale factor is 1. \\\n",
    "The default node scale factor does not affect the node size."
   ]
  },
  {
   "cell_type": "code",
   "execution_count": null,
   "id": "33e2dc95-7f1c-4858-8979-abefc10d8d7d",
   "metadata": {},
   "outputs": [],
   "source": [
    "w.get_node_scale_factor_mapping()"
   ]
  },
  {
   "cell_type": "markdown",
   "id": "36bad77e-c5da-4f8c-9ec1-b6ec6c136432",
   "metadata": {},
   "source": [
    "Let's assign a random scale factor for each node: "
   ]
  },
  {
   "cell_type": "code",
   "execution_count": null,
   "id": "d83085e2-5b4c-4410-928e-b844c4f05172",
   "metadata": {},
   "outputs": [],
   "source": [
    "w.set_node_scale_factor_mapping(custom_factor_mapping)\n",
    "w.get_node_scale_factor_mapping()"
   ]
  },
  {
   "cell_type": "code",
   "execution_count": null,
   "id": "5b0d9975-d7e1-4189-8340-f041b038e491",
   "metadata": {},
   "outputs": [],
   "source": [
    "display(w)"
   ]
  },
  {
   "cell_type": "markdown",
   "id": "76b18d80-975c-48ba-be65-39868092e582",
   "metadata": {},
   "source": [
    "If a node scale factor mapping is deleted, the scale factor mapping reverts back to the default mapping."
   ]
  },
  {
   "cell_type": "code",
   "execution_count": null,
   "id": "64a6c991-dad7-4c47-8495-5a6976d8c260",
   "metadata": {},
   "outputs": [],
   "source": [
    "w.del_node_scale_factor_mapping()\n",
    "w.get_node_scale_factor_mapping()"
   ]
  },
  {
   "cell_type": "markdown",
   "id": "202fa308-47b9-4c7f-9da1-a11299a53677",
   "metadata": {},
   "source": [
    "## Node Size Mapping"
   ]
  },
  {
   "cell_type": "markdown",
   "id": "7feca230-5286-4157-8159-1fc46177c0ec",
   "metadata": {},
   "source": [
    "The node size mapping is a function that is supposed to return an explicit width and height for each given node object which is then used in the widget.\n",
    "\n",
    "Optionally, the index can be used as the first function parameter.\n",
    "\n",
    "We will compute a new size derived from the node index. \\\n",
    "For this we first define a new mapping function and then set this function as our current size mapping."
   ]
  },
  {
   "cell_type": "code",
   "execution_count": null,
   "id": "3d63176a-feb0-4192-96b5-5e2956d3f41a",
   "metadata": {},
   "outputs": [],
   "source": [
    "w2 = GraphWidget(graph=g)\n",
    "def custom_size_mapping(index: int, node: Dict):\n",
    "    \"\"\"Select a width and height for the node\"\"\"\n",
    "    return 55 + 10 * (index % 5), 55 - 10 * (index % 5)"
   ]
  },
  {
   "cell_type": "markdown",
   "id": "5ffb2f31-ced4-40f7-9bff-e7ded3a9b217",
   "metadata": {},
   "source": [
    "If no custom mapping is set the default mappings are used."
   ]
  },
  {
   "cell_type": "code",
   "execution_count": null,
   "id": "3f59708c-db00-453e-9e35-d880ef6c991a",
   "metadata": {},
   "outputs": [],
   "source": [
    "print(w2.node_size_mapping.__doc__)"
   ]
  },
  {
   "cell_type": "markdown",
   "id": "9468b414-1162-46e3-9e56-2f2126f1b926",
   "metadata": {},
   "source": [
    "Let's use the new size mapping function: "
   ]
  },
  {
   "cell_type": "code",
   "execution_count": null,
   "id": "b33d4b93-d84c-473b-b567-e13b44860df5",
   "metadata": {},
   "outputs": [],
   "source": [
    "w2.set_node_size_mapping(custom_size_mapping)\n",
    "w2.get_node_size_mapping()"
   ]
  },
  {
   "cell_type": "code",
   "execution_count": null,
   "id": "a5a22d4d-8798-4a00-94d7-b6aa6f9a5d42",
   "metadata": {},
   "outputs": [],
   "source": [
    "display(w2)"
   ]
  },
  {
   "cell_type": "markdown",
   "id": "d905c025-027b-4b94-b4a0-b20da4df3e8f",
   "metadata": {},
   "source": [
    "If a node size mapping is deleted, the size mapping reverts back to the default mapping."
   ]
  },
  {
   "cell_type": "code",
   "execution_count": null,
   "id": "1396933f-0c18-44ed-bb1d-0a0db3c9df2f",
   "metadata": {},
   "outputs": [],
   "source": [
    "w2.del_node_size_mapping()\n",
    "w2.get_node_size_mapping()"
   ]
  },
  {
   "cell_type": "markdown",
   "id": "932b357e-0c07-4199-a16b-d25868f6902f",
   "metadata": {},
   "source": [
    "## Combining Size and Scale Factor Mapping\n",
    "\n",
    "When applying both the `node_scale_factor_mapping` and the `node_size_mapping`, \\\n",
    "the scaling factor will be applied on the size mapping. \n",
    "\n",
    "\n",
    "For example, with a scaling factor of 2 and a size mapping of (45, 65), the resulting size will be (90, 130).\n",
    "\n",
    "Let's use the same scale factor mapping and size mapping as above.\n",
    "- random scale factor\n",
    "- the bigger the index mod 5 is, the shape gets more oval"
   ]
  },
  {
   "cell_type": "code",
   "execution_count": null,
   "id": "ae982d4f-31f4-44c4-a3a7-f455e14d0259",
   "metadata": {},
   "outputs": [],
   "source": [
    "w3 = GraphWidget(graph=g)\n",
    "w3.set_node_size_mapping(custom_size_mapping)\n",
    "w3.set_node_scale_factor_mapping(custom_factor_mapping)\n",
    "display(w3)"
   ]
  },
  {
   "cell_type": "markdown",
   "id": "d64cd16e-3cdf-47f8-b56e-c579e9e43b8c",
   "metadata": {},
   "source": [
    "Everytime the widget is displayed, the mappings are newly calculated. As we use a random scale factor, everytime we apply the mapping and display the widget, we get a new scale factor:"
   ]
  },
  {
   "cell_type": "code",
   "execution_count": null,
   "id": "6afb83c9-afd3-48c2-bba6-5b78ee0434ba",
   "metadata": {},
   "outputs": [],
   "source": [
    "display(w3)"
   ]
  },
  {
   "cell_type": "code",
   "execution_count": null,
   "id": "645dd996-9207-40b9-ac1a-6d8c56e62798",
   "metadata": {},
   "outputs": [],
   "source": [
    "w3.del_node_size_mapping()\n",
    "w3.get_node_size_mapping()"
   ]
  },
  {
   "cell_type": "code",
   "execution_count": null,
   "id": "4ef144f7-a17d-40e9-95d8-9446dfdca9b2",
   "metadata": {},
   "outputs": [],
   "source": [
    "w3.del_node_scale_factor_mapping()\n",
    "w3.get_node_scale_factor_mapping()"
   ]
  },
  {
   "cell_type": "code",
   "execution_count": null,
   "id": "b65bff85-b163-4cdf-a36d-d1b2fbcfe3a5",
   "metadata": {},
   "outputs": [],
   "source": [
    "display(w3)"
   ]
  }
 ],
 "metadata": {
  "kernelspec": {
   "display_name": "Python 3 (ipykernel)",
   "language": "python",
   "name": "python3"
  },
  "language_info": {
   "codemirror_mode": {
    "name": "ipython",
    "version": 3
   },
   "file_extension": ".py",
   "mimetype": "text/x-python",
   "name": "python",
   "nbconvert_exporter": "python",
   "pygments_lexer": "ipython3",
   "version": "3.11.3"
  }
 },
 "nbformat": 4,
 "nbformat_minor": 5
}
