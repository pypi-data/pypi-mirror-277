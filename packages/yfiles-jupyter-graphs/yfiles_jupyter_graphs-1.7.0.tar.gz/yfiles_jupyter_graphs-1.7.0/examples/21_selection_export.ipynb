{
 "cells": [
  {
   "cell_type": "markdown",
   "id": "25d207f9-1f19-40b7-b79e-7ae4d1352cbb",
   "metadata": {},
   "source": [
    "# Export a selection of items to Jupyter cell <a target=\"_blank\" href=\"https://colab.research.google.com/github/yWorks/yfiles-jupyter-graphs/blob/main/examples/21_selection_export.ipynb\"><img src=\"https://colab.research.google.com/assets/colab-badge.svg\" alt=\"Open In Colab\"/></a>"
   ]
  },
  {
   "cell_type": "markdown",
   "id": "84c0bb57-48fe-49bc-b444-86e0c3922fbe",
   "metadata": {},
   "source": [
    "Before using the graph widget, install all necessary packages."
   ]
  },
  {
   "cell_type": "code",
   "execution_count": null,
   "id": "28a97638-ff06-444e-8dab-bb90b3e905b0",
   "metadata": {},
   "outputs": [],
   "source": [
    "%pip install yfiles_jupyter_graphs --quiet\n",
    "%pip install networkx --quiet\n",
    "from networkx import erdos_renyi_graph\n",
    "from yfiles_jupyter_graphs import GraphWidget"
   ]
  },
  {
   "cell_type": "markdown",
   "id": "c52d12f7-c8aa-4f52-b408-5d196337e391",
   "metadata": {},
   "source": [
    "You can also open this notebook in Google Colab when Google Colab's custom widget manager is enabled:"
   ]
  },
  {
   "cell_type": "code",
   "execution_count": null,
   "id": "468d3484-2c8f-4243-a968-52225160a858",
   "metadata": {},
   "outputs": [],
   "source": [
    "try:\n",
    "  import google.colab\n",
    "  from google.colab import output\n",
    "  output.enable_custom_widget_manager()\n",
    "except:\n",
    "  pass"
   ]
  },
  {
   "cell_type": "markdown",
   "id": "273eafa0-5a0d-460b-bd5a-679e1010b3e2",
   "metadata": {},
   "source": [
    "<a target=\"_blank\" href=\"https://colab.research.google.com/github/yWorks/yfiles-jupyter-graphs/blob/main/examples/21_selection_export.ipynb\"><img src=\"https://colab.research.google.com/assets/colab-badge.svg\" alt=\"Open In Colab\"/></a>"
   ]
  },
  {
   "cell_type": "code",
   "execution_count": null,
   "id": "51b81aa3-9235-422f-8354-201ba43357a0",
   "metadata": {},
   "outputs": [],
   "source": [
    "w = GraphWidget(graph=erdos_renyi_graph(10,0.3,2))\n",
    "display(w)"
   ]
  },
  {
   "cell_type": "markdown",
   "id": "202ac600-8d65-461f-b1b0-ef22fb388349",
   "metadata": {},
   "source": [
    "## How to select items\n",
    "- Select nodes/edges by left click\n",
    "- Expand the current selection by holding CTRL while clicking nodes/edges\n",
    "- Marquee select multiple graph items by holding SHIFT while dragging with left mouse button\n",
    "\n",
    "## How to get the selected data\n",
    "\n",
    "The `get_selection` function returns a tuple of the currently selected nodes and edges of the widget."
   ]
  },
  {
   "cell_type": "code",
   "execution_count": null,
   "id": "cd4ba091-c85e-4285-8bee-d1c7e84d810f",
   "metadata": {},
   "outputs": [],
   "source": [
    "nodes, edges = w.get_selection()"
   ]
  },
  {
   "cell_type": "code",
   "execution_count": null,
   "id": "67ae5046-b9c8-4df8-966a-12beddc7dc1d",
   "metadata": {},
   "outputs": [],
   "source": [
    "print('selected nodes:')\n",
    "print(nodes)\n",
    "\n",
    "print('selected edges:')\n",
    "print(edges)"
   ]
  }
 ],
 "metadata": {
  "kernelspec": {
   "display_name": "Python 3 (ipykernel)",
   "language": "python",
   "name": "python3"
  },
  "language_info": {
   "codemirror_mode": {
    "name": "ipython",
    "version": 3
   },
   "file_extension": ".py",
   "mimetype": "text/x-python",
   "name": "python",
   "nbconvert_exporter": "python",
   "pygments_lexer": "ipython3",
   "version": "3.11.3"
  }
 },
 "nbformat": 4,
 "nbformat_minor": 5
}
