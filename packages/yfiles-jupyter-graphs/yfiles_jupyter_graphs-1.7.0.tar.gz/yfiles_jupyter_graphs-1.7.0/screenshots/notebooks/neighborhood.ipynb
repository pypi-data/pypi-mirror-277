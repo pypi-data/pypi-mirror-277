{
 "cells": [
  {
   "cell_type": "markdown",
   "id": "7a1bae60",
   "metadata": {
    "tags": []
   },
   "source": [
    "# View Specific Neighborhood"
   ]
  },
  {
   "cell_type": "code",
   "execution_count": 11,
   "id": "676d9ae8-d72d-456b-bac9-6b7d90926d66",
   "metadata": {
    "tags": []
   },
   "outputs": [],
   "source": [
    "from networkx import connected_caveman_graph"
   ]
  },
  {
   "cell_type": "code",
   "execution_count": 12,
   "id": "a4d65cf9",
   "metadata": {},
   "outputs": [],
   "source": [
    "from yfiles_jupyter_graphs import GraphWidget"
   ]
  },
  {
   "cell_type": "code",
   "execution_count": 13,
   "id": "55413103",
   "metadata": {},
   "outputs": [],
   "source": [
    "g = connected_caveman_graph(3, 4)"
   ]
  },
  {
   "cell_type": "code",
   "execution_count": 14,
   "id": "fcbe55b8",
   "metadata": {
    "tags": []
   },
   "outputs": [],
   "source": [
    "w = GraphWidget()\n",
    "w.import_graph(g)\n",
    "w.set_neighborhood(3, [1])"
   ]
  },
  {
   "cell_type": "code",
   "execution_count": 15,
   "id": "2478e6aa",
   "metadata": {
    "tags": []
   },
   "outputs": [
    {
     "data": {
      "application/vnd.jupyter.widget-view+json": {
       "model_id": "a465b6d6b9864d23ae4e20abb91f27a2",
       "version_major": 2,
       "version_minor": 0
      },
      "text/plain": [
       "GraphWidget(layout=Layout(height='500px', width='100%'))"
      ]
     },
     "metadata": {},
     "output_type": "display_data"
    }
   ],
   "source": [
    "w.show()"
   ]
  }
 ],
 "metadata": {
  "kernelspec": {
   "display_name": "Python 3",
   "language": "python",
   "name": "python3"
  },
  "language_info": {
   "codemirror_mode": {
    "name": "ipython",
    "version": 3
   },
   "file_extension": ".py",
   "mimetype": "text/x-python",
   "name": "python",
   "nbconvert_exporter": "python",
   "pygments_lexer": "ipython3",
   "version": "3.6.15"
  },
  "widgets": {
   "application/vnd.jupyter.widget-state+json": {
    "state": {},
    "version_major": 2,
    "version_minor": 0
   }
  }
 },
 "nbformat": 4,
 "nbformat_minor": 5
}
