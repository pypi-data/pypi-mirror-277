{
 "cells": [
  {
   "cell_type": "markdown",
   "id": "40666735-722a-4db6-b9c1-5378dd279c8a",
   "metadata": {},
   "source": [
    "# Search for Node and Edge Data"
   ]
  },
  {
   "cell_type": "code",
   "execution_count": 3,
   "id": "d905edd1-9eda-4b17-8ccc-5a50874add87",
   "metadata": {},
   "outputs": [],
   "source": [
    "from networkx import florentine_families_graph\n",
    "from yfiles_jupyter_graphs import GraphWidget"
   ]
  },
  {
   "cell_type": "code",
   "execution_count": 4,
   "id": "fc75af53",
   "metadata": {},
   "outputs": [
    {
     "data": {
      "application/vnd.jupyter.widget-view+json": {
       "model_id": "733e3eea2f4744c3bb585cbc8e929edd",
       "version_major": 2,
       "version_minor": 0
      },
      "text/plain": [
       "GraphWidget(layout=Layout(height='500px', width='100%'))"
      ]
     },
     "metadata": {},
     "output_type": "display_data"
    }
   ],
   "source": [
    "w = GraphWidget()\n",
    "w.import_graph(florentine_families_graph())\n",
    "w.show()"
   ]
  }
 ],
 "metadata": {
  "kernelspec": {
   "display_name": "Python 3",
   "language": "python",
   "name": "python3"
  },
  "language_info": {
   "codemirror_mode": {
    "name": "ipython",
    "version": 3
   },
   "file_extension": ".py",
   "mimetype": "text/x-python",
   "name": "python",
   "nbconvert_exporter": "python",
   "pygments_lexer": "ipython3",
   "version": "3.6.15"
  },
  "widgets": {
   "application/vnd.jupyter.widget-state+json": {
    "state": {},
    "version_major": 2,
    "version_minor": 0
   }
  }
 },
 "nbformat": 4,
 "nbformat_minor": 5
}
