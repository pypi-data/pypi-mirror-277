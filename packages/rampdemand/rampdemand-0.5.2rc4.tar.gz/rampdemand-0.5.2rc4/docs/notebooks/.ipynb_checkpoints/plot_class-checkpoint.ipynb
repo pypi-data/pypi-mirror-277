{
 "cells": [
  {
   "cell_type": "markdown",
   "id": "5a0da146",
   "metadata": {},
   "source": [
    "# Plotting functionalities\n",
    "\n",
    "RAMP's plotting class offers some functionalities for visualizing outputs. A `Plot` class can be initialized by reading a `pandas.DataFrame` or reading results from a `.csv` or `.xlsx` file."
   ]
  },
  {
   "cell_type": "markdown",
   "id": "b07bde96",
   "metadata": {},
   "source": [
    "## Initializing a Plot class\n",
    "\n",
    "### Running RAMP interactively"
   ]
  },
  {
   "cell_type": "code",
   "execution_count": 1,
   "id": "eb23109f",
   "metadata": {},
   "outputs": [],
   "source": [
    "from ramp import User, UseCase"
   ]
  },
  {
   "cell_type": "code",
   "execution_count": 2,
   "id": "b3d4fb01",
   "metadata": {},
   "outputs": [],
   "source": [
    "# creating a user and adding some appliances\n",
    "\n",
    "Petrol_Station = User(\n",
    "    user_name=\"Petrol Station\",\n",
    "    num_users=1,\n",
    ")\n",
    "\n",
    "# add appliances\n",
    "outside_bulb = Petrol_Station.add_appliance(\n",
    "    name=\"Security Light\",\n",
    "    number=2,\n",
    "    power=18,  # watt\n",
    "    num_windows=2,  # security light has two functioning window: during night and during day\n",
    "    fixed_cycle=0,  # bulb has no duty cycle and always work with a single cycle\n",
    "    window_1=[0, 7 * 60],  # from mid-night to 7 AM with opening\n",
    "    window_2=[21 * 60, 23 * 60 + 59],  # from 21 to 23:59\n",
    "    fixed=\"yes\",\n",
    "    flat=\"yes\",\n",
    ")\n",
    "\n",
    "\n",
    "inside_bulb = Petrol_Station.add_appliance(\n",
    "    name=\"Indoor Light\",\n",
    "    number=1,\n",
    "    power=75,  # watt\n",
    "    num_windows=1,  # security light has two functioning window: during night and during day\n",
    "    fixed_cycle=0,  # bulb has no duty cycle and always work with a single cycle\n",
    "    window_1=[7 * 60, 21 * 60],  # from mid-night to 7 AM,9PM with opening,\n",
    "    func_cycle=1,  # when the appliance is switched on, it remains on at least for a min,\n",
    "    occasional_use=1,  # it is always present in the energy mix\n",
    "    func_time=30,  # usually is used around 60 min during the whole day\n",
    "    time_fraction_random_variability=0.9,\n",
    "    random_var_w=0.15,\n",
    ")\n",
    "\n",
    "petrol_pump = Petrol_Station.add_appliance(\n",
    "    name=\"Petrol Pump\",\n",
    "    number=1,\n",
    "    power=200,\n",
    "    num_windows=1,\n",
    "    fixed_cycle=0,\n",
    "    window_1=[7 * 60, 21 * 60],\n",
    "    func_cycle=1,\n",
    "    occasional_use=1,\n",
    "    func_time=40,\n",
    "    time_fraction_random_variability=0.15,\n",
    "    random_var_w=0.15,\n",
    ")\n",
    "\n",
    "# phone chargers\n",
    "phone_charger = Petrol_Station.add_appliance(\n",
    "    name=\"Phone Charger\",\n",
    "    number=1,\n",
    "    power=5,\n",
    "    num_windows=1,\n",
    "    fixed_cycle=0,\n",
    "    window_1=[7 * 60, 21 * 60],\n",
    "    func_cycle=30,\n",
    "    occasional_use=0.7,\n",
    "    func_time=60,\n",
    "    time_fraction_random_variability=0.15,\n",
    "    random_var_w=0.15,\n",
    ")\n",
    "\n",
    "# Radio\n",
    "radio = Petrol_Station.add_appliance(\n",
    "    name=\"Radio\",\n",
    "    number=1,\n",
    "    power=5,\n",
    "    num_windows=1,\n",
    "    fixed_cycle=0,\n",
    "    window_1=[7 * 60, 21 * 60],\n",
    "    func_cycle=20,\n",
    "    occasional_use=0.95,\n",
    "    func_time=4 * 60,\n",
    "    time_fraction_random_variability=0.15,\n",
    "    random_var_w=0.15,\n",
    ")"
   ]
  },
  {
   "cell_type": "code",
   "execution_count": 3,
   "id": "74767bc4-77e0-4481-be8c-8b7d3da4be2f",
   "metadata": {},
   "outputs": [
    {
     "name": "stdout",
     "output_type": "stream",
     "text": [
      "You will simulate 365 day(s) from 2022-01-01 00:00:00 until 2023-01-01 00:00:00\n"
     ]
    }
   ],
   "source": [
    "# running the simulation for multiple cases to generate mutlipe simulations for a year = 2022\n",
    "\n",
    "number_of_simulations = 11\n",
    "number_of_days = 365\n",
    "\n",
    "uc = UseCase(users=[Petrol_Station], date_start=\"2022-01-01\")\n",
    "uc.initialize(num_days=number_of_days)\n",
    "\n",
    "plot = uc.generate_daily_load_profiles(\n",
    "    cases=[profile for profile in range(1, number_of_simulations + 1)]\n",
    ")"
   ]
  },
  {
   "cell_type": "markdown",
   "id": "aeff5e48",
   "metadata": {},
   "source": [
    "If the dataframe object did not have a `pd.DatatimeIndex`, the plot class could not be initialized. in this case, you can use the `index` argument to pass a datetime index!"
   ]
  },
  {
   "cell_type": "markdown",
   "id": "3c345425",
   "metadata": {},
   "source": [
    "### Running via the CLI and reading back the outputs from `.csv` or `.xlsx`\n",
    "\n",
    "If you run your RAMP simulations from a terminal, and save your outputs into a file, you can read your saved results to perform your analysis. The structure of the saved results should be exactly as shown in previous line where the index is a date-time index and on the columns you have different cases, or even different users of your simulation case. To read the file:"
   ]
  },
  {
   "cell_type": "code",
   "execution_count": 4,
   "id": "c651b69f",
   "metadata": {},
   "outputs": [],
   "source": [
    "# Uncomment the line below once you have replaced the placeholder with the path of an existing file\n",
    "# plot = Plot.from_file(file=\"path to .csv or .xlsx file\")"
   ]
  },
  {
   "cell_type": "markdown",
   "id": "bc7c7987",
   "metadata": {},
   "source": [
    "If the data in the file did not have a date-time index, the plot class could not be initialized! in this case, you can use the `index` argument to pass a datetime index!"
   ]
  },
  {
   "cell_type": "markdown",
   "id": "ae868c41",
   "metadata": {},
   "source": [
    "## Filtering data using loc & iloc functions\n",
    "If you need to use only a part of your data, you can use the `loc` function. For example, to take only the second day of your data:"
   ]
  },
  {
   "cell_type": "code",
   "execution_count": 5,
   "id": "0e8797dd",
   "metadata": {},
   "outputs": [],
   "source": [
    "import pandas as pd\n",
    "\n",
    "second_day = pd.date_range(\n",
    "    start=\"2022-01-01 00:00:00\", freq=\"1min\", periods=24 * 60  # a full day\n",
    ")\n",
    "\n",
    "filtered_data = plot.loc(index=second_day)"
   ]
  },
  {
   "cell_type": "markdown",
   "id": "cc5f3375",
   "metadata": {},
   "source": [
    "If you need to also filter on the columns, you can use the columns argument or use the `get item` method:"
   ]
  },
  {
   "cell_type": "code",
   "execution_count": 6,
   "id": "9f7d1159",
   "metadata": {},
   "outputs": [
    {
     "data": {
      "text/plain": [
       "                     case 1  case 2\n",
       "2022-01-01 00:00:00    36.0    36.0\n",
       "2022-01-01 00:01:00    36.0    36.0\n",
       "2022-01-01 00:02:00    36.0    36.0\n",
       "2022-01-01 00:03:00    36.0    36.0\n",
       "2022-01-01 00:04:00    36.0    36.0\n",
       "2022-01-01 00:05:00    36.0    36.0\n",
       "2022-01-01 00:06:00    36.0    36.0\n",
       "2022-01-01 00:07:00    36.0    36.0\n",
       "2022-01-01 00:08:00    36.0    36.0\n",
       "2022-01-01 00:09:00    36.0    36.0\n",
       " ......"
      ]
     },
     "execution_count": 6,
     "metadata": {},
     "output_type": "execute_result"
    }
   ],
   "source": [
    "# using the function\n",
    "filtered_data = plot.loc(index=second_day, columns=[\"case 1\", \"case 2\"])\n",
    "filtered_data"
   ]
  },
  {
   "cell_type": "code",
   "execution_count": 7,
   "id": "b4e4b23a",
   "metadata": {},
   "outputs": [
    {
     "data": {
      "text/plain": [
       "                     case 1\n",
       "2022-01-01 00:00:00    36.0\n",
       "2022-01-01 00:01:00    36.0\n",
       "2022-01-01 00:02:00    36.0\n",
       "2022-01-01 00:03:00    36.0\n",
       "2022-01-01 00:04:00    36.0\n",
       "2022-01-01 00:05:00    36.0\n",
       "2022-01-01 00:06:00    36.0\n",
       "2022-01-01 00:07:00    36.0\n",
       "2022-01-01 00:08:00    36.0\n",
       "2022-01-01 00:09:00    36.0\n",
       " ......"
      ]
     },
     "execution_count": 7,
     "metadata": {},
     "output_type": "execute_result"
    }
   ],
   "source": [
    "# using the get item method\n",
    "filtered_column = plot[\"case 1\"]\n",
    "filtered_column"
   ]
  },
  {
   "cell_type": "markdown",
   "id": "877d8bdc",
   "metadata": {},
   "source": [
    "To filter the data using the position of the data, you can use the `iloc` function. For example, for filtering your data from the 6th row to 10th row:"
   ]
  },
  {
   "cell_type": "code",
   "execution_count": 8,
   "id": "13191cdd",
   "metadata": {},
   "outputs": [
    {
     "data": {
      "text/plain": [
       "                     case 1  case 2  case 3  case 4  case 5  case 6  case 7  case 8  case 9  case 10  case 11\n",
       "2022-01-01 00:06:00    36.0    36.0    36.0    36.0    36.0    36.0    36.0    36.0    36.0     36.0     36.0\n",
       "2022-01-01 00:07:00    36.0    36.0    36.0    36.0    36.0    36.0    36.0    36.0    36.0     36.0     36.0\n",
       "2022-01-01 00:08:00    36.0    36.0    36.0    36.0    36.0    36.0    36.0    36.0    36.0     36.0     36.0\n",
       "2022-01-01 00:09:00    36.0    36.0    36.0    36.0    36.0    36.0    36.0    36.0    36.0     36.0     36.0\n",
       "2022-01-01 00:10:00    36.0    36.0    36.0    36.0    36.0    36.0    36.0    36.0    36.0     36.0     36.0\n",
       " ......"
      ]
     },
     "execution_count": 8,
     "metadata": {},
     "output_type": "execute_result"
    }
   ],
   "source": [
    "filtered_rows = plot.iloc(index=slice(6, 11))\n",
    "filtered_rows"
   ]
  },
  {
   "cell_type": "markdown",
   "id": "3a8592c8",
   "metadata": {},
   "source": [
    "## Adding new columns to the data\n",
    "In case you want to add new columns to your data, you can use the `add_column` function:"
   ]
  },
  {
   "cell_type": "code",
   "execution_count": 9,
   "id": "e205e410",
   "metadata": {},
   "outputs": [
    {
     "data": {
      "text/plain": [
       "                     case 1  case 2  case 3  case 4  case 5  case 6  case 7  case 8  case 9  case 10  case 11  new column\n",
       "2022-01-01 00:00:00    36.0    36.0    36.0    36.0    36.0    36.0    36.0    36.0    36.0     36.0     36.0        36.0\n",
       "2022-01-01 00:01:00    36.0    36.0    36.0    36.0    36.0    36.0    36.0    36.0    36.0     36.0     36.0        36.0\n",
       "2022-01-01 00:02:00    36.0    36.0    36.0    36.0    36.0    36.0    36.0    36.0    36.0     36.0     36.0        36.0\n",
       "2022-01-01 00:03:00    36.0    36.0    36.0    36.0    36.0    36.0    36.0    36.0    36.0     36.0     36.0        36.0\n",
       "2022-01-01 00:04:00    36.0    36.0    36.0    36.0    36.0    36.0    36.0    36.0    36.0     36.0     36.0        36.0\n",
       "2022-01-01 00:05:00    36.0    36.0    36.0    36.0    36.0    36.0    36.0    36.0    36.0     36.0     36.0        36.0\n",
       "2022-01-01 00:06:00    36.0    36.0    36.0    36.0    36.0    36.0    36.0    36.0    36.0     36.0     36.0        36.0\n",
       "2022-01-01 00:07:00    36.0    36.0    36.0    36.0    36.0    36.0    36.0    36.0    36.0     36.0     36.0        36.0\n",
       "2022-01-01 00:08:00    36.0    36.0    36.0    36.0    36.0    36.0    36.0    36.0    36.0     36.0     36.0        36.0\n",
       "2022-01-01 00:09:00    36.0    36.0    36.0    36.0    36.0    36.0    36.0    36.0    36.0     36.0     36.0        36.0\n",
       " ......"
      ]
     },
     "execution_count": 9,
     "metadata": {},
     "output_type": "execute_result"
    }
   ],
   "source": [
    "# lets take a copy of the current plot object\n",
    "\n",
    "copy_plot = plot.copy()\n",
    "\n",
    "# lets take a column of the existing data\n",
    "new_data = plot[\"case 1\"]\n",
    "\n",
    "# lets change the name of the column assuming that this is a new data\n",
    "new_data.columns = [\"new column\"]\n",
    "\n",
    "copy_plot.add_column(new_data)\n",
    "\n",
    "copy_plot"
   ]
  },
  {
   "cell_type": "markdown",
   "id": "0cec30e0",
   "metadata": {},
   "source": [
    "## Resampling data\n",
    "\n",
    "If you want to represent your data in a different time resolution, you need to resample the data. In this case, the original data (plot object) has a minute time resolution:"
   ]
  },
  {
   "cell_type": "code",
   "execution_count": 10,
   "id": "4d5b93f3",
   "metadata": {},
   "outputs": [
    {
     "data": {
      "text/plain": [
       "<Minute>"
      ]
     },
     "execution_count": 10,
     "metadata": {},
     "output_type": "execute_result"
    }
   ],
   "source": [
    "plot.freq"
   ]
  },
  {
   "cell_type": "markdown",
   "id": "1066e40a",
   "metadata": {},
   "source": [
    "Let's assume you want to resample your data to an hourly resolution. To do so, you can use the `resample` function:"
   ]
  },
  {
   "cell_type": "code",
   "execution_count": 11,
   "id": "1f41870c",
   "metadata": {},
   "outputs": [],
   "source": [
    "hourly_data = plot.resample(\n",
    "    freq=\"1h\",  # resampling freqency, similar pd.DataFrame rule\n",
    "    rule=\"sum\",  # different options for resampling data like sum, mean, nearest\n",
    "    conversion=60,  # resampling data from minute resolution to hour resolution has an assumption of dividing the minute date by 60 minutes to sum to hourly data\n",
    ")"
   ]
  },
  {
   "cell_type": "markdown",
   "id": "02eac015",
   "metadata": {},
   "source": [
    "Let's check the resolution now:"
   ]
  },
  {
   "cell_type": "code",
   "execution_count": 12,
   "id": "e53de489",
   "metadata": {},
   "outputs": [
    {
     "data": {
      "text/plain": [
       "<Hour>"
      ]
     },
     "execution_count": 12,
     "metadata": {},
     "output_type": "execute_result"
    }
   ],
   "source": [
    "hourly_data.freq"
   ]
  },
  {
   "cell_type": "markdown",
   "id": "0de4752e",
   "metadata": {},
   "source": [
    "You can further apply all the `Plot` functions to the output of this resampling. For example, if you want to calculate the weekly consumption average based on the hourly data, you can use:"
   ]
  },
  {
   "cell_type": "code",
   "execution_count": 13,
   "id": "de50f6a4",
   "metadata": {},
   "outputs": [],
   "source": [
    "weekly = hourly_data.resample(freq=\"1w\", rule=\"mean\")"
   ]
  },
  {
   "cell_type": "code",
   "execution_count": 14,
   "id": "ee3a07e0",
   "metadata": {},
   "outputs": [
    {
     "data": {
      "text/plain": [
       "<Week: weekday=6>"
      ]
     },
     "execution_count": 14,
     "metadata": {},
     "output_type": "execute_result"
    }
   ],
   "source": [
    "weekly.freq"
   ]
  },
  {
   "cell_type": "markdown",
   "id": "e7bcdfba",
   "metadata": {},
   "source": [
    "## Compute Mean, Sum, and Peak\n",
    "\n",
    "You can calculate the mean and the sum of all the columns of your RAMP simulations stored in a `Plot` object using the `mean` and `sum` functions:"
   ]
  },
  {
   "cell_type": "code",
   "execution_count": 15,
   "id": "5064b978",
   "metadata": {},
   "outputs": [
    {
     "data": {
      "text/plain": [
       "                          Mean\n",
       "2022-01-01 00:00:00  36.000000\n",
       "2022-01-01 01:00:00  36.000000\n",
       "2022-01-01 02:00:00  36.000000\n",
       "2022-01-01 03:00:00  36.000000\n",
       "2022-01-01 04:00:00  36.000008\n",
       "2022-01-01 05:00:00  36.053523\n",
       "2022-01-01 06:00:00  37.023682\n",
       "2022-01-01 07:00:00   2.744088\n",
       "2022-01-01 08:00:00   9.889124\n",
       "2022-01-01 09:00:00  14.973023\n",
       " ......"
      ]
     },
     "execution_count": 15,
     "metadata": {},
     "output_type": "execute_result"
    }
   ],
   "source": [
    "mean = hourly_data.mean()\n",
    "mean"
   ]
  },
  {
   "cell_type": "code",
   "execution_count": 16,
   "id": "9628df92",
   "metadata": {
    "tags": []
   },
   "outputs": [
    {
     "data": {
      "text/plain": [
       "                            Sum\n",
       "2022-01-01 00:00:00  396.000000\n",
       "2022-01-01 01:00:00  396.000000\n",
       "2022-01-01 02:00:00  396.000000\n",
       "2022-01-01 03:00:00  396.000000\n",
       "2022-01-01 04:00:00  396.000083\n",
       "2022-01-01 05:00:00  396.588750\n",
       "2022-01-01 06:00:00  407.260500\n",
       "2022-01-01 07:00:00   30.184967\n",
       "2022-01-01 08:00:00  108.780367\n",
       "2022-01-01 09:00:00  164.703250\n",
       " ......"
      ]
     },
     "execution_count": 16,
     "metadata": {},
     "output_type": "execute_result"
    }
   ],
   "source": [
    "summed = hourly_data.sum()\n",
    "summed"
   ]
  },
  {
   "cell_type": "markdown",
   "id": "658eb6f4",
   "metadata": {},
   "source": [
    "You can also find the the peak values and correspondoing hours to the peak value for each column of your data using the `peak` property:"
   ]
  },
  {
   "cell_type": "code",
   "execution_count": 17,
   "id": "c0297a1f",
   "metadata": {},
   "outputs": [],
   "source": [
    "peak = hourly_data.peak"
   ]
  },
  {
   "cell_type": "code",
   "execution_count": 18,
   "id": "00e89c9b",
   "metadata": {},
   "outputs": [
    {
     "data": {
      "text/plain": [
       "{'case 1': 2022-10-28 06:00:00    146.00145\n",
       " Freq: H, Name: case 1, dtype: float64,\n",
       " 'case 2': 2022-01-28 10:00:00    149.585283\n",
       " Freq: H, Name: case 2, dtype: float64,\n",
       " 'case 3': 2022-08-26 21:00:00    164.669633\n",
       " Freq: H, Name: case 3, dtype: float64,\n",
       " 'case 4': 2022-07-29 21:00:00    172.667983\n",
       " Freq: H, Name: case 4, dtype: float64,\n",
       " 'case 5': 2022-07-04 06:00:00    166.000917\n",
       " Freq: H, Name: case 5, dtype: float64,\n",
       " 'case 6': 2022-05-14 06:00:00    162.667917\n",
       " Freq: H, Name: case 6, dtype: float64,\n",
       " 'case 7': 2022-03-13 06:00:00    151.002083\n",
       " Freq: H, Name: case 7, dtype: float64,\n",
       " 'case 8': 2022-12-16 05:00:00    169.334517\n",
       " Freq: H, Name: case 8, dtype: float64,\n",
       " 'case 9': 2022-06-15 18:00:00    149.836033\n",
       " Freq: H, Name: case 9, dtype: float64,\n",
       " 'case 10': 2022-02-15 06:00:00    187.00175\n",
       " Freq: H, Name: case 10, dtype: float64,\n",
       " 'case 11': 2022-10-21 06:00:00    166.00235\n",
       " Freq: H, Name: case 11, dtype: float64}"
      ]
     },
     "execution_count": 18,
     "metadata": {},
     "output_type": "execute_result"
    }
   ],
   "source": [
    "peak"
   ]
  },
  {
   "cell_type": "markdown",
   "id": "e632eea1",
   "metadata": {},
   "source": [
    "## Visualisation\n",
    "\n",
    "A `Plot` object offers some easy-to-use plotting functions for routine visualisations. Each plotting function allows you to choose the plotting engine, which can be either `matplotlib` or `plotly`. The output of the plot functions will be a `matplotlib` or `plotly` object, so you can customize your functions after plotting with your specific taste and plotting style! You can also use the `** kwargs` to pass `plotly` or `matplotlib` specific styling features."
   ]
  },
  {
   "cell_type": "markdown",
   "id": "9795ac08",
   "metadata": {},
   "source": [
    "### Line plot\n",
    "With the line plot function, you can choose one or multiple columns of your data to plot a simple line plot:"
   ]
  },
  {
   "cell_type": "code",
   "execution_count": 19,
   "id": "02e17fdf",
   "metadata": {},
   "outputs": [
    {
     "data": {
      "text/plain": [
       "<AxesSubplot:>"
      ]
     },
     "execution_count": 19,
     "metadata": {},
     "output_type": "execute_result"
    },
    {
     "data": {
      "image/png": "[encoded data removed]",
      "text/plain": [
       "<Figure size 432x288 with 1 Axes>"
      ]
     },
     "metadata": {
      "needs_background": "light"
     },
     "output_type": "display_data"
    }
   ],
   "source": [
    "# plotting one column using matplotlib engine (default engine)\n",
    "hourly_data.line(columns=\"case 1\")"
   ]
  },
  {
   "cell_type": "code",
   "execution_count": null,
   "id": "9bef8400",
   "metadata": {},
   "outputs": [],
   "source": [
    "# plotting all columns using plotly engine, you can\n",
    "hourly_data.line(engine=\"plotly\", plot_bgcolor=\"gray\", title=\"My Beautiful Plot\")"
   ]
  },
  {
   "cell_type": "markdown",
   "id": "04f08f05",
   "metadata": {},
   "source": [
    "### Load duration curve\n",
    "A Load duration curve (LDC), also known as a duration curve or a load-duration profile, represents the cumulative distribution of a given energy demand over a specified period of time. To plot this curve, you may use the `load_duration_curve` function in different modes, like taking a specific column of your data and calculating the mean or sum. To this end, go through the steps below."
   ]
  },
  {
   "cell_type": "code",
   "execution_count": 22,
   "id": "a4b3e4a1",
   "metadata": {},
   "outputs": [
    {
     "data": {
      "text/plain": [
       "<AxesSubplot:>"
      ]
     },
     "execution_count": 22,
     "metadata": {},
     "output_type": "execute_result"
    },
    {
     "data": {
      "image/png": "[encoded data removed]",
      "text/plain": [
       "<Figure size 432x288 with 1 Axes>"
      ]
     },
     "metadata": {
      "needs_background": "light"
     },
     "output_type": "display_data"
    }
   ],
   "source": [
    "# Taking a column\n",
    "hourly_data.load_duration_curve(column=\"case 1\")"
   ]
  },
  {
   "cell_type": "code",
   "execution_count": 23,
   "id": "f4366b66",
   "metadata": {},
   "outputs": [
    {
     "data": {
      "text/plain": [
       "<AxesSubplot:>"
      ]
     },
     "execution_count": 23,
     "metadata": {},
     "output_type": "execute_result"
    },
    {
     "data": {
      "image/png": "[encoded data removed]",
      "text/plain": [
       "<Figure size 432x288 with 1 Axes>"
      ]
     },
     "metadata": {
      "needs_background": "light"
     },
     "output_type": "display_data"
    }
   ],
   "source": [
    "# plotting for mean\n",
    "hourly_data.mean().load_duration_curve(\"Mean\")"
   ]
  },
  {
   "cell_type": "code",
   "execution_count": 24,
   "id": "26e16e61",
   "metadata": {},
   "outputs": [
    {
     "data": {
      "text/plain": [
       "<AxesSubplot:>"
      ]
     },
     "execution_count": 24,
     "metadata": {},
     "output_type": "execute_result"
    },
    {
     "data": {
      "image/png": "[encoded data removed]",
      "text/plain": [
       "<Figure size 432x288 with 1 Axes>"
      ]
     },
     "metadata": {
      "needs_background": "light"
     },
     "output_type": "display_data"
    }
   ],
   "source": [
    "# Taking sum\n",
    "hourly_data.sum().load_duration_curve(\"Sum\")"
   ]
  },
  {
   "cell_type": "markdown",
   "id": "b3bb5e37",
   "metadata": {},
   "source": [
    "### Area Plot\n",
    "Using the `area` plot function, you can plot the cumulative sum of the the columns in your data."
   ]
  },
  {
   "cell_type": "code",
   "execution_count": null,
   "id": "ae8f6f1f",
   "metadata": {},
   "outputs": [],
   "source": [
    "hourly_data.area(engine=\"plotly\")"
   ]
  },
  {
   "cell_type": "markdown",
   "id": "7ac42078",
   "metadata": {},
   "source": [
    "### Shadow Plot\n",
    "In case you want to represent all the simulations together to show the variability of stochastic profiles generated by RAMP, you may use the shadow plot."
   ]
  },
  {
   "cell_type": "code",
   "execution_count": null,
   "id": "bd541cb4",
   "metadata": {},
   "outputs": [],
   "source": [
    "# to have a more visible visualisation, let's only take the first 5 days of the data using the iloc function\n",
    "\n",
    "hourly_data.iloc(index=slice(0, 24 * 5)).shadow(\n",
    "    average=True,  # plotting the average with a bold line and all the other columns as a cloud around it\n",
    "    engine=\"plotly\",\n",
    ")"
   ]
  },
  {
   "cell_type": "markdown",
   "id": "8bc41b50",
   "metadata": {},
   "source": [
    "### General plot function\n",
    "The Plot object has a function called `plot` that returns a pd.DataFrame.plot function offering some more plotting routines:"
   ]
  },
  {
   "cell_type": "code",
   "execution_count": 27,
   "id": "0f766ace",
   "metadata": {},
   "outputs": [
    {
     "data": {
      "text/plain": [
       "<AxesSubplot:>"
      ]
     },
     "execution_count": 27,
     "metadata": {},
     "output_type": "execute_result"
    },
    {
     "data": {
      "image/png": "[encoded data removed]",
      "text/plain": [
       "<Figure size 432x288 with 1 Axes>"
      ]
     },
     "metadata": {
      "needs_background": "light"
     },
     "output_type": "display_data"
    }
   ],
   "source": [
    "# plotting the yearly consumption of different cases as bar charts\n",
    "hourly_data.resample(\"1y\", \"sum\").plot(kind=\"bar\")"
   ]
  },
  {
   "cell_type": "markdown",
   "id": "b03d77b6",
   "metadata": {},
   "source": [
    "## Saving the data into a file\n",
    "\n",
    "If you want to save the data into a `.csv` or `.xlsx` file, you can use the two save functions:"
   ]
  },
  {
   "cell_type": "code",
   "execution_count": 28,
   "id": "501aa0bb",
   "metadata": {},
   "outputs": [],
   "source": [
    "# saving as csv\n",
    "hourly_data.to_csv(\"path and name of csv file.csv\")\n",
    "\n",
    "# saving as xslx\n",
    "hourly_data.to_excel(\"path and name of excel file.xlsx\")"
   ]
  }
 ],
 "metadata": {
  "kernelspec": {
   "display_name": "Python 3 (ipykernel)",
   "language": "python",
   "name": "python3"
  },
  "language_info": {
   "codemirror_mode": {
    "name": "ipython",
    "version": 3
   },
   "file_extension": ".py",
   "mimetype": "text/x-python",
   "name": "python",
   "nbconvert_exporter": "python",
   "pygments_lexer": "ipython3",
   "version": "3.8.10"
  }
 },
 "nbformat": 4,
 "nbformat_minor": 5
}
