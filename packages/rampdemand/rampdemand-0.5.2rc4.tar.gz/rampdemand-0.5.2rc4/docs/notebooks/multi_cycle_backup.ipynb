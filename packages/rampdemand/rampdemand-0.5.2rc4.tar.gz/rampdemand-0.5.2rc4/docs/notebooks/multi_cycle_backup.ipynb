{
 "cells": [
  {
   "cell_type": "markdown",
   "id": "74d8e1ab",
   "metadata": {},
   "source": [
    "# Appliances with multiple cycles"
   ]
  },
  {
   "cell_type": "markdown",
   "id": "938ce72f",
   "metadata": {},
   "source": [
    "\n",
    "An example of an appliance with multiple cycle is a fridge. Fridges\n",
    "usually have different duty cycles, which can be estimated based on seasonal\n",
    "temperature trends and/or frequency of user interaction (e.g., how often the \n",
    "door gets opened).\n",
    "\n",
    "In this example a fridge with 3 different duty cycles is modelled. The\n",
    "time windows are defined for 3 different cycles across 3 different season\n",
    "types:\n",
    "\n",
    "\n",
    "| season type |               Standard cycle              |  Intermediate cycle |   Intensive cycle   |\n",
    "|-------------|:-----------------------------------------:|:-------------------:|:-------------------:|\n",
    "| Hot         | 00:00:00 - 04:59:00 & 20:01:00 - 23:59:00 | 05:00:00 - 07:59:00 | 08:00:00 - 20:00:00 |\n",
    "| Warm        | 00:00:00 - 04:59:00 & 18:01:00 - 23:59:00 | 05:00:00 - 09:39:00 | 09:40:00 - 18:00:00 |\n",
    "| Cold        | 00:00:00 - 04:59:00 & 20:01:00 - 23:59:00 | 05:00:00 - 20:00:00 |          -          |"
   ]
  },
  {
   "cell_type": "markdown",
   "id": "69d9e6f8",
   "metadata": {},
   "source": [
    "### Creating the user and appliance"
   ]
  },
  {
   "cell_type": "code",
   "execution_count": 1,
   "id": "827138a1",
   "metadata": {},
   "outputs": [],
   "source": [
    "# importing functions\n",
    "from ramp import User, UseCase, get_day_type\n",
    "import pandas as pd"
   ]
  },
  {
   "cell_type": "code",
   "execution_count": 2,
   "id": "41b04c5e",
   "metadata": {},
   "outputs": [],
   "source": [
    "# creating user\n",
    "household = User()"
   ]
  },
  {
   "cell_type": "code",
   "execution_count": 3,
   "id": "488c1fe3",
   "metadata": {},
   "outputs": [],
   "source": [
    "# creating the appliance\n",
    "fridge = household.Appliance(\n",
    "    name=\"Fridge\",\n",
    "    number=1,\n",
    "    power=200,\n",
    "    num_windows=1,\n",
    "    func_time=1400,\n",
    "    time_fraction_random_variability=0,\n",
    "    func_cycle=30,\n",
    "    fixed=\"yes\",\n",
    "    fixed_cycle=3,  # number of cycles\n",
    ")"
   ]
  },
  {
   "cell_type": "code",
   "execution_count": 4,
   "id": "7d56b3a5",
   "metadata": {},
   "outputs": [],
   "source": [
    "# setting the functioning windows\n",
    "fridge.windows([0, 1440])  # always on during the whole year"
   ]
  },
  {
   "cell_type": "markdown",
   "id": "9ca3e204",
   "metadata": {},
   "source": [
    "### Assigining the specific cycles"
   ]
  },
  {
   "cell_type": "code",
   "execution_count": 5,
   "id": "d7dba56d",
   "metadata": {},
   "outputs": [],
   "source": [
    "# assiging the specific cycles\n",
    "# first cycle: standard cycle\n",
    "fridge.specific_cycle_1(\n",
    "    p_11=200,\n",
    "    t_11=20,\n",
    "    p_12=5,\n",
    "    t_12=10,\n",
    ")\n",
    "\n",
    "# second cycle: intermediate cycle\n",
    "fridge.specific_cycle_2(\n",
    "    p_21=200,\n",
    "    t_21=15,\n",
    "    p_22=5,\n",
    "    t_22=15,\n",
    ")\n",
    "\n",
    "# third cycle: intensive cycle\n",
    "fridge.specific_cycle_3(\n",
    "    p_31=200,\n",
    "    t_31=10,\n",
    "    p_32=5,\n",
    "    t_32=20,\n",
    ")"
   ]
  },
  {
   "cell_type": "markdown",
   "id": "d503eb1f",
   "metadata": {},
   "source": [
    "After defining the cycle power and duration parameters, the time windows of year at which the cycles happens should be specifid by:"
   ]
  },
  {
   "cell_type": "code",
   "execution_count": 6,
   "id": "0ffe55dc",
   "metadata": {},
   "outputs": [],
   "source": [
    "# defining cycle behaviour\n",
    "fridge.cycle_behaviour(\n",
    "    cw11=[480, 1200], cw21=[300, 479], cw31=[0, 229], cw32=[1201, 1440]\n",
    ")"
   ]
  },
  {
   "cell_type": "markdown",
   "id": "bdeb861f",
   "metadata": {},
   "source": [
    "### Building the profiles"
   ]
  },
  {
   "cell_type": "code",
   "execution_count": 7,
   "id": "9b9c1541",
   "metadata": {},
   "outputs": [],
   "source": [
    "use_case = UseCase(users=[household])\n",
    "use_case.peak_time_range = use_case.calc_peak_time_range()"
   ]
  },
  {
   "cell_type": "code",
   "execution_count": 8,
   "id": "49589857",
   "metadata": {},
   "outputs": [
    {
     "name": "stdout",
     "output_type": "stream",
     "text": [
      "The app Fridge has duty cycle option on, however the switch on event fell outside the provided duty cycle windows\n",
      "The app Fridge has duty cycle option on, however the switch on event fell outside the provided duty cycle windows\n",
      "      2020-05-16  2020-08-16  2020-12-16\n",
      "0          0.001       0.001       0.001\n",
      "1          0.001       0.001       0.001\n",
      "2          0.001       0.001       0.001\n",
      "3          0.001       0.001       0.001\n",
      "4          0.001       0.001       0.001\n",
      "...          ...         ...         ...\n",
      "1435       0.001     200.000       0.001\n",
      "1436       0.001     200.000       0.001\n",
      "1437       0.001       0.001       0.001\n",
      "1438       0.001       0.001       0.001\n",
      "1439       0.001       0.001       0.001\n",
      "\n",
      "[1440 rows x 3 columns]\n"
     ]
    }
   ],
   "source": [
    "# days to build the profiles\n",
    "days = [\n",
    "    \"2020-05-16\",\n",
    "    \"2020-08-16\",\n",
    "    \"2020-12-16\",\n",
    "]\n",
    "\n",
    "profiles = pd.DataFrame(index=range(0, 1440), columns=days)\n",
    "\n",
    "for day_idx, day in enumerate(days):\n",
    "    profile = household.generate_single_load_profile(\n",
    "        prof_i=day_idx,  # the day to generate the profile\n",
    "        day_type=get_day_type(day),\n",
    "    )\n",
    "\n",
    "    profiles[day] = profile\n",
    "\n",
    "print(profiles)"
   ]
  },
  {
   "cell_type": "code",
   "execution_count": 9,
   "id": "2143c46d-b324-4844-ae06-f55d81d48bce",
   "metadata": {},
   "outputs": [
    {
     "data": {
      "text/plain": [
       "<AxesSubplot:>"
      ]
     },
     "execution_count": 9,
     "metadata": {},
     "output_type": "execute_result"
    },
    {
     "data": {
      "image/png": "[encoded data removed]",
      "text/plain": [
       "<Figure size 432x288 with 1 Axes>"
      ]
     },
     "metadata": {
      "needs_background": "light"
     },
     "output_type": "display_data"
    }
   ],
   "source": [
    "# plotting a part of the days\n",
    "profiles.iloc[400:500].plot()"
   ]
  },
  {
   "cell_type": "markdown",
   "id": "dacea141-4969-4d31-8991-45f8ad252b53",
   "metadata": {},
   "source": [
    "## Appliances with continuous duty cycle or productive use\n",
    "\n",
    "By default, RAMP models duty cycle in contunuous mode. Given time of use window some switch-on events of random duration are generated and filled with duty cycles. If the duration of the switch-on events is longer than one duty cycle, the load profile is filled with repetitions of the duty cycle.\n",
    "\n",
    "In case of productive uses such as welding, milling or the use of machinery in a carpentry, where appliances are switched on many times within the working hours, switch-on events duration should be limited to the duration of the duty cycle, resulting in one duty cycle per switch-on event.\n",
    "\n",
    "In order to model an appliance having a productive use duty cycle, set the attribute `continuous_duty_cycle` to `0` as in this example below\n",
    "\n"
   ]
  },
  {
   "cell_type": "code",
   "execution_count": 10,
   "id": "5f2985fb-dec1-456a-b198-4c5a3a2acd1c",
   "metadata": {},
   "outputs": [
    {
     "name": "stdout",
     "output_type": "stream",
     "text": [
      "You will simulate 1 day(s) from 2024-03-19 00:00:00 until 2024-03-20 00:00:00\n"
     ]
    },
    {
     "data": {
      "text/plain": [
       "<AxesSubplot:>"
      ]
     },
     "execution_count": 10,
     "metadata": {},
     "output_type": "execute_result"
    },
    {
     "data": {
      "image/png": "[encoded data removed]",
      "text/plain": [
       "<Figure size 432x288 with 1 Axes>"
      ]
     },
     "metadata": {
      "needs_background": "light"
     },
     "output_type": "display_data"
    }
   ],
   "source": [
    "test_user = User(user_name=\"test_user\", num_users=1)\n",
    "\n",
    "# Create test appliance\n",
    "test_appliance = test_user.add_appliance(\n",
    "    name=\"test_appliance_with_duty_cycles\",\n",
    "    func_time=4 * 60,  # runs for 2 hours per day\n",
    "    num_windows=1,\n",
    "    window_1=[6 * 60, 20 * 60],  # usage timeframe from 06:00 to 20:00\n",
    "    fixed_cycle=1,  # appliance uses duty cycles\n",
    "    # Duty cycle 1\n",
    "    p_11=8000,  # power of the first cycle\n",
    "    t_11=2,  # time needed for the first cycle\n",
    "    p_12=2000,  # power of the second cycle\n",
    "    t_12=18,  # time needed for the second cycle\n",
    "    continuous_duty_cycle=0,  # appliance run the duty cycle once per switch on event\n",
    ")\n",
    "# Create and initialize UseCase\n",
    "uc = UseCase(name=\"duty_cycle_test\", users=[test_user])\n",
    "uc.initialize(num_days=1)\n",
    "\n",
    "daily_load_profile = pd.DataFrame(\n",
    "    uc.generate_daily_load_profiles(),\n",
    "    index=uc.datetimeindex,\n",
    ")\n",
    "\n",
    "daily_load_profile.plot()"
   ]
  },
  {
   "cell_type": "markdown",
   "id": "751c06be-deb2-4029-a31f-3ba3b56d5d8b",
   "metadata": {},
   "source": [
    "In order to illustrate how a continuous cycle woud look like, let's set the `continuous_duty_cycle` back to `1`"
   ]
  },
  {
   "cell_type": "code",
   "execution_count": 11,
   "id": "04aec0b2-8a81-4456-b9d4-3cc16387927a",
   "metadata": {},
   "outputs": [
    {
     "data": {
      "text/plain": [
       "<AxesSubplot:>"
      ]
     },
     "execution_count": 11,
     "metadata": {},
     "output_type": "execute_result"
    },
    {
     "data": {
      "image/png": "[encoded data removed]",
      "text/plain": [
       "<Figure size 432x288 with 1 Axes>"
      ]
     },
     "metadata": {
      "needs_background": "light"
     },
     "output_type": "display_data"
    }
   ],
   "source": [
    "test_appliance.continuous_duty_cycle = 1\n",
    "\n",
    "daily_load_profile = pd.DataFrame(\n",
    "    uc.generate_daily_load_profiles(),\n",
    "    index=uc.datetimeindex,\n",
    ")\n",
    "\n",
    "daily_load_profile.plot()"
   ]
  },
  {
   "cell_type": "markdown",
   "id": "67bbb185-fd3b-4a40-b4e4-5968a70990ea",
   "metadata": {},
   "source": [
    "One can see that the switch on events are longer and more than one duty cycle run within the switch on event"
   ]
  }
 ],
 "metadata": {
  "kernelspec": {
   "display_name": "Python 3 (ipykernel)",
   "language": "python",
   "name": "python3"
  },
  "language_info": {
   "codemirror_mode": {
    "name": "ipython",
    "version": 3
   },
   "file_extension": ".py",
   "mimetype": "text/x-python",
   "name": "python",
   "nbconvert_exporter": "python",
   "pygments_lexer": "ipython3",
   "version": "3.8.10"
  }
 },
 "nbformat": 4,
 "nbformat_minor": 5
}
