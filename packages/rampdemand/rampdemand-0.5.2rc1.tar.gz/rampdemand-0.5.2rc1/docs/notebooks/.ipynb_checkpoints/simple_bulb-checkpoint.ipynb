{
 "cells": [
  {
   "cell_type": "markdown",
   "id": "208fe9e9",
   "metadata": {},
   "source": [
    "# Simple Appliances with multiple functioning windows\n",
    "\n",
    "In this example we are going to build a load simulation of a households category with only access to some indoor light bulbs."
   ]
  },
  {
   "cell_type": "code",
   "execution_count": 1,
   "id": "4761038e",
   "metadata": {},
   "outputs": [],
   "source": [
    "# importing functions\n",
    "from ramp import User, UseCase\n",
    "import pandas as pd"
   ]
  },
  {
   "cell_type": "markdown",
   "id": "a07be2a6",
   "metadata": {},
   "source": [
    "### Creating a user category \n",
    "\n",
    "To represent a user category, which is a collection of users with similar consumption characteristics such as appliance ownership and consumption behavior, the class **User** should be used. Each User instance is initially characterized by the number of users assigned to the user category. For example, let's consider a household category comprising 10 households:"
   ]
  },
  {
   "cell_type": "code",
   "execution_count": 2,
   "id": "77e6919a",
   "metadata": {},
   "outputs": [],
   "source": [
    "household = User(\n",
    "    user_name=\"Household\",\n",
    "    num_users=10,\n",
    ")"
   ]
  },
  {
   "cell_type": "markdown",
   "id": "8628f23a",
   "metadata": {},
   "source": [
    "### Creating a simple appliance with two functioning time\n",
    "In the most basic use cases of RAMP, you can model appliances with random usage variability across different time windows throughout the day, as will be created in this example.\n",
    "\n",
    "To model appliances within a household category, parameters such as the number of appliances owned, power usage, number of usage windows, and total usage time need to be specified. Additionally, parameters like the minimum usage time after a switch-on event can enhance the realism of simulations. The randomness of appliance usage can be adjusted through parameters such as variability in the usage window or total usage time.\n",
    "\n",
    "For example, let's consider a household category where each household owns 6 \"Indoor Light Bulbs,\" each consuming 7 Watts. These light bulbs are used for 120 minutes in two time windows: from 00:00 to 00:30 and from 19:30 to 24:00. In RAMP simulations, time resolution is measured in minutes, with each simulation representing a single day from 00:00 (corresponding to minute 0) to 24:00 (corresponding to minute 1440).\n",
    "\n",
    "Assuming a minimum usage time of 10 minutes each time a light bulb is switched on, we can simulate this appliance by creating a new appliance using the **add_appliance** method of the User object:"
   ]
  },
  {
   "cell_type": "code",
   "execution_count": 3,
   "id": "76ff56d6",
   "metadata": {},
   "outputs": [],
   "source": [
    "# add_appliance is meth\n",
    "indoor_bulb = household.add_appliance(\n",
    "    name=\"Indoor Light Bulb\", # the name of the appliance\n",
    "    number=6, # how many of this appliance each user has in this user category\n",
    "    power=7, # the power (in Watt) of each single appliance. RAMP does not deal with units of measures, you should check the consistency of the unit of measures throughout your model\n",
    "    num_windows=2, # how many usage time windows throughout the day?\n",
    "    func_time=120, # the total usage time of appliances\n",
    "    func_cycle=10, # the minimum usage time after a switch on event\n",
    "    window_1=[0, 30],  # from 24 to 00:30\n",
    "    window_2=[1170, 1440],  # from 19:30 to 24:00\n",
    "    random_var_w=0.35, # Variability of the windows in percentage\n",
    "    time_fraction_random_variability=0.2, # randomizes the total time the appliance is on (between 0 and 1)\n",
    ")"
   ]
  },
  {
   "cell_type": "code",
   "execution_count": 4,
   "id": "7d02bfd2",
   "metadata": {},
   "outputs": [
    {
     "name": "stdout",
     "output_type": "stream",
     "text": [
      "   user_name  num_users               name  number  power\n",
      "0  Household         10  Indoor Light Bulb       6    7.0\n"
     ]
    }
   ],
   "source": [
    "print(household)"
   ]
  },
  {
   "cell_type": "markdown",
   "id": "1363283c",
   "metadata": {},
   "source": [
    "You can check the  **maximum theoretical profile** of the appliance and user category by calling the **maximum_profile** property of each user or appliance object:"
   ]
  },
  {
   "cell_type": "code",
   "execution_count": 5,
   "id": "f07cd11c",
   "metadata": {
    "scrolled": true
   },
   "outputs": [
    {
     "data": {
      "text/plain": [
       "<AxesSubplot:>"
      ]
     },
     "execution_count": 5,
     "metadata": {},
     "output_type": "execute_result"
    },
    {
     "data": {
      "image/png": "[encoded data removed]",
      "text/plain": [
       "<Figure size 432x288 with 1 Axes>"
      ]
     },
     "metadata": {
      "needs_background": "light"
     },
     "output_type": "display_data"
    },
    {
     "data": {
      "image/png": "[encoded data removed]",
      "text/plain": [
       "<Figure size 432x288 with 1 Axes>"
      ]
     },
     "metadata": {
      "needs_background": "light"
     },
     "output_type": "display_data"
    }
   ],
   "source": [
    "# Checking the maximum profile of the appliance and user\n",
    "\n",
    "max_profile_bulb = pd.DataFrame(indoor_bulb.maximum_profile, columns=[\"appliance\"])\n",
    "max_profile_user = pd.DataFrame(household.maximum_profile, columns=[\"household\"])\n",
    "\n",
    "max_profile_bulb.plot()\n",
    "max_profile_user.plot()"
   ]
  },
  {
   "cell_type": "markdown",
   "id": "91442f65",
   "metadata": {},
   "source": [
    "### Whole year profile functionality\n",
    "\n",
    "To generate profiles spanning more than a single day, the UseCase class in RAMP allows for specifying calendar days as the start and end dates of the simulation. The UseCase class serves as a collector of different user categories and provides user-friendly methods for generating profiles with various settings.\n",
    "\n",
    "For example, suppose you want to simulate the behavior of 10 households for the entire year 2020. Using the UseCase class, you can specify the calendar days for the start and end dates of the simulation, creating a comprehensive profile spanning the entire year:"
   ]
  },
  {
   "cell_type": "code",
   "execution_count": 6,
   "id": "0771a33a-70ec-453f-ac2e-fad1f4f30bcf",
   "metadata": {},
   "outputs": [
    {
     "name": "stdout",
     "output_type": "stream",
     "text": [
      "You will simulate 366 day(s) from 2020-01-01 00:00:00 until 2021-01-01 00:00:00\n"
     ]
    }
   ],
   "source": [
    "use_case = UseCase(\n",
    "    users=[household], # A list of all the user categories to be included in the simulation. In this case, we only have household user category\n",
    "    date_start=\"2020-01-01\", # starting date of the simulation\n",
    "    date_end=\"2020-12-31\", # end date of the simulation\n",
    "    )\n"
   ]
  },
  {
   "cell_type": "markdown",
   "id": "2678cc9d",
   "metadata": {},
   "source": [
    "To generate the profiles, you can use, **generate_daily_load_profiles** methods."
   ]
  },
  {
   "cell_type": "code",
   "execution_count": 7,
   "id": "ef095488",
   "metadata": {},
   "outputs": [],
   "source": [
    "whole_year_profile = use_case.generate_daily_load_profiles()"
   ]
  },
  {
   "cell_type": "code",
   "execution_count": 8,
   "id": "10d23827-9ea6-4a34-b00c-66f811b024bb",
   "metadata": {},
   "outputs": [
    {
     "data": {
      "text/plain": [
       "<AxesSubplot:>"
      ]
     },
     "execution_count": 8,
     "metadata": {},
     "output_type": "execute_result"
    },
    {
     "data": {
      "image/png": "[encoded data removed]",
      "text/plain": [
       "<Figure size 432x288 with 1 Axes>"
      ]
     },
     "metadata": {
      "needs_background": "light"
     },
     "output_type": "display_data"
    }
   ],
   "source": [
    "whole_year_profile = pd.DataFrame(\n",
    "    whole_year_profile, columns=[\"household\"], index=use_case.datetimeindex\n",
    ")\n",
    "whole_year_profile.plot()"
   ]
  },
  {
   "cell_type": "markdown",
   "id": "9be2baec-f7a1-4f93-8aa9-1ea0cd3b93fd",
   "metadata": {},
   "source": [
    "### Generating a profile for a single day\n",
    "\n",
    "To generate daily profiles for specific user categories, the User class in RAMP offers various methods. One such method is **generate_single_load_profile**, which constructs a load profile for a single user, accounting for all their appliances, based on a specific day of the year or a designated day_type. In RAMP, day_types represent weekdays and weekends, with day_type=0 indicating weekdays and day_type=1 signifying weekends. When defining appliances using the add_appliance method, users can specify whether the appliance is utilized throughout the designated wd_we_type argument.\n",
    "\n",
    "For instance, let's consider the scenario where we aim to generate a single-day load profile for a weekday of the year for a single user within the household category:"
   ]
  },
  {
   "cell_type": "code",
   "execution_count": 9,
   "id": "e4ea14ed",
   "metadata": {},
   "outputs": [],
   "source": [
    "single_profile = household.generate_single_load_profile(\n",
    "    day_type=0\n",
    "    )"
   ]
  },
  {
   "cell_type": "code",
   "execution_count": 10,
   "id": "04545584",
   "metadata": {},
   "outputs": [
    {
     "data": {
      "text/plain": [
       "<AxesSubplot:>"
      ]
     },
     "execution_count": 10,
     "metadata": {},
     "output_type": "execute_result"
    },
    {
     "data": {
      "image/png": "[encoded data removed]",
      "text/plain": [
       "<Figure size 432x288 with 1 Axes>"
      ]
     },
     "metadata": {
      "needs_background": "light"
     },
     "output_type": "display_data"
    }
   ],
   "source": [
    "single_profile = pd.DataFrame(single_profile, columns=[\"household\"])\n",
    "single_profile.plot()"
   ]
  },
  {
   "cell_type": "markdown",
   "id": "1887fa6f-5c30-4bad-9a8b-6b2f26bafd25",
   "metadata": {},
   "source": [
    "### Generating aggregated_load_profile for the user category\n",
    "\n",
    "If instead of a single user from the categoy, you want to generate load profiles of the aggregated users of the category, for a single day, you can use the similar method of User class, named **generate_aggregated_load_profile**:"
   ]
  },
  {
   "cell_type": "code",
   "execution_count": 11,
   "id": "3ed3f527",
   "metadata": {},
   "outputs": [],
   "source": [
    "aggregated_profile = household.generate_aggregated_load_profile(\n",
    "    day_type=0\n",
    ")"
   ]
  },
  {
   "cell_type": "code",
   "execution_count": 12,
   "id": "9bb8f29c",
   "metadata": {},
   "outputs": [
    {
     "data": {
      "text/plain": [
       "<AxesSubplot:>"
      ]
     },
     "execution_count": 12,
     "metadata": {},
     "output_type": "execute_result"
    },
    {
     "data": {
      "image/png": "[encoded data removed]",
      "text/plain": [
       "<Figure size 432x288 with 1 Axes>"
      ]
     },
     "metadata": {
      "needs_background": "light"
     },
     "output_type": "display_data"
    }
   ],
   "source": [
    "aggregated_profile = pd.DataFrame(aggregated_profile, columns=[\"household\"])\n",
    "aggregated_profile.plot()"
   ]
  }
 ],
 "metadata": {
  "kernelspec": {
   "display_name": "Python 3 (ipykernel)",
   "language": "python",
   "name": "python3"
  },
  "language_info": {
   "codemirror_mode": {
    "name": "ipython",
    "version": 3
   },
   "file_extension": ".py",
   "mimetype": "text/x-python",
   "name": "python",
   "nbconvert_exporter": "python",
   "pygments_lexer": "ipython3",
   "version": "3.8.10"
  }
 },
 "nbformat": 4,
 "nbformat_minor": 5
}
