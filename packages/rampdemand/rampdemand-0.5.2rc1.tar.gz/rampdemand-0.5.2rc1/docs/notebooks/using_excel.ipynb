{
 "cells": [
  {
   "cell_type": "markdown",
   "id": "377ae9b9",
   "metadata": {},
   "source": [
    "# Using tabular inputs to build a model\n",
    "\n",
    "When the number of users or appliances is high, it can be difficult \n",
    "to create a model using Python scripts. Therefore, RAMP allows you \n",
    "to create inputs in tabular format (`.xlsx`). On the other hand, it is still possible\n",
    "to use Python to generate a large tabular file with default parameter values, which can\n",
    "then be more easily customised. In this example, we show\n",
    "a possible utilisation of this functionality.\n"
   ]
  },
  {
   "cell_type": "code",
   "execution_count": 1,
   "id": "6f1bcc75",
   "metadata": {},
   "outputs": [],
   "source": [
    "from ramp import User, Appliance, UseCase, get_day_type\n",
    "import pandas as pd"
   ]
  },
  {
   "cell_type": "markdown",
   "id": "4dbdd7e3",
   "metadata": {},
   "source": [
    "As a first step, one must create `User` classes and assign `Appliances` to the user class without assigning detailed appliance characteristics. Hence, users and their appliances are added to a `UseCase`."
   ]
  },
  {
   "cell_type": "markdown",
   "id": "b65420e1",
   "metadata": {},
   "source": [
    "## Building a tabular file populated with default data"
   ]
  },
  {
   "cell_type": "code",
   "execution_count": 2,
   "id": "555f4e99",
   "metadata": {},
   "outputs": [],
   "source": [
    "# Defining a dict of users with their appliances\n",
    "\n",
    "user_app = {\"household\": [\"light\", \"tv\"], \"school\": [\"light\", \"computer\"]}"
   ]
  },
  {
   "cell_type": "code",
   "execution_count": 3,
   "id": "6c995549",
   "metadata": {},
   "outputs": [],
   "source": [
    "# creating a UseCase class to create the database\n",
    "use_case = UseCase()"
   ]
  },
  {
   "cell_type": "code",
   "execution_count": 4,
   "id": "71023fd6",
   "metadata": {},
   "outputs": [
    {
     "name": "stderr",
     "output_type": "stream",
     "text": [
      "/home/fl/GitHub-repos/RAMP/ramp/core/core.py:1198: UserWarning: No windows is declared, default window of 24 hours is selected\n",
      "  warnings.warn(\n"
     ]
    }
   ],
   "source": [
    "# assinging the appliances to users\n",
    "for user, apps in user_app.items():\n",
    "    user_instance = User(user_name=user)\n",
    "\n",
    "    for app in apps:\n",
    "        app_instance = user_instance.add_appliance(name=app)\n",
    "        app_instance.windows()\n",
    "\n",
    "    use_case.add_user(user_instance)"
   ]
  },
  {
   "cell_type": "markdown",
   "id": "2688824d",
   "metadata": {},
   "source": [
    "Once the `Users` and `Appliances` are added to the `use_case` instance, the\n",
    "model user can get a `pd.DataFrame` or an `.xlsx` file of all the data with the\n",
    "default values."
   ]
  },
  {
   "cell_type": "markdown",
   "id": "e160c4c2",
   "metadata": {},
   "source": [
    "### Exporting the database"
   ]
  },
  {
   "cell_type": "code",
   "execution_count": 5,
   "id": "bb487d48",
   "metadata": {},
   "outputs": [
    {
     "data": {
      "text/html": [
       "<div>\n",
       "<style scoped>\n",
       "    .dataframe tbody tr th:only-of-type {\n",
       "        vertical-align: middle;\n",
       "    }\n",
       "\n",
       "    .dataframe tbody tr th {\n",
       "        vertical-align: top;\n",
       "    }\n",
       "\n",
       "    .dataframe thead th {\n",
       "        text-align: right;\n",
       "    }\n",
       "</style>\n",
       "<table border=\"1\" class=\"dataframe\">\n",
       "  <thead>\n",
       "    <tr style=\"text-align: right;\">\n",
       "      <th></th>\n",
       "      <th>user_name</th>\n",
       "      <th>num_users</th>\n",
       "      <th>user_preference</th>\n",
       "      <th>name</th>\n",
       "      <th>number</th>\n",
       "      <th>power</th>\n",
       "      <th>num_windows</th>\n",
       "      <th>func_time</th>\n",
       "      <th>time_fraction_random_variability</th>\n",
       "      <th>func_cycle</th>\n",
       "      <th>...</th>\n",
       "      <th>cw32_start</th>\n",
       "      <th>cw32_end</th>\n",
       "      <th>r_c3</th>\n",
       "      <th>window_1_start</th>\n",
       "      <th>window_1_end</th>\n",
       "      <th>window_2_start</th>\n",
       "      <th>window_2_end</th>\n",
       "      <th>window_3_start</th>\n",
       "      <th>window_3_end</th>\n",
       "      <th>random_var_w</th>\n",
       "    </tr>\n",
       "  </thead>\n",
       "  <tbody>\n",
       "    <tr>\n",
       "      <th>0</th>\n",
       "      <td>household</td>\n",
       "      <td>1</td>\n",
       "      <td>0</td>\n",
       "      <td>light</td>\n",
       "      <td>1</td>\n",
       "      <td>0.0</td>\n",
       "      <td>1</td>\n",
       "      <td>0</td>\n",
       "      <td>0</td>\n",
       "      <td>1</td>\n",
       "      <td>...</td>\n",
       "      <td>0</td>\n",
       "      <td>0</td>\n",
       "      <td>0</td>\n",
       "      <td>0</td>\n",
       "      <td>1440</td>\n",
       "      <td>0</td>\n",
       "      <td>0</td>\n",
       "      <td>0</td>\n",
       "      <td>0</td>\n",
       "      <td>0</td>\n",
       "    </tr>\n",
       "    <tr>\n",
       "      <th>1</th>\n",
       "      <td>household</td>\n",
       "      <td>1</td>\n",
       "      <td>0</td>\n",
       "      <td>tv</td>\n",
       "      <td>1</td>\n",
       "      <td>0.0</td>\n",
       "      <td>1</td>\n",
       "      <td>0</td>\n",
       "      <td>0</td>\n",
       "      <td>1</td>\n",
       "      <td>...</td>\n",
       "      <td>0</td>\n",
       "      <td>0</td>\n",
       "      <td>0</td>\n",
       "      <td>0</td>\n",
       "      <td>1440</td>\n",
       "      <td>0</td>\n",
       "      <td>0</td>\n",
       "      <td>0</td>\n",
       "      <td>0</td>\n",
       "      <td>0</td>\n",
       "    </tr>\n",
       "    <tr>\n",
       "      <th>2</th>\n",
       "      <td>school</td>\n",
       "      <td>1</td>\n",
       "      <td>0</td>\n",
       "      <td>light</td>\n",
       "      <td>1</td>\n",
       "      <td>0.0</td>\n",
       "      <td>1</td>\n",
       "      <td>0</td>\n",
       "      <td>0</td>\n",
       "      <td>1</td>\n",
       "      <td>...</td>\n",
       "      <td>0</td>\n",
       "      <td>0</td>\n",
       "      <td>0</td>\n",
       "      <td>0</td>\n",
       "      <td>1440</td>\n",
       "      <td>0</td>\n",
       "      <td>0</td>\n",
       "      <td>0</td>\n",
       "      <td>0</td>\n",
       "      <td>0</td>\n",
       "    </tr>\n",
       "    <tr>\n",
       "      <th>3</th>\n",
       "      <td>school</td>\n",
       "      <td>1</td>\n",
       "      <td>0</td>\n",
       "      <td>computer</td>\n",
       "      <td>1</td>\n",
       "      <td>0.0</td>\n",
       "      <td>1</td>\n",
       "      <td>0</td>\n",
       "      <td>0</td>\n",
       "      <td>1</td>\n",
       "      <td>...</td>\n",
       "      <td>0</td>\n",
       "      <td>0</td>\n",
       "      <td>0</td>\n",
       "      <td>0</td>\n",
       "      <td>1440</td>\n",
       "      <td>0</td>\n",
       "      <td>0</td>\n",
       "      <td>0</td>\n",
       "      <td>0</td>\n",
       "      <td>0</td>\n",
       "    </tr>\n",
       "  </tbody>\n",
       "</table>\n",
       "<p>4 rows × 51 columns</p>\n",
       "</div>"
      ],
      "text/plain": [
       "   user_name  num_users  user_preference      name  number  power  \\\n",
       "0  household          1                0     light       1    0.0   \n",
       "1  household          1                0        tv       1    0.0   \n",
       "2     school          1                0     light       1    0.0   \n",
       "3     school          1                0  computer       1    0.0   \n",
       "\n",
       "   num_windows  func_time  time_fraction_random_variability  func_cycle  ...  \\\n",
       "0            1          0                                 0           1  ...   \n",
       "1            1          0                                 0           1  ...   \n",
       "2            1          0                                 0           1  ...   \n",
       "3            1          0                                 0           1  ...   \n",
       "\n",
       "  cw32_start  cw32_end  r_c3 window_1_start  window_1_end  window_2_start  \\\n",
       "0          0         0     0              0          1440               0   \n",
       "1          0         0     0              0          1440               0   \n",
       "2          0         0     0              0          1440               0   \n",
       "3          0         0     0              0          1440               0   \n",
       "\n",
       "   window_2_end  window_3_start  window_3_end  random_var_w  \n",
       "0             0               0             0             0  \n",
       "1             0               0             0             0  \n",
       "2             0               0             0             0  \n",
       "3             0               0             0             0  \n",
       "\n",
       "[4 rows x 51 columns]"
      ]
     },
     "execution_count": 5,
     "metadata": {},
     "output_type": "execute_result"
    }
   ],
   "source": [
    "# getting the dataframe\n",
    "use_case.export_to_dataframe()"
   ]
  },
  {
   "cell_type": "code",
   "execution_count": 6,
   "id": "6a33a1dc",
   "metadata": {},
   "outputs": [],
   "source": [
    "# Printing out the database to an .xlsx file\n",
    "use_case.save(\"example_excel_usecase\")"
   ]
  },
  {
   "cell_type": "markdown",
   "id": "4b6db372",
   "metadata": {},
   "source": [
    "Once the function is used, an `.xlsx` file will be created in the given\n",
    "path. Now, you can easily fill out the information in the `.xlsx` file and\n",
    "load the data into the model database as detailed below."
   ]
  },
  {
   "cell_type": "markdown",
   "id": "f4f4e293",
   "metadata": {},
   "source": [
    "### Loading the database"
   ]
  },
  {
   "cell_type": "code",
   "execution_count": 11,
   "id": "fecf2e52",
   "metadata": {},
   "outputs": [],
   "source": [
    "# loading data\n",
    "\n",
    "use_case = UseCase()  # creating a new UseCase instance\n",
    "use_case.load(\"example_excel_usecase_filled.xlsx\")"
   ]
  },
  {
   "cell_type": "markdown",
   "id": "7f50fd4d",
   "metadata": {},
   "source": [
    "## Generating load profiles"
   ]
  },
  {
   "cell_type": "markdown",
   "id": "1b5dd0dc",
   "metadata": {},
   "source": [
    "Once the database is loaded, the user can continue with the normal analysis, for instance, generating aggregated profiles"
   ]
  },
  {
   "cell_type": "code",
   "execution_count": 12,
   "id": "9b4dc984-e6a3-491e-aea6-b56f73300196",
   "metadata": {},
   "outputs": [
    {
     "name": "stdout",
     "output_type": "stream",
     "text": [
      "You will simulate 30 day(s) from 2020-01-01 00:00:00 until 2020-01-31 00:00:00\n"
     ]
    },
    {
     "data": {
      "text/plain": [
       "array([0.   , 0.   , 0.   , ..., 0.002, 0.002, 0.002])"
      ]
     },
     "execution_count": 12,
     "metadata": {},
     "output_type": "execute_result"
    }
   ],
   "source": [
    "n_days = 30\n",
    "date_start = \"2020-01-01\"\n",
    "use_case.date_start = date_start\n",
    "use_case.initialize(num_days=n_days, force=True)\n",
    "use_case.generate_daily_load_profiles()"
   ]
  },
  {
   "cell_type": "code",
   "execution_count": 13,
   "id": "697c8a01-4cd2-4218-9dc3-943de2474812",
   "metadata": {},
   "outputs": [
    {
     "data": {
      "text/plain": [
       "<Axes: title={'center': 'Usecase'}>"
      ]
     },
     "execution_count": 13,
     "metadata": {},
     "output_type": "execute_result"
    },
    {
     "data": {
      "image/png": "[encoded data removed]",
      "text/plain": [
       "<Figure size 640x480 with 1 Axes>"
      ]
     },
     "metadata": {},
     "output_type": "display_data"
    }
   ],
   "source": [
    "profiles = pd.DataFrame(\n",
    "    data=use_case.generate_daily_load_profiles(flat=True),\n",
    "    index=pd.date_range(start=date_start, periods=1440 * n_days, freq=\"T\"),\n",
    ")\n",
    "\n",
    "profiles.plot(title=\"Usecase\")"
   ]
  },
  {
   "cell_type": "markdown",
   "id": "a0de8c06-d4d7-4da1-b598-c03e56688b40",
   "metadata": {},
   "source": [
    "### Generating load profiles for the single users of the usecase"
   ]
  },
  {
   "cell_type": "code",
   "execution_count": 14,
   "id": "26859fb2",
   "metadata": {},
   "outputs": [
    {
     "data": {
      "image/png": "[encoded data removed]",
      "text/plain": [
       "<Figure size 640x480 with 1 Axes>"
      ]
     },
     "metadata": {},
     "output_type": "display_data"
    },
    {
     "data": {
      "image/png": "[encoded data removed]",
      "text/plain": [
       "<Figure size 640x480 with 1 Axes>"
      ]
     },
     "metadata": {},
     "output_type": "display_data"
    }
   ],
   "source": [
    "for user in use_case.users:\n",
    "    user_profiles = []\n",
    "    for day_idx, day in enumerate(use_case.days):\n",
    "        profile = user.generate_aggregated_load_profile(\n",
    "            prof_i=day_idx,\n",
    "            peak_time_range=use_case.peak_time_range,\n",
    "            day_type=get_day_type(day),\n",
    "        )\n",
    "\n",
    "        user_profiles.extend(profile)\n",
    "\n",
    "    profiles = pd.DataFrame(\n",
    "        data=user_profiles,\n",
    "        index=pd.date_range(start=date_start, periods=1440 * n_days, freq=\"T\"),\n",
    "    )\n",
    "\n",
    "    profiles.plot(title=user.user_name)"
   ]
  },
  {
   "cell_type": "code",
   "execution_count": null,
   "id": "20f6ef5a-2214-4630-8843-839aeb8cc030",
   "metadata": {},
   "outputs": [],
   "source": []
  }
 ],
 "metadata": {
  "kernelspec": {
   "display_name": "Python 3 (ipykernel)",
   "language": "python",
   "name": "python3"
  },
  "language_info": {
   "codemirror_mode": {
    "name": "ipython",
    "version": 3
   },
   "file_extension": ".py",
   "mimetype": "text/x-python",
   "name": "python",
   "nbconvert_exporter": "python",
   "pygments_lexer": "ipython3",
   "version": "3.8.18"
  }
 },
 "nbformat": 4,
 "nbformat_minor": 5
}
