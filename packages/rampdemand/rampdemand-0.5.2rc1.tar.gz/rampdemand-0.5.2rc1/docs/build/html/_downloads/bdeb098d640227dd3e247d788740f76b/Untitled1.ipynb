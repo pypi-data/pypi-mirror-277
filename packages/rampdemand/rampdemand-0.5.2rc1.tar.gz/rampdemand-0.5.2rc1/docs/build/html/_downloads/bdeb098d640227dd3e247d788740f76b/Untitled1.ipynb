{
 "cells": [
  {
   "cell_type": "code",
   "execution_count": 6,
   "id": "51a9ad1e-fe5f-49f1-8310-ebee15271971",
   "metadata": {},
   "outputs": [],
   "source": [
    "import numpy as np\n",
    "import pandas as pd\n",
    "from ramp import Plot\n",
    "import matplotlib.pyplot as plt"
   ]
  },
  {
   "cell_type": "code",
   "execution_count": 19,
   "id": "9aa62cf7-ea82-4ffc-9b07-806b2678c37e",
   "metadata": {},
   "outputs": [
    {
     "name": "stderr",
     "output_type": "stream",
     "text": [
      "No artists with labels found to put in legend.  Note that artists whose label start with an underscore are ignored when legend() is called with no argument.\n"
     ]
    },
    {
     "data": {
      "image/png": "[encoded data removed]",
      "text/plain": [
       "<Figure size 432x288 with 1 Axes>"
      ]
     },
     "metadata": {
      "needs_background": "light"
     },
     "output_type": "display_data"
    }
   ],
   "source": [
    "R = np.linspace(1, 2, 50)\n",
    "R\n",
    "# plt.plot(R, np.log(R), label=\"log\")\n",
    "plt.plot(R, 1 / R - np.log(R))\n",
    "plt.legend()\n",
    "plt.show()"
   ]
  },
  {
   "cell_type": "code",
   "execution_count": null,
   "id": "f1a3d9e6-bf7e-45e7-8412-54a0b68edc94",
   "metadata": {},
   "outputs": [],
   "source": [
    "ln(r - R)"
   ]
  },
  {
   "cell_type": "code",
   "execution_count": 3,
   "id": "3860c0c5-864c-4a36-9547-36937c1fe451",
   "metadata": {},
   "outputs": [],
   "source": [
    "profiles = []"
   ]
  },
  {
   "cell_type": "code",
   "execution_count": 10,
   "id": "e7718686-ca68-436c-b5a3-04aacd9bd3fa",
   "metadata": {},
   "outputs": [
    {
     "data": {
      "text/plain": [
       "[1, 2, 3, 1, 2, 3, 1, 2, 3, 1, 2, 3, 1, 2, 3]"
      ]
     },
     "execution_count": 10,
     "metadata": {},
     "output_type": "execute_result"
    }
   ],
   "source": [
    "profiles.extend(results.tolist())\n",
    "profiles"
   ]
  },
  {
   "cell_type": "code",
   "execution_count": 13,
   "id": "e3c57470-38de-418b-bdcd-61037829d962",
   "metadata": {},
   "outputs": [],
   "source": [
    "daily_profiles = np.zeros((4, 3))\n",
    "i = 0"
   ]
  },
  {
   "cell_type": "code",
   "execution_count": 17,
   "id": "8ccba02f-40ae-4be4-b6fb-f642186c4605",
   "metadata": {},
   "outputs": [
    {
     "data": {
      "text/plain": [
       "array([[1., 2., 3.],\n",
       "       [1., 2., 3.],\n",
       "       [1., 2., 3.],\n",
       "       [1., 2., 3.]])"
      ]
     },
     "execution_count": 17,
     "metadata": {},
     "output_type": "execute_result"
    }
   ],
   "source": [
    "daily_profiles[i, :] = results\n",
    "i = i + 1\n",
    "daily_profiles"
   ]
  },
  {
   "cell_type": "code",
   "execution_count": 22,
   "id": "92031512-a90e-4c36-be2c-66d2cf15c301",
   "metadata": {},
   "outputs": [],
   "source": [
    "profiles = daily_profiles.reshape(1, 12).squeeze()"
   ]
  },
  {
   "cell_type": "code",
   "execution_count": 24,
   "id": "cc2971f2-08e1-438d-9207-ed7b3183a3e2",
   "metadata": {},
   "outputs": [],
   "source": [
    "res = {}"
   ]
  },
  {
   "cell_type": "code",
   "execution_count": 25,
   "id": "f6a88c8b-6360-4511-aa76-54d968fc9e27",
   "metadata": {},
   "outputs": [],
   "source": [
    "res[\"column\"] = pd.Series(data=profiles)"
   ]
  },
  {
   "cell_type": "code",
   "execution_count": 30,
   "id": "7f1f4867-3fa6-4cb7-9c1c-4e91b58297cc",
   "metadata": {},
   "outputs": [
    {
     "data": {
      "text/plain": [
       "   column\n",
       "0     1.0\n",
       "1     2.0\n",
       "2     3.0\n",
       "3     1.0\n",
       "4     2.0\n",
       "5     3.0\n",
       "6     1.0\n",
       "7     2.0\n",
       "8     3.0\n",
       "9     1.0\n",
       " ......"
      ]
     },
     "execution_count": 30,
     "metadata": {},
     "output_type": "execute_result"
    }
   ],
   "source": [
    "Plot(pd.concat(res, axis=1))"
   ]
  },
  {
   "cell_type": "code",
   "execution_count": 42,
   "id": "4a3253fd-bac6-4070-afa5-71c9d17497df",
   "metadata": {},
   "outputs": [
    {
     "data": {
      "text/plain": [
       "DatetimeIndex(['2023-01-01 00:00:00', '2023-01-01 00:01:00',\n",
       "               '2023-01-01 00:02:00', '2023-01-01 00:03:00',\n",
       "               '2023-01-01 00:04:00', '2023-01-01 00:05:00',\n",
       "               '2023-01-01 00:06:00', '2023-01-01 00:07:00',\n",
       "               '2023-01-01 00:08:00', '2023-01-01 00:09:00',\n",
       "               ...\n",
       "               '2023-01-07 23:50:00', '2023-01-07 23:51:00',\n",
       "               '2023-01-07 23:52:00', '2023-01-07 23:53:00',\n",
       "               '2023-01-07 23:54:00', '2023-01-07 23:55:00',\n",
       "               '2023-01-07 23:56:00', '2023-01-07 23:57:00',\n",
       "               '2023-01-07 23:58:00', '2023-01-07 23:59:00'],\n",
       "              dtype='datetime64[ns]', length=10080, freq='T')"
      ]
     },
     "execution_count": 42,
     "metadata": {},
     "output_type": "execute_result"
    }
   ],
   "source": [
    "days = pd.date_range(start=\"2023-01-01\", periods=7)\n",
    "upsampled = pd.date_range(\n",
    "    start=days[0], end=days[-1] + pd.Timedelta(1, \"d\") - pd.Timedelta(1, \"T\"), freq=\"T\"\n",
    ")\n",
    "upsampled"
   ]
  },
  {
   "cell_type": "code",
   "execution_count": 4,
   "id": "30f1f04d-502d-4f90-9382-1054bce61191",
   "metadata": {},
   "outputs": [
    {
     "data": {
      "text/plain": [
       "datetime.datetime(2023, 11, 30, 23, 35, 41, 952658)"
      ]
     },
     "execution_count": 4,
     "metadata": {},
     "output_type": "execute_result"
    }
   ],
   "source": [
    "import datetime\n",
    "\n",
    "today = datetime.datetime.today()\n",
    "today"
   ]
  },
  {
   "cell_type": "code",
   "execution_count": 8,
   "id": "c1007f79-6c68-4fb3-bf08-1089d44da367",
   "metadata": {},
   "outputs": [
    {
     "data": {
      "text/plain": [
       "datetime.datetime(2023, 11, 30, 0, 0)"
      ]
     },
     "execution_count": 8,
     "metadata": {},
     "output_type": "execute_result"
    }
   ],
   "source": [
    "datetime.datetime(today.year, today.month, today.day)"
   ]
  },
  {
   "cell_type": "code",
   "execution_count": 31,
   "id": "ab819b07-de42-43da-9736-f1da072b4c1f",
   "metadata": {},
   "outputs": [
    {
     "data": {
      "text/plain": [
       "DatetimeIndex(['2020-01-01'], dtype='datetime64[ns]', freq='D')"
      ]
     },
     "execution_count": 31,
     "metadata": {},
     "output_type": "execute_result"
    }
   ],
   "source": [
    "d = pd.date_range(end=datetime.datetime(2020, 1, 1), periods=1)\n",
    "d"
   ]
  },
  {
   "cell_type": "code",
   "execution_count": 19,
   "id": "096bb94a-a24b-49f4-b1d3-5498e304c97b",
   "metadata": {},
   "outputs": [
    {
     "data": {
      "text/plain": [
       "Timestamp('2023-11-30 23:59:00', freq='D')"
      ]
     },
     "execution_count": 19,
     "metadata": {},
     "output_type": "execute_result"
    }
   ],
   "source": [
    "d[-1] + datetime.timedelta(hours=23, minutes=59)"
   ]
  }
 ],
 "metadata": {
  "kernelspec": {
   "display_name": "Python 3 (ipykernel)",
   "language": "python",
   "name": "python3"
  },
  "language_info": {
   "codemirror_mode": {
    "name": "ipython",
    "version": 3
   },
   "file_extension": ".py",
   "mimetype": "text/x-python",
   "name": "python",
   "nbconvert_exporter": "python",
   "pygments_lexer": "ipython3",
   "version": "3.8.10"
  }
 },
 "nbformat": 4,
 "nbformat_minor": 5
}
