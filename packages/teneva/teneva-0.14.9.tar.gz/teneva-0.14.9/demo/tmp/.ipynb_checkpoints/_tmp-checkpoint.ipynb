{
 "cells": [
  {
   "cell_type": "code",
   "execution_count": 1,
   "id": "015b28d0-f276-409f-8861-cf28a2a4d1c8",
   "metadata": {},
   "outputs": [],
   "source": [
    "import numpy as np\n",
    "import teneva\n",
    "from time import perf_counter as tpc\n",
    "np.random.seed(42)"
   ]
  },
  {
   "cell_type": "code",
   "execution_count": 2,
   "id": "314c2caa-7b08-4ac8-87af-70250bf80ed9",
   "metadata": {},
   "outputs": [],
   "source": [
    "d    = 5                          # Dimension of the function\n",
    "a    = [-5., -4., -3., -2., -1.]  # Lower bounds for spatial grid\n",
    "b    = [+6., +3., +3., +1., +2.]  # Upper bounds for spatial grid\n",
    "n    = [ 10,  12,  14,  16,  18]  # Shape of the tensor"
   ]
  },
  {
   "cell_type": "code",
   "execution_count": 3,
   "id": "88aad408-6529-4627-9fb9-bf2361180090",
   "metadata": {},
   "outputs": [],
   "source": [
    "m    = 1.E+4                      # Number of calls to target function\n",
    "nswp = 50                         # Sweep number for ALS iterations\n",
    "r    = 5                          # TT-rank of the initial random tensor"
   ]
  },
  {
   "cell_type": "code",
   "execution_count": 4,
   "id": "3bf5bd1a-7bc2-4640-bff1-07b389749aec",
   "metadata": {},
   "outputs": [],
   "source": [
    "def func(I):\n",
    "    \"\"\"Schaffer function.\"\"\"\n",
    "    X = teneva.ind_to_poi(I, a, b, n)\n",
    "    Z = X[:, :-1]**2 + X[:, 1:]**2\n",
    "    y = 0.5 + (np.sin(np.sqrt(Z))**2 - 0.5) / (1. + 0.001 * Z)**2\n",
    "    return np.sum(y, axis=1)"
   ]
  },
  {
   "cell_type": "code",
   "execution_count": 5,
   "id": "20e525e7-dd9d-46a8-869c-c1593f9faf3d",
   "metadata": {},
   "outputs": [],
   "source": [
    "I_trn = teneva.sample_lhs(n, m, seed=42) \n",
    "y_trn = func(I_trn)"
   ]
  },
  {
   "cell_type": "code",
   "execution_count": 6,
   "id": "0a673ff7-998b-4a44-8b78-1531030a4536",
   "metadata": {},
   "outputs": [],
   "source": [
    "I_vld = teneva.sample_rand(n, 1.E+3, seed=99) \n",
    "y_vld = func(I_vld)"
   ]
  },
  {
   "cell_type": "code",
   "execution_count": 7,
   "id": "3d9a6349-e9d9-4afd-9226-432f4652b6cd",
   "metadata": {},
   "outputs": [],
   "source": [
    "I_tst = teneva.sample_rand(n, 1.E+4, seed=42) \n",
    "y_tst = func(I_tst)"
   ]
  },
  {
   "cell_type": "code",
   "execution_count": 8,
   "id": "65cd4231-941e-4b6e-957a-733eefc3bdd1",
   "metadata": {},
   "outputs": [
    {
     "name": "stdout",
     "output_type": "stream",
     "text": [
      "Build time     :       1.71\n"
     ]
    }
   ],
   "source": [
    "t = tpc()\n",
    "Y = teneva.anova(I_trn, y_trn, r)\n",
    "Y = teneva.als(I_trn, y_trn, Y, nswp)\n",
    "t = tpc() - t\n",
    "\n",
    "print(f'Build time     : {t:-10.2f}')"
   ]
  },
  {
   "cell_type": "code",
   "execution_count": 9,
   "id": "27b68c89-fe3b-44bf-befc-3ed4a8aa7740",
   "metadata": {},
   "outputs": [
    {
     "name": "stdout",
     "output_type": "stream",
     "text": [
      "Error on train :   1.28e-03\n",
      "Error on valid.:   1.45e-03\n",
      "Error on test  :   1.45e-03\n"
     ]
    }
   ],
   "source": [
    "print(f'Error on train : {teneva.accuracy_on_data(Y, I_trn, y_trn):-10.2e}')\n",
    "print(f'Error on valid.: {teneva.accuracy_on_data(Y, I_vld, y_vld):-10.2e}')\n",
    "print(f'Error on test  : {teneva.accuracy_on_data(Y, I_tst, y_tst):-10.2e}')"
   ]
  },
  {
   "cell_type": "code",
   "execution_count": 22,
   "id": "2456a3cb-5373-4a2b-9f8b-bab39fb3ef53",
   "metadata": {},
   "outputs": [
    {
     "name": "stdout",
     "output_type": "stream",
     "text": [
      "# pre | time:      0.000 | rank:   5.0 | e_vld: 8.4e-01 | \n",
      "#   1 | time:      0.006 | rank:   5.0 | e_vld: 8.4e-01 | e: 6.5e-09 | \n",
      "#   2 | time:      0.011 | rank:   5.0 | e_vld: 8.4e-01 | e: 6.5e-09 | \n",
      "#   3 | time:      0.017 | rank:   5.0 | e_vld: 8.4e-01 | e: 6.5e-09 | \n",
      "#   4 | time:      0.021 | rank:   5.0 | e_vld: 8.4e-01 | e: 6.5e-09 | \n",
      "#   5 | time:      0.025 | rank:   5.0 | e_vld: 8.4e-01 | e: 6.5e-09 | \n",
      "#   6 | time:      0.029 | rank:   5.0 | e_vld: 8.4e-01 | e: 6.5e-09 | \n",
      "#   7 | time:      0.033 | rank:   5.0 | e_vld: 8.4e-01 | e: 6.5e-09 | \n",
      "#   8 | time:      0.037 | rank:   5.0 | e_vld: 8.4e-01 | e: 6.5e-09 | \n",
      "#   9 | time:      0.040 | rank:   5.0 | e_vld: 8.4e-01 | e: 6.5e-09 | \n",
      "#  10 | time:      0.043 | rank:   5.0 | e_vld: 8.4e-01 | e: 6.5e-09 | \n",
      "#  11 | time:      0.046 | rank:   5.0 | e_vld: 8.4e-01 | e: 6.5e-09 | \n",
      "#  12 | time:      0.050 | rank:   5.0 | e_vld: 8.4e-01 | e: 6.5e-09 | \n",
      "#  13 | time:      0.054 | rank:   5.0 | e_vld: 8.4e-01 | e: 6.5e-09 | \n",
      "#  14 | time:      0.057 | rank:   5.0 | e_vld: 8.4e-01 | e: 6.5e-09 | \n",
      "#  15 | time:      0.060 | rank:   5.0 | e_vld: 8.4e-01 | e: 6.5e-09 | \n",
      "#  16 | time:      0.063 | rank:   5.0 | e_vld: 8.4e-01 | e: 6.5e-09 | \n",
      "#  17 | time:      0.066 | rank:   5.0 | e_vld: 8.4e-01 | e: 6.5e-09 | \n",
      "#  18 | time:      0.069 | rank:   5.0 | e_vld: 8.4e-01 | e: 6.5e-09 | \n",
      "#  19 | time:      0.071 | rank:   5.0 | e_vld: 8.4e-01 | e: 6.5e-09 | \n",
      "#  20 | time:      0.074 | rank:   5.0 | e_vld: 8.4e-01 | e: 6.5e-09 | \n",
      "#  21 | time:      0.077 | rank:   5.0 | e_vld: 8.4e-01 | e: 6.5e-09 | \n",
      "#  22 | time:      0.080 | rank:   5.0 | e_vld: 8.4e-01 | e: 6.5e-09 | \n",
      "#  23 | time:      0.083 | rank:   5.0 | e_vld: 8.4e-01 | e: 6.5e-09 | \n",
      "#  24 | time:      0.086 | rank:   5.0 | e_vld: 8.4e-01 | e: 6.5e-09 | \n",
      "#  25 | time:      0.089 | rank:   5.0 | e_vld: 8.4e-01 | e: 6.5e-09 | \n",
      "#  26 | time:      0.091 | rank:   5.0 | e_vld: 8.4e-01 | e: 6.5e-09 | \n",
      "#  27 | time:      0.094 | rank:   5.0 | e_vld: 8.4e-01 | e: 6.5e-09 | \n",
      "#  28 | time:      0.096 | rank:   5.0 | e_vld: 8.4e-01 | e: 6.5e-09 | \n",
      "#  29 | time:      0.099 | rank:   5.0 | e_vld: 8.4e-01 | e: 6.5e-09 | \n",
      "#  30 | time:      0.102 | rank:   5.0 | e_vld: 8.4e-01 | e: 6.5e-09 | \n",
      "#  31 | time:      0.105 | rank:   5.0 | e_vld: 8.4e-01 | e: 6.5e-09 | \n",
      "#  32 | time:      0.108 | rank:   5.0 | e_vld: 8.4e-01 | e: 6.5e-09 | \n",
      "#  33 | time:      0.110 | rank:   5.0 | e_vld: 8.4e-01 | e: 6.5e-09 | \n",
      "#  34 | time:      0.113 | rank:   5.0 | e_vld: 8.4e-01 | e: 6.5e-09 | \n",
      "#  35 | time:      0.116 | rank:   5.0 | e_vld: 8.4e-01 | e: 6.5e-09 | \n",
      "#  36 | time:      0.118 | rank:   5.0 | e_vld: 8.4e-01 | e: 6.5e-09 | \n",
      "#  37 | time:      0.121 | rank:   5.0 | e_vld: 8.4e-01 | e: 6.5e-09 | \n",
      "#  38 | time:      0.123 | rank:   5.0 | e_vld: 8.4e-01 | e: 6.5e-09 | \n",
      "#  39 | time:      0.125 | rank:   5.0 | e_vld: 8.4e-01 | e: 6.5e-09 | \n",
      "#  40 | time:      0.128 | rank:   5.0 | e_vld: 8.4e-01 | e: 6.5e-09 | \n",
      "#  41 | time:      0.130 | rank:   5.0 | e_vld: 8.4e-01 | e: 6.5e-09 | \n",
      "#  42 | time:      0.133 | rank:   5.0 | e_vld: 8.4e-01 | e: 6.5e-09 | \n",
      "#  43 | time:      0.135 | rank:   5.0 | e_vld: 8.4e-01 | e: 6.5e-09 | \n",
      "#  44 | time:      0.137 | rank:   5.0 | e_vld: 8.4e-01 | e: 6.5e-09 | \n",
      "#  45 | time:      0.140 | rank:   5.0 | e_vld: 8.4e-01 | e: 6.5e-09 | \n",
      "#  46 | time:      0.142 | rank:   5.0 | e_vld: 8.4e-01 | e: 6.5e-09 | \n",
      "#  47 | time:      0.145 | rank:   5.0 | e_vld: 8.4e-01 | e: 6.5e-09 | \n",
      "#  48 | time:      0.147 | rank:   5.0 | e_vld: 8.4e-01 | e: 6.5e-09 | \n",
      "#  49 | time:      0.149 | rank:   5.0 | e_vld: 8.4e-01 | e: 6.5e-09 | \n",
      "#  50 | time:      0.152 | rank:   5.0 | e_vld: 8.4e-01 | e: 6.5e-09 | stop: nswp | \n"
     ]
    }
   ],
   "source": [
    "k = 0\n",
    "i = I_trn[k]\n",
    "y = y_trn[k]\n",
    "\n",
    "Y = teneva.rand(n, r)\n",
    "Y = teneva.als(i.reshape(1, -1), [y], Y, e=1.E-12, I_vld=I_vld[k].reshape(1, -1), y_vld=[y_vld[k]], log=True, \n",
    "    update_sol=True, lamb=10000000, allow_skip_cores=True)"
   ]
  },
  {
   "cell_type": "code",
   "execution_count": 30,
   "id": "0d34ee73-4298-466c-92b3-fda6f2bd01d8",
   "metadata": {},
   "outputs": [
    {
     "data": {
      "text/plain": [
       "42"
      ]
     },
     "execution_count": 30,
     "metadata": {},
     "output_type": "execute_result"
    }
   ],
   "source": [
    "from copy import deepcopy as copy\n",
    "copy(42)"
   ]
  },
  {
   "cell_type": "code",
   "execution_count": 31,
   "id": "dd3c1aba-0319-4e1b-b698-3ea009148c28",
   "metadata": {},
   "outputs": [
    {
     "data": {
      "text/plain": [
       "array([1, 1, 2, 2, 4, 4, 4, 6])"
      ]
     },
     "execution_count": 31,
     "metadata": {},
     "output_type": "execute_result"
    }
   ],
   "source": [
    "x = [1, 1, 2, 1, 4, 3, 2, 6]\n",
    "np.maximum.accumulate(x)"
   ]
  },
  {
   "cell_type": "code",
   "execution_count": 32,
   "id": "bb58ac50-355b-4e8d-b589-3b5b8fe45195",
   "metadata": {},
   "outputs": [
    {
     "data": {
      "text/plain": [
       "array([1, 1, 1, 1, 1, 1, 1, 1])"
      ]
     },
     "execution_count": 32,
     "metadata": {},
     "output_type": "execute_result"
    }
   ],
   "source": [
    "np.minimum.accumulate(x)"
   ]
  },
  {
   "cell_type": "code",
   "execution_count": 34,
   "id": "114fd4d2-0df5-4d64-998f-3ded777acf68",
   "metadata": {},
   "outputs": [
    {
     "data": {
      "text/plain": [
       "array([0, 1, 3])"
      ]
     },
     "execution_count": 34,
     "metadata": {},
     "output_type": "execute_result"
    }
   ],
   "source": [
    "dx = np.array([0.6, 0.7, 0., -0.4])\n",
    "np.where(np.abs(dx) > 1.E-16)[0]"
   ]
  },
  {
   "cell_type": "code",
   "execution_count": 9,
   "id": "a5b26dee-9904-4e38-ae4a-9af11c22dec5",
   "metadata": {},
   "outputs": [],
   "source": []
  },
  {
   "cell_type": "code",
   "execution_count": 12,
   "id": "740ca5d0-affe-44e3-83e3-f68053893180",
   "metadata": {},
   "outputs": [
    {
     "data": {
      "text/plain": [
       "array([[-2.  ,  0.  ,  2.  ],\n",
       "       [ 2.  ,  0.  ,  1.25]])"
      ]
     },
     "execution_count": 12,
     "metadata": {},
     "output_type": "execute_result"
    }
   ],
   "source": []
  },
  {
   "cell_type": "code",
   "execution_count": null,
   "id": "e3b5a330-1412-4735-81b7-c77b6856d3dc",
   "metadata": {},
   "outputs": [],
   "source": []
  }
 ],
 "metadata": {
  "kernelspec": {
   "display_name": "Python 3 (ipykernel)",
   "language": "python",
   "name": "python3"
  },
  "language_info": {
   "codemirror_mode": {
    "name": "ipython",
    "version": 3
   },
   "file_extension": ".py",
   "mimetype": "text/x-python",
   "name": "python",
   "nbconvert_exporter": "python",
   "pygments_lexer": "ipython3",
   "version": "3.8.17"
  }
 },
 "nbformat": 4,
 "nbformat_minor": 5
}
