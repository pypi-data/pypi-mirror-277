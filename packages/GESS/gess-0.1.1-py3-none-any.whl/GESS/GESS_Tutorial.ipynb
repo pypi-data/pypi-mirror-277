{
 "cells": [
  {
   "cell_type": "markdown",
   "metadata": {},
   "source": [
    "This tutorial will walk you through how to use the PyPI version of GESS. \n",
    "\n",
    "The assumption is that you have installed GESS using the command:\n",
    "\n",
    "    pip install GESS\n",
    "\n",
    "Please make sure that you've downloaded the ExampleData from the GESS GitHub repository (https://github.com/AndrewDGillen/GESS/tree/main). We'll also need to download some single-nucleus data to work with. For this purpose, we'll use the FlyCellAtlas dataset (Li et al., 2022; DOI: 10.1126/science.abk2432)."
   ]
  },
  {
   "cell_type": "code",
   "execution_count": null,
   "metadata": {},
   "outputs": [],
   "source": [
    "#Downloads FlyCellAtlas Malpighian tubule dataset.\n",
    "#If you don't know what that is, don't worry about it, it's just an example!\n",
    "\n",
    "#This may take some time to download - please be patient!\n",
    "import urllib.request\n",
    "\n",
    "tubule_url = 'https://cloud.flycellatlas.org/index.php/s/7gfFYSQpkC4Yo8s/download/r_fca_biohub_malpighian_tubule_10x.h5ad'\n",
    "urllib.request.urlretrieve(tubule_url, \"ExampleData/SingleCellData.h5\")"
   ]
  },
  {
   "cell_type": "markdown",
   "metadata": {},
   "source": [
    "With that, we have all the data we'll need. specifically, we have:\n",
    "\n",
    "    -An example Gene List, using Drosophila melanogaster genes\n",
    "    -An example Annotation file, containing information on Drosophila Melanogaster bulk tissues (From FlyAtlas2;  DOI: 10.1093/nar/gkab971)\n",
    "    -An example Bulk RNASeq data file, containing enrichment data (FPKM/Whole insect) from female FlyAtlas2 samples\n",
    "    -Our example single-nucleus RNAseq data file\n",
    "\n",
    "When using your own files, feel free to rename columns, annotations... as necessary for your data - just be consistent! This tutorial will flag up what arguments you'll need to keep an eye on for these things."
   ]
  },
  {
   "cell_type": "code",
   "execution_count": null,
   "metadata": {},
   "outputs": [],
   "source": [
    "genelist = 'ExampleData/GeneList1.txt'\n",
    "annotation_file = 'ExampleData/annotation.csv'\n",
    "bulk_data = 'ExampleData/BulkRNASeqData.csv'\n",
    "sn_data = \"ExampleData/SingleCellData.h5\""
   ]
  },
  {
   "cell_type": "markdown",
   "metadata": {},
   "source": [
    "## Finding GESS\n",
    "\n",
    "First, let's do some single GESS calculations. These are pairwise measurements of gene expression pattern similarity, and GESS are SPECIFIC to the parameters used when calculation - ie, these are not fixed measurements associated with a pair of genes across all datasets.\n",
    "\n",
    "We'll work with two gene pairs - CapaR vs salt; and salt vs alphaTub84B/FBgn0003884. Don't worry about the biology!"
   ]
  },
  {
   "cell_type": "code",
   "execution_count": null,
   "metadata": {},
   "outputs": [],
   "source": [
    "from GESS import GESSfinder\n",
    "\n",
    "#NOTE: always define gene names in a format appropriate for the data set!!\n",
    "bulk_gene_pairs = [\n",
    "    ('FBgn0037100', 'FBgn0039872'), # CapaR vs salt\n",
    "    ('FBgn0039872', 'FBgn0003884') # salt vs alphaTub84B\n",
    "    ]\n",
    "\n",
    "sn_gene_pairs = [\n",
    "    ('CapaR', 'salt'), # CapaR vs salt\n",
    "    ('salt', 'alphaTub84B') # salt vs alphaTub84B\n",
    "    ]"
   ]
  },
  {
   "cell_type": "code",
   "execution_count": null,
   "metadata": {},
   "outputs": [],
   "source": [
    "#BULK RNAseq GESS\n",
    "\n",
    "#Firstly, let's initialise the arguments for GESSfinder Bulk mode\n",
    "\n",
    "#REQUIRED Arguments\n",
    "\n",
    "#The data file containing data for the \"query gene\". Input as querydata=<data file>\n",
    "query_data = bulk_data  \n",
    "\n",
    "#The data file containing data for the \"target gene\". This defaults to the querydata file. Input as targetdata=<data file>\n",
    "target_data = bulk_data  \n",
    "\n",
    "#The Annotation file containing metadata (ie annotation levels, species applicable) corresponding to Bulk RNAseq samples.\n",
    "#Input as annos=<annotation file>\n",
    "annos=annotation_file\n",
    "\n",
    "#The column indicating which annotations to use for the query gene. Input as q_species=<query species>\n",
    "q_species ='Drosophila melanogaster'\n",
    "\n",
    "#Annotation levels to be used for the GESS calculation - ie columns in the annotation file\n",
    "#Supply as a list! Input as targetannos = <annotation list>\n",
    "targetannos = ['Name', 'Function', 'Type']"
   ]
  },
  {
   "cell_type": "code",
   "execution_count": null,
   "metadata": {},
   "outputs": [],
   "source": [
    "#OPTIONAL Arguments\n",
    "\n",
    "#column indicating which annotations for the target gene. Defaults to the queryspecies.Input as t_species=<target species>\n",
    "t_species ='Drosophila melanogaster'\n",
    "\n",
    "#ONLY EVER use \"bulk\" analysis mode for Bulk RNAseq data. This is the default value\n",
    "analysis_mode = 'bulk'\n",
    "\n",
    "#One can choose specific annotations to disallow, regardless if they are present or not.\n",
    "#These should be listed, line-separated in the format demonstrated in \"ExampleData/UnacceptableAnnotations.txt\"\n",
    "unacceptable = ''\n",
    "\n",
    "#Boolean switch which allows GESSfinder to run in verbose mode, printing all calculation steps.\n",
    "#Useful for troubleshooting!\n",
    "verbosity = False"
   ]
  },
  {
   "cell_type": "code",
   "execution_count": null,
   "metadata": {},
   "outputs": [],
   "source": [
    "#Run the actual GESS calculation for our two comparisons with the GESSfinder command!\n",
    "\n",
    "for q_gene, t_gene in bulk_gene_pairs:\n",
    "    \n",
    "    pair_gess = GESSfinder.find_gess(\n",
    "        query_gene=q_gene, \n",
    "        query_data=query_data, \n",
    "        target_gene=t_gene, \n",
    "        target_data=target_data, \n",
    "        annos=annos,\n",
    "        targetannos=targetannos,\n",
    "        q_species=q_species,\n",
    "        t_species=t_species\n",
    "        )\n",
    "    \n",
    "    result = f'{q_gene} vs {t_gene} BULK GESS: {pair_gess}'\n",
    "    print(result)"
   ]
  },
  {
   "cell_type": "markdown",
   "metadata": {},
   "source": [
    "In the bulk data, CapaR and salt have relatively similar expression patterns, resulting in high GESS, while salt and alphaTub84B have very distinct profiles, resulting in low GESS.\n",
    "\n",
    "Specifically, CapaR and salt are essentially restricted to the Malpighian tubules, while alphaTub84B is expressed throughout the fly. Thus, at this resolution, CapaR and salt are most similarly expressed.\n",
    "\n",
    "However, is that consistent at the cell-type level? Let's find out!"
   ]
  },
  {
   "cell_type": "code",
   "execution_count": null,
   "metadata": {},
   "outputs": [],
   "source": [
    "#single-cell RNAseq GESS\n",
    "\n",
    "#Most of the arguments are the same here - but let's define everything again for clarity\n",
    "\n",
    "#REQUIRED Arguments\n",
    "\n",
    "#The data file containing data for the \"query gene\". Input as querydata=<data file>\n",
    "query_data = sn_data  \n",
    "\n",
    "#The data file containing data for the \"target gene\". This defaults to the querydata file. Input as targetdata=<data file>\n",
    "target_data = sn_data  \n",
    "\n",
    "#Single-cell GESS can be used in one of two modes\n",
    "#- \"expression\" : Calculates GESS based on average expression across each annotation\n",
    "#- \"prevalence\" : Calculates the proportion of each annotation expressing a gene\n",
    "#Functionally, these tend to give very similar results, but are provided seperately to suit the user's needs\n",
    "analysis_mode = 'expression'\n",
    "\n",
    "#Annotation levels to be used for the GESS calculation - ie column attributes in the H5AD file\n",
    "#Supply as a list! Input as targetannos = <annotation list>\n",
    "targetannos = ['annotation', 'annotation_broad']"
   ]
  },
  {
   "cell_type": "code",
   "execution_count": null,
   "metadata": {},
   "outputs": [],
   "source": [
    "#OPTIONAL Arguments\n",
    "\n",
    "#One can choose specific annotations to disallow, regardless if they are present or not.\n",
    "#These should be listed, line-separated in the format demonstrated in \"ExampleData/UnacceptableAnnotations.txt\"\n",
    "unacceptable = ''\n",
    "\n",
    "#Boolean switch which allows GESSfinder to run in verbose mode, printing all calculation steps.\n",
    "#Useful for troubleshooting!\n",
    "verbosity = False\n",
    "\n",
    "#Sets the minimum UMI required to define a cell/nucleus as expressing a gene\n",
    "#Only affects \"prevalence\" GESS calculations\n",
    "umithresh = 1"
   ]
  },
  {
   "cell_type": "code",
   "execution_count": null,
   "metadata": {},
   "outputs": [],
   "source": [
    "#Run the actual GESS calculation for our two comparisons with the GESSfinder command!\n",
    "\n",
    "for q_gene, t_gene in sn_gene_pairs:\n",
    "    \n",
    "    pair_gess = GESSfinder.find_gess(\n",
    "        query_gene=q_gene, \n",
    "        query_data=query_data, \n",
    "        target_gene=t_gene, \n",
    "        target_data=target_data, \n",
    "        targetannos=targetannos,\n",
    "        analysis_mode=analysis_mode,\n",
    "        )\n",
    "    \n",
    "    result = f'{q_gene} vs {t_gene} single-nucleus GESS: {pair_gess}'\n",
    "    print(result)"
   ]
  },
  {
   "cell_type": "markdown",
   "metadata": {},
   "source": [
    "How about that! \n",
    "\n",
    "It seems that when you consider only tubule cells, salt and alphaTub84B seem to be more similarly expressed, whilst CapaR is now more distinct from salt.\n",
    "\n",
    "The reason why is obvious when you visualise the expression data using SCoPE (https://scope.aertslab.org/). CapaR is restricted to a small subset of tubule cells, whilst salt and alphaTub84B are expressed throughout.\n",
    "\n",
    "This highlights that GESS can effectively find expression patterns within a dataset - but these cannot be interpreted too broadly! "
   ]
  },
  {
   "cell_type": "markdown",
   "metadata": {},
   "source": [
    "## Making a Matrix\n",
    "\n",
    "So far, hopefully so good!\n",
    "\n",
    "But what if you have a whole list of genes, and want to find how all of their gene expression patterns compare? In this case, we provide GESSmatricise, a tool designed for calculating pairwise GESS and subsequently hierarchically clustering genes based on their GESS scores. As a result, co-regulated genes will be very easily identified!\n",
    "\n",
    "As an example, let's consider some of the Drosophila melanogaster V-ATPase genes. Without worrying so much about the biology (though if interested, check out  DOI 10.1152/physiolgenomics.00233.2004 ), let's define two groups of genes:\n",
    "\n",
    "Epithelial: Vha100-2; Vha68-2; VhaSFD\n",
    "Non-Epithelial: Vha100-4; Vha68-3; Vha14-2\n",
    "\n",
    "These genes are very closely related - in particular, Vha100-2 & Vha100-4; and Vha68-2 & Vha68-3 are paralogous and share high sequence homology. But how does that translate to their expression pattern?\n",
    "\n",
    "Let's use GESSmatricise to find out using our two datasets!"
   ]
  },
  {
   "cell_type": "code",
   "execution_count": null,
   "metadata": {},
   "outputs": [],
   "source": [
    "from GESS import GESSmatricise\n",
    "\n",
    "#REMEMBER: always define gene names in a format appropriate for the data set!!\n",
    "#You can also provide the PATH to a file containing list-separated genes of interest (e.g. ExampleData/GeneList1.txt)\n",
    "bulk_genelist = ['FBgn0028670', 'FBgn0038613', 'FBgn0263598', 'FBgn0032464','FBgn0027779','FBgn0037402']\n",
    "sn_genelist = ['Vha100-2', 'Vha100-4', 'Vha68-2', 'Vha68-3', 'VhaSFD', 'Vha14-2']"
   ]
  },
  {
   "cell_type": "code",
   "execution_count": null,
   "metadata": {},
   "outputs": [],
   "source": [
    "#BULK RNAseq GESS MATRIX\n",
    "\n",
    "#Firstly, let's initialise the arguments for matriciseGESSfinder Bulk mode\n",
    "\n",
    "#REQUIRED Arguments\n",
    "\n",
    "#query_genes takes the list of genes as defined above\n",
    "query_genes = bulk_genelist\n",
    "\n",
    "#The data file containing data for the \"query gene\". Input as querydata=<data file>\n",
    "querydata = bulk_data  \n",
    "\n",
    "#The Annotation file containing metadata (ie annotation levels, species applicable) corresponding to Bulk RNAseq samples.\n",
    "#Input as annos=<annotation file>\n",
    "annotations=annotation_file\n",
    "\n",
    "#The column indicating which annotations to use for the query gene. Input as q_species=<query species>\n",
    "q_species ='Drosophila melanogaster'\n",
    "\n",
    "#Annotation levels to be used for the GESS calculation - ie columns in the annotation file\n",
    "#Supply as a list! Input as targetannos = <annotation list>\n",
    "targetannos = ['Name', 'Function', 'Type']"
   ]
  },
  {
   "cell_type": "code",
   "execution_count": null,
   "metadata": {},
   "outputs": [],
   "source": [
    "#OPTIONAL Arguments\n",
    "\n",
    "#It is possible to make non-symmetrical matrices by defining differing query and target genelists\n",
    "#target_genes takes the list of genes as for query_genes\n",
    "target_genes = bulk_genelist\n",
    "\n",
    "#column indicating which annotations for the target gene. Defaults to the queryspecies.Input as t_species=<target species>\n",
    "t_species ='Drosophila melanogaster'\n",
    "\n",
    "#The data file containing data for the \"target gene\". This defaults to the querydata file. Input as targetdata=<data file>\n",
    "target_data = bulk_data  \n",
    "\n",
    "#ONLY EVER use \"bulk\" analysis mode for Bulk RNAseq data. This is the default value\n",
    "analysis_mode = 'bulk'\n",
    "\n",
    "#One can choose specific annotations to disallow, regardless if they are present or not.\n",
    "#These should be listed, line-separated in the format demonstrated in \"ExampleData/UnacceptableAnnotations.txt\"\n",
    "unacceptable = ''\n",
    "\n",
    "#Boolean switch which allows GESSfinder to run in verbose mode, printing all calculation steps.\n",
    "#Useful for troubleshooting!\n",
    "verbosity = False\n",
    "\n",
    "#Defines a location to save the created GESS matrix. \n",
    "#Usable file extensions are:\n",
    "#If left blank, the resulting plot will just be shown\n",
    "savefilename=''\n",
    "\n",
    "#Defines the hierarchical clustering strategy used to cluster data.\n",
    "#By default, GESS uses WPMA clustering\n",
    "cluster_method='weighted'\n",
    "\n",
    "#A boolean switch to label the matrix with actual GESS values over each relationship.\n",
    "#By default, this is off - and I'd recommend not using it for large matrices, it gets messy!\n",
    "labelling=False"
   ]
  },
  {
   "cell_type": "code",
   "execution_count": null,
   "metadata": {},
   "outputs": [],
   "source": [
    "#Call GESSmatricise using GESSmatricise.gess_matricise!\n",
    "\n",
    "GESSmatricise.gess_matricise(\n",
    "    query_genes=query_genes, \n",
    "    querydata=querydata, \n",
    "    annotations=annotations,\n",
    "    targetannos=targetannos,\n",
    "    queryspecies=q_species,\n",
    "    )"
   ]
  },
  {
   "cell_type": "markdown",
   "metadata": {},
   "source": [
    "With that, the Epithelial and Non-Epithelial Vha genes should be distict, forming seperate clusters based solely on the expression data!\n",
    "\n",
    "Let's check again with the single-nucleus dataset"
   ]
  },
  {
   "cell_type": "code",
   "execution_count": null,
   "metadata": {},
   "outputs": [],
   "source": [
    "#single-cell RNAseq GESS MATRIX\n",
    "\n",
    "#Firstly, let's initialise the arguments for matriciseGESSfinder Single Cell mode\n",
    "\n",
    "#REQUIRED Arguments\n",
    "\n",
    "#query_genes takes the list of genes as defined above\n",
    "query_genes = sn_genelist\n",
    "\n",
    "#The data file containing data for the \"query gene\". Input as querydata=<data file>\n",
    "querydata = sn_data  \n",
    "\n",
    "#Single-cell GESS can be used in one of two modes\n",
    "#- \"expression\" : Calculates GESS based on average expression across each annotation\n",
    "#- \"prevalence\" : Calculates the proportion of each annotation expressing a gene\n",
    "#Functionally, these tend to give very similar results, but are provided seperately to suit the user's needs\n",
    "analysis_mode = 'expression'\n",
    "\n",
    "#Annotation levels to be used for the GESS calculation - ie column attributes in the H5AD file\n",
    "#Supply as a list! Input as targetannos = <annotation list>\n",
    "targetannos = ['annotation', 'annotation_broad']"
   ]
  },
  {
   "cell_type": "code",
   "execution_count": null,
   "metadata": {},
   "outputs": [],
   "source": [
    "#OPTIONAL Arguments\n",
    "\n",
    "#It is possible to make non-symmetrical matrices by defining differing query and target genelists\n",
    "#target_genes takes the list of genes as for query_genes\n",
    "target_genes = bulk_genelist\n",
    "\n",
    "#The data file containing data for the \"target gene\". This defaults to the querydata file. Input as targetdata=<data file>\n",
    "target_data = bulk_data  \n",
    "\n",
    "#One can choose specific annotations to disallow, regardless if they are present or not.\n",
    "#These should be listed, line-separated in the format demonstrated in \"ExampleData/UnacceptableAnnotations.txt\"\n",
    "unacceptable = ''\n",
    "\n",
    "#Boolean switch which allows GESSfinder to run in verbose mode, printing all calculation steps.\n",
    "#Useful for troubleshooting!\n",
    "verbosity = False\n",
    "\n",
    "#Defines a location to save the created GESS matrix. \n",
    "#Usable file extensions are:\n",
    "#If left blank, the resulting plot will just be shown\n",
    "savefilename=''\n",
    "\n",
    "#Defines the hierarchical clustering strategy used to cluster data.\n",
    "#By default, GESS uses WPMA clustering\n",
    "cluster_method='weighted'\n",
    "\n",
    "#A boolean switch to label the matrix with actual GESS values over each relationship.\n",
    "#By default, this is off - and I'd recommend not using it for large matrices, it gets messy!\n",
    "labelling=False"
   ]
  },
  {
   "cell_type": "code",
   "execution_count": null,
   "metadata": {},
   "outputs": [],
   "source": [
    "#Call GESSmatricise using GESSmatricise.gess_matricise!\n",
    "\n",
    "GESSmatricise.gess_matricise(\n",
    "    query_genes=query_genes, \n",
    "    querydata=querydata,\n",
    "    analysis_mode=analysis_mode,\n",
    "    targetannos=targetannos,\n",
    "    )"
   ]
  },
  {
   "cell_type": "markdown",
   "metadata": {},
   "source": [
    "And that's it!\n",
    "\n",
    "We wish you every success with GESS, and if you have any difficulties at all, please do get in touch at either:\n",
    "\n",
    "-The GESS Github repo (https://github.com/AndrewDGillen/GESS/issues)\n",
    "\n",
    "-The developer's email (andrew.gillen@glasgow.ac.uk)"
   ]
  }
 ],
 "metadata": {
  "kernelspec": {
   "display_name": "Python 3",
   "language": "python",
   "name": "python3"
  },
  "language_info": {
   "codemirror_mode": {
    "name": "ipython",
    "version": 3
   },
   "file_extension": ".py",
   "mimetype": "text/x-python",
   "name": "python",
   "nbconvert_exporter": "python",
   "pygments_lexer": "ipython3",
   "version": "3.11.0"
  }
 },
 "nbformat": 4,
 "nbformat_minor": 2
}
